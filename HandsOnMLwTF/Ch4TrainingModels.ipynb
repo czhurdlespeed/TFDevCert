{
 "cells": [
  {
   "cell_type": "markdown",
   "id": "afe1b070-c623-4496-8af0-aa9ae567c17f",
   "metadata": {},
   "source": [
    "# Traning Models "
   ]
  },
  {
   "cell_type": "markdown",
   "id": "52a262e8-4884-445d-9f89-ad6ba209939d",
   "metadata": {},
   "source": [
    "## Linear Regression"
   ]
  },
  {
   "cell_type": "markdown",
   "id": "46e54646-a32e-42a0-b2eb-f477b360ad82",
   "metadata": {},
   "source": [
    "### The Normal Equation "
   ]
  },
  {
   "cell_type": "code",
   "execution_count": 1,
   "id": "5f2e38d9-6255-4567-b928-4fe4ef754954",
   "metadata": {},
   "outputs": [],
   "source": [
    "import matplotlib.pyplot as plt\n",
    "import numpy as np\n"
   ]
  },
  {
   "cell_type": "code",
   "execution_count": 2,
   "id": "bb191373-e5f9-492f-bc10-0bd5b886e040",
   "metadata": {},
   "outputs": [],
   "source": [
    "X = 2 * np.random.rand(100,1) # random values between 0 and 1 that is a column vector of 100 elements\n",
    "y = 4 * 3*X + np.random.randn(100,1)"
   ]
  },
  {
   "cell_type": "code",
   "execution_count": 4,
   "id": "9b79a2d6-09ed-4231-baf7-0a9c2d76c6d4",
   "metadata": {},
   "outputs": [
    {
     "data": {
      "image/png": "[encoded data removed]",
      "text/plain": [
       "<Figure size 640x480 with 1 Axes>"
      ]
     },
     "metadata": {},
     "output_type": "display_data"
    }
   ],
   "source": [
    "plt.plot(X,y,\".\")\n",
    "plt.show()"
   ]
  },
  {
   "cell_type": "code",
   "execution_count": 5,
   "id": "426f6e53-ed6f-4865-aab4-f596d954cd4f",
   "metadata": {},
   "outputs": [
    {
     "data": {
      "text/plain": [
       "array([[1.        , 1.42699435],\n",
       "       [1.        , 1.54512441],\n",
       "       [1.        , 1.30561452],\n",
       "       [1.        , 1.7678996 ],\n",
       "       [1.        , 0.70159638],\n",
       "       [1.        , 1.84751869],\n",
       "       [1.        , 0.30057828],\n",
       "       [1.        , 1.3663237 ],\n",
       "       [1.        , 0.2435919 ],\n",
       "       [1.        , 0.36892508],\n",
       "       [1.        , 0.21927762],\n",
       "       [1.        , 0.0674001 ],\n",
       "       [1.        , 0.51935518],\n",
       "       [1.        , 0.76727127],\n",
       "       [1.        , 1.34389408],\n",
       "       [1.        , 1.21320156],\n",
       "       [1.        , 0.02227352],\n",
       "       [1.        , 0.75671471],\n",
       "       [1.        , 1.58093779],\n",
       "       [1.        , 1.85814871],\n",
       "       [1.        , 0.63345589],\n",
       "       [1.        , 0.51461408],\n",
       "       [1.        , 1.22454575],\n",
       "       [1.        , 0.09155556],\n",
       "       [1.        , 1.56193027],\n",
       "       [1.        , 0.80264291],\n",
       "       [1.        , 0.77398103],\n",
       "       [1.        , 0.26008206],\n",
       "       [1.        , 0.56397544],\n",
       "       [1.        , 1.25020056],\n",
       "       [1.        , 1.81971912],\n",
       "       [1.        , 0.41731151],\n",
       "       [1.        , 1.06366836],\n",
       "       [1.        , 0.60574898],\n",
       "       [1.        , 0.09110273],\n",
       "       [1.        , 1.29260408],\n",
       "       [1.        , 0.84971412],\n",
       "       [1.        , 1.70953504],\n",
       "       [1.        , 1.42642591],\n",
       "       [1.        , 1.57531514],\n",
       "       [1.        , 1.57048168],\n",
       "       [1.        , 1.31171322],\n",
       "       [1.        , 1.50442358],\n",
       "       [1.        , 1.14565701],\n",
       "       [1.        , 1.41877471],\n",
       "       [1.        , 0.57032353],\n",
       "       [1.        , 0.41168952],\n",
       "       [1.        , 0.05111029],\n",
       "       [1.        , 1.98177825],\n",
       "       [1.        , 0.529273  ],\n",
       "       [1.        , 0.86998755],\n",
       "       [1.        , 1.19581434],\n",
       "       [1.        , 1.17892375],\n",
       "       [1.        , 1.67777554],\n",
       "       [1.        , 1.05847179],\n",
       "       [1.        , 1.61848347],\n",
       "       [1.        , 1.40136499],\n",
       "       [1.        , 1.55059692],\n",
       "       [1.        , 0.77371747],\n",
       "       [1.        , 0.41168313],\n",
       "       [1.        , 1.23274281],\n",
       "       [1.        , 1.85033095],\n",
       "       [1.        , 0.31641669],\n",
       "       [1.        , 1.62506761],\n",
       "       [1.        , 1.73385806],\n",
       "       [1.        , 0.98535145],\n",
       "       [1.        , 1.52867583],\n",
       "       [1.        , 1.14544983],\n",
       "       [1.        , 1.40317326],\n",
       "       [1.        , 0.30135106],\n",
       "       [1.        , 0.45925986],\n",
       "       [1.        , 1.72923611],\n",
       "       [1.        , 1.34869697],\n",
       "       [1.        , 0.0237519 ],\n",
       "       [1.        , 0.07915612],\n",
       "       [1.        , 0.91184235],\n",
       "       [1.        , 0.69050342],\n",
       "       [1.        , 1.84135203],\n",
       "       [1.        , 1.85027881],\n",
       "       [1.        , 1.85348191],\n",
       "       [1.        , 1.72689195],\n",
       "       [1.        , 0.19223008],\n",
       "       [1.        , 1.50838512],\n",
       "       [1.        , 1.56181989],\n",
       "       [1.        , 1.80962964],\n",
       "       [1.        , 1.51952022],\n",
       "       [1.        , 1.39988603],\n",
       "       [1.        , 0.19931168],\n",
       "       [1.        , 0.74671862],\n",
       "       [1.        , 1.38395168],\n",
       "       [1.        , 0.27533279],\n",
       "       [1.        , 0.7650258 ],\n",
       "       [1.        , 0.14576248],\n",
       "       [1.        , 1.88526879],\n",
       "       [1.        , 1.86036068],\n",
       "       [1.        , 1.03602076],\n",
       "       [1.        , 0.20510817],\n",
       "       [1.        , 1.19422307],\n",
       "       [1.        , 0.49465598],\n",
       "       [1.        , 1.89028038]])"
      ]
     },
     "execution_count": 5,
     "metadata": {},
     "output_type": "execute_result"
    }
   ],
   "source": [
    "# Now let's use the Normal Equation\n",
    "X_b = np.c_[np.ones((100,1)),X] # add x0 = 1 to\n",
    "X_b"
   ]
  },
  {
   "cell_type": "code",
   "execution_count": 6,
   "id": "29b9c885-13b7-4402-9ba3-f7de8d596323",
   "metadata": {},
   "outputs": [],
   "source": [
    "theta_best = np.linalg.inv(X_b.T.dot(X_b)).dot(X_b.T).dot(y)"
   ]
  },
  {
   "cell_type": "code",
   "execution_count": 7,
   "id": "044dfce5-db6d-4585-b728-9b30840d73e1",
   "metadata": {},
   "outputs": [
    {
     "data": {
      "text/plain": [
       "array([[ 0.28576696],\n",
       "       [11.97334018]])"
      ]
     },
     "execution_count": 7,
     "metadata": {},
     "output_type": "execute_result"
    }
   ],
   "source": [
    "theta_best"
   ]
  },
  {
   "cell_type": "code",
   "execution_count": 8,
   "id": "9f87f5a3-283f-483f-b798-e560cd6d6b94",
   "metadata": {},
   "outputs": [],
   "source": [
    "X_new = np.array([[0],[2]])"
   ]
  },
  {
   "cell_type": "code",
   "execution_count": 9,
   "id": "edfe20c0-fc19-48c5-bbf8-dc1d4d062ce3",
   "metadata": {},
   "outputs": [
    {
     "data": {
      "text/plain": [
       "array([[0],\n",
       "       [2]])"
      ]
     },
     "execution_count": 9,
     "metadata": {},
     "output_type": "execute_result"
    }
   ],
   "source": [
    "X_new"
   ]
  },
  {
   "cell_type": "code",
   "execution_count": 13,
   "id": "5d2ea384-a37e-4b02-9b26-daa85acead54",
   "metadata": {},
   "outputs": [
    {
     "data": {
      "text/plain": [
       "array([[1., 0.],\n",
       "       [1., 2.]])"
      ]
     },
     "execution_count": 13,
     "metadata": {},
     "output_type": "execute_result"
    }
   ],
   "source": [
    "X_new_b = np.c_[np.ones((2,1)),X_new]\n",
    "X_new_b"
   ]
  },
  {
   "cell_type": "code",
   "execution_count": 23,
   "id": "9d493eac-e894-424d-a4ac-70db7e26a25c",
   "metadata": {},
   "outputs": [
    {
     "data": {
      "text/plain": [
       "array([[ 0.28576696],\n",
       "       [24.23244731]])"
      ]
     },
     "execution_count": 23,
     "metadata": {},
     "output_type": "execute_result"
    }
   ],
   "source": [
    "y_predict = X_new_b.dot(theta_best)\n",
    "y_predict"
   ]
  },
  {
   "cell_type": "code",
   "execution_count": 24,
   "id": "7e42e652-4bb6-43bd-94de-f49a86ea423d",
   "metadata": {},
   "outputs": [
    {
     "data": {
      "image/png": "[encoded data removed]",
      "text/plain": [
       "<Figure size 640x480 with 1 Axes>"
      ]
     },
     "metadata": {},
     "output_type": "display_data"
    }
   ],
   "source": [
    "plt.plot(X_new, y_predict,\"r-\")\n",
    "plt.plot(X,y,\"b.\")\n",
    "plt.xlabel(\"X\")\n",
    "plt.ylabel(\"y\")\n",
    "plt.axis([0,2,0,30])\n",
    "plt.show()"
   ]
  },
  {
   "cell_type": "code",
   "execution_count": 25,
   "id": "5ee6babb-e546-4e97-9bf1-5883a0f70f90",
   "metadata": {},
   "outputs": [],
   "source": [
    "# ^^^^^Good fit using Normal Equation!"
   ]
  },
  {
   "cell_type": "code",
   "execution_count": 26,
   "id": "f9b6cce6-4418-4c77-a41a-19d1698b54f4",
   "metadata": {},
   "outputs": [
    {
     "data": {
      "text/plain": [
       "(array([0.28576696]), array([[11.97334018]]))"
      ]
     },
     "execution_count": 26,
     "metadata": {},
     "output_type": "execute_result"
    }
   ],
   "source": [
    "# You can also do this using the Sklearn library\n",
    "from sklearn.linear_model import LinearRegression\n",
    "lin_reg = LinearRegression()\n",
    "lin_reg.fit(X,y) # fit to the data points\n",
    "lin_reg.intercept_, lin_reg.coef_"
   ]
  },
  {
   "cell_type": "code",
   "execution_count": 28,
   "id": "6c20b95e-0da1-4ad5-ade9-4b3a6e79a136",
   "metadata": {},
   "outputs": [
    {
     "data": {
      "text/plain": [
       "array([[ 0.28576696],\n",
       "       [24.23244731]])"
      ]
     },
     "execution_count": 28,
     "metadata": {},
     "output_type": "execute_result"
    }
   ],
   "source": [
    "lin_reg.predict(X_new) # note this is the same as the normal eqn!!"
   ]
  },
  {
   "cell_type": "code",
   "execution_count": 29,
   "id": "e0862fee-625f-4722-9df2-5a92f7e20ea9",
   "metadata": {},
   "outputs": [],
   "source": [
    "# Inverting the matrices to find the fitting parameters is ~ O(n^3)\n",
    "# Once found, making predictions is O(n)"
   ]
  },
  {
   "cell_type": "markdown",
   "id": "62cefdbf-6aaa-4baa-a946-96910984989c",
   "metadata": {},
   "source": [
    "### Gradient Descent "
   ]
  },
  {
   "cell_type": "code",
   "execution_count": 32,
   "id": "4775693f-2f67-4ad9-aa60-95e4ae978a52",
   "metadata": {},
   "outputs": [],
   "source": [
    "# go in direction of the descending gradient; cost function : different between predictions and true values\n",
    "# with each step attempting to decrease the cost function\n",
    "# hyperameter: stepsize (learning rate)\n",
    "# make sure all features have similar scales; if not, learning will take longer!\n",
    "# need to take partial derivative of cost function with respect to each parameter!"
   ]
  },
  {
   "cell_type": "markdown",
   "id": "903a2d32-3ff2-46ad-8a02-4bc8c94e72af",
   "metadata": {},
   "source": [
    "#### Batch Gradient descent"
   ]
  },
  {
   "cell_type": "code",
   "execution_count": 34,
   "id": "3308715d-534c-41aa-86af-fb74820f6e19",
   "metadata": {},
   "outputs": [],
   "source": [
    "# uses entire training set to calculate all partial derivates per step\n",
    "# this is still slow but faster than the matrix inversions in the Normal Equation/SVD Decomposition\n",
    "# smaller learning rates will result in a more accurate answer but take longer to converge\n",
    "#    Convergence ~ (1/eps) where eps is the tolerance; if you half eps, convergence will take twice as long!!"
   ]
  },
  {
   "cell_type": "code",
   "execution_count": null,
   "id": "2cca0809-6b63-48d5-96a4-f0f53bf696a4",
   "metadata": {},
   "outputs": [],
   "source": []
  }
 ],
 "metadata": {
  "kernelspec": {
   "display_name": "Python 3 (ipykernel)",
   "language": "python",
   "name": "python3"
  },
  "language_info": {
   "codemirror_mode": {
    "name": "ipython",
    "version": 3
   },
   "file_extension": ".py",
   "mimetype": "text/x-python",
   "name": "python",
   "nbconvert_exporter": "python",
   "pygments_lexer": "ipython3",
   "version": "3.12.0"
  }
 },
 "nbformat": 4,
 "nbformat_minor": 5
}
