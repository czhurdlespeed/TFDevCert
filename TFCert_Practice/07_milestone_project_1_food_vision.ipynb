{
  "nbformat": 4,
  "nbformat_minor": 0,
  "metadata": {
    "colab": {
      "provenance": [],
      "gpuType": "T4",
      "authorship_tag": "ABX9TyMbjpTea1yT6cqKkJO3QtxR",
      "include_colab_link": true
    },
    "kernelspec": {
      "name": "python3",
      "display_name": "Python 3"
    },
    "language_info": {
      "name": "python"
    },
    "accelerator": "GPU"
  },
  "cells": [
    {
      "cell_type": "markdown",
      "metadata": {
        "id": "view-in-github",
        "colab_type": "text"
      },
      "source": [
        "<a href=\"https://colab.research.google.com/github/czhurdlespeed/TFDevCert/blob/main/TFCert_Practice/07_milestone_project_1_food_vision.ipynb\" target=\"_parent\"><img src=\"https://colab.research.google.com/assets/colab-badge.svg\" alt=\"Open In Colab\"/></a>"
      ]
    },
    {
      "cell_type": "markdown",
      "source": [
        "# Mileston Project 1: Food Vision Big"
      ],
      "metadata": {
        "id": "62Ts1JZw3xUk"
      }
    },
    {
      "cell_type": "markdown",
      "source": [
        "## Check GPU"
      ],
      "metadata": {
        "id": "HB2A_y_k4Aox"
      }
    },
    {
      "cell_type": "code",
      "source": [
        "!nvidia-smi"
      ],
      "metadata": {
        "id": "i07ds4Xj4IGv",
        "colab": {
          "base_uri": "https://localhost:8080/"
        },
        "outputId": "5a72c5bf-c520-46a2-b138-5298b885c1da"
      },
      "execution_count": 32,
      "outputs": [
        {
          "output_type": "stream",
          "name": "stdout",
          "text": [
            "Thu Jan 25 14:36:42 2024       \n",
            "+---------------------------------------------------------------------------------------+\n",
            "| NVIDIA-SMI 535.104.05             Driver Version: 535.104.05   CUDA Version: 12.2     |\n",
            "|-----------------------------------------+----------------------+----------------------+\n",
            "| GPU  Name                 Persistence-M | Bus-Id        Disp.A | Volatile Uncorr. ECC |\n",
            "| Fan  Temp   Perf          Pwr:Usage/Cap |         Memory-Usage | GPU-Util  Compute M. |\n",
            "|                                         |                      |               MIG M. |\n",
            "|=========================================+======================+======================|\n",
            "|   0  Tesla T4                       Off | 00000000:00:04.0 Off |                    0 |\n",
            "| N/A   67C    P0              30W /  70W |    135MiB / 15360MiB |      0%      Default |\n",
            "|                                         |                      |                  N/A |\n",
            "+-----------------------------------------+----------------------+----------------------+\n",
            "                                                                                         \n",
            "+---------------------------------------------------------------------------------------+\n",
            "| Processes:                                                                            |\n",
            "|  GPU   GI   CI        PID   Type   Process name                            GPU Memory |\n",
            "|        ID   ID                                                             Usage      |\n",
            "|=======================================================================================|\n",
            "+---------------------------------------------------------------------------------------+\n"
          ]
        }
      ]
    },
    {
      "cell_type": "markdown",
      "source": [
        "## Get helper functions\n",
        "\n",
        "Using functions from previous modules"
      ],
      "metadata": {
        "id": "r_74V8Xt4cyw"
      }
    },
    {
      "cell_type": "code",
      "source": [
        "!wget https://github.com/mrdbourke/tensorflow-deep-learning/raw/main/extras/helper_functions.py"
      ],
      "metadata": {
        "id": "d0uLD6Zz6PjT",
        "colab": {
          "base_uri": "https://localhost:8080/"
        },
        "outputId": "f92909f3-02c1-4b1e-d1b1-ccbfbd8db6f7"
      },
      "execution_count": 33,
      "outputs": [
        {
          "output_type": "stream",
          "name": "stdout",
          "text": [
            "--2024-01-25 14:36:42--  https://github.com/mrdbourke/tensorflow-deep-learning/raw/main/extras/helper_functions.py\n",
            "Resolving github.com (github.com)... 192.30.255.113\n",
            "Connecting to github.com (github.com)|192.30.255.113|:443... connected.\n",
            "HTTP request sent, awaiting response... 302 Found\n",
            "Location: https://raw.githubusercontent.com/mrdbourke/tensorflow-deep-learning/main/extras/helper_functions.py [following]\n",
            "--2024-01-25 14:36:42--  https://raw.githubusercontent.com/mrdbourke/tensorflow-deep-learning/main/extras/helper_functions.py\n",
            "Resolving raw.githubusercontent.com (raw.githubusercontent.com)... 185.199.111.133, 185.199.109.133, 185.199.108.133, ...\n",
            "Connecting to raw.githubusercontent.com (raw.githubusercontent.com)|185.199.111.133|:443... connected.\n",
            "HTTP request sent, awaiting response... 200 OK\n",
            "Length: 10246 (10K) [text/plain]\n",
            "Saving to: ‘helper_functions.py.1’\n",
            "\n",
            "helper_functions.py 100%[===================>]  10.01K  --.-KB/s    in 0s      \n",
            "\n",
            "2024-01-25 14:36:42 (95.6 MB/s) - ‘helper_functions.py.1’ saved [10246/10246]\n",
            "\n"
          ]
        }
      ]
    },
    {
      "cell_type": "code",
      "source": [
        "from helper_functions import unzip_data, create_tensorboard_callback, plot_loss_curves, compare_historys"
      ],
      "metadata": {
        "id": "-Rev9CXM6XNu"
      },
      "execution_count": 34,
      "outputs": []
    },
    {
      "cell_type": "markdown",
      "source": [
        "## Use Tensorflow Datasets to Download Data"
      ],
      "metadata": {
        "id": "2aRFkT766rxc"
      }
    },
    {
      "cell_type": "code",
      "source": [
        "# Get TensorFlow Datasets\n",
        "import tensorflow_datasets as tfds\n"
      ],
      "metadata": {
        "id": "uxXEyeNT63yO"
      },
      "execution_count": 35,
      "outputs": []
    },
    {
      "cell_type": "code",
      "source": [
        "# List all available datasets\n",
        "datasets_list = tfds.list_builders()"
      ],
      "metadata": {
        "id": "H26SBIr_7oAC"
      },
      "execution_count": 36,
      "outputs": []
    },
    {
      "cell_type": "code",
      "source": [
        "print(\"food101\" in datasets_list)"
      ],
      "metadata": {
        "id": "-tkGSCZa7s5D",
        "colab": {
          "base_uri": "https://localhost:8080/"
        },
        "outputId": "46d14e0b-6e83-430f-b904-28d84f172f1c"
      },
      "execution_count": 37,
      "outputs": [
        {
          "output_type": "stream",
          "name": "stdout",
          "text": [
            "True\n"
          ]
        }
      ]
    },
    {
      "cell_type": "code",
      "source": [
        "# Load in the data\n",
        "(train_data, test_data), ds_info = tfds.load(name=\"food101\", split = [\"train\", \"validation\"], shuffle_files=True, as_supervised=True,\n",
        "                                             with_info=True)"
      ],
      "metadata": {
        "id": "8lG0l0kO7wOD"
      },
      "execution_count": 38,
      "outputs": []
    },
    {
      "cell_type": "code",
      "source": [
        "ds_info.features"
      ],
      "metadata": {
        "id": "IZg-fVj58yvR",
        "colab": {
          "base_uri": "https://localhost:8080/"
        },
        "outputId": "79a324ed-9d9a-40d7-a9b3-a15c00254316"
      },
      "execution_count": 39,
      "outputs": [
        {
          "output_type": "execute_result",
          "data": {
            "text/plain": [
              "FeaturesDict({\n",
              "    'image': Image(shape=(None, None, 3), dtype=uint8),\n",
              "    'label': ClassLabel(shape=(), dtype=int64, num_classes=101),\n",
              "})"
            ]
          },
          "metadata": {},
          "execution_count": 39
        }
      ]
    },
    {
      "cell_type": "code",
      "source": [
        "# Get the class names\n",
        "class_names = ds_info.features[\"label\"].names\n",
        "class_names"
      ],
      "metadata": {
        "id": "HfX_O4zr_7Aa",
        "colab": {
          "base_uri": "https://localhost:8080/"
        },
        "outputId": "c41295ad-d22e-49ab-cc54-fa694cdffc25"
      },
      "execution_count": 40,
      "outputs": [
        {
          "output_type": "execute_result",
          "data": {
            "text/plain": [
              "['apple_pie',\n",
              " 'baby_back_ribs',\n",
              " 'baklava',\n",
              " 'beef_carpaccio',\n",
              " 'beef_tartare',\n",
              " 'beet_salad',\n",
              " 'beignets',\n",
              " 'bibimbap',\n",
              " 'bread_pudding',\n",
              " 'breakfast_burrito',\n",
              " 'bruschetta',\n",
              " 'caesar_salad',\n",
              " 'cannoli',\n",
              " 'caprese_salad',\n",
              " 'carrot_cake',\n",
              " 'ceviche',\n",
              " 'cheesecake',\n",
              " 'cheese_plate',\n",
              " 'chicken_curry',\n",
              " 'chicken_quesadilla',\n",
              " 'chicken_wings',\n",
              " 'chocolate_cake',\n",
              " 'chocolate_mousse',\n",
              " 'churros',\n",
              " 'clam_chowder',\n",
              " 'club_sandwich',\n",
              " 'crab_cakes',\n",
              " 'creme_brulee',\n",
              " 'croque_madame',\n",
              " 'cup_cakes',\n",
              " 'deviled_eggs',\n",
              " 'donuts',\n",
              " 'dumplings',\n",
              " 'edamame',\n",
              " 'eggs_benedict',\n",
              " 'escargots',\n",
              " 'falafel',\n",
              " 'filet_mignon',\n",
              " 'fish_and_chips',\n",
              " 'foie_gras',\n",
              " 'french_fries',\n",
              " 'french_onion_soup',\n",
              " 'french_toast',\n",
              " 'fried_calamari',\n",
              " 'fried_rice',\n",
              " 'frozen_yogurt',\n",
              " 'garlic_bread',\n",
              " 'gnocchi',\n",
              " 'greek_salad',\n",
              " 'grilled_cheese_sandwich',\n",
              " 'grilled_salmon',\n",
              " 'guacamole',\n",
              " 'gyoza',\n",
              " 'hamburger',\n",
              " 'hot_and_sour_soup',\n",
              " 'hot_dog',\n",
              " 'huevos_rancheros',\n",
              " 'hummus',\n",
              " 'ice_cream',\n",
              " 'lasagna',\n",
              " 'lobster_bisque',\n",
              " 'lobster_roll_sandwich',\n",
              " 'macaroni_and_cheese',\n",
              " 'macarons',\n",
              " 'miso_soup',\n",
              " 'mussels',\n",
              " 'nachos',\n",
              " 'omelette',\n",
              " 'onion_rings',\n",
              " 'oysters',\n",
              " 'pad_thai',\n",
              " 'paella',\n",
              " 'pancakes',\n",
              " 'panna_cotta',\n",
              " 'peking_duck',\n",
              " 'pho',\n",
              " 'pizza',\n",
              " 'pork_chop',\n",
              " 'poutine',\n",
              " 'prime_rib',\n",
              " 'pulled_pork_sandwich',\n",
              " 'ramen',\n",
              " 'ravioli',\n",
              " 'red_velvet_cake',\n",
              " 'risotto',\n",
              " 'samosa',\n",
              " 'sashimi',\n",
              " 'scallops',\n",
              " 'seaweed_salad',\n",
              " 'shrimp_and_grits',\n",
              " 'spaghetti_bolognese',\n",
              " 'spaghetti_carbonara',\n",
              " 'spring_rolls',\n",
              " 'steak',\n",
              " 'strawberry_shortcake',\n",
              " 'sushi',\n",
              " 'tacos',\n",
              " 'takoyaki',\n",
              " 'tiramisu',\n",
              " 'tuna_tartare',\n",
              " 'waffles']"
            ]
          },
          "metadata": {},
          "execution_count": 40
        }
      ]
    },
    {
      "cell_type": "markdown",
      "source": [
        "## Exploring the Food101 data from TF Datasets"
      ],
      "metadata": {
        "id": "iwPRnHpVAOZb"
      }
    },
    {
      "cell_type": "code",
      "source": [
        "# Take one sample\n",
        "train_data"
      ],
      "metadata": {
        "id": "kUDsr-LUAfZU",
        "colab": {
          "base_uri": "https://localhost:8080/"
        },
        "outputId": "8badba60-723a-4996-a533-120369bb76c0"
      },
      "execution_count": 41,
      "outputs": [
        {
          "output_type": "execute_result",
          "data": {
            "text/plain": [
              "<_PrefetchDataset element_spec=(TensorSpec(shape=(None, None, 3), dtype=tf.uint8, name=None), TensorSpec(shape=(), dtype=tf.int64, name=None))>"
            ]
          },
          "metadata": {},
          "execution_count": 41
        }
      ]
    },
    {
      "cell_type": "code",
      "source": [
        "train_one_sample = train_data.take(1)"
      ],
      "metadata": {
        "id": "wug9G8fyA_re"
      },
      "execution_count": 42,
      "outputs": []
    },
    {
      "cell_type": "code",
      "source": [
        "train_one_sample"
      ],
      "metadata": {
        "id": "iD-KlG6oBDGG",
        "colab": {
          "base_uri": "https://localhost:8080/"
        },
        "outputId": "53af8e3e-244c-4125-f0d0-79ecbe06de31"
      },
      "execution_count": 43,
      "outputs": [
        {
          "output_type": "execute_result",
          "data": {
            "text/plain": [
              "<_TakeDataset element_spec=(TensorSpec(shape=(None, None, 3), dtype=tf.uint8, name=None), TensorSpec(shape=(), dtype=tf.int64, name=None))>"
            ]
          },
          "metadata": {},
          "execution_count": 43
        }
      ]
    },
    {
      "cell_type": "code",
      "source": [
        "# Output info about our training sample\n",
        "for image, label in train_one_sample:\n",
        "  print(f\"\"\"\n",
        "  Image shape: {image.shape},\n",
        "  Image datatype: {image.dtype},\n",
        "  Target Food101 class: {label},\n",
        "  Class name: {class_names[label.numpy()]}\n",
        "  \"\"\")"
      ],
      "metadata": {
        "id": "E8378zDcBS23",
        "colab": {
          "base_uri": "https://localhost:8080/"
        },
        "outputId": "936f6d7e-e9a8-41ec-f884-913a3b6ba987"
      },
      "execution_count": 44,
      "outputs": [
        {
          "output_type": "stream",
          "name": "stdout",
          "text": [
            "\n",
            "  Image shape: (306, 512, 3),\n",
            "  Image datatype: <dtype: 'uint8'>,\n",
            "  Target Food101 class: 29,\n",
            "  Class name: cup_cakes\n",
            "  \n"
          ]
        }
      ]
    },
    {
      "cell_type": "code",
      "source": [
        "# What does our image tensor from TFDS's Food101 look like?\n",
        "image"
      ],
      "metadata": {
        "id": "huW1cigHB9AX",
        "colab": {
          "base_uri": "https://localhost:8080/"
        },
        "outputId": "bad1f9b2-0888-4001-8e2a-1ec8c7dd1fad"
      },
      "execution_count": 45,
      "outputs": [
        {
          "output_type": "execute_result",
          "data": {
            "text/plain": [
              "<tf.Tensor: shape=(306, 512, 3), dtype=uint8, numpy=\n",
              "array([[[199, 100,  15],\n",
              "        [192,  91,   9],\n",
              "        [202,  95,  23],\n",
              "        ...,\n",
              "        [238, 196, 124],\n",
              "        [237, 195, 123],\n",
              "        [236, 194, 122]],\n",
              "\n",
              "       [[210, 110,  25],\n",
              "        [207, 105,  23],\n",
              "        [194,  86,  13],\n",
              "        ...,\n",
              "        [238, 196, 124],\n",
              "        [236, 194, 122],\n",
              "        [235, 193, 121]],\n",
              "\n",
              "       [[205, 103,  18],\n",
              "        [213, 108,  25],\n",
              "        [196,  86,  11],\n",
              "        ...,\n",
              "        [238, 195, 126],\n",
              "        [237, 194, 125],\n",
              "        [235, 192, 123]],\n",
              "\n",
              "       ...,\n",
              "\n",
              "       [[ 95,  28,  11],\n",
              "        [ 94,  27,  10],\n",
              "        [ 84,  17,   0],\n",
              "        ...,\n",
              "        [166,  32,   5],\n",
              "        [166,  32,   3],\n",
              "        [167,  34,   1]],\n",
              "\n",
              "       [[ 87,  24,   7],\n",
              "        [ 83,  18,   0],\n",
              "        [ 87,  20,   1],\n",
              "        ...,\n",
              "        [155,  27,   0],\n",
              "        [164,  39,   9],\n",
              "        [156,  33,   0]],\n",
              "\n",
              "       [[ 83,  21,   6],\n",
              "        [ 79,  16,   0],\n",
              "        [ 85,  19,   0],\n",
              "        ...,\n",
              "        [149,  25,   0],\n",
              "        [157,  36,   5],\n",
              "        [149,  30,   0]]], dtype=uint8)>"
            ]
          },
          "metadata": {},
          "execution_count": 45
        }
      ]
    },
    {
      "cell_type": "code",
      "source": [
        "# What are the min and max pixel values of our image?\n",
        "import tensorflow as tf\n",
        "tf.reduce_min(image), tf.reduce_max(image)"
      ],
      "metadata": {
        "id": "YATO6oxXCFaR",
        "colab": {
          "base_uri": "https://localhost:8080/"
        },
        "outputId": "fe520389-ffe8-4a45-8e6a-e7bd80b58363"
      },
      "execution_count": 46,
      "outputs": [
        {
          "output_type": "execute_result",
          "data": {
            "text/plain": [
              "(<tf.Tensor: shape=(), dtype=uint8, numpy=0>,\n",
              " <tf.Tensor: shape=(), dtype=uint8, numpy=255>)"
            ]
          },
          "metadata": {},
          "execution_count": 46
        }
      ]
    },
    {
      "cell_type": "markdown",
      "source": [
        "## Plot an image from TF Datasets"
      ],
      "metadata": {
        "id": "mq_db-sRCPcS"
      }
    },
    {
      "cell_type": "code",
      "source": [
        "import matplotlib.pyplot as plt\n",
        "plt.imshow(tf.cast(image, dtype=tf.float32)/255.)\n",
        "plt.title(f\"This is an image of {class_names[label]}\");\n",
        "plt.axis(False);"
      ],
      "metadata": {
        "id": "IgbVDe1EBEOc",
        "colab": {
          "base_uri": "https://localhost:8080/",
          "height": 355
        },
        "outputId": "cbbf1f06-fb5b-4ec6-a763-07bd00d4ca81"
      },
      "execution_count": 47,
      "outputs": [
        {
          "output_type": "display_data",
          "data": {
            "text/plain": [
              "<Figure size 640x480 with 1 Axes>"
            ],
            "image/png": "[encoded data removed]"
          },
          "metadata": {}
        }
      ]
    },
    {
      "cell_type": "markdown",
      "source": [
        "## Create proprocessing functions for the data\n",
        "\n",
        "* In `uint8` datatype\n",
        "* Different sized tensors/images\n",
        "* Not scaled (pixel values are 0-255)\n",
        "\n",
        "What models like:\n",
        "* Data in `float32` dtype or `float16`\n",
        "* TF likes tensors within batch to be same size\n",
        "* Scaled (values 0-1) also called normalized tensors\n",
        "\n",
        "Our preprocessing function:\n",
        "1. Reshape our images to all the same size\n",
        "2. Convert dtype of our image tensors from `uint8` to `float32`"
      ],
      "metadata": {
        "id": "42JMzsLcBLqK"
      }
    },
    {
      "cell_type": "code",
      "source": [
        "def preprocess_img(image, label, img_shape=224):\n",
        "  \"\"\"\n",
        "  Converts image datatype from `uint8` -> `float32` and reshapes\n",
        "  image to [img_shape, img_shape, color_channels]\n",
        "  \"\"\"\n",
        "  image = tf.image.resize(image, [img_shape, img_shape]) # reshape target image\n",
        "  #image /= 255. # scale images values (not required for EfficientNetBX models from tf.keras.applications)\n",
        "  return tf.cast(image, tf.float32), label"
      ],
      "metadata": {
        "id": "i1V4Cwm59q5V"
      },
      "execution_count": 48,
      "outputs": []
    },
    {
      "cell_type": "code",
      "source": [
        "# preprocess single sample image and check the outputs\n",
        "preprocessed_img = preprocess_img(image,label)[0]\n",
        "print(f\"Image before preprocessing: \\n {image[:2]}..., \\n Shape: {image.shape}, \\n Datatype: {image.dtype}\")\n",
        "print(f\"Preprocessed image: \\n {preprocessed_img[:2]}..., \\n Shape: {preprocessed_img.shape}, \\n Datatype: {preprocessed_img.dtype}\")"
      ],
      "metadata": {
        "id": "Sornikfe_-g1",
        "colab": {
          "base_uri": "https://localhost:8080/"
        },
        "outputId": "14da833a-a001-4525-c002-eb93d8ffd5e6"
      },
      "execution_count": 49,
      "outputs": [
        {
          "output_type": "stream",
          "name": "stdout",
          "text": [
            "Image before preprocessing: \n",
            " [[[199 100  15]\n",
            "  [192  91   9]\n",
            "  [202  95  23]\n",
            "  ...\n",
            "  [238 196 124]\n",
            "  [237 195 123]\n",
            "  [236 194 122]]\n",
            "\n",
            " [[210 110  25]\n",
            "  [207 105  23]\n",
            "  [194  86  13]\n",
            "  ...\n",
            "  [238 196 124]\n",
            "  [236 194 122]\n",
            "  [235 193 121]]]..., \n",
            " Shape: (306, 512, 3), \n",
            " Datatype: <dtype: 'uint8'>\n",
            "Preprocessed image: \n",
            " [[[196.98405    96.515305   13.443877 ]\n",
            "  [185.15625    75.776146   10.615431 ]\n",
            "  [176.09981    62.711414    9.320153 ]\n",
            "  ...\n",
            "  [237.2455    192.6027    122.24549  ]\n",
            "  [238.        196.        124.       ]\n",
            "  [236.4598    194.4598    122.459785 ]]\n",
            "\n",
            " [[209.20886   106.47194    23.047512 ]\n",
            "  [168.58833    56.285706    0.8501243]\n",
            "  [166.6894     53.45121     2.8341837]\n",
            "  ...\n",
            "  [236.62468   192.2172    121.85998  ]\n",
            "  [238.50987   195.96077   125.60809  ]\n",
            "  [235.9958    193.4467    123.09402  ]]]..., \n",
            " Shape: (224, 224, 3), \n",
            " Datatype: <dtype: 'float32'>\n"
          ]
        }
      ]
    },
    {
      "cell_type": "markdown",
      "source": [
        "## Batch and prepare datasets"
      ],
      "metadata": {
        "id": "B3MaLL-AAdz4"
      }
    },
    {
      "cell_type": "code",
      "source": [
        "# Map preprocessing function to training (and parallelize)\n",
        "train_data = train_data.map(map_func=preprocess_img, num_parallel_calls=tf.data.AUTOTUNE)\n",
        "# Shuffle train_data and turn into batches and prefetch it (speeds up loading)\n",
        "train_data = train_data.shuffle(buffer_size=1000).batch(batch_size=32).prefetch(buffer_size=tf.data.AUTOTUNE)\n",
        "\n",
        "# Same for testing data\n",
        "test_data = test_data.map(map_func=preprocess_img, num_parallel_calls=tf.data.AUTOTUNE).batch(32).prefetch(tf.data.AUTOTUNE)"
      ],
      "metadata": {
        "id": "wZT1Q9p-BP15"
      },
      "execution_count": 50,
      "outputs": []
    },
    {
      "cell_type": "code",
      "source": [
        "train_data, test_data"
      ],
      "metadata": {
        "id": "uVwNxiq1BpjK",
        "colab": {
          "base_uri": "https://localhost:8080/"
        },
        "outputId": "49fcc009-e571-489a-e67f-b64bfd7e7f96"
      },
      "execution_count": 51,
      "outputs": [
        {
          "output_type": "execute_result",
          "data": {
            "text/plain": [
              "(<_PrefetchDataset element_spec=(TensorSpec(shape=(None, 224, 224, 3), dtype=tf.float32, name=None), TensorSpec(shape=(None,), dtype=tf.int64, name=None))>,\n",
              " <_PrefetchDataset element_spec=(TensorSpec(shape=(None, 224, 224, 3), dtype=tf.float32, name=None), TensorSpec(shape=(None,), dtype=tf.int64, name=None))>)"
            ]
          },
          "metadata": {},
          "execution_count": 51
        }
      ]
    },
    {
      "cell_type": "markdown",
      "source": [
        "## Create Modeling Callbacks\n",
        "\n",
        "* TensorBoard callback to log training results\n",
        "* ModelCheckpoint callabck to save our model's progress after feature extraction"
      ],
      "metadata": {
        "id": "k0jgHaodDZ-q"
      }
    },
    {
      "cell_type": "code",
      "source": [
        "# Create tensorboard callback (import from helper functions)\n",
        "from helper_functions import create_tensorboard_callback\n",
        "# Create a ModelCheckpoint callback\n",
        "checkpoint_path = \"model_checkpoints/cp.ckpt\"\n",
        "model_checkpoint = tf.keras.callbacks.ModelCheckpoint(checkpoint_path, monitor=\"val_accuracy\",\n",
        "                                                      save_best_only=True,\n",
        "                                                      save_weights_only=True,\n",
        "                                                      verbose=1) # don't print status\n",
        "\n"
      ],
      "metadata": {
        "id": "GzCxaWOLFCnG"
      },
      "execution_count": 74,
      "outputs": []
    },
    {
      "cell_type": "code",
      "source": [
        "tf.__version__"
      ],
      "metadata": {
        "id": "6Tcn5VQoGKcd",
        "colab": {
          "base_uri": "https://localhost:8080/",
          "height": 35
        },
        "outputId": "92b95b1d-6ba2-4fe0-d436-497af0c282fe"
      },
      "execution_count": 53,
      "outputs": [
        {
          "output_type": "execute_result",
          "data": {
            "text/plain": [
              "'2.15.0'"
            ],
            "application/vnd.google.colaboratory.intrinsic+json": {
              "type": "string"
            }
          },
          "metadata": {},
          "execution_count": 53
        }
      ]
    },
    {
      "cell_type": "code",
      "source": [
        "# Turn on mixed precision training\n",
        "from tensorflow.keras import mixed_precision\n",
        "mixed_precision.set_global_policy(\"mixed_float16\") # Set global data policy to mixed precision\n"
      ],
      "metadata": {
        "id": "mHY2XrnnGlrc"
      },
      "execution_count": 54,
      "outputs": []
    },
    {
      "cell_type": "code",
      "source": [
        "mixed_precision.global_policy()"
      ],
      "metadata": {
        "id": "ihafzzXXHOW_",
        "colab": {
          "base_uri": "https://localhost:8080/"
        },
        "outputId": "70f6d38e-8cfe-4c67-898e-b44d94db28f3"
      },
      "execution_count": 55,
      "outputs": [
        {
          "output_type": "execute_result",
          "data": {
            "text/plain": [
              "<Policy \"mixed_float16\">"
            ]
          },
          "metadata": {},
          "execution_count": 55
        }
      ]
    },
    {
      "cell_type": "code",
      "source": [
        "## Build Feature extraction model\n",
        "from tensorflow.keras import layers\n",
        "from tensorflow.keras.layers.experimental import preprocessing\n",
        "\n",
        "# Create base model\n",
        "input_shape = (224, 224, 3)\n",
        "base_model = tf.keras.applications.EfficientNetB0(include_top=False)\n",
        "base_model.trainable = False\n",
        "\n",
        "# Create fuctional model\n",
        "inputs = layers.Input(shape=input_shape, name=\"input_layer\")\n",
        "# Note: EfficientNetBX models have rescaling built-in\n",
        "x = base_model(inputs, training=False)\n",
        "x = layers.GlobalAveragePooling2D()(x)\n",
        "x = layers.Dense(len(class_names))(x)\n",
        "outputs = layers.Activation(\"softmax\", dtype=tf.float32, name=\"softmax_float32\")(x)\n",
        "model = tf.keras.Model(inputs, outputs)\n",
        "\n",
        "# Compile the model\n",
        "model.compile(loss=tf.keras.losses.SparseCategoricalCrossentropy(),\n",
        "              optimizer=tf.keras.optimizers.Adam(),\n",
        "              metrics=[\"accuracy\"])\n",
        "original_weights = model.get_weights()"
      ],
      "metadata": {
        "id": "kpFJA1LtIFI5"
      },
      "execution_count": 75,
      "outputs": []
    },
    {
      "cell_type": "code",
      "source": [
        "model.summary()"
      ],
      "metadata": {
        "id": "hBT8L0dJKisl",
        "colab": {
          "base_uri": "https://localhost:8080/"
        },
        "outputId": "44a3b52e-8116-4bc5-aa71-501fc97caf25"
      },
      "execution_count": 61,
      "outputs": [
        {
          "output_type": "stream",
          "name": "stdout",
          "text": [
            "Model: \"model_2\"\n",
            "_________________________________________________________________\n",
            " Layer (type)                Output Shape              Param #   \n",
            "=================================================================\n",
            " input_layer (InputLayer)    [(None, 224, 224, 3)]     0         \n",
            "                                                                 \n",
            " efficientnetb0 (Functional  (None, None, None, 1280   4049571   \n",
            " )                           )                                   \n",
            "                                                                 \n",
            " global_average_pooling2d_2  (None, 1280)              0         \n",
            "  (GlobalAveragePooling2D)                                       \n",
            "                                                                 \n",
            " dense_2 (Dense)             (None, 101)               129381    \n",
            "                                                                 \n",
            " softmax_float32 (Activatio  (None, 101)               0         \n",
            " n)                                                              \n",
            "                                                                 \n",
            "=================================================================\n",
            "Total params: 4178952 (15.94 MB)\n",
            "Trainable params: 129381 (505.39 KB)\n",
            "Non-trainable params: 4049571 (15.45 MB)\n",
            "_________________________________________________________________\n"
          ]
        }
      ]
    },
    {
      "cell_type": "code",
      "source": [
        "# Computations are done in float16 but variables/results are stored in float32\n",
        "for layer in model.layers:\n",
        "  if layer.name == \"efficientnetb0\":\n",
        "      for elayer in layer.layers:\n",
        "            print(f\"Datatype of {elayer.name}: {elayer.dtype_policy}\")\n",
        "  else:\n",
        "     print(f\"Datatype of {layer.name}: {layer.dtype_policy}\")"
      ],
      "metadata": {
        "id": "KGpfztFeKk4Y",
        "colab": {
          "base_uri": "https://localhost:8080/"
        },
        "outputId": "671c7056-dee3-434e-d165-e367d56eaf64"
      },
      "execution_count": 62,
      "outputs": [
        {
          "output_type": "stream",
          "name": "stdout",
          "text": [
            "Datatype of input_layer: <Policy \"float32\">\n",
            "Datatype of input_3: <Policy \"float32\">\n",
            "Datatype of rescaling_4: <Policy \"mixed_float16\">\n",
            "Datatype of normalization_2: <Policy \"mixed_float16\">\n",
            "Datatype of rescaling_5: <Policy \"mixed_float16\">\n",
            "Datatype of stem_conv_pad: <Policy \"mixed_float16\">\n",
            "Datatype of stem_conv: <Policy \"mixed_float16\">\n",
            "Datatype of stem_bn: <Policy \"mixed_float16\">\n",
            "Datatype of stem_activation: <Policy \"mixed_float16\">\n",
            "Datatype of block1a_dwconv: <Policy \"mixed_float16\">\n",
            "Datatype of block1a_bn: <Policy \"mixed_float16\">\n",
            "Datatype of block1a_activation: <Policy \"mixed_float16\">\n",
            "Datatype of block1a_se_squeeze: <Policy \"mixed_float16\">\n",
            "Datatype of block1a_se_reshape: <Policy \"mixed_float16\">\n",
            "Datatype of block1a_se_reduce: <Policy \"mixed_float16\">\n",
            "Datatype of block1a_se_expand: <Policy \"mixed_float16\">\n",
            "Datatype of block1a_se_excite: <Policy \"mixed_float16\">\n",
            "Datatype of block1a_project_conv: <Policy \"mixed_float16\">\n",
            "Datatype of block1a_project_bn: <Policy \"mixed_float16\">\n",
            "Datatype of block2a_expand_conv: <Policy \"mixed_float16\">\n",
            "Datatype of block2a_expand_bn: <Policy \"mixed_float16\">\n",
            "Datatype of block2a_expand_activation: <Policy \"mixed_float16\">\n",
            "Datatype of block2a_dwconv_pad: <Policy \"mixed_float16\">\n",
            "Datatype of block2a_dwconv: <Policy \"mixed_float16\">\n",
            "Datatype of block2a_bn: <Policy \"mixed_float16\">\n",
            "Datatype of block2a_activation: <Policy \"mixed_float16\">\n",
            "Datatype of block2a_se_squeeze: <Policy \"mixed_float16\">\n",
            "Datatype of block2a_se_reshape: <Policy \"mixed_float16\">\n",
            "Datatype of block2a_se_reduce: <Policy \"mixed_float16\">\n",
            "Datatype of block2a_se_expand: <Policy \"mixed_float16\">\n",
            "Datatype of block2a_se_excite: <Policy \"mixed_float16\">\n",
            "Datatype of block2a_project_conv: <Policy \"mixed_float16\">\n",
            "Datatype of block2a_project_bn: <Policy \"mixed_float16\">\n",
            "Datatype of block2b_expand_conv: <Policy \"mixed_float16\">\n",
            "Datatype of block2b_expand_bn: <Policy \"mixed_float16\">\n",
            "Datatype of block2b_expand_activation: <Policy \"mixed_float16\">\n",
            "Datatype of block2b_dwconv: <Policy \"mixed_float16\">\n",
            "Datatype of block2b_bn: <Policy \"mixed_float16\">\n",
            "Datatype of block2b_activation: <Policy \"mixed_float16\">\n",
            "Datatype of block2b_se_squeeze: <Policy \"mixed_float16\">\n",
            "Datatype of block2b_se_reshape: <Policy \"mixed_float16\">\n",
            "Datatype of block2b_se_reduce: <Policy \"mixed_float16\">\n",
            "Datatype of block2b_se_expand: <Policy \"mixed_float16\">\n",
            "Datatype of block2b_se_excite: <Policy \"mixed_float16\">\n",
            "Datatype of block2b_project_conv: <Policy \"mixed_float16\">\n",
            "Datatype of block2b_project_bn: <Policy \"mixed_float16\">\n",
            "Datatype of block2b_drop: <Policy \"mixed_float16\">\n",
            "Datatype of block2b_add: <Policy \"mixed_float16\">\n",
            "Datatype of block3a_expand_conv: <Policy \"mixed_float16\">\n",
            "Datatype of block3a_expand_bn: <Policy \"mixed_float16\">\n",
            "Datatype of block3a_expand_activation: <Policy \"mixed_float16\">\n",
            "Datatype of block3a_dwconv_pad: <Policy \"mixed_float16\">\n",
            "Datatype of block3a_dwconv: <Policy \"mixed_float16\">\n",
            "Datatype of block3a_bn: <Policy \"mixed_float16\">\n",
            "Datatype of block3a_activation: <Policy \"mixed_float16\">\n",
            "Datatype of block3a_se_squeeze: <Policy \"mixed_float16\">\n",
            "Datatype of block3a_se_reshape: <Policy \"mixed_float16\">\n",
            "Datatype of block3a_se_reduce: <Policy \"mixed_float16\">\n",
            "Datatype of block3a_se_expand: <Policy \"mixed_float16\">\n",
            "Datatype of block3a_se_excite: <Policy \"mixed_float16\">\n",
            "Datatype of block3a_project_conv: <Policy \"mixed_float16\">\n",
            "Datatype of block3a_project_bn: <Policy \"mixed_float16\">\n",
            "Datatype of block3b_expand_conv: <Policy \"mixed_float16\">\n",
            "Datatype of block3b_expand_bn: <Policy \"mixed_float16\">\n",
            "Datatype of block3b_expand_activation: <Policy \"mixed_float16\">\n",
            "Datatype of block3b_dwconv: <Policy \"mixed_float16\">\n",
            "Datatype of block3b_bn: <Policy \"mixed_float16\">\n",
            "Datatype of block3b_activation: <Policy \"mixed_float16\">\n",
            "Datatype of block3b_se_squeeze: <Policy \"mixed_float16\">\n",
            "Datatype of block3b_se_reshape: <Policy \"mixed_float16\">\n",
            "Datatype of block3b_se_reduce: <Policy \"mixed_float16\">\n",
            "Datatype of block3b_se_expand: <Policy \"mixed_float16\">\n",
            "Datatype of block3b_se_excite: <Policy \"mixed_float16\">\n",
            "Datatype of block3b_project_conv: <Policy \"mixed_float16\">\n",
            "Datatype of block3b_project_bn: <Policy \"mixed_float16\">\n",
            "Datatype of block3b_drop: <Policy \"mixed_float16\">\n",
            "Datatype of block3b_add: <Policy \"mixed_float16\">\n",
            "Datatype of block4a_expand_conv: <Policy \"mixed_float16\">\n",
            "Datatype of block4a_expand_bn: <Policy \"mixed_float16\">\n",
            "Datatype of block4a_expand_activation: <Policy \"mixed_float16\">\n",
            "Datatype of block4a_dwconv_pad: <Policy \"mixed_float16\">\n",
            "Datatype of block4a_dwconv: <Policy \"mixed_float16\">\n",
            "Datatype of block4a_bn: <Policy \"mixed_float16\">\n",
            "Datatype of block4a_activation: <Policy \"mixed_float16\">\n",
            "Datatype of block4a_se_squeeze: <Policy \"mixed_float16\">\n",
            "Datatype of block4a_se_reshape: <Policy \"mixed_float16\">\n",
            "Datatype of block4a_se_reduce: <Policy \"mixed_float16\">\n",
            "Datatype of block4a_se_expand: <Policy \"mixed_float16\">\n",
            "Datatype of block4a_se_excite: <Policy \"mixed_float16\">\n",
            "Datatype of block4a_project_conv: <Policy \"mixed_float16\">\n",
            "Datatype of block4a_project_bn: <Policy \"mixed_float16\">\n",
            "Datatype of block4b_expand_conv: <Policy \"mixed_float16\">\n",
            "Datatype of block4b_expand_bn: <Policy \"mixed_float16\">\n",
            "Datatype of block4b_expand_activation: <Policy \"mixed_float16\">\n",
            "Datatype of block4b_dwconv: <Policy \"mixed_float16\">\n",
            "Datatype of block4b_bn: <Policy \"mixed_float16\">\n",
            "Datatype of block4b_activation: <Policy \"mixed_float16\">\n",
            "Datatype of block4b_se_squeeze: <Policy \"mixed_float16\">\n",
            "Datatype of block4b_se_reshape: <Policy \"mixed_float16\">\n",
            "Datatype of block4b_se_reduce: <Policy \"mixed_float16\">\n",
            "Datatype of block4b_se_expand: <Policy \"mixed_float16\">\n",
            "Datatype of block4b_se_excite: <Policy \"mixed_float16\">\n",
            "Datatype of block4b_project_conv: <Policy \"mixed_float16\">\n",
            "Datatype of block4b_project_bn: <Policy \"mixed_float16\">\n",
            "Datatype of block4b_drop: <Policy \"mixed_float16\">\n",
            "Datatype of block4b_add: <Policy \"mixed_float16\">\n",
            "Datatype of block4c_expand_conv: <Policy \"mixed_float16\">\n",
            "Datatype of block4c_expand_bn: <Policy \"mixed_float16\">\n",
            "Datatype of block4c_expand_activation: <Policy \"mixed_float16\">\n",
            "Datatype of block4c_dwconv: <Policy \"mixed_float16\">\n",
            "Datatype of block4c_bn: <Policy \"mixed_float16\">\n",
            "Datatype of block4c_activation: <Policy \"mixed_float16\">\n",
            "Datatype of block4c_se_squeeze: <Policy \"mixed_float16\">\n",
            "Datatype of block4c_se_reshape: <Policy \"mixed_float16\">\n",
            "Datatype of block4c_se_reduce: <Policy \"mixed_float16\">\n",
            "Datatype of block4c_se_expand: <Policy \"mixed_float16\">\n",
            "Datatype of block4c_se_excite: <Policy \"mixed_float16\">\n",
            "Datatype of block4c_project_conv: <Policy \"mixed_float16\">\n",
            "Datatype of block4c_project_bn: <Policy \"mixed_float16\">\n",
            "Datatype of block4c_drop: <Policy \"mixed_float16\">\n",
            "Datatype of block4c_add: <Policy \"mixed_float16\">\n",
            "Datatype of block5a_expand_conv: <Policy \"mixed_float16\">\n",
            "Datatype of block5a_expand_bn: <Policy \"mixed_float16\">\n",
            "Datatype of block5a_expand_activation: <Policy \"mixed_float16\">\n",
            "Datatype of block5a_dwconv: <Policy \"mixed_float16\">\n",
            "Datatype of block5a_bn: <Policy \"mixed_float16\">\n",
            "Datatype of block5a_activation: <Policy \"mixed_float16\">\n",
            "Datatype of block5a_se_squeeze: <Policy \"mixed_float16\">\n",
            "Datatype of block5a_se_reshape: <Policy \"mixed_float16\">\n",
            "Datatype of block5a_se_reduce: <Policy \"mixed_float16\">\n",
            "Datatype of block5a_se_expand: <Policy \"mixed_float16\">\n",
            "Datatype of block5a_se_excite: <Policy \"mixed_float16\">\n",
            "Datatype of block5a_project_conv: <Policy \"mixed_float16\">\n",
            "Datatype of block5a_project_bn: <Policy \"mixed_float16\">\n",
            "Datatype of block5b_expand_conv: <Policy \"mixed_float16\">\n",
            "Datatype of block5b_expand_bn: <Policy \"mixed_float16\">\n",
            "Datatype of block5b_expand_activation: <Policy \"mixed_float16\">\n",
            "Datatype of block5b_dwconv: <Policy \"mixed_float16\">\n",
            "Datatype of block5b_bn: <Policy \"mixed_float16\">\n",
            "Datatype of block5b_activation: <Policy \"mixed_float16\">\n",
            "Datatype of block5b_se_squeeze: <Policy \"mixed_float16\">\n",
            "Datatype of block5b_se_reshape: <Policy \"mixed_float16\">\n",
            "Datatype of block5b_se_reduce: <Policy \"mixed_float16\">\n",
            "Datatype of block5b_se_expand: <Policy \"mixed_float16\">\n",
            "Datatype of block5b_se_excite: <Policy \"mixed_float16\">\n",
            "Datatype of block5b_project_conv: <Policy \"mixed_float16\">\n",
            "Datatype of block5b_project_bn: <Policy \"mixed_float16\">\n",
            "Datatype of block5b_drop: <Policy \"mixed_float16\">\n",
            "Datatype of block5b_add: <Policy \"mixed_float16\">\n",
            "Datatype of block5c_expand_conv: <Policy \"mixed_float16\">\n",
            "Datatype of block5c_expand_bn: <Policy \"mixed_float16\">\n",
            "Datatype of block5c_expand_activation: <Policy \"mixed_float16\">\n",
            "Datatype of block5c_dwconv: <Policy \"mixed_float16\">\n",
            "Datatype of block5c_bn: <Policy \"mixed_float16\">\n",
            "Datatype of block5c_activation: <Policy \"mixed_float16\">\n",
            "Datatype of block5c_se_squeeze: <Policy \"mixed_float16\">\n",
            "Datatype of block5c_se_reshape: <Policy \"mixed_float16\">\n",
            "Datatype of block5c_se_reduce: <Policy \"mixed_float16\">\n",
            "Datatype of block5c_se_expand: <Policy \"mixed_float16\">\n",
            "Datatype of block5c_se_excite: <Policy \"mixed_float16\">\n",
            "Datatype of block5c_project_conv: <Policy \"mixed_float16\">\n",
            "Datatype of block5c_project_bn: <Policy \"mixed_float16\">\n",
            "Datatype of block5c_drop: <Policy \"mixed_float16\">\n",
            "Datatype of block5c_add: <Policy \"mixed_float16\">\n",
            "Datatype of block6a_expand_conv: <Policy \"mixed_float16\">\n",
            "Datatype of block6a_expand_bn: <Policy \"mixed_float16\">\n",
            "Datatype of block6a_expand_activation: <Policy \"mixed_float16\">\n",
            "Datatype of block6a_dwconv_pad: <Policy \"mixed_float16\">\n",
            "Datatype of block6a_dwconv: <Policy \"mixed_float16\">\n",
            "Datatype of block6a_bn: <Policy \"mixed_float16\">\n",
            "Datatype of block6a_activation: <Policy \"mixed_float16\">\n",
            "Datatype of block6a_se_squeeze: <Policy \"mixed_float16\">\n",
            "Datatype of block6a_se_reshape: <Policy \"mixed_float16\">\n",
            "Datatype of block6a_se_reduce: <Policy \"mixed_float16\">\n",
            "Datatype of block6a_se_expand: <Policy \"mixed_float16\">\n",
            "Datatype of block6a_se_excite: <Policy \"mixed_float16\">\n",
            "Datatype of block6a_project_conv: <Policy \"mixed_float16\">\n",
            "Datatype of block6a_project_bn: <Policy \"mixed_float16\">\n",
            "Datatype of block6b_expand_conv: <Policy \"mixed_float16\">\n",
            "Datatype of block6b_expand_bn: <Policy \"mixed_float16\">\n",
            "Datatype of block6b_expand_activation: <Policy \"mixed_float16\">\n",
            "Datatype of block6b_dwconv: <Policy \"mixed_float16\">\n",
            "Datatype of block6b_bn: <Policy \"mixed_float16\">\n",
            "Datatype of block6b_activation: <Policy \"mixed_float16\">\n",
            "Datatype of block6b_se_squeeze: <Policy \"mixed_float16\">\n",
            "Datatype of block6b_se_reshape: <Policy \"mixed_float16\">\n",
            "Datatype of block6b_se_reduce: <Policy \"mixed_float16\">\n",
            "Datatype of block6b_se_expand: <Policy \"mixed_float16\">\n",
            "Datatype of block6b_se_excite: <Policy \"mixed_float16\">\n",
            "Datatype of block6b_project_conv: <Policy \"mixed_float16\">\n",
            "Datatype of block6b_project_bn: <Policy \"mixed_float16\">\n",
            "Datatype of block6b_drop: <Policy \"mixed_float16\">\n",
            "Datatype of block6b_add: <Policy \"mixed_float16\">\n",
            "Datatype of block6c_expand_conv: <Policy \"mixed_float16\">\n",
            "Datatype of block6c_expand_bn: <Policy \"mixed_float16\">\n",
            "Datatype of block6c_expand_activation: <Policy \"mixed_float16\">\n",
            "Datatype of block6c_dwconv: <Policy \"mixed_float16\">\n",
            "Datatype of block6c_bn: <Policy \"mixed_float16\">\n",
            "Datatype of block6c_activation: <Policy \"mixed_float16\">\n",
            "Datatype of block6c_se_squeeze: <Policy \"mixed_float16\">\n",
            "Datatype of block6c_se_reshape: <Policy \"mixed_float16\">\n",
            "Datatype of block6c_se_reduce: <Policy \"mixed_float16\">\n",
            "Datatype of block6c_se_expand: <Policy \"mixed_float16\">\n",
            "Datatype of block6c_se_excite: <Policy \"mixed_float16\">\n",
            "Datatype of block6c_project_conv: <Policy \"mixed_float16\">\n",
            "Datatype of block6c_project_bn: <Policy \"mixed_float16\">\n",
            "Datatype of block6c_drop: <Policy \"mixed_float16\">\n",
            "Datatype of block6c_add: <Policy \"mixed_float16\">\n",
            "Datatype of block6d_expand_conv: <Policy \"mixed_float16\">\n",
            "Datatype of block6d_expand_bn: <Policy \"mixed_float16\">\n",
            "Datatype of block6d_expand_activation: <Policy \"mixed_float16\">\n",
            "Datatype of block6d_dwconv: <Policy \"mixed_float16\">\n",
            "Datatype of block6d_bn: <Policy \"mixed_float16\">\n",
            "Datatype of block6d_activation: <Policy \"mixed_float16\">\n",
            "Datatype of block6d_se_squeeze: <Policy \"mixed_float16\">\n",
            "Datatype of block6d_se_reshape: <Policy \"mixed_float16\">\n",
            "Datatype of block6d_se_reduce: <Policy \"mixed_float16\">\n",
            "Datatype of block6d_se_expand: <Policy \"mixed_float16\">\n",
            "Datatype of block6d_se_excite: <Policy \"mixed_float16\">\n",
            "Datatype of block6d_project_conv: <Policy \"mixed_float16\">\n",
            "Datatype of block6d_project_bn: <Policy \"mixed_float16\">\n",
            "Datatype of block6d_drop: <Policy \"mixed_float16\">\n",
            "Datatype of block6d_add: <Policy \"mixed_float16\">\n",
            "Datatype of block7a_expand_conv: <Policy \"mixed_float16\">\n",
            "Datatype of block7a_expand_bn: <Policy \"mixed_float16\">\n",
            "Datatype of block7a_expand_activation: <Policy \"mixed_float16\">\n",
            "Datatype of block7a_dwconv: <Policy \"mixed_float16\">\n",
            "Datatype of block7a_bn: <Policy \"mixed_float16\">\n",
            "Datatype of block7a_activation: <Policy \"mixed_float16\">\n",
            "Datatype of block7a_se_squeeze: <Policy \"mixed_float16\">\n",
            "Datatype of block7a_se_reshape: <Policy \"mixed_float16\">\n",
            "Datatype of block7a_se_reduce: <Policy \"mixed_float16\">\n",
            "Datatype of block7a_se_expand: <Policy \"mixed_float16\">\n",
            "Datatype of block7a_se_excite: <Policy \"mixed_float16\">\n",
            "Datatype of block7a_project_conv: <Policy \"mixed_float16\">\n",
            "Datatype of block7a_project_bn: <Policy \"mixed_float16\">\n",
            "Datatype of top_conv: <Policy \"mixed_float16\">\n",
            "Datatype of top_bn: <Policy \"mixed_float16\">\n",
            "Datatype of top_activation: <Policy \"mixed_float16\">\n",
            "Datatype of global_average_pooling2d_2: <Policy \"mixed_float16\">\n",
            "Datatype of dense_2: <Policy \"mixed_float16\">\n",
            "Datatype of softmax_float32: <Policy \"float32\">\n"
          ]
        }
      ]
    },
    {
      "cell_type": "markdown",
      "source": [
        "## Fit the feature extraction model"
      ],
      "metadata": {
        "id": "6-BtVcVo3S7P"
      }
    },
    {
      "cell_type": "code",
      "source": [
        "# Fit the feature extraction model with callbacks\n",
        "history_101_food_classes_feature_extraction = model.fit(train_data,\n",
        "                                                        epochs=3,\n",
        "                                                        validation_data = test_data,\n",
        "                                                        steps_per_epoch=len(train_data),\n",
        "                                                        validation_steps=int(0.15*len(test_data)),\n",
        "                                                        callbacks=[create_tensorboard_callback(\"training_logs\",\n",
        "                                                                                               \"efficientnetb0_101_classes_alldata_featureextract\"),\n",
        "                                                                   model_checkpoint])"
      ],
      "metadata": {
        "colab": {
          "base_uri": "https://localhost:8080/"
        },
        "id": "TmY0cRVHBkA2",
        "outputId": "4c8cfa02-c523-4404-b4a2-a5fe1bea3bed"
      },
      "execution_count": 63,
      "outputs": [
        {
          "output_type": "stream",
          "name": "stdout",
          "text": [
            "Saving TensorBoard log files to: training_logs/efficientnetb0_101_classes_alldata_featureextract/20240125-143810\n",
            "Epoch 1/3\n",
            "2368/2368 [==============================] - ETA: 0s - loss: 1.7191 - accuracy: 0.5812"
          ]
        },
        {
          "output_type": "stream",
          "name": "stderr",
          "text": [
            "WARNING:tensorflow:Can save best model only with val_acc available, skipping.\n"
          ]
        },
        {
          "output_type": "stream",
          "name": "stdout",
          "text": [
            "\b\b\b\b\b\b\b\b\b\b\b\b\b\b\b\b\b\b\b\b\b\b\b\b\b\b\b\b\b\b\b\b\b\b\b\b\b\b\b\b\b\b\b\b\b\b\b\b\b\b\b\b\b\b\b\b\b\b\b\b\b\b\b\b\b\b\b\b\b\b\b\b\b\b\b\b\b\b\b\b\b\b\b\b\b\b\r2368/2368 [==============================] - 187s 74ms/step - loss: 1.7191 - accuracy: 0.5812 - val_loss: 1.1290 - val_accuracy: 0.6947\n",
            "Epoch 2/3\n",
            "2368/2368 [==============================] - ETA: 0s - loss: 1.2003 - accuracy: 0.6885"
          ]
        },
        {
          "output_type": "stream",
          "name": "stderr",
          "text": [
            "WARNING:tensorflow:Can save best model only with val_acc available, skipping.\n"
          ]
        },
        {
          "output_type": "stream",
          "name": "stdout",
          "text": [
            "\b\b\b\b\b\b\b\b\b\b\b\b\b\b\b\b\b\b\b\b\b\b\b\b\b\b\b\b\b\b\b\b\b\b\b\b\b\b\b\b\b\b\b\b\b\b\b\b\b\b\b\b\b\b\b\b\b\b\b\b\b\b\b\b\b\b\b\b\b\b\b\b\b\b\b\b\b\b\b\b\b\b\b\b\b\b\r2368/2368 [==============================] - 171s 72ms/step - loss: 1.2003 - accuracy: 0.6885 - val_loss: 1.0298 - val_accuracy: 0.7206\n",
            "Epoch 3/3\n",
            "2368/2368 [==============================] - ETA: 0s - loss: 1.0559 - accuracy: 0.7224"
          ]
        },
        {
          "output_type": "stream",
          "name": "stderr",
          "text": [
            "WARNING:tensorflow:Can save best model only with val_acc available, skipping.\n"
          ]
        },
        {
          "output_type": "stream",
          "name": "stdout",
          "text": [
            "\b\b\b\b\b\b\b\b\b\b\b\b\b\b\b\b\b\b\b\b\b\b\b\b\b\b\b\b\b\b\b\b\b\b\b\b\b\b\b\b\b\b\b\b\b\b\b\b\b\b\b\b\b\b\b\b\b\b\b\b\b\b\b\b\b\b\b\b\b\b\b\b\b\b\b\b\b\b\b\b\b\b\b\b\b\b\r2368/2368 [==============================] - 173s 72ms/step - loss: 1.0559 - accuracy: 0.7224 - val_loss: 0.9888 - val_accuracy: 0.7227\n"
          ]
        }
      ]
    },
    {
      "cell_type": "code",
      "source": [
        "model.evaluate(test_data)"
      ],
      "metadata": {
        "colab": {
          "base_uri": "https://localhost:8080/"
        },
        "id": "L_Xec7yfCaFO",
        "outputId": "e09965d2-f006-489c-a69c-040fbc8050f7"
      },
      "execution_count": 65,
      "outputs": [
        {
          "output_type": "stream",
          "name": "stdout",
          "text": [
            "790/790 [==============================] - 54s 68ms/step - loss: 0.9978 - accuracy: 0.7258\n"
          ]
        },
        {
          "output_type": "execute_result",
          "data": {
            "text/plain": [
              "[0.9978240132331848, 0.7258217930793762]"
            ]
          },
          "metadata": {},
          "execution_count": 65
        }
      ]
    },
    {
      "cell_type": "code",
      "source": [
        "base_model.trainable = False"
      ],
      "metadata": {
        "id": "Z_UIKeruHRAN"
      },
      "execution_count": 69,
      "outputs": []
    },
    {
      "cell_type": "code",
      "source": [
        "for layer in base_model.layers[-10:]:\n",
        "  layer.trainable = True"
      ],
      "metadata": {
        "id": "H7KdUuwxC1wi"
      },
      "execution_count": 70,
      "outputs": []
    },
    {
      "cell_type": "code",
      "source": [
        "for layer in base_model.layers:\n",
        "  print(f\"{layer.name} {layer.trainable}\")"
      ],
      "metadata": {
        "colab": {
          "base_uri": "https://localhost:8080/"
        },
        "id": "Br7YBBPfG18w",
        "outputId": "e23d0860-ffed-456e-df1d-4d1c955dabca"
      },
      "execution_count": 71,
      "outputs": [
        {
          "output_type": "stream",
          "name": "stdout",
          "text": [
            "input_3 False\n",
            "rescaling_4 False\n",
            "normalization_2 False\n",
            "rescaling_5 False\n",
            "stem_conv_pad False\n",
            "stem_conv False\n",
            "stem_bn False\n",
            "stem_activation False\n",
            "block1a_dwconv False\n",
            "block1a_bn False\n",
            "block1a_activation False\n",
            "block1a_se_squeeze False\n",
            "block1a_se_reshape False\n",
            "block1a_se_reduce False\n",
            "block1a_se_expand False\n",
            "block1a_se_excite False\n",
            "block1a_project_conv False\n",
            "block1a_project_bn False\n",
            "block2a_expand_conv False\n",
            "block2a_expand_bn False\n",
            "block2a_expand_activation False\n",
            "block2a_dwconv_pad False\n",
            "block2a_dwconv False\n",
            "block2a_bn False\n",
            "block2a_activation False\n",
            "block2a_se_squeeze False\n",
            "block2a_se_reshape False\n",
            "block2a_se_reduce False\n",
            "block2a_se_expand False\n",
            "block2a_se_excite False\n",
            "block2a_project_conv False\n",
            "block2a_project_bn False\n",
            "block2b_expand_conv False\n",
            "block2b_expand_bn False\n",
            "block2b_expand_activation False\n",
            "block2b_dwconv False\n",
            "block2b_bn False\n",
            "block2b_activation False\n",
            "block2b_se_squeeze False\n",
            "block2b_se_reshape False\n",
            "block2b_se_reduce False\n",
            "block2b_se_expand False\n",
            "block2b_se_excite False\n",
            "block2b_project_conv False\n",
            "block2b_project_bn False\n",
            "block2b_drop False\n",
            "block2b_add False\n",
            "block3a_expand_conv False\n",
            "block3a_expand_bn False\n",
            "block3a_expand_activation False\n",
            "block3a_dwconv_pad False\n",
            "block3a_dwconv False\n",
            "block3a_bn False\n",
            "block3a_activation False\n",
            "block3a_se_squeeze False\n",
            "block3a_se_reshape False\n",
            "block3a_se_reduce False\n",
            "block3a_se_expand False\n",
            "block3a_se_excite False\n",
            "block3a_project_conv False\n",
            "block3a_project_bn False\n",
            "block3b_expand_conv False\n",
            "block3b_expand_bn False\n",
            "block3b_expand_activation False\n",
            "block3b_dwconv False\n",
            "block3b_bn False\n",
            "block3b_activation False\n",
            "block3b_se_squeeze False\n",
            "block3b_se_reshape False\n",
            "block3b_se_reduce False\n",
            "block3b_se_expand False\n",
            "block3b_se_excite False\n",
            "block3b_project_conv False\n",
            "block3b_project_bn False\n",
            "block3b_drop False\n",
            "block3b_add False\n",
            "block4a_expand_conv False\n",
            "block4a_expand_bn False\n",
            "block4a_expand_activation False\n",
            "block4a_dwconv_pad False\n",
            "block4a_dwconv False\n",
            "block4a_bn False\n",
            "block4a_activation False\n",
            "block4a_se_squeeze False\n",
            "block4a_se_reshape False\n",
            "block4a_se_reduce False\n",
            "block4a_se_expand False\n",
            "block4a_se_excite False\n",
            "block4a_project_conv False\n",
            "block4a_project_bn False\n",
            "block4b_expand_conv False\n",
            "block4b_expand_bn False\n",
            "block4b_expand_activation False\n",
            "block4b_dwconv False\n",
            "block4b_bn False\n",
            "block4b_activation False\n",
            "block4b_se_squeeze False\n",
            "block4b_se_reshape False\n",
            "block4b_se_reduce False\n",
            "block4b_se_expand False\n",
            "block4b_se_excite False\n",
            "block4b_project_conv False\n",
            "block4b_project_bn False\n",
            "block4b_drop False\n",
            "block4b_add False\n",
            "block4c_expand_conv False\n",
            "block4c_expand_bn False\n",
            "block4c_expand_activation False\n",
            "block4c_dwconv False\n",
            "block4c_bn False\n",
            "block4c_activation False\n",
            "block4c_se_squeeze False\n",
            "block4c_se_reshape False\n",
            "block4c_se_reduce False\n",
            "block4c_se_expand False\n",
            "block4c_se_excite False\n",
            "block4c_project_conv False\n",
            "block4c_project_bn False\n",
            "block4c_drop False\n",
            "block4c_add False\n",
            "block5a_expand_conv False\n",
            "block5a_expand_bn False\n",
            "block5a_expand_activation False\n",
            "block5a_dwconv False\n",
            "block5a_bn False\n",
            "block5a_activation False\n",
            "block5a_se_squeeze False\n",
            "block5a_se_reshape False\n",
            "block5a_se_reduce False\n",
            "block5a_se_expand False\n",
            "block5a_se_excite False\n",
            "block5a_project_conv False\n",
            "block5a_project_bn False\n",
            "block5b_expand_conv False\n",
            "block5b_expand_bn False\n",
            "block5b_expand_activation False\n",
            "block5b_dwconv False\n",
            "block5b_bn False\n",
            "block5b_activation False\n",
            "block5b_se_squeeze False\n",
            "block5b_se_reshape False\n",
            "block5b_se_reduce False\n",
            "block5b_se_expand False\n",
            "block5b_se_excite False\n",
            "block5b_project_conv False\n",
            "block5b_project_bn False\n",
            "block5b_drop False\n",
            "block5b_add False\n",
            "block5c_expand_conv False\n",
            "block5c_expand_bn False\n",
            "block5c_expand_activation False\n",
            "block5c_dwconv False\n",
            "block5c_bn False\n",
            "block5c_activation False\n",
            "block5c_se_squeeze False\n",
            "block5c_se_reshape False\n",
            "block5c_se_reduce False\n",
            "block5c_se_expand False\n",
            "block5c_se_excite False\n",
            "block5c_project_conv False\n",
            "block5c_project_bn False\n",
            "block5c_drop False\n",
            "block5c_add False\n",
            "block6a_expand_conv False\n",
            "block6a_expand_bn False\n",
            "block6a_expand_activation False\n",
            "block6a_dwconv_pad False\n",
            "block6a_dwconv False\n",
            "block6a_bn False\n",
            "block6a_activation False\n",
            "block6a_se_squeeze False\n",
            "block6a_se_reshape False\n",
            "block6a_se_reduce False\n",
            "block6a_se_expand False\n",
            "block6a_se_excite False\n",
            "block6a_project_conv False\n",
            "block6a_project_bn False\n",
            "block6b_expand_conv False\n",
            "block6b_expand_bn False\n",
            "block6b_expand_activation False\n",
            "block6b_dwconv False\n",
            "block6b_bn False\n",
            "block6b_activation False\n",
            "block6b_se_squeeze False\n",
            "block6b_se_reshape False\n",
            "block6b_se_reduce False\n",
            "block6b_se_expand False\n",
            "block6b_se_excite False\n",
            "block6b_project_conv False\n",
            "block6b_project_bn False\n",
            "block6b_drop False\n",
            "block6b_add False\n",
            "block6c_expand_conv False\n",
            "block6c_expand_bn False\n",
            "block6c_expand_activation False\n",
            "block6c_dwconv False\n",
            "block6c_bn False\n",
            "block6c_activation False\n",
            "block6c_se_squeeze False\n",
            "block6c_se_reshape False\n",
            "block6c_se_reduce False\n",
            "block6c_se_expand False\n",
            "block6c_se_excite False\n",
            "block6c_project_conv False\n",
            "block6c_project_bn False\n",
            "block6c_drop False\n",
            "block6c_add False\n",
            "block6d_expand_conv False\n",
            "block6d_expand_bn False\n",
            "block6d_expand_activation False\n",
            "block6d_dwconv False\n",
            "block6d_bn False\n",
            "block6d_activation False\n",
            "block6d_se_squeeze False\n",
            "block6d_se_reshape False\n",
            "block6d_se_reduce False\n",
            "block6d_se_expand False\n",
            "block6d_se_excite False\n",
            "block6d_project_conv False\n",
            "block6d_project_bn False\n",
            "block6d_drop False\n",
            "block6d_add False\n",
            "block7a_expand_conv False\n",
            "block7a_expand_bn False\n",
            "block7a_expand_activation False\n",
            "block7a_dwconv False\n",
            "block7a_bn False\n",
            "block7a_activation False\n",
            "block7a_se_squeeze True\n",
            "block7a_se_reshape True\n",
            "block7a_se_reduce True\n",
            "block7a_se_expand True\n",
            "block7a_se_excite True\n",
            "block7a_project_conv True\n",
            "block7a_project_bn True\n",
            "top_conv True\n",
            "top_bn True\n",
            "top_activation True\n"
          ]
        }
      ]
    },
    {
      "cell_type": "code",
      "source": [
        "model.compile(loss=tf.keras.losses.SparseCategoricalCrossentropy(),\n",
        "              optimizer=tf.keras.optimizers.Adam(learning_rate=0.0001),\n",
        "              metrics=[\"accuracy\"])"
      ],
      "metadata": {
        "id": "mGHRjHCwHLtb"
      },
      "execution_count": 72,
      "outputs": []
    },
    {
      "cell_type": "code",
      "source": [
        "finetune_epochs = 8\n",
        "history_101_food_classes_finetuning = model.fit(train_data,\n",
        "                                                epochs=finetune_epochs,\n",
        "                                                steps_per_epoch=len(train_data),\n",
        "                                                validation_data = test_data,\n",
        "                                                validation_steps=int(0.15*len(test_data)),\n",
        "                                                initial_epoch=history_101_food_classes_feature_extraction.epoch[-1],\n",
        "                                                callbacks=[create_tensorboard_callback(\"training_logs\",\n",
        "                                                                                      \"efficientnetb0_101_classes_alldata_finetuning\"),\n",
        "                                                           model_checkpoint])"
      ],
      "metadata": {
        "colab": {
          "base_uri": "https://localhost:8080/"
        },
        "id": "CKe1x4-NHkHs",
        "outputId": "fc0f3643-2559-4a86-ddfe-fadbf12c2011"
      },
      "execution_count": 73,
      "outputs": [
        {
          "output_type": "stream",
          "name": "stdout",
          "text": [
            "Saving TensorBoard log files to: training_logs/efficientnetb0_101_classes_alldata_finetuning/20240125-150019\n",
            "Epoch 3/8\n",
            "2368/2368 [==============================] - ETA: 0s - loss: 0.8899 - accuracy: 0.7721"
          ]
        },
        {
          "output_type": "stream",
          "name": "stderr",
          "text": [
            "WARNING:tensorflow:Can save best model only with val_acc available, skipping.\n"
          ]
        },
        {
          "output_type": "stream",
          "name": "stdout",
          "text": [
            "\b\b\b\b\b\b\b\b\b\b\b\b\b\b\b\b\b\b\b\b\b\b\b\b\b\b\b\b\b\b\b\b\b\b\b\b\b\b\b\b\b\b\b\b\b\b\b\b\b\b\b\b\b\b\b\b\b\b\b\b\b\b\b\b\b\b\b\b\b\b\b\b\b\b\b\b\b\b\b\b\b\b\b\b\b\b\r2368/2368 [==============================] - 179s 71ms/step - loss: 0.8899 - accuracy: 0.7721 - val_loss: 0.9603 - val_accuracy: 0.7373\n",
            "Epoch 4/8\n",
            "2368/2368 [==============================] - ETA: 0s - loss: 0.8738 - accuracy: 0.7770"
          ]
        },
        {
          "output_type": "stream",
          "name": "stderr",
          "text": [
            "WARNING:tensorflow:Can save best model only with val_acc available, skipping.\n"
          ]
        },
        {
          "output_type": "stream",
          "name": "stdout",
          "text": [
            "\b\b\b\b\b\b\b\b\b\b\b\b\b\b\b\b\b\b\b\b\b\b\b\b\b\b\b\b\b\b\b\b\b\b\b\b\b\b\b\b\b\b\b\b\b\b\b\b\b\b\b\b\b\b\b\b\b\b\b\b\b\b\b\b\b\b\b\b\b\b\b\b\b\b\b\b\b\b\b\b\b\b\b\b\b\b\r2368/2368 [==============================] - 171s 71ms/step - loss: 0.8738 - accuracy: 0.7770 - val_loss: 0.9576 - val_accuracy: 0.7370\n",
            "Epoch 5/8\n",
            "2368/2368 [==============================] - ETA: 0s - loss: 0.8633 - accuracy: 0.7803"
          ]
        },
        {
          "output_type": "stream",
          "name": "stderr",
          "text": [
            "WARNING:tensorflow:Can save best model only with val_acc available, skipping.\n"
          ]
        },
        {
          "output_type": "stream",
          "name": "stdout",
          "text": [
            "\b\b\b\b\b\b\b\b\b\b\b\b\b\b\b\b\b\b\b\b\b\b\b\b\b\b\b\b\b\b\b\b\b\b\b\b\b\b\b\b\b\b\b\b\b\b\b\b\b\b\b\b\b\b\b\b\b\b\b\b\b\b\b\b\b\b\b\b\b\b\b\b\b\b\b\b\b\b\b\b\b\b\b\b\b\b\r2368/2368 [==============================] - 167s 70ms/step - loss: 0.8633 - accuracy: 0.7803 - val_loss: 0.9532 - val_accuracy: 0.7365\n",
            "Epoch 6/8\n",
            "2367/2368 [============================>.] - ETA: 0s - loss: 0.8540 - accuracy: 0.7824"
          ]
        },
        {
          "output_type": "stream",
          "name": "stderr",
          "text": [
            "WARNING:tensorflow:Can save best model only with val_acc available, skipping.\n"
          ]
        },
        {
          "output_type": "stream",
          "name": "stdout",
          "text": [
            "\b\b\b\b\b\b\b\b\b\b\b\b\b\b\b\b\b\b\b\b\b\b\b\b\b\b\b\b\b\b\b\b\b\b\b\b\b\b\b\b\b\b\b\b\b\b\b\b\b\b\b\b\b\b\b\b\b\b\b\b\b\b\b\b\b\b\b\b\b\b\b\b\b\b\b\b\b\b\b\b\b\b\b\b\b\b\r2368/2368 [==============================] - 170s 71ms/step - loss: 0.8540 - accuracy: 0.7824 - val_loss: 0.9507 - val_accuracy: 0.7391\n",
            "Epoch 7/8\n",
            "2368/2368 [==============================] - ETA: 0s - loss: 0.8454 - accuracy: 0.7853"
          ]
        },
        {
          "output_type": "stream",
          "name": "stderr",
          "text": [
            "WARNING:tensorflow:Can save best model only with val_acc available, skipping.\n"
          ]
        },
        {
          "output_type": "stream",
          "name": "stdout",
          "text": [
            "\b\b\b\b\b\b\b\b\b\b\b\b\b\b\b\b\b\b\b\b\b\b\b\b\b\b\b\b\b\b\b\b\b\b\b\b\b\b\b\b\b\b\b\b\b\b\b\b\b\b\b\b\b\b\b\b\b\b\b\b\b\b\b\b\b\b\b\b\b\b\b\b\b\b\b\b\b\b\b\b\b\b\b\b\b\b\r2368/2368 [==============================] - 170s 71ms/step - loss: 0.8454 - accuracy: 0.7853 - val_loss: 0.9543 - val_accuracy: 0.7378\n",
            "Epoch 8/8\n",
            "2367/2368 [============================>.] - ETA: 0s - loss: 0.8372 - accuracy: 0.7880"
          ]
        },
        {
          "output_type": "stream",
          "name": "stderr",
          "text": [
            "WARNING:tensorflow:Can save best model only with val_acc available, skipping.\n"
          ]
        },
        {
          "output_type": "stream",
          "name": "stdout",
          "text": [
            "\b\b\b\b\b\b\b\b\b\b\b\b\b\b\b\b\b\b\b\b\b\b\b\b\b\b\b\b\b\b\b\b\b\b\b\b\b\b\b\b\b\b\b\b\b\b\b\b\b\b\b\b\b\b\b\b\b\b\b\b\b\b\b\b\b\b\b\b\b\b\b\b\b\b\b\b\b\b\b\b\b\b\b\b\b\b\r2368/2368 [==============================] - 168s 70ms/step - loss: 0.8372 - accuracy: 0.7880 - val_loss: 0.9441 - val_accuracy: 0.7405\n"
          ]
        }
      ]
    },
    {
      "cell_type": "code",
      "source": [
        "model.set_weights(original_weights)"
      ],
      "metadata": {
        "id": "47XbRkHQNliY"
      },
      "execution_count": 76,
      "outputs": []
    },
    {
      "cell_type": "code",
      "source": [
        "model.evaluate(test_data)"
      ],
      "metadata": {
        "colab": {
          "base_uri": "https://localhost:8080/"
        },
        "id": "bYEZwA08No15",
        "outputId": "400c915d-5966-49a8-bd4c-969b8a397e81"
      },
      "execution_count": 77,
      "outputs": [
        {
          "output_type": "stream",
          "name": "stdout",
          "text": [
            "790/790 [==============================] - 55s 63ms/step - loss: 4.6720 - accuracy: 0.0110\n"
          ]
        },
        {
          "output_type": "execute_result",
          "data": {
            "text/plain": [
              "[4.672021865844727, 0.011049505323171616]"
            ]
          },
          "metadata": {},
          "execution_count": 77
        }
      ]
    },
    {
      "cell_type": "code",
      "source": [
        "for layer in base_model.layers[-20:]:\n",
        "  layer.trainable = True"
      ],
      "metadata": {
        "id": "vUkdt7B1Nq2g"
      },
      "execution_count": 78,
      "outputs": []
    },
    {
      "cell_type": "code",
      "source": [
        "early_stopping = tf.keras.callbacks.EarlyStopping(monitor='val_loss',\n",
        "                                                  patience=3,\n",
        "                                                  verbose=1)\n",
        "checkpoint_path = \"finetuningcheckpoint/\"\n",
        "model_checkpoint = tf.keras.callbacks.ModelCheckpoint(checkpoint_path,\n",
        "                                                      monitor=\"val_loss\",\n",
        "                                                      save_best_only = True)\n",
        "plateulr = tf.keras.callbacks.ReduceLROnPlateau(monitor=\"val_loss\",\n",
        "                                                factor=0.2,\n",
        "                                                patience=2,\n",
        "                                                verbose=1,\n",
        "                                                min_lr=1e-7)"
      ],
      "metadata": {
        "id": "CtAeRGbAODFf"
      },
      "execution_count": 80,
      "outputs": []
    },
    {
      "cell_type": "code",
      "source": [
        "for layer in model.layers:\n",
        "  print(f\"{layer.name} {layer.trainable} {layer.dtype} {layer.dtype_policy}\")"
      ],
      "metadata": {
        "colab": {
          "base_uri": "https://localhost:8080/"
        },
        "id": "tU9jT6CFPPdb",
        "outputId": "4140c07c-f7fd-4205-91d7-cf89e6767a74"
      },
      "execution_count": 82,
      "outputs": [
        {
          "output_type": "stream",
          "name": "stdout",
          "text": [
            "input_layer True float32 <Policy \"float32\">\n",
            "efficientnetb0 False float32 <Policy \"mixed_float16\">\n",
            "global_average_pooling2d_3 True float32 <Policy \"mixed_float16\">\n",
            "dense_3 True float32 <Policy \"mixed_float16\">\n",
            "softmax_float32 True float32 <Policy \"float32\">\n"
          ]
        }
      ]
    },
    {
      "cell_type": "code",
      "source": [
        "for layer in model.layers[1].layers:\n",
        "  print(f\"{layer.name} {layer.trainable} {layer.dtype} {layer.dtype_policy}\")"
      ],
      "metadata": {
        "colab": {
          "base_uri": "https://localhost:8080/"
        },
        "id": "WMnF24LXPveM",
        "outputId": "78cd3e68-d765-46d1-93e9-adea339961cf"
      },
      "execution_count": 84,
      "outputs": [
        {
          "output_type": "stream",
          "name": "stdout",
          "text": [
            "input_4 False float32 <Policy \"float32\">\n",
            "rescaling_6 False float32 <Policy \"mixed_float16\">\n",
            "normalization_3 False float32 <Policy \"mixed_float16\">\n",
            "rescaling_7 False float32 <Policy \"mixed_float16\">\n",
            "stem_conv_pad False float32 <Policy \"mixed_float16\">\n",
            "stem_conv False float32 <Policy \"mixed_float16\">\n",
            "stem_bn False float32 <Policy \"mixed_float16\">\n",
            "stem_activation False float32 <Policy \"mixed_float16\">\n",
            "block1a_dwconv False float32 <Policy \"mixed_float16\">\n",
            "block1a_bn False float32 <Policy \"mixed_float16\">\n",
            "block1a_activation False float32 <Policy \"mixed_float16\">\n",
            "block1a_se_squeeze False float32 <Policy \"mixed_float16\">\n",
            "block1a_se_reshape False float32 <Policy \"mixed_float16\">\n",
            "block1a_se_reduce False float32 <Policy \"mixed_float16\">\n",
            "block1a_se_expand False float32 <Policy \"mixed_float16\">\n",
            "block1a_se_excite False float32 <Policy \"mixed_float16\">\n",
            "block1a_project_conv False float32 <Policy \"mixed_float16\">\n",
            "block1a_project_bn False float32 <Policy \"mixed_float16\">\n",
            "block2a_expand_conv False float32 <Policy \"mixed_float16\">\n",
            "block2a_expand_bn False float32 <Policy \"mixed_float16\">\n",
            "block2a_expand_activation False float32 <Policy \"mixed_float16\">\n",
            "block2a_dwconv_pad False float32 <Policy \"mixed_float16\">\n",
            "block2a_dwconv False float32 <Policy \"mixed_float16\">\n",
            "block2a_bn False float32 <Policy \"mixed_float16\">\n",
            "block2a_activation False float32 <Policy \"mixed_float16\">\n",
            "block2a_se_squeeze False float32 <Policy \"mixed_float16\">\n",
            "block2a_se_reshape False float32 <Policy \"mixed_float16\">\n",
            "block2a_se_reduce False float32 <Policy \"mixed_float16\">\n",
            "block2a_se_expand False float32 <Policy \"mixed_float16\">\n",
            "block2a_se_excite False float32 <Policy \"mixed_float16\">\n",
            "block2a_project_conv False float32 <Policy \"mixed_float16\">\n",
            "block2a_project_bn False float32 <Policy \"mixed_float16\">\n",
            "block2b_expand_conv False float32 <Policy \"mixed_float16\">\n",
            "block2b_expand_bn False float32 <Policy \"mixed_float16\">\n",
            "block2b_expand_activation False float32 <Policy \"mixed_float16\">\n",
            "block2b_dwconv False float32 <Policy \"mixed_float16\">\n",
            "block2b_bn False float32 <Policy \"mixed_float16\">\n",
            "block2b_activation False float32 <Policy \"mixed_float16\">\n",
            "block2b_se_squeeze False float32 <Policy \"mixed_float16\">\n",
            "block2b_se_reshape False float32 <Policy \"mixed_float16\">\n",
            "block2b_se_reduce False float32 <Policy \"mixed_float16\">\n",
            "block2b_se_expand False float32 <Policy \"mixed_float16\">\n",
            "block2b_se_excite False float32 <Policy \"mixed_float16\">\n",
            "block2b_project_conv False float32 <Policy \"mixed_float16\">\n",
            "block2b_project_bn False float32 <Policy \"mixed_float16\">\n",
            "block2b_drop False float32 <Policy \"mixed_float16\">\n",
            "block2b_add False float32 <Policy \"mixed_float16\">\n",
            "block3a_expand_conv False float32 <Policy \"mixed_float16\">\n",
            "block3a_expand_bn False float32 <Policy \"mixed_float16\">\n",
            "block3a_expand_activation False float32 <Policy \"mixed_float16\">\n",
            "block3a_dwconv_pad False float32 <Policy \"mixed_float16\">\n",
            "block3a_dwconv False float32 <Policy \"mixed_float16\">\n",
            "block3a_bn False float32 <Policy \"mixed_float16\">\n",
            "block3a_activation False float32 <Policy \"mixed_float16\">\n",
            "block3a_se_squeeze False float32 <Policy \"mixed_float16\">\n",
            "block3a_se_reshape False float32 <Policy \"mixed_float16\">\n",
            "block3a_se_reduce False float32 <Policy \"mixed_float16\">\n",
            "block3a_se_expand False float32 <Policy \"mixed_float16\">\n",
            "block3a_se_excite False float32 <Policy \"mixed_float16\">\n",
            "block3a_project_conv False float32 <Policy \"mixed_float16\">\n",
            "block3a_project_bn False float32 <Policy \"mixed_float16\">\n",
            "block3b_expand_conv False float32 <Policy \"mixed_float16\">\n",
            "block3b_expand_bn False float32 <Policy \"mixed_float16\">\n",
            "block3b_expand_activation False float32 <Policy \"mixed_float16\">\n",
            "block3b_dwconv False float32 <Policy \"mixed_float16\">\n",
            "block3b_bn False float32 <Policy \"mixed_float16\">\n",
            "block3b_activation False float32 <Policy \"mixed_float16\">\n",
            "block3b_se_squeeze False float32 <Policy \"mixed_float16\">\n",
            "block3b_se_reshape False float32 <Policy \"mixed_float16\">\n",
            "block3b_se_reduce False float32 <Policy \"mixed_float16\">\n",
            "block3b_se_expand False float32 <Policy \"mixed_float16\">\n",
            "block3b_se_excite False float32 <Policy \"mixed_float16\">\n",
            "block3b_project_conv False float32 <Policy \"mixed_float16\">\n",
            "block3b_project_bn False float32 <Policy \"mixed_float16\">\n",
            "block3b_drop False float32 <Policy \"mixed_float16\">\n",
            "block3b_add False float32 <Policy \"mixed_float16\">\n",
            "block4a_expand_conv False float32 <Policy \"mixed_float16\">\n",
            "block4a_expand_bn False float32 <Policy \"mixed_float16\">\n",
            "block4a_expand_activation False float32 <Policy \"mixed_float16\">\n",
            "block4a_dwconv_pad False float32 <Policy \"mixed_float16\">\n",
            "block4a_dwconv False float32 <Policy \"mixed_float16\">\n",
            "block4a_bn False float32 <Policy \"mixed_float16\">\n",
            "block4a_activation False float32 <Policy \"mixed_float16\">\n",
            "block4a_se_squeeze False float32 <Policy \"mixed_float16\">\n",
            "block4a_se_reshape False float32 <Policy \"mixed_float16\">\n",
            "block4a_se_reduce False float32 <Policy \"mixed_float16\">\n",
            "block4a_se_expand False float32 <Policy \"mixed_float16\">\n",
            "block4a_se_excite False float32 <Policy \"mixed_float16\">\n",
            "block4a_project_conv False float32 <Policy \"mixed_float16\">\n",
            "block4a_project_bn False float32 <Policy \"mixed_float16\">\n",
            "block4b_expand_conv False float32 <Policy \"mixed_float16\">\n",
            "block4b_expand_bn False float32 <Policy \"mixed_float16\">\n",
            "block4b_expand_activation False float32 <Policy \"mixed_float16\">\n",
            "block4b_dwconv False float32 <Policy \"mixed_float16\">\n",
            "block4b_bn False float32 <Policy \"mixed_float16\">\n",
            "block4b_activation False float32 <Policy \"mixed_float16\">\n",
            "block4b_se_squeeze False float32 <Policy \"mixed_float16\">\n",
            "block4b_se_reshape False float32 <Policy \"mixed_float16\">\n",
            "block4b_se_reduce False float32 <Policy \"mixed_float16\">\n",
            "block4b_se_expand False float32 <Policy \"mixed_float16\">\n",
            "block4b_se_excite False float32 <Policy \"mixed_float16\">\n",
            "block4b_project_conv False float32 <Policy \"mixed_float16\">\n",
            "block4b_project_bn False float32 <Policy \"mixed_float16\">\n",
            "block4b_drop False float32 <Policy \"mixed_float16\">\n",
            "block4b_add False float32 <Policy \"mixed_float16\">\n",
            "block4c_expand_conv False float32 <Policy \"mixed_float16\">\n",
            "block4c_expand_bn False float32 <Policy \"mixed_float16\">\n",
            "block4c_expand_activation False float32 <Policy \"mixed_float16\">\n",
            "block4c_dwconv False float32 <Policy \"mixed_float16\">\n",
            "block4c_bn False float32 <Policy \"mixed_float16\">\n",
            "block4c_activation False float32 <Policy \"mixed_float16\">\n",
            "block4c_se_squeeze False float32 <Policy \"mixed_float16\">\n",
            "block4c_se_reshape False float32 <Policy \"mixed_float16\">\n",
            "block4c_se_reduce False float32 <Policy \"mixed_float16\">\n",
            "block4c_se_expand False float32 <Policy \"mixed_float16\">\n",
            "block4c_se_excite False float32 <Policy \"mixed_float16\">\n",
            "block4c_project_conv False float32 <Policy \"mixed_float16\">\n",
            "block4c_project_bn False float32 <Policy \"mixed_float16\">\n",
            "block4c_drop False float32 <Policy \"mixed_float16\">\n",
            "block4c_add False float32 <Policy \"mixed_float16\">\n",
            "block5a_expand_conv False float32 <Policy \"mixed_float16\">\n",
            "block5a_expand_bn False float32 <Policy \"mixed_float16\">\n",
            "block5a_expand_activation False float32 <Policy \"mixed_float16\">\n",
            "block5a_dwconv False float32 <Policy \"mixed_float16\">\n",
            "block5a_bn False float32 <Policy \"mixed_float16\">\n",
            "block5a_activation False float32 <Policy \"mixed_float16\">\n",
            "block5a_se_squeeze False float32 <Policy \"mixed_float16\">\n",
            "block5a_se_reshape False float32 <Policy \"mixed_float16\">\n",
            "block5a_se_reduce False float32 <Policy \"mixed_float16\">\n",
            "block5a_se_expand False float32 <Policy \"mixed_float16\">\n",
            "block5a_se_excite False float32 <Policy \"mixed_float16\">\n",
            "block5a_project_conv False float32 <Policy \"mixed_float16\">\n",
            "block5a_project_bn False float32 <Policy \"mixed_float16\">\n",
            "block5b_expand_conv False float32 <Policy \"mixed_float16\">\n",
            "block5b_expand_bn False float32 <Policy \"mixed_float16\">\n",
            "block5b_expand_activation False float32 <Policy \"mixed_float16\">\n",
            "block5b_dwconv False float32 <Policy \"mixed_float16\">\n",
            "block5b_bn False float32 <Policy \"mixed_float16\">\n",
            "block5b_activation False float32 <Policy \"mixed_float16\">\n",
            "block5b_se_squeeze False float32 <Policy \"mixed_float16\">\n",
            "block5b_se_reshape False float32 <Policy \"mixed_float16\">\n",
            "block5b_se_reduce False float32 <Policy \"mixed_float16\">\n",
            "block5b_se_expand False float32 <Policy \"mixed_float16\">\n",
            "block5b_se_excite False float32 <Policy \"mixed_float16\">\n",
            "block5b_project_conv False float32 <Policy \"mixed_float16\">\n",
            "block5b_project_bn False float32 <Policy \"mixed_float16\">\n",
            "block5b_drop False float32 <Policy \"mixed_float16\">\n",
            "block5b_add False float32 <Policy \"mixed_float16\">\n",
            "block5c_expand_conv False float32 <Policy \"mixed_float16\">\n",
            "block5c_expand_bn False float32 <Policy \"mixed_float16\">\n",
            "block5c_expand_activation False float32 <Policy \"mixed_float16\">\n",
            "block5c_dwconv False float32 <Policy \"mixed_float16\">\n",
            "block5c_bn False float32 <Policy \"mixed_float16\">\n",
            "block5c_activation False float32 <Policy \"mixed_float16\">\n",
            "block5c_se_squeeze False float32 <Policy \"mixed_float16\">\n",
            "block5c_se_reshape False float32 <Policy \"mixed_float16\">\n",
            "block5c_se_reduce False float32 <Policy \"mixed_float16\">\n",
            "block5c_se_expand False float32 <Policy \"mixed_float16\">\n",
            "block5c_se_excite False float32 <Policy \"mixed_float16\">\n",
            "block5c_project_conv False float32 <Policy \"mixed_float16\">\n",
            "block5c_project_bn False float32 <Policy \"mixed_float16\">\n",
            "block5c_drop False float32 <Policy \"mixed_float16\">\n",
            "block5c_add False float32 <Policy \"mixed_float16\">\n",
            "block6a_expand_conv False float32 <Policy \"mixed_float16\">\n",
            "block6a_expand_bn False float32 <Policy \"mixed_float16\">\n",
            "block6a_expand_activation False float32 <Policy \"mixed_float16\">\n",
            "block6a_dwconv_pad False float32 <Policy \"mixed_float16\">\n",
            "block6a_dwconv False float32 <Policy \"mixed_float16\">\n",
            "block6a_bn False float32 <Policy \"mixed_float16\">\n",
            "block6a_activation False float32 <Policy \"mixed_float16\">\n",
            "block6a_se_squeeze False float32 <Policy \"mixed_float16\">\n",
            "block6a_se_reshape False float32 <Policy \"mixed_float16\">\n",
            "block6a_se_reduce False float32 <Policy \"mixed_float16\">\n",
            "block6a_se_expand False float32 <Policy \"mixed_float16\">\n",
            "block6a_se_excite False float32 <Policy \"mixed_float16\">\n",
            "block6a_project_conv False float32 <Policy \"mixed_float16\">\n",
            "block6a_project_bn False float32 <Policy \"mixed_float16\">\n",
            "block6b_expand_conv False float32 <Policy \"mixed_float16\">\n",
            "block6b_expand_bn False float32 <Policy \"mixed_float16\">\n",
            "block6b_expand_activation False float32 <Policy \"mixed_float16\">\n",
            "block6b_dwconv False float32 <Policy \"mixed_float16\">\n",
            "block6b_bn False float32 <Policy \"mixed_float16\">\n",
            "block6b_activation False float32 <Policy \"mixed_float16\">\n",
            "block6b_se_squeeze False float32 <Policy \"mixed_float16\">\n",
            "block6b_se_reshape False float32 <Policy \"mixed_float16\">\n",
            "block6b_se_reduce False float32 <Policy \"mixed_float16\">\n",
            "block6b_se_expand False float32 <Policy \"mixed_float16\">\n",
            "block6b_se_excite False float32 <Policy \"mixed_float16\">\n",
            "block6b_project_conv False float32 <Policy \"mixed_float16\">\n",
            "block6b_project_bn False float32 <Policy \"mixed_float16\">\n",
            "block6b_drop False float32 <Policy \"mixed_float16\">\n",
            "block6b_add False float32 <Policy \"mixed_float16\">\n",
            "block6c_expand_conv False float32 <Policy \"mixed_float16\">\n",
            "block6c_expand_bn False float32 <Policy \"mixed_float16\">\n",
            "block6c_expand_activation False float32 <Policy \"mixed_float16\">\n",
            "block6c_dwconv False float32 <Policy \"mixed_float16\">\n",
            "block6c_bn False float32 <Policy \"mixed_float16\">\n",
            "block6c_activation False float32 <Policy \"mixed_float16\">\n",
            "block6c_se_squeeze False float32 <Policy \"mixed_float16\">\n",
            "block6c_se_reshape False float32 <Policy \"mixed_float16\">\n",
            "block6c_se_reduce False float32 <Policy \"mixed_float16\">\n",
            "block6c_se_expand False float32 <Policy \"mixed_float16\">\n",
            "block6c_se_excite False float32 <Policy \"mixed_float16\">\n",
            "block6c_project_conv False float32 <Policy \"mixed_float16\">\n",
            "block6c_project_bn False float32 <Policy \"mixed_float16\">\n",
            "block6c_drop False float32 <Policy \"mixed_float16\">\n",
            "block6c_add False float32 <Policy \"mixed_float16\">\n",
            "block6d_expand_conv False float32 <Policy \"mixed_float16\">\n",
            "block6d_expand_bn False float32 <Policy \"mixed_float16\">\n",
            "block6d_expand_activation False float32 <Policy \"mixed_float16\">\n",
            "block6d_dwconv False float32 <Policy \"mixed_float16\">\n",
            "block6d_bn False float32 <Policy \"mixed_float16\">\n",
            "block6d_activation False float32 <Policy \"mixed_float16\">\n",
            "block6d_se_squeeze False float32 <Policy \"mixed_float16\">\n",
            "block6d_se_reshape False float32 <Policy \"mixed_float16\">\n",
            "block6d_se_reduce False float32 <Policy \"mixed_float16\">\n",
            "block6d_se_expand False float32 <Policy \"mixed_float16\">\n",
            "block6d_se_excite False float32 <Policy \"mixed_float16\">\n",
            "block6d_project_conv True float32 <Policy \"mixed_float16\">\n",
            "block6d_project_bn True float32 <Policy \"mixed_float16\">\n",
            "block6d_drop True float32 <Policy \"mixed_float16\">\n",
            "block6d_add True float32 <Policy \"mixed_float16\">\n",
            "block7a_expand_conv True float32 <Policy \"mixed_float16\">\n",
            "block7a_expand_bn True float32 <Policy \"mixed_float16\">\n",
            "block7a_expand_activation True float32 <Policy \"mixed_float16\">\n",
            "block7a_dwconv True float32 <Policy \"mixed_float16\">\n",
            "block7a_bn True float32 <Policy \"mixed_float16\">\n",
            "block7a_activation True float32 <Policy \"mixed_float16\">\n",
            "block7a_se_squeeze True float32 <Policy \"mixed_float16\">\n",
            "block7a_se_reshape True float32 <Policy \"mixed_float16\">\n",
            "block7a_se_reduce True float32 <Policy \"mixed_float16\">\n",
            "block7a_se_expand True float32 <Policy \"mixed_float16\">\n",
            "block7a_se_excite True float32 <Policy \"mixed_float16\">\n",
            "block7a_project_conv True float32 <Policy \"mixed_float16\">\n",
            "block7a_project_bn True float32 <Policy \"mixed_float16\">\n",
            "top_conv True float32 <Policy \"mixed_float16\">\n",
            "top_bn True float32 <Policy \"mixed_float16\">\n",
            "top_activation True float32 <Policy \"mixed_float16\">\n"
          ]
        }
      ]
    },
    {
      "cell_type": "code",
      "source": [
        "model.compile(loss=tf.keras.losses.SparseCategoricalCrossentropy(),\n",
        "              optimizer=tf.keras.optimizers.Adam(learning_rate=0.0001),\n",
        "              metrics=[\"accuracy\"])"
      ],
      "metadata": {
        "id": "J_bLFTloPD1N"
      },
      "execution_count": 86,
      "outputs": []
    },
    {
      "cell_type": "code",
      "source": [
        "model.summary()"
      ],
      "metadata": {
        "colab": {
          "base_uri": "https://localhost:8080/"
        },
        "id": "g4S5wpbuQfRu",
        "outputId": "09a89bd5-34f2-4633-cf0e-8e591015d83e"
      },
      "execution_count": 87,
      "outputs": [
        {
          "output_type": "stream",
          "name": "stdout",
          "text": [
            "Model: \"model_3\"\n",
            "_________________________________________________________________\n",
            " Layer (type)                Output Shape              Param #   \n",
            "=================================================================\n",
            " input_layer (InputLayer)    [(None, 224, 224, 3)]     0         \n",
            "                                                                 \n",
            " efficientnetb0 (Functional  (None, None, None, 1280   4049571   \n",
            " )                           )                                   \n",
            "                                                                 \n",
            " global_average_pooling2d_3  (None, 1280)              0         \n",
            "  (GlobalAveragePooling2D)                                       \n",
            "                                                                 \n",
            " dense_3 (Dense)             (None, 101)               129381    \n",
            "                                                                 \n",
            " softmax_float32 (Activatio  (None, 101)               0         \n",
            " n)                                                              \n",
            "                                                                 \n",
            "=================================================================\n",
            "Total params: 4178952 (15.94 MB)\n",
            "Trainable params: 129381 (505.39 KB)\n",
            "Non-trainable params: 4049571 (15.45 MB)\n",
            "_________________________________________________________________\n"
          ]
        }
      ]
    },
    {
      "cell_type": "code",
      "source": [
        "for layer in model.layers:\n",
        "  layer.trainable = True\n",
        "  print(layer.name, layer.trainable)"
      ],
      "metadata": {
        "colab": {
          "base_uri": "https://localhost:8080/"
        },
        "id": "usKcKt-BQgTp",
        "outputId": "04854aad-1eb4-4e01-fa95-2b9757259ab8"
      },
      "execution_count": 90,
      "outputs": [
        {
          "output_type": "stream",
          "name": "stdout",
          "text": [
            "input_layer True\n",
            "efficientnetb0 True\n",
            "global_average_pooling2d_3 True\n",
            "dense_3 True\n",
            "softmax_float32 True\n"
          ]
        }
      ]
    },
    {
      "cell_type": "code",
      "source": [
        "for layer in model.layers[1].layers:\n",
        "  print(layer.name, layer.trainable)"
      ],
      "metadata": {
        "colab": {
          "base_uri": "https://localhost:8080/"
        },
        "id": "1X69lA-_RVHP",
        "outputId": "2d599bfd-8729-494b-bb9c-c9febf15ae9e"
      },
      "execution_count": 91,
      "outputs": [
        {
          "output_type": "stream",
          "name": "stdout",
          "text": [
            "input_4 True\n",
            "rescaling_6 True\n",
            "normalization_3 True\n",
            "rescaling_7 True\n",
            "stem_conv_pad True\n",
            "stem_conv True\n",
            "stem_bn True\n",
            "stem_activation True\n",
            "block1a_dwconv True\n",
            "block1a_bn True\n",
            "block1a_activation True\n",
            "block1a_se_squeeze True\n",
            "block1a_se_reshape True\n",
            "block1a_se_reduce True\n",
            "block1a_se_expand True\n",
            "block1a_se_excite True\n",
            "block1a_project_conv True\n",
            "block1a_project_bn True\n",
            "block2a_expand_conv True\n",
            "block2a_expand_bn True\n",
            "block2a_expand_activation True\n",
            "block2a_dwconv_pad True\n",
            "block2a_dwconv True\n",
            "block2a_bn True\n",
            "block2a_activation True\n",
            "block2a_se_squeeze True\n",
            "block2a_se_reshape True\n",
            "block2a_se_reduce True\n",
            "block2a_se_expand True\n",
            "block2a_se_excite True\n",
            "block2a_project_conv True\n",
            "block2a_project_bn True\n",
            "block2b_expand_conv True\n",
            "block2b_expand_bn True\n",
            "block2b_expand_activation True\n",
            "block2b_dwconv True\n",
            "block2b_bn True\n",
            "block2b_activation True\n",
            "block2b_se_squeeze True\n",
            "block2b_se_reshape True\n",
            "block2b_se_reduce True\n",
            "block2b_se_expand True\n",
            "block2b_se_excite True\n",
            "block2b_project_conv True\n",
            "block2b_project_bn True\n",
            "block2b_drop True\n",
            "block2b_add True\n",
            "block3a_expand_conv True\n",
            "block3a_expand_bn True\n",
            "block3a_expand_activation True\n",
            "block3a_dwconv_pad True\n",
            "block3a_dwconv True\n",
            "block3a_bn True\n",
            "block3a_activation True\n",
            "block3a_se_squeeze True\n",
            "block3a_se_reshape True\n",
            "block3a_se_reduce True\n",
            "block3a_se_expand True\n",
            "block3a_se_excite True\n",
            "block3a_project_conv True\n",
            "block3a_project_bn True\n",
            "block3b_expand_conv True\n",
            "block3b_expand_bn True\n",
            "block3b_expand_activation True\n",
            "block3b_dwconv True\n",
            "block3b_bn True\n",
            "block3b_activation True\n",
            "block3b_se_squeeze True\n",
            "block3b_se_reshape True\n",
            "block3b_se_reduce True\n",
            "block3b_se_expand True\n",
            "block3b_se_excite True\n",
            "block3b_project_conv True\n",
            "block3b_project_bn True\n",
            "block3b_drop True\n",
            "block3b_add True\n",
            "block4a_expand_conv True\n",
            "block4a_expand_bn True\n",
            "block4a_expand_activation True\n",
            "block4a_dwconv_pad True\n",
            "block4a_dwconv True\n",
            "block4a_bn True\n",
            "block4a_activation True\n",
            "block4a_se_squeeze True\n",
            "block4a_se_reshape True\n",
            "block4a_se_reduce True\n",
            "block4a_se_expand True\n",
            "block4a_se_excite True\n",
            "block4a_project_conv True\n",
            "block4a_project_bn True\n",
            "block4b_expand_conv True\n",
            "block4b_expand_bn True\n",
            "block4b_expand_activation True\n",
            "block4b_dwconv True\n",
            "block4b_bn True\n",
            "block4b_activation True\n",
            "block4b_se_squeeze True\n",
            "block4b_se_reshape True\n",
            "block4b_se_reduce True\n",
            "block4b_se_expand True\n",
            "block4b_se_excite True\n",
            "block4b_project_conv True\n",
            "block4b_project_bn True\n",
            "block4b_drop True\n",
            "block4b_add True\n",
            "block4c_expand_conv True\n",
            "block4c_expand_bn True\n",
            "block4c_expand_activation True\n",
            "block4c_dwconv True\n",
            "block4c_bn True\n",
            "block4c_activation True\n",
            "block4c_se_squeeze True\n",
            "block4c_se_reshape True\n",
            "block4c_se_reduce True\n",
            "block4c_se_expand True\n",
            "block4c_se_excite True\n",
            "block4c_project_conv True\n",
            "block4c_project_bn True\n",
            "block4c_drop True\n",
            "block4c_add True\n",
            "block5a_expand_conv True\n",
            "block5a_expand_bn True\n",
            "block5a_expand_activation True\n",
            "block5a_dwconv True\n",
            "block5a_bn True\n",
            "block5a_activation True\n",
            "block5a_se_squeeze True\n",
            "block5a_se_reshape True\n",
            "block5a_se_reduce True\n",
            "block5a_se_expand True\n",
            "block5a_se_excite True\n",
            "block5a_project_conv True\n",
            "block5a_project_bn True\n",
            "block5b_expand_conv True\n",
            "block5b_expand_bn True\n",
            "block5b_expand_activation True\n",
            "block5b_dwconv True\n",
            "block5b_bn True\n",
            "block5b_activation True\n",
            "block5b_se_squeeze True\n",
            "block5b_se_reshape True\n",
            "block5b_se_reduce True\n",
            "block5b_se_expand True\n",
            "block5b_se_excite True\n",
            "block5b_project_conv True\n",
            "block5b_project_bn True\n",
            "block5b_drop True\n",
            "block5b_add True\n",
            "block5c_expand_conv True\n",
            "block5c_expand_bn True\n",
            "block5c_expand_activation True\n",
            "block5c_dwconv True\n",
            "block5c_bn True\n",
            "block5c_activation True\n",
            "block5c_se_squeeze True\n",
            "block5c_se_reshape True\n",
            "block5c_se_reduce True\n",
            "block5c_se_expand True\n",
            "block5c_se_excite True\n",
            "block5c_project_conv True\n",
            "block5c_project_bn True\n",
            "block5c_drop True\n",
            "block5c_add True\n",
            "block6a_expand_conv True\n",
            "block6a_expand_bn True\n",
            "block6a_expand_activation True\n",
            "block6a_dwconv_pad True\n",
            "block6a_dwconv True\n",
            "block6a_bn True\n",
            "block6a_activation True\n",
            "block6a_se_squeeze True\n",
            "block6a_se_reshape True\n",
            "block6a_se_reduce True\n",
            "block6a_se_expand True\n",
            "block6a_se_excite True\n",
            "block6a_project_conv True\n",
            "block6a_project_bn True\n",
            "block6b_expand_conv True\n",
            "block6b_expand_bn True\n",
            "block6b_expand_activation True\n",
            "block6b_dwconv True\n",
            "block6b_bn True\n",
            "block6b_activation True\n",
            "block6b_se_squeeze True\n",
            "block6b_se_reshape True\n",
            "block6b_se_reduce True\n",
            "block6b_se_expand True\n",
            "block6b_se_excite True\n",
            "block6b_project_conv True\n",
            "block6b_project_bn True\n",
            "block6b_drop True\n",
            "block6b_add True\n",
            "block6c_expand_conv True\n",
            "block6c_expand_bn True\n",
            "block6c_expand_activation True\n",
            "block6c_dwconv True\n",
            "block6c_bn True\n",
            "block6c_activation True\n",
            "block6c_se_squeeze True\n",
            "block6c_se_reshape True\n",
            "block6c_se_reduce True\n",
            "block6c_se_expand True\n",
            "block6c_se_excite True\n",
            "block6c_project_conv True\n",
            "block6c_project_bn True\n",
            "block6c_drop True\n",
            "block6c_add True\n",
            "block6d_expand_conv True\n",
            "block6d_expand_bn True\n",
            "block6d_expand_activation True\n",
            "block6d_dwconv True\n",
            "block6d_bn True\n",
            "block6d_activation True\n",
            "block6d_se_squeeze True\n",
            "block6d_se_reshape True\n",
            "block6d_se_reduce True\n",
            "block6d_se_expand True\n",
            "block6d_se_excite True\n",
            "block6d_project_conv True\n",
            "block6d_project_bn True\n",
            "block6d_drop True\n",
            "block6d_add True\n",
            "block7a_expand_conv True\n",
            "block7a_expand_bn True\n",
            "block7a_expand_activation True\n",
            "block7a_dwconv True\n",
            "block7a_bn True\n",
            "block7a_activation True\n",
            "block7a_se_squeeze True\n",
            "block7a_se_reshape True\n",
            "block7a_se_reduce True\n",
            "block7a_se_expand True\n",
            "block7a_se_excite True\n",
            "block7a_project_conv True\n",
            "block7a_project_bn True\n",
            "top_conv True\n",
            "top_bn True\n",
            "top_activation True\n"
          ]
        }
      ]
    },
    {
      "cell_type": "code",
      "source": [
        "for layer in model.layers[1].layers[:-20]:\n",
        "  layer.trainable=False\n",
        "for layer in model.layers[1].layers:\n",
        "  print(layer.name, layer.trainable)"
      ],
      "metadata": {
        "colab": {
          "base_uri": "https://localhost:8080/"
        },
        "id": "IEScJ405Rq1X",
        "outputId": "6816c6ef-1f47-453a-fd39-0a311855475e"
      },
      "execution_count": 92,
      "outputs": [
        {
          "output_type": "stream",
          "name": "stdout",
          "text": [
            "input_4 False\n",
            "rescaling_6 False\n",
            "normalization_3 False\n",
            "rescaling_7 False\n",
            "stem_conv_pad False\n",
            "stem_conv False\n",
            "stem_bn False\n",
            "stem_activation False\n",
            "block1a_dwconv False\n",
            "block1a_bn False\n",
            "block1a_activation False\n",
            "block1a_se_squeeze False\n",
            "block1a_se_reshape False\n",
            "block1a_se_reduce False\n",
            "block1a_se_expand False\n",
            "block1a_se_excite False\n",
            "block1a_project_conv False\n",
            "block1a_project_bn False\n",
            "block2a_expand_conv False\n",
            "block2a_expand_bn False\n",
            "block2a_expand_activation False\n",
            "block2a_dwconv_pad False\n",
            "block2a_dwconv False\n",
            "block2a_bn False\n",
            "block2a_activation False\n",
            "block2a_se_squeeze False\n",
            "block2a_se_reshape False\n",
            "block2a_se_reduce False\n",
            "block2a_se_expand False\n",
            "block2a_se_excite False\n",
            "block2a_project_conv False\n",
            "block2a_project_bn False\n",
            "block2b_expand_conv False\n",
            "block2b_expand_bn False\n",
            "block2b_expand_activation False\n",
            "block2b_dwconv False\n",
            "block2b_bn False\n",
            "block2b_activation False\n",
            "block2b_se_squeeze False\n",
            "block2b_se_reshape False\n",
            "block2b_se_reduce False\n",
            "block2b_se_expand False\n",
            "block2b_se_excite False\n",
            "block2b_project_conv False\n",
            "block2b_project_bn False\n",
            "block2b_drop False\n",
            "block2b_add False\n",
            "block3a_expand_conv False\n",
            "block3a_expand_bn False\n",
            "block3a_expand_activation False\n",
            "block3a_dwconv_pad False\n",
            "block3a_dwconv False\n",
            "block3a_bn False\n",
            "block3a_activation False\n",
            "block3a_se_squeeze False\n",
            "block3a_se_reshape False\n",
            "block3a_se_reduce False\n",
            "block3a_se_expand False\n",
            "block3a_se_excite False\n",
            "block3a_project_conv False\n",
            "block3a_project_bn False\n",
            "block3b_expand_conv False\n",
            "block3b_expand_bn False\n",
            "block3b_expand_activation False\n",
            "block3b_dwconv False\n",
            "block3b_bn False\n",
            "block3b_activation False\n",
            "block3b_se_squeeze False\n",
            "block3b_se_reshape False\n",
            "block3b_se_reduce False\n",
            "block3b_se_expand False\n",
            "block3b_se_excite False\n",
            "block3b_project_conv False\n",
            "block3b_project_bn False\n",
            "block3b_drop False\n",
            "block3b_add False\n",
            "block4a_expand_conv False\n",
            "block4a_expand_bn False\n",
            "block4a_expand_activation False\n",
            "block4a_dwconv_pad False\n",
            "block4a_dwconv False\n",
            "block4a_bn False\n",
            "block4a_activation False\n",
            "block4a_se_squeeze False\n",
            "block4a_se_reshape False\n",
            "block4a_se_reduce False\n",
            "block4a_se_expand False\n",
            "block4a_se_excite False\n",
            "block4a_project_conv False\n",
            "block4a_project_bn False\n",
            "block4b_expand_conv False\n",
            "block4b_expand_bn False\n",
            "block4b_expand_activation False\n",
            "block4b_dwconv False\n",
            "block4b_bn False\n",
            "block4b_activation False\n",
            "block4b_se_squeeze False\n",
            "block4b_se_reshape False\n",
            "block4b_se_reduce False\n",
            "block4b_se_expand False\n",
            "block4b_se_excite False\n",
            "block4b_project_conv False\n",
            "block4b_project_bn False\n",
            "block4b_drop False\n",
            "block4b_add False\n",
            "block4c_expand_conv False\n",
            "block4c_expand_bn False\n",
            "block4c_expand_activation False\n",
            "block4c_dwconv False\n",
            "block4c_bn False\n",
            "block4c_activation False\n",
            "block4c_se_squeeze False\n",
            "block4c_se_reshape False\n",
            "block4c_se_reduce False\n",
            "block4c_se_expand False\n",
            "block4c_se_excite False\n",
            "block4c_project_conv False\n",
            "block4c_project_bn False\n",
            "block4c_drop False\n",
            "block4c_add False\n",
            "block5a_expand_conv False\n",
            "block5a_expand_bn False\n",
            "block5a_expand_activation False\n",
            "block5a_dwconv False\n",
            "block5a_bn False\n",
            "block5a_activation False\n",
            "block5a_se_squeeze False\n",
            "block5a_se_reshape False\n",
            "block5a_se_reduce False\n",
            "block5a_se_expand False\n",
            "block5a_se_excite False\n",
            "block5a_project_conv False\n",
            "block5a_project_bn False\n",
            "block5b_expand_conv False\n",
            "block5b_expand_bn False\n",
            "block5b_expand_activation False\n",
            "block5b_dwconv False\n",
            "block5b_bn False\n",
            "block5b_activation False\n",
            "block5b_se_squeeze False\n",
            "block5b_se_reshape False\n",
            "block5b_se_reduce False\n",
            "block5b_se_expand False\n",
            "block5b_se_excite False\n",
            "block5b_project_conv False\n",
            "block5b_project_bn False\n",
            "block5b_drop False\n",
            "block5b_add False\n",
            "block5c_expand_conv False\n",
            "block5c_expand_bn False\n",
            "block5c_expand_activation False\n",
            "block5c_dwconv False\n",
            "block5c_bn False\n",
            "block5c_activation False\n",
            "block5c_se_squeeze False\n",
            "block5c_se_reshape False\n",
            "block5c_se_reduce False\n",
            "block5c_se_expand False\n",
            "block5c_se_excite False\n",
            "block5c_project_conv False\n",
            "block5c_project_bn False\n",
            "block5c_drop False\n",
            "block5c_add False\n",
            "block6a_expand_conv False\n",
            "block6a_expand_bn False\n",
            "block6a_expand_activation False\n",
            "block6a_dwconv_pad False\n",
            "block6a_dwconv False\n",
            "block6a_bn False\n",
            "block6a_activation False\n",
            "block6a_se_squeeze False\n",
            "block6a_se_reshape False\n",
            "block6a_se_reduce False\n",
            "block6a_se_expand False\n",
            "block6a_se_excite False\n",
            "block6a_project_conv False\n",
            "block6a_project_bn False\n",
            "block6b_expand_conv False\n",
            "block6b_expand_bn False\n",
            "block6b_expand_activation False\n",
            "block6b_dwconv False\n",
            "block6b_bn False\n",
            "block6b_activation False\n",
            "block6b_se_squeeze False\n",
            "block6b_se_reshape False\n",
            "block6b_se_reduce False\n",
            "block6b_se_expand False\n",
            "block6b_se_excite False\n",
            "block6b_project_conv False\n",
            "block6b_project_bn False\n",
            "block6b_drop False\n",
            "block6b_add False\n",
            "block6c_expand_conv False\n",
            "block6c_expand_bn False\n",
            "block6c_expand_activation False\n",
            "block6c_dwconv False\n",
            "block6c_bn False\n",
            "block6c_activation False\n",
            "block6c_se_squeeze False\n",
            "block6c_se_reshape False\n",
            "block6c_se_reduce False\n",
            "block6c_se_expand False\n",
            "block6c_se_excite False\n",
            "block6c_project_conv False\n",
            "block6c_project_bn False\n",
            "block6c_drop False\n",
            "block6c_add False\n",
            "block6d_expand_conv False\n",
            "block6d_expand_bn False\n",
            "block6d_expand_activation False\n",
            "block6d_dwconv False\n",
            "block6d_bn False\n",
            "block6d_activation False\n",
            "block6d_se_squeeze False\n",
            "block6d_se_reshape False\n",
            "block6d_se_reduce False\n",
            "block6d_se_expand False\n",
            "block6d_se_excite False\n",
            "block6d_project_conv True\n",
            "block6d_project_bn True\n",
            "block6d_drop True\n",
            "block6d_add True\n",
            "block7a_expand_conv True\n",
            "block7a_expand_bn True\n",
            "block7a_expand_activation True\n",
            "block7a_dwconv True\n",
            "block7a_bn True\n",
            "block7a_activation True\n",
            "block7a_se_squeeze True\n",
            "block7a_se_reshape True\n",
            "block7a_se_reduce True\n",
            "block7a_se_expand True\n",
            "block7a_se_excite True\n",
            "block7a_project_conv True\n",
            "block7a_project_bn True\n",
            "top_conv True\n",
            "top_bn True\n",
            "top_activation True\n"
          ]
        }
      ]
    },
    {
      "cell_type": "code",
      "source": [
        "for layer in model.layers:\n",
        "  print(layer.name, layer.trainable)"
      ],
      "metadata": {
        "colab": {
          "base_uri": "https://localhost:8080/"
        },
        "id": "x3C75MgHSAGZ",
        "outputId": "d3965991-df27-4826-c0cb-2d24b648ffc8"
      },
      "execution_count": 93,
      "outputs": [
        {
          "output_type": "stream",
          "name": "stdout",
          "text": [
            "input_layer True\n",
            "efficientnetb0 True\n",
            "global_average_pooling2d_3 True\n",
            "dense_3 True\n",
            "softmax_float32 True\n"
          ]
        }
      ]
    },
    {
      "cell_type": "code",
      "source": [
        "model.compile(loss=tf.keras.losses.SparseCategoricalCrossentropy(),\n",
        "              optimizer=tf.keras.optimizers.Adam(learning_rate=0.0001),\n",
        "              metrics=[\"accuracy\"])"
      ],
      "metadata": {
        "id": "StJdJKrQSEyW"
      },
      "execution_count": 94,
      "outputs": []
    },
    {
      "cell_type": "code",
      "source": [
        "model.summary()"
      ],
      "metadata": {
        "colab": {
          "base_uri": "https://localhost:8080/"
        },
        "id": "kD-dtJhfSIj-",
        "outputId": "b108fca4-6f44-402c-e5e5-7e227ecd2532"
      },
      "execution_count": 95,
      "outputs": [
        {
          "output_type": "stream",
          "name": "stdout",
          "text": [
            "Model: \"model_3\"\n",
            "_________________________________________________________________\n",
            " Layer (type)                Output Shape              Param #   \n",
            "=================================================================\n",
            " input_layer (InputLayer)    [(None, 224, 224, 3)]     0         \n",
            "                                                                 \n",
            " efficientnetb0 (Functional  (None, None, None, 1280   4049571   \n",
            " )                           )                                   \n",
            "                                                                 \n",
            " global_average_pooling2d_3  (None, 1280)              0         \n",
            "  (GlobalAveragePooling2D)                                       \n",
            "                                                                 \n",
            " dense_3 (Dense)             (None, 101)               129381    \n",
            "                                                                 \n",
            " softmax_float32 (Activatio  (None, 101)               0         \n",
            " n)                                                              \n",
            "                                                                 \n",
            "=================================================================\n",
            "Total params: 4178952 (15.94 MB)\n",
            "Trainable params: 1480341 (5.65 MB)\n",
            "Non-trainable params: 2698611 (10.29 MB)\n",
            "_________________________________________________________________\n"
          ]
        }
      ]
    },
    {
      "cell_type": "code",
      "source": [
        "history_101_foodclasses_finetune_final_attempt = model.fit(train_data,\n",
        "          epochs=100,\n",
        "          steps_per_epoch=len(train_data),\n",
        "          validation_data=test_data,\n",
        "          validation_steps=int(0.15*len(test_data)),\n",
        "          callbacks=[create_tensorboard_callback(\"training_logs\",\n",
        "                                                 \"final_finetuning_attempt\"),\n",
        "                     model_checkpoint,\n",
        "                     early_stopping,\n",
        "                     plateulr]\n",
        "          )"
      ],
      "metadata": {
        "colab": {
          "base_uri": "https://localhost:8080/"
        },
        "id": "AtZM3YKgSJ-K",
        "outputId": "92accc71-b605-45d6-a6cd-ef1183c11d4e"
      },
      "execution_count": 96,
      "outputs": [
        {
          "output_type": "stream",
          "name": "stdout",
          "text": [
            "Saving TensorBoard log files to: training_logs/final_finetuning_attempt/20240125-154615\n",
            "Epoch 1/100\n",
            "2368/2368 [==============================] - 213s 84ms/step - loss: 1.7681 - accuracy: 0.5535 - val_loss: 1.0741 - val_accuracy: 0.6994 - lr: 1.0000e-04\n",
            "Epoch 2/100\n",
            "2368/2368 [==============================] - 204s 85ms/step - loss: 1.1307 - accuracy: 0.7017 - val_loss: 0.9287 - val_accuracy: 0.7474 - lr: 1.0000e-04\n",
            "Epoch 3/100\n",
            "2368/2368 [==============================] - 198s 83ms/step - loss: 0.9169 - accuracy: 0.7533 - val_loss: 0.8691 - val_accuracy: 0.7595 - lr: 1.0000e-04\n",
            "Epoch 4/100\n",
            "2368/2368 [==============================] - 201s 84ms/step - loss: 0.7590 - accuracy: 0.7932 - val_loss: 0.8276 - val_accuracy: 0.7680 - lr: 1.0000e-04\n",
            "Epoch 5/100\n",
            "2368/2368 [==============================] - 177s 74ms/step - loss: 0.6187 - accuracy: 0.8307 - val_loss: 0.8607 - val_accuracy: 0.7667 - lr: 1.0000e-04\n",
            "Epoch 6/100\n",
            "2368/2368 [==============================] - ETA: 0s - loss: 0.4960 - accuracy: 0.8640\n",
            "Epoch 6: ReduceLROnPlateau reducing learning rate to 1.9999999494757503e-05.\n",
            "2368/2368 [==============================] - 175s 73ms/step - loss: 0.4960 - accuracy: 0.8640 - val_loss: 0.8596 - val_accuracy: 0.7667 - lr: 1.0000e-04\n",
            "Epoch 7/100\n",
            "2368/2368 [==============================] - 175s 73ms/step - loss: 0.3056 - accuracy: 0.9241 - val_loss: 0.8403 - val_accuracy: 0.7826 - lr: 2.0000e-05\n",
            "Epoch 7: early stopping\n"
          ]
        }
      ]
    }
  ]
}