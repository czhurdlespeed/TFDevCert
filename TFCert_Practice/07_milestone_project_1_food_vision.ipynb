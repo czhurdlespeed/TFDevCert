{
  "nbformat": 4,
  "nbformat_minor": 0,
  "metadata": {
    "colab": {
      "provenance": [],
      "gpuType": "T4",
      "authorship_tag": "ABX9TyMlXvjpI/yMpWmsgH4h0ty3",
      "include_colab_link": true
    },
    "kernelspec": {
      "name": "python3",
      "display_name": "Python 3"
    },
    "language_info": {
      "name": "python"
    },
    "accelerator": "GPU",
    "widgets": {
      "application/vnd.jupyter.widget-state+json": {
        "36b29054801b40129fbcf1cd4399138c": {
          "model_module": "@jupyter-widgets/controls",
          "model_name": "HBoxModel",
          "model_module_version": "1.5.0",
          "state": {
            "_dom_classes": [],
            "_model_module": "@jupyter-widgets/controls",
            "_model_module_version": "1.5.0",
            "_model_name": "HBoxModel",
            "_view_count": null,
            "_view_module": "@jupyter-widgets/controls",
            "_view_module_version": "1.5.0",
            "_view_name": "HBoxView",
            "box_style": "",
            "children": [
              "IPY_MODEL_cf250c6228b0452ebb9724837401aab2",
              "IPY_MODEL_a89210a88ea2488481cc54ccaa0f3e0a",
              "IPY_MODEL_13a084588d2341d88398bc76a41c1642"
            ],
            "layout": "IPY_MODEL_b8e36349df784b8ea9b761a19759733b"
          }
        },
        "cf250c6228b0452ebb9724837401aab2": {
          "model_module": "@jupyter-widgets/controls",
          "model_name": "HTMLModel",
          "model_module_version": "1.5.0",
          "state": {
            "_dom_classes": [],
            "_model_module": "@jupyter-widgets/controls",
            "_model_module_version": "1.5.0",
            "_model_name": "HTMLModel",
            "_view_count": null,
            "_view_module": "@jupyter-widgets/controls",
            "_view_module_version": "1.5.0",
            "_view_name": "HTMLView",
            "description": "",
            "description_tooltip": null,
            "layout": "IPY_MODEL_d5606caf0e8f4128ba6437788426da41",
            "placeholder": "​",
            "style": "IPY_MODEL_c81d9e4c40ad44e2b0a12a889e03e06b",
            "value": "Dl Completed...: 100%"
          }
        },
        "a89210a88ea2488481cc54ccaa0f3e0a": {
          "model_module": "@jupyter-widgets/controls",
          "model_name": "FloatProgressModel",
          "model_module_version": "1.5.0",
          "state": {
            "_dom_classes": [],
            "_model_module": "@jupyter-widgets/controls",
            "_model_module_version": "1.5.0",
            "_model_name": "FloatProgressModel",
            "_view_count": null,
            "_view_module": "@jupyter-widgets/controls",
            "_view_module_version": "1.5.0",
            "_view_name": "ProgressView",
            "bar_style": "success",
            "description": "",
            "description_tooltip": null,
            "layout": "IPY_MODEL_0beff1d33ca349f8871c068536d9e343",
            "max": 1,
            "min": 0,
            "orientation": "horizontal",
            "style": "IPY_MODEL_dd77656ce16f432ab4e4aa116567709d",
            "value": 1
          }
        },
        "13a084588d2341d88398bc76a41c1642": {
          "model_module": "@jupyter-widgets/controls",
          "model_name": "HTMLModel",
          "model_module_version": "1.5.0",
          "state": {
            "_dom_classes": [],
            "_model_module": "@jupyter-widgets/controls",
            "_model_module_version": "1.5.0",
            "_model_name": "HTMLModel",
            "_view_count": null,
            "_view_module": "@jupyter-widgets/controls",
            "_view_module_version": "1.5.0",
            "_view_name": "HTMLView",
            "description": "",
            "description_tooltip": null,
            "layout": "IPY_MODEL_d286dac20da34edda898cba84bb639ac",
            "placeholder": "​",
            "style": "IPY_MODEL_fa2f651635de431288d2b8c232fc6f32",
            "value": " 1/1 [09:43&lt;00:00, 265.74s/ url]"
          }
        },
        "b8e36349df784b8ea9b761a19759733b": {
          "model_module": "@jupyter-widgets/base",
          "model_name": "LayoutModel",
          "model_module_version": "1.2.0",
          "state": {
            "_model_module": "@jupyter-widgets/base",
            "_model_module_version": "1.2.0",
            "_model_name": "LayoutModel",
            "_view_count": null,
            "_view_module": "@jupyter-widgets/base",
            "_view_module_version": "1.2.0",
            "_view_name": "LayoutView",
            "align_content": null,
            "align_items": null,
            "align_self": null,
            "border": null,
            "bottom": null,
            "display": null,
            "flex": null,
            "flex_flow": null,
            "grid_area": null,
            "grid_auto_columns": null,
            "grid_auto_flow": null,
            "grid_auto_rows": null,
            "grid_column": null,
            "grid_gap": null,
            "grid_row": null,
            "grid_template_areas": null,
            "grid_template_columns": null,
            "grid_template_rows": null,
            "height": null,
            "justify_content": null,
            "justify_items": null,
            "left": null,
            "margin": null,
            "max_height": null,
            "max_width": null,
            "min_height": null,
            "min_width": null,
            "object_fit": null,
            "object_position": null,
            "order": null,
            "overflow": null,
            "overflow_x": null,
            "overflow_y": null,
            "padding": null,
            "right": null,
            "top": null,
            "visibility": null,
            "width": null
          }
        },
        "d5606caf0e8f4128ba6437788426da41": {
          "model_module": "@jupyter-widgets/base",
          "model_name": "LayoutModel",
          "model_module_version": "1.2.0",
          "state": {
            "_model_module": "@jupyter-widgets/base",
            "_model_module_version": "1.2.0",
            "_model_name": "LayoutModel",
            "_view_count": null,
            "_view_module": "@jupyter-widgets/base",
            "_view_module_version": "1.2.0",
            "_view_name": "LayoutView",
            "align_content": null,
            "align_items": null,
            "align_self": null,
            "border": null,
            "bottom": null,
            "display": null,
            "flex": null,
            "flex_flow": null,
            "grid_area": null,
            "grid_auto_columns": null,
            "grid_auto_flow": null,
            "grid_auto_rows": null,
            "grid_column": null,
            "grid_gap": null,
            "grid_row": null,
            "grid_template_areas": null,
            "grid_template_columns": null,
            "grid_template_rows": null,
            "height": null,
            "justify_content": null,
            "justify_items": null,
            "left": null,
            "margin": null,
            "max_height": null,
            "max_width": null,
            "min_height": null,
            "min_width": null,
            "object_fit": null,
            "object_position": null,
            "order": null,
            "overflow": null,
            "overflow_x": null,
            "overflow_y": null,
            "padding": null,
            "right": null,
            "top": null,
            "visibility": null,
            "width": null
          }
        },
        "c81d9e4c40ad44e2b0a12a889e03e06b": {
          "model_module": "@jupyter-widgets/controls",
          "model_name": "DescriptionStyleModel",
          "model_module_version": "1.5.0",
          "state": {
            "_model_module": "@jupyter-widgets/controls",
            "_model_module_version": "1.5.0",
            "_model_name": "DescriptionStyleModel",
            "_view_count": null,
            "_view_module": "@jupyter-widgets/base",
            "_view_module_version": "1.2.0",
            "_view_name": "StyleView",
            "description_width": ""
          }
        },
        "0beff1d33ca349f8871c068536d9e343": {
          "model_module": "@jupyter-widgets/base",
          "model_name": "LayoutModel",
          "model_module_version": "1.2.0",
          "state": {
            "_model_module": "@jupyter-widgets/base",
            "_model_module_version": "1.2.0",
            "_model_name": "LayoutModel",
            "_view_count": null,
            "_view_module": "@jupyter-widgets/base",
            "_view_module_version": "1.2.0",
            "_view_name": "LayoutView",
            "align_content": null,
            "align_items": null,
            "align_self": null,
            "border": null,
            "bottom": null,
            "display": null,
            "flex": null,
            "flex_flow": null,
            "grid_area": null,
            "grid_auto_columns": null,
            "grid_auto_flow": null,
            "grid_auto_rows": null,
            "grid_column": null,
            "grid_gap": null,
            "grid_row": null,
            "grid_template_areas": null,
            "grid_template_columns": null,
            "grid_template_rows": null,
            "height": null,
            "justify_content": null,
            "justify_items": null,
            "left": null,
            "margin": null,
            "max_height": null,
            "max_width": null,
            "min_height": null,
            "min_width": null,
            "object_fit": null,
            "object_position": null,
            "order": null,
            "overflow": null,
            "overflow_x": null,
            "overflow_y": null,
            "padding": null,
            "right": null,
            "top": null,
            "visibility": null,
            "width": "20px"
          }
        },
        "dd77656ce16f432ab4e4aa116567709d": {
          "model_module": "@jupyter-widgets/controls",
          "model_name": "ProgressStyleModel",
          "model_module_version": "1.5.0",
          "state": {
            "_model_module": "@jupyter-widgets/controls",
            "_model_module_version": "1.5.0",
            "_model_name": "ProgressStyleModel",
            "_view_count": null,
            "_view_module": "@jupyter-widgets/base",
            "_view_module_version": "1.2.0",
            "_view_name": "StyleView",
            "bar_color": null,
            "description_width": ""
          }
        },
        "d286dac20da34edda898cba84bb639ac": {
          "model_module": "@jupyter-widgets/base",
          "model_name": "LayoutModel",
          "model_module_version": "1.2.0",
          "state": {
            "_model_module": "@jupyter-widgets/base",
            "_model_module_version": "1.2.0",
            "_model_name": "LayoutModel",
            "_view_count": null,
            "_view_module": "@jupyter-widgets/base",
            "_view_module_version": "1.2.0",
            "_view_name": "LayoutView",
            "align_content": null,
            "align_items": null,
            "align_self": null,
            "border": null,
            "bottom": null,
            "display": null,
            "flex": null,
            "flex_flow": null,
            "grid_area": null,
            "grid_auto_columns": null,
            "grid_auto_flow": null,
            "grid_auto_rows": null,
            "grid_column": null,
            "grid_gap": null,
            "grid_row": null,
            "grid_template_areas": null,
            "grid_template_columns": null,
            "grid_template_rows": null,
            "height": null,
            "justify_content": null,
            "justify_items": null,
            "left": null,
            "margin": null,
            "max_height": null,
            "max_width": null,
            "min_height": null,
            "min_width": null,
            "object_fit": null,
            "object_position": null,
            "order": null,
            "overflow": null,
            "overflow_x": null,
            "overflow_y": null,
            "padding": null,
            "right": null,
            "top": null,
            "visibility": null,
            "width": null
          }
        },
        "fa2f651635de431288d2b8c232fc6f32": {
          "model_module": "@jupyter-widgets/controls",
          "model_name": "DescriptionStyleModel",
          "model_module_version": "1.5.0",
          "state": {
            "_model_module": "@jupyter-widgets/controls",
            "_model_module_version": "1.5.0",
            "_model_name": "DescriptionStyleModel",
            "_view_count": null,
            "_view_module": "@jupyter-widgets/base",
            "_view_module_version": "1.2.0",
            "_view_name": "StyleView",
            "description_width": ""
          }
        },
        "dd78493642824204bf5a417f3089a9cd": {
          "model_module": "@jupyter-widgets/controls",
          "model_name": "HBoxModel",
          "model_module_version": "1.5.0",
          "state": {
            "_dom_classes": [],
            "_model_module": "@jupyter-widgets/controls",
            "_model_module_version": "1.5.0",
            "_model_name": "HBoxModel",
            "_view_count": null,
            "_view_module": "@jupyter-widgets/controls",
            "_view_module_version": "1.5.0",
            "_view_name": "HBoxView",
            "box_style": "",
            "children": [
              "IPY_MODEL_3b38cd6259b94f6593025794257dc5ce",
              "IPY_MODEL_feac9288c15146749214cf7ce4831fa1",
              "IPY_MODEL_c7dcdf88f97442518040436e4e58b651"
            ],
            "layout": "IPY_MODEL_8dd2d949e01a46ba8cb5415047e6d73e"
          }
        },
        "3b38cd6259b94f6593025794257dc5ce": {
          "model_module": "@jupyter-widgets/controls",
          "model_name": "HTMLModel",
          "model_module_version": "1.5.0",
          "state": {
            "_dom_classes": [],
            "_model_module": "@jupyter-widgets/controls",
            "_model_module_version": "1.5.0",
            "_model_name": "HTMLModel",
            "_view_count": null,
            "_view_module": "@jupyter-widgets/controls",
            "_view_module_version": "1.5.0",
            "_view_name": "HTMLView",
            "description": "",
            "description_tooltip": null,
            "layout": "IPY_MODEL_3293e760ba9049b88ba42326fd9db07e",
            "placeholder": "​",
            "style": "IPY_MODEL_e130cdf8616d4699b1939700f9f059c5",
            "value": "Dl Size...: 100%"
          }
        },
        "feac9288c15146749214cf7ce4831fa1": {
          "model_module": "@jupyter-widgets/controls",
          "model_name": "FloatProgressModel",
          "model_module_version": "1.5.0",
          "state": {
            "_dom_classes": [],
            "_model_module": "@jupyter-widgets/controls",
            "_model_module_version": "1.5.0",
            "_model_name": "FloatProgressModel",
            "_view_count": null,
            "_view_module": "@jupyter-widgets/controls",
            "_view_module_version": "1.5.0",
            "_view_name": "ProgressView",
            "bar_style": "success",
            "description": "",
            "description_tooltip": null,
            "layout": "IPY_MODEL_72774bd6c8b94908a42d743008e12688",
            "max": 1,
            "min": 0,
            "orientation": "horizontal",
            "style": "IPY_MODEL_349468a74b1d449d9919111efdbbce69",
            "value": 1
          }
        },
        "c7dcdf88f97442518040436e4e58b651": {
          "model_module": "@jupyter-widgets/controls",
          "model_name": "HTMLModel",
          "model_module_version": "1.5.0",
          "state": {
            "_dom_classes": [],
            "_model_module": "@jupyter-widgets/controls",
            "_model_module_version": "1.5.0",
            "_model_name": "HTMLModel",
            "_view_count": null,
            "_view_module": "@jupyter-widgets/controls",
            "_view_module_version": "1.5.0",
            "_view_name": "HTMLView",
            "description": "",
            "description_tooltip": null,
            "layout": "IPY_MODEL_31cf07bcdc11491598ed79e87a6d9bf4",
            "placeholder": "​",
            "style": "IPY_MODEL_f224537ea5eb4f90b00d60ef6253a733",
            "value": " 4764/4764 [09:43&lt;00:00, 18.04 MiB/s]"
          }
        },
        "8dd2d949e01a46ba8cb5415047e6d73e": {
          "model_module": "@jupyter-widgets/base",
          "model_name": "LayoutModel",
          "model_module_version": "1.2.0",
          "state": {
            "_model_module": "@jupyter-widgets/base",
            "_model_module_version": "1.2.0",
            "_model_name": "LayoutModel",
            "_view_count": null,
            "_view_module": "@jupyter-widgets/base",
            "_view_module_version": "1.2.0",
            "_view_name": "LayoutView",
            "align_content": null,
            "align_items": null,
            "align_self": null,
            "border": null,
            "bottom": null,
            "display": null,
            "flex": null,
            "flex_flow": null,
            "grid_area": null,
            "grid_auto_columns": null,
            "grid_auto_flow": null,
            "grid_auto_rows": null,
            "grid_column": null,
            "grid_gap": null,
            "grid_row": null,
            "grid_template_areas": null,
            "grid_template_columns": null,
            "grid_template_rows": null,
            "height": null,
            "justify_content": null,
            "justify_items": null,
            "left": null,
            "margin": null,
            "max_height": null,
            "max_width": null,
            "min_height": null,
            "min_width": null,
            "object_fit": null,
            "object_position": null,
            "order": null,
            "overflow": null,
            "overflow_x": null,
            "overflow_y": null,
            "padding": null,
            "right": null,
            "top": null,
            "visibility": null,
            "width": null
          }
        },
        "3293e760ba9049b88ba42326fd9db07e": {
          "model_module": "@jupyter-widgets/base",
          "model_name": "LayoutModel",
          "model_module_version": "1.2.0",
          "state": {
            "_model_module": "@jupyter-widgets/base",
            "_model_module_version": "1.2.0",
            "_model_name": "LayoutModel",
            "_view_count": null,
            "_view_module": "@jupyter-widgets/base",
            "_view_module_version": "1.2.0",
            "_view_name": "LayoutView",
            "align_content": null,
            "align_items": null,
            "align_self": null,
            "border": null,
            "bottom": null,
            "display": null,
            "flex": null,
            "flex_flow": null,
            "grid_area": null,
            "grid_auto_columns": null,
            "grid_auto_flow": null,
            "grid_auto_rows": null,
            "grid_column": null,
            "grid_gap": null,
            "grid_row": null,
            "grid_template_areas": null,
            "grid_template_columns": null,
            "grid_template_rows": null,
            "height": null,
            "justify_content": null,
            "justify_items": null,
            "left": null,
            "margin": null,
            "max_height": null,
            "max_width": null,
            "min_height": null,
            "min_width": null,
            "object_fit": null,
            "object_position": null,
            "order": null,
            "overflow": null,
            "overflow_x": null,
            "overflow_y": null,
            "padding": null,
            "right": null,
            "top": null,
            "visibility": null,
            "width": null
          }
        },
        "e130cdf8616d4699b1939700f9f059c5": {
          "model_module": "@jupyter-widgets/controls",
          "model_name": "DescriptionStyleModel",
          "model_module_version": "1.5.0",
          "state": {
            "_model_module": "@jupyter-widgets/controls",
            "_model_module_version": "1.5.0",
            "_model_name": "DescriptionStyleModel",
            "_view_count": null,
            "_view_module": "@jupyter-widgets/base",
            "_view_module_version": "1.2.0",
            "_view_name": "StyleView",
            "description_width": ""
          }
        },
        "72774bd6c8b94908a42d743008e12688": {
          "model_module": "@jupyter-widgets/base",
          "model_name": "LayoutModel",
          "model_module_version": "1.2.0",
          "state": {
            "_model_module": "@jupyter-widgets/base",
            "_model_module_version": "1.2.0",
            "_model_name": "LayoutModel",
            "_view_count": null,
            "_view_module": "@jupyter-widgets/base",
            "_view_module_version": "1.2.0",
            "_view_name": "LayoutView",
            "align_content": null,
            "align_items": null,
            "align_self": null,
            "border": null,
            "bottom": null,
            "display": null,
            "flex": null,
            "flex_flow": null,
            "grid_area": null,
            "grid_auto_columns": null,
            "grid_auto_flow": null,
            "grid_auto_rows": null,
            "grid_column": null,
            "grid_gap": null,
            "grid_row": null,
            "grid_template_areas": null,
            "grid_template_columns": null,
            "grid_template_rows": null,
            "height": null,
            "justify_content": null,
            "justify_items": null,
            "left": null,
            "margin": null,
            "max_height": null,
            "max_width": null,
            "min_height": null,
            "min_width": null,
            "object_fit": null,
            "object_position": null,
            "order": null,
            "overflow": null,
            "overflow_x": null,
            "overflow_y": null,
            "padding": null,
            "right": null,
            "top": null,
            "visibility": null,
            "width": "20px"
          }
        },
        "349468a74b1d449d9919111efdbbce69": {
          "model_module": "@jupyter-widgets/controls",
          "model_name": "ProgressStyleModel",
          "model_module_version": "1.5.0",
          "state": {
            "_model_module": "@jupyter-widgets/controls",
            "_model_module_version": "1.5.0",
            "_model_name": "ProgressStyleModel",
            "_view_count": null,
            "_view_module": "@jupyter-widgets/base",
            "_view_module_version": "1.2.0",
            "_view_name": "StyleView",
            "bar_color": null,
            "description_width": ""
          }
        },
        "31cf07bcdc11491598ed79e87a6d9bf4": {
          "model_module": "@jupyter-widgets/base",
          "model_name": "LayoutModel",
          "model_module_version": "1.2.0",
          "state": {
            "_model_module": "@jupyter-widgets/base",
            "_model_module_version": "1.2.0",
            "_model_name": "LayoutModel",
            "_view_count": null,
            "_view_module": "@jupyter-widgets/base",
            "_view_module_version": "1.2.0",
            "_view_name": "LayoutView",
            "align_content": null,
            "align_items": null,
            "align_self": null,
            "border": null,
            "bottom": null,
            "display": null,
            "flex": null,
            "flex_flow": null,
            "grid_area": null,
            "grid_auto_columns": null,
            "grid_auto_flow": null,
            "grid_auto_rows": null,
            "grid_column": null,
            "grid_gap": null,
            "grid_row": null,
            "grid_template_areas": null,
            "grid_template_columns": null,
            "grid_template_rows": null,
            "height": null,
            "justify_content": null,
            "justify_items": null,
            "left": null,
            "margin": null,
            "max_height": null,
            "max_width": null,
            "min_height": null,
            "min_width": null,
            "object_fit": null,
            "object_position": null,
            "order": null,
            "overflow": null,
            "overflow_x": null,
            "overflow_y": null,
            "padding": null,
            "right": null,
            "top": null,
            "visibility": null,
            "width": null
          }
        },
        "f224537ea5eb4f90b00d60ef6253a733": {
          "model_module": "@jupyter-widgets/controls",
          "model_name": "DescriptionStyleModel",
          "model_module_version": "1.5.0",
          "state": {
            "_model_module": "@jupyter-widgets/controls",
            "_model_module_version": "1.5.0",
            "_model_name": "DescriptionStyleModel",
            "_view_count": null,
            "_view_module": "@jupyter-widgets/base",
            "_view_module_version": "1.2.0",
            "_view_name": "StyleView",
            "description_width": ""
          }
        },
        "9510256be99e4e68b77e12daf7ba5877": {
          "model_module": "@jupyter-widgets/controls",
          "model_name": "HBoxModel",
          "model_module_version": "1.5.0",
          "state": {
            "_dom_classes": [],
            "_model_module": "@jupyter-widgets/controls",
            "_model_module_version": "1.5.0",
            "_model_name": "HBoxModel",
            "_view_count": null,
            "_view_module": "@jupyter-widgets/controls",
            "_view_module_version": "1.5.0",
            "_view_name": "HBoxView",
            "box_style": "",
            "children": [
              "IPY_MODEL_286c12b394814c7fb1195b2ea183272e",
              "IPY_MODEL_2b8300990b1c4b84bee2ff41d7ac360b",
              "IPY_MODEL_e0899fe353544c37b6319909b288bbf6"
            ],
            "layout": "IPY_MODEL_3cde0b9ead204184a3560dc3e85d7efc"
          }
        },
        "286c12b394814c7fb1195b2ea183272e": {
          "model_module": "@jupyter-widgets/controls",
          "model_name": "HTMLModel",
          "model_module_version": "1.5.0",
          "state": {
            "_dom_classes": [],
            "_model_module": "@jupyter-widgets/controls",
            "_model_module_version": "1.5.0",
            "_model_name": "HTMLModel",
            "_view_count": null,
            "_view_module": "@jupyter-widgets/controls",
            "_view_module_version": "1.5.0",
            "_view_name": "HTMLView",
            "description": "",
            "description_tooltip": null,
            "layout": "IPY_MODEL_752d04e0d5804a72bff7107116b396fe",
            "placeholder": "​",
            "style": "IPY_MODEL_039db20cd1c34a6fbfb8fc37a3f465f9",
            "value": "Extraction completed...: 100%"
          }
        },
        "2b8300990b1c4b84bee2ff41d7ac360b": {
          "model_module": "@jupyter-widgets/controls",
          "model_name": "FloatProgressModel",
          "model_module_version": "1.5.0",
          "state": {
            "_dom_classes": [],
            "_model_module": "@jupyter-widgets/controls",
            "_model_module_version": "1.5.0",
            "_model_name": "FloatProgressModel",
            "_view_count": null,
            "_view_module": "@jupyter-widgets/controls",
            "_view_module_version": "1.5.0",
            "_view_name": "ProgressView",
            "bar_style": "success",
            "description": "",
            "description_tooltip": null,
            "layout": "IPY_MODEL_edefa8df1b9b4edfb2b45af6c08d73bd",
            "max": 1,
            "min": 0,
            "orientation": "horizontal",
            "style": "IPY_MODEL_8f7cca627c364f9093d36604c57017b7",
            "value": 1
          }
        },
        "e0899fe353544c37b6319909b288bbf6": {
          "model_module": "@jupyter-widgets/controls",
          "model_name": "HTMLModel",
          "model_module_version": "1.5.0",
          "state": {
            "_dom_classes": [],
            "_model_module": "@jupyter-widgets/controls",
            "_model_module_version": "1.5.0",
            "_model_name": "HTMLModel",
            "_view_count": null,
            "_view_module": "@jupyter-widgets/controls",
            "_view_module_version": "1.5.0",
            "_view_name": "HTMLView",
            "description": "",
            "description_tooltip": null,
            "layout": "IPY_MODEL_d0fcdf0a35c844a491a77b3b74feee56",
            "placeholder": "​",
            "style": "IPY_MODEL_79a8dd91b4294f7185a6cd59e4b918dd",
            "value": " 101008/101008 [09:43&lt;00:00, 1091.99 file/s]"
          }
        },
        "3cde0b9ead204184a3560dc3e85d7efc": {
          "model_module": "@jupyter-widgets/base",
          "model_name": "LayoutModel",
          "model_module_version": "1.2.0",
          "state": {
            "_model_module": "@jupyter-widgets/base",
            "_model_module_version": "1.2.0",
            "_model_name": "LayoutModel",
            "_view_count": null,
            "_view_module": "@jupyter-widgets/base",
            "_view_module_version": "1.2.0",
            "_view_name": "LayoutView",
            "align_content": null,
            "align_items": null,
            "align_self": null,
            "border": null,
            "bottom": null,
            "display": null,
            "flex": null,
            "flex_flow": null,
            "grid_area": null,
            "grid_auto_columns": null,
            "grid_auto_flow": null,
            "grid_auto_rows": null,
            "grid_column": null,
            "grid_gap": null,
            "grid_row": null,
            "grid_template_areas": null,
            "grid_template_columns": null,
            "grid_template_rows": null,
            "height": null,
            "justify_content": null,
            "justify_items": null,
            "left": null,
            "margin": null,
            "max_height": null,
            "max_width": null,
            "min_height": null,
            "min_width": null,
            "object_fit": null,
            "object_position": null,
            "order": null,
            "overflow": null,
            "overflow_x": null,
            "overflow_y": null,
            "padding": null,
            "right": null,
            "top": null,
            "visibility": null,
            "width": null
          }
        },
        "752d04e0d5804a72bff7107116b396fe": {
          "model_module": "@jupyter-widgets/base",
          "model_name": "LayoutModel",
          "model_module_version": "1.2.0",
          "state": {
            "_model_module": "@jupyter-widgets/base",
            "_model_module_version": "1.2.0",
            "_model_name": "LayoutModel",
            "_view_count": null,
            "_view_module": "@jupyter-widgets/base",
            "_view_module_version": "1.2.0",
            "_view_name": "LayoutView",
            "align_content": null,
            "align_items": null,
            "align_self": null,
            "border": null,
            "bottom": null,
            "display": null,
            "flex": null,
            "flex_flow": null,
            "grid_area": null,
            "grid_auto_columns": null,
            "grid_auto_flow": null,
            "grid_auto_rows": null,
            "grid_column": null,
            "grid_gap": null,
            "grid_row": null,
            "grid_template_areas": null,
            "grid_template_columns": null,
            "grid_template_rows": null,
            "height": null,
            "justify_content": null,
            "justify_items": null,
            "left": null,
            "margin": null,
            "max_height": null,
            "max_width": null,
            "min_height": null,
            "min_width": null,
            "object_fit": null,
            "object_position": null,
            "order": null,
            "overflow": null,
            "overflow_x": null,
            "overflow_y": null,
            "padding": null,
            "right": null,
            "top": null,
            "visibility": null,
            "width": null
          }
        },
        "039db20cd1c34a6fbfb8fc37a3f465f9": {
          "model_module": "@jupyter-widgets/controls",
          "model_name": "DescriptionStyleModel",
          "model_module_version": "1.5.0",
          "state": {
            "_model_module": "@jupyter-widgets/controls",
            "_model_module_version": "1.5.0",
            "_model_name": "DescriptionStyleModel",
            "_view_count": null,
            "_view_module": "@jupyter-widgets/base",
            "_view_module_version": "1.2.0",
            "_view_name": "StyleView",
            "description_width": ""
          }
        },
        "edefa8df1b9b4edfb2b45af6c08d73bd": {
          "model_module": "@jupyter-widgets/base",
          "model_name": "LayoutModel",
          "model_module_version": "1.2.0",
          "state": {
            "_model_module": "@jupyter-widgets/base",
            "_model_module_version": "1.2.0",
            "_model_name": "LayoutModel",
            "_view_count": null,
            "_view_module": "@jupyter-widgets/base",
            "_view_module_version": "1.2.0",
            "_view_name": "LayoutView",
            "align_content": null,
            "align_items": null,
            "align_self": null,
            "border": null,
            "bottom": null,
            "display": null,
            "flex": null,
            "flex_flow": null,
            "grid_area": null,
            "grid_auto_columns": null,
            "grid_auto_flow": null,
            "grid_auto_rows": null,
            "grid_column": null,
            "grid_gap": null,
            "grid_row": null,
            "grid_template_areas": null,
            "grid_template_columns": null,
            "grid_template_rows": null,
            "height": null,
            "justify_content": null,
            "justify_items": null,
            "left": null,
            "margin": null,
            "max_height": null,
            "max_width": null,
            "min_height": null,
            "min_width": null,
            "object_fit": null,
            "object_position": null,
            "order": null,
            "overflow": null,
            "overflow_x": null,
            "overflow_y": null,
            "padding": null,
            "right": null,
            "top": null,
            "visibility": null,
            "width": "20px"
          }
        },
        "8f7cca627c364f9093d36604c57017b7": {
          "model_module": "@jupyter-widgets/controls",
          "model_name": "ProgressStyleModel",
          "model_module_version": "1.5.0",
          "state": {
            "_model_module": "@jupyter-widgets/controls",
            "_model_module_version": "1.5.0",
            "_model_name": "ProgressStyleModel",
            "_view_count": null,
            "_view_module": "@jupyter-widgets/base",
            "_view_module_version": "1.2.0",
            "_view_name": "StyleView",
            "bar_color": null,
            "description_width": ""
          }
        },
        "d0fcdf0a35c844a491a77b3b74feee56": {
          "model_module": "@jupyter-widgets/base",
          "model_name": "LayoutModel",
          "model_module_version": "1.2.0",
          "state": {
            "_model_module": "@jupyter-widgets/base",
            "_model_module_version": "1.2.0",
            "_model_name": "LayoutModel",
            "_view_count": null,
            "_view_module": "@jupyter-widgets/base",
            "_view_module_version": "1.2.0",
            "_view_name": "LayoutView",
            "align_content": null,
            "align_items": null,
            "align_self": null,
            "border": null,
            "bottom": null,
            "display": null,
            "flex": null,
            "flex_flow": null,
            "grid_area": null,
            "grid_auto_columns": null,
            "grid_auto_flow": null,
            "grid_auto_rows": null,
            "grid_column": null,
            "grid_gap": null,
            "grid_row": null,
            "grid_template_areas": null,
            "grid_template_columns": null,
            "grid_template_rows": null,
            "height": null,
            "justify_content": null,
            "justify_items": null,
            "left": null,
            "margin": null,
            "max_height": null,
            "max_width": null,
            "min_height": null,
            "min_width": null,
            "object_fit": null,
            "object_position": null,
            "order": null,
            "overflow": null,
            "overflow_x": null,
            "overflow_y": null,
            "padding": null,
            "right": null,
            "top": null,
            "visibility": null,
            "width": null
          }
        },
        "79a8dd91b4294f7185a6cd59e4b918dd": {
          "model_module": "@jupyter-widgets/controls",
          "model_name": "DescriptionStyleModel",
          "model_module_version": "1.5.0",
          "state": {
            "_model_module": "@jupyter-widgets/controls",
            "_model_module_version": "1.5.0",
            "_model_name": "DescriptionStyleModel",
            "_view_count": null,
            "_view_module": "@jupyter-widgets/base",
            "_view_module_version": "1.2.0",
            "_view_name": "StyleView",
            "description_width": ""
          }
        },
        "dbb0a0a1eaa9410c97634c7ae6e02fb0": {
          "model_module": "@jupyter-widgets/controls",
          "model_name": "HBoxModel",
          "model_module_version": "1.5.0",
          "state": {
            "_dom_classes": [],
            "_model_module": "@jupyter-widgets/controls",
            "_model_module_version": "1.5.0",
            "_model_name": "HBoxModel",
            "_view_count": null,
            "_view_module": "@jupyter-widgets/controls",
            "_view_module_version": "1.5.0",
            "_view_name": "HBoxView",
            "box_style": "",
            "children": [
              "IPY_MODEL_f31ff82ac7d4400a8c2657e045ef4c25",
              "IPY_MODEL_023c24f101c640359e0924504bf94f70",
              "IPY_MODEL_50683c8775ed431088a490d7bca8eb72"
            ],
            "layout": "IPY_MODEL_97fdbed7b23c487b9714dce464479fc6"
          }
        },
        "f31ff82ac7d4400a8c2657e045ef4c25": {
          "model_module": "@jupyter-widgets/controls",
          "model_name": "HTMLModel",
          "model_module_version": "1.5.0",
          "state": {
            "_dom_classes": [],
            "_model_module": "@jupyter-widgets/controls",
            "_model_module_version": "1.5.0",
            "_model_name": "HTMLModel",
            "_view_count": null,
            "_view_module": "@jupyter-widgets/controls",
            "_view_module_version": "1.5.0",
            "_view_name": "HTMLView",
            "description": "",
            "description_tooltip": null,
            "layout": "IPY_MODEL_497b312ecdce4cac8b87e0799d6419bc",
            "placeholder": "​",
            "style": "IPY_MODEL_935bead382fa4615a33fde16a9279d08",
            "value": "Generating splits...: 100%"
          }
        },
        "023c24f101c640359e0924504bf94f70": {
          "model_module": "@jupyter-widgets/controls",
          "model_name": "FloatProgressModel",
          "model_module_version": "1.5.0",
          "state": {
            "_dom_classes": [],
            "_model_module": "@jupyter-widgets/controls",
            "_model_module_version": "1.5.0",
            "_model_name": "FloatProgressModel",
            "_view_count": null,
            "_view_module": "@jupyter-widgets/controls",
            "_view_module_version": "1.5.0",
            "_view_name": "ProgressView",
            "bar_style": "",
            "description": "",
            "description_tooltip": null,
            "layout": "IPY_MODEL_fb135d8ac6f14fa18a2672364f5bd1c1",
            "max": 2,
            "min": 0,
            "orientation": "horizontal",
            "style": "IPY_MODEL_e1aa00f3cb7043f5aa620c408eac0d30",
            "value": 2
          }
        },
        "50683c8775ed431088a490d7bca8eb72": {
          "model_module": "@jupyter-widgets/controls",
          "model_name": "HTMLModel",
          "model_module_version": "1.5.0",
          "state": {
            "_dom_classes": [],
            "_model_module": "@jupyter-widgets/controls",
            "_model_module_version": "1.5.0",
            "_model_name": "HTMLModel",
            "_view_count": null,
            "_view_module": "@jupyter-widgets/controls",
            "_view_module_version": "1.5.0",
            "_view_name": "HTMLView",
            "description": "",
            "description_tooltip": null,
            "layout": "IPY_MODEL_064a294549c649369a70df0095f8f14e",
            "placeholder": "​",
            "style": "IPY_MODEL_9e7da076a7be4ea9a9d52fa074a845be",
            "value": " 2/2 [03:15&lt;00:00, 90.31s/ splits]"
          }
        },
        "97fdbed7b23c487b9714dce464479fc6": {
          "model_module": "@jupyter-widgets/base",
          "model_name": "LayoutModel",
          "model_module_version": "1.2.0",
          "state": {
            "_model_module": "@jupyter-widgets/base",
            "_model_module_version": "1.2.0",
            "_model_name": "LayoutModel",
            "_view_count": null,
            "_view_module": "@jupyter-widgets/base",
            "_view_module_version": "1.2.0",
            "_view_name": "LayoutView",
            "align_content": null,
            "align_items": null,
            "align_self": null,
            "border": null,
            "bottom": null,
            "display": null,
            "flex": null,
            "flex_flow": null,
            "grid_area": null,
            "grid_auto_columns": null,
            "grid_auto_flow": null,
            "grid_auto_rows": null,
            "grid_column": null,
            "grid_gap": null,
            "grid_row": null,
            "grid_template_areas": null,
            "grid_template_columns": null,
            "grid_template_rows": null,
            "height": null,
            "justify_content": null,
            "justify_items": null,
            "left": null,
            "margin": null,
            "max_height": null,
            "max_width": null,
            "min_height": null,
            "min_width": null,
            "object_fit": null,
            "object_position": null,
            "order": null,
            "overflow": null,
            "overflow_x": null,
            "overflow_y": null,
            "padding": null,
            "right": null,
            "top": null,
            "visibility": "hidden",
            "width": null
          }
        },
        "497b312ecdce4cac8b87e0799d6419bc": {
          "model_module": "@jupyter-widgets/base",
          "model_name": "LayoutModel",
          "model_module_version": "1.2.0",
          "state": {
            "_model_module": "@jupyter-widgets/base",
            "_model_module_version": "1.2.0",
            "_model_name": "LayoutModel",
            "_view_count": null,
            "_view_module": "@jupyter-widgets/base",
            "_view_module_version": "1.2.0",
            "_view_name": "LayoutView",
            "align_content": null,
            "align_items": null,
            "align_self": null,
            "border": null,
            "bottom": null,
            "display": null,
            "flex": null,
            "flex_flow": null,
            "grid_area": null,
            "grid_auto_columns": null,
            "grid_auto_flow": null,
            "grid_auto_rows": null,
            "grid_column": null,
            "grid_gap": null,
            "grid_row": null,
            "grid_template_areas": null,
            "grid_template_columns": null,
            "grid_template_rows": null,
            "height": null,
            "justify_content": null,
            "justify_items": null,
            "left": null,
            "margin": null,
            "max_height": null,
            "max_width": null,
            "min_height": null,
            "min_width": null,
            "object_fit": null,
            "object_position": null,
            "order": null,
            "overflow": null,
            "overflow_x": null,
            "overflow_y": null,
            "padding": null,
            "right": null,
            "top": null,
            "visibility": null,
            "width": null
          }
        },
        "935bead382fa4615a33fde16a9279d08": {
          "model_module": "@jupyter-widgets/controls",
          "model_name": "DescriptionStyleModel",
          "model_module_version": "1.5.0",
          "state": {
            "_model_module": "@jupyter-widgets/controls",
            "_model_module_version": "1.5.0",
            "_model_name": "DescriptionStyleModel",
            "_view_count": null,
            "_view_module": "@jupyter-widgets/base",
            "_view_module_version": "1.2.0",
            "_view_name": "StyleView",
            "description_width": ""
          }
        },
        "fb135d8ac6f14fa18a2672364f5bd1c1": {
          "model_module": "@jupyter-widgets/base",
          "model_name": "LayoutModel",
          "model_module_version": "1.2.0",
          "state": {
            "_model_module": "@jupyter-widgets/base",
            "_model_module_version": "1.2.0",
            "_model_name": "LayoutModel",
            "_view_count": null,
            "_view_module": "@jupyter-widgets/base",
            "_view_module_version": "1.2.0",
            "_view_name": "LayoutView",
            "align_content": null,
            "align_items": null,
            "align_self": null,
            "border": null,
            "bottom": null,
            "display": null,
            "flex": null,
            "flex_flow": null,
            "grid_area": null,
            "grid_auto_columns": null,
            "grid_auto_flow": null,
            "grid_auto_rows": null,
            "grid_column": null,
            "grid_gap": null,
            "grid_row": null,
            "grid_template_areas": null,
            "grid_template_columns": null,
            "grid_template_rows": null,
            "height": null,
            "justify_content": null,
            "justify_items": null,
            "left": null,
            "margin": null,
            "max_height": null,
            "max_width": null,
            "min_height": null,
            "min_width": null,
            "object_fit": null,
            "object_position": null,
            "order": null,
            "overflow": null,
            "overflow_x": null,
            "overflow_y": null,
            "padding": null,
            "right": null,
            "top": null,
            "visibility": null,
            "width": null
          }
        },
        "e1aa00f3cb7043f5aa620c408eac0d30": {
          "model_module": "@jupyter-widgets/controls",
          "model_name": "ProgressStyleModel",
          "model_module_version": "1.5.0",
          "state": {
            "_model_module": "@jupyter-widgets/controls",
            "_model_module_version": "1.5.0",
            "_model_name": "ProgressStyleModel",
            "_view_count": null,
            "_view_module": "@jupyter-widgets/base",
            "_view_module_version": "1.2.0",
            "_view_name": "StyleView",
            "bar_color": null,
            "description_width": ""
          }
        },
        "064a294549c649369a70df0095f8f14e": {
          "model_module": "@jupyter-widgets/base",
          "model_name": "LayoutModel",
          "model_module_version": "1.2.0",
          "state": {
            "_model_module": "@jupyter-widgets/base",
            "_model_module_version": "1.2.0",
            "_model_name": "LayoutModel",
            "_view_count": null,
            "_view_module": "@jupyter-widgets/base",
            "_view_module_version": "1.2.0",
            "_view_name": "LayoutView",
            "align_content": null,
            "align_items": null,
            "align_self": null,
            "border": null,
            "bottom": null,
            "display": null,
            "flex": null,
            "flex_flow": null,
            "grid_area": null,
            "grid_auto_columns": null,
            "grid_auto_flow": null,
            "grid_auto_rows": null,
            "grid_column": null,
            "grid_gap": null,
            "grid_row": null,
            "grid_template_areas": null,
            "grid_template_columns": null,
            "grid_template_rows": null,
            "height": null,
            "justify_content": null,
            "justify_items": null,
            "left": null,
            "margin": null,
            "max_height": null,
            "max_width": null,
            "min_height": null,
            "min_width": null,
            "object_fit": null,
            "object_position": null,
            "order": null,
            "overflow": null,
            "overflow_x": null,
            "overflow_y": null,
            "padding": null,
            "right": null,
            "top": null,
            "visibility": null,
            "width": null
          }
        },
        "9e7da076a7be4ea9a9d52fa074a845be": {
          "model_module": "@jupyter-widgets/controls",
          "model_name": "DescriptionStyleModel",
          "model_module_version": "1.5.0",
          "state": {
            "_model_module": "@jupyter-widgets/controls",
            "_model_module_version": "1.5.0",
            "_model_name": "DescriptionStyleModel",
            "_view_count": null,
            "_view_module": "@jupyter-widgets/base",
            "_view_module_version": "1.2.0",
            "_view_name": "StyleView",
            "description_width": ""
          }
        },
        "62bae3af90d34c5faaf9f9686dbaa24f": {
          "model_module": "@jupyter-widgets/controls",
          "model_name": "HBoxModel",
          "model_module_version": "1.5.0",
          "state": {
            "_dom_classes": [],
            "_model_module": "@jupyter-widgets/controls",
            "_model_module_version": "1.5.0",
            "_model_name": "HBoxModel",
            "_view_count": null,
            "_view_module": "@jupyter-widgets/controls",
            "_view_module_version": "1.5.0",
            "_view_name": "HBoxView",
            "box_style": "",
            "children": [
              "IPY_MODEL_0e79c689bc3144b1a70ca78ba5850fa0",
              "IPY_MODEL_a1a78e1fb0f74049ab322d8fac753e0a",
              "IPY_MODEL_3793dd82a8564253b31d0ac55b0b574c"
            ],
            "layout": "IPY_MODEL_146bf6a9c1924a068e96eca47bb4da6f"
          }
        },
        "0e79c689bc3144b1a70ca78ba5850fa0": {
          "model_module": "@jupyter-widgets/controls",
          "model_name": "HTMLModel",
          "model_module_version": "1.5.0",
          "state": {
            "_dom_classes": [],
            "_model_module": "@jupyter-widgets/controls",
            "_model_module_version": "1.5.0",
            "_model_name": "HTMLModel",
            "_view_count": null,
            "_view_module": "@jupyter-widgets/controls",
            "_view_module_version": "1.5.0",
            "_view_name": "HTMLView",
            "description": "",
            "description_tooltip": null,
            "layout": "IPY_MODEL_c935e0f1546440678dce63ac32da7476",
            "placeholder": "​",
            "style": "IPY_MODEL_84eff416cbfb4b0ab6ef6899842f5fb4",
            "value": "Generating train examples...: 100%"
          }
        },
        "a1a78e1fb0f74049ab322d8fac753e0a": {
          "model_module": "@jupyter-widgets/controls",
          "model_name": "FloatProgressModel",
          "model_module_version": "1.5.0",
          "state": {
            "_dom_classes": [],
            "_model_module": "@jupyter-widgets/controls",
            "_model_module_version": "1.5.0",
            "_model_name": "FloatProgressModel",
            "_view_count": null,
            "_view_module": "@jupyter-widgets/controls",
            "_view_module_version": "1.5.0",
            "_view_name": "ProgressView",
            "bar_style": "",
            "description": "",
            "description_tooltip": null,
            "layout": "IPY_MODEL_4405d055c03f4f2ea644ad5a6475a15c",
            "max": 75750,
            "min": 0,
            "orientation": "horizontal",
            "style": "IPY_MODEL_e68a65b29e0d41cc9ba35f5ea85f8733",
            "value": 75750
          }
        },
        "3793dd82a8564253b31d0ac55b0b574c": {
          "model_module": "@jupyter-widgets/controls",
          "model_name": "HTMLModel",
          "model_module_version": "1.5.0",
          "state": {
            "_dom_classes": [],
            "_model_module": "@jupyter-widgets/controls",
            "_model_module_version": "1.5.0",
            "_model_name": "HTMLModel",
            "_view_count": null,
            "_view_module": "@jupyter-widgets/controls",
            "_view_module_version": "1.5.0",
            "_view_name": "HTMLView",
            "description": "",
            "description_tooltip": null,
            "layout": "IPY_MODEL_96249d8f05f1405786269ca9106d58d4",
            "placeholder": "​",
            "style": "IPY_MODEL_b536090e67814772b1d2f7ac01582445",
            "value": " 75685/75750 [01:41&lt;00:00, 689.62 examples/s]"
          }
        },
        "146bf6a9c1924a068e96eca47bb4da6f": {
          "model_module": "@jupyter-widgets/base",
          "model_name": "LayoutModel",
          "model_module_version": "1.2.0",
          "state": {
            "_model_module": "@jupyter-widgets/base",
            "_model_module_version": "1.2.0",
            "_model_name": "LayoutModel",
            "_view_count": null,
            "_view_module": "@jupyter-widgets/base",
            "_view_module_version": "1.2.0",
            "_view_name": "LayoutView",
            "align_content": null,
            "align_items": null,
            "align_self": null,
            "border": null,
            "bottom": null,
            "display": null,
            "flex": null,
            "flex_flow": null,
            "grid_area": null,
            "grid_auto_columns": null,
            "grid_auto_flow": null,
            "grid_auto_rows": null,
            "grid_column": null,
            "grid_gap": null,
            "grid_row": null,
            "grid_template_areas": null,
            "grid_template_columns": null,
            "grid_template_rows": null,
            "height": null,
            "justify_content": null,
            "justify_items": null,
            "left": null,
            "margin": null,
            "max_height": null,
            "max_width": null,
            "min_height": null,
            "min_width": null,
            "object_fit": null,
            "object_position": null,
            "order": null,
            "overflow": null,
            "overflow_x": null,
            "overflow_y": null,
            "padding": null,
            "right": null,
            "top": null,
            "visibility": "hidden",
            "width": null
          }
        },
        "c935e0f1546440678dce63ac32da7476": {
          "model_module": "@jupyter-widgets/base",
          "model_name": "LayoutModel",
          "model_module_version": "1.2.0",
          "state": {
            "_model_module": "@jupyter-widgets/base",
            "_model_module_version": "1.2.0",
            "_model_name": "LayoutModel",
            "_view_count": null,
            "_view_module": "@jupyter-widgets/base",
            "_view_module_version": "1.2.0",
            "_view_name": "LayoutView",
            "align_content": null,
            "align_items": null,
            "align_self": null,
            "border": null,
            "bottom": null,
            "display": null,
            "flex": null,
            "flex_flow": null,
            "grid_area": null,
            "grid_auto_columns": null,
            "grid_auto_flow": null,
            "grid_auto_rows": null,
            "grid_column": null,
            "grid_gap": null,
            "grid_row": null,
            "grid_template_areas": null,
            "grid_template_columns": null,
            "grid_template_rows": null,
            "height": null,
            "justify_content": null,
            "justify_items": null,
            "left": null,
            "margin": null,
            "max_height": null,
            "max_width": null,
            "min_height": null,
            "min_width": null,
            "object_fit": null,
            "object_position": null,
            "order": null,
            "overflow": null,
            "overflow_x": null,
            "overflow_y": null,
            "padding": null,
            "right": null,
            "top": null,
            "visibility": null,
            "width": null
          }
        },
        "84eff416cbfb4b0ab6ef6899842f5fb4": {
          "model_module": "@jupyter-widgets/controls",
          "model_name": "DescriptionStyleModel",
          "model_module_version": "1.5.0",
          "state": {
            "_model_module": "@jupyter-widgets/controls",
            "_model_module_version": "1.5.0",
            "_model_name": "DescriptionStyleModel",
            "_view_count": null,
            "_view_module": "@jupyter-widgets/base",
            "_view_module_version": "1.2.0",
            "_view_name": "StyleView",
            "description_width": ""
          }
        },
        "4405d055c03f4f2ea644ad5a6475a15c": {
          "model_module": "@jupyter-widgets/base",
          "model_name": "LayoutModel",
          "model_module_version": "1.2.0",
          "state": {
            "_model_module": "@jupyter-widgets/base",
            "_model_module_version": "1.2.0",
            "_model_name": "LayoutModel",
            "_view_count": null,
            "_view_module": "@jupyter-widgets/base",
            "_view_module_version": "1.2.0",
            "_view_name": "LayoutView",
            "align_content": null,
            "align_items": null,
            "align_self": null,
            "border": null,
            "bottom": null,
            "display": null,
            "flex": null,
            "flex_flow": null,
            "grid_area": null,
            "grid_auto_columns": null,
            "grid_auto_flow": null,
            "grid_auto_rows": null,
            "grid_column": null,
            "grid_gap": null,
            "grid_row": null,
            "grid_template_areas": null,
            "grid_template_columns": null,
            "grid_template_rows": null,
            "height": null,
            "justify_content": null,
            "justify_items": null,
            "left": null,
            "margin": null,
            "max_height": null,
            "max_width": null,
            "min_height": null,
            "min_width": null,
            "object_fit": null,
            "object_position": null,
            "order": null,
            "overflow": null,
            "overflow_x": null,
            "overflow_y": null,
            "padding": null,
            "right": null,
            "top": null,
            "visibility": null,
            "width": null
          }
        },
        "e68a65b29e0d41cc9ba35f5ea85f8733": {
          "model_module": "@jupyter-widgets/controls",
          "model_name": "ProgressStyleModel",
          "model_module_version": "1.5.0",
          "state": {
            "_model_module": "@jupyter-widgets/controls",
            "_model_module_version": "1.5.0",
            "_model_name": "ProgressStyleModel",
            "_view_count": null,
            "_view_module": "@jupyter-widgets/base",
            "_view_module_version": "1.2.0",
            "_view_name": "StyleView",
            "bar_color": null,
            "description_width": ""
          }
        },
        "96249d8f05f1405786269ca9106d58d4": {
          "model_module": "@jupyter-widgets/base",
          "model_name": "LayoutModel",
          "model_module_version": "1.2.0",
          "state": {
            "_model_module": "@jupyter-widgets/base",
            "_model_module_version": "1.2.0",
            "_model_name": "LayoutModel",
            "_view_count": null,
            "_view_module": "@jupyter-widgets/base",
            "_view_module_version": "1.2.0",
            "_view_name": "LayoutView",
            "align_content": null,
            "align_items": null,
            "align_self": null,
            "border": null,
            "bottom": null,
            "display": null,
            "flex": null,
            "flex_flow": null,
            "grid_area": null,
            "grid_auto_columns": null,
            "grid_auto_flow": null,
            "grid_auto_rows": null,
            "grid_column": null,
            "grid_gap": null,
            "grid_row": null,
            "grid_template_areas": null,
            "grid_template_columns": null,
            "grid_template_rows": null,
            "height": null,
            "justify_content": null,
            "justify_items": null,
            "left": null,
            "margin": null,
            "max_height": null,
            "max_width": null,
            "min_height": null,
            "min_width": null,
            "object_fit": null,
            "object_position": null,
            "order": null,
            "overflow": null,
            "overflow_x": null,
            "overflow_y": null,
            "padding": null,
            "right": null,
            "top": null,
            "visibility": null,
            "width": null
          }
        },
        "b536090e67814772b1d2f7ac01582445": {
          "model_module": "@jupyter-widgets/controls",
          "model_name": "DescriptionStyleModel",
          "model_module_version": "1.5.0",
          "state": {
            "_model_module": "@jupyter-widgets/controls",
            "_model_module_version": "1.5.0",
            "_model_name": "DescriptionStyleModel",
            "_view_count": null,
            "_view_module": "@jupyter-widgets/base",
            "_view_module_version": "1.2.0",
            "_view_name": "StyleView",
            "description_width": ""
          }
        },
        "2bd9ae13f04c4f07b489e85df1a6e443": {
          "model_module": "@jupyter-widgets/controls",
          "model_name": "HBoxModel",
          "model_module_version": "1.5.0",
          "state": {
            "_dom_classes": [],
            "_model_module": "@jupyter-widgets/controls",
            "_model_module_version": "1.5.0",
            "_model_name": "HBoxModel",
            "_view_count": null,
            "_view_module": "@jupyter-widgets/controls",
            "_view_module_version": "1.5.0",
            "_view_name": "HBoxView",
            "box_style": "",
            "children": [
              "IPY_MODEL_5e2cbf70125a4fcf97132ad2af8e2e72",
              "IPY_MODEL_5e42762a799b40d1aee7150ddd60022b",
              "IPY_MODEL_14674c2915d54abe9aa271fc1f386e60"
            ],
            "layout": "IPY_MODEL_121cb64265774fc6bbb4f5b0cbf0cf41"
          }
        },
        "5e2cbf70125a4fcf97132ad2af8e2e72": {
          "model_module": "@jupyter-widgets/controls",
          "model_name": "HTMLModel",
          "model_module_version": "1.5.0",
          "state": {
            "_dom_classes": [],
            "_model_module": "@jupyter-widgets/controls",
            "_model_module_version": "1.5.0",
            "_model_name": "HTMLModel",
            "_view_count": null,
            "_view_module": "@jupyter-widgets/controls",
            "_view_module_version": "1.5.0",
            "_view_name": "HTMLView",
            "description": "",
            "description_tooltip": null,
            "layout": "IPY_MODEL_723dfd48105e4616987e6448cbb1e7b0",
            "placeholder": "​",
            "style": "IPY_MODEL_8dc7b0ce6e37433580be37820a823433",
            "value": "Shuffling /root/tensorflow_datasets/food101/2.0.0.incompleteOUBWSF/food101-train.tfrecord*...: 100%"
          }
        },
        "5e42762a799b40d1aee7150ddd60022b": {
          "model_module": "@jupyter-widgets/controls",
          "model_name": "FloatProgressModel",
          "model_module_version": "1.5.0",
          "state": {
            "_dom_classes": [],
            "_model_module": "@jupyter-widgets/controls",
            "_model_module_version": "1.5.0",
            "_model_name": "FloatProgressModel",
            "_view_count": null,
            "_view_module": "@jupyter-widgets/controls",
            "_view_module_version": "1.5.0",
            "_view_name": "ProgressView",
            "bar_style": "",
            "description": "",
            "description_tooltip": null,
            "layout": "IPY_MODEL_6a4360f1d5da4fdc987815df1b9ddb53",
            "max": 75750,
            "min": 0,
            "orientation": "horizontal",
            "style": "IPY_MODEL_328505af88c7475ebbd5059e5bbe0258",
            "value": 75750
          }
        },
        "14674c2915d54abe9aa271fc1f386e60": {
          "model_module": "@jupyter-widgets/controls",
          "model_name": "HTMLModel",
          "model_module_version": "1.5.0",
          "state": {
            "_dom_classes": [],
            "_model_module": "@jupyter-widgets/controls",
            "_model_module_version": "1.5.0",
            "_model_name": "HTMLModel",
            "_view_count": null,
            "_view_module": "@jupyter-widgets/controls",
            "_view_module_version": "1.5.0",
            "_view_name": "HTMLView",
            "description": "",
            "description_tooltip": null,
            "layout": "IPY_MODEL_9935bfc723ed4d28874291db88cc70f8",
            "placeholder": "​",
            "style": "IPY_MODEL_0e48dfc8faff4f5d8e2936333de0e84f",
            "value": " 75516/75750 [00:37&lt;00:00, 2377.05 examples/s]"
          }
        },
        "121cb64265774fc6bbb4f5b0cbf0cf41": {
          "model_module": "@jupyter-widgets/base",
          "model_name": "LayoutModel",
          "model_module_version": "1.2.0",
          "state": {
            "_model_module": "@jupyter-widgets/base",
            "_model_module_version": "1.2.0",
            "_model_name": "LayoutModel",
            "_view_count": null,
            "_view_module": "@jupyter-widgets/base",
            "_view_module_version": "1.2.0",
            "_view_name": "LayoutView",
            "align_content": null,
            "align_items": null,
            "align_self": null,
            "border": null,
            "bottom": null,
            "display": null,
            "flex": null,
            "flex_flow": null,
            "grid_area": null,
            "grid_auto_columns": null,
            "grid_auto_flow": null,
            "grid_auto_rows": null,
            "grid_column": null,
            "grid_gap": null,
            "grid_row": null,
            "grid_template_areas": null,
            "grid_template_columns": null,
            "grid_template_rows": null,
            "height": null,
            "justify_content": null,
            "justify_items": null,
            "left": null,
            "margin": null,
            "max_height": null,
            "max_width": null,
            "min_height": null,
            "min_width": null,
            "object_fit": null,
            "object_position": null,
            "order": null,
            "overflow": null,
            "overflow_x": null,
            "overflow_y": null,
            "padding": null,
            "right": null,
            "top": null,
            "visibility": "hidden",
            "width": null
          }
        },
        "723dfd48105e4616987e6448cbb1e7b0": {
          "model_module": "@jupyter-widgets/base",
          "model_name": "LayoutModel",
          "model_module_version": "1.2.0",
          "state": {
            "_model_module": "@jupyter-widgets/base",
            "_model_module_version": "1.2.0",
            "_model_name": "LayoutModel",
            "_view_count": null,
            "_view_module": "@jupyter-widgets/base",
            "_view_module_version": "1.2.0",
            "_view_name": "LayoutView",
            "align_content": null,
            "align_items": null,
            "align_self": null,
            "border": null,
            "bottom": null,
            "display": null,
            "flex": null,
            "flex_flow": null,
            "grid_area": null,
            "grid_auto_columns": null,
            "grid_auto_flow": null,
            "grid_auto_rows": null,
            "grid_column": null,
            "grid_gap": null,
            "grid_row": null,
            "grid_template_areas": null,
            "grid_template_columns": null,
            "grid_template_rows": null,
            "height": null,
            "justify_content": null,
            "justify_items": null,
            "left": null,
            "margin": null,
            "max_height": null,
            "max_width": null,
            "min_height": null,
            "min_width": null,
            "object_fit": null,
            "object_position": null,
            "order": null,
            "overflow": null,
            "overflow_x": null,
            "overflow_y": null,
            "padding": null,
            "right": null,
            "top": null,
            "visibility": null,
            "width": null
          }
        },
        "8dc7b0ce6e37433580be37820a823433": {
          "model_module": "@jupyter-widgets/controls",
          "model_name": "DescriptionStyleModel",
          "model_module_version": "1.5.0",
          "state": {
            "_model_module": "@jupyter-widgets/controls",
            "_model_module_version": "1.5.0",
            "_model_name": "DescriptionStyleModel",
            "_view_count": null,
            "_view_module": "@jupyter-widgets/base",
            "_view_module_version": "1.2.0",
            "_view_name": "StyleView",
            "description_width": ""
          }
        },
        "6a4360f1d5da4fdc987815df1b9ddb53": {
          "model_module": "@jupyter-widgets/base",
          "model_name": "LayoutModel",
          "model_module_version": "1.2.0",
          "state": {
            "_model_module": "@jupyter-widgets/base",
            "_model_module_version": "1.2.0",
            "_model_name": "LayoutModel",
            "_view_count": null,
            "_view_module": "@jupyter-widgets/base",
            "_view_module_version": "1.2.0",
            "_view_name": "LayoutView",
            "align_content": null,
            "align_items": null,
            "align_self": null,
            "border": null,
            "bottom": null,
            "display": null,
            "flex": null,
            "flex_flow": null,
            "grid_area": null,
            "grid_auto_columns": null,
            "grid_auto_flow": null,
            "grid_auto_rows": null,
            "grid_column": null,
            "grid_gap": null,
            "grid_row": null,
            "grid_template_areas": null,
            "grid_template_columns": null,
            "grid_template_rows": null,
            "height": null,
            "justify_content": null,
            "justify_items": null,
            "left": null,
            "margin": null,
            "max_height": null,
            "max_width": null,
            "min_height": null,
            "min_width": null,
            "object_fit": null,
            "object_position": null,
            "order": null,
            "overflow": null,
            "overflow_x": null,
            "overflow_y": null,
            "padding": null,
            "right": null,
            "top": null,
            "visibility": null,
            "width": null
          }
        },
        "328505af88c7475ebbd5059e5bbe0258": {
          "model_module": "@jupyter-widgets/controls",
          "model_name": "ProgressStyleModel",
          "model_module_version": "1.5.0",
          "state": {
            "_model_module": "@jupyter-widgets/controls",
            "_model_module_version": "1.5.0",
            "_model_name": "ProgressStyleModel",
            "_view_count": null,
            "_view_module": "@jupyter-widgets/base",
            "_view_module_version": "1.2.0",
            "_view_name": "StyleView",
            "bar_color": null,
            "description_width": ""
          }
        },
        "9935bfc723ed4d28874291db88cc70f8": {
          "model_module": "@jupyter-widgets/base",
          "model_name": "LayoutModel",
          "model_module_version": "1.2.0",
          "state": {
            "_model_module": "@jupyter-widgets/base",
            "_model_module_version": "1.2.0",
            "_model_name": "LayoutModel",
            "_view_count": null,
            "_view_module": "@jupyter-widgets/base",
            "_view_module_version": "1.2.0",
            "_view_name": "LayoutView",
            "align_content": null,
            "align_items": null,
            "align_self": null,
            "border": null,
            "bottom": null,
            "display": null,
            "flex": null,
            "flex_flow": null,
            "grid_area": null,
            "grid_auto_columns": null,
            "grid_auto_flow": null,
            "grid_auto_rows": null,
            "grid_column": null,
            "grid_gap": null,
            "grid_row": null,
            "grid_template_areas": null,
            "grid_template_columns": null,
            "grid_template_rows": null,
            "height": null,
            "justify_content": null,
            "justify_items": null,
            "left": null,
            "margin": null,
            "max_height": null,
            "max_width": null,
            "min_height": null,
            "min_width": null,
            "object_fit": null,
            "object_position": null,
            "order": null,
            "overflow": null,
            "overflow_x": null,
            "overflow_y": null,
            "padding": null,
            "right": null,
            "top": null,
            "visibility": null,
            "width": null
          }
        },
        "0e48dfc8faff4f5d8e2936333de0e84f": {
          "model_module": "@jupyter-widgets/controls",
          "model_name": "DescriptionStyleModel",
          "model_module_version": "1.5.0",
          "state": {
            "_model_module": "@jupyter-widgets/controls",
            "_model_module_version": "1.5.0",
            "_model_name": "DescriptionStyleModel",
            "_view_count": null,
            "_view_module": "@jupyter-widgets/base",
            "_view_module_version": "1.2.0",
            "_view_name": "StyleView",
            "description_width": ""
          }
        },
        "24b7403d2ece4b31af834b6d93a5a9fb": {
          "model_module": "@jupyter-widgets/controls",
          "model_name": "HBoxModel",
          "model_module_version": "1.5.0",
          "state": {
            "_dom_classes": [],
            "_model_module": "@jupyter-widgets/controls",
            "_model_module_version": "1.5.0",
            "_model_name": "HBoxModel",
            "_view_count": null,
            "_view_module": "@jupyter-widgets/controls",
            "_view_module_version": "1.5.0",
            "_view_name": "HBoxView",
            "box_style": "",
            "children": [
              "IPY_MODEL_fa7e26b1b4454f359358630ec0bc9583",
              "IPY_MODEL_66bd341513324874afdbe22391bd0945",
              "IPY_MODEL_429deca1ec274bc2bc735021b08f8bf6"
            ],
            "layout": "IPY_MODEL_3b0e353a0f56466a82d56c5839ee7d0a"
          }
        },
        "fa7e26b1b4454f359358630ec0bc9583": {
          "model_module": "@jupyter-widgets/controls",
          "model_name": "HTMLModel",
          "model_module_version": "1.5.0",
          "state": {
            "_dom_classes": [],
            "_model_module": "@jupyter-widgets/controls",
            "_model_module_version": "1.5.0",
            "_model_name": "HTMLModel",
            "_view_count": null,
            "_view_module": "@jupyter-widgets/controls",
            "_view_module_version": "1.5.0",
            "_view_name": "HTMLView",
            "description": "",
            "description_tooltip": null,
            "layout": "IPY_MODEL_542efc2f99684f3f809021a6a0e6077e",
            "placeholder": "​",
            "style": "IPY_MODEL_d85df64061074345be634c84e6190e64",
            "value": "Generating validation examples...:  99%"
          }
        },
        "66bd341513324874afdbe22391bd0945": {
          "model_module": "@jupyter-widgets/controls",
          "model_name": "FloatProgressModel",
          "model_module_version": "1.5.0",
          "state": {
            "_dom_classes": [],
            "_model_module": "@jupyter-widgets/controls",
            "_model_module_version": "1.5.0",
            "_model_name": "FloatProgressModel",
            "_view_count": null,
            "_view_module": "@jupyter-widgets/controls",
            "_view_module_version": "1.5.0",
            "_view_name": "ProgressView",
            "bar_style": "",
            "description": "",
            "description_tooltip": null,
            "layout": "IPY_MODEL_d1b76edfb215464a8e6bf004ac247cd4",
            "max": 25250,
            "min": 0,
            "orientation": "horizontal",
            "style": "IPY_MODEL_6100191410fe42c7bac8110826f3a291",
            "value": 25250
          }
        },
        "429deca1ec274bc2bc735021b08f8bf6": {
          "model_module": "@jupyter-widgets/controls",
          "model_name": "HTMLModel",
          "model_module_version": "1.5.0",
          "state": {
            "_dom_classes": [],
            "_model_module": "@jupyter-widgets/controls",
            "_model_module_version": "1.5.0",
            "_model_name": "HTMLModel",
            "_view_count": null,
            "_view_module": "@jupyter-widgets/controls",
            "_view_module_version": "1.5.0",
            "_view_name": "HTMLView",
            "description": "",
            "description_tooltip": null,
            "layout": "IPY_MODEL_5949fe8b7f564675ab576443034370c2",
            "placeholder": "​",
            "style": "IPY_MODEL_c9566a310dbe44cebe5de056fb01d489",
            "value": " 24998/25250 [00:50&lt;00:00, 460.26 examples/s]"
          }
        },
        "3b0e353a0f56466a82d56c5839ee7d0a": {
          "model_module": "@jupyter-widgets/base",
          "model_name": "LayoutModel",
          "model_module_version": "1.2.0",
          "state": {
            "_model_module": "@jupyter-widgets/base",
            "_model_module_version": "1.2.0",
            "_model_name": "LayoutModel",
            "_view_count": null,
            "_view_module": "@jupyter-widgets/base",
            "_view_module_version": "1.2.0",
            "_view_name": "LayoutView",
            "align_content": null,
            "align_items": null,
            "align_self": null,
            "border": null,
            "bottom": null,
            "display": null,
            "flex": null,
            "flex_flow": null,
            "grid_area": null,
            "grid_auto_columns": null,
            "grid_auto_flow": null,
            "grid_auto_rows": null,
            "grid_column": null,
            "grid_gap": null,
            "grid_row": null,
            "grid_template_areas": null,
            "grid_template_columns": null,
            "grid_template_rows": null,
            "height": null,
            "justify_content": null,
            "justify_items": null,
            "left": null,
            "margin": null,
            "max_height": null,
            "max_width": null,
            "min_height": null,
            "min_width": null,
            "object_fit": null,
            "object_position": null,
            "order": null,
            "overflow": null,
            "overflow_x": null,
            "overflow_y": null,
            "padding": null,
            "right": null,
            "top": null,
            "visibility": "hidden",
            "width": null
          }
        },
        "542efc2f99684f3f809021a6a0e6077e": {
          "model_module": "@jupyter-widgets/base",
          "model_name": "LayoutModel",
          "model_module_version": "1.2.0",
          "state": {
            "_model_module": "@jupyter-widgets/base",
            "_model_module_version": "1.2.0",
            "_model_name": "LayoutModel",
            "_view_count": null,
            "_view_module": "@jupyter-widgets/base",
            "_view_module_version": "1.2.0",
            "_view_name": "LayoutView",
            "align_content": null,
            "align_items": null,
            "align_self": null,
            "border": null,
            "bottom": null,
            "display": null,
            "flex": null,
            "flex_flow": null,
            "grid_area": null,
            "grid_auto_columns": null,
            "grid_auto_flow": null,
            "grid_auto_rows": null,
            "grid_column": null,
            "grid_gap": null,
            "grid_row": null,
            "grid_template_areas": null,
            "grid_template_columns": null,
            "grid_template_rows": null,
            "height": null,
            "justify_content": null,
            "justify_items": null,
            "left": null,
            "margin": null,
            "max_height": null,
            "max_width": null,
            "min_height": null,
            "min_width": null,
            "object_fit": null,
            "object_position": null,
            "order": null,
            "overflow": null,
            "overflow_x": null,
            "overflow_y": null,
            "padding": null,
            "right": null,
            "top": null,
            "visibility": null,
            "width": null
          }
        },
        "d85df64061074345be634c84e6190e64": {
          "model_module": "@jupyter-widgets/controls",
          "model_name": "DescriptionStyleModel",
          "model_module_version": "1.5.0",
          "state": {
            "_model_module": "@jupyter-widgets/controls",
            "_model_module_version": "1.5.0",
            "_model_name": "DescriptionStyleModel",
            "_view_count": null,
            "_view_module": "@jupyter-widgets/base",
            "_view_module_version": "1.2.0",
            "_view_name": "StyleView",
            "description_width": ""
          }
        },
        "d1b76edfb215464a8e6bf004ac247cd4": {
          "model_module": "@jupyter-widgets/base",
          "model_name": "LayoutModel",
          "model_module_version": "1.2.0",
          "state": {
            "_model_module": "@jupyter-widgets/base",
            "_model_module_version": "1.2.0",
            "_model_name": "LayoutModel",
            "_view_count": null,
            "_view_module": "@jupyter-widgets/base",
            "_view_module_version": "1.2.0",
            "_view_name": "LayoutView",
            "align_content": null,
            "align_items": null,
            "align_self": null,
            "border": null,
            "bottom": null,
            "display": null,
            "flex": null,
            "flex_flow": null,
            "grid_area": null,
            "grid_auto_columns": null,
            "grid_auto_flow": null,
            "grid_auto_rows": null,
            "grid_column": null,
            "grid_gap": null,
            "grid_row": null,
            "grid_template_areas": null,
            "grid_template_columns": null,
            "grid_template_rows": null,
            "height": null,
            "justify_content": null,
            "justify_items": null,
            "left": null,
            "margin": null,
            "max_height": null,
            "max_width": null,
            "min_height": null,
            "min_width": null,
            "object_fit": null,
            "object_position": null,
            "order": null,
            "overflow": null,
            "overflow_x": null,
            "overflow_y": null,
            "padding": null,
            "right": null,
            "top": null,
            "visibility": null,
            "width": null
          }
        },
        "6100191410fe42c7bac8110826f3a291": {
          "model_module": "@jupyter-widgets/controls",
          "model_name": "ProgressStyleModel",
          "model_module_version": "1.5.0",
          "state": {
            "_model_module": "@jupyter-widgets/controls",
            "_model_module_version": "1.5.0",
            "_model_name": "ProgressStyleModel",
            "_view_count": null,
            "_view_module": "@jupyter-widgets/base",
            "_view_module_version": "1.2.0",
            "_view_name": "StyleView",
            "bar_color": null,
            "description_width": ""
          }
        },
        "5949fe8b7f564675ab576443034370c2": {
          "model_module": "@jupyter-widgets/base",
          "model_name": "LayoutModel",
          "model_module_version": "1.2.0",
          "state": {
            "_model_module": "@jupyter-widgets/base",
            "_model_module_version": "1.2.0",
            "_model_name": "LayoutModel",
            "_view_count": null,
            "_view_module": "@jupyter-widgets/base",
            "_view_module_version": "1.2.0",
            "_view_name": "LayoutView",
            "align_content": null,
            "align_items": null,
            "align_self": null,
            "border": null,
            "bottom": null,
            "display": null,
            "flex": null,
            "flex_flow": null,
            "grid_area": null,
            "grid_auto_columns": null,
            "grid_auto_flow": null,
            "grid_auto_rows": null,
            "grid_column": null,
            "grid_gap": null,
            "grid_row": null,
            "grid_template_areas": null,
            "grid_template_columns": null,
            "grid_template_rows": null,
            "height": null,
            "justify_content": null,
            "justify_items": null,
            "left": null,
            "margin": null,
            "max_height": null,
            "max_width": null,
            "min_height": null,
            "min_width": null,
            "object_fit": null,
            "object_position": null,
            "order": null,
            "overflow": null,
            "overflow_x": null,
            "overflow_y": null,
            "padding": null,
            "right": null,
            "top": null,
            "visibility": null,
            "width": null
          }
        },
        "c9566a310dbe44cebe5de056fb01d489": {
          "model_module": "@jupyter-widgets/controls",
          "model_name": "DescriptionStyleModel",
          "model_module_version": "1.5.0",
          "state": {
            "_model_module": "@jupyter-widgets/controls",
            "_model_module_version": "1.5.0",
            "_model_name": "DescriptionStyleModel",
            "_view_count": null,
            "_view_module": "@jupyter-widgets/base",
            "_view_module_version": "1.2.0",
            "_view_name": "StyleView",
            "description_width": ""
          }
        },
        "be8c7607eae24c80bfe94b78a5d2bdcf": {
          "model_module": "@jupyter-widgets/controls",
          "model_name": "HBoxModel",
          "model_module_version": "1.5.0",
          "state": {
            "_dom_classes": [],
            "_model_module": "@jupyter-widgets/controls",
            "_model_module_version": "1.5.0",
            "_model_name": "HBoxModel",
            "_view_count": null,
            "_view_module": "@jupyter-widgets/controls",
            "_view_module_version": "1.5.0",
            "_view_name": "HBoxView",
            "box_style": "",
            "children": [
              "IPY_MODEL_e0337748c8fb4bd38682f2e1849fc960",
              "IPY_MODEL_7c9359544f4c4f47bf6986a1e2588b0c",
              "IPY_MODEL_1de8eaff27934b1a915d7c82f1d0e5da"
            ],
            "layout": "IPY_MODEL_43fdfc0d48b243e8b7c3657f35139632"
          }
        },
        "e0337748c8fb4bd38682f2e1849fc960": {
          "model_module": "@jupyter-widgets/controls",
          "model_name": "HTMLModel",
          "model_module_version": "1.5.0",
          "state": {
            "_dom_classes": [],
            "_model_module": "@jupyter-widgets/controls",
            "_model_module_version": "1.5.0",
            "_model_name": "HTMLModel",
            "_view_count": null,
            "_view_module": "@jupyter-widgets/controls",
            "_view_module_version": "1.5.0",
            "_view_name": "HTMLView",
            "description": "",
            "description_tooltip": null,
            "layout": "IPY_MODEL_42aae51e833642599460a354fc287dd9",
            "placeholder": "​",
            "style": "IPY_MODEL_d334672c29ea4a7f96a0b9372ab53b4d",
            "value": "Shuffling /root/tensorflow_datasets/food101/2.0.0.incompleteOUBWSF/food101-validation.tfrecord*...:  99%"
          }
        },
        "7c9359544f4c4f47bf6986a1e2588b0c": {
          "model_module": "@jupyter-widgets/controls",
          "model_name": "FloatProgressModel",
          "model_module_version": "1.5.0",
          "state": {
            "_dom_classes": [],
            "_model_module": "@jupyter-widgets/controls",
            "_model_module_version": "1.5.0",
            "_model_name": "FloatProgressModel",
            "_view_count": null,
            "_view_module": "@jupyter-widgets/controls",
            "_view_module_version": "1.5.0",
            "_view_name": "ProgressView",
            "bar_style": "",
            "description": "",
            "description_tooltip": null,
            "layout": "IPY_MODEL_f45dedfb8a6948f4ac8c5abc5e94c88e",
            "max": 25250,
            "min": 0,
            "orientation": "horizontal",
            "style": "IPY_MODEL_a5076cb7e8ae459ba6a1418a063b351e",
            "value": 25250
          }
        },
        "1de8eaff27934b1a915d7c82f1d0e5da": {
          "model_module": "@jupyter-widgets/controls",
          "model_name": "HTMLModel",
          "model_module_version": "1.5.0",
          "state": {
            "_dom_classes": [],
            "_model_module": "@jupyter-widgets/controls",
            "_model_module_version": "1.5.0",
            "_model_name": "HTMLModel",
            "_view_count": null,
            "_view_module": "@jupyter-widgets/controls",
            "_view_module_version": "1.5.0",
            "_view_name": "HTMLView",
            "description": "",
            "description_tooltip": null,
            "layout": "IPY_MODEL_dabd010b5ba64fe28634e9903b63d7a5",
            "placeholder": "​",
            "style": "IPY_MODEL_e8a77a6a8f9d4c29ad83e19792f45097",
            "value": " 24880/25250 [00:05&lt;00:00, 4893.84 examples/s]"
          }
        },
        "43fdfc0d48b243e8b7c3657f35139632": {
          "model_module": "@jupyter-widgets/base",
          "model_name": "LayoutModel",
          "model_module_version": "1.2.0",
          "state": {
            "_model_module": "@jupyter-widgets/base",
            "_model_module_version": "1.2.0",
            "_model_name": "LayoutModel",
            "_view_count": null,
            "_view_module": "@jupyter-widgets/base",
            "_view_module_version": "1.2.0",
            "_view_name": "LayoutView",
            "align_content": null,
            "align_items": null,
            "align_self": null,
            "border": null,
            "bottom": null,
            "display": null,
            "flex": null,
            "flex_flow": null,
            "grid_area": null,
            "grid_auto_columns": null,
            "grid_auto_flow": null,
            "grid_auto_rows": null,
            "grid_column": null,
            "grid_gap": null,
            "grid_row": null,
            "grid_template_areas": null,
            "grid_template_columns": null,
            "grid_template_rows": null,
            "height": null,
            "justify_content": null,
            "justify_items": null,
            "left": null,
            "margin": null,
            "max_height": null,
            "max_width": null,
            "min_height": null,
            "min_width": null,
            "object_fit": null,
            "object_position": null,
            "order": null,
            "overflow": null,
            "overflow_x": null,
            "overflow_y": null,
            "padding": null,
            "right": null,
            "top": null,
            "visibility": "hidden",
            "width": null
          }
        },
        "42aae51e833642599460a354fc287dd9": {
          "model_module": "@jupyter-widgets/base",
          "model_name": "LayoutModel",
          "model_module_version": "1.2.0",
          "state": {
            "_model_module": "@jupyter-widgets/base",
            "_model_module_version": "1.2.0",
            "_model_name": "LayoutModel",
            "_view_count": null,
            "_view_module": "@jupyter-widgets/base",
            "_view_module_version": "1.2.0",
            "_view_name": "LayoutView",
            "align_content": null,
            "align_items": null,
            "align_self": null,
            "border": null,
            "bottom": null,
            "display": null,
            "flex": null,
            "flex_flow": null,
            "grid_area": null,
            "grid_auto_columns": null,
            "grid_auto_flow": null,
            "grid_auto_rows": null,
            "grid_column": null,
            "grid_gap": null,
            "grid_row": null,
            "grid_template_areas": null,
            "grid_template_columns": null,
            "grid_template_rows": null,
            "height": null,
            "justify_content": null,
            "justify_items": null,
            "left": null,
            "margin": null,
            "max_height": null,
            "max_width": null,
            "min_height": null,
            "min_width": null,
            "object_fit": null,
            "object_position": null,
            "order": null,
            "overflow": null,
            "overflow_x": null,
            "overflow_y": null,
            "padding": null,
            "right": null,
            "top": null,
            "visibility": null,
            "width": null
          }
        },
        "d334672c29ea4a7f96a0b9372ab53b4d": {
          "model_module": "@jupyter-widgets/controls",
          "model_name": "DescriptionStyleModel",
          "model_module_version": "1.5.0",
          "state": {
            "_model_module": "@jupyter-widgets/controls",
            "_model_module_version": "1.5.0",
            "_model_name": "DescriptionStyleModel",
            "_view_count": null,
            "_view_module": "@jupyter-widgets/base",
            "_view_module_version": "1.2.0",
            "_view_name": "StyleView",
            "description_width": ""
          }
        },
        "f45dedfb8a6948f4ac8c5abc5e94c88e": {
          "model_module": "@jupyter-widgets/base",
          "model_name": "LayoutModel",
          "model_module_version": "1.2.0",
          "state": {
            "_model_module": "@jupyter-widgets/base",
            "_model_module_version": "1.2.0",
            "_model_name": "LayoutModel",
            "_view_count": null,
            "_view_module": "@jupyter-widgets/base",
            "_view_module_version": "1.2.0",
            "_view_name": "LayoutView",
            "align_content": null,
            "align_items": null,
            "align_self": null,
            "border": null,
            "bottom": null,
            "display": null,
            "flex": null,
            "flex_flow": null,
            "grid_area": null,
            "grid_auto_columns": null,
            "grid_auto_flow": null,
            "grid_auto_rows": null,
            "grid_column": null,
            "grid_gap": null,
            "grid_row": null,
            "grid_template_areas": null,
            "grid_template_columns": null,
            "grid_template_rows": null,
            "height": null,
            "justify_content": null,
            "justify_items": null,
            "left": null,
            "margin": null,
            "max_height": null,
            "max_width": null,
            "min_height": null,
            "min_width": null,
            "object_fit": null,
            "object_position": null,
            "order": null,
            "overflow": null,
            "overflow_x": null,
            "overflow_y": null,
            "padding": null,
            "right": null,
            "top": null,
            "visibility": null,
            "width": null
          }
        },
        "a5076cb7e8ae459ba6a1418a063b351e": {
          "model_module": "@jupyter-widgets/controls",
          "model_name": "ProgressStyleModel",
          "model_module_version": "1.5.0",
          "state": {
            "_model_module": "@jupyter-widgets/controls",
            "_model_module_version": "1.5.0",
            "_model_name": "ProgressStyleModel",
            "_view_count": null,
            "_view_module": "@jupyter-widgets/base",
            "_view_module_version": "1.2.0",
            "_view_name": "StyleView",
            "bar_color": null,
            "description_width": ""
          }
        },
        "dabd010b5ba64fe28634e9903b63d7a5": {
          "model_module": "@jupyter-widgets/base",
          "model_name": "LayoutModel",
          "model_module_version": "1.2.0",
          "state": {
            "_model_module": "@jupyter-widgets/base",
            "_model_module_version": "1.2.0",
            "_model_name": "LayoutModel",
            "_view_count": null,
            "_view_module": "@jupyter-widgets/base",
            "_view_module_version": "1.2.0",
            "_view_name": "LayoutView",
            "align_content": null,
            "align_items": null,
            "align_self": null,
            "border": null,
            "bottom": null,
            "display": null,
            "flex": null,
            "flex_flow": null,
            "grid_area": null,
            "grid_auto_columns": null,
            "grid_auto_flow": null,
            "grid_auto_rows": null,
            "grid_column": null,
            "grid_gap": null,
            "grid_row": null,
            "grid_template_areas": null,
            "grid_template_columns": null,
            "grid_template_rows": null,
            "height": null,
            "justify_content": null,
            "justify_items": null,
            "left": null,
            "margin": null,
            "max_height": null,
            "max_width": null,
            "min_height": null,
            "min_width": null,
            "object_fit": null,
            "object_position": null,
            "order": null,
            "overflow": null,
            "overflow_x": null,
            "overflow_y": null,
            "padding": null,
            "right": null,
            "top": null,
            "visibility": null,
            "width": null
          }
        },
        "e8a77a6a8f9d4c29ad83e19792f45097": {
          "model_module": "@jupyter-widgets/controls",
          "model_name": "DescriptionStyleModel",
          "model_module_version": "1.5.0",
          "state": {
            "_model_module": "@jupyter-widgets/controls",
            "_model_module_version": "1.5.0",
            "_model_name": "DescriptionStyleModel",
            "_view_count": null,
            "_view_module": "@jupyter-widgets/base",
            "_view_module_version": "1.2.0",
            "_view_name": "StyleView",
            "description_width": ""
          }
        }
      }
    }
  },
  "cells": [
    {
      "cell_type": "markdown",
      "metadata": {
        "id": "view-in-github",
        "colab_type": "text"
      },
      "source": [
        "<a href=\"https://colab.research.google.com/github/czhurdlespeed/TFDevCert/blob/main/TFCert_Practice/07_milestone_project_1_food_vision.ipynb\" target=\"_parent\"><img src=\"https://colab.research.google.com/assets/colab-badge.svg\" alt=\"Open In Colab\"/></a>"
      ]
    },
    {
      "cell_type": "markdown",
      "source": [
        "# Mileston Project 1: Food Vision Big"
      ],
      "metadata": {
        "id": "62Ts1JZw3xUk"
      }
    },
    {
      "cell_type": "markdown",
      "source": [
        "## Check GPU"
      ],
      "metadata": {
        "id": "HB2A_y_k4Aox"
      }
    },
    {
      "cell_type": "code",
      "source": [
        "!nvidia-smi"
      ],
      "metadata": {
        "colab": {
          "base_uri": "https://localhost:8080/"
        },
        "id": "i07ds4Xj4IGv",
        "outputId": "5f4e9e98-cfd1-485b-ea48-bb2230c82952"
      },
      "execution_count": 1,
      "outputs": [
        {
          "output_type": "stream",
          "name": "stdout",
          "text": [
            "Wed Jan 24 14:36:51 2024       \n",
            "+---------------------------------------------------------------------------------------+\n",
            "| NVIDIA-SMI 535.104.05             Driver Version: 535.104.05   CUDA Version: 12.2     |\n",
            "|-----------------------------------------+----------------------+----------------------+\n",
            "| GPU  Name                 Persistence-M | Bus-Id        Disp.A | Volatile Uncorr. ECC |\n",
            "| Fan  Temp   Perf          Pwr:Usage/Cap |         Memory-Usage | GPU-Util  Compute M. |\n",
            "|                                         |                      |               MIG M. |\n",
            "|=========================================+======================+======================|\n",
            "|   0  Tesla T4                       Off | 00000000:00:04.0 Off |                    0 |\n",
            "| N/A   64C    P8              11W /  70W |      0MiB / 15360MiB |      0%      Default |\n",
            "|                                         |                      |                  N/A |\n",
            "+-----------------------------------------+----------------------+----------------------+\n",
            "                                                                                         \n",
            "+---------------------------------------------------------------------------------------+\n",
            "| Processes:                                                                            |\n",
            "|  GPU   GI   CI        PID   Type   Process name                            GPU Memory |\n",
            "|        ID   ID                                                             Usage      |\n",
            "|=======================================================================================|\n",
            "|  No running processes found                                                           |\n",
            "+---------------------------------------------------------------------------------------+\n"
          ]
        }
      ]
    },
    {
      "cell_type": "markdown",
      "source": [
        "## Get helper functions\n",
        "\n",
        "Using functions from previous modules"
      ],
      "metadata": {
        "id": "r_74V8Xt4cyw"
      }
    },
    {
      "cell_type": "code",
      "source": [
        "!wget https://github.com/mrdbourke/tensorflow-deep-learning/raw/main/extras/helper_functions.py"
      ],
      "metadata": {
        "colab": {
          "base_uri": "https://localhost:8080/"
        },
        "id": "d0uLD6Zz6PjT",
        "outputId": "8b6cc528-ffa3-4618-c246-844ad5ca4e2b"
      },
      "execution_count": 2,
      "outputs": [
        {
          "output_type": "stream",
          "name": "stdout",
          "text": [
            "--2024-01-24 14:36:51--  https://github.com/mrdbourke/tensorflow-deep-learning/raw/main/extras/helper_functions.py\n",
            "Resolving github.com (github.com)... 140.82.114.4\n",
            "Connecting to github.com (github.com)|140.82.114.4|:443... connected.\n",
            "HTTP request sent, awaiting response... 302 Found\n",
            "Location: https://raw.githubusercontent.com/mrdbourke/tensorflow-deep-learning/main/extras/helper_functions.py [following]\n",
            "--2024-01-24 14:36:52--  https://raw.githubusercontent.com/mrdbourke/tensorflow-deep-learning/main/extras/helper_functions.py\n",
            "Resolving raw.githubusercontent.com (raw.githubusercontent.com)... 185.199.108.133, 185.199.109.133, 185.199.110.133, ...\n",
            "Connecting to raw.githubusercontent.com (raw.githubusercontent.com)|185.199.108.133|:443... connected.\n",
            "HTTP request sent, awaiting response... 200 OK\n",
            "Length: 10246 (10K) [text/plain]\n",
            "Saving to: ‘helper_functions.py’\n",
            "\n",
            "helper_functions.py 100%[===================>]  10.01K  --.-KB/s    in 0s      \n",
            "\n",
            "2024-01-24 14:36:52 (132 MB/s) - ‘helper_functions.py’ saved [10246/10246]\n",
            "\n"
          ]
        }
      ]
    },
    {
      "cell_type": "code",
      "source": [
        "from helper_functions import unzip_data, create_tensorboard_callback, plot_loss_curves, compare_historys"
      ],
      "metadata": {
        "id": "-Rev9CXM6XNu"
      },
      "execution_count": 3,
      "outputs": []
    },
    {
      "cell_type": "markdown",
      "source": [
        "## Use Tensorflow Datasets to Download Data"
      ],
      "metadata": {
        "id": "2aRFkT766rxc"
      }
    },
    {
      "cell_type": "code",
      "source": [
        "# Get TensorFlow Datasets\n",
        "import tensorflow_datasets as tfds\n"
      ],
      "metadata": {
        "id": "uxXEyeNT63yO"
      },
      "execution_count": 4,
      "outputs": []
    },
    {
      "cell_type": "code",
      "source": [
        "# List all available datasets\n",
        "datasets_list = tfds.list_builders()"
      ],
      "metadata": {
        "id": "H26SBIr_7oAC"
      },
      "execution_count": 5,
      "outputs": []
    },
    {
      "cell_type": "code",
      "source": [
        "print(\"food101\" in datasets_list)"
      ],
      "metadata": {
        "colab": {
          "base_uri": "https://localhost:8080/"
        },
        "id": "-tkGSCZa7s5D",
        "outputId": "0c03e6dd-3dda-4e49-a51c-5e2f7d268ed9"
      },
      "execution_count": 6,
      "outputs": [
        {
          "output_type": "stream",
          "name": "stdout",
          "text": [
            "True\n"
          ]
        }
      ]
    },
    {
      "cell_type": "code",
      "source": [
        "# Load in the data\n",
        "(train_data, test_data), ds_info = tfds.load(name=\"food101\", split = [\"train\", \"validation\"], shuffle_files=True, as_supervised=True,\n",
        "                                             with_info=True)"
      ],
      "metadata": {
        "colab": {
          "base_uri": "https://localhost:8080/",
          "height": 168,
          "referenced_widgets": [
            "36b29054801b40129fbcf1cd4399138c",
            "cf250c6228b0452ebb9724837401aab2",
            "a89210a88ea2488481cc54ccaa0f3e0a",
            "13a084588d2341d88398bc76a41c1642",
            "b8e36349df784b8ea9b761a19759733b",
            "d5606caf0e8f4128ba6437788426da41",
            "c81d9e4c40ad44e2b0a12a889e03e06b",
            "0beff1d33ca349f8871c068536d9e343",
            "dd77656ce16f432ab4e4aa116567709d",
            "d286dac20da34edda898cba84bb639ac",
            "fa2f651635de431288d2b8c232fc6f32",
            "dd78493642824204bf5a417f3089a9cd",
            "3b38cd6259b94f6593025794257dc5ce",
            "feac9288c15146749214cf7ce4831fa1",
            "c7dcdf88f97442518040436e4e58b651",
            "8dd2d949e01a46ba8cb5415047e6d73e",
            "3293e760ba9049b88ba42326fd9db07e",
            "e130cdf8616d4699b1939700f9f059c5",
            "72774bd6c8b94908a42d743008e12688",
            "349468a74b1d449d9919111efdbbce69",
            "31cf07bcdc11491598ed79e87a6d9bf4",
            "f224537ea5eb4f90b00d60ef6253a733",
            "9510256be99e4e68b77e12daf7ba5877",
            "286c12b394814c7fb1195b2ea183272e",
            "2b8300990b1c4b84bee2ff41d7ac360b",
            "e0899fe353544c37b6319909b288bbf6",
            "3cde0b9ead204184a3560dc3e85d7efc",
            "752d04e0d5804a72bff7107116b396fe",
            "039db20cd1c34a6fbfb8fc37a3f465f9",
            "edefa8df1b9b4edfb2b45af6c08d73bd",
            "8f7cca627c364f9093d36604c57017b7",
            "d0fcdf0a35c844a491a77b3b74feee56",
            "79a8dd91b4294f7185a6cd59e4b918dd",
            "dbb0a0a1eaa9410c97634c7ae6e02fb0",
            "f31ff82ac7d4400a8c2657e045ef4c25",
            "023c24f101c640359e0924504bf94f70",
            "50683c8775ed431088a490d7bca8eb72",
            "97fdbed7b23c487b9714dce464479fc6",
            "497b312ecdce4cac8b87e0799d6419bc",
            "935bead382fa4615a33fde16a9279d08",
            "fb135d8ac6f14fa18a2672364f5bd1c1",
            "e1aa00f3cb7043f5aa620c408eac0d30",
            "064a294549c649369a70df0095f8f14e",
            "9e7da076a7be4ea9a9d52fa074a845be",
            "62bae3af90d34c5faaf9f9686dbaa24f",
            "0e79c689bc3144b1a70ca78ba5850fa0",
            "a1a78e1fb0f74049ab322d8fac753e0a",
            "3793dd82a8564253b31d0ac55b0b574c",
            "146bf6a9c1924a068e96eca47bb4da6f",
            "c935e0f1546440678dce63ac32da7476",
            "84eff416cbfb4b0ab6ef6899842f5fb4",
            "4405d055c03f4f2ea644ad5a6475a15c",
            "e68a65b29e0d41cc9ba35f5ea85f8733",
            "96249d8f05f1405786269ca9106d58d4",
            "b536090e67814772b1d2f7ac01582445",
            "2bd9ae13f04c4f07b489e85df1a6e443",
            "5e2cbf70125a4fcf97132ad2af8e2e72",
            "5e42762a799b40d1aee7150ddd60022b",
            "14674c2915d54abe9aa271fc1f386e60",
            "121cb64265774fc6bbb4f5b0cbf0cf41",
            "723dfd48105e4616987e6448cbb1e7b0",
            "8dc7b0ce6e37433580be37820a823433",
            "6a4360f1d5da4fdc987815df1b9ddb53",
            "328505af88c7475ebbd5059e5bbe0258",
            "9935bfc723ed4d28874291db88cc70f8",
            "0e48dfc8faff4f5d8e2936333de0e84f",
            "24b7403d2ece4b31af834b6d93a5a9fb",
            "fa7e26b1b4454f359358630ec0bc9583",
            "66bd341513324874afdbe22391bd0945",
            "429deca1ec274bc2bc735021b08f8bf6",
            "3b0e353a0f56466a82d56c5839ee7d0a",
            "542efc2f99684f3f809021a6a0e6077e",
            "d85df64061074345be634c84e6190e64",
            "d1b76edfb215464a8e6bf004ac247cd4",
            "6100191410fe42c7bac8110826f3a291",
            "5949fe8b7f564675ab576443034370c2",
            "c9566a310dbe44cebe5de056fb01d489",
            "be8c7607eae24c80bfe94b78a5d2bdcf",
            "e0337748c8fb4bd38682f2e1849fc960",
            "7c9359544f4c4f47bf6986a1e2588b0c",
            "1de8eaff27934b1a915d7c82f1d0e5da",
            "43fdfc0d48b243e8b7c3657f35139632",
            "42aae51e833642599460a354fc287dd9",
            "d334672c29ea4a7f96a0b9372ab53b4d",
            "f45dedfb8a6948f4ac8c5abc5e94c88e",
            "a5076cb7e8ae459ba6a1418a063b351e",
            "dabd010b5ba64fe28634e9903b63d7a5",
            "e8a77a6a8f9d4c29ad83e19792f45097"
          ]
        },
        "id": "8lG0l0kO7wOD",
        "outputId": "cd157def-e99f-47c8-beed-98c848ed4bf8"
      },
      "execution_count": 7,
      "outputs": [
        {
          "output_type": "stream",
          "name": "stdout",
          "text": [
            "Downloading and preparing dataset 4.65 GiB (download: 4.65 GiB, generated: Unknown size, total: 4.65 GiB) to /root/tensorflow_datasets/food101/2.0.0...\n"
          ]
        },
        {
          "output_type": "display_data",
          "data": {
            "text/plain": [
              "Dl Completed...: 0 url [00:00, ? url/s]"
            ],
            "application/vnd.jupyter.widget-view+json": {
              "version_major": 2,
              "version_minor": 0,
              "model_id": "36b29054801b40129fbcf1cd4399138c"
            }
          },
          "metadata": {}
        },
        {
          "output_type": "display_data",
          "data": {
            "text/plain": [
              "Dl Size...: 0 MiB [00:00, ? MiB/s]"
            ],
            "application/vnd.jupyter.widget-view+json": {
              "version_major": 2,
              "version_minor": 0,
              "model_id": "dd78493642824204bf5a417f3089a9cd"
            }
          },
          "metadata": {}
        },
        {
          "output_type": "display_data",
          "data": {
            "text/plain": [
              "Extraction completed...: 0 file [00:00, ? file/s]"
            ],
            "application/vnd.jupyter.widget-view+json": {
              "version_major": 2,
              "version_minor": 0,
              "model_id": "9510256be99e4e68b77e12daf7ba5877"
            }
          },
          "metadata": {}
        },
        {
          "output_type": "display_data",
          "data": {
            "text/plain": [
              "Generating splits...:   0%|          | 0/2 [00:00<?, ? splits/s]"
            ],
            "application/vnd.jupyter.widget-view+json": {
              "version_major": 2,
              "version_minor": 0,
              "model_id": "dbb0a0a1eaa9410c97634c7ae6e02fb0"
            }
          },
          "metadata": {}
        },
        {
          "output_type": "display_data",
          "data": {
            "text/plain": [
              "Generating train examples...:   0%|          | 0/75750 [00:00<?, ? examples/s]"
            ],
            "application/vnd.jupyter.widget-view+json": {
              "version_major": 2,
              "version_minor": 0,
              "model_id": "62bae3af90d34c5faaf9f9686dbaa24f"
            }
          },
          "metadata": {}
        },
        {
          "output_type": "display_data",
          "data": {
            "text/plain": [
              "Shuffling /root/tensorflow_datasets/food101/2.0.0.incompleteOUBWSF/food101-train.tfrecord*...:   0%|          …"
            ],
            "application/vnd.jupyter.widget-view+json": {
              "version_major": 2,
              "version_minor": 0,
              "model_id": "2bd9ae13f04c4f07b489e85df1a6e443"
            }
          },
          "metadata": {}
        },
        {
          "output_type": "display_data",
          "data": {
            "text/plain": [
              "Generating validation examples...:   0%|          | 0/25250 [00:00<?, ? examples/s]"
            ],
            "application/vnd.jupyter.widget-view+json": {
              "version_major": 2,
              "version_minor": 0,
              "model_id": "24b7403d2ece4b31af834b6d93a5a9fb"
            }
          },
          "metadata": {}
        },
        {
          "output_type": "display_data",
          "data": {
            "text/plain": [
              "Shuffling /root/tensorflow_datasets/food101/2.0.0.incompleteOUBWSF/food101-validation.tfrecord*...:   0%|     …"
            ],
            "application/vnd.jupyter.widget-view+json": {
              "version_major": 2,
              "version_minor": 0,
              "model_id": "be8c7607eae24c80bfe94b78a5d2bdcf"
            }
          },
          "metadata": {}
        },
        {
          "output_type": "stream",
          "name": "stdout",
          "text": [
            "Dataset food101 downloaded and prepared to /root/tensorflow_datasets/food101/2.0.0. Subsequent calls will reuse this data.\n"
          ]
        }
      ]
    },
    {
      "cell_type": "code",
      "source": [
        "ds_info.features"
      ],
      "metadata": {
        "colab": {
          "base_uri": "https://localhost:8080/"
        },
        "id": "IZg-fVj58yvR",
        "outputId": "9dfe9aa6-45fb-4996-8dd8-31a5a413575e"
      },
      "execution_count": 8,
      "outputs": [
        {
          "output_type": "execute_result",
          "data": {
            "text/plain": [
              "FeaturesDict({\n",
              "    'image': Image(shape=(None, None, 3), dtype=uint8),\n",
              "    'label': ClassLabel(shape=(), dtype=int64, num_classes=101),\n",
              "})"
            ]
          },
          "metadata": {},
          "execution_count": 8
        }
      ]
    },
    {
      "cell_type": "code",
      "source": [
        "# Get the class names\n",
        "class_names = ds_info.features[\"label\"].names\n",
        "class_names"
      ],
      "metadata": {
        "colab": {
          "base_uri": "https://localhost:8080/"
        },
        "id": "HfX_O4zr_7Aa",
        "outputId": "f65cfbac-44f6-4a64-ef81-03f2d466fc37"
      },
      "execution_count": 9,
      "outputs": [
        {
          "output_type": "execute_result",
          "data": {
            "text/plain": [
              "['apple_pie',\n",
              " 'baby_back_ribs',\n",
              " 'baklava',\n",
              " 'beef_carpaccio',\n",
              " 'beef_tartare',\n",
              " 'beet_salad',\n",
              " 'beignets',\n",
              " 'bibimbap',\n",
              " 'bread_pudding',\n",
              " 'breakfast_burrito',\n",
              " 'bruschetta',\n",
              " 'caesar_salad',\n",
              " 'cannoli',\n",
              " 'caprese_salad',\n",
              " 'carrot_cake',\n",
              " 'ceviche',\n",
              " 'cheesecake',\n",
              " 'cheese_plate',\n",
              " 'chicken_curry',\n",
              " 'chicken_quesadilla',\n",
              " 'chicken_wings',\n",
              " 'chocolate_cake',\n",
              " 'chocolate_mousse',\n",
              " 'churros',\n",
              " 'clam_chowder',\n",
              " 'club_sandwich',\n",
              " 'crab_cakes',\n",
              " 'creme_brulee',\n",
              " 'croque_madame',\n",
              " 'cup_cakes',\n",
              " 'deviled_eggs',\n",
              " 'donuts',\n",
              " 'dumplings',\n",
              " 'edamame',\n",
              " 'eggs_benedict',\n",
              " 'escargots',\n",
              " 'falafel',\n",
              " 'filet_mignon',\n",
              " 'fish_and_chips',\n",
              " 'foie_gras',\n",
              " 'french_fries',\n",
              " 'french_onion_soup',\n",
              " 'french_toast',\n",
              " 'fried_calamari',\n",
              " 'fried_rice',\n",
              " 'frozen_yogurt',\n",
              " 'garlic_bread',\n",
              " 'gnocchi',\n",
              " 'greek_salad',\n",
              " 'grilled_cheese_sandwich',\n",
              " 'grilled_salmon',\n",
              " 'guacamole',\n",
              " 'gyoza',\n",
              " 'hamburger',\n",
              " 'hot_and_sour_soup',\n",
              " 'hot_dog',\n",
              " 'huevos_rancheros',\n",
              " 'hummus',\n",
              " 'ice_cream',\n",
              " 'lasagna',\n",
              " 'lobster_bisque',\n",
              " 'lobster_roll_sandwich',\n",
              " 'macaroni_and_cheese',\n",
              " 'macarons',\n",
              " 'miso_soup',\n",
              " 'mussels',\n",
              " 'nachos',\n",
              " 'omelette',\n",
              " 'onion_rings',\n",
              " 'oysters',\n",
              " 'pad_thai',\n",
              " 'paella',\n",
              " 'pancakes',\n",
              " 'panna_cotta',\n",
              " 'peking_duck',\n",
              " 'pho',\n",
              " 'pizza',\n",
              " 'pork_chop',\n",
              " 'poutine',\n",
              " 'prime_rib',\n",
              " 'pulled_pork_sandwich',\n",
              " 'ramen',\n",
              " 'ravioli',\n",
              " 'red_velvet_cake',\n",
              " 'risotto',\n",
              " 'samosa',\n",
              " 'sashimi',\n",
              " 'scallops',\n",
              " 'seaweed_salad',\n",
              " 'shrimp_and_grits',\n",
              " 'spaghetti_bolognese',\n",
              " 'spaghetti_carbonara',\n",
              " 'spring_rolls',\n",
              " 'steak',\n",
              " 'strawberry_shortcake',\n",
              " 'sushi',\n",
              " 'tacos',\n",
              " 'takoyaki',\n",
              " 'tiramisu',\n",
              " 'tuna_tartare',\n",
              " 'waffles']"
            ]
          },
          "metadata": {},
          "execution_count": 9
        }
      ]
    },
    {
      "cell_type": "markdown",
      "source": [
        "## Exploring the Food101 data from TF Datasets"
      ],
      "metadata": {
        "id": "iwPRnHpVAOZb"
      }
    },
    {
      "cell_type": "code",
      "source": [
        "# Take one sample\n",
        "train_data"
      ],
      "metadata": {
        "colab": {
          "base_uri": "https://localhost:8080/"
        },
        "id": "kUDsr-LUAfZU",
        "outputId": "bd1cbf32-a9c2-420f-9b6d-eb4ec22e109a"
      },
      "execution_count": 10,
      "outputs": [
        {
          "output_type": "execute_result",
          "data": {
            "text/plain": [
              "<_PrefetchDataset element_spec=(TensorSpec(shape=(None, None, 3), dtype=tf.uint8, name=None), TensorSpec(shape=(), dtype=tf.int64, name=None))>"
            ]
          },
          "metadata": {},
          "execution_count": 10
        }
      ]
    },
    {
      "cell_type": "code",
      "source": [
        "train_one_sample = train_data.take(1)"
      ],
      "metadata": {
        "id": "wug9G8fyA_re"
      },
      "execution_count": 17,
      "outputs": []
    },
    {
      "cell_type": "code",
      "source": [
        "train_one_sample"
      ],
      "metadata": {
        "colab": {
          "base_uri": "https://localhost:8080/"
        },
        "id": "iD-KlG6oBDGG",
        "outputId": "b67f3dc1-0451-42c1-9829-1cdfacda94e1"
      },
      "execution_count": 18,
      "outputs": [
        {
          "output_type": "execute_result",
          "data": {
            "text/plain": [
              "<_TakeDataset element_spec=(TensorSpec(shape=(None, None, 3), dtype=tf.uint8, name=None), TensorSpec(shape=(), dtype=tf.int64, name=None))>"
            ]
          },
          "metadata": {},
          "execution_count": 18
        }
      ]
    },
    {
      "cell_type": "code",
      "source": [
        "# Output info about our training sample\n",
        "for image, label in train_one_sample:\n",
        "  print(f\"\"\"\n",
        "  Image shape: {image.shape},\n",
        "  Image datatype: {image.dtype},\n",
        "  Target Food101 class: {label},\n",
        "  Class name: {class_names[label.numpy()]}\n",
        "  \"\"\")"
      ],
      "metadata": {
        "colab": {
          "base_uri": "https://localhost:8080/"
        },
        "id": "E8378zDcBS23",
        "outputId": "8706866e-d87c-4583-f34b-b89ce8a55585"
      },
      "execution_count": 19,
      "outputs": [
        {
          "output_type": "stream",
          "name": "stdout",
          "text": [
            "\n",
            "  Image shape: (512, 512, 3),\n",
            "  Image datatype: <dtype: 'uint8'>,\n",
            "  Target Food101 class: 1,\n",
            "  Class name: baby_back_ribs\n",
            "  \n"
          ]
        }
      ]
    },
    {
      "cell_type": "code",
      "source": [
        "# What does our image tensor from TFDS's Food101 look like?\n",
        "image"
      ],
      "metadata": {
        "colab": {
          "base_uri": "https://localhost:8080/"
        },
        "id": "huW1cigHB9AX",
        "outputId": "88c1b1f4-384d-42e6-ad69-501d034459df"
      },
      "execution_count": 20,
      "outputs": [
        {
          "output_type": "execute_result",
          "data": {
            "text/plain": [
              "<tf.Tensor: shape=(512, 512, 3), dtype=uint8, numpy=\n",
              "array([[[ 95,  95,  25],\n",
              "        [ 87,  87,  17],\n",
              "        [ 96,  93,  26],\n",
              "        ...,\n",
              "        [178, 189, 191],\n",
              "        [180, 191, 193],\n",
              "        [178, 189, 191]],\n",
              "\n",
              "       [[ 92,  92,  22],\n",
              "        [ 86,  86,  16],\n",
              "        [ 91,  88,  21],\n",
              "        ...,\n",
              "        [183, 194, 196],\n",
              "        [184, 195, 197],\n",
              "        [180, 191, 193]],\n",
              "\n",
              "       [[ 97,  94,  25],\n",
              "        [ 92,  89,  20],\n",
              "        [ 89,  86,  19],\n",
              "        ...,\n",
              "        [187, 198, 200],\n",
              "        [185, 199, 200],\n",
              "        [181, 195, 196]],\n",
              "\n",
              "       ...,\n",
              "\n",
              "       [[205, 196, 155],\n",
              "        [205, 196, 155],\n",
              "        [203, 194, 155],\n",
              "        ...,\n",
              "        [216, 228, 226],\n",
              "        [214, 226, 224],\n",
              "        [207, 219, 217]],\n",
              "\n",
              "       [[209, 197, 155],\n",
              "        [210, 198, 156],\n",
              "        [207, 198, 159],\n",
              "        ...,\n",
              "        [216, 228, 226],\n",
              "        [212, 224, 222],\n",
              "        [212, 224, 222]],\n",
              "\n",
              "       [[202, 191, 146],\n",
              "        [207, 195, 153],\n",
              "        [207, 198, 157],\n",
              "        ...,\n",
              "        [217, 229, 227],\n",
              "        [213, 225, 223],\n",
              "        [219, 231, 229]]], dtype=uint8)>"
            ]
          },
          "metadata": {},
          "execution_count": 20
        }
      ]
    },
    {
      "cell_type": "code",
      "source": [
        "# What are the min and max pixel values of our image?\n",
        "import tensorflow as tf\n",
        "tf.reduce_min(image), tf.reduce_max(image)"
      ],
      "metadata": {
        "colab": {
          "base_uri": "https://localhost:8080/"
        },
        "id": "YATO6oxXCFaR",
        "outputId": "df622d68-a866-4ba5-81ee-b2c791b28460"
      },
      "execution_count": 21,
      "outputs": [
        {
          "output_type": "execute_result",
          "data": {
            "text/plain": [
              "(<tf.Tensor: shape=(), dtype=uint8, numpy=0>,\n",
              " <tf.Tensor: shape=(), dtype=uint8, numpy=255>)"
            ]
          },
          "metadata": {},
          "execution_count": 21
        }
      ]
    },
    {
      "cell_type": "markdown",
      "source": [
        "## Plot an image from TF Datasets"
      ],
      "metadata": {
        "id": "mq_db-sRCPcS"
      }
    },
    {
      "cell_type": "code",
      "source": [
        "import matplotlib.pyplot as plt\n",
        "plt.imshow(tf.cast(image, dtype=tf.float32)/255.)\n",
        "plt.title(f\"This is an image of {class_names[label]}\");\n",
        "plt.axis(False);"
      ],
      "metadata": {
        "colab": {
          "base_uri": "https://localhost:8080/",
          "height": 428
        },
        "id": "IgbVDe1EBEOc",
        "outputId": "a1391235-cda1-4f66-ff62-a827c44d9683"
      },
      "execution_count": 22,
      "outputs": [
        {
          "output_type": "display_data",
          "data": {
            "text/plain": [
              "<Figure size 640x480 with 1 Axes>"
            ],
            "image/png": "[encoded data removed]"
          },
          "metadata": {}
        }
      ]
    },
    {
      "cell_type": "markdown",
      "source": [
        "## Create proprocessing functions for the data\n",
        "\n",
        "* In `uint8` datatype\n",
        "* Different sized tensors/images\n",
        "* Not scaled (pixel values are 0-255)\n",
        "\n",
        "What models like:\n",
        "* Data in `float32` dtype or `float16`\n",
        "* TF likes tensors within batch to be same size\n",
        "* Scaled (values 0-1) also called normalized tensors\n",
        "\n",
        "Our preprocessing function:\n",
        "1. Reshape our images to all the same size\n",
        "2. Convert dtype of our image tensors from `uint8` to `float32`"
      ],
      "metadata": {
        "id": "42JMzsLcBLqK"
      }
    },
    {
      "cell_type": "code",
      "source": [
        "def preprocess_img(image, label, img_shape=224):\n",
        "  \"\"\"\n",
        "  Converts image datatype from `uint8` -> `float32` and reshapes\n",
        "  image to [img_shape, img_shape, color_channels]\n",
        "  \"\"\"\n",
        "  image = tf.image.resize(image, [img_shape, img_shape]) # reshape target image\n",
        "  #image /= 255. # scale images values (not required for EfficientNetBX models from tf.keras.applications)\n",
        "  return tf.cast(image, tf.float32), label"
      ],
      "metadata": {
        "id": "i1V4Cwm59q5V"
      },
      "execution_count": 27,
      "outputs": []
    },
    {
      "cell_type": "code",
      "source": [
        "# preprocess single sample image and check the outputs\n",
        "preprocessed_img = preprocess_img(image,label)[0]\n",
        "print(f\"Image before preprocessing: \\n {image[:2]}..., \\n Shape: {image.shape}, \\n Datatype: {image.dtype}\")\n",
        "print(f\"Preprocessed image: \\n {preprocessed_img[:2]}..., \\n Shape: {preprocessed_img.shape}, \\n Datatype: {preprocessed_img.dtype}\")"
      ],
      "metadata": {
        "colab": {
          "base_uri": "https://localhost:8080/"
        },
        "id": "Sornikfe_-g1",
        "outputId": "d87040c8-d36c-42e7-e35f-1967721d160c"
      },
      "execution_count": 28,
      "outputs": [
        {
          "output_type": "stream",
          "name": "stdout",
          "text": [
            "Image before preprocessing: \n",
            " [[[ 95  95  25]\n",
            "  [ 87  87  17]\n",
            "  [ 96  93  26]\n",
            "  ...\n",
            "  [178 189 191]\n",
            "  [180 191 193]\n",
            "  [178 189 191]]\n",
            "\n",
            " [[ 92  92  22]\n",
            "  [ 86  86  16]\n",
            "  [ 91  88  21]\n",
            "  ...\n",
            "  [183 194 196]\n",
            "  [184 195 197]\n",
            "  [180 191 193]]]..., \n",
            " Shape: (512, 512, 3), \n",
            " Datatype: <dtype: 'uint8'>\n",
            "Preprocessed image: \n",
            " [[[ 88.755104  88.755104  18.755102]\n",
            "  [ 88.341835  85.341835  18.341835]\n",
            "  [ 86.377556  81.16327   17.591837]\n",
            "  ...\n",
            "  [182.5153   193.5153   195.5153  ]\n",
            "  [181.47958  192.47958  194.47958 ]\n",
            "  [181.39784  192.39784  194.39784 ]]\n",
            "\n",
            " [[ 96.57143   93.57143   24.571428]\n",
            "  [ 92.38265   89.38265   22.382656]\n",
            "  [ 93.72959   88.515305  24.94388 ]\n",
            "  ...\n",
            "  [189.42863  200.42863  202.42863 ]\n",
            "  [189.78568  200.78568  202.78568 ]\n",
            "  [183.90295  197.90295  198.90295 ]]]..., \n",
            " Shape: (224, 224, 3), \n",
            " Datatype: <dtype: 'float32'>\n"
          ]
        }
      ]
    },
    {
      "cell_type": "markdown",
      "source": [
        "## Batch and prepare datasets"
      ],
      "metadata": {
        "id": "B3MaLL-AAdz4"
      }
    },
    {
      "cell_type": "code",
      "source": [
        "# Map preprocessing function to training (and parallelize)\n",
        "train_data = train_data.map(map_func=preprocess_img, num_parallel_calls=tf.data.AUTOTUNE)\n",
        "# Shuffle train_data and turn into batches and prefetch it (speeds up loading)\n",
        "train_data = train_data.shuffle(buffer_size=1000).batch(batch_size=32).prefetch(buffer_size=tf.data.AUTOTUNE)\n",
        "\n",
        "# Same for testing data\n",
        "test_data = test_data.map(map_func=preprocess_img, num_parallel_calls=tf.data.AUTOTUNE).batch(32).prefetch(tf.data.AUTOTUNE)"
      ],
      "metadata": {
        "id": "wZT1Q9p-BP15"
      },
      "execution_count": 31,
      "outputs": []
    },
    {
      "cell_type": "code",
      "source": [
        "train_data, test_data"
      ],
      "metadata": {
        "colab": {
          "base_uri": "https://localhost:8080/"
        },
        "id": "uVwNxiq1BpjK",
        "outputId": "b0b71d76-e0d6-4d3c-c4b4-7f09359e8d80"
      },
      "execution_count": 32,
      "outputs": [
        {
          "output_type": "execute_result",
          "data": {
            "text/plain": [
              "(<_PrefetchDataset element_spec=(TensorSpec(shape=(None, None, 224, 224, 3), dtype=tf.float32, name=None), TensorSpec(shape=(None, None), dtype=tf.int64, name=None))>,\n",
              " <_PrefetchDataset element_spec=(TensorSpec(shape=(None, 224, 224, 3), dtype=tf.float32, name=None), TensorSpec(shape=(None,), dtype=tf.int64, name=None))>)"
            ]
          },
          "metadata": {},
          "execution_count": 32
        }
      ]
    },
    {
      "cell_type": "markdown",
      "source": [
        "## Create Modeling Callbacks\n",
        "\n",
        "* TensorBoard callback to log training results\n",
        "* ModelCheckpoint callabck to save our model's progress after feature extraction"
      ],
      "metadata": {
        "id": "k0jgHaodDZ-q"
      }
    },
    {
      "cell_type": "code",
      "source": [
        "# Create tensorboard callback (import from helper functions)\n",
        "from helper_functions import create_tensorboard_callback\n",
        "# Create a ModelCheckpoint callback\n",
        "checkpoint_path = \"model_checkpoints/cp.ckpt\"\n",
        "model_checkpoint = tf.keras.callbacks.ModelCheckpoint(checkpoint_path, monitor=\"val_acc\",\n",
        "                                                      save_best_only=True,\n",
        "                                                      save_weights_only=True,\n",
        "                                                      verbose=1) # don't print status\n",
        "\n"
      ],
      "metadata": {
        "id": "GzCxaWOLFCnG"
      },
      "execution_count": 33,
      "outputs": []
    },
    {
      "cell_type": "code",
      "source": [
        "tf.__version__"
      ],
      "metadata": {
        "colab": {
          "base_uri": "https://localhost:8080/",
          "height": 35
        },
        "id": "6Tcn5VQoGKcd",
        "outputId": "ccd55e51-0627-46b3-d85f-5fab3b1e8c93"
      },
      "execution_count": 35,
      "outputs": [
        {
          "output_type": "execute_result",
          "data": {
            "text/plain": [
              "'2.15.0'"
            ],
            "application/vnd.google.colaboratory.intrinsic+json": {
              "type": "string"
            }
          },
          "metadata": {},
          "execution_count": 35
        }
      ]
    },
    {
      "cell_type": "code",
      "source": [
        "# Turn on mixed precision training\n",
        "from tensorflow.keras import mixed_precision\n",
        "mixed_precision.set_global_policy(\"mixed_float16\") # Set global data policy to mixed precision\n"
      ],
      "metadata": {
        "id": "mHY2XrnnGlrc"
      },
      "execution_count": 36,
      "outputs": []
    },
    {
      "cell_type": "code",
      "source": [
        "mixed_precision.global_policy()"
      ],
      "metadata": {
        "colab": {
          "base_uri": "https://localhost:8080/"
        },
        "id": "ihafzzXXHOW_",
        "outputId": "5cf1aabe-1997-4de9-f031-6d6772b6e7dc"
      },
      "execution_count": 37,
      "outputs": [
        {
          "output_type": "execute_result",
          "data": {
            "text/plain": [
              "<Policy \"mixed_float16\">"
            ]
          },
          "metadata": {},
          "execution_count": 37
        }
      ]
    },
    {
      "cell_type": "code",
      "source": [
        "## Build Feature extraction model\n",
        "from tensorflow.keras import layers\n",
        "from tensorflow.keras.layers.experimental import preprocessing\n",
        "\n",
        "# Create base model\n",
        "input_shape = (224, 224, 3)\n",
        "base_model = tf.keras.applications.EfficientNetB0(include_top=False)\n",
        "base_model.trainable = False\n",
        "\n",
        "# Create fuctional model\n",
        "inputs = layers.Input(shape=input_shape, name=\"input_layer\")\n",
        "# Note: EfficientNetBX models have rescaling built-in\n",
        "x = base_model(inputs, training=False)\n",
        "x = layers.GlobalAveragePooling2D()(x)\n",
        "x = layers.Dense(len(class_names))(x)\n",
        "outputs = layers.Activation(\"softmax\", dtype=tf.float32, name=\"softmax_float32\")(x)\n",
        "model = tf.keras.Model(inputs, outputs)\n",
        "\n",
        "# Compile the model\n",
        "model.compile(loss=tf.keras.losses.SparseCategoricalCrossentropy,\n",
        "              optimizer=tf.keras.optimizers.Adam(),\n",
        "              metrics=[\"accuracy\"])"
      ],
      "metadata": {
        "colab": {
          "base_uri": "https://localhost:8080/"
        },
        "id": "kpFJA1LtIFI5",
        "outputId": "1817214c-58eb-4648-f1d1-762982e632ab"
      },
      "execution_count": 38,
      "outputs": [
        {
          "output_type": "stream",
          "name": "stdout",
          "text": [
            "Downloading data from https://storage.googleapis.com/keras-applications/efficientnetb0_notop.h5\n",
            "16705208/16705208 [==============================] - 0s 0us/step\n"
          ]
        }
      ]
    },
    {
      "cell_type": "code",
      "source": [
        "model.summary()"
      ],
      "metadata": {
        "colab": {
          "base_uri": "https://localhost:8080/"
        },
        "id": "hBT8L0dJKisl",
        "outputId": "83150afc-5184-4cb1-bcbd-632f9d6afe5d"
      },
      "execution_count": 39,
      "outputs": [
        {
          "output_type": "stream",
          "name": "stdout",
          "text": [
            "Model: \"model\"\n",
            "_________________________________________________________________\n",
            " Layer (type)                Output Shape              Param #   \n",
            "=================================================================\n",
            " input_layer (InputLayer)    [(None, 224, 224, 3)]     0         \n",
            "                                                                 \n",
            " efficientnetb0 (Functional  (None, None, None, 1280   4049571   \n",
            " )                           )                                   \n",
            "                                                                 \n",
            " global_average_pooling2d (  (None, 1280)              0         \n",
            " GlobalAveragePooling2D)                                         \n",
            "                                                                 \n",
            " dense (Dense)               (None, 101)               129381    \n",
            "                                                                 \n",
            " softmax_float32 (Activatio  (None, 101)               0         \n",
            " n)                                                              \n",
            "                                                                 \n",
            "=================================================================\n",
            "Total params: 4178952 (15.94 MB)\n",
            "Trainable params: 129381 (505.39 KB)\n",
            "Non-trainable params: 4049571 (15.45 MB)\n",
            "_________________________________________________________________\n"
          ]
        }
      ]
    },
    {
      "cell_type": "code",
      "source": [
        "# Computations are done in float16 but variables/results are stored in float32\n",
        "for layer in model.layers:\n",
        "  if layer.name == \"efficientnetb0\":\n",
        "      for elayer in layer.layers:\n",
        "            print(f\"Datatype of {elayer.name}: {elayer.dtype_policy}\")\n",
        "  else:\n",
        "     print(f\"Datatype of {layer.name}: {layer.dtype_policy}\")"
      ],
      "metadata": {
        "colab": {
          "base_uri": "https://localhost:8080/"
        },
        "id": "KGpfztFeKk4Y",
        "outputId": "ceca8607-4824-42dc-d168-4c672916c4cf"
      },
      "execution_count": 47,
      "outputs": [
        {
          "output_type": "stream",
          "name": "stdout",
          "text": [
            "Datatype of input_layer: <Policy \"float32\">\n",
            "Datatype of input_1: <Policy \"float32\">\n",
            "Datatype of rescaling: <Policy \"mixed_float16\">\n",
            "Datatype of normalization: <Policy \"mixed_float16\">\n",
            "Datatype of rescaling_1: <Policy \"mixed_float16\">\n",
            "Datatype of stem_conv_pad: <Policy \"mixed_float16\">\n",
            "Datatype of stem_conv: <Policy \"mixed_float16\">\n",
            "Datatype of stem_bn: <Policy \"mixed_float16\">\n",
            "Datatype of stem_activation: <Policy \"mixed_float16\">\n",
            "Datatype of block1a_dwconv: <Policy \"mixed_float16\">\n",
            "Datatype of block1a_bn: <Policy \"mixed_float16\">\n",
            "Datatype of block1a_activation: <Policy \"mixed_float16\">\n",
            "Datatype of block1a_se_squeeze: <Policy \"mixed_float16\">\n",
            "Datatype of block1a_se_reshape: <Policy \"mixed_float16\">\n",
            "Datatype of block1a_se_reduce: <Policy \"mixed_float16\">\n",
            "Datatype of block1a_se_expand: <Policy \"mixed_float16\">\n",
            "Datatype of block1a_se_excite: <Policy \"mixed_float16\">\n",
            "Datatype of block1a_project_conv: <Policy \"mixed_float16\">\n",
            "Datatype of block1a_project_bn: <Policy \"mixed_float16\">\n",
            "Datatype of block2a_expand_conv: <Policy \"mixed_float16\">\n",
            "Datatype of block2a_expand_bn: <Policy \"mixed_float16\">\n",
            "Datatype of block2a_expand_activation: <Policy \"mixed_float16\">\n",
            "Datatype of block2a_dwconv_pad: <Policy \"mixed_float16\">\n",
            "Datatype of block2a_dwconv: <Policy \"mixed_float16\">\n",
            "Datatype of block2a_bn: <Policy \"mixed_float16\">\n",
            "Datatype of block2a_activation: <Policy \"mixed_float16\">\n",
            "Datatype of block2a_se_squeeze: <Policy \"mixed_float16\">\n",
            "Datatype of block2a_se_reshape: <Policy \"mixed_float16\">\n",
            "Datatype of block2a_se_reduce: <Policy \"mixed_float16\">\n",
            "Datatype of block2a_se_expand: <Policy \"mixed_float16\">\n",
            "Datatype of block2a_se_excite: <Policy \"mixed_float16\">\n",
            "Datatype of block2a_project_conv: <Policy \"mixed_float16\">\n",
            "Datatype of block2a_project_bn: <Policy \"mixed_float16\">\n",
            "Datatype of block2b_expand_conv: <Policy \"mixed_float16\">\n",
            "Datatype of block2b_expand_bn: <Policy \"mixed_float16\">\n",
            "Datatype of block2b_expand_activation: <Policy \"mixed_float16\">\n",
            "Datatype of block2b_dwconv: <Policy \"mixed_float16\">\n",
            "Datatype of block2b_bn: <Policy \"mixed_float16\">\n",
            "Datatype of block2b_activation: <Policy \"mixed_float16\">\n",
            "Datatype of block2b_se_squeeze: <Policy \"mixed_float16\">\n",
            "Datatype of block2b_se_reshape: <Policy \"mixed_float16\">\n",
            "Datatype of block2b_se_reduce: <Policy \"mixed_float16\">\n",
            "Datatype of block2b_se_expand: <Policy \"mixed_float16\">\n",
            "Datatype of block2b_se_excite: <Policy \"mixed_float16\">\n",
            "Datatype of block2b_project_conv: <Policy \"mixed_float16\">\n",
            "Datatype of block2b_project_bn: <Policy \"mixed_float16\">\n",
            "Datatype of block2b_drop: <Policy \"mixed_float16\">\n",
            "Datatype of block2b_add: <Policy \"mixed_float16\">\n",
            "Datatype of block3a_expand_conv: <Policy \"mixed_float16\">\n",
            "Datatype of block3a_expand_bn: <Policy \"mixed_float16\">\n",
            "Datatype of block3a_expand_activation: <Policy \"mixed_float16\">\n",
            "Datatype of block3a_dwconv_pad: <Policy \"mixed_float16\">\n",
            "Datatype of block3a_dwconv: <Policy \"mixed_float16\">\n",
            "Datatype of block3a_bn: <Policy \"mixed_float16\">\n",
            "Datatype of block3a_activation: <Policy \"mixed_float16\">\n",
            "Datatype of block3a_se_squeeze: <Policy \"mixed_float16\">\n",
            "Datatype of block3a_se_reshape: <Policy \"mixed_float16\">\n",
            "Datatype of block3a_se_reduce: <Policy \"mixed_float16\">\n",
            "Datatype of block3a_se_expand: <Policy \"mixed_float16\">\n",
            "Datatype of block3a_se_excite: <Policy \"mixed_float16\">\n",
            "Datatype of block3a_project_conv: <Policy \"mixed_float16\">\n",
            "Datatype of block3a_project_bn: <Policy \"mixed_float16\">\n",
            "Datatype of block3b_expand_conv: <Policy \"mixed_float16\">\n",
            "Datatype of block3b_expand_bn: <Policy \"mixed_float16\">\n",
            "Datatype of block3b_expand_activation: <Policy \"mixed_float16\">\n",
            "Datatype of block3b_dwconv: <Policy \"mixed_float16\">\n",
            "Datatype of block3b_bn: <Policy \"mixed_float16\">\n",
            "Datatype of block3b_activation: <Policy \"mixed_float16\">\n",
            "Datatype of block3b_se_squeeze: <Policy \"mixed_float16\">\n",
            "Datatype of block3b_se_reshape: <Policy \"mixed_float16\">\n",
            "Datatype of block3b_se_reduce: <Policy \"mixed_float16\">\n",
            "Datatype of block3b_se_expand: <Policy \"mixed_float16\">\n",
            "Datatype of block3b_se_excite: <Policy \"mixed_float16\">\n",
            "Datatype of block3b_project_conv: <Policy \"mixed_float16\">\n",
            "Datatype of block3b_project_bn: <Policy \"mixed_float16\">\n",
            "Datatype of block3b_drop: <Policy \"mixed_float16\">\n",
            "Datatype of block3b_add: <Policy \"mixed_float16\">\n",
            "Datatype of block4a_expand_conv: <Policy \"mixed_float16\">\n",
            "Datatype of block4a_expand_bn: <Policy \"mixed_float16\">\n",
            "Datatype of block4a_expand_activation: <Policy \"mixed_float16\">\n",
            "Datatype of block4a_dwconv_pad: <Policy \"mixed_float16\">\n",
            "Datatype of block4a_dwconv: <Policy \"mixed_float16\">\n",
            "Datatype of block4a_bn: <Policy \"mixed_float16\">\n",
            "Datatype of block4a_activation: <Policy \"mixed_float16\">\n",
            "Datatype of block4a_se_squeeze: <Policy \"mixed_float16\">\n",
            "Datatype of block4a_se_reshape: <Policy \"mixed_float16\">\n",
            "Datatype of block4a_se_reduce: <Policy \"mixed_float16\">\n",
            "Datatype of block4a_se_expand: <Policy \"mixed_float16\">\n",
            "Datatype of block4a_se_excite: <Policy \"mixed_float16\">\n",
            "Datatype of block4a_project_conv: <Policy \"mixed_float16\">\n",
            "Datatype of block4a_project_bn: <Policy \"mixed_float16\">\n",
            "Datatype of block4b_expand_conv: <Policy \"mixed_float16\">\n",
            "Datatype of block4b_expand_bn: <Policy \"mixed_float16\">\n",
            "Datatype of block4b_expand_activation: <Policy \"mixed_float16\">\n",
            "Datatype of block4b_dwconv: <Policy \"mixed_float16\">\n",
            "Datatype of block4b_bn: <Policy \"mixed_float16\">\n",
            "Datatype of block4b_activation: <Policy \"mixed_float16\">\n",
            "Datatype of block4b_se_squeeze: <Policy \"mixed_float16\">\n",
            "Datatype of block4b_se_reshape: <Policy \"mixed_float16\">\n",
            "Datatype of block4b_se_reduce: <Policy \"mixed_float16\">\n",
            "Datatype of block4b_se_expand: <Policy \"mixed_float16\">\n",
            "Datatype of block4b_se_excite: <Policy \"mixed_float16\">\n",
            "Datatype of block4b_project_conv: <Policy \"mixed_float16\">\n",
            "Datatype of block4b_project_bn: <Policy \"mixed_float16\">\n",
            "Datatype of block4b_drop: <Policy \"mixed_float16\">\n",
            "Datatype of block4b_add: <Policy \"mixed_float16\">\n",
            "Datatype of block4c_expand_conv: <Policy \"mixed_float16\">\n",
            "Datatype of block4c_expand_bn: <Policy \"mixed_float16\">\n",
            "Datatype of block4c_expand_activation: <Policy \"mixed_float16\">\n",
            "Datatype of block4c_dwconv: <Policy \"mixed_float16\">\n",
            "Datatype of block4c_bn: <Policy \"mixed_float16\">\n",
            "Datatype of block4c_activation: <Policy \"mixed_float16\">\n",
            "Datatype of block4c_se_squeeze: <Policy \"mixed_float16\">\n",
            "Datatype of block4c_se_reshape: <Policy \"mixed_float16\">\n",
            "Datatype of block4c_se_reduce: <Policy \"mixed_float16\">\n",
            "Datatype of block4c_se_expand: <Policy \"mixed_float16\">\n",
            "Datatype of block4c_se_excite: <Policy \"mixed_float16\">\n",
            "Datatype of block4c_project_conv: <Policy \"mixed_float16\">\n",
            "Datatype of block4c_project_bn: <Policy \"mixed_float16\">\n",
            "Datatype of block4c_drop: <Policy \"mixed_float16\">\n",
            "Datatype of block4c_add: <Policy \"mixed_float16\">\n",
            "Datatype of block5a_expand_conv: <Policy \"mixed_float16\">\n",
            "Datatype of block5a_expand_bn: <Policy \"mixed_float16\">\n",
            "Datatype of block5a_expand_activation: <Policy \"mixed_float16\">\n",
            "Datatype of block5a_dwconv: <Policy \"mixed_float16\">\n",
            "Datatype of block5a_bn: <Policy \"mixed_float16\">\n",
            "Datatype of block5a_activation: <Policy \"mixed_float16\">\n",
            "Datatype of block5a_se_squeeze: <Policy \"mixed_float16\">\n",
            "Datatype of block5a_se_reshape: <Policy \"mixed_float16\">\n",
            "Datatype of block5a_se_reduce: <Policy \"mixed_float16\">\n",
            "Datatype of block5a_se_expand: <Policy \"mixed_float16\">\n",
            "Datatype of block5a_se_excite: <Policy \"mixed_float16\">\n",
            "Datatype of block5a_project_conv: <Policy \"mixed_float16\">\n",
            "Datatype of block5a_project_bn: <Policy \"mixed_float16\">\n",
            "Datatype of block5b_expand_conv: <Policy \"mixed_float16\">\n",
            "Datatype of block5b_expand_bn: <Policy \"mixed_float16\">\n",
            "Datatype of block5b_expand_activation: <Policy \"mixed_float16\">\n",
            "Datatype of block5b_dwconv: <Policy \"mixed_float16\">\n",
            "Datatype of block5b_bn: <Policy \"mixed_float16\">\n",
            "Datatype of block5b_activation: <Policy \"mixed_float16\">\n",
            "Datatype of block5b_se_squeeze: <Policy \"mixed_float16\">\n",
            "Datatype of block5b_se_reshape: <Policy \"mixed_float16\">\n",
            "Datatype of block5b_se_reduce: <Policy \"mixed_float16\">\n",
            "Datatype of block5b_se_expand: <Policy \"mixed_float16\">\n",
            "Datatype of block5b_se_excite: <Policy \"mixed_float16\">\n",
            "Datatype of block5b_project_conv: <Policy \"mixed_float16\">\n",
            "Datatype of block5b_project_bn: <Policy \"mixed_float16\">\n",
            "Datatype of block5b_drop: <Policy \"mixed_float16\">\n",
            "Datatype of block5b_add: <Policy \"mixed_float16\">\n",
            "Datatype of block5c_expand_conv: <Policy \"mixed_float16\">\n",
            "Datatype of block5c_expand_bn: <Policy \"mixed_float16\">\n",
            "Datatype of block5c_expand_activation: <Policy \"mixed_float16\">\n",
            "Datatype of block5c_dwconv: <Policy \"mixed_float16\">\n",
            "Datatype of block5c_bn: <Policy \"mixed_float16\">\n",
            "Datatype of block5c_activation: <Policy \"mixed_float16\">\n",
            "Datatype of block5c_se_squeeze: <Policy \"mixed_float16\">\n",
            "Datatype of block5c_se_reshape: <Policy \"mixed_float16\">\n",
            "Datatype of block5c_se_reduce: <Policy \"mixed_float16\">\n",
            "Datatype of block5c_se_expand: <Policy \"mixed_float16\">\n",
            "Datatype of block5c_se_excite: <Policy \"mixed_float16\">\n",
            "Datatype of block5c_project_conv: <Policy \"mixed_float16\">\n",
            "Datatype of block5c_project_bn: <Policy \"mixed_float16\">\n",
            "Datatype of block5c_drop: <Policy \"mixed_float16\">\n",
            "Datatype of block5c_add: <Policy \"mixed_float16\">\n",
            "Datatype of block6a_expand_conv: <Policy \"mixed_float16\">\n",
            "Datatype of block6a_expand_bn: <Policy \"mixed_float16\">\n",
            "Datatype of block6a_expand_activation: <Policy \"mixed_float16\">\n",
            "Datatype of block6a_dwconv_pad: <Policy \"mixed_float16\">\n",
            "Datatype of block6a_dwconv: <Policy \"mixed_float16\">\n",
            "Datatype of block6a_bn: <Policy \"mixed_float16\">\n",
            "Datatype of block6a_activation: <Policy \"mixed_float16\">\n",
            "Datatype of block6a_se_squeeze: <Policy \"mixed_float16\">\n",
            "Datatype of block6a_se_reshape: <Policy \"mixed_float16\">\n",
            "Datatype of block6a_se_reduce: <Policy \"mixed_float16\">\n",
            "Datatype of block6a_se_expand: <Policy \"mixed_float16\">\n",
            "Datatype of block6a_se_excite: <Policy \"mixed_float16\">\n",
            "Datatype of block6a_project_conv: <Policy \"mixed_float16\">\n",
            "Datatype of block6a_project_bn: <Policy \"mixed_float16\">\n",
            "Datatype of block6b_expand_conv: <Policy \"mixed_float16\">\n",
            "Datatype of block6b_expand_bn: <Policy \"mixed_float16\">\n",
            "Datatype of block6b_expand_activation: <Policy \"mixed_float16\">\n",
            "Datatype of block6b_dwconv: <Policy \"mixed_float16\">\n",
            "Datatype of block6b_bn: <Policy \"mixed_float16\">\n",
            "Datatype of block6b_activation: <Policy \"mixed_float16\">\n",
            "Datatype of block6b_se_squeeze: <Policy \"mixed_float16\">\n",
            "Datatype of block6b_se_reshape: <Policy \"mixed_float16\">\n",
            "Datatype of block6b_se_reduce: <Policy \"mixed_float16\">\n",
            "Datatype of block6b_se_expand: <Policy \"mixed_float16\">\n",
            "Datatype of block6b_se_excite: <Policy \"mixed_float16\">\n",
            "Datatype of block6b_project_conv: <Policy \"mixed_float16\">\n",
            "Datatype of block6b_project_bn: <Policy \"mixed_float16\">\n",
            "Datatype of block6b_drop: <Policy \"mixed_float16\">\n",
            "Datatype of block6b_add: <Policy \"mixed_float16\">\n",
            "Datatype of block6c_expand_conv: <Policy \"mixed_float16\">\n",
            "Datatype of block6c_expand_bn: <Policy \"mixed_float16\">\n",
            "Datatype of block6c_expand_activation: <Policy \"mixed_float16\">\n",
            "Datatype of block6c_dwconv: <Policy \"mixed_float16\">\n",
            "Datatype of block6c_bn: <Policy \"mixed_float16\">\n",
            "Datatype of block6c_activation: <Policy \"mixed_float16\">\n",
            "Datatype of block6c_se_squeeze: <Policy \"mixed_float16\">\n",
            "Datatype of block6c_se_reshape: <Policy \"mixed_float16\">\n",
            "Datatype of block6c_se_reduce: <Policy \"mixed_float16\">\n",
            "Datatype of block6c_se_expand: <Policy \"mixed_float16\">\n",
            "Datatype of block6c_se_excite: <Policy \"mixed_float16\">\n",
            "Datatype of block6c_project_conv: <Policy \"mixed_float16\">\n",
            "Datatype of block6c_project_bn: <Policy \"mixed_float16\">\n",
            "Datatype of block6c_drop: <Policy \"mixed_float16\">\n",
            "Datatype of block6c_add: <Policy \"mixed_float16\">\n",
            "Datatype of block6d_expand_conv: <Policy \"mixed_float16\">\n",
            "Datatype of block6d_expand_bn: <Policy \"mixed_float16\">\n",
            "Datatype of block6d_expand_activation: <Policy \"mixed_float16\">\n",
            "Datatype of block6d_dwconv: <Policy \"mixed_float16\">\n",
            "Datatype of block6d_bn: <Policy \"mixed_float16\">\n",
            "Datatype of block6d_activation: <Policy \"mixed_float16\">\n",
            "Datatype of block6d_se_squeeze: <Policy \"mixed_float16\">\n",
            "Datatype of block6d_se_reshape: <Policy \"mixed_float16\">\n",
            "Datatype of block6d_se_reduce: <Policy \"mixed_float16\">\n",
            "Datatype of block6d_se_expand: <Policy \"mixed_float16\">\n",
            "Datatype of block6d_se_excite: <Policy \"mixed_float16\">\n",
            "Datatype of block6d_project_conv: <Policy \"mixed_float16\">\n",
            "Datatype of block6d_project_bn: <Policy \"mixed_float16\">\n",
            "Datatype of block6d_drop: <Policy \"mixed_float16\">\n",
            "Datatype of block6d_add: <Policy \"mixed_float16\">\n",
            "Datatype of block7a_expand_conv: <Policy \"mixed_float16\">\n",
            "Datatype of block7a_expand_bn: <Policy \"mixed_float16\">\n",
            "Datatype of block7a_expand_activation: <Policy \"mixed_float16\">\n",
            "Datatype of block7a_dwconv: <Policy \"mixed_float16\">\n",
            "Datatype of block7a_bn: <Policy \"mixed_float16\">\n",
            "Datatype of block7a_activation: <Policy \"mixed_float16\">\n",
            "Datatype of block7a_se_squeeze: <Policy \"mixed_float16\">\n",
            "Datatype of block7a_se_reshape: <Policy \"mixed_float16\">\n",
            "Datatype of block7a_se_reduce: <Policy \"mixed_float16\">\n",
            "Datatype of block7a_se_expand: <Policy \"mixed_float16\">\n",
            "Datatype of block7a_se_excite: <Policy \"mixed_float16\">\n",
            "Datatype of block7a_project_conv: <Policy \"mixed_float16\">\n",
            "Datatype of block7a_project_bn: <Policy \"mixed_float16\">\n",
            "Datatype of top_conv: <Policy \"mixed_float16\">\n",
            "Datatype of top_bn: <Policy \"mixed_float16\">\n",
            "Datatype of top_activation: <Policy \"mixed_float16\">\n",
            "Datatype of global_average_pooling2d: <Policy \"mixed_float16\">\n",
            "Datatype of dense: <Policy \"mixed_float16\">\n",
            "Datatype of softmax_float32: <Policy \"float32\">\n"
          ]
        }
      ]
    },
    {
      "cell_type": "code",
      "source": [],
      "metadata": {
        "id": "HlWX3o3xK0Cl"
      },
      "execution_count": null,
      "outputs": []
    }
  ]
}