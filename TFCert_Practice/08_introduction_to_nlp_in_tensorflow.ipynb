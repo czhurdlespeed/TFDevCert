{
  "nbformat": 4,
  "nbformat_minor": 0,
  "metadata": {
    "colab": {
      "provenance": [],
      "gpuType": "T4",
      "authorship_tag": "ABX9TyMnY8cGwdxJRglb7l9RxC3O",
      "include_colab_link": true
    },
    "kernelspec": {
      "name": "python3",
      "display_name": "Python 3"
    },
    "language_info": {
      "name": "python"
    },
    "accelerator": "GPU"
  },
  "cells": [
    {
      "cell_type": "markdown",
      "metadata": {
        "id": "view-in-github",
        "colab_type": "text"
      },
      "source": [
        "<a href=\"https://colab.research.google.com/github/czhurdlespeed/TFDevCert/blob/main/TFCert_Practice/08_introduction_to_nlp_in_tensorflow.ipynb\" target=\"_parent\"><img src=\"https://colab.research.google.com/assets/colab-badge.svg\" alt=\"Open In Colab\"/></a>"
      ]
    },
    {
      "cell_type": "markdown",
      "source": [
        "# Introduction to NLP Fundamentals in TensorFlow"
      ],
      "metadata": {
        "id": "nysZGP4k6iqy"
      }
    },
    {
      "cell_type": "markdown",
      "source": [
        "## Check for GPU"
      ],
      "metadata": {
        "id": "Zslvaabd-gIt"
      }
    },
    {
      "cell_type": "code",
      "source": [
        "!nvidia-smi -L"
      ],
      "metadata": {
        "colab": {
          "base_uri": "https://localhost:8080/"
        },
        "id": "CtM-62-y-vjE",
        "outputId": "10b9999b-31cf-4f9b-cbd5-878dd922a665"
      },
      "execution_count": 1,
      "outputs": [
        {
          "output_type": "stream",
          "name": "stdout",
          "text": [
            "GPU 0: Tesla T4 (UUID: GPU-b94c0296-e73a-e17f-16ba-c0361ab908ac)\n"
          ]
        }
      ]
    },
    {
      "cell_type": "markdown",
      "source": [
        "## Import Helper Functions"
      ],
      "metadata": {
        "id": "AHWR509m-xzJ"
      }
    },
    {
      "cell_type": "code",
      "source": [
        "!wget https://github.com/mrdbourke/tensorflow-deep-learning/raw/main/extras/helper_functions.py\n",
        "from helper_functions import unzip_data, create_tensorboard_callback, plot_loss_curves, compare_historys"
      ],
      "metadata": {
        "colab": {
          "base_uri": "https://localhost:8080/"
        },
        "id": "TqVEAIZ6_Ikb",
        "outputId": "55a83fea-6a3a-4791-afb6-fab60c55d7e6"
      },
      "execution_count": 2,
      "outputs": [
        {
          "output_type": "stream",
          "name": "stdout",
          "text": [
            "--2024-05-14 23:36:34--  https://github.com/mrdbourke/tensorflow-deep-learning/raw/main/extras/helper_functions.py\n",
            "Resolving github.com (github.com)... 20.205.243.166\n",
            "Connecting to github.com (github.com)|20.205.243.166|:443... connected.\n",
            "HTTP request sent, awaiting response... 302 Found\n",
            "Location: https://raw.githubusercontent.com/mrdbourke/tensorflow-deep-learning/main/extras/helper_functions.py [following]\n",
            "--2024-05-14 23:36:34--  https://raw.githubusercontent.com/mrdbourke/tensorflow-deep-learning/main/extras/helper_functions.py\n",
            "Resolving raw.githubusercontent.com (raw.githubusercontent.com)... 185.199.108.133, 185.199.109.133, 185.199.110.133, ...\n",
            "Connecting to raw.githubusercontent.com (raw.githubusercontent.com)|185.199.108.133|:443... connected.\n",
            "HTTP request sent, awaiting response... 200 OK\n",
            "Length: 10246 (10K) [text/plain]\n",
            "Saving to: ‘helper_functions.py’\n",
            "\n",
            "helper_functions.py 100%[===================>]  10.01K  --.-KB/s    in 0s      \n",
            "\n",
            "2024-05-14 23:36:34 (68.3 MB/s) - ‘helper_functions.py’ saved [10246/10246]\n",
            "\n"
          ]
        }
      ]
    },
    {
      "cell_type": "markdown",
      "source": [
        "## Get a text dataset\n",
        "\n",
        "- Using Kaggle's Introduction to NLP dataset"
      ],
      "metadata": {
        "id": "ivvW7SqD_OlC"
      }
    },
    {
      "cell_type": "code",
      "source": [
        "!wget https://storage.googleapis.com/ztm_tf_course/nlp_getting_started.zip\n",
        "# Uzip data\n",
        "unzip_data(\"nlp_getting_started.zip\")"
      ],
      "metadata": {
        "colab": {
          "base_uri": "https://localhost:8080/"
        },
        "id": "kcRPixgr_aYY",
        "outputId": "91498d71-fe32-4dce-d5c1-8da72cbf0464"
      },
      "execution_count": 3,
      "outputs": [
        {
          "output_type": "stream",
          "name": "stdout",
          "text": [
            "--2024-05-14 23:36:40--  https://storage.googleapis.com/ztm_tf_course/nlp_getting_started.zip\n",
            "Resolving storage.googleapis.com (storage.googleapis.com)... 142.251.10.207, 142.251.12.207, 172.217.194.207, ...\n",
            "Connecting to storage.googleapis.com (storage.googleapis.com)|142.251.10.207|:443... connected.\n",
            "HTTP request sent, awaiting response... 200 OK\n",
            "Length: 607343 (593K) [application/zip]\n",
            "Saving to: ‘nlp_getting_started.zip’\n",
            "\n",
            "nlp_getting_started 100%[===================>] 593.11K   734KB/s    in 0.8s    \n",
            "\n",
            "2024-05-14 23:36:41 (734 KB/s) - ‘nlp_getting_started.zip’ saved [607343/607343]\n",
            "\n"
          ]
        }
      ]
    },
    {
      "cell_type": "markdown",
      "source": [
        "## Visualizing a text dataset"
      ],
      "metadata": {
        "id": "lWLQdINx_09d"
      }
    },
    {
      "cell_type": "code",
      "source": [
        "import pandas as pd\n",
        "train_df = pd.read_csv(\"train.csv\")\n",
        "test_df = pd.read_csv(\"test.csv\")\n",
        "train_df.head()"
      ],
      "metadata": {
        "colab": {
          "base_uri": "https://localhost:8080/",
          "height": 206
        },
        "id": "ZbI_V54rAHlZ",
        "outputId": "df470f3b-eb99-4882-db21-e62693c30ccd"
      },
      "execution_count": 4,
      "outputs": [
        {
          "output_type": "execute_result",
          "data": {
            "text/plain": [
              "   id keyword location                                               text  \\\n",
              "0   1     NaN      NaN  Our Deeds are the Reason of this #earthquake M...   \n",
              "1   4     NaN      NaN             Forest fire near La Ronge Sask. Canada   \n",
              "2   5     NaN      NaN  All residents asked to 'shelter in place' are ...   \n",
              "3   6     NaN      NaN  13,000 people receive #wildfires evacuation or...   \n",
              "4   7     NaN      NaN  Just got sent this photo from Ruby #Alaska as ...   \n",
              "\n",
              "   target  \n",
              "0       1  \n",
              "1       1  \n",
              "2       1  \n",
              "3       1  \n",
              "4       1  "
            ],
            "text/html": [
              "\n",
              "  <div id=\"df-d75ecf8e-df1c-4bc5-af1c-3609cde314ec\" class=\"colab-df-container\">\n",
              "    <div>\n",
              "<style scoped>\n",
              "    .dataframe tbody tr th:only-of-type {\n",
              "        vertical-align: middle;\n",
              "    }\n",
              "\n",
              "    .dataframe tbody tr th {\n",
              "        vertical-align: top;\n",
              "    }\n",
              "\n",
              "    .dataframe thead th {\n",
              "        text-align: right;\n",
              "    }\n",
              "</style>\n",
              "<table border=\"1\" class=\"dataframe\">\n",
              "  <thead>\n",
              "    <tr style=\"text-align: right;\">\n",
              "      <th></th>\n",
              "      <th>id</th>\n",
              "      <th>keyword</th>\n",
              "      <th>location</th>\n",
              "      <th>text</th>\n",
              "      <th>target</th>\n",
              "    </tr>\n",
              "  </thead>\n",
              "  <tbody>\n",
              "    <tr>\n",
              "      <th>0</th>\n",
              "      <td>1</td>\n",
              "      <td>NaN</td>\n",
              "      <td>NaN</td>\n",
              "      <td>Our Deeds are the Reason of this #earthquake M...</td>\n",
              "      <td>1</td>\n",
              "    </tr>\n",
              "    <tr>\n",
              "      <th>1</th>\n",
              "      <td>4</td>\n",
              "      <td>NaN</td>\n",
              "      <td>NaN</td>\n",
              "      <td>Forest fire near La Ronge Sask. Canada</td>\n",
              "      <td>1</td>\n",
              "    </tr>\n",
              "    <tr>\n",
              "      <th>2</th>\n",
              "      <td>5</td>\n",
              "      <td>NaN</td>\n",
              "      <td>NaN</td>\n",
              "      <td>All residents asked to 'shelter in place' are ...</td>\n",
              "      <td>1</td>\n",
              "    </tr>\n",
              "    <tr>\n",
              "      <th>3</th>\n",
              "      <td>6</td>\n",
              "      <td>NaN</td>\n",
              "      <td>NaN</td>\n",
              "      <td>13,000 people receive #wildfires evacuation or...</td>\n",
              "      <td>1</td>\n",
              "    </tr>\n",
              "    <tr>\n",
              "      <th>4</th>\n",
              "      <td>7</td>\n",
              "      <td>NaN</td>\n",
              "      <td>NaN</td>\n",
              "      <td>Just got sent this photo from Ruby #Alaska as ...</td>\n",
              "      <td>1</td>\n",
              "    </tr>\n",
              "  </tbody>\n",
              "</table>\n",
              "</div>\n",
              "    <div class=\"colab-df-buttons\">\n",
              "\n",
              "  <div class=\"colab-df-container\">\n",
              "    <button class=\"colab-df-convert\" onclick=\"convertToInteractive('df-d75ecf8e-df1c-4bc5-af1c-3609cde314ec')\"\n",
              "            title=\"Convert this dataframe to an interactive table.\"\n",
              "            style=\"display:none;\">\n",
              "\n",
              "  <svg xmlns=\"http://www.w3.org/2000/svg\" height=\"24px\" viewBox=\"0 -960 960 960\">\n",
              "    <path d=\"M120-120v-720h720v720H120Zm60-500h600v-160H180v160Zm220 220h160v-160H400v160Zm0 220h160v-160H400v160ZM180-400h160v-160H180v160Zm440 0h160v-160H620v160ZM180-180h160v-160H180v160Zm440 0h160v-160H620v160Z\"/>\n",
              "  </svg>\n",
              "    </button>\n",
              "\n",
              "  <style>\n",
              "    .colab-df-container {\n",
              "      display:flex;\n",
              "      gap: 12px;\n",
              "    }\n",
              "\n",
              "    .colab-df-convert {\n",
              "      background-color: #E8F0FE;\n",
              "      border: none;\n",
              "      border-radius: 50%;\n",
              "      cursor: pointer;\n",
              "      display: none;\n",
              "      fill: #1967D2;\n",
              "      height: 32px;\n",
              "      padding: 0 0 0 0;\n",
              "      width: 32px;\n",
              "    }\n",
              "\n",
              "    .colab-df-convert:hover {\n",
              "      background-color: #E2EBFA;\n",
              "      box-shadow: 0px 1px 2px rgba(60, 64, 67, 0.3), 0px 1px 3px 1px rgba(60, 64, 67, 0.15);\n",
              "      fill: #174EA6;\n",
              "    }\n",
              "\n",
              "    .colab-df-buttons div {\n",
              "      margin-bottom: 4px;\n",
              "    }\n",
              "\n",
              "    [theme=dark] .colab-df-convert {\n",
              "      background-color: #3B4455;\n",
              "      fill: #D2E3FC;\n",
              "    }\n",
              "\n",
              "    [theme=dark] .colab-df-convert:hover {\n",
              "      background-color: #434B5C;\n",
              "      box-shadow: 0px 1px 3px 1px rgba(0, 0, 0, 0.15);\n",
              "      filter: drop-shadow(0px 1px 2px rgba(0, 0, 0, 0.3));\n",
              "      fill: #FFFFFF;\n",
              "    }\n",
              "  </style>\n",
              "\n",
              "    <script>\n",
              "      const buttonEl =\n",
              "        document.querySelector('#df-d75ecf8e-df1c-4bc5-af1c-3609cde314ec button.colab-df-convert');\n",
              "      buttonEl.style.display =\n",
              "        google.colab.kernel.accessAllowed ? 'block' : 'none';\n",
              "\n",
              "      async function convertToInteractive(key) {\n",
              "        const element = document.querySelector('#df-d75ecf8e-df1c-4bc5-af1c-3609cde314ec');\n",
              "        const dataTable =\n",
              "          await google.colab.kernel.invokeFunction('convertToInteractive',\n",
              "                                                    [key], {});\n",
              "        if (!dataTable) return;\n",
              "\n",
              "        const docLinkHtml = 'Like what you see? Visit the ' +\n",
              "          '<a target=\"_blank\" href=https://colab.research.google.com/notebooks/data_table.ipynb>data table notebook</a>'\n",
              "          + ' to learn more about interactive tables.';\n",
              "        element.innerHTML = '';\n",
              "        dataTable['output_type'] = 'display_data';\n",
              "        await google.colab.output.renderOutput(dataTable, element);\n",
              "        const docLink = document.createElement('div');\n",
              "        docLink.innerHTML = docLinkHtml;\n",
              "        element.appendChild(docLink);\n",
              "      }\n",
              "    </script>\n",
              "  </div>\n",
              "\n",
              "\n",
              "<div id=\"df-045c0ea6-288d-4719-8ac4-99505074a248\">\n",
              "  <button class=\"colab-df-quickchart\" onclick=\"quickchart('df-045c0ea6-288d-4719-8ac4-99505074a248')\"\n",
              "            title=\"Suggest charts\"\n",
              "            style=\"display:none;\">\n",
              "\n",
              "<svg xmlns=\"http://www.w3.org/2000/svg\" height=\"24px\"viewBox=\"0 0 24 24\"\n",
              "     width=\"24px\">\n",
              "    <g>\n",
              "        <path d=\"M19 3H5c-1.1 0-2 .9-2 2v14c0 1.1.9 2 2 2h14c1.1 0 2-.9 2-2V5c0-1.1-.9-2-2-2zM9 17H7v-7h2v7zm4 0h-2V7h2v10zm4 0h-2v-4h2v4z\"/>\n",
              "    </g>\n",
              "</svg>\n",
              "  </button>\n",
              "\n",
              "<style>\n",
              "  .colab-df-quickchart {\n",
              "      --bg-color: #E8F0FE;\n",
              "      --fill-color: #1967D2;\n",
              "      --hover-bg-color: #E2EBFA;\n",
              "      --hover-fill-color: #174EA6;\n",
              "      --disabled-fill-color: #AAA;\n",
              "      --disabled-bg-color: #DDD;\n",
              "  }\n",
              "\n",
              "  [theme=dark] .colab-df-quickchart {\n",
              "      --bg-color: #3B4455;\n",
              "      --fill-color: #D2E3FC;\n",
              "      --hover-bg-color: #434B5C;\n",
              "      --hover-fill-color: #FFFFFF;\n",
              "      --disabled-bg-color: #3B4455;\n",
              "      --disabled-fill-color: #666;\n",
              "  }\n",
              "\n",
              "  .colab-df-quickchart {\n",
              "    background-color: var(--bg-color);\n",
              "    border: none;\n",
              "    border-radius: 50%;\n",
              "    cursor: pointer;\n",
              "    display: none;\n",
              "    fill: var(--fill-color);\n",
              "    height: 32px;\n",
              "    padding: 0;\n",
              "    width: 32px;\n",
              "  }\n",
              "\n",
              "  .colab-df-quickchart:hover {\n",
              "    background-color: var(--hover-bg-color);\n",
              "    box-shadow: 0 1px 2px rgba(60, 64, 67, 0.3), 0 1px 3px 1px rgba(60, 64, 67, 0.15);\n",
              "    fill: var(--button-hover-fill-color);\n",
              "  }\n",
              "\n",
              "  .colab-df-quickchart-complete:disabled,\n",
              "  .colab-df-quickchart-complete:disabled:hover {\n",
              "    background-color: var(--disabled-bg-color);\n",
              "    fill: var(--disabled-fill-color);\n",
              "    box-shadow: none;\n",
              "  }\n",
              "\n",
              "  .colab-df-spinner {\n",
              "    border: 2px solid var(--fill-color);\n",
              "    border-color: transparent;\n",
              "    border-bottom-color: var(--fill-color);\n",
              "    animation:\n",
              "      spin 1s steps(1) infinite;\n",
              "  }\n",
              "\n",
              "  @keyframes spin {\n",
              "    0% {\n",
              "      border-color: transparent;\n",
              "      border-bottom-color: var(--fill-color);\n",
              "      border-left-color: var(--fill-color);\n",
              "    }\n",
              "    20% {\n",
              "      border-color: transparent;\n",
              "      border-left-color: var(--fill-color);\n",
              "      border-top-color: var(--fill-color);\n",
              "    }\n",
              "    30% {\n",
              "      border-color: transparent;\n",
              "      border-left-color: var(--fill-color);\n",
              "      border-top-color: var(--fill-color);\n",
              "      border-right-color: var(--fill-color);\n",
              "    }\n",
              "    40% {\n",
              "      border-color: transparent;\n",
              "      border-right-color: var(--fill-color);\n",
              "      border-top-color: var(--fill-color);\n",
              "    }\n",
              "    60% {\n",
              "      border-color: transparent;\n",
              "      border-right-color: var(--fill-color);\n",
              "    }\n",
              "    80% {\n",
              "      border-color: transparent;\n",
              "      border-right-color: var(--fill-color);\n",
              "      border-bottom-color: var(--fill-color);\n",
              "    }\n",
              "    90% {\n",
              "      border-color: transparent;\n",
              "      border-bottom-color: var(--fill-color);\n",
              "    }\n",
              "  }\n",
              "</style>\n",
              "\n",
              "  <script>\n",
              "    async function quickchart(key) {\n",
              "      const quickchartButtonEl =\n",
              "        document.querySelector('#' + key + ' button');\n",
              "      quickchartButtonEl.disabled = true;  // To prevent multiple clicks.\n",
              "      quickchartButtonEl.classList.add('colab-df-spinner');\n",
              "      try {\n",
              "        const charts = await google.colab.kernel.invokeFunction(\n",
              "            'suggestCharts', [key], {});\n",
              "      } catch (error) {\n",
              "        console.error('Error during call to suggestCharts:', error);\n",
              "      }\n",
              "      quickchartButtonEl.classList.remove('colab-df-spinner');\n",
              "      quickchartButtonEl.classList.add('colab-df-quickchart-complete');\n",
              "    }\n",
              "    (() => {\n",
              "      let quickchartButtonEl =\n",
              "        document.querySelector('#df-045c0ea6-288d-4719-8ac4-99505074a248 button');\n",
              "      quickchartButtonEl.style.display =\n",
              "        google.colab.kernel.accessAllowed ? 'block' : 'none';\n",
              "    })();\n",
              "  </script>\n",
              "</div>\n",
              "\n",
              "    </div>\n",
              "  </div>\n"
            ],
            "application/vnd.google.colaboratory.intrinsic+json": {
              "type": "dataframe",
              "variable_name": "train_df",
              "summary": "{\n  \"name\": \"train_df\",\n  \"rows\": 7613,\n  \"fields\": [\n    {\n      \"column\": \"id\",\n      \"properties\": {\n        \"dtype\": \"number\",\n        \"std\": 3137,\n        \"min\": 1,\n        \"max\": 10873,\n        \"num_unique_values\": 7613,\n        \"samples\": [\n          3796,\n          3185,\n          7769\n        ],\n        \"semantic_type\": \"\",\n        \"description\": \"\"\n      }\n    },\n    {\n      \"column\": \"keyword\",\n      \"properties\": {\n        \"dtype\": \"category\",\n        \"num_unique_values\": 221,\n        \"samples\": [\n          \"injury\",\n          \"nuclear%20reactor\",\n          \"engulfed\"\n        ],\n        \"semantic_type\": \"\",\n        \"description\": \"\"\n      }\n    },\n    {\n      \"column\": \"location\",\n      \"properties\": {\n        \"dtype\": \"category\",\n        \"num_unique_values\": 3341,\n        \"samples\": [\n          \"Oklahoma\",\n          \"Starling City\",\n          \"Trinidad and Tobago\"\n        ],\n        \"semantic_type\": \"\",\n        \"description\": \"\"\n      }\n    },\n    {\n      \"column\": \"text\",\n      \"properties\": {\n        \"dtype\": \"string\",\n        \"num_unique_values\": 7503,\n        \"samples\": [\n          \"Three Homes Demolished in Unrecognized Arab Village - International Middle East Media Center http://t.co/ik8m4Yi9T4\",\n          \"Reid Lake fire prompts campground evacuation order http://t.co/jBODKM6rBU\",\n          \"FAAN orders evacuation of abandoned aircraft at MMA http://t.co/dEvYbnVXGQ via @todayng\"\n        ],\n        \"semantic_type\": \"\",\n        \"description\": \"\"\n      }\n    },\n    {\n      \"column\": \"target\",\n      \"properties\": {\n        \"dtype\": \"number\",\n        \"std\": 0,\n        \"min\": 0,\n        \"max\": 1,\n        \"num_unique_values\": 2,\n        \"samples\": [\n          0,\n          1\n        ],\n        \"semantic_type\": \"\",\n        \"description\": \"\"\n      }\n    }\n  ]\n}"
            }
          },
          "metadata": {},
          "execution_count": 4
        }
      ]
    },
    {
      "cell_type": "code",
      "source": [
        "train_df[\"text\"][100]"
      ],
      "metadata": {
        "colab": {
          "base_uri": "https://localhost:8080/",
          "height": 35
        },
        "id": "RjxZaSj9AyF5",
        "outputId": "37f3c41c-a649-47fe-db53-17129a2f0a09"
      },
      "execution_count": 5,
      "outputs": [
        {
          "output_type": "execute_result",
          "data": {
            "text/plain": [
              "'.@NorwayMFA #Bahrain police had previously died in a road accident they were not killed by explosion https://t.co/gFJfgTodad'"
            ],
            "application/vnd.google.colaboratory.intrinsic+json": {
              "type": "string"
            }
          },
          "metadata": {},
          "execution_count": 5
        }
      ]
    },
    {
      "cell_type": "code",
      "source": [
        "# Shuffle training datafram\n",
        "train_df_shuffled = train_df.sample(frac=1)\n",
        "train_df_shuffled.head()"
      ],
      "metadata": {
        "colab": {
          "base_uri": "https://localhost:8080/",
          "height": 206
        },
        "id": "Nm_KVV2FA331",
        "outputId": "0bea7acf-9c84-4aae-b6a0-105a02995047"
      },
      "execution_count": 6,
      "outputs": [
        {
          "output_type": "execute_result",
          "data": {
            "text/plain": [
              "         id      keyword      location  \\\n",
              "411     594        arson           NaN   \n",
              "1026   1488  body%20bags  Charlotte NC   \n",
              "7049  10100      typhoon           NaN   \n",
              "4323   6138       hijack           NaN   \n",
              "5434   7753       police           NaN   \n",
              "\n",
              "                                                   text  target  \n",
              "411   Arson suspect linked to 30 fires caught in Nor...       1  \n",
              "1026  The Body Bags has a show on 08/07/2015 at 07:3...       0  \n",
              "7049  4Yygb mhtw4fnet\\n\\nThousands evacuated as Taiw...       1  \n",
              "4323  Bayelsa poll: Tension in Bayelsa as Patience J...       1  \n",
              "5434  Police unions retard justice &amp; drain gov $...       0  "
            ],
            "text/html": [
              "\n",
              "  <div id=\"df-72f614db-f640-4909-bac3-83b9561630bf\" class=\"colab-df-container\">\n",
              "    <div>\n",
              "<style scoped>\n",
              "    .dataframe tbody tr th:only-of-type {\n",
              "        vertical-align: middle;\n",
              "    }\n",
              "\n",
              "    .dataframe tbody tr th {\n",
              "        vertical-align: top;\n",
              "    }\n",
              "\n",
              "    .dataframe thead th {\n",
              "        text-align: right;\n",
              "    }\n",
              "</style>\n",
              "<table border=\"1\" class=\"dataframe\">\n",
              "  <thead>\n",
              "    <tr style=\"text-align: right;\">\n",
              "      <th></th>\n",
              "      <th>id</th>\n",
              "      <th>keyword</th>\n",
              "      <th>location</th>\n",
              "      <th>text</th>\n",
              "      <th>target</th>\n",
              "    </tr>\n",
              "  </thead>\n",
              "  <tbody>\n",
              "    <tr>\n",
              "      <th>411</th>\n",
              "      <td>594</td>\n",
              "      <td>arson</td>\n",
              "      <td>NaN</td>\n",
              "      <td>Arson suspect linked to 30 fires caught in Nor...</td>\n",
              "      <td>1</td>\n",
              "    </tr>\n",
              "    <tr>\n",
              "      <th>1026</th>\n",
              "      <td>1488</td>\n",
              "      <td>body%20bags</td>\n",
              "      <td>Charlotte NC</td>\n",
              "      <td>The Body Bags has a show on 08/07/2015 at 07:3...</td>\n",
              "      <td>0</td>\n",
              "    </tr>\n",
              "    <tr>\n",
              "      <th>7049</th>\n",
              "      <td>10100</td>\n",
              "      <td>typhoon</td>\n",
              "      <td>NaN</td>\n",
              "      <td>4Yygb mhtw4fnet\\n\\nThousands evacuated as Taiw...</td>\n",
              "      <td>1</td>\n",
              "    </tr>\n",
              "    <tr>\n",
              "      <th>4323</th>\n",
              "      <td>6138</td>\n",
              "      <td>hijack</td>\n",
              "      <td>NaN</td>\n",
              "      <td>Bayelsa poll: Tension in Bayelsa as Patience J...</td>\n",
              "      <td>1</td>\n",
              "    </tr>\n",
              "    <tr>\n",
              "      <th>5434</th>\n",
              "      <td>7753</td>\n",
              "      <td>police</td>\n",
              "      <td>NaN</td>\n",
              "      <td>Police unions retard justice &amp;amp; drain gov $...</td>\n",
              "      <td>0</td>\n",
              "    </tr>\n",
              "  </tbody>\n",
              "</table>\n",
              "</div>\n",
              "    <div class=\"colab-df-buttons\">\n",
              "\n",
              "  <div class=\"colab-df-container\">\n",
              "    <button class=\"colab-df-convert\" onclick=\"convertToInteractive('df-72f614db-f640-4909-bac3-83b9561630bf')\"\n",
              "            title=\"Convert this dataframe to an interactive table.\"\n",
              "            style=\"display:none;\">\n",
              "\n",
              "  <svg xmlns=\"http://www.w3.org/2000/svg\" height=\"24px\" viewBox=\"0 -960 960 960\">\n",
              "    <path d=\"M120-120v-720h720v720H120Zm60-500h600v-160H180v160Zm220 220h160v-160H400v160Zm0 220h160v-160H400v160ZM180-400h160v-160H180v160Zm440 0h160v-160H620v160ZM180-180h160v-160H180v160Zm440 0h160v-160H620v160Z\"/>\n",
              "  </svg>\n",
              "    </button>\n",
              "\n",
              "  <style>\n",
              "    .colab-df-container {\n",
              "      display:flex;\n",
              "      gap: 12px;\n",
              "    }\n",
              "\n",
              "    .colab-df-convert {\n",
              "      background-color: #E8F0FE;\n",
              "      border: none;\n",
              "      border-radius: 50%;\n",
              "      cursor: pointer;\n",
              "      display: none;\n",
              "      fill: #1967D2;\n",
              "      height: 32px;\n",
              "      padding: 0 0 0 0;\n",
              "      width: 32px;\n",
              "    }\n",
              "\n",
              "    .colab-df-convert:hover {\n",
              "      background-color: #E2EBFA;\n",
              "      box-shadow: 0px 1px 2px rgba(60, 64, 67, 0.3), 0px 1px 3px 1px rgba(60, 64, 67, 0.15);\n",
              "      fill: #174EA6;\n",
              "    }\n",
              "\n",
              "    .colab-df-buttons div {\n",
              "      margin-bottom: 4px;\n",
              "    }\n",
              "\n",
              "    [theme=dark] .colab-df-convert {\n",
              "      background-color: #3B4455;\n",
              "      fill: #D2E3FC;\n",
              "    }\n",
              "\n",
              "    [theme=dark] .colab-df-convert:hover {\n",
              "      background-color: #434B5C;\n",
              "      box-shadow: 0px 1px 3px 1px rgba(0, 0, 0, 0.15);\n",
              "      filter: drop-shadow(0px 1px 2px rgba(0, 0, 0, 0.3));\n",
              "      fill: #FFFFFF;\n",
              "    }\n",
              "  </style>\n",
              "\n",
              "    <script>\n",
              "      const buttonEl =\n",
              "        document.querySelector('#df-72f614db-f640-4909-bac3-83b9561630bf button.colab-df-convert');\n",
              "      buttonEl.style.display =\n",
              "        google.colab.kernel.accessAllowed ? 'block' : 'none';\n",
              "\n",
              "      async function convertToInteractive(key) {\n",
              "        const element = document.querySelector('#df-72f614db-f640-4909-bac3-83b9561630bf');\n",
              "        const dataTable =\n",
              "          await google.colab.kernel.invokeFunction('convertToInteractive',\n",
              "                                                    [key], {});\n",
              "        if (!dataTable) return;\n",
              "\n",
              "        const docLinkHtml = 'Like what you see? Visit the ' +\n",
              "          '<a target=\"_blank\" href=https://colab.research.google.com/notebooks/data_table.ipynb>data table notebook</a>'\n",
              "          + ' to learn more about interactive tables.';\n",
              "        element.innerHTML = '';\n",
              "        dataTable['output_type'] = 'display_data';\n",
              "        await google.colab.output.renderOutput(dataTable, element);\n",
              "        const docLink = document.createElement('div');\n",
              "        docLink.innerHTML = docLinkHtml;\n",
              "        element.appendChild(docLink);\n",
              "      }\n",
              "    </script>\n",
              "  </div>\n",
              "\n",
              "\n",
              "<div id=\"df-459d44a2-4511-46f4-87d4-30f5b87e44fa\">\n",
              "  <button class=\"colab-df-quickchart\" onclick=\"quickchart('df-459d44a2-4511-46f4-87d4-30f5b87e44fa')\"\n",
              "            title=\"Suggest charts\"\n",
              "            style=\"display:none;\">\n",
              "\n",
              "<svg xmlns=\"http://www.w3.org/2000/svg\" height=\"24px\"viewBox=\"0 0 24 24\"\n",
              "     width=\"24px\">\n",
              "    <g>\n",
              "        <path d=\"M19 3H5c-1.1 0-2 .9-2 2v14c0 1.1.9 2 2 2h14c1.1 0 2-.9 2-2V5c0-1.1-.9-2-2-2zM9 17H7v-7h2v7zm4 0h-2V7h2v10zm4 0h-2v-4h2v4z\"/>\n",
              "    </g>\n",
              "</svg>\n",
              "  </button>\n",
              "\n",
              "<style>\n",
              "  .colab-df-quickchart {\n",
              "      --bg-color: #E8F0FE;\n",
              "      --fill-color: #1967D2;\n",
              "      --hover-bg-color: #E2EBFA;\n",
              "      --hover-fill-color: #174EA6;\n",
              "      --disabled-fill-color: #AAA;\n",
              "      --disabled-bg-color: #DDD;\n",
              "  }\n",
              "\n",
              "  [theme=dark] .colab-df-quickchart {\n",
              "      --bg-color: #3B4455;\n",
              "      --fill-color: #D2E3FC;\n",
              "      --hover-bg-color: #434B5C;\n",
              "      --hover-fill-color: #FFFFFF;\n",
              "      --disabled-bg-color: #3B4455;\n",
              "      --disabled-fill-color: #666;\n",
              "  }\n",
              "\n",
              "  .colab-df-quickchart {\n",
              "    background-color: var(--bg-color);\n",
              "    border: none;\n",
              "    border-radius: 50%;\n",
              "    cursor: pointer;\n",
              "    display: none;\n",
              "    fill: var(--fill-color);\n",
              "    height: 32px;\n",
              "    padding: 0;\n",
              "    width: 32px;\n",
              "  }\n",
              "\n",
              "  .colab-df-quickchart:hover {\n",
              "    background-color: var(--hover-bg-color);\n",
              "    box-shadow: 0 1px 2px rgba(60, 64, 67, 0.3), 0 1px 3px 1px rgba(60, 64, 67, 0.15);\n",
              "    fill: var(--button-hover-fill-color);\n",
              "  }\n",
              "\n",
              "  .colab-df-quickchart-complete:disabled,\n",
              "  .colab-df-quickchart-complete:disabled:hover {\n",
              "    background-color: var(--disabled-bg-color);\n",
              "    fill: var(--disabled-fill-color);\n",
              "    box-shadow: none;\n",
              "  }\n",
              "\n",
              "  .colab-df-spinner {\n",
              "    border: 2px solid var(--fill-color);\n",
              "    border-color: transparent;\n",
              "    border-bottom-color: var(--fill-color);\n",
              "    animation:\n",
              "      spin 1s steps(1) infinite;\n",
              "  }\n",
              "\n",
              "  @keyframes spin {\n",
              "    0% {\n",
              "      border-color: transparent;\n",
              "      border-bottom-color: var(--fill-color);\n",
              "      border-left-color: var(--fill-color);\n",
              "    }\n",
              "    20% {\n",
              "      border-color: transparent;\n",
              "      border-left-color: var(--fill-color);\n",
              "      border-top-color: var(--fill-color);\n",
              "    }\n",
              "    30% {\n",
              "      border-color: transparent;\n",
              "      border-left-color: var(--fill-color);\n",
              "      border-top-color: var(--fill-color);\n",
              "      border-right-color: var(--fill-color);\n",
              "    }\n",
              "    40% {\n",
              "      border-color: transparent;\n",
              "      border-right-color: var(--fill-color);\n",
              "      border-top-color: var(--fill-color);\n",
              "    }\n",
              "    60% {\n",
              "      border-color: transparent;\n",
              "      border-right-color: var(--fill-color);\n",
              "    }\n",
              "    80% {\n",
              "      border-color: transparent;\n",
              "      border-right-color: var(--fill-color);\n",
              "      border-bottom-color: var(--fill-color);\n",
              "    }\n",
              "    90% {\n",
              "      border-color: transparent;\n",
              "      border-bottom-color: var(--fill-color);\n",
              "    }\n",
              "  }\n",
              "</style>\n",
              "\n",
              "  <script>\n",
              "    async function quickchart(key) {\n",
              "      const quickchartButtonEl =\n",
              "        document.querySelector('#' + key + ' button');\n",
              "      quickchartButtonEl.disabled = true;  // To prevent multiple clicks.\n",
              "      quickchartButtonEl.classList.add('colab-df-spinner');\n",
              "      try {\n",
              "        const charts = await google.colab.kernel.invokeFunction(\n",
              "            'suggestCharts', [key], {});\n",
              "      } catch (error) {\n",
              "        console.error('Error during call to suggestCharts:', error);\n",
              "      }\n",
              "      quickchartButtonEl.classList.remove('colab-df-spinner');\n",
              "      quickchartButtonEl.classList.add('colab-df-quickchart-complete');\n",
              "    }\n",
              "    (() => {\n",
              "      let quickchartButtonEl =\n",
              "        document.querySelector('#df-459d44a2-4511-46f4-87d4-30f5b87e44fa button');\n",
              "      quickchartButtonEl.style.display =\n",
              "        google.colab.kernel.accessAllowed ? 'block' : 'none';\n",
              "    })();\n",
              "  </script>\n",
              "</div>\n",
              "\n",
              "    </div>\n",
              "  </div>\n"
            ],
            "application/vnd.google.colaboratory.intrinsic+json": {
              "type": "dataframe",
              "variable_name": "train_df_shuffled",
              "summary": "{\n  \"name\": \"train_df_shuffled\",\n  \"rows\": 7613,\n  \"fields\": [\n    {\n      \"column\": \"id\",\n      \"properties\": {\n        \"dtype\": \"number\",\n        \"std\": 3137,\n        \"min\": 1,\n        \"max\": 10873,\n        \"num_unique_values\": 7613,\n        \"samples\": [\n          7155,\n          9028,\n          7869\n        ],\n        \"semantic_type\": \"\",\n        \"description\": \"\"\n      }\n    },\n    {\n      \"column\": \"keyword\",\n      \"properties\": {\n        \"dtype\": \"category\",\n        \"num_unique_values\": 221,\n        \"samples\": [\n          \"evacuation\",\n          \"ablaze\",\n          \"bleeding\"\n        ],\n        \"semantic_type\": \"\",\n        \"description\": \"\"\n      }\n    },\n    {\n      \"column\": \"location\",\n      \"properties\": {\n        \"dtype\": \"category\",\n        \"num_unique_values\": 3341,\n        \"samples\": [\n          \"South, USA\",\n          \"The Low-Cal Calzone Zone\",\n          \"Chennai\"\n        ],\n        \"semantic_type\": \"\",\n        \"description\": \"\"\n      }\n    },\n    {\n      \"column\": \"text\",\n      \"properties\": {\n        \"dtype\": \"string\",\n        \"num_unique_values\": 7503,\n        \"samples\": [\n          \"G+: +https://t.co/dODXi41Y1C\\u00e5\\u00cais Body Bagging them lyrically! https://t.co/HlMyaAnrC9\",\n          \"PRAYERS FOR MY COUSIN! He's in California helping with the wild fires.\",\n          \"County 911 Overload Prompts Use of Emergency Plan During July 4 Celebrations http://t.co/HXTUPrA5bc http://t.co/DqxKJibbKy\"\n        ],\n        \"semantic_type\": \"\",\n        \"description\": \"\"\n      }\n    },\n    {\n      \"column\": \"target\",\n      \"properties\": {\n        \"dtype\": \"number\",\n        \"std\": 0,\n        \"min\": 0,\n        \"max\": 1,\n        \"num_unique_values\": 2,\n        \"samples\": [\n          0,\n          1\n        ],\n        \"semantic_type\": \"\",\n        \"description\": \"\"\n      }\n    }\n  ]\n}"
            }
          },
          "metadata": {},
          "execution_count": 6
        }
      ]
    },
    {
      "cell_type": "code",
      "source": [
        "# What does the test dataframe look like?\n",
        "test_df.head()"
      ],
      "metadata": {
        "colab": {
          "base_uri": "https://localhost:8080/",
          "height": 206
        },
        "id": "inac240VBKW2",
        "outputId": "27da69ab-ba59-421e-c952-98139dd1a286"
      },
      "execution_count": 7,
      "outputs": [
        {
          "output_type": "execute_result",
          "data": {
            "text/plain": [
              "   id keyword location                                               text\n",
              "0   0     NaN      NaN                 Just happened a terrible car crash\n",
              "1   2     NaN      NaN  Heard about #earthquake is different cities, s...\n",
              "2   3     NaN      NaN  there is a forest fire at spot pond, geese are...\n",
              "3   9     NaN      NaN           Apocalypse lighting. #Spokane #wildfires\n",
              "4  11     NaN      NaN      Typhoon Soudelor kills 28 in China and Taiwan"
            ],
            "text/html": [
              "\n",
              "  <div id=\"df-2e472bd6-d62d-4389-b253-f1960015f6e8\" class=\"colab-df-container\">\n",
              "    <div>\n",
              "<style scoped>\n",
              "    .dataframe tbody tr th:only-of-type {\n",
              "        vertical-align: middle;\n",
              "    }\n",
              "\n",
              "    .dataframe tbody tr th {\n",
              "        vertical-align: top;\n",
              "    }\n",
              "\n",
              "    .dataframe thead th {\n",
              "        text-align: right;\n",
              "    }\n",
              "</style>\n",
              "<table border=\"1\" class=\"dataframe\">\n",
              "  <thead>\n",
              "    <tr style=\"text-align: right;\">\n",
              "      <th></th>\n",
              "      <th>id</th>\n",
              "      <th>keyword</th>\n",
              "      <th>location</th>\n",
              "      <th>text</th>\n",
              "    </tr>\n",
              "  </thead>\n",
              "  <tbody>\n",
              "    <tr>\n",
              "      <th>0</th>\n",
              "      <td>0</td>\n",
              "      <td>NaN</td>\n",
              "      <td>NaN</td>\n",
              "      <td>Just happened a terrible car crash</td>\n",
              "    </tr>\n",
              "    <tr>\n",
              "      <th>1</th>\n",
              "      <td>2</td>\n",
              "      <td>NaN</td>\n",
              "      <td>NaN</td>\n",
              "      <td>Heard about #earthquake is different cities, s...</td>\n",
              "    </tr>\n",
              "    <tr>\n",
              "      <th>2</th>\n",
              "      <td>3</td>\n",
              "      <td>NaN</td>\n",
              "      <td>NaN</td>\n",
              "      <td>there is a forest fire at spot pond, geese are...</td>\n",
              "    </tr>\n",
              "    <tr>\n",
              "      <th>3</th>\n",
              "      <td>9</td>\n",
              "      <td>NaN</td>\n",
              "      <td>NaN</td>\n",
              "      <td>Apocalypse lighting. #Spokane #wildfires</td>\n",
              "    </tr>\n",
              "    <tr>\n",
              "      <th>4</th>\n",
              "      <td>11</td>\n",
              "      <td>NaN</td>\n",
              "      <td>NaN</td>\n",
              "      <td>Typhoon Soudelor kills 28 in China and Taiwan</td>\n",
              "    </tr>\n",
              "  </tbody>\n",
              "</table>\n",
              "</div>\n",
              "    <div class=\"colab-df-buttons\">\n",
              "\n",
              "  <div class=\"colab-df-container\">\n",
              "    <button class=\"colab-df-convert\" onclick=\"convertToInteractive('df-2e472bd6-d62d-4389-b253-f1960015f6e8')\"\n",
              "            title=\"Convert this dataframe to an interactive table.\"\n",
              "            style=\"display:none;\">\n",
              "\n",
              "  <svg xmlns=\"http://www.w3.org/2000/svg\" height=\"24px\" viewBox=\"0 -960 960 960\">\n",
              "    <path d=\"M120-120v-720h720v720H120Zm60-500h600v-160H180v160Zm220 220h160v-160H400v160Zm0 220h160v-160H400v160ZM180-400h160v-160H180v160Zm440 0h160v-160H620v160ZM180-180h160v-160H180v160Zm440 0h160v-160H620v160Z\"/>\n",
              "  </svg>\n",
              "    </button>\n",
              "\n",
              "  <style>\n",
              "    .colab-df-container {\n",
              "      display:flex;\n",
              "      gap: 12px;\n",
              "    }\n",
              "\n",
              "    .colab-df-convert {\n",
              "      background-color: #E8F0FE;\n",
              "      border: none;\n",
              "      border-radius: 50%;\n",
              "      cursor: pointer;\n",
              "      display: none;\n",
              "      fill: #1967D2;\n",
              "      height: 32px;\n",
              "      padding: 0 0 0 0;\n",
              "      width: 32px;\n",
              "    }\n",
              "\n",
              "    .colab-df-convert:hover {\n",
              "      background-color: #E2EBFA;\n",
              "      box-shadow: 0px 1px 2px rgba(60, 64, 67, 0.3), 0px 1px 3px 1px rgba(60, 64, 67, 0.15);\n",
              "      fill: #174EA6;\n",
              "    }\n",
              "\n",
              "    .colab-df-buttons div {\n",
              "      margin-bottom: 4px;\n",
              "    }\n",
              "\n",
              "    [theme=dark] .colab-df-convert {\n",
              "      background-color: #3B4455;\n",
              "      fill: #D2E3FC;\n",
              "    }\n",
              "\n",
              "    [theme=dark] .colab-df-convert:hover {\n",
              "      background-color: #434B5C;\n",
              "      box-shadow: 0px 1px 3px 1px rgba(0, 0, 0, 0.15);\n",
              "      filter: drop-shadow(0px 1px 2px rgba(0, 0, 0, 0.3));\n",
              "      fill: #FFFFFF;\n",
              "    }\n",
              "  </style>\n",
              "\n",
              "    <script>\n",
              "      const buttonEl =\n",
              "        document.querySelector('#df-2e472bd6-d62d-4389-b253-f1960015f6e8 button.colab-df-convert');\n",
              "      buttonEl.style.display =\n",
              "        google.colab.kernel.accessAllowed ? 'block' : 'none';\n",
              "\n",
              "      async function convertToInteractive(key) {\n",
              "        const element = document.querySelector('#df-2e472bd6-d62d-4389-b253-f1960015f6e8');\n",
              "        const dataTable =\n",
              "          await google.colab.kernel.invokeFunction('convertToInteractive',\n",
              "                                                    [key], {});\n",
              "        if (!dataTable) return;\n",
              "\n",
              "        const docLinkHtml = 'Like what you see? Visit the ' +\n",
              "          '<a target=\"_blank\" href=https://colab.research.google.com/notebooks/data_table.ipynb>data table notebook</a>'\n",
              "          + ' to learn more about interactive tables.';\n",
              "        element.innerHTML = '';\n",
              "        dataTable['output_type'] = 'display_data';\n",
              "        await google.colab.output.renderOutput(dataTable, element);\n",
              "        const docLink = document.createElement('div');\n",
              "        docLink.innerHTML = docLinkHtml;\n",
              "        element.appendChild(docLink);\n",
              "      }\n",
              "    </script>\n",
              "  </div>\n",
              "\n",
              "\n",
              "<div id=\"df-a212fcbe-e2fa-4cc4-8345-e7229519b8e2\">\n",
              "  <button class=\"colab-df-quickchart\" onclick=\"quickchart('df-a212fcbe-e2fa-4cc4-8345-e7229519b8e2')\"\n",
              "            title=\"Suggest charts\"\n",
              "            style=\"display:none;\">\n",
              "\n",
              "<svg xmlns=\"http://www.w3.org/2000/svg\" height=\"24px\"viewBox=\"0 0 24 24\"\n",
              "     width=\"24px\">\n",
              "    <g>\n",
              "        <path d=\"M19 3H5c-1.1 0-2 .9-2 2v14c0 1.1.9 2 2 2h14c1.1 0 2-.9 2-2V5c0-1.1-.9-2-2-2zM9 17H7v-7h2v7zm4 0h-2V7h2v10zm4 0h-2v-4h2v4z\"/>\n",
              "    </g>\n",
              "</svg>\n",
              "  </button>\n",
              "\n",
              "<style>\n",
              "  .colab-df-quickchart {\n",
              "      --bg-color: #E8F0FE;\n",
              "      --fill-color: #1967D2;\n",
              "      --hover-bg-color: #E2EBFA;\n",
              "      --hover-fill-color: #174EA6;\n",
              "      --disabled-fill-color: #AAA;\n",
              "      --disabled-bg-color: #DDD;\n",
              "  }\n",
              "\n",
              "  [theme=dark] .colab-df-quickchart {\n",
              "      --bg-color: #3B4455;\n",
              "      --fill-color: #D2E3FC;\n",
              "      --hover-bg-color: #434B5C;\n",
              "      --hover-fill-color: #FFFFFF;\n",
              "      --disabled-bg-color: #3B4455;\n",
              "      --disabled-fill-color: #666;\n",
              "  }\n",
              "\n",
              "  .colab-df-quickchart {\n",
              "    background-color: var(--bg-color);\n",
              "    border: none;\n",
              "    border-radius: 50%;\n",
              "    cursor: pointer;\n",
              "    display: none;\n",
              "    fill: var(--fill-color);\n",
              "    height: 32px;\n",
              "    padding: 0;\n",
              "    width: 32px;\n",
              "  }\n",
              "\n",
              "  .colab-df-quickchart:hover {\n",
              "    background-color: var(--hover-bg-color);\n",
              "    box-shadow: 0 1px 2px rgba(60, 64, 67, 0.3), 0 1px 3px 1px rgba(60, 64, 67, 0.15);\n",
              "    fill: var(--button-hover-fill-color);\n",
              "  }\n",
              "\n",
              "  .colab-df-quickchart-complete:disabled,\n",
              "  .colab-df-quickchart-complete:disabled:hover {\n",
              "    background-color: var(--disabled-bg-color);\n",
              "    fill: var(--disabled-fill-color);\n",
              "    box-shadow: none;\n",
              "  }\n",
              "\n",
              "  .colab-df-spinner {\n",
              "    border: 2px solid var(--fill-color);\n",
              "    border-color: transparent;\n",
              "    border-bottom-color: var(--fill-color);\n",
              "    animation:\n",
              "      spin 1s steps(1) infinite;\n",
              "  }\n",
              "\n",
              "  @keyframes spin {\n",
              "    0% {\n",
              "      border-color: transparent;\n",
              "      border-bottom-color: var(--fill-color);\n",
              "      border-left-color: var(--fill-color);\n",
              "    }\n",
              "    20% {\n",
              "      border-color: transparent;\n",
              "      border-left-color: var(--fill-color);\n",
              "      border-top-color: var(--fill-color);\n",
              "    }\n",
              "    30% {\n",
              "      border-color: transparent;\n",
              "      border-left-color: var(--fill-color);\n",
              "      border-top-color: var(--fill-color);\n",
              "      border-right-color: var(--fill-color);\n",
              "    }\n",
              "    40% {\n",
              "      border-color: transparent;\n",
              "      border-right-color: var(--fill-color);\n",
              "      border-top-color: var(--fill-color);\n",
              "    }\n",
              "    60% {\n",
              "      border-color: transparent;\n",
              "      border-right-color: var(--fill-color);\n",
              "    }\n",
              "    80% {\n",
              "      border-color: transparent;\n",
              "      border-right-color: var(--fill-color);\n",
              "      border-bottom-color: var(--fill-color);\n",
              "    }\n",
              "    90% {\n",
              "      border-color: transparent;\n",
              "      border-bottom-color: var(--fill-color);\n",
              "    }\n",
              "  }\n",
              "</style>\n",
              "\n",
              "  <script>\n",
              "    async function quickchart(key) {\n",
              "      const quickchartButtonEl =\n",
              "        document.querySelector('#' + key + ' button');\n",
              "      quickchartButtonEl.disabled = true;  // To prevent multiple clicks.\n",
              "      quickchartButtonEl.classList.add('colab-df-spinner');\n",
              "      try {\n",
              "        const charts = await google.colab.kernel.invokeFunction(\n",
              "            'suggestCharts', [key], {});\n",
              "      } catch (error) {\n",
              "        console.error('Error during call to suggestCharts:', error);\n",
              "      }\n",
              "      quickchartButtonEl.classList.remove('colab-df-spinner');\n",
              "      quickchartButtonEl.classList.add('colab-df-quickchart-complete');\n",
              "    }\n",
              "    (() => {\n",
              "      let quickchartButtonEl =\n",
              "        document.querySelector('#df-a212fcbe-e2fa-4cc4-8345-e7229519b8e2 button');\n",
              "      quickchartButtonEl.style.display =\n",
              "        google.colab.kernel.accessAllowed ? 'block' : 'none';\n",
              "    })();\n",
              "  </script>\n",
              "</div>\n",
              "\n",
              "    </div>\n",
              "  </div>\n"
            ],
            "application/vnd.google.colaboratory.intrinsic+json": {
              "type": "dataframe",
              "variable_name": "test_df",
              "summary": "{\n  \"name\": \"test_df\",\n  \"rows\": 3263,\n  \"fields\": [\n    {\n      \"column\": \"id\",\n      \"properties\": {\n        \"dtype\": \"number\",\n        \"std\": 3146,\n        \"min\": 0,\n        \"max\": 10875,\n        \"num_unique_values\": 3263,\n        \"samples\": [\n          8051,\n          425,\n          1330\n        ],\n        \"semantic_type\": \"\",\n        \"description\": \"\"\n      }\n    },\n    {\n      \"column\": \"keyword\",\n      \"properties\": {\n        \"dtype\": \"category\",\n        \"num_unique_values\": 221,\n        \"samples\": [\n          \"injury\",\n          \"nuclear%20reactor\",\n          \"engulfed\"\n        ],\n        \"semantic_type\": \"\",\n        \"description\": \"\"\n      }\n    },\n    {\n      \"column\": \"location\",\n      \"properties\": {\n        \"dtype\": \"category\",\n        \"num_unique_values\": 1602,\n        \"samples\": [\n          \"UAE\",\n          \"Tokio / Tokyo\",\n          \"Texas\"\n        ],\n        \"semantic_type\": \"\",\n        \"description\": \"\"\n      }\n    },\n    {\n      \"column\": \"text\",\n      \"properties\": {\n        \"dtype\": \"string\",\n        \"num_unique_values\": 3243,\n        \"samples\": [\n          \"Latest: USA: Huge sinkhole swallows up Brooklyn intersection http://t.co/vspKHg3nZy\",\n          \"I liked a @YouTube video http://t.co/a5YTAw9Vih S.O.S. Rona Guide - The Red Whirlwind\",\n          \"HitchBot travels Europe and greeted with open arms. Gets destroyed after two weeks in america. There's a lesson to be learned here.\"\n        ],\n        \"semantic_type\": \"\",\n        \"description\": \"\"\n      }\n    }\n  ]\n}"
            }
          },
          "metadata": {},
          "execution_count": 7
        }
      ]
    },
    {
      "cell_type": "code",
      "source": [
        "# How many examples of each class are there?\n",
        "train_df.target.value_counts()"
      ],
      "metadata": {
        "colab": {
          "base_uri": "https://localhost:8080/"
        },
        "id": "nkRETCa9BScm",
        "outputId": "eeb8de6a-cca9-43b4-91e8-ab54f0463e2c"
      },
      "execution_count": 8,
      "outputs": [
        {
          "output_type": "execute_result",
          "data": {
            "text/plain": [
              "target\n",
              "0    4342\n",
              "1    3271\n",
              "Name: count, dtype: int64"
            ]
          },
          "metadata": {},
          "execution_count": 8
        }
      ]
    },
    {
      "cell_type": "code",
      "source": [
        "# How many locations?\n",
        "train_df.location.value_counts()"
      ],
      "metadata": {
        "colab": {
          "base_uri": "https://localhost:8080/"
        },
        "id": "aaRRMabGBbuH",
        "outputId": "46761bf2-55b3-46a4-bb0f-bc0f457d1142"
      },
      "execution_count": 9,
      "outputs": [
        {
          "output_type": "execute_result",
          "data": {
            "text/plain": [
              "location\n",
              "USA                    104\n",
              "New York                71\n",
              "United States           50\n",
              "London                  45\n",
              "Canada                  29\n",
              "                      ... \n",
              "Some pum pum             1\n",
              "Paulton, England         1\n",
              "SEA Server               1\n",
              "todaysbigstock.com       1\n",
              "???????? ?????????.      1\n",
              "Name: count, Length: 3341, dtype: int64"
            ]
          },
          "metadata": {},
          "execution_count": 9
        }
      ]
    },
    {
      "cell_type": "code",
      "source": [
        "# How many total samples?\n",
        "len(train_df), len(test_df)"
      ],
      "metadata": {
        "colab": {
          "base_uri": "https://localhost:8080/"
        },
        "id": "-sjLImUvBk2y",
        "outputId": "6077c786-91ea-4d10-c494-eb8a48afb7d7"
      },
      "execution_count": 10,
      "outputs": [
        {
          "output_type": "execute_result",
          "data": {
            "text/plain": [
              "(7613, 3263)"
            ]
          },
          "metadata": {},
          "execution_count": 10
        }
      ]
    },
    {
      "cell_type": "code",
      "source": [
        "# Let's visualize some random training examples\n",
        "import random\n",
        "random_index = random.randint(0, len(train_df)-5)\n",
        "for row in train_df_shuffled[[\"text\", \"target\"]][random_index:random_index+5].itertuples():\n",
        "  _, text, target = row\n",
        "  print(f\"Target: {target}\", r\"(real disaster)\" if target > 0 else r\"(not real disaster)\")\n",
        "  print(f\"Text:\\n{text}\\n\")\n",
        "  print(\"---\\n\")"
      ],
      "metadata": {
        "colab": {
          "base_uri": "https://localhost:8080/"
        },
        "id": "MLb0bocuB1NT",
        "outputId": "bae7ab5e-e488-4d9e-e31e-656b6972d133"
      },
      "execution_count": 11,
      "outputs": [
        {
          "output_type": "stream",
          "name": "stdout",
          "text": [
            "Target: 0 (not real disaster)\n",
            "Text:\n",
            "@LisaToddSutton The reason I bring this up  bcz he is running 4 Senate. Murphy is nothing but a Republican I am deluged with his junk mail!\n",
            "\n",
            "---\n",
            "\n",
            "Target: 1 (real disaster)\n",
            "Text:\n",
            "The Bush fires in CA are so crazy\n",
            "\n",
            "---\n",
            "\n",
            "Target: 0 (not real disaster)\n",
            "Text:\n",
            "@xeni my bet is mother nature might have plans to send a deluge our way.\n",
            "\n",
            "---\n",
            "\n",
            "Target: 0 (not real disaster)\n",
            "Text:\n",
            "Sometimes in space celestial bodies with separate trajectories that intertwine find themselves in a dance rather than a collision course.\n",
            "\n",
            "---\n",
            "\n",
            "Target: 0 (not real disaster)\n",
            "Text:\n",
            "Ancient Mayan Tablet with Hieroglyphics Honors Lowly King http://t.co/Im6m4XAeN2\n",
            "\n",
            "---\n",
            "\n"
          ]
        }
      ]
    },
    {
      "cell_type": "code",
      "source": [
        "print(\"Hello\\'\\\\ \\n\")"
      ],
      "metadata": {
        "colab": {
          "base_uri": "https://localhost:8080/"
        },
        "id": "adzatgNaCyQo",
        "outputId": "2cf47eab-b1fd-4d8c-aff0-d6342901e96c"
      },
      "execution_count": 12,
      "outputs": [
        {
          "output_type": "stream",
          "name": "stdout",
          "text": [
            "Hello'\\ \n",
            "\n"
          ]
        }
      ]
    },
    {
      "cell_type": "code",
      "source": [
        "print(r\"Hello\\'\\\\ \\n\")"
      ],
      "metadata": {
        "colab": {
          "base_uri": "https://localhost:8080/"
        },
        "id": "0-PrN4l2Dcwt",
        "outputId": "40f065a6-c0ba-46d9-fa64-6c4b22d4b1d9"
      },
      "execution_count": 13,
      "outputs": [
        {
          "output_type": "stream",
          "name": "stdout",
          "text": [
            "Hello\\'\\\\ \\n\n"
          ]
        }
      ]
    },
    {
      "cell_type": "markdown",
      "source": [
        "### Split data into training and validation sets"
      ],
      "metadata": {
        "id": "94RbHSbHDf97"
      }
    },
    {
      "cell_type": "code",
      "source": [
        "from sklearn.model_selection import train_test_split\n",
        "train_sentences, validation_sentences, train_labels, val_labels = train_test_split(train_df_shuffled[\"text\"].to_numpy(),\n",
        "                                                                                   train_df_shuffled[\"target\"].to_numpy(),\n",
        "                                                                                   test_size=0.1)\n"
      ],
      "metadata": {
        "id": "hEHZARCoDu6N"
      },
      "execution_count": 14,
      "outputs": []
    },
    {
      "cell_type": "code",
      "source": [
        "# Check the lengths\n",
        "len(train_sentences), len(train_labels), len(validation_sentences), len(val_labels)"
      ],
      "metadata": {
        "colab": {
          "base_uri": "https://localhost:8080/"
        },
        "id": "PiiAB3-BDyJT",
        "outputId": "f64e7c1b-be75-4769-dc79-0aeaa6137065"
      },
      "execution_count": 15,
      "outputs": [
        {
          "output_type": "execute_result",
          "data": {
            "text/plain": [
              "(6851, 6851, 762, 762)"
            ]
          },
          "metadata": {},
          "execution_count": 15
        }
      ]
    },
    {
      "cell_type": "code",
      "source": [
        "# Check the first 10 samples\n",
        "train_sentences[:10], train_labels[:10]"
      ],
      "metadata": {
        "colab": {
          "base_uri": "https://localhost:8080/"
        },
        "id": "oZloaPhqEpuj",
        "outputId": "9cee2200-d26a-43f8-b5e8-fc9f0db3fd5d"
      },
      "execution_count": 16,
      "outputs": [
        {
          "output_type": "execute_result",
          "data": {
            "text/plain": [
              "(array(['Fun with my girls! @ Joe Cools - Durban Main Page https://t.co/AbnZQWlig1',\n",
              "        'A traumatised dog that was found buried up to its head in dirt in France is now in safe hands. This is such a... http://t.co/AGQo1479xM',\n",
              "        'And the fact that i have a curfew',\n",
              "        'RT skanndTyagi WIRED : Reddit will now quarantine offensive content http://t.co/H0xUNJ3C7C (http://t.co/UuEw4MJLes\\x89Û_ \\x89Û_',\n",
              "        '#WorldWatchesFerguson #Florida @GovJayNixon @clairecmc How dare you turn our streets into a war zone -a war against CITIZENS?',\n",
              "        'One Direction Is my pick for http://t.co/q2eBlOKeVE Fan Army #Directioners http://t.co/eNCmhz6y34 x1392',\n",
              "        'Bamenda Floods Kill Animals Birds - http://t.co/WnamtxlfMt http://t.co/6cOIDv11qV',\n",
              "        'Three-alarm fire destroys two residential buildings a car in Manchester N.H. on Sunday afternoon http://t.co/rVkyj3YUVK',\n",
              "        \"The 'twins' survived their first day of high school!! They're gonna have a great year!! #makinmemories 2015 http://t.co/gM8p0Bd8Mt\",\n",
              "        \"Japan's Restart of Nuclear Reactor Fleet Fast Approaches http://t.co/DbAUjp29Ub\"],\n",
              "       dtype=object),\n",
              " array([0, 0, 0, 0, 1, 1, 1, 1, 0, 1]))"
            ]
          },
          "metadata": {},
          "execution_count": 16
        }
      ]
    },
    {
      "cell_type": "markdown",
      "source": [
        "## Converting text into numbers"
      ],
      "metadata": {
        "id": "wfSNyeTLEvFY"
      }
    },
    {
      "cell_type": "code",
      "source": [
        "# Embedding - every word gets turned into a vector; you can specify the dimensions of the vector\n",
        "  # gets updated as the network learns; therfore it can learn relationships between tokens\n",
        "  # Pretrained embedding libraries e.g. word2vec, GloVe, etc.\n"
      ],
      "metadata": {
        "id": "TlZnTFSuhwXh"
      },
      "execution_count": 17,
      "outputs": []
    },
    {
      "cell_type": "code",
      "source": [
        "# Text vectorization (tokenization)\n",
        "train_sentences[:5]"
      ],
      "metadata": {
        "colab": {
          "base_uri": "https://localhost:8080/"
        },
        "id": "mnWvMBTHjrWC",
        "outputId": "9f6a7a35-537b-47ae-97b2-d1d16f5046ea"
      },
      "execution_count": 18,
      "outputs": [
        {
          "output_type": "execute_result",
          "data": {
            "text/plain": [
              "array(['Fun with my girls! @ Joe Cools - Durban Main Page https://t.co/AbnZQWlig1',\n",
              "       'A traumatised dog that was found buried up to its head in dirt in France is now in safe hands. This is such a... http://t.co/AGQo1479xM',\n",
              "       'And the fact that i have a curfew',\n",
              "       'RT skanndTyagi WIRED : Reddit will now quarantine offensive content http://t.co/H0xUNJ3C7C (http://t.co/UuEw4MJLes\\x89Û_ \\x89Û_',\n",
              "       '#WorldWatchesFerguson #Florida @GovJayNixon @clairecmc How dare you turn our streets into a war zone -a war against CITIZENS?'],\n",
              "      dtype=object)"
            ]
          },
          "metadata": {},
          "execution_count": 18
        }
      ]
    },
    {
      "cell_type": "code",
      "source": [
        "import tensorflow as tf\n",
        "from tensorflow.keras.layers.experimental.preprocessing import TextVectorization\n",
        "# use the default textvectorization parameters\n",
        "text_vectorizer = TextVectorization(max_tokens=None, # how many words in our vocabulary; no cap on size of vocab\n",
        "                                    standardize='lower_and_strip_punctuation',\n",
        "                                    split='whitespace',\n",
        "                                    ngrams=None, # create groups of n-words?\n",
        "                                    output_mode='int', # how to map tokens to numbers\n",
        "                                    output_sequence_length=None,\n",
        "                                    pad_to_max_tokens=False)"
      ],
      "metadata": {
        "id": "ohdqst-vjva7"
      },
      "execution_count": 19,
      "outputs": []
    },
    {
      "cell_type": "code",
      "source": [
        "# find the average number of tokens in the training tweets\n",
        "round((sum([len(i.split()) for i in train_sentences]))/len(train_sentences))"
      ],
      "metadata": {
        "colab": {
          "base_uri": "https://localhost:8080/"
        },
        "id": "_DZBoonYj3jH",
        "outputId": "1c38d97f-9b4a-4a52-bda7-677db021c314"
      },
      "execution_count": 20,
      "outputs": [
        {
          "output_type": "execute_result",
          "data": {
            "text/plain": [
              "15"
            ]
          },
          "metadata": {},
          "execution_count": 20
        }
      ]
    },
    {
      "cell_type": "code",
      "source": [
        "# Setup text vectorization variables\n",
        "max_vocab_length = 10000 # max num of words to have in vocab\n",
        "max_length = 15 # max length our sequences will be\n",
        "\n",
        "text_vectorizer = TextVectorization(max_tokens = max_vocab_length,\n",
        "                                    output_mode='int',\n",
        "                                    output_sequence_length=max_length)"
      ],
      "metadata": {
        "id": "9W8ByTbImiop"
      },
      "execution_count": 21,
      "outputs": []
    },
    {
      "cell_type": "code",
      "source": [
        "# Fit the text vectorizer to the training text\n",
        "text_vectorizer.adapt(train_sentences)"
      ],
      "metadata": {
        "id": "AxSf93UNm_gm"
      },
      "execution_count": 22,
      "outputs": []
    },
    {
      "cell_type": "code",
      "source": [
        "# Create a sample sentence and tokenize it\n",
        "sample_sentence = \"There's a flood in my street!\"\n",
        "text_vectorizer([sample_sentence])"
      ],
      "metadata": {
        "colab": {
          "base_uri": "https://localhost:8080/"
        },
        "id": "VUFEM00ungQw",
        "outputId": "ff2e22a8-8110-40ef-f69e-f93c54f5a4d1"
      },
      "execution_count": 23,
      "outputs": [
        {
          "output_type": "execute_result",
          "data": {
            "text/plain": [
              "<tf.Tensor: shape=(1, 15), dtype=int64, numpy=\n",
              "array([[278,   3, 212,   4,  13, 697,   0,   0,   0,   0,   0,   0,   0,\n",
              "          0,   0]])>"
            ]
          },
          "metadata": {},
          "execution_count": 23
        }
      ]
    },
    {
      "cell_type": "code",
      "source": [
        "# Choose a random sentence from the training dataset and tokenize it\n",
        "random_sentence = random.choice(train_sentences)\n",
        "print(f\"Original text:\\n{random_sentence} \\\n",
        "      \\n\\nVectorized versions:\")\n",
        "text_vectorizer([random_sentence])"
      ],
      "metadata": {
        "colab": {
          "base_uri": "https://localhost:8080/"
        },
        "id": "NrZroGjKnobH",
        "outputId": "cdf12c48-3765-43aa-b04b-cea2059d8d3d"
      },
      "execution_count": 24,
      "outputs": [
        {
          "output_type": "stream",
          "name": "stdout",
          "text": [
            "Original text:\n",
            "@ArizonaDOT Price Rd North bound closed from University to Rio Salado.. Lots of police..  What's crackin?       \n",
            "\n",
            "Vectorized versions:\n"
          ]
        },
        {
          "output_type": "execute_result",
          "data": {
            "text/plain": [
              "<tf.Tensor: shape=(1, 15), dtype=int64, numpy=\n",
              "array([[   1, 2808,  942,  621, 4090,  782,   20, 2653,    5, 9083, 8867,\n",
              "        1505,    6,   76,  522]])>"
            ]
          },
          "metadata": {},
          "execution_count": 24
        }
      ]
    },
    {
      "cell_type": "code",
      "source": [
        "# Get the unique words in the vocab\n",
        "words_in_vocab = text_vectorizer.get_vocabulary() # Get all the unique words in our training data\n",
        "# Most common words\n",
        "top_5_words = words_in_vocab[:5]\n",
        "bottom_5_words = words_in_vocab[-5:]\n",
        "print(f\"Number of words in vocab: {len(words_in_vocab)}\")\n",
        "print(f\"5 most common words: {top_5_words}\")\n",
        "print(f\"5 least common words: {bottom_5_words}\")"
      ],
      "metadata": {
        "colab": {
          "base_uri": "https://localhost:8080/"
        },
        "id": "O5Y4lIO0oHqi",
        "outputId": "c676a2bf-b58a-450c-d171-2aa86f280ed5"
      },
      "execution_count": 25,
      "outputs": [
        {
          "output_type": "stream",
          "name": "stdout",
          "text": [
            "Number of words in vocab: 10000\n",
            "5 most common words: ['', '[UNK]', 'the', 'a', 'in']\n",
            "5 least common words: ['pakistans', 'pajamas', 'painthey', 'painful', 'paine']\n"
          ]
        }
      ]
    },
    {
      "cell_type": "markdown",
      "source": [
        "### Creating an Embedding using an Embedding Layer"
      ],
      "metadata": {
        "id": "D4FUM_8IowRF"
      }
    },
    {
      "cell_type": "code",
      "source": [
        "# taken tokenized text into embedding vectors\n",
        "from tensorflow.keras import layers\n",
        "embedding = layers.Embedding(input_dim=max_vocab_length,\n",
        "                             output_dim=128, # best to choose number divisible by 8\n",
        "                             input_length=max_length # how long is each input\n",
        "                             )\n",
        "embedding"
      ],
      "metadata": {
        "colab": {
          "base_uri": "https://localhost:8080/"
        },
        "id": "vfqvcirtpR4M",
        "outputId": "1974ed7d-2562-4aed-a364-45e48e92ba04"
      },
      "execution_count": 26,
      "outputs": [
        {
          "output_type": "execute_result",
          "data": {
            "text/plain": [
              "<keras.src.layers.core.embedding.Embedding at 0x7d40e3dd7070>"
            ]
          },
          "metadata": {},
          "execution_count": 26
        }
      ]
    },
    {
      "cell_type": "code",
      "source": [
        "random_sentence = random.choice(train_sentences)\n",
        "print(f\"Original text:\\n {random_sentence}\\\n",
        "\\n\\n Embedded version:\")\n",
        "\n",
        "sample_embed = embedding(text_vectorizer([random_sentence]))\n",
        "sample_embed"
      ],
      "metadata": {
        "colab": {
          "base_uri": "https://localhost:8080/"
        },
        "id": "8YlZ277eqOFd",
        "outputId": "d29d38c9-9b0d-447e-df81-ef39699d6056"
      },
      "execution_count": 27,
      "outputs": [
        {
          "output_type": "stream",
          "name": "stdout",
          "text": [
            "Original text:\n",
            " @holymileyray @moonIighthunty Focus on Me is going to obliterate careers tea\n",
            "\n",
            " Embedded version:\n"
          ]
        },
        {
          "output_type": "execute_result",
          "data": {
            "text/plain": [
              "<tf.Tensor: shape=(1, 15, 128), dtype=float32, numpy=\n",
              "array([[[ 0.0234449 , -0.03818802, -0.01505024, ...,  0.02783909,\n",
              "         -0.04934021,  0.03317586],\n",
              "        [ 0.0234449 , -0.03818802, -0.01505024, ...,  0.02783909,\n",
              "         -0.04934021,  0.03317586],\n",
              "        [ 0.0216538 , -0.0122731 ,  0.01155722, ..., -0.02620969,\n",
              "         -0.03484156,  0.0341947 ],\n",
              "        ...,\n",
              "        [-0.02719375,  0.03894898,  0.0121805 , ...,  0.03871273,\n",
              "         -0.03457139,  0.00500683],\n",
              "        [-0.02719375,  0.03894898,  0.0121805 , ...,  0.03871273,\n",
              "         -0.03457139,  0.00500683],\n",
              "        [-0.02719375,  0.03894898,  0.0121805 , ...,  0.03871273,\n",
              "         -0.03457139,  0.00500683]]], dtype=float32)>"
            ]
          },
          "metadata": {},
          "execution_count": 27
        }
      ]
    },
    {
      "cell_type": "code",
      "source": [
        "# Check out a single token's embedding\n",
        "sample_embed[0][0], sample_embed[0][0].shape, random_sentence[0]"
      ],
      "metadata": {
        "colab": {
          "base_uri": "https://localhost:8080/"
        },
        "id": "GBkWO3KUqmie",
        "outputId": "a711771c-680f-4c82-acf2-ac984dbfed8f"
      },
      "execution_count": 28,
      "outputs": [
        {
          "output_type": "execute_result",
          "data": {
            "text/plain": [
              "(<tf.Tensor: shape=(128,), dtype=float32, numpy=\n",
              " array([ 0.0234449 , -0.03818802, -0.01505024,  0.01731512, -0.00324415,\n",
              "        -0.04839187,  0.0062751 ,  0.04945283,  0.01328676, -0.01313968,\n",
              "         0.01478911,  0.00013845,  0.04018369,  0.00741886,  0.01027685,\n",
              "        -0.01463459,  0.01820648, -0.00690828, -0.04810762,  0.04284919,\n",
              "        -0.0172108 ,  0.01475121,  0.00775709, -0.0360515 , -0.00341721,\n",
              "        -0.00241122, -0.04961076,  0.02908987,  0.02648499, -0.00411547,\n",
              "         0.04416375, -0.02752273, -0.04290174,  0.03149574, -0.03880061,\n",
              "        -0.04305099, -0.03259549, -0.00995566,  0.01704558, -0.04544954,\n",
              "        -0.03311457,  0.01010061,  0.00851149, -0.02847035,  0.02013494,\n",
              "        -0.04770849, -0.01655389, -0.00822823, -0.03249906,  0.03206215,\n",
              "         0.0357896 , -0.0462027 , -0.00914817, -0.03247037,  0.03828842,\n",
              "         0.0153585 ,  0.03262773, -0.04295028,  0.01540872, -0.02367429,\n",
              "         0.00142365, -0.02275852, -0.01083114, -0.04208262, -0.02476019,\n",
              "         0.01543572, -0.04938471,  0.01259598, -0.03046075,  0.02945102,\n",
              "         0.04435501,  0.03339509,  0.04496778, -0.03729379,  0.00359945,\n",
              "         0.02551185,  0.04202792, -0.00750382,  0.04478102, -0.03561972,\n",
              "         0.04895571, -0.03051024, -0.01635858,  0.03527318,  0.01534424,\n",
              "        -0.01329441,  0.04566915,  0.03761343, -0.03483999, -0.03480766,\n",
              "        -0.00267222,  0.02071658,  0.00295051, -0.04605727, -0.00484021,\n",
              "        -0.03508633, -0.03156245, -0.03633535,  0.0423759 ,  0.01643893,\n",
              "        -0.02892962,  0.00122965, -0.00654132,  0.02478974, -0.02232547,\n",
              "        -0.0177445 , -0.0117098 ,  0.02928055, -0.03286902,  0.03522078,\n",
              "        -0.03733271,  0.01935225, -0.01764144,  0.02899593, -0.00993689,\n",
              "        -0.03978715, -0.01324749,  0.01573679, -0.01487523,  0.00514047,\n",
              "         0.00228019, -0.04576558,  0.04598485,  0.03706061,  0.04553919,\n",
              "         0.02783909, -0.04934021,  0.03317586], dtype=float32)>,\n",
              " TensorShape([128]),\n",
              " '@')"
            ]
          },
          "metadata": {},
          "execution_count": 28
        }
      ]
    },
    {
      "cell_type": "markdown",
      "source": [
        "## Modeling a text dataset\n",
        "* Model 0: Naive Bayes (baseline) [sklearn ML map](https://scikit-learn.org/stable/tutorial/machine_learning_map/index.html)\n",
        "* Model 2: LSTM model (RNN)\n",
        "* Model 3: GRU model (RNN)\n",
        "* Model 4: Bidirectional-LSTM model (RNN)\n",
        "* Model 5: 1D Convolutional NN (CNN)\n",
        "* Model 6: TF Hub Pretrained Feature Extractor (transfer learning)\n",
        "* Model 7: Same as model 6 with 10% of training data"
      ],
      "metadata": {
        "id": "UvmZc8WTq9d1"
      }
    },
    {
      "cell_type": "markdown",
      "source": [
        "### Model 0: Getting a baseline"
      ],
      "metadata": {
        "id": "CHHmh8sMrjGl"
      }
    },
    {
      "cell_type": "code",
      "source": [
        "from sklearn.naive_bayes import MultinomialNB\n",
        "from sklearn.feature_extraction.text import TfidfVectorizer # turn text into numbers/vectors\n",
        "from sklearn.pipeline import Pipeline\n",
        "model_0 = Pipeline([\n",
        "    (\"tfidf\", TfidfVectorizer()),\n",
        "    (\"clf\", MultinomialNB()) # clf == \"classifier\"\n",
        "])\n",
        "model_0.fit(train_sentences, train_labels)"
      ],
      "metadata": {
        "colab": {
          "base_uri": "https://localhost:8080/",
          "height": 127
        },
        "id": "pPRFDykutYhM",
        "outputId": "c5194db5-bda0-44de-ea83-eceaba83a868"
      },
      "execution_count": 29,
      "outputs": [
        {
          "output_type": "execute_result",
          "data": {
            "text/plain": [
              "Pipeline(steps=[('tfidf', TfidfVectorizer()), ('clf', MultinomialNB())])"
            ],
            "text/html": [
              "<style>#sk-container-id-1 {color: black;background-color: white;}#sk-container-id-1 pre{padding: 0;}#sk-container-id-1 div.sk-toggleable {background-color: white;}#sk-container-id-1 label.sk-toggleable__label {cursor: pointer;display: block;width: 100%;margin-bottom: 0;padding: 0.3em;box-sizing: border-box;text-align: center;}#sk-container-id-1 label.sk-toggleable__label-arrow:before {content: \"▸\";float: left;margin-right: 0.25em;color: #696969;}#sk-container-id-1 label.sk-toggleable__label-arrow:hover:before {color: black;}#sk-container-id-1 div.sk-estimator:hover label.sk-toggleable__label-arrow:before {color: black;}#sk-container-id-1 div.sk-toggleable__content {max-height: 0;max-width: 0;overflow: hidden;text-align: left;background-color: #f0f8ff;}#sk-container-id-1 div.sk-toggleable__content pre {margin: 0.2em;color: black;border-radius: 0.25em;background-color: #f0f8ff;}#sk-container-id-1 input.sk-toggleable__control:checked~div.sk-toggleable__content {max-height: 200px;max-width: 100%;overflow: auto;}#sk-container-id-1 input.sk-toggleable__control:checked~label.sk-toggleable__label-arrow:before {content: \"▾\";}#sk-container-id-1 div.sk-estimator input.sk-toggleable__control:checked~label.sk-toggleable__label {background-color: #d4ebff;}#sk-container-id-1 div.sk-label input.sk-toggleable__control:checked~label.sk-toggleable__label {background-color: #d4ebff;}#sk-container-id-1 input.sk-hidden--visually {border: 0;clip: rect(1px 1px 1px 1px);clip: rect(1px, 1px, 1px, 1px);height: 1px;margin: -1px;overflow: hidden;padding: 0;position: absolute;width: 1px;}#sk-container-id-1 div.sk-estimator {font-family: monospace;background-color: #f0f8ff;border: 1px dotted black;border-radius: 0.25em;box-sizing: border-box;margin-bottom: 0.5em;}#sk-container-id-1 div.sk-estimator:hover {background-color: #d4ebff;}#sk-container-id-1 div.sk-parallel-item::after {content: \"\";width: 100%;border-bottom: 1px solid gray;flex-grow: 1;}#sk-container-id-1 div.sk-label:hover label.sk-toggleable__label {background-color: #d4ebff;}#sk-container-id-1 div.sk-serial::before {content: \"\";position: absolute;border-left: 1px solid gray;box-sizing: border-box;top: 0;bottom: 0;left: 50%;z-index: 0;}#sk-container-id-1 div.sk-serial {display: flex;flex-direction: column;align-items: center;background-color: white;padding-right: 0.2em;padding-left: 0.2em;position: relative;}#sk-container-id-1 div.sk-item {position: relative;z-index: 1;}#sk-container-id-1 div.sk-parallel {display: flex;align-items: stretch;justify-content: center;background-color: white;position: relative;}#sk-container-id-1 div.sk-item::before, #sk-container-id-1 div.sk-parallel-item::before {content: \"\";position: absolute;border-left: 1px solid gray;box-sizing: border-box;top: 0;bottom: 0;left: 50%;z-index: -1;}#sk-container-id-1 div.sk-parallel-item {display: flex;flex-direction: column;z-index: 1;position: relative;background-color: white;}#sk-container-id-1 div.sk-parallel-item:first-child::after {align-self: flex-end;width: 50%;}#sk-container-id-1 div.sk-parallel-item:last-child::after {align-self: flex-start;width: 50%;}#sk-container-id-1 div.sk-parallel-item:only-child::after {width: 0;}#sk-container-id-1 div.sk-dashed-wrapped {border: 1px dashed gray;margin: 0 0.4em 0.5em 0.4em;box-sizing: border-box;padding-bottom: 0.4em;background-color: white;}#sk-container-id-1 div.sk-label label {font-family: monospace;font-weight: bold;display: inline-block;line-height: 1.2em;}#sk-container-id-1 div.sk-label-container {text-align: center;}#sk-container-id-1 div.sk-container {/* jupyter's `normalize.less` sets `[hidden] { display: none; }` but bootstrap.min.css set `[hidden] { display: none !important; }` so we also need the `!important` here to be able to override the default hidden behavior on the sphinx rendered scikit-learn.org. See: https://github.com/scikit-learn/scikit-learn/issues/21755 */display: inline-block !important;position: relative;}#sk-container-id-1 div.sk-text-repr-fallback {display: none;}</style><div id=\"sk-container-id-1\" class=\"sk-top-container\"><div class=\"sk-text-repr-fallback\"><pre>Pipeline(steps=[(&#x27;tfidf&#x27;, TfidfVectorizer()), (&#x27;clf&#x27;, MultinomialNB())])</pre><b>In a Jupyter environment, please rerun this cell to show the HTML representation or trust the notebook. <br />On GitHub, the HTML representation is unable to render, please try loading this page with nbviewer.org.</b></div><div class=\"sk-container\" hidden><div class=\"sk-item sk-dashed-wrapped\"><div class=\"sk-label-container\"><div class=\"sk-label sk-toggleable\"><input class=\"sk-toggleable__control sk-hidden--visually\" id=\"sk-estimator-id-1\" type=\"checkbox\" ><label for=\"sk-estimator-id-1\" class=\"sk-toggleable__label sk-toggleable__label-arrow\">Pipeline</label><div class=\"sk-toggleable__content\"><pre>Pipeline(steps=[(&#x27;tfidf&#x27;, TfidfVectorizer()), (&#x27;clf&#x27;, MultinomialNB())])</pre></div></div></div><div class=\"sk-serial\"><div class=\"sk-item\"><div class=\"sk-estimator sk-toggleable\"><input class=\"sk-toggleable__control sk-hidden--visually\" id=\"sk-estimator-id-2\" type=\"checkbox\" ><label for=\"sk-estimator-id-2\" class=\"sk-toggleable__label sk-toggleable__label-arrow\">TfidfVectorizer</label><div class=\"sk-toggleable__content\"><pre>TfidfVectorizer()</pre></div></div></div><div class=\"sk-item\"><div class=\"sk-estimator sk-toggleable\"><input class=\"sk-toggleable__control sk-hidden--visually\" id=\"sk-estimator-id-3\" type=\"checkbox\" ><label for=\"sk-estimator-id-3\" class=\"sk-toggleable__label sk-toggleable__label-arrow\">MultinomialNB</label><div class=\"sk-toggleable__content\"><pre>MultinomialNB()</pre></div></div></div></div></div></div></div>"
            ]
          },
          "metadata": {},
          "execution_count": 29
        }
      ]
    },
    {
      "cell_type": "code",
      "source": [
        "# Evaluate our baseline model\n",
        "baseline_score = model_0.score(validation_sentences, val_labels)\n",
        "print(f\"Our baseline model achieves an accuracy of: {baseline_score*100:.2f}%\")"
      ],
      "metadata": {
        "colab": {
          "base_uri": "https://localhost:8080/"
        },
        "id": "SfeJnU9GuNLu",
        "outputId": "7075b838-4119-4b52-81c1-aa9179dddb0b"
      },
      "execution_count": 30,
      "outputs": [
        {
          "output_type": "stream",
          "name": "stdout",
          "text": [
            "Our baseline model achieves an accuracy of: 81.89%\n"
          ]
        }
      ]
    },
    {
      "cell_type": "code",
      "source": [
        "train_df.target.value_counts()"
      ],
      "metadata": {
        "colab": {
          "base_uri": "https://localhost:8080/"
        },
        "id": "QsSQXaXmukOk",
        "outputId": "2aab39b0-1a19-4a7b-e06c-a30c1b895156"
      },
      "execution_count": 31,
      "outputs": [
        {
          "output_type": "execute_result",
          "data": {
            "text/plain": [
              "target\n",
              "0    4342\n",
              "1    3271\n",
              "Name: count, dtype: int64"
            ]
          },
          "metadata": {},
          "execution_count": 31
        }
      ]
    },
    {
      "cell_type": "code",
      "source": [
        "# Make predictions\n",
        "baseline_preds = model_0.predict(validation_sentences)\n",
        "baseline_preds[:20]"
      ],
      "metadata": {
        "colab": {
          "base_uri": "https://localhost:8080/"
        },
        "id": "icGvf0FDupAC",
        "outputId": "43e923e6-1750-456f-8d3c-541c25401159"
      },
      "execution_count": 32,
      "outputs": [
        {
          "output_type": "execute_result",
          "data": {
            "text/plain": [
              "array([0, 0, 1, 0, 0, 0, 1, 1, 0, 0, 1, 0, 0, 1, 0, 1, 0, 0, 0, 0])"
            ]
          },
          "metadata": {},
          "execution_count": 32
        }
      ]
    },
    {
      "cell_type": "markdown",
      "source": [
        "### Creating an evaluation function for our model experiments\n",
        "\n",
        "Create on to compare our model's predictions with the truth labels\n",
        "* Accuracy\n",
        "* Precision\n",
        "* Recall\n",
        "* F1-score"
      ],
      "metadata": {
        "id": "eRRts0VWu3Y5"
      }
    },
    {
      "cell_type": "code",
      "source": [
        "# Function to evaluate: accuracy, precision, recall, F1-score\n",
        "from sklearn.metrics import accuracy_score, precision_recall_fscore_support\n",
        "def calculate_results(y_true, y_pred):\n",
        "  \"\"\"\n",
        "  Calculates model accuracy, precision, recall and f1 score of a binary classification model\n",
        "  \"\"\"\n",
        "  # Calculate model accuracy\n",
        "  model_accuracy = accuracy_score(y_true, y_pred) * 100\n",
        "  # Calculate model precision, recall, and f1-score using \"weighted\" average\n",
        "  model_precision, model_recall, model_f1, _ = precision_recall_fscore_support(y_true, y_pred, average=\"weighted\")\n",
        "  model_results = {\"accuracy\": model_accuracy,\n",
        "                   \"precision\": model_precision,\n",
        "                   \"recall\": model_recall,\n",
        "                   \"f1\": model_f1}\n",
        "  return model_results"
      ],
      "metadata": {
        "id": "BdoFliMyNS4L"
      },
      "execution_count": 33,
      "outputs": []
    },
    {
      "cell_type": "code",
      "source": [
        "baseline_results = calculate_results(y_true=val_labels,\n",
        "                                     y_pred = baseline_preds)\n",
        "baseline_results"
      ],
      "metadata": {
        "id": "-xSwtDvTu5V-",
        "colab": {
          "base_uri": "https://localhost:8080/"
        },
        "outputId": "6b2e0633-5e39-452a-9e9b-8a4a29194d95"
      },
      "execution_count": 34,
      "outputs": [
        {
          "output_type": "execute_result",
          "data": {
            "text/plain": [
              "{'accuracy': 81.88976377952756,\n",
              " 'precision': 0.8277969908744978,\n",
              " 'recall': 0.8188976377952756,\n",
              " 'f1': 0.8150344270074752}"
            ]
          },
          "metadata": {},
          "execution_count": 34
        }
      ]
    },
    {
      "cell_type": "markdown",
      "source": [
        "# Model 1: Feed-forward neural network (dense model)"
      ],
      "metadata": {
        "id": "SChxAOXHPBxK"
      }
    },
    {
      "cell_type": "code",
      "source": [
        "# Create a tensorboard callback (need to create a new one for each model)\n",
        "from helper_functions import create_tensorboard_callback\n",
        "\n",
        "# Create a directory to save Tensorboard logs\n",
        "SAVE_DIR = \"model_logs\"\n",
        "\n",
        "# Build model with the Functional API\n",
        "from tensorflow.keras import layers\n",
        "inputs = layers.Input(shape=(1,), dtype=tf.string) # inputs are 1D strings\n",
        "x = text_vectorizer(inputs) # turn input text into numbers\n",
        "x = embedding(x) # create an embedding of the numberized inputs\n",
        "x = layers.GlobalAveragePooling1D()(x)\n",
        "outputs = layers.Dense(1, activation=\"sigmoid\")(x) # Create output layer, want binary outputs\n",
        "model_1 = tf.keras.Model(inputs, outputs, name=\"model_1_dense\")"
      ],
      "metadata": {
        "id": "0KNsJruAPv-x"
      },
      "execution_count": 35,
      "outputs": []
    },
    {
      "cell_type": "code",
      "source": [
        "model_1.summary()"
      ],
      "metadata": {
        "colab": {
          "base_uri": "https://localhost:8080/"
        },
        "id": "gbUtEzQ-Qm48",
        "outputId": "f9e9ee5a-c516-40c8-92ff-8ed2f82b4320"
      },
      "execution_count": 36,
      "outputs": [
        {
          "output_type": "stream",
          "name": "stdout",
          "text": [
            "Model: \"model_1_dense\"\n",
            "_________________________________________________________________\n",
            " Layer (type)                Output Shape              Param #   \n",
            "=================================================================\n",
            " input_1 (InputLayer)        [(None, 1)]               0         \n",
            "                                                                 \n",
            " text_vectorization_1 (Text  (None, 15)                0         \n",
            " Vectorization)                                                  \n",
            "                                                                 \n",
            " embedding (Embedding)       (None, 15, 128)           1280000   \n",
            "                                                                 \n",
            " global_average_pooling1d (  (None, 128)               0         \n",
            " GlobalAveragePooling1D)                                         \n",
            "                                                                 \n",
            " dense (Dense)               (None, 1)                 129       \n",
            "                                                                 \n",
            "=================================================================\n",
            "Total params: 1280129 (4.88 MB)\n",
            "Trainable params: 1280129 (4.88 MB)\n",
            "Non-trainable params: 0 (0.00 Byte)\n",
            "_________________________________________________________________\n"
          ]
        }
      ]
    },
    {
      "cell_type": "code",
      "source": [
        "# Compile model\n",
        "model_1.compile(loss=\"binary_crossentropy\",\n",
        "                optimizer=tf.keras.optimizers.Adam(),\n",
        "                metrics=[\"accuracy\"])"
      ],
      "metadata": {
        "id": "0yvDPtc9Qonz"
      },
      "execution_count": 37,
      "outputs": []
    },
    {
      "cell_type": "code",
      "source": [
        "# Fit model\n",
        "model_1_history = model_1.fit(train_sentences,\n",
        "                              train_labels,\n",
        "                              epochs=5,\n",
        "                              validation_data=(validation_sentences, val_labels),\n",
        "                              callbacks=[create_tensorboard_callback(dir_name=SAVE_DIR,\n",
        "                                                                     experiment_name=\"model_1_dense\")])"
      ],
      "metadata": {
        "colab": {
          "base_uri": "https://localhost:8080/"
        },
        "id": "aprjl4ipQ6Eb",
        "outputId": "f87664f4-66b2-46f9-a280-e2583bd85fa9"
      },
      "execution_count": 38,
      "outputs": [
        {
          "output_type": "stream",
          "name": "stdout",
          "text": [
            "Saving TensorBoard log files to: model_logs/model_1_dense/20240514-233651\n",
            "Epoch 1/5\n",
            "215/215 [==============================] - 21s 75ms/step - loss: 0.6103 - accuracy: 0.6970 - val_loss: 0.5100 - val_accuracy: 0.7638\n",
            "Epoch 2/5\n",
            "215/215 [==============================] - 3s 12ms/step - loss: 0.4439 - accuracy: 0.8181 - val_loss: 0.4274 - val_accuracy: 0.8163\n",
            "Epoch 3/5\n",
            "215/215 [==============================] - 1s 6ms/step - loss: 0.3502 - accuracy: 0.8578 - val_loss: 0.4116 - val_accuracy: 0.8202\n",
            "Epoch 4/5\n",
            "215/215 [==============================] - 2s 7ms/step - loss: 0.2873 - accuracy: 0.8894 - val_loss: 0.4128 - val_accuracy: 0.8241\n",
            "Epoch 5/5\n",
            "215/215 [==============================] - 1s 5ms/step - loss: 0.2399 - accuracy: 0.9111 - val_loss: 0.4359 - val_accuracy: 0.8136\n"
          ]
        }
      ]
    },
    {
      "cell_type": "code",
      "source": [
        "# Check the results\n",
        "model_1.evaluate(validation_sentences, val_labels)"
      ],
      "metadata": {
        "colab": {
          "base_uri": "https://localhost:8080/"
        },
        "id": "MOAicrBERLUS",
        "outputId": "c03a75d1-15e8-446d-b72b-c08eae5504a8"
      },
      "execution_count": 39,
      "outputs": [
        {
          "output_type": "stream",
          "name": "stdout",
          "text": [
            "24/24 [==============================] - 0s 3ms/step - loss: 0.4359 - accuracy: 0.8136\n"
          ]
        },
        {
          "output_type": "execute_result",
          "data": {
            "text/plain": [
              "[0.4358624219894409, 0.8136482834815979]"
            ]
          },
          "metadata": {},
          "execution_count": 39
        }
      ]
    },
    {
      "cell_type": "code",
      "source": [
        "# make some predictions and evaluate those\n",
        "model_1_pred_probs = model_1.predict(validation_sentences)\n",
        "model_1_pred_probs"
      ],
      "metadata": {
        "colab": {
          "base_uri": "https://localhost:8080/"
        },
        "id": "6BKmzr24SGtT",
        "outputId": "f27558d6-8723-47ee-afde-ffe45ab74ffb"
      },
      "execution_count": 40,
      "outputs": [
        {
          "output_type": "stream",
          "name": "stdout",
          "text": [
            "24/24 [==============================] - 0s 2ms/step\n"
          ]
        },
        {
          "output_type": "execute_result",
          "data": {
            "text/plain": [
              "array([[0.5921299 ],\n",
              "       [0.20305535],\n",
              "       [0.9847761 ],\n",
              "       [0.5712759 ],\n",
              "       [0.1510141 ],\n",
              "       [0.1920922 ],\n",
              "       [0.9995591 ],\n",
              "       [0.9270448 ],\n",
              "       [0.11726514],\n",
              "       [0.12652193],\n",
              "       [0.838892  ],\n",
              "       [0.63247997],\n",
              "       [0.01379389],\n",
              "       [0.95699036],\n",
              "       [0.08986318],\n",
              "       [0.9426542 ],\n",
              "       [0.09004676],\n",
              "       [0.07043011],\n",
              "       [0.01703222],\n",
              "       [0.06221628],\n",
              "       [0.93048346],\n",
              "       [0.9956689 ],\n",
              "       [0.9997695 ],\n",
              "       [0.27069587],\n",
              "       [0.0569551 ],\n",
              "       [0.998192  ],\n",
              "       [0.60674775],\n",
              "       [0.3711148 ],\n",
              "       [0.476662  ],\n",
              "       [0.30795345],\n",
              "       [0.93777305],\n",
              "       [0.27614287],\n",
              "       [0.3548748 ],\n",
              "       [0.4945271 ],\n",
              "       [0.14435792],\n",
              "       [0.9965056 ],\n",
              "       [0.02557193],\n",
              "       [0.15581545],\n",
              "       [0.14610925],\n",
              "       [0.98756695],\n",
              "       [0.84782827],\n",
              "       [0.8924034 ],\n",
              "       [0.9960647 ],\n",
              "       [0.98096263],\n",
              "       [0.8627444 ],\n",
              "       [0.966169  ],\n",
              "       [0.2710194 ],\n",
              "       [0.6457594 ],\n",
              "       [0.9996333 ],\n",
              "       [0.9843299 ],\n",
              "       [0.00921605],\n",
              "       [0.02997379],\n",
              "       [0.03104834],\n",
              "       [0.10439733],\n",
              "       [0.09420515],\n",
              "       [0.4144895 ],\n",
              "       [0.7908806 ],\n",
              "       [0.9862817 ],\n",
              "       [0.04712111],\n",
              "       [0.05863405],\n",
              "       [0.1866169 ],\n",
              "       [0.44715992],\n",
              "       [0.35991418],\n",
              "       [0.645063  ],\n",
              "       [0.11669942],\n",
              "       [0.9648927 ],\n",
              "       [0.31901652],\n",
              "       [0.35267675],\n",
              "       [0.17381215],\n",
              "       [0.95656085],\n",
              "       [0.9917169 ],\n",
              "       [0.9381392 ],\n",
              "       [0.9072565 ],\n",
              "       [0.9999567 ],\n",
              "       [0.8221785 ],\n",
              "       [0.0519842 ],\n",
              "       [0.13324164],\n",
              "       [0.9724998 ],\n",
              "       [0.04535295],\n",
              "       [0.6285969 ],\n",
              "       [0.17029771],\n",
              "       [0.04390118],\n",
              "       [0.95330054],\n",
              "       [0.15043104],\n",
              "       [0.9996501 ],\n",
              "       [0.8649999 ],\n",
              "       [0.99467874],\n",
              "       [0.96311253],\n",
              "       [0.00648177],\n",
              "       [0.8809061 ],\n",
              "       [0.6986495 ],\n",
              "       [0.58548737],\n",
              "       [0.45070398],\n",
              "       [0.18314774],\n",
              "       [0.686519  ],\n",
              "       [0.00942374],\n",
              "       [0.34878725],\n",
              "       [0.7286206 ],\n",
              "       [0.092393  ],\n",
              "       [0.02322721],\n",
              "       [0.70293707],\n",
              "       [0.40944478],\n",
              "       [0.38792092],\n",
              "       [0.14013743],\n",
              "       [0.13334855],\n",
              "       [0.99952185],\n",
              "       [0.79256594],\n",
              "       [0.36477354],\n",
              "       [0.06050731],\n",
              "       [0.6872284 ],\n",
              "       [0.5820453 ],\n",
              "       [0.9912431 ],\n",
              "       [0.99095684],\n",
              "       [0.5435466 ],\n",
              "       [0.56157494],\n",
              "       [0.54902714],\n",
              "       [0.96514577],\n",
              "       [0.00982695],\n",
              "       [0.33843705],\n",
              "       [0.98662543],\n",
              "       [0.97204465],\n",
              "       [0.06127494],\n",
              "       [0.4940202 ],\n",
              "       [0.9814917 ],\n",
              "       [0.99960595],\n",
              "       [0.07498332],\n",
              "       [0.18526122],\n",
              "       [0.92932945],\n",
              "       [0.05180012],\n",
              "       [0.638587  ],\n",
              "       [0.514369  ],\n",
              "       [0.76233846],\n",
              "       [0.11411769],\n",
              "       [0.00129779],\n",
              "       [0.07430805],\n",
              "       [0.05196444],\n",
              "       [0.21340363],\n",
              "       [0.99968183],\n",
              "       [0.18739502],\n",
              "       [0.00656636],\n",
              "       [0.15867804],\n",
              "       [0.9990972 ],\n",
              "       [0.04295134],\n",
              "       [0.12025779],\n",
              "       [0.4442617 ],\n",
              "       [0.95617396],\n",
              "       [0.08232422],\n",
              "       [0.18137209],\n",
              "       [0.33437657],\n",
              "       [0.34703743],\n",
              "       [0.21897092],\n",
              "       [0.24787803],\n",
              "       [0.29242545],\n",
              "       [0.60064876],\n",
              "       [0.32834768],\n",
              "       [0.6240484 ],\n",
              "       [0.5090614 ],\n",
              "       [0.9636449 ],\n",
              "       [0.79724985],\n",
              "       [0.05580974],\n",
              "       [0.68341446],\n",
              "       [0.2541319 ],\n",
              "       [0.06911304],\n",
              "       [0.14783674],\n",
              "       [0.03457377],\n",
              "       [0.06391404],\n",
              "       [0.7584659 ],\n",
              "       [0.16125757],\n",
              "       [0.9997526 ],\n",
              "       [0.354439  ],\n",
              "       [0.75128096],\n",
              "       [0.9724229 ],\n",
              "       [0.2468405 ],\n",
              "       [0.9395037 ],\n",
              "       [0.50100654],\n",
              "       [0.10434784],\n",
              "       [0.99413043],\n",
              "       [0.5642164 ],\n",
              "       [0.99095684],\n",
              "       [0.03165773],\n",
              "       [0.9204474 ],\n",
              "       [0.14950004],\n",
              "       [0.27842063],\n",
              "       [0.02474306],\n",
              "       [0.1747381 ],\n",
              "       [0.1484271 ],\n",
              "       [0.540662  ],\n",
              "       [0.8584873 ],\n",
              "       [0.07694727],\n",
              "       [0.02837813],\n",
              "       [0.9964191 ],\n",
              "       [0.9982815 ],\n",
              "       [0.13050401],\n",
              "       [0.09612254],\n",
              "       [0.99757975],\n",
              "       [0.63351303],\n",
              "       [0.30129582],\n",
              "       [0.58627105],\n",
              "       [0.10962649],\n",
              "       [0.9072565 ],\n",
              "       [0.03675635],\n",
              "       [0.30895323],\n",
              "       [0.02967621],\n",
              "       [0.10358524],\n",
              "       [0.7643022 ],\n",
              "       [0.9997161 ],\n",
              "       [0.02531304],\n",
              "       [0.99960464],\n",
              "       [0.9993754 ],\n",
              "       [0.6442229 ],\n",
              "       [0.28462952],\n",
              "       [0.63671124],\n",
              "       [0.15595831],\n",
              "       [0.20103468],\n",
              "       [0.9978421 ],\n",
              "       [0.9988024 ],\n",
              "       [0.28860828],\n",
              "       [0.33722335],\n",
              "       [0.6710656 ],\n",
              "       [0.7878418 ],\n",
              "       [0.9871579 ],\n",
              "       [0.30860546],\n",
              "       [0.04367823],\n",
              "       [0.99918026],\n",
              "       [0.23498362],\n",
              "       [0.01833495],\n",
              "       [0.2748237 ],\n",
              "       [0.41115344],\n",
              "       [0.99907243],\n",
              "       [0.47388613],\n",
              "       [0.21446341],\n",
              "       [0.10042433],\n",
              "       [0.27792975],\n",
              "       [0.07749889],\n",
              "       [0.8166278 ],\n",
              "       [0.9201376 ],\n",
              "       [0.4058717 ],\n",
              "       [0.539591  ],\n",
              "       [0.1322176 ],\n",
              "       [0.9990972 ],\n",
              "       [0.9631758 ],\n",
              "       [0.00778341],\n",
              "       [0.99968183],\n",
              "       [0.19255315],\n",
              "       [0.451014  ],\n",
              "       [0.01846614],\n",
              "       [0.28170136],\n",
              "       [0.40218318],\n",
              "       [0.97892135],\n",
              "       [0.98235244],\n",
              "       [0.98452455],\n",
              "       [0.09090024],\n",
              "       [0.06155597],\n",
              "       [0.11915699],\n",
              "       [0.9954596 ],\n",
              "       [0.2045492 ],\n",
              "       [0.99792224],\n",
              "       [0.7852422 ],\n",
              "       [0.7548703 ],\n",
              "       [0.20526755],\n",
              "       [0.992523  ],\n",
              "       [0.39389062],\n",
              "       [0.02282869],\n",
              "       [0.11013217],\n",
              "       [0.01279179],\n",
              "       [0.15374424],\n",
              "       [0.99850625],\n",
              "       [0.9972198 ],\n",
              "       [0.8595069 ],\n",
              "       [0.01183269],\n",
              "       [0.70641744],\n",
              "       [0.7990617 ],\n",
              "       [0.05110354],\n",
              "       [0.46692613],\n",
              "       [0.33361268],\n",
              "       [0.12041552],\n",
              "       [0.33785716],\n",
              "       [0.4005227 ],\n",
              "       [0.17207582],\n",
              "       [0.7057115 ],\n",
              "       [0.15197237],\n",
              "       [0.26922354],\n",
              "       [0.56101114],\n",
              "       [0.04741451],\n",
              "       [0.69259685],\n",
              "       [0.20874138],\n",
              "       [0.7090449 ],\n",
              "       [0.09275208],\n",
              "       [0.20396551],\n",
              "       [0.18720168],\n",
              "       [0.82509327],\n",
              "       [0.11037458],\n",
              "       [0.368759  ],\n",
              "       [0.30601817],\n",
              "       [0.32111055],\n",
              "       [0.59791946],\n",
              "       [0.01968982],\n",
              "       [0.8962266 ],\n",
              "       [0.51696455],\n",
              "       [0.70374864],\n",
              "       [0.9610059 ],\n",
              "       [0.2298924 ],\n",
              "       [0.79469275],\n",
              "       [0.27445644],\n",
              "       [0.8815255 ],\n",
              "       [0.8455936 ],\n",
              "       [0.8438005 ],\n",
              "       [0.79296404],\n",
              "       [0.25335476],\n",
              "       [0.71044105],\n",
              "       [0.42095298],\n",
              "       [0.07687056],\n",
              "       [0.9325785 ],\n",
              "       [0.9996226 ],\n",
              "       [0.03313315],\n",
              "       [0.7044265 ],\n",
              "       [0.97241914],\n",
              "       [0.9956689 ],\n",
              "       [0.39113316],\n",
              "       [0.15041924],\n",
              "       [0.98451555],\n",
              "       [0.07678138],\n",
              "       [0.76405966],\n",
              "       [0.88953626],\n",
              "       [0.23187728],\n",
              "       [0.7639693 ],\n",
              "       [0.98246324],\n",
              "       [0.12041754],\n",
              "       [0.02356014],\n",
              "       [0.18341044],\n",
              "       [0.0062994 ],\n",
              "       [0.99688065],\n",
              "       [0.19185501],\n",
              "       [0.12858742],\n",
              "       [0.9917169 ],\n",
              "       [0.96365887],\n",
              "       [0.13028458],\n",
              "       [0.91996735],\n",
              "       [0.9837446 ],\n",
              "       [0.41348454],\n",
              "       [0.9860833 ],\n",
              "       [0.95922667],\n",
              "       [0.20243587],\n",
              "       [0.09420329],\n",
              "       [0.7799009 ],\n",
              "       [0.15222193],\n",
              "       [0.9965996 ],\n",
              "       [0.47365552],\n",
              "       [0.1088004 ],\n",
              "       [0.30768862],\n",
              "       [0.9997036 ],\n",
              "       [0.42024112],\n",
              "       [0.7295709 ],\n",
              "       [0.99779654],\n",
              "       [0.96731704],\n",
              "       [0.050883  ],\n",
              "       [0.7753819 ],\n",
              "       [0.07802693],\n",
              "       [0.06110279],\n",
              "       [0.0526972 ],\n",
              "       [0.8813092 ],\n",
              "       [0.01625805],\n",
              "       [0.23528303],\n",
              "       [0.32140082],\n",
              "       [0.08024707],\n",
              "       [0.6382703 ],\n",
              "       [0.9405408 ],\n",
              "       [0.04318126],\n",
              "       [0.93357277],\n",
              "       [0.08174773],\n",
              "       [0.9799724 ],\n",
              "       [0.7732298 ],\n",
              "       [0.16642663],\n",
              "       [0.09781624],\n",
              "       [0.81519955],\n",
              "       [0.27692938],\n",
              "       [0.54258114],\n",
              "       [0.01122783],\n",
              "       [0.80958194],\n",
              "       [0.84898025],\n",
              "       [0.07680829],\n",
              "       [0.6804605 ],\n",
              "       [0.74612683],\n",
              "       [0.05326864],\n",
              "       [0.7564548 ],\n",
              "       [0.3749893 ],\n",
              "       [0.00618983],\n",
              "       [0.40036952],\n",
              "       [0.09187274],\n",
              "       [0.9771992 ],\n",
              "       [0.26153365],\n",
              "       [0.95065993],\n",
              "       [0.4635946 ],\n",
              "       [0.01872877],\n",
              "       [0.75186497],\n",
              "       [0.01011834],\n",
              "       [0.9722797 ],\n",
              "       [0.6684742 ],\n",
              "       [0.99778783],\n",
              "       [0.42825663],\n",
              "       [0.65093195],\n",
              "       [0.05292477],\n",
              "       [0.20929965],\n",
              "       [0.1742968 ],\n",
              "       [0.24337634],\n",
              "       [0.02872621],\n",
              "       [0.069657  ],\n",
              "       [0.56906253],\n",
              "       [0.7628038 ],\n",
              "       [0.4307959 ],\n",
              "       [0.08715388],\n",
              "       [0.9968265 ],\n",
              "       [0.9608601 ],\n",
              "       [0.99801135],\n",
              "       [0.11567142],\n",
              "       [0.10024497],\n",
              "       [0.9997036 ],\n",
              "       [0.98259073],\n",
              "       [0.07531977],\n",
              "       [0.4635946 ],\n",
              "       [0.7340454 ],\n",
              "       [0.15323754],\n",
              "       [0.53989536],\n",
              "       [0.56390303],\n",
              "       [0.14277801],\n",
              "       [0.00282598],\n",
              "       [0.04345216],\n",
              "       [0.06636452],\n",
              "       [0.18775727],\n",
              "       [0.13803034],\n",
              "       [0.05198476],\n",
              "       [0.08067416],\n",
              "       [0.70194733],\n",
              "       [0.5702204 ],\n",
              "       [0.28738132],\n",
              "       [0.992295  ],\n",
              "       [0.24850228],\n",
              "       [0.14607437],\n",
              "       [0.34852332],\n",
              "       [0.97487533],\n",
              "       [0.34783873],\n",
              "       [0.99843234],\n",
              "       [0.6024726 ],\n",
              "       [0.03645192],\n",
              "       [0.07230919],\n",
              "       [0.40548456],\n",
              "       [0.44845158],\n",
              "       [0.06332832],\n",
              "       [0.22301397],\n",
              "       [0.10776995],\n",
              "       [0.01397699],\n",
              "       [0.99933016],\n",
              "       [0.9999478 ],\n",
              "       [0.9996333 ],\n",
              "       [0.99613476],\n",
              "       [0.18787451],\n",
              "       [0.12602776],\n",
              "       [0.05978774],\n",
              "       [0.43851712],\n",
              "       [0.66815656],\n",
              "       [0.662956  ],\n",
              "       [0.80399525],\n",
              "       [0.2820203 ],\n",
              "       [0.48295206],\n",
              "       [0.63849866],\n",
              "       [0.10178144],\n",
              "       [0.8221785 ],\n",
              "       [0.1270859 ],\n",
              "       [0.09217531],\n",
              "       [0.9892051 ],\n",
              "       [0.917245  ],\n",
              "       [0.15790398],\n",
              "       [0.99933016],\n",
              "       [0.34783873],\n",
              "       [0.28105086],\n",
              "       [0.04133312],\n",
              "       [0.27488577],\n",
              "       [0.08779638],\n",
              "       [0.40643874],\n",
              "       [0.7631279 ],\n",
              "       [0.87375957],\n",
              "       [0.13127424],\n",
              "       [0.23865281],\n",
              "       [0.39449242],\n",
              "       [0.08287648],\n",
              "       [0.14943431],\n",
              "       [0.43876576],\n",
              "       [0.99844366],\n",
              "       [0.1486701 ],\n",
              "       [0.04297852],\n",
              "       [0.18134557],\n",
              "       [0.2360623 ],\n",
              "       [0.40802854],\n",
              "       [0.9868283 ],\n",
              "       [0.02929291],\n",
              "       [0.99968076],\n",
              "       [0.9997832 ],\n",
              "       [0.9834948 ],\n",
              "       [0.9806583 ],\n",
              "       [0.9997036 ],\n",
              "       [0.22472188],\n",
              "       [0.11138067],\n",
              "       [0.9520555 ],\n",
              "       [0.69230896],\n",
              "       [0.1071514 ],\n",
              "       [0.00340044],\n",
              "       [0.6313977 ],\n",
              "       [0.83073497],\n",
              "       [0.00649   ],\n",
              "       [0.06820743],\n",
              "       [0.01060188],\n",
              "       [0.37722751],\n",
              "       [0.72279495],\n",
              "       [0.70892125],\n",
              "       [0.87193733],\n",
              "       [0.20217098],\n",
              "       [0.20581487],\n",
              "       [0.5245401 ],\n",
              "       [0.22014846],\n",
              "       [0.8901839 ],\n",
              "       [0.9996363 ],\n",
              "       [0.18709671],\n",
              "       [0.5043838 ],\n",
              "       [0.4468583 ],\n",
              "       [0.7272357 ],\n",
              "       [0.09840024],\n",
              "       [0.05109011],\n",
              "       [0.08059096],\n",
              "       [0.8100438 ],\n",
              "       [0.98285896],\n",
              "       [0.4967857 ],\n",
              "       [0.49436146],\n",
              "       [0.5201741 ],\n",
              "       [0.9957366 ],\n",
              "       [0.12828846],\n",
              "       [0.5565102 ],\n",
              "       [0.46227843],\n",
              "       [0.00129779],\n",
              "       [0.9772904 ],\n",
              "       [0.75286955],\n",
              "       [0.01730734],\n",
              "       [0.19934602],\n",
              "       [0.15022618],\n",
              "       [0.9509336 ],\n",
              "       [0.993316  ],\n",
              "       [0.15462294],\n",
              "       [0.9917169 ],\n",
              "       [0.03580359],\n",
              "       [0.17532969],\n",
              "       [0.05587355],\n",
              "       [0.99844366],\n",
              "       [0.93189526],\n",
              "       [0.87417513],\n",
              "       [0.9951186 ],\n",
              "       [0.5447669 ],\n",
              "       [0.99912935],\n",
              "       [0.2265796 ],\n",
              "       [0.19481981],\n",
              "       [0.9975504 ],\n",
              "       [0.6105353 ],\n",
              "       [0.04420776],\n",
              "       [0.36103538],\n",
              "       [0.17787184],\n",
              "       [0.9100561 ],\n",
              "       [0.00823918],\n",
              "       [0.65060663],\n",
              "       [0.9925991 ],\n",
              "       [0.28105423],\n",
              "       [0.99968183],\n",
              "       [0.10203852],\n",
              "       [0.16913985],\n",
              "       [0.07074107],\n",
              "       [0.7232915 ],\n",
              "       [0.2840894 ],\n",
              "       [0.7820031 ],\n",
              "       [0.3340043 ],\n",
              "       [0.06156213],\n",
              "       [0.5581162 ],\n",
              "       [0.9917169 ],\n",
              "       [0.96196324],\n",
              "       [0.03248359],\n",
              "       [0.9832855 ],\n",
              "       [0.9971513 ],\n",
              "       [0.99095684],\n",
              "       [0.92593664],\n",
              "       [0.12862086],\n",
              "       [0.06818073],\n",
              "       [0.986796  ],\n",
              "       [0.9411917 ],\n",
              "       [0.08231935],\n",
              "       [0.5473326 ],\n",
              "       [0.57714653],\n",
              "       [0.05192994],\n",
              "       [0.9922908 ],\n",
              "       [0.1807544 ],\n",
              "       [0.65081596],\n",
              "       [0.40723956],\n",
              "       [0.6269151 ],\n",
              "       [0.71050376],\n",
              "       [0.9917169 ],\n",
              "       [0.39766282],\n",
              "       [0.7635482 ],\n",
              "       [0.95389783],\n",
              "       [0.84596854],\n",
              "       [0.9268613 ],\n",
              "       [0.49205023],\n",
              "       [0.39335313],\n",
              "       [0.08791992],\n",
              "       [0.35904354],\n",
              "       [0.56973255],\n",
              "       [0.9159636 ],\n",
              "       [0.06584774],\n",
              "       [0.2754718 ],\n",
              "       [0.32778648],\n",
              "       [0.5843246 ],\n",
              "       [0.01254048],\n",
              "       [0.06299184],\n",
              "       [0.99648345],\n",
              "       [0.18546426],\n",
              "       [0.94863856],\n",
              "       [0.9924861 ],\n",
              "       [0.6379155 ],\n",
              "       [0.02254882],\n",
              "       [0.7052915 ],\n",
              "       [0.07353537],\n",
              "       [0.13701977],\n",
              "       [0.06782529],\n",
              "       [0.12524606],\n",
              "       [0.539858  ],\n",
              "       [0.05243693],\n",
              "       [0.6298644 ],\n",
              "       [0.21564656],\n",
              "       [0.5346165 ],\n",
              "       [0.9979386 ],\n",
              "       [0.0062994 ],\n",
              "       [0.79142696],\n",
              "       [0.09702606],\n",
              "       [0.73422116],\n",
              "       [0.6636781 ],\n",
              "       [0.35831878],\n",
              "       [0.21487519],\n",
              "       [0.24583918],\n",
              "       [0.6043465 ],\n",
              "       [0.9893913 ],\n",
              "       [0.10348444],\n",
              "       [0.98229563],\n",
              "       [0.19964677],\n",
              "       [0.03783757],\n",
              "       [0.9779072 ],\n",
              "       [0.26208398],\n",
              "       [0.8167542 ],\n",
              "       [0.91559505],\n",
              "       [0.20385088],\n",
              "       [0.15447877],\n",
              "       [0.1199565 ],\n",
              "       [0.82073176],\n",
              "       [0.9995173 ],\n",
              "       [0.23890056],\n",
              "       [0.05183267],\n",
              "       [0.49560088],\n",
              "       [0.22980957],\n",
              "       [0.04667699],\n",
              "       [0.34134635],\n",
              "       [0.6016813 ],\n",
              "       [0.00353419],\n",
              "       [0.99316823],\n",
              "       [0.01701458],\n",
              "       [0.05063316],\n",
              "       [0.18949586],\n",
              "       [0.98521715],\n",
              "       [0.43690047],\n",
              "       [0.8625747 ],\n",
              "       [0.2468405 ],\n",
              "       [0.24396615],\n",
              "       [0.9380433 ],\n",
              "       [0.4331    ],\n",
              "       [0.7663211 ],\n",
              "       [0.82940215],\n",
              "       [0.6218188 ],\n",
              "       [0.11129697],\n",
              "       [0.6323005 ],\n",
              "       [0.01474371],\n",
              "       [0.18671799],\n",
              "       [0.97514987],\n",
              "       [0.97998613],\n",
              "       [0.87564313],\n",
              "       [0.29647708],\n",
              "       [0.05947607],\n",
              "       [0.9997832 ],\n",
              "       [0.05054352],\n",
              "       [0.65161157],\n",
              "       [0.17097923],\n",
              "       [0.8475676 ],\n",
              "       [0.99933714],\n",
              "       [0.04834415],\n",
              "       [0.30269262],\n",
              "       [0.02420934],\n",
              "       [0.99797803],\n",
              "       [0.27636337],\n",
              "       [0.06258652],\n",
              "       [0.99844366],\n",
              "       [0.07120828],\n",
              "       [0.99844366],\n",
              "       [0.99844366],\n",
              "       [0.99958616],\n",
              "       [0.30466834],\n",
              "       [0.61491346],\n",
              "       [0.2581324 ],\n",
              "       [0.02139129],\n",
              "       [0.46404734],\n",
              "       [0.77646416],\n",
              "       [0.60140026],\n",
              "       [0.88734007],\n",
              "       [0.9204014 ],\n",
              "       [0.8346372 ],\n",
              "       [0.29263982],\n",
              "       [0.7155582 ],\n",
              "       [0.8073522 ],\n",
              "       [0.07088242],\n",
              "       [0.09403986],\n",
              "       [0.178449  ],\n",
              "       [0.89906615],\n",
              "       [0.03668912],\n",
              "       [0.21088591],\n",
              "       [0.4372652 ],\n",
              "       [0.11446789],\n",
              "       [0.4519047 ],\n",
              "       [0.03180262],\n",
              "       [0.97776365],\n",
              "       [0.32206944],\n",
              "       [0.99913603],\n",
              "       [0.97522664],\n",
              "       [0.999783  ],\n",
              "       [0.93477756],\n",
              "       [0.9982345 ],\n",
              "       [0.9994716 ],\n",
              "       [0.99453425],\n",
              "       [0.19980627],\n",
              "       [0.21495593],\n",
              "       [0.43128762],\n",
              "       [0.09365663],\n",
              "       [0.95267284],\n",
              "       [0.20706135],\n",
              "       [0.78782403],\n",
              "       [0.98393863],\n",
              "       [0.14554408],\n",
              "       [0.8477949 ],\n",
              "       [0.9965056 ],\n",
              "       [0.759437  ],\n",
              "       [0.27140543],\n",
              "       [0.49677768],\n",
              "       [0.9237492 ],\n",
              "       [0.08846347],\n",
              "       [0.9990553 ],\n",
              "       [0.23397556],\n",
              "       [0.9912431 ],\n",
              "       [0.07404184],\n",
              "       [0.18100773],\n",
              "       [0.25169444],\n",
              "       [0.12564902],\n",
              "       [0.8312663 ],\n",
              "       [0.35612294]], dtype=float32)"
            ]
          },
          "metadata": {},
          "execution_count": 40
        }
      ]
    },
    {
      "cell_type": "code",
      "source": [
        "# Convert model prediction probabilites to label format\n",
        "model_1_preds = tf.squeeze(tf.round(model_1_pred_probs))\n",
        "model_1_preds"
      ],
      "metadata": {
        "colab": {
          "base_uri": "https://localhost:8080/"
        },
        "id": "XP6EMp_UTiov",
        "outputId": "779541da-8085-4c53-8394-1c04cc48dd1a"
      },
      "execution_count": 41,
      "outputs": [
        {
          "output_type": "execute_result",
          "data": {
            "text/plain": [
              "<tf.Tensor: shape=(762,), dtype=float32, numpy=\n",
              "array([1., 0., 1., 1., 0., 0., 1., 1., 0., 0., 1., 1., 0., 1., 0., 1., 0.,\n",
              "       0., 0., 0., 1., 1., 1., 0., 0., 1., 1., 0., 0., 0., 1., 0., 0., 0.,\n",
              "       0., 1., 0., 0., 0., 1., 1., 1., 1., 1., 1., 1., 0., 1., 1., 1., 0.,\n",
              "       0., 0., 0., 0., 0., 1., 1., 0., 0., 0., 0., 0., 1., 0., 1., 0., 0.,\n",
              "       0., 1., 1., 1., 1., 1., 1., 0., 0., 1., 0., 1., 0., 0., 1., 0., 1.,\n",
              "       1., 1., 1., 0., 1., 1., 1., 0., 0., 1., 0., 0., 1., 0., 0., 1., 0.,\n",
              "       0., 0., 0., 1., 1., 0., 0., 1., 1., 1., 1., 1., 1., 1., 1., 0., 0.,\n",
              "       1., 1., 0., 0., 1., 1., 0., 0., 1., 0., 1., 1., 1., 0., 0., 0., 0.,\n",
              "       0., 1., 0., 0., 0., 1., 0., 0., 0., 1., 0., 0., 0., 0., 0., 0., 0.,\n",
              "       1., 0., 1., 1., 1., 1., 0., 1., 0., 0., 0., 0., 0., 1., 0., 1., 0.,\n",
              "       1., 1., 0., 1., 1., 0., 1., 1., 1., 0., 1., 0., 0., 0., 0., 0., 1.,\n",
              "       1., 0., 0., 1., 1., 0., 0., 1., 1., 0., 1., 0., 1., 0., 0., 0., 0.,\n",
              "       1., 1., 0., 1., 1., 1., 0., 1., 0., 0., 1., 1., 0., 0., 1., 1., 1.,\n",
              "       0., 0., 1., 0., 0., 0., 0., 1., 0., 0., 0., 0., 0., 1., 1., 0., 1.,\n",
              "       0., 1., 1., 0., 1., 0., 0., 0., 0., 0., 1., 1., 1., 0., 0., 0., 1.,\n",
              "       0., 1., 1., 1., 0., 1., 0., 0., 0., 0., 0., 1., 1., 1., 0., 1., 1.,\n",
              "       0., 0., 0., 0., 0., 0., 0., 1., 0., 0., 1., 0., 1., 0., 1., 0., 0.,\n",
              "       0., 1., 0., 0., 0., 0., 1., 0., 1., 1., 1., 1., 0., 1., 0., 1., 1.,\n",
              "       1., 1., 0., 1., 0., 0., 1., 1., 0., 1., 1., 1., 0., 0., 1., 0., 1.,\n",
              "       1., 0., 1., 1., 0., 0., 0., 0., 1., 0., 0., 1., 1., 0., 1., 1., 0.,\n",
              "       1., 1., 0., 0., 1., 0., 1., 0., 0., 0., 1., 0., 1., 1., 1., 0., 1.,\n",
              "       0., 0., 0., 1., 0., 0., 0., 0., 1., 1., 0., 1., 0., 1., 1., 0., 0.,\n",
              "       1., 0., 1., 0., 1., 1., 0., 1., 1., 0., 1., 0., 0., 0., 0., 1., 0.,\n",
              "       1., 0., 0., 1., 0., 1., 1., 1., 0., 1., 0., 0., 0., 0., 0., 0., 1.,\n",
              "       1., 0., 0., 1., 1., 1., 0., 0., 1., 1., 0., 0., 1., 0., 1., 1., 0.,\n",
              "       0., 0., 0., 0., 0., 0., 0., 1., 1., 0., 1., 0., 0., 0., 1., 0., 1.,\n",
              "       1., 0., 0., 0., 0., 0., 0., 0., 0., 1., 1., 1., 1., 0., 0., 0., 0.,\n",
              "       1., 1., 1., 0., 0., 1., 0., 1., 0., 0., 1., 1., 0., 1., 0., 0., 0.,\n",
              "       0., 0., 0., 1., 1., 0., 0., 0., 0., 0., 0., 1., 0., 0., 0., 0., 0.,\n",
              "       1., 0., 1., 1., 1., 1., 1., 0., 0., 1., 1., 0., 0., 1., 1., 0., 0.,\n",
              "       0., 0., 1., 1., 1., 0., 0., 1., 0., 1., 1., 0., 1., 0., 1., 0., 0.,\n",
              "       0., 1., 1., 0., 0., 1., 1., 0., 1., 0., 0., 1., 1., 0., 0., 0., 1.,\n",
              "       1., 0., 1., 0., 0., 0., 1., 1., 1., 1., 1., 1., 0., 0., 1., 1., 0.,\n",
              "       0., 0., 1., 0., 1., 1., 0., 1., 0., 0., 0., 1., 0., 1., 0., 0., 1.,\n",
              "       1., 1., 0., 1., 1., 1., 1., 0., 0., 1., 1., 0., 1., 1., 0., 1., 0.,\n",
              "       1., 0., 1., 1., 1., 0., 1., 1., 1., 1., 0., 0., 0., 0., 1., 1., 0.,\n",
              "       0., 0., 1., 0., 0., 1., 0., 1., 1., 1., 0., 1., 0., 0., 0., 0., 1.,\n",
              "       0., 1., 0., 1., 1., 0., 1., 0., 1., 1., 0., 0., 0., 1., 1., 0., 1.,\n",
              "       0., 0., 1., 0., 1., 1., 0., 0., 0., 1., 1., 0., 0., 0., 0., 0., 0.,\n",
              "       1., 0., 1., 0., 0., 0., 1., 0., 1., 0., 0., 1., 0., 1., 1., 1., 0.,\n",
              "       1., 0., 0., 1., 1., 1., 0., 0., 1., 0., 1., 0., 1., 1., 0., 0., 0.,\n",
              "       1., 0., 0., 1., 0., 1., 1., 1., 0., 1., 0., 0., 0., 1., 1., 1., 1.,\n",
              "       1., 0., 1., 1., 0., 0., 0., 1., 0., 0., 0., 0., 0., 0., 1., 0., 1.,\n",
              "       1., 1., 1., 1., 1., 1., 0., 0., 0., 0., 1., 0., 1., 1., 0., 1., 1.,\n",
              "       1., 0., 0., 1., 0., 1., 0., 1., 0., 0., 0., 0., 1., 0.],\n",
              "      dtype=float32)>"
            ]
          },
          "metadata": {},
          "execution_count": 41
        }
      ]
    },
    {
      "cell_type": "code",
      "source": [
        "# Calculate our model_1 results\n",
        "model_1_results = calculate_results(y_true=val_labels,\n",
        "                                    y_pred=model_1_preds)\n",
        "model_1_results"
      ],
      "metadata": {
        "colab": {
          "base_uri": "https://localhost:8080/"
        },
        "id": "u8ERL84JVaBx",
        "outputId": "56750188-10a3-4f49-ba0b-6a3b3a00efb2"
      },
      "execution_count": 42,
      "outputs": [
        {
          "output_type": "execute_result",
          "data": {
            "text/plain": [
              "{'accuracy': 81.36482939632546,\n",
              " 'precision': 0.8146283413602425,\n",
              " 'recall': 0.8136482939632546,\n",
              " 'f1': 0.8139360017546489}"
            ]
          },
          "metadata": {},
          "execution_count": 42
        }
      ]
    },
    {
      "cell_type": "code",
      "source": [
        "baseline_results"
      ],
      "metadata": {
        "colab": {
          "base_uri": "https://localhost:8080/"
        },
        "id": "IBLPxJhQVnkQ",
        "outputId": "cc6e2984-30a6-4d04-dd67-35b96b598a83"
      },
      "execution_count": 43,
      "outputs": [
        {
          "output_type": "execute_result",
          "data": {
            "text/plain": [
              "{'accuracy': 81.88976377952756,\n",
              " 'precision': 0.8277969908744978,\n",
              " 'recall': 0.8188976377952756,\n",
              " 'f1': 0.8150344270074752}"
            ]
          },
          "metadata": {},
          "execution_count": 43
        }
      ]
    },
    {
      "cell_type": "code",
      "source": [
        "import numpy as np\n",
        "np.array(list(model_1_results.values())) > np.array(list(baseline_results.values()))"
      ],
      "metadata": {
        "colab": {
          "base_uri": "https://localhost:8080/"
        },
        "id": "10RgliZNVu0C",
        "outputId": "3a0d1a58-81ce-4ded-cc22-2aa4e723a38d"
      },
      "execution_count": 44,
      "outputs": [
        {
          "output_type": "execute_result",
          "data": {
            "text/plain": [
              "array([False, False, False, False])"
            ]
          },
          "metadata": {},
          "execution_count": 44
        }
      ]
    },
    {
      "cell_type": "markdown",
      "source": [
        "## Visualizing learned embeddings"
      ],
      "metadata": {
        "id": "j6hEzWJcV5xK"
      }
    },
    {
      "cell_type": "code",
      "source": [
        "# Get the vocabulary from the text vectorization layer\n",
        "words_in_vocab = text_vectorizer.get_vocabulary()\n",
        "len(words_in_vocab), words_in_vocab[:10]"
      ],
      "metadata": {
        "colab": {
          "base_uri": "https://localhost:8080/"
        },
        "id": "x3Af1mvoFgbU",
        "outputId": "0eceab56-9b19-4c96-858a-0c781785b4e4"
      },
      "execution_count": 45,
      "outputs": [
        {
          "output_type": "execute_result",
          "data": {
            "text/plain": [
              "(10000, ['', '[UNK]', 'the', 'a', 'in', 'to', 'of', 'and', 'i', 'is'])"
            ]
          },
          "metadata": {},
          "execution_count": 45
        }
      ]
    },
    {
      "cell_type": "code",
      "source": [
        "# Model 1 Summary\n",
        "model_1.summary()"
      ],
      "metadata": {
        "colab": {
          "base_uri": "https://localhost:8080/"
        },
        "id": "gB6hZMukF3U1",
        "outputId": "994aa741-b47d-42ed-8d4a-a9fd747aa2c3"
      },
      "execution_count": 46,
      "outputs": [
        {
          "output_type": "stream",
          "name": "stdout",
          "text": [
            "Model: \"model_1_dense\"\n",
            "_________________________________________________________________\n",
            " Layer (type)                Output Shape              Param #   \n",
            "=================================================================\n",
            " input_1 (InputLayer)        [(None, 1)]               0         \n",
            "                                                                 \n",
            " text_vectorization_1 (Text  (None, 15)                0         \n",
            " Vectorization)                                                  \n",
            "                                                                 \n",
            " embedding (Embedding)       (None, 15, 128)           1280000   \n",
            "                                                                 \n",
            " global_average_pooling1d (  (None, 128)               0         \n",
            " GlobalAveragePooling1D)                                         \n",
            "                                                                 \n",
            " dense (Dense)               (None, 1)                 129       \n",
            "                                                                 \n",
            "=================================================================\n",
            "Total params: 1280129 (4.88 MB)\n",
            "Trainable params: 1280129 (4.88 MB)\n",
            "Non-trainable params: 0 (0.00 Byte)\n",
            "_________________________________________________________________\n"
          ]
        }
      ]
    },
    {
      "cell_type": "code",
      "source": [
        "# Get the weight matrix of embedding layer\n",
        "# (numerical representations of each token in our training data; learned for 5 epochs)\n",
        "embed_weights = model_1.get_layer(\"embedding\").get_weights()[0]\n",
        "embed_weights"
      ],
      "metadata": {
        "colab": {
          "base_uri": "https://localhost:8080/"
        },
        "id": "DUtcesXYF9_w",
        "outputId": "a05dafe3-f545-4396-b13e-da05431d587e"
      },
      "execution_count": 49,
      "outputs": [
        {
          "output_type": "execute_result",
          "data": {
            "text/plain": [
              "array([[-0.03229857,  0.03336765,  0.00626333, ...,  0.03278893,\n",
              "        -0.04104925,  0.01230796],\n",
              "       [ 0.02443054, -0.03812611, -0.01474192, ...,  0.02704468,\n",
              "        -0.04835341,  0.0336812 ],\n",
              "       [-0.03831653, -0.05545454, -0.02567447, ..., -0.05108311,\n",
              "        -0.05772985,  0.01759041],\n",
              "       ...,\n",
              "       [-0.00124937, -0.05644906, -0.06163419, ..., -0.04367724,\n",
              "        -0.02231612,  0.06829359],\n",
              "       [-0.04113124, -0.02473951, -0.01700935, ..., -0.0640803 ,\n",
              "        -0.07731791,  0.05107474],\n",
              "       [-0.05258676, -0.08267187, -0.01195495, ..., -0.04617403,\n",
              "        -0.02588158,  0.03452532]], dtype=float32)"
            ]
          },
          "metadata": {},
          "execution_count": 49
        }
      ]
    },
    {
      "cell_type": "code",
      "source": [
        "print(embed_weights.shape) # same size as vocab size and embedding_dim; each word embedded into 128 dim vector"
      ],
      "metadata": {
        "colab": {
          "base_uri": "https://localhost:8080/"
        },
        "id": "-TJtjPXfGOtz",
        "outputId": "2cfb1ef3-98f6-4530-f1bc-82d367ccf461"
      },
      "execution_count": 50,
      "outputs": [
        {
          "output_type": "stream",
          "name": "stdout",
          "text": [
            "(10000, 128)\n"
          ]
        }
      ]
    },
    {
      "cell_type": "markdown",
      "source": [
        "# [Tensorflow Embedding Visualization Tool](https://projector.tensorflow.org/)"
      ],
      "metadata": {
        "id": "ndqmLVXfGeGm"
      }
    },
    {
      "cell_type": "code",
      "source": [
        "# Create embedding files\n",
        "import io\n",
        "out_v = io.open('vectors.tsv', 'w', encoding='utf-8')\n",
        "out_m = io.open('metadata.tsv', 'w', encoding='utf-8')\n",
        "\n",
        "for index, word in enumerate(words_in_vocab):\n",
        "  if index == 0:\n",
        "    continue  # skip 0, it's padding.\n",
        "  vec = embed_weights[index]\n",
        "  out_v.write('\\t'.join([str(x) for x in vec]) + \"\\n\")\n",
        "  out_m.write(word + \"\\n\")\n",
        "out_v.close()\n",
        "out_m.close()"
      ],
      "metadata": {
        "id": "rL7T1QQOG5rU"
      },
      "execution_count": 51,
      "outputs": []
    },
    {
      "cell_type": "code",
      "source": [
        "# Download files from Colab to upload to Tensorflow projector (see link above)\n",
        "try:\n",
        "  from google.colab import files\n",
        "  files.download('vectors.tsv')\n",
        "  files.download('metadata.tsv')\n",
        "except Exception:\n",
        "  pass"
      ],
      "metadata": {
        "colab": {
          "base_uri": "https://localhost:8080/",
          "height": 17
        },
        "id": "E-yFzV0uHb3Q",
        "outputId": "6b5024e9-ec7e-4919-a33e-1be408b69a70"
      },
      "execution_count": 52,
      "outputs": [
        {
          "output_type": "display_data",
          "data": {
            "text/plain": [
              "<IPython.core.display.Javascript object>"
            ],
            "application/javascript": [
              "\n",
              "    async function download(id, filename, size) {\n",
              "      if (!google.colab.kernel.accessAllowed) {\n",
              "        return;\n",
              "      }\n",
              "      const div = document.createElement('div');\n",
              "      const label = document.createElement('label');\n",
              "      label.textContent = `Downloading \"${filename}\": `;\n",
              "      div.appendChild(label);\n",
              "      const progress = document.createElement('progress');\n",
              "      progress.max = size;\n",
              "      div.appendChild(progress);\n",
              "      document.body.appendChild(div);\n",
              "\n",
              "      const buffers = [];\n",
              "      let downloaded = 0;\n",
              "\n",
              "      const channel = await google.colab.kernel.comms.open(id);\n",
              "      // Send a message to notify the kernel that we're ready.\n",
              "      channel.send({})\n",
              "\n",
              "      for await (const message of channel.messages) {\n",
              "        // Send a message to notify the kernel that we're ready.\n",
              "        channel.send({})\n",
              "        if (message.buffers) {\n",
              "          for (const buffer of message.buffers) {\n",
              "            buffers.push(buffer);\n",
              "            downloaded += buffer.byteLength;\n",
              "            progress.value = downloaded;\n",
              "          }\n",
              "        }\n",
              "      }\n",
              "      const blob = new Blob(buffers, {type: 'application/binary'});\n",
              "      const a = document.createElement('a');\n",
              "      a.href = window.URL.createObjectURL(blob);\n",
              "      a.download = filename;\n",
              "      div.appendChild(a);\n",
              "      a.click();\n",
              "      div.remove();\n",
              "    }\n",
              "  "
            ]
          },
          "metadata": {}
        },
        {
          "output_type": "display_data",
          "data": {
            "text/plain": [
              "<IPython.core.display.Javascript object>"
            ],
            "application/javascript": [
              "download(\"download_6cec6183-e16c-40e5-bc06-012c6d39dc5a\", \"vectors.tsv\", 15389936)"
            ]
          },
          "metadata": {}
        },
        {
          "output_type": "display_data",
          "data": {
            "text/plain": [
              "<IPython.core.display.Javascript object>"
            ],
            "application/javascript": [
              "\n",
              "    async function download(id, filename, size) {\n",
              "      if (!google.colab.kernel.accessAllowed) {\n",
              "        return;\n",
              "      }\n",
              "      const div = document.createElement('div');\n",
              "      const label = document.createElement('label');\n",
              "      label.textContent = `Downloading \"${filename}\": `;\n",
              "      div.appendChild(label);\n",
              "      const progress = document.createElement('progress');\n",
              "      progress.max = size;\n",
              "      div.appendChild(progress);\n",
              "      document.body.appendChild(div);\n",
              "\n",
              "      const buffers = [];\n",
              "      let downloaded = 0;\n",
              "\n",
              "      const channel = await google.colab.kernel.comms.open(id);\n",
              "      // Send a message to notify the kernel that we're ready.\n",
              "      channel.send({})\n",
              "\n",
              "      for await (const message of channel.messages) {\n",
              "        // Send a message to notify the kernel that we're ready.\n",
              "        channel.send({})\n",
              "        if (message.buffers) {\n",
              "          for (const buffer of message.buffers) {\n",
              "            buffers.push(buffer);\n",
              "            downloaded += buffer.byteLength;\n",
              "            progress.value = downloaded;\n",
              "          }\n",
              "        }\n",
              "      }\n",
              "      const blob = new Blob(buffers, {type: 'application/binary'});\n",
              "      const a = document.createElement('a');\n",
              "      a.href = window.URL.createObjectURL(blob);\n",
              "      a.download = filename;\n",
              "      div.appendChild(a);\n",
              "      a.click();\n",
              "      div.remove();\n",
              "    }\n",
              "  "
            ]
          },
          "metadata": {}
        },
        {
          "output_type": "display_data",
          "data": {
            "text/plain": [
              "<IPython.core.display.Javascript object>"
            ],
            "application/javascript": [
              "download(\"download_352d90ed-3af8-488a-99ae-e0939bd15c81\", \"metadata.tsv\", 80590)"
            ]
          },
          "metadata": {}
        }
      ]
    },
    {
      "cell_type": "markdown",
      "source": [
        "## Recurrent Neural Networks (RNN's)\n",
        "* Sequence data\n",
        "* Use representation of previous input to aid the representation of a later input"
      ],
      "metadata": {
        "id": "Ro4NDEhhJoQW"
      }
    },
    {
      "cell_type": "markdown",
      "source": [
        "### Model 2: LSTM\n",
        "LSTM = long short term memory (one of th most popular Recurrent Cells)\n",
        "\n",
        "RNN Structure:\n",
        "\n",
        "```\n",
        "Input (text) -> Tokenize -> Embedding -> Layers (RNNs/dense) -> Output (label probability)\n",
        "```"
      ],
      "metadata": {
        "id": "JiWRJ55rJ519"
      }
    },
    {
      "cell_type": "code",
      "source": [
        "# Create an LSTM Model\n",
        "from tensorflow.keras import layers\n",
        "inputs = layers.Input(shape=(1,), dtype=\"string\")\n",
        "x = text_vectorizer(inputs) # map text to numbers/tokens\n",
        "x = embedding(x) # create embedding vectors from tokens\n",
        "#print(x.shape)\n",
        "#x = layers.LSTM(units=64, return_sequences=True)(x) # returns a squence; maintains dims of a sequence\n",
        "# when you're stacking RNN cells together, you need to set return_sequences=True\n",
        "#   i.e. input to LSTM expected to be a sequence; the output doesn't necessarily have to be a sequence\n",
        "#print(x.shape)\n",
        "x = layers.LSTM(64)(x)\n",
        "#print(x.shape)\n",
        "#x = layers.Dense(64, activation='relu')(x)\n",
        "outputs = layers.Dense(1, activation=\"sigmoid\")(x)\n",
        "model_2 = tf.keras.Model(inputs,outputs, name=\"model_2_LSTM\")"
      ],
      "metadata": {
        "id": "w9_szk6aM-76"
      },
      "execution_count": 53,
      "outputs": []
    },
    {
      "cell_type": "code",
      "source": [
        "model_2.summary()"
      ],
      "metadata": {
        "colab": {
          "base_uri": "https://localhost:8080/"
        },
        "id": "AlXZHOzHN0wq",
        "outputId": "96b3109f-ea0c-4dd3-fa04-bd33d4d73feb"
      },
      "execution_count": 54,
      "outputs": [
        {
          "output_type": "stream",
          "name": "stdout",
          "text": [
            "Model: \"model_2_LSTM\"\n",
            "_________________________________________________________________\n",
            " Layer (type)                Output Shape              Param #   \n",
            "=================================================================\n",
            " input_2 (InputLayer)        [(None, 1)]               0         \n",
            "                                                                 \n",
            " text_vectorization_1 (Text  (None, 15)                0         \n",
            " Vectorization)                                                  \n",
            "                                                                 \n",
            " embedding (Embedding)       (None, 15, 128)           1280000   \n",
            "                                                                 \n",
            " lstm (LSTM)                 (None, 64)                49408     \n",
            "                                                                 \n",
            " dense_1 (Dense)             (None, 1)                 65        \n",
            "                                                                 \n",
            "=================================================================\n",
            "Total params: 1329473 (5.07 MB)\n",
            "Trainable params: 1329473 (5.07 MB)\n",
            "Non-trainable params: 0 (0.00 Byte)\n",
            "_________________________________________________________________\n"
          ]
        }
      ]
    },
    {
      "cell_type": "code",
      "source": [
        "# Compile the model\n",
        "model_2.compile(loss=\"binary_crossentropy\",\n",
        "                optimizer=tf.keras.optimizers.Adam(),\n",
        "                metrics=[\"accuracy\"])"
      ],
      "metadata": {
        "id": "1L7Hz9SWPVJr"
      },
      "execution_count": 55,
      "outputs": []
    },
    {
      "cell_type": "code",
      "source": [
        "# Fit the model\n",
        "model_2_history = model_2.fit(train_sentences,\n",
        "                              train_labels,\n",
        "                              epochs=5,\n",
        "                              validation_data=(validation_sentences,val_labels),\n",
        "                              callbacks=[create_tensorboard_callback(SAVE_DIR,\n",
        "                                                                     \"model_2_LSTM\")])"
      ],
      "metadata": {
        "colab": {
          "base_uri": "https://localhost:8080/"
        },
        "id": "7BPxznpiPfk1",
        "outputId": "1b46ccde-0af7-48ac-b8b5-081f799fe687"
      },
      "execution_count": 56,
      "outputs": [
        {
          "output_type": "stream",
          "name": "stdout",
          "text": [
            "Saving TensorBoard log files to: model_logs/model_2_LSTM/20240514-233744\n",
            "Epoch 1/5\n",
            "215/215 [==============================] - 11s 41ms/step - loss: 0.2262 - accuracy: 0.9172 - val_loss: 0.4979 - val_accuracy: 0.7979\n",
            "Epoch 2/5\n",
            "215/215 [==============================] - 2s 11ms/step - loss: 0.1541 - accuracy: 0.9428 - val_loss: 0.5711 - val_accuracy: 0.7808\n",
            "Epoch 3/5\n",
            "215/215 [==============================] - 2s 9ms/step - loss: 0.1300 - accuracy: 0.9510 - val_loss: 0.6962 - val_accuracy: 0.7795\n",
            "Epoch 4/5\n",
            "215/215 [==============================] - 2s 10ms/step - loss: 0.1028 - accuracy: 0.9606 - val_loss: 0.7828 - val_accuracy: 0.7848\n",
            "Epoch 5/5\n",
            "215/215 [==============================] - 2s 12ms/step - loss: 0.0850 - accuracy: 0.9676 - val_loss: 0.8564 - val_accuracy: 0.7743\n"
          ]
        }
      ]
    },
    {
      "cell_type": "code",
      "source": [
        "# Make predictions with LSTM model\n",
        "model_2_pred_probs = model_2.predict(validation_sentences)\n",
        "model_2_pred_probs[:10]"
      ],
      "metadata": {
        "colab": {
          "base_uri": "https://localhost:8080/"
        },
        "id": "jPB5-aPpPsBO",
        "outputId": "4eec53c9-688a-4956-f189-36750d28a96a"
      },
      "execution_count": 57,
      "outputs": [
        {
          "output_type": "stream",
          "name": "stdout",
          "text": [
            "24/24 [==============================] - 1s 3ms/step\n"
          ]
        },
        {
          "output_type": "execute_result",
          "data": {
            "text/plain": [
              "array([[0.97260326],\n",
              "       [0.12065662],\n",
              "       [0.99923074],\n",
              "       [0.8861391 ],\n",
              "       [0.00101799],\n",
              "       [0.25113127],\n",
              "       [0.9998567 ],\n",
              "       [0.9994843 ],\n",
              "       [0.05439333],\n",
              "       [0.03501736]], dtype=float32)"
            ]
          },
          "metadata": {},
          "execution_count": 57
        }
      ]
    },
    {
      "cell_type": "code",
      "source": [
        "# convert model 2 pred probs to labels\n",
        "model_2_preds = tf.squeeze(tf.round(model_2_pred_probs))\n",
        "model_2_preds[:10]"
      ],
      "metadata": {
        "colab": {
          "base_uri": "https://localhost:8080/"
        },
        "id": "B8iEK9FCP34m",
        "outputId": "fb9e5ad6-3540-4c7f-844f-c1ff06303059"
      },
      "execution_count": 58,
      "outputs": [
        {
          "output_type": "execute_result",
          "data": {
            "text/plain": [
              "<tf.Tensor: shape=(10,), dtype=float32, numpy=array([1., 0., 1., 1., 0., 0., 1., 1., 0., 0.], dtype=float32)>"
            ]
          },
          "metadata": {},
          "execution_count": 58
        }
      ]
    },
    {
      "cell_type": "code",
      "source": [
        "# Calculate model 2 results\n",
        "model_2_results = calculate_results(val_labels, model_2_preds)\n",
        "model_2_results"
      ],
      "metadata": {
        "colab": {
          "base_uri": "https://localhost:8080/"
        },
        "id": "tzigNgHYQC1X",
        "outputId": "6b0fde0f-d1d3-4123-913c-a0460e1c7cb0"
      },
      "execution_count": 59,
      "outputs": [
        {
          "output_type": "execute_result",
          "data": {
            "text/plain": [
              "{'accuracy': 77.42782152230971,\n",
              " 'precision': 0.7763789399658745,\n",
              " 'recall': 0.7742782152230971,\n",
              " 'f1': 0.774795235802921}"
            ]
          },
          "metadata": {},
          "execution_count": 59
        }
      ]
    },
    {
      "cell_type": "code",
      "source": [
        "# But baseline is still better\n",
        "baseline_results"
      ],
      "metadata": {
        "colab": {
          "base_uri": "https://localhost:8080/"
        },
        "id": "LOij4KdCQQwk",
        "outputId": "6c04a2b2-5a7d-496e-d03f-0e38d3df20f8"
      },
      "execution_count": 60,
      "outputs": [
        {
          "output_type": "execute_result",
          "data": {
            "text/plain": [
              "{'accuracy': 81.88976377952756,\n",
              " 'precision': 0.8277969908744978,\n",
              " 'recall': 0.8188976377952756,\n",
              " 'f1': 0.8150344270074752}"
            ]
          },
          "metadata": {},
          "execution_count": 60
        }
      ]
    },
    {
      "cell_type": "markdown",
      "source": [
        "### Model 3: RNN with GRU Cell"
      ],
      "metadata": {
        "id": "I7wX88JgQVNq"
      }
    },
    {
      "cell_type": "code",
      "source": [
        "# Build an RNN using GRU Cell\n",
        "from tensorflow.keras import layers\n",
        "inputs = layers.Input(shape=(1,), dtype = tf.string)\n",
        "x = text_vectorizer(inputs)\n",
        "x = embedding(x)\n",
        "#print(x.shape)\n",
        "x = layers.GRU(64)(x) # if stacking recurrent layers, return_sequences = True\n",
        "# print(x.shape)\n",
        "# x = layers.LSTM(42, return_sequences=True)(x)\n",
        "# print(x.shape)\n",
        "# x = layers.GRU(99)(x)\n",
        "# print(x.shape)\n",
        "#x = layers.Dense(64, activation='relu')(x)\n",
        "#x = layers.GlobalAveragePooling1D()(x)\n",
        "outputs = layers.Dense(1, activation=\"sigmoid\")(x)\n",
        "model_3 = tf.keras.Model(inputs, outputs, name=\"Model_3_GRU\")"
      ],
      "metadata": {
        "id": "kOL7evrKQtL_"
      },
      "execution_count": 61,
      "outputs": []
    },
    {
      "cell_type": "code",
      "source": [
        "model_3.summary()"
      ],
      "metadata": {
        "colab": {
          "base_uri": "https://localhost:8080/"
        },
        "id": "LyZDStZLO9ob",
        "outputId": "97052c2a-ea35-4fd7-bf86-08989edd44df"
      },
      "execution_count": 62,
      "outputs": [
        {
          "output_type": "stream",
          "name": "stdout",
          "text": [
            "Model: \"Model_3_GRU\"\n",
            "_________________________________________________________________\n",
            " Layer (type)                Output Shape              Param #   \n",
            "=================================================================\n",
            " input_3 (InputLayer)        [(None, 1)]               0         \n",
            "                                                                 \n",
            " text_vectorization_1 (Text  (None, 15)                0         \n",
            " Vectorization)                                                  \n",
            "                                                                 \n",
            " embedding (Embedding)       (None, 15, 128)           1280000   \n",
            "                                                                 \n",
            " gru (GRU)                   (None, 64)                37248     \n",
            "                                                                 \n",
            " dense_2 (Dense)             (None, 1)                 65        \n",
            "                                                                 \n",
            "=================================================================\n",
            "Total params: 1317313 (5.03 MB)\n",
            "Trainable params: 1317313 (5.03 MB)\n",
            "Non-trainable params: 0 (0.00 Byte)\n",
            "_________________________________________________________________\n"
          ]
        }
      ]
    },
    {
      "cell_type": "code",
      "source": [
        "# Compile\n",
        "model_3.compile(loss=\"binary_crossentropy\", optimizer = tf.keras.optimizers.Adam(),\n",
        "                metrics=[\"accuracy\"])"
      ],
      "metadata": {
        "id": "Dc7Z_ShTP7sb"
      },
      "execution_count": 63,
      "outputs": []
    },
    {
      "cell_type": "code",
      "source": [
        "model_3_history= model_3.fit(train_sentences,\n",
        "                             train_labels,\n",
        "                             epochs=5,\n",
        "                             validation_data=(validation_sentences, val_labels),\n",
        "                             callbacks=[create_tensorboard_callback(SAVE_DIR, \"model_3_GRU\")])"
      ],
      "metadata": {
        "colab": {
          "base_uri": "https://localhost:8080/"
        },
        "id": "AMBB35wWQrKh",
        "outputId": "b01684d7-7ae0-4806-a062-21ef46a06ea9"
      },
      "execution_count": 64,
      "outputs": [
        {
          "output_type": "stream",
          "name": "stdout",
          "text": [
            "Saving TensorBoard log files to: model_logs/model_3_GRU/20240514-233806\n",
            "Epoch 1/5\n",
            "215/215 [==============================] - 10s 37ms/step - loss: 0.1497 - accuracy: 0.9464 - val_loss: 0.9145 - val_accuracy: 0.7743\n",
            "Epoch 2/5\n",
            "215/215 [==============================] - 3s 13ms/step - loss: 0.0853 - accuracy: 0.9679 - val_loss: 0.8179 - val_accuracy: 0.7835\n",
            "Epoch 3/5\n",
            "215/215 [==============================] - 2s 8ms/step - loss: 0.0724 - accuracy: 0.9723 - val_loss: 0.9750 - val_accuracy: 0.7717\n",
            "Epoch 4/5\n",
            "215/215 [==============================] - 2s 9ms/step - loss: 0.0647 - accuracy: 0.9740 - val_loss: 0.9070 - val_accuracy: 0.7690\n",
            "Epoch 5/5\n",
            "215/215 [==============================] - 1s 6ms/step - loss: 0.0573 - accuracy: 0.9762 - val_loss: 0.9079 - val_accuracy: 0.7690\n"
          ]
        }
      ]
    },
    {
      "cell_type": "code",
      "source": [
        "# Mae some predictions with our GRU model\n",
        "model_3_pred_probs = model_3.predict(validation_sentences)\n",
        "model_3_pred_probs"
      ],
      "metadata": {
        "colab": {
          "base_uri": "https://localhost:8080/"
        },
        "id": "pTMcj1TyRAff",
        "outputId": "7da41760-e60f-46be-e0c8-cad2cfdd3d5e"
      },
      "execution_count": 65,
      "outputs": [
        {
          "output_type": "stream",
          "name": "stdout",
          "text": [
            "24/24 [==============================] - 0s 3ms/step\n"
          ]
        },
        {
          "output_type": "execute_result",
          "data": {
            "text/plain": [
              "array([[9.46076870e-01],\n",
              "       [2.61521526e-02],\n",
              "       [9.99373615e-01],\n",
              "       [4.07725096e-01],\n",
              "       [3.97623604e-04],\n",
              "       [8.28696609e-01],\n",
              "       [9.99798238e-01],\n",
              "       [9.97813582e-01],\n",
              "       [1.82344303e-01],\n",
              "       [2.32588947e-02],\n",
              "       [8.24564099e-01],\n",
              "       [1.81964725e-01],\n",
              "       [3.11704818e-03],\n",
              "       [9.97402847e-01],\n",
              "       [1.47766378e-02],\n",
              "       [9.95848298e-01],\n",
              "       [1.06845111e-01],\n",
              "       [7.48490333e-04],\n",
              "       [2.92590441e-04],\n",
              "       [1.34094164e-03],\n",
              "       [9.97544229e-01],\n",
              "       [9.99521732e-01],\n",
              "       [9.99691010e-01],\n",
              "       [8.99461657e-02],\n",
              "       [1.84110384e-02],\n",
              "       [9.99356449e-01],\n",
              "       [3.54880601e-01],\n",
              "       [6.01411425e-02],\n",
              "       [3.31085473e-02],\n",
              "       [7.82090123e-04],\n",
              "       [9.95393515e-01],\n",
              "       [2.06575900e-01],\n",
              "       [1.93903670e-01],\n",
              "       [5.07402718e-01],\n",
              "       [9.30063485e-04],\n",
              "       [9.99299169e-01],\n",
              "       [9.55862633e-04],\n",
              "       [1.31527125e-03],\n",
              "       [7.33240992e-02],\n",
              "       [9.97579038e-01],\n",
              "       [2.08051875e-02],\n",
              "       [9.79624152e-01],\n",
              "       [9.99970675e-01],\n",
              "       [9.98259127e-01],\n",
              "       [9.96337056e-01],\n",
              "       [9.97901797e-01],\n",
              "       [3.90613005e-02],\n",
              "       [1.77729517e-01],\n",
              "       [9.99050796e-01],\n",
              "       [9.99858975e-01],\n",
              "       [7.69667677e-04],\n",
              "       [4.26051876e-04],\n",
              "       [6.22749329e-04],\n",
              "       [1.11978303e-03],\n",
              "       [5.23288676e-04],\n",
              "       [6.79412067e-01],\n",
              "       [3.39000230e-03],\n",
              "       [9.99417424e-01],\n",
              "       [1.67562437e-04],\n",
              "       [1.77835766e-03],\n",
              "       [2.22960889e-01],\n",
              "       [1.29712617e-03],\n",
              "       [2.13201553e-01],\n",
              "       [9.56388712e-01],\n",
              "       [6.80725742e-03],\n",
              "       [9.94065404e-01],\n",
              "       [6.50932500e-03],\n",
              "       [5.08467793e-01],\n",
              "       [3.30117950e-03],\n",
              "       [9.99010444e-01],\n",
              "       [9.99461114e-01],\n",
              "       [9.56793547e-01],\n",
              "       [9.52029705e-01],\n",
              "       [9.99921679e-01],\n",
              "       [9.28851783e-01],\n",
              "       [4.01377882e-04],\n",
              "       [2.21751188e-03],\n",
              "       [9.98867512e-01],\n",
              "       [1.06406238e-04],\n",
              "       [9.31127965e-01],\n",
              "       [2.76661851e-02],\n",
              "       [1.48298370e-03],\n",
              "       [9.99015093e-01],\n",
              "       [2.50739208e-03],\n",
              "       [9.99820530e-01],\n",
              "       [6.50528610e-01],\n",
              "       [9.96258020e-01],\n",
              "       [9.96587753e-01],\n",
              "       [3.09540657e-04],\n",
              "       [6.78700626e-01],\n",
              "       [7.58517325e-01],\n",
              "       [3.47887049e-03],\n",
              "       [2.18720943e-01],\n",
              "       [1.11953449e-03],\n",
              "       [7.20129073e-01],\n",
              "       [1.17644155e-03],\n",
              "       [3.40165533e-02],\n",
              "       [2.01323763e-01],\n",
              "       [8.51552933e-03],\n",
              "       [4.88222867e-01],\n",
              "       [1.59224831e-02],\n",
              "       [1.04492484e-03],\n",
              "       [3.93137664e-01],\n",
              "       [1.34896487e-02],\n",
              "       [1.65663939e-03],\n",
              "       [9.99184430e-01],\n",
              "       [9.87564027e-01],\n",
              "       [3.68632674e-01],\n",
              "       [5.14484884e-04],\n",
              "       [2.85546808e-03],\n",
              "       [7.27204621e-01],\n",
              "       [9.97575462e-01],\n",
              "       [9.98803973e-01],\n",
              "       [1.98741302e-01],\n",
              "       [5.26319817e-03],\n",
              "       [9.20743823e-01],\n",
              "       [9.08944488e-01],\n",
              "       [9.61544865e-05],\n",
              "       [5.57119306e-03],\n",
              "       [9.99265611e-01],\n",
              "       [9.94748533e-01],\n",
              "       [3.38385231e-03],\n",
              "       [1.81551337e-01],\n",
              "       [9.97728169e-01],\n",
              "       [9.99753177e-01],\n",
              "       [3.61635903e-04],\n",
              "       [1.41248561e-03],\n",
              "       [9.85032439e-01],\n",
              "       [2.19307956e-03],\n",
              "       [4.63781841e-02],\n",
              "       [5.01455724e-01],\n",
              "       [9.91075277e-01],\n",
              "       [8.91848351e-04],\n",
              "       [1.64296653e-04],\n",
              "       [1.15205732e-03],\n",
              "       [2.53912341e-03],\n",
              "       [1.15165994e-01],\n",
              "       [9.99375999e-01],\n",
              "       [1.35614667e-02],\n",
              "       [1.27078651e-03],\n",
              "       [3.09203868e-03],\n",
              "       [9.99873519e-01],\n",
              "       [6.56798016e-04],\n",
              "       [2.56677195e-02],\n",
              "       [3.20824236e-01],\n",
              "       [9.85768497e-01],\n",
              "       [6.71040732e-03],\n",
              "       [1.42039626e-03],\n",
              "       [4.28883657e-02],\n",
              "       [8.84295821e-01],\n",
              "       [3.38706113e-02],\n",
              "       [7.81834573e-02],\n",
              "       [4.57188027e-04],\n",
              "       [6.60953857e-03],\n",
              "       [4.44674958e-03],\n",
              "       [5.42368833e-03],\n",
              "       [5.02263010e-01],\n",
              "       [9.89578545e-01],\n",
              "       [6.65555716e-01],\n",
              "       [1.21406536e-03],\n",
              "       [6.57687366e-01],\n",
              "       [4.48790938e-02],\n",
              "       [2.31076335e-03],\n",
              "       [2.84023746e-03],\n",
              "       [2.26408025e-04],\n",
              "       [7.47079542e-03],\n",
              "       [4.35012490e-01],\n",
              "       [3.71343107e-03],\n",
              "       [9.99755561e-01],\n",
              "       [1.80022488e-03],\n",
              "       [9.50057447e-01],\n",
              "       [9.99586761e-01],\n",
              "       [8.82290453e-02],\n",
              "       [9.88625824e-01],\n",
              "       [1.03577655e-02],\n",
              "       [3.85103840e-03],\n",
              "       [9.94758904e-01],\n",
              "       [2.36945599e-01],\n",
              "       [9.98803973e-01],\n",
              "       [5.35253028e-04],\n",
              "       [6.00335121e-01],\n",
              "       [2.23943777e-03],\n",
              "       [8.12523160e-03],\n",
              "       [3.54650314e-04],\n",
              "       [1.12101063e-02],\n",
              "       [7.66683195e-04],\n",
              "       [9.89107728e-01],\n",
              "       [1.86597139e-01],\n",
              "       [1.48400301e-04],\n",
              "       [1.88811493e-04],\n",
              "       [9.99914408e-01],\n",
              "       [9.99770105e-01],\n",
              "       [2.15583798e-02],\n",
              "       [9.05562076e-04],\n",
              "       [9.99924541e-01],\n",
              "       [6.08776510e-01],\n",
              "       [5.06158888e-01],\n",
              "       [2.32010096e-01],\n",
              "       [2.64736381e-03],\n",
              "       [9.52029705e-01],\n",
              "       [2.94594700e-03],\n",
              "       [1.63617004e-02],\n",
              "       [1.20995776e-03],\n",
              "       [1.02825649e-03],\n",
              "       [9.93473589e-01],\n",
              "       [9.99625683e-01],\n",
              "       [1.58097871e-04],\n",
              "       [9.99950051e-01],\n",
              "       [9.99555886e-01],\n",
              "       [6.63090587e-01],\n",
              "       [2.01749732e-03],\n",
              "       [6.57294631e-01],\n",
              "       [9.20552993e-04],\n",
              "       [5.00831790e-02],\n",
              "       [9.99513507e-01],\n",
              "       [9.99524236e-01],\n",
              "       [9.12654214e-03],\n",
              "       [6.35748869e-03],\n",
              "       [9.43554819e-01],\n",
              "       [8.67193818e-01],\n",
              "       [9.95108664e-01],\n",
              "       [5.32375909e-02],\n",
              "       [9.28947236e-04],\n",
              "       [9.99916911e-01],\n",
              "       [4.46931049e-02],\n",
              "       [2.32233797e-04],\n",
              "       [7.25293439e-03],\n",
              "       [3.10301092e-02],\n",
              "       [9.99634504e-01],\n",
              "       [1.45318732e-03],\n",
              "       [1.80137088e-03],\n",
              "       [2.98290979e-04],\n",
              "       [1.16345286e-03],\n",
              "       [2.78678536e-03],\n",
              "       [1.22451849e-01],\n",
              "       [9.96828735e-01],\n",
              "       [1.17925543e-03],\n",
              "       [9.26308870e-01],\n",
              "       [2.37985160e-02],\n",
              "       [9.99873519e-01],\n",
              "       [9.80782926e-01],\n",
              "       [1.01621402e-03],\n",
              "       [9.99375999e-01],\n",
              "       [3.84752229e-02],\n",
              "       [1.35382414e-01],\n",
              "       [3.26590467e-04],\n",
              "       [8.39129239e-02],\n",
              "       [6.88700587e-04],\n",
              "       [9.97212112e-01],\n",
              "       [9.98303890e-01],\n",
              "       [9.99176204e-01],\n",
              "       [2.25406244e-01],\n",
              "       [8.78313498e-04],\n",
              "       [4.46253660e-04],\n",
              "       [9.99404073e-01],\n",
              "       [1.94599573e-03],\n",
              "       [9.99808013e-01],\n",
              "       [5.45249104e-01],\n",
              "       [9.93443727e-01],\n",
              "       [4.66588624e-02],\n",
              "       [9.99295115e-01],\n",
              "       [2.69787639e-01],\n",
              "       [1.55534566e-04],\n",
              "       [8.90053227e-04],\n",
              "       [1.59095041e-04],\n",
              "       [1.29827147e-03],\n",
              "       [9.98909831e-01],\n",
              "       [9.99501586e-01],\n",
              "       [2.43805662e-01],\n",
              "       [1.03747600e-03],\n",
              "       [4.51036304e-01],\n",
              "       [5.72093064e-03],\n",
              "       [5.04577300e-03],\n",
              "       [8.18641484e-02],\n",
              "       [1.07851566e-03],\n",
              "       [1.28846592e-03],\n",
              "       [1.20928518e-01],\n",
              "       [6.99603021e-01],\n",
              "       [3.50769283e-03],\n",
              "       [4.36889201e-01],\n",
              "       [9.93018039e-04],\n",
              "       [1.51621904e-02],\n",
              "       [6.14037598e-03],\n",
              "       [5.69086149e-03],\n",
              "       [9.36883211e-01],\n",
              "       [1.64495443e-03],\n",
              "       [9.51637208e-01],\n",
              "       [1.30908622e-03],\n",
              "       [1.56687771e-03],\n",
              "       [4.54413518e-02],\n",
              "       [9.52657104e-01],\n",
              "       [3.47870722e-04],\n",
              "       [8.25366825e-02],\n",
              "       [1.71457037e-01],\n",
              "       [1.65667474e-01],\n",
              "       [8.42975557e-01],\n",
              "       [1.20533118e-03],\n",
              "       [9.97922599e-01],\n",
              "       [5.69997169e-02],\n",
              "       [9.97382343e-01],\n",
              "       [9.93986845e-01],\n",
              "       [2.16344353e-02],\n",
              "       [5.48051521e-02],\n",
              "       [1.06773796e-02],\n",
              "       [8.09093058e-01],\n",
              "       [1.45026520e-01],\n",
              "       [6.61075950e-01],\n",
              "       [9.98330176e-01],\n",
              "       [5.33197832e-04],\n",
              "       [3.94843340e-01],\n",
              "       [2.35321131e-02],\n",
              "       [1.62924198e-03],\n",
              "       [9.97992277e-01],\n",
              "       [9.99304414e-01],\n",
              "       [6.75320812e-03],\n",
              "       [9.70601380e-01],\n",
              "       [9.99757826e-01],\n",
              "       [9.99521732e-01],\n",
              "       [3.29662412e-02],\n",
              "       [1.16760354e-03],\n",
              "       [9.98570800e-01],\n",
              "       [2.09087436e-03],\n",
              "       [9.93990541e-01],\n",
              "       [9.16261017e-01],\n",
              "       [3.41693824e-03],\n",
              "       [5.30827820e-01],\n",
              "       [9.98767376e-01],\n",
              "       [1.19365798e-03],\n",
              "       [3.17534572e-03],\n",
              "       [1.03958684e-03],\n",
              "       [1.10465079e-03],\n",
              "       [9.99568760e-01],\n",
              "       [1.41147163e-03],\n",
              "       [6.91957399e-03],\n",
              "       [9.99461114e-01],\n",
              "       [9.98264849e-01],\n",
              "       [2.63026147e-03],\n",
              "       [9.98821795e-01],\n",
              "       [9.99392867e-01],\n",
              "       [2.53687054e-02],\n",
              "       [9.98221815e-01],\n",
              "       [9.77145553e-01],\n",
              "       [6.96107221e-04],\n",
              "       [1.65803358e-03],\n",
              "       [9.48654056e-01],\n",
              "       [6.22475811e-04],\n",
              "       [9.99576151e-01],\n",
              "       [8.28368545e-01],\n",
              "       [4.90989769e-03],\n",
              "       [7.01415241e-02],\n",
              "       [9.99436915e-01],\n",
              "       [6.36314601e-02],\n",
              "       [5.53201139e-01],\n",
              "       [9.98679817e-01],\n",
              "       [9.97050524e-01],\n",
              "       [3.55250575e-03],\n",
              "       [1.96521536e-01],\n",
              "       [4.60183044e-04],\n",
              "       [1.43086107e-03],\n",
              "       [1.03882549e-03],\n",
              "       [5.16524434e-01],\n",
              "       [4.93397296e-04],\n",
              "       [3.41091095e-03],\n",
              "       [9.34270304e-03],\n",
              "       [1.88860716e-03],\n",
              "       [2.59215152e-03],\n",
              "       [9.84137297e-01],\n",
              "       [9.80118872e-04],\n",
              "       [9.98951793e-01],\n",
              "       [1.03385688e-03],\n",
              "       [9.97689128e-01],\n",
              "       [3.31364304e-01],\n",
              "       [7.11094067e-02],\n",
              "       [3.72432079e-03],\n",
              "       [9.98352885e-01],\n",
              "       [2.28879213e-01],\n",
              "       [9.70412046e-02],\n",
              "       [5.50899073e-04],\n",
              "       [9.90164459e-01],\n",
              "       [9.91411448e-01],\n",
              "       [6.04660809e-03],\n",
              "       [8.00703347e-01],\n",
              "       [6.59023762e-01],\n",
              "       [4.67230246e-04],\n",
              "       [1.35716751e-01],\n",
              "       [6.57106042e-01],\n",
              "       [2.92041135e-04],\n",
              "       [1.94521084e-01],\n",
              "       [8.18074332e-04],\n",
              "       [9.97958183e-01],\n",
              "       [3.48029397e-02],\n",
              "       [9.99500632e-01],\n",
              "       [3.35124373e-01],\n",
              "       [3.18007718e-04],\n",
              "       [3.43938738e-01],\n",
              "       [1.65427060e-04],\n",
              "       [9.98649776e-01],\n",
              "       [5.43006361e-01],\n",
              "       [9.99546945e-01],\n",
              "       [2.41916394e-03],\n",
              "       [6.23337865e-01],\n",
              "       [8.81260959e-04],\n",
              "       [4.29192036e-02],\n",
              "       [3.01098451e-03],\n",
              "       [1.78838777e-03],\n",
              "       [1.41475128e-03],\n",
              "       [3.72238224e-03],\n",
              "       [5.87786853e-01],\n",
              "       [9.87720907e-01],\n",
              "       [9.81114656e-02],\n",
              "       [3.92278103e-04],\n",
              "       [9.99840856e-01],\n",
              "       [9.99347866e-01],\n",
              "       [9.99768913e-01],\n",
              "       [1.47549704e-01],\n",
              "       [3.62037937e-03],\n",
              "       [9.99436915e-01],\n",
              "       [9.73407865e-01],\n",
              "       [5.75471902e-03],\n",
              "       [3.35124373e-01],\n",
              "       [9.62296486e-01],\n",
              "       [1.17012486e-03],\n",
              "       [2.08317512e-03],\n",
              "       [2.82782555e-01],\n",
              "       [5.76845706e-01],\n",
              "       [2.80679931e-04],\n",
              "       [2.55499705e-04],\n",
              "       [5.15345542e-04],\n",
              "       [1.53627442e-02],\n",
              "       [3.37526947e-03],\n",
              "       [4.92137345e-03],\n",
              "       [2.03455077e-03],\n",
              "       [8.04472029e-01],\n",
              "       [3.13331336e-02],\n",
              "       [1.21659571e-02],\n",
              "       [9.99538541e-01],\n",
              "       [3.50276241e-03],\n",
              "       [1.24555605e-03],\n",
              "       [1.06154114e-01],\n",
              "       [9.99590814e-01],\n",
              "       [6.03881106e-02],\n",
              "       [9.98585701e-01],\n",
              "       [1.10892090e-03],\n",
              "       [2.99691776e-04],\n",
              "       [6.98634004e-03],\n",
              "       [8.47098231e-01],\n",
              "       [2.97644138e-01],\n",
              "       [8.79207801e-04],\n",
              "       [1.80404284e-03],\n",
              "       [4.58688894e-03],\n",
              "       [2.08283265e-04],\n",
              "       [9.99932408e-01],\n",
              "       [9.99757826e-01],\n",
              "       [9.99050796e-01],\n",
              "       [9.99461591e-01],\n",
              "       [7.65804231e-01],\n",
              "       [6.61386084e-03],\n",
              "       [1.04198924e-04],\n",
              "       [9.63172138e-01],\n",
              "       [9.94117260e-01],\n",
              "       [9.93277371e-01],\n",
              "       [8.69757473e-01],\n",
              "       [1.81092829e-01],\n",
              "       [2.76848555e-01],\n",
              "       [3.37632239e-01],\n",
              "       [1.34555530e-03],\n",
              "       [9.28851783e-01],\n",
              "       [4.23537160e-04],\n",
              "       [5.11592487e-03],\n",
              "       [9.98283148e-01],\n",
              "       [9.99863505e-01],\n",
              "       [2.55211140e-03],\n",
              "       [9.99932408e-01],\n",
              "       [6.03881106e-02],\n",
              "       [5.25718033e-01],\n",
              "       [1.98076852e-03],\n",
              "       [2.74125338e-02],\n",
              "       [6.19107438e-03],\n",
              "       [6.48626359e-04],\n",
              "       [8.99584174e-01],\n",
              "       [9.97372389e-01],\n",
              "       [7.20847631e-04],\n",
              "       [1.15411058e-02],\n",
              "       [7.83801312e-04],\n",
              "       [2.49672696e-01],\n",
              "       [4.42463718e-02],\n",
              "       [2.11611107e-01],\n",
              "       [9.99828458e-01],\n",
              "       [1.41563942e-03],\n",
              "       [6.38517377e-04],\n",
              "       [2.98108230e-03],\n",
              "       [2.18290035e-02],\n",
              "       [8.54341895e-04],\n",
              "       [9.95620787e-01],\n",
              "       [3.53542360e-04],\n",
              "       [9.99671936e-01],\n",
              "       [9.99350011e-01],\n",
              "       [9.99652505e-01],\n",
              "       [9.99724686e-01],\n",
              "       [9.99436915e-01],\n",
              "       [5.60625503e-03],\n",
              "       [1.85997970e-03],\n",
              "       [9.99228239e-01],\n",
              "       [8.88775766e-01],\n",
              "       [1.19184526e-02],\n",
              "       [4.75184148e-04],\n",
              "       [7.36825585e-01],\n",
              "       [9.87996638e-01],\n",
              "       [4.92832798e-04],\n",
              "       [6.83985138e-03],\n",
              "       [3.90984438e-04],\n",
              "       [9.50011909e-02],\n",
              "       [2.30577122e-03],\n",
              "       [9.39883411e-01],\n",
              "       [9.96437073e-01],\n",
              "       [9.83376289e-04],\n",
              "       [3.05243224e-01],\n",
              "       [6.52399799e-03],\n",
              "       [4.08230582e-03],\n",
              "       [9.37263727e-01],\n",
              "       [9.99354780e-01],\n",
              "       [1.68380532e-02],\n",
              "       [2.43050978e-01],\n",
              "       [7.92691410e-02],\n",
              "       [3.29996366e-03],\n",
              "       [1.35811660e-02],\n",
              "       [2.16807355e-03],\n",
              "       [1.55465933e-03],\n",
              "       [6.70101345e-01],\n",
              "       [9.97619808e-01],\n",
              "       [8.95881504e-02],\n",
              "       [9.94512677e-01],\n",
              "       [4.32497486e-02],\n",
              "       [9.99868512e-01],\n",
              "       [5.32884803e-03],\n",
              "       [7.90190324e-03],\n",
              "       [4.39374615e-03],\n",
              "       [1.64296653e-04],\n",
              "       [9.98028457e-01],\n",
              "       [8.71127427e-01],\n",
              "       [3.43580759e-04],\n",
              "       [9.49949434e-04],\n",
              "       [2.59701218e-02],\n",
              "       [2.59574056e-02],\n",
              "       [9.98137355e-01],\n",
              "       [8.32195859e-03],\n",
              "       [9.99461114e-01],\n",
              "       [1.01765513e-03],\n",
              "       [7.75185367e-03],\n",
              "       [3.53577459e-04],\n",
              "       [9.99828458e-01],\n",
              "       [9.98133719e-01],\n",
              "       [9.80004728e-01],\n",
              "       [9.98619318e-01],\n",
              "       [2.62752883e-02],\n",
              "       [9.99600828e-01],\n",
              "       [1.47340342e-03],\n",
              "       [1.01591125e-02],\n",
              "       [9.99358594e-01],\n",
              "       [1.52171105e-01],\n",
              "       [1.81815121e-02],\n",
              "       [2.12275572e-02],\n",
              "       [6.74469909e-03],\n",
              "       [9.98170614e-01],\n",
              "       [2.65048788e-04],\n",
              "       [9.94226933e-01],\n",
              "       [9.97983575e-01],\n",
              "       [3.15748937e-02],\n",
              "       [9.99375999e-01],\n",
              "       [1.12505816e-01],\n",
              "       [8.28301907e-03],\n",
              "       [5.07058925e-04],\n",
              "       [3.83063778e-02],\n",
              "       [1.19442388e-01],\n",
              "       [6.71568811e-01],\n",
              "       [1.09257631e-01],\n",
              "       [1.60432374e-03],\n",
              "       [2.10332423e-02],\n",
              "       [9.99461114e-01],\n",
              "       [9.91932809e-01],\n",
              "       [7.06564460e-04],\n",
              "       [9.99910951e-01],\n",
              "       [9.99618292e-01],\n",
              "       [9.98803973e-01],\n",
              "       [9.99367893e-01],\n",
              "       [1.10902358e-02],\n",
              "       [2.26353249e-03],\n",
              "       [9.97132301e-01],\n",
              "       [9.98352885e-01],\n",
              "       [4.02182480e-03],\n",
              "       [2.62659937e-01],\n",
              "       [5.65533042e-01],\n",
              "       [1.21343764e-03],\n",
              "       [9.99781072e-01],\n",
              "       [1.93178952e-02],\n",
              "       [9.81385887e-01],\n",
              "       [7.52439260e-01],\n",
              "       [8.65877390e-01],\n",
              "       [9.93597865e-01],\n",
              "       [9.99461114e-01],\n",
              "       [4.68595959e-02],\n",
              "       [7.00935960e-01],\n",
              "       [9.93456542e-01],\n",
              "       [9.97063100e-01],\n",
              "       [9.98064458e-01],\n",
              "       [9.97646868e-01],\n",
              "       [1.72630847e-01],\n",
              "       [2.83779353e-01],\n",
              "       [4.37256396e-02],\n",
              "       [9.86838400e-01],\n",
              "       [8.19986820e-01],\n",
              "       [2.51419935e-02],\n",
              "       [1.06760105e-02],\n",
              "       [9.36621904e-01],\n",
              "       [1.67785585e-02],\n",
              "       [1.51794800e-03],\n",
              "       [2.61839456e-03],\n",
              "       [9.99531031e-01],\n",
              "       [1.06772780e-03],\n",
              "       [9.62836921e-01],\n",
              "       [9.99320507e-01],\n",
              "       [3.50817740e-02],\n",
              "       [4.83076699e-04],\n",
              "       [9.95373666e-01],\n",
              "       [3.40077281e-03],\n",
              "       [3.68332665e-04],\n",
              "       [6.92875823e-03],\n",
              "       [5.96871367e-03],\n",
              "       [6.71823323e-01],\n",
              "       [8.39379057e-03],\n",
              "       [8.22641909e-01],\n",
              "       [8.64539575e-03],\n",
              "       [9.40680224e-03],\n",
              "       [9.99764979e-01],\n",
              "       [1.10465079e-03],\n",
              "       [4.85954247e-02],\n",
              "       [1.20872015e-03],\n",
              "       [9.60808218e-01],\n",
              "       [9.77738023e-01],\n",
              "       [3.60546768e-01],\n",
              "       [4.98732701e-02],\n",
              "       [1.02359080e-03],\n",
              "       [1.37421605e-03],\n",
              "       [9.98694956e-01],\n",
              "       [1.99429132e-03],\n",
              "       [9.98719811e-01],\n",
              "       [1.42255351e-02],\n",
              "       [6.23804692e-04],\n",
              "       [9.95571077e-01],\n",
              "       [1.68449670e-01],\n",
              "       [4.73009467e-01],\n",
              "       [8.18356156e-01],\n",
              "       [4.14980233e-01],\n",
              "       [1.63330440e-03],\n",
              "       [2.55359150e-03],\n",
              "       [7.45947957e-01],\n",
              "       [9.99949336e-01],\n",
              "       [4.87886369e-03],\n",
              "       [1.82845898e-03],\n",
              "       [3.65932984e-03],\n",
              "       [1.14699584e-02],\n",
              "       [1.10266721e-02],\n",
              "       [1.90153588e-02],\n",
              "       [6.05870306e-01],\n",
              "       [8.81834712e-04],\n",
              "       [9.99552310e-01],\n",
              "       [1.41299344e-04],\n",
              "       [3.94044473e-04],\n",
              "       [1.66223070e-03],\n",
              "       [9.98212814e-01],\n",
              "       [6.60499275e-01],\n",
              "       [9.90813434e-01],\n",
              "       [8.82290453e-02],\n",
              "       [3.33740492e-03],\n",
              "       [9.96893525e-01],\n",
              "       [6.45903312e-03],\n",
              "       [5.98707259e-01],\n",
              "       [9.87320542e-01],\n",
              "       [1.72623387e-03],\n",
              "       [2.11264216e-03],\n",
              "       [9.20138896e-01],\n",
              "       [1.84669014e-04],\n",
              "       [5.66188665e-03],\n",
              "       [9.95177865e-01],\n",
              "       [9.98597324e-01],\n",
              "       [9.78655457e-01],\n",
              "       [2.48494685e-01],\n",
              "       [1.14486110e-03],\n",
              "       [9.99350011e-01],\n",
              "       [7.30725471e-04],\n",
              "       [9.86291111e-01],\n",
              "       [1.67366657e-02],\n",
              "       [9.55988288e-01],\n",
              "       [9.99603331e-01],\n",
              "       [1.47085066e-03],\n",
              "       [1.34187029e-03],\n",
              "       [5.64760587e-04],\n",
              "       [9.98280048e-01],\n",
              "       [6.86698779e-02],\n",
              "       [1.81515148e-04],\n",
              "       [9.99828458e-01],\n",
              "       [2.03498732e-03],\n",
              "       [9.99828458e-01],\n",
              "       [9.99828458e-01],\n",
              "       [9.99948144e-01],\n",
              "       [1.52593613e-01],\n",
              "       [1.53310746e-01],\n",
              "       [6.77122101e-02],\n",
              "       [6.77037332e-03],\n",
              "       [1.74747640e-03],\n",
              "       [9.97656822e-01],\n",
              "       [7.27060363e-02],\n",
              "       [9.86713529e-01],\n",
              "       [9.78484690e-01],\n",
              "       [9.93554592e-01],\n",
              "       [1.66210718e-02],\n",
              "       [8.37115526e-01],\n",
              "       [9.97558355e-01],\n",
              "       [1.27942022e-03],\n",
              "       [3.36876996e-02],\n",
              "       [2.17208592e-03],\n",
              "       [4.94934559e-01],\n",
              "       [1.72002008e-04],\n",
              "       [6.31286651e-02],\n",
              "       [1.45567418e-03],\n",
              "       [5.56494389e-03],\n",
              "       [1.25181735e-01],\n",
              "       [1.64238212e-04],\n",
              "       [9.96938229e-01],\n",
              "       [3.43001217e-01],\n",
              "       [9.99158144e-01],\n",
              "       [9.97648537e-01],\n",
              "       [9.99884129e-01],\n",
              "       [4.96434301e-01],\n",
              "       [9.98701096e-01],\n",
              "       [9.99968648e-01],\n",
              "       [9.99746621e-01],\n",
              "       [5.38073806e-03],\n",
              "       [5.35596251e-01],\n",
              "       [6.38501048e-02],\n",
              "       [2.05110665e-02],\n",
              "       [9.95852709e-01],\n",
              "       [2.50822306e-02],\n",
              "       [9.87758100e-01],\n",
              "       [9.96333122e-01],\n",
              "       [4.26392362e-04],\n",
              "       [9.96416926e-01],\n",
              "       [9.99299169e-01],\n",
              "       [9.75651979e-01],\n",
              "       [7.10248128e-02],\n",
              "       [6.72449470e-01],\n",
              "       [8.52498233e-01],\n",
              "       [5.11627237e-04],\n",
              "       [9.99835610e-01],\n",
              "       [3.61882499e-03],\n",
              "       [9.97575462e-01],\n",
              "       [3.47949011e-04],\n",
              "       [2.70159870e-01],\n",
              "       [1.24164447e-02],\n",
              "       [5.49751043e-04],\n",
              "       [8.24901164e-01],\n",
              "       [5.52184522e-01]], dtype=float32)"
            ]
          },
          "metadata": {},
          "execution_count": 65
        }
      ]
    },
    {
      "cell_type": "code",
      "source": [
        "# Convert pred probs ot labels\n",
        "model_3_preds = tf.squeeze(tf.round(model_3_pred_probs))\n",
        "model_3_preds"
      ],
      "metadata": {
        "colab": {
          "base_uri": "https://localhost:8080/"
        },
        "id": "VP8QvndzRY6s",
        "outputId": "581b0965-e3cf-4d14-84e2-a3fbc0f29529"
      },
      "execution_count": 66,
      "outputs": [
        {
          "output_type": "execute_result",
          "data": {
            "text/plain": [
              "<tf.Tensor: shape=(762,), dtype=float32, numpy=\n",
              "array([1., 0., 1., 0., 0., 1., 1., 1., 0., 0., 1., 0., 0., 1., 0., 1., 0.,\n",
              "       0., 0., 0., 1., 1., 1., 0., 0., 1., 0., 0., 0., 0., 1., 0., 0., 1.,\n",
              "       0., 1., 0., 0., 0., 1., 0., 1., 1., 1., 1., 1., 0., 0., 1., 1., 0.,\n",
              "       0., 0., 0., 0., 1., 0., 1., 0., 0., 0., 0., 0., 1., 0., 1., 0., 1.,\n",
              "       0., 1., 1., 1., 1., 1., 1., 0., 0., 1., 0., 1., 0., 0., 1., 0., 1.,\n",
              "       1., 1., 1., 0., 1., 1., 0., 0., 0., 1., 0., 0., 0., 0., 0., 0., 0.,\n",
              "       0., 0., 0., 1., 1., 0., 0., 0., 1., 1., 1., 0., 0., 1., 1., 0., 0.,\n",
              "       1., 1., 0., 0., 1., 1., 0., 0., 1., 0., 0., 1., 1., 0., 0., 0., 0.,\n",
              "       0., 1., 0., 0., 0., 1., 0., 0., 0., 1., 0., 0., 0., 1., 0., 0., 0.,\n",
              "       0., 0., 0., 1., 1., 1., 0., 1., 0., 0., 0., 0., 0., 0., 0., 1., 0.,\n",
              "       1., 1., 0., 1., 0., 0., 1., 0., 1., 0., 1., 0., 0., 0., 0., 0., 1.,\n",
              "       0., 0., 0., 1., 1., 0., 0., 1., 1., 1., 0., 0., 1., 0., 0., 0., 0.,\n",
              "       1., 1., 0., 1., 1., 1., 0., 1., 0., 0., 1., 1., 0., 0., 1., 1., 1.,\n",
              "       0., 0., 1., 0., 0., 0., 0., 1., 0., 0., 0., 0., 0., 0., 1., 0., 1.,\n",
              "       0., 1., 1., 0., 1., 0., 0., 0., 0., 0., 1., 1., 1., 0., 0., 0., 1.,\n",
              "       0., 1., 1., 1., 0., 1., 0., 0., 0., 0., 0., 1., 1., 0., 0., 0., 0.,\n",
              "       0., 0., 0., 0., 0., 1., 0., 0., 0., 0., 0., 0., 1., 0., 1., 0., 0.,\n",
              "       0., 1., 0., 0., 0., 0., 1., 0., 1., 0., 1., 1., 0., 0., 0., 1., 0.,\n",
              "       1., 1., 0., 0., 0., 0., 1., 1., 0., 1., 1., 1., 0., 0., 1., 0., 1.,\n",
              "       1., 0., 1., 1., 0., 0., 0., 0., 1., 0., 0., 1., 1., 0., 1., 1., 0.,\n",
              "       1., 1., 0., 0., 1., 0., 1., 1., 0., 0., 1., 0., 1., 1., 1., 0., 0.,\n",
              "       0., 0., 0., 1., 0., 0., 0., 0., 0., 1., 0., 1., 0., 1., 0., 0., 0.,\n",
              "       1., 0., 0., 0., 1., 1., 0., 1., 1., 0., 0., 1., 0., 0., 0., 1., 0.,\n",
              "       1., 0., 0., 0., 0., 1., 1., 1., 0., 1., 0., 0., 0., 0., 0., 0., 1.,\n",
              "       1., 0., 0., 1., 1., 1., 0., 0., 1., 1., 0., 0., 1., 0., 0., 0., 1.,\n",
              "       0., 0., 0., 0., 0., 0., 0., 1., 0., 0., 1., 0., 0., 0., 1., 0., 1.,\n",
              "       0., 0., 0., 1., 0., 0., 0., 0., 0., 1., 1., 1., 1., 1., 0., 0., 1.,\n",
              "       1., 1., 1., 0., 0., 0., 0., 1., 0., 0., 1., 1., 0., 1., 0., 1., 0.,\n",
              "       0., 0., 0., 1., 1., 0., 0., 0., 0., 0., 0., 1., 0., 0., 0., 0., 0.,\n",
              "       1., 0., 1., 1., 1., 1., 1., 0., 0., 1., 1., 0., 0., 1., 1., 0., 0.,\n",
              "       0., 0., 0., 1., 1., 0., 0., 0., 0., 1., 1., 0., 0., 0., 0., 0., 0.,\n",
              "       0., 1., 1., 0., 1., 0., 1., 0., 0., 0., 0., 1., 1., 0., 0., 0., 0.,\n",
              "       1., 0., 1., 0., 0., 0., 1., 1., 1., 1., 0., 1., 0., 0., 1., 0., 0.,\n",
              "       0., 0., 1., 0., 1., 1., 0., 1., 0., 0., 0., 0., 0., 1., 0., 0., 0.,\n",
              "       1., 1., 0., 1., 1., 1., 1., 0., 0., 1., 1., 0., 0., 1., 0., 1., 0.,\n",
              "       1., 1., 1., 1., 1., 0., 1., 1., 1., 1., 1., 0., 0., 0., 1., 1., 0.,\n",
              "       0., 1., 0., 0., 0., 1., 0., 1., 1., 0., 0., 1., 0., 0., 0., 0., 1.,\n",
              "       0., 1., 0., 0., 1., 0., 0., 0., 1., 1., 0., 0., 0., 0., 1., 0., 1.,\n",
              "       0., 0., 1., 0., 0., 1., 0., 0., 0., 1., 1., 0., 0., 0., 0., 0., 0.,\n",
              "       1., 0., 1., 0., 0., 0., 1., 1., 1., 0., 0., 1., 0., 1., 1., 0., 0.,\n",
              "       1., 0., 0., 1., 1., 1., 0., 0., 1., 0., 1., 0., 1., 1., 0., 0., 0.,\n",
              "       1., 0., 0., 1., 0., 1., 1., 1., 0., 0., 0., 0., 0., 1., 0., 1., 1.,\n",
              "       1., 0., 1., 1., 0., 0., 0., 0., 0., 0., 0., 0., 0., 0., 1., 0., 1.,\n",
              "       1., 1., 0., 1., 1., 1., 0., 1., 0., 0., 1., 0., 1., 1., 0., 1., 1.,\n",
              "       1., 0., 1., 1., 0., 1., 0., 1., 0., 0., 0., 0., 1., 1.],\n",
              "      dtype=float32)>"
            ]
          },
          "metadata": {},
          "execution_count": 66
        }
      ]
    },
    {
      "cell_type": "code",
      "source": [
        "# Calcualte model 3 results\n",
        "model_3_results = calculate_results(y_true=val_labels,\n",
        "                                    y_pred=model_3_preds)\n",
        "model_3_results"
      ],
      "metadata": {
        "colab": {
          "base_uri": "https://localhost:8080/"
        },
        "id": "mwjOIgWcRoWw",
        "outputId": "7e5b0c5d-c05e-4d14-9a38-a25c28654e7b"
      },
      "execution_count": 67,
      "outputs": [
        {
          "output_type": "execute_result",
          "data": {
            "text/plain": [
              "{'accuracy': 76.9028871391076,\n",
              " 'precision': 0.7686296296463142,\n",
              " 'recall': 0.7690288713910761,\n",
              " 'f1': 0.7676117406909219}"
            ]
          },
          "metadata": {},
          "execution_count": 67
        }
      ]
    },
    {
      "cell_type": "markdown",
      "source": [
        "## Model 4: Bidirecitonal RNN\n",
        "\n",
        "Normal RNN's go from left to right\n",
        "\n",
        "Bidirecitonal RNN's to right to left as well as left to right (picks up more context)"
      ],
      "metadata": {
        "id": "3EpOteEqRykS"
      }
    },
    {
      "cell_type": "code",
      "source": [
        "# Build a bidirectional RNN in TF\n",
        "from tensorflow.keras import layers\n",
        "inputs = layers.Input(shape=(1,), dtype=\"string\")\n",
        "x = text_vectorizer(inputs)\n",
        "x = embedding(x)\n",
        "x = layers.Bidirectional(layers.LSTM(64, return_sequences=True))(x)\n",
        "x = layers.Bidirectional(layers.GRU(64))(x)\n",
        "outputs = layers.Dense(1, activation=\"sigmoid\")(x)\n",
        "model_4 = tf.keras.Model(inputs,outputs, name=\"model_4_bidirectional\")\n"
      ],
      "metadata": {
        "id": "9pDNRUYbYsfU"
      },
      "execution_count": 68,
      "outputs": []
    },
    {
      "cell_type": "code",
      "source": [
        "model_4.summary()"
      ],
      "metadata": {
        "colab": {
          "base_uri": "https://localhost:8080/"
        },
        "id": "InMdX6lyZu-_",
        "outputId": "a85ad469-1741-40a7-cad0-6f05d7172848"
      },
      "execution_count": 69,
      "outputs": [
        {
          "output_type": "stream",
          "name": "stdout",
          "text": [
            "Model: \"model_4_bidirectional\"\n",
            "_________________________________________________________________\n",
            " Layer (type)                Output Shape              Param #   \n",
            "=================================================================\n",
            " input_4 (InputLayer)        [(None, 1)]               0         \n",
            "                                                                 \n",
            " text_vectorization_1 (Text  (None, 15)                0         \n",
            " Vectorization)                                                  \n",
            "                                                                 \n",
            " embedding (Embedding)       (None, 15, 128)           1280000   \n",
            "                                                                 \n",
            " bidirectional (Bidirection  (None, 15, 128)           98816     \n",
            " al)                                                             \n",
            "                                                                 \n",
            " bidirectional_1 (Bidirecti  (None, 128)               74496     \n",
            " onal)                                                           \n",
            "                                                                 \n",
            " dense_3 (Dense)             (None, 1)                 129       \n",
            "                                                                 \n",
            "=================================================================\n",
            "Total params: 1453441 (5.54 MB)\n",
            "Trainable params: 1453441 (5.54 MB)\n",
            "Non-trainable params: 0 (0.00 Byte)\n",
            "_________________________________________________________________\n"
          ]
        }
      ]
    },
    {
      "cell_type": "code",
      "source": [
        "model_4.compile(loss=tf.keras.losses.BinaryCrossentropy(),\n",
        "                optimizer=tf.keras.optimizers.Adam(),\n",
        "                metrics=[\"accuracy\"])"
      ],
      "metadata": {
        "id": "3mEd23CiZw8v"
      },
      "execution_count": 70,
      "outputs": []
    },
    {
      "cell_type": "code",
      "source": [
        "model_4.fit(train_sentences,\n",
        "            train_labels,\n",
        "            epochs=5,\n",
        "            validation_data=(validation_sentences,val_labels),\n",
        "            callbacks=[create_tensorboard_callback(SAVE_DIR, \"model_4_bidirectional\")])"
      ],
      "metadata": {
        "colab": {
          "base_uri": "https://localhost:8080/"
        },
        "id": "GYhHXY8naElF",
        "outputId": "926c302e-5938-4a8a-e393-5f33672d5123"
      },
      "execution_count": 71,
      "outputs": [
        {
          "output_type": "stream",
          "name": "stdout",
          "text": [
            "Saving TensorBoard log files to: model_logs/model_4_bidirectional/20240514-233825\n",
            "Epoch 1/5\n",
            "215/215 [==============================] - 18s 46ms/step - loss: 0.0966 - accuracy: 0.9704 - val_loss: 1.0614 - val_accuracy: 0.7612\n",
            "Epoch 2/5\n",
            "215/215 [==============================] - 4s 18ms/step - loss: 0.0535 - accuracy: 0.9765 - val_loss: 1.1694 - val_accuracy: 0.7572\n",
            "Epoch 3/5\n",
            "215/215 [==============================] - 3s 15ms/step - loss: 0.0478 - accuracy: 0.9769 - val_loss: 1.3174 - val_accuracy: 0.7664\n",
            "Epoch 4/5\n",
            "215/215 [==============================] - 3s 12ms/step - loss: 0.0456 - accuracy: 0.9787 - val_loss: 1.4789 - val_accuracy: 0.7572\n",
            "Epoch 5/5\n",
            "215/215 [==============================] - 3s 13ms/step - loss: 0.0439 - accuracy: 0.9788 - val_loss: 1.7598 - val_accuracy: 0.7585\n"
          ]
        },
        {
          "output_type": "execute_result",
          "data": {
            "text/plain": [
              "<keras.src.callbacks.History at 0x7d4061dd4370>"
            ]
          },
          "metadata": {},
          "execution_count": 71
        }
      ]
    },
    {
      "cell_type": "code",
      "source": [
        "# Make predictions\n",
        "model_4_pred_probs = model_4.predict(validation_sentences)\n"
      ],
      "metadata": {
        "colab": {
          "base_uri": "https://localhost:8080/"
        },
        "id": "d1M5W_rXarmk",
        "outputId": "b7e40591-15ac-4809-8c2a-79886cfbce35"
      },
      "execution_count": 72,
      "outputs": [
        {
          "output_type": "stream",
          "name": "stdout",
          "text": [
            "24/24 [==============================] - 1s 5ms/step\n"
          ]
        }
      ]
    },
    {
      "cell_type": "code",
      "source": [
        "model_4_pred_probs[:10]"
      ],
      "metadata": {
        "colab": {
          "base_uri": "https://localhost:8080/"
        },
        "id": "aXJoOo2ga7Z9",
        "outputId": "4358128b-2d88-4f2b-bfc1-3425f43d3bcb"
      },
      "execution_count": 73,
      "outputs": [
        {
          "output_type": "execute_result",
          "data": {
            "text/plain": [
              "array([[9.9972492e-01],\n",
              "       [3.0774668e-02],\n",
              "       [9.9999404e-01],\n",
              "       [9.9917251e-01],\n",
              "       [1.1304364e-05],\n",
              "       [9.9899119e-01],\n",
              "       [9.9997878e-01],\n",
              "       [9.9999094e-01],\n",
              "       [6.5816975e-01],\n",
              "       [4.8589934e-02]], dtype=float32)"
            ]
          },
          "metadata": {},
          "execution_count": 73
        }
      ]
    },
    {
      "cell_type": "code",
      "source": [
        "# Convert to labels\n",
        "model_4_preds = tf.squeeze(tf.round(model_4_pred_probs))\n",
        "model_4_preds[:10]"
      ],
      "metadata": {
        "colab": {
          "base_uri": "https://localhost:8080/"
        },
        "id": "oamVeGNEbAbE",
        "outputId": "d3414677-d8df-4263-8a57-192b5deaf58d"
      },
      "execution_count": 74,
      "outputs": [
        {
          "output_type": "execute_result",
          "data": {
            "text/plain": [
              "<tf.Tensor: shape=(10,), dtype=float32, numpy=array([1., 0., 1., 1., 0., 1., 1., 1., 1., 0.], dtype=float32)>"
            ]
          },
          "metadata": {},
          "execution_count": 74
        }
      ]
    },
    {
      "cell_type": "code",
      "source": [
        "# Calculate results\n",
        "model_4_results = calculate_results(y_true=val_labels,\n",
        "                                    y_pred = model_4_preds)\n",
        "model_4_results"
      ],
      "metadata": {
        "colab": {
          "base_uri": "https://localhost:8080/"
        },
        "id": "Hcq5NbbWbG6O",
        "outputId": "895f66c9-40b3-4b80-8c47-acd858b73848"
      },
      "execution_count": 75,
      "outputs": [
        {
          "output_type": "execute_result",
          "data": {
            "text/plain": [
              "{'accuracy': 75.8530183727034,\n",
              " 'precision': 0.7626462715326607,\n",
              " 'recall': 0.7585301837270341,\n",
              " 'f1': 0.7592524264476912}"
            ]
          },
          "metadata": {},
          "execution_count": 75
        }
      ]
    },
    {
      "cell_type": "markdown",
      "source": [
        "##Convolutional NN for Text\n",
        "\n",
        "Images are typically 2D; Text data is 1D\n",
        "\n",
        "\n",
        "Inputs -> Tokenization -> Embedding -> Layers (Conv1D + pooling) -> Outputs"
      ],
      "metadata": {
        "id": "DEWmFsogbQN-"
      }
    },
    {
      "cell_type": "code",
      "source": [
        "# Test out our embedding layer, Conv1D layer and max pooling\n",
        "embedding_test = embedding(text_vectorizer([\"this is a test sentence\"])) # turn sequence into embedding\n",
        "conv_1d = layers.Conv1D(filters=32,\n",
        "                        kernel_size=5, # ngram of 5 (looks at 5 words at a time)\n",
        "                        activation=\"selu\",\n",
        "                        padding=\"valid\")\n",
        "conv_1d_output= conv_1d(embedding_test) # pass test embedding layer\n",
        "max_pool = layers.GlobalMaxPool1D()\n",
        "max_pool_output = max_pool(conv_1d_output) # get feature with highest value\n",
        "\n",
        "embedding_test.shape, conv_1d_output.shape, max_pool_output.shape"
      ],
      "metadata": {
        "colab": {
          "base_uri": "https://localhost:8080/"
        },
        "id": "YfabmC2wfl7N",
        "outputId": "f1552939-6625-4080-9372-c656ca2a9858"
      },
      "execution_count": 76,
      "outputs": [
        {
          "output_type": "execute_result",
          "data": {
            "text/plain": [
              "(TensorShape([1, 15, 128]), TensorShape([1, 11, 32]), TensorShape([1, 32]))"
            ]
          },
          "metadata": {},
          "execution_count": 76
        }
      ]
    },
    {
      "cell_type": "code",
      "source": [
        "embedding_test"
      ],
      "metadata": {
        "colab": {
          "base_uri": "https://localhost:8080/"
        },
        "id": "aaHe_OkTiID6",
        "outputId": "49ae0e92-eb44-42b2-d0c3-d50ad786f1ba"
      },
      "execution_count": 77,
      "outputs": [
        {
          "output_type": "execute_result",
          "data": {
            "text/plain": [
              "<tf.Tensor: shape=(1, 15, 128), dtype=float32, numpy=\n",
              "array([[[ 0.01895699, -0.01938309, -0.04612701, ...,  0.03885991,\n",
              "         -0.08435305,  0.0333542 ],\n",
              "        [-0.00066262,  0.00100742, -0.00063057, ..., -0.00771681,\n",
              "          0.0380147 ,  0.01726339],\n",
              "        [ 0.01806499, -0.04977818,  0.01514717, ..., -0.02823897,\n",
              "         -0.00577557,  0.0623312 ],\n",
              "        ...,\n",
              "        [-0.01778315,  0.00946763, -0.00678975, ...,  0.01409686,\n",
              "         -0.03800802,  0.00570826],\n",
              "        [-0.01778315,  0.00946763, -0.00678975, ...,  0.01409686,\n",
              "         -0.03800802,  0.00570826],\n",
              "        [-0.01778315,  0.00946763, -0.00678975, ...,  0.01409686,\n",
              "         -0.03800802,  0.00570826]]], dtype=float32)>"
            ]
          },
          "metadata": {},
          "execution_count": 77
        }
      ]
    },
    {
      "cell_type": "code",
      "source": [
        "conv_1d_output"
      ],
      "metadata": {
        "colab": {
          "base_uri": "https://localhost:8080/"
        },
        "id": "XZQLFspFjrum",
        "outputId": "d74d652a-91f9-4f41-dac4-0c7e15462a60"
      },
      "execution_count": 78,
      "outputs": [
        {
          "output_type": "execute_result",
          "data": {
            "text/plain": [
              "<tf.Tensor: shape=(1, 11, 32), dtype=float32, numpy=\n",
              "array([[[ 4.41780835e-02,  1.03360852e-02, -2.08558038e-01,\n",
              "         -1.04561731e-01,  4.89193983e-02, -9.18731093e-02,\n",
              "          2.99291201e-02,  2.41473224e-02, -8.45559761e-02,\n",
              "          9.00074169e-02,  6.99394345e-02, -2.24072766e-02,\n",
              "         -6.10023290e-02, -5.08576725e-03,  8.26066509e-02,\n",
              "         -6.36771023e-02,  1.20225295e-01,  5.86183444e-02,\n",
              "          5.89397997e-02, -1.15244268e-02, -3.92122148e-03,\n",
              "         -9.54925492e-02,  8.82230401e-02, -1.06346123e-01,\n",
              "         -7.76335821e-02, -3.03372201e-02,  4.10436727e-02,\n",
              "          5.26325330e-02, -2.15164386e-02, -1.15417568e-02,\n",
              "          5.46471495e-03, -6.43860996e-02],\n",
              "        [-5.14563397e-02,  7.46136308e-02,  3.10125994e-03,\n",
              "         -2.93620359e-02, -9.84411966e-03, -1.01899020e-01,\n",
              "         -1.48760844e-02,  5.64026423e-02,  7.48824179e-02,\n",
              "         -3.41173634e-02,  4.40343469e-02, -5.78313209e-02,\n",
              "          4.87596691e-02, -1.44826367e-01,  3.19528431e-02,\n",
              "         -1.49769694e-01,  8.22779723e-03, -1.22386090e-01,\n",
              "          3.51649188e-02,  6.17079362e-02,  7.09271878e-02,\n",
              "          2.70390436e-02,  2.43818969e-03,  6.86581358e-02,\n",
              "          6.17648251e-02,  1.98098589e-02, -1.47408321e-02,\n",
              "         -2.71399040e-02,  4.10871357e-02, -3.94442305e-02,\n",
              "          1.66753735e-02,  6.31669834e-02],\n",
              "        [-4.66122776e-02,  1.34486817e-02, -6.58609066e-03,\n",
              "          3.72166671e-02, -7.41433725e-03, -2.36347616e-02,\n",
              "         -4.27505895e-02,  1.22770844e-02,  5.19003905e-02,\n",
              "         -4.89386879e-02,  2.60456502e-02, -1.21470816e-01,\n",
              "          4.37383819e-03, -5.91824129e-02, -1.76794622e-02,\n",
              "         -2.49023549e-02,  5.58652580e-02, -1.75525248e-02,\n",
              "         -2.70377584e-02, -1.32161826e-01,  4.58017588e-02,\n",
              "          1.01913884e-01,  4.51409444e-02,  3.29399966e-02,\n",
              "          5.44491969e-03, -3.05114146e-02, -2.55536544e-03,\n",
              "         -2.97225323e-02, -4.99444567e-02,  1.37767261e-02,\n",
              "          4.66475170e-03,  5.99624366e-02],\n",
              "        [ 1.07430164e-02, -2.89927702e-02,  5.95406955e-03,\n",
              "         -3.09024528e-02, -2.50569899e-02,  3.21079884e-03,\n",
              "         -5.23643531e-02, -6.86264709e-02,  5.15387468e-02,\n",
              "         -1.04690172e-01, -4.95497584e-02,  3.41129825e-02,\n",
              "         -3.15907667e-03,  3.06648165e-02, -2.37295907e-02,\n",
              "         -2.19529662e-02,  8.92567337e-02,  1.67691465e-02,\n",
              "         -2.67046578e-02,  3.21710273e-03,  5.30749261e-02,\n",
              "          1.02208056e-01,  1.55154858e-02,  4.63602245e-02,\n",
              "         -9.74769704e-03, -6.91277906e-02, -6.02231175e-02,\n",
              "         -2.47563869e-02,  2.37132441e-02, -3.78895923e-02,\n",
              "          1.29331936e-04,  6.43386990e-02],\n",
              "        [-1.23554021e-02, -3.65764052e-02, -2.34986041e-02,\n",
              "         -9.12499335e-03, -1.24579836e-02, -5.01682609e-03,\n",
              "         -7.70042166e-02,  1.03368694e-02,  1.17964102e-02,\n",
              "         -1.54122123e-02, -1.22047765e-02, -3.96440439e-02,\n",
              "          4.79582921e-02, -1.91661641e-02,  1.44136995e-02,\n",
              "         -1.84808776e-03,  2.71376371e-02, -5.17689772e-02,\n",
              "         -7.43396655e-02,  3.64684127e-02,  2.03769468e-02,\n",
              "          7.89131001e-02,  3.73399910e-03,  6.76267548e-03,\n",
              "          1.03838164e-02, -4.64293733e-02, -5.09213060e-02,\n",
              "         -1.86818710e-03, -4.39024046e-02, -2.30602250e-02,\n",
              "         -4.63931970e-02,  4.59786430e-02],\n",
              "        [-7.79013569e-03, -7.68536283e-03, -2.54339166e-03,\n",
              "         -1.40364710e-02, -1.42179467e-02,  9.35909897e-03,\n",
              "         -8.36948082e-02,  3.39207314e-02,  3.34203392e-02,\n",
              "         -3.81916799e-02, -1.62345599e-02, -2.12181881e-02,\n",
              "          6.50764778e-02, -5.30504584e-02,  3.81923728e-02,\n",
              "          1.25129288e-02,  3.01489271e-02, -6.45845756e-02,\n",
              "         -1.67087503e-02,  3.38884965e-02, -1.85808223e-02,\n",
              "          6.60211034e-03,  7.14525534e-03,  1.33321155e-03,\n",
              "          1.17508518e-02, -6.53780177e-02, -8.97644162e-02,\n",
              "         -3.60447913e-02, -7.09957108e-02,  1.57387909e-02,\n",
              "         -1.51068950e-02,  2.51516085e-02],\n",
              "        [-7.79015105e-03, -7.68536516e-03, -2.54339469e-03,\n",
              "         -1.40364654e-02, -1.42179374e-02,  9.35910549e-03,\n",
              "         -8.36948007e-02,  3.39207314e-02,  3.34203355e-02,\n",
              "         -3.81916724e-02, -1.62345618e-02, -2.12181974e-02,\n",
              "          6.50764778e-02, -5.30504659e-02,  3.81923728e-02,\n",
              "          1.25129381e-02,  3.01489215e-02, -6.45845905e-02,\n",
              "         -1.67087521e-02,  3.38884927e-02, -1.85808409e-02,\n",
              "          6.60209451e-03,  7.14525674e-03,  1.33320456e-03,\n",
              "          1.17508499e-02, -6.53780326e-02, -8.97644162e-02,\n",
              "         -3.60447951e-02, -7.09957257e-02,  1.57388076e-02,\n",
              "         -1.51068829e-02,  2.51515992e-02],\n",
              "        [-7.79015012e-03, -7.68536516e-03, -2.54340167e-03,\n",
              "         -1.40364608e-02, -1.42179355e-02,  9.35911108e-03,\n",
              "         -8.36948007e-02,  3.39207277e-02,  3.34203430e-02,\n",
              "         -3.81916612e-02, -1.62345618e-02, -2.12181918e-02,\n",
              "          6.50764778e-02, -5.30504547e-02,  3.81923765e-02,\n",
              "          1.25129353e-02,  3.01489253e-02, -6.45845905e-02,\n",
              "         -1.67087503e-02,  3.38884965e-02, -1.85808241e-02,\n",
              "          6.60211546e-03,  7.14526186e-03,  1.33320468e-03,\n",
              "          1.17508490e-02, -6.53780177e-02, -8.97644162e-02,\n",
              "         -3.60447764e-02, -7.09957257e-02,  1.57388058e-02,\n",
              "         -1.51068829e-02,  2.51516011e-02],\n",
              "        [-7.79015617e-03, -7.68536516e-03, -2.54341401e-03,\n",
              "         -1.40364785e-02, -1.42179374e-02,  9.35910456e-03,\n",
              "         -8.36948007e-02,  3.39207351e-02,  3.34203392e-02,\n",
              "         -3.81916687e-02, -1.62345562e-02, -2.12181956e-02,\n",
              "          6.50764778e-02, -5.30504659e-02,  3.81923765e-02,\n",
              "          1.25129316e-02,  3.01489215e-02, -6.45845756e-02,\n",
              "         -1.67087503e-02,  3.38885002e-02, -1.85808409e-02,\n",
              "          6.60210382e-03,  7.14525627e-03,  1.33320421e-03,\n",
              "          1.17508536e-02, -6.53780177e-02, -8.97644162e-02,\n",
              "         -3.60447913e-02, -7.09957257e-02,  1.57387983e-02,\n",
              "         -1.51068885e-02,  2.51515992e-02],\n",
              "        [-7.79014314e-03, -7.68534886e-03, -2.54340982e-03,\n",
              "         -1.40364654e-02, -1.42179402e-02,  9.35910456e-03,\n",
              "         -8.36948007e-02,  3.39207351e-02,  3.34203430e-02,\n",
              "         -3.81916799e-02, -1.62345506e-02, -2.12182123e-02,\n",
              "          6.50764778e-02, -5.30504659e-02,  3.81923765e-02,\n",
              "          1.25129344e-02,  3.01489178e-02, -6.45845756e-02,\n",
              "         -1.67087521e-02,  3.38885002e-02, -1.85808465e-02,\n",
              "          6.60210382e-03,  7.14525580e-03,  1.33320072e-03,\n",
              "          1.17508555e-02, -6.53780177e-02, -8.97644088e-02,\n",
              "         -3.60447839e-02, -7.09957257e-02,  1.57387983e-02,\n",
              "         -1.51068950e-02,  2.51515955e-02],\n",
              "        [-7.79015105e-03, -7.68535212e-03, -2.54340190e-03,\n",
              "         -1.40364589e-02, -1.42179392e-02,  9.35910642e-03,\n",
              "         -8.36948007e-02,  3.39207314e-02,  3.34203355e-02,\n",
              "         -3.81916873e-02, -1.62345525e-02, -2.12182030e-02,\n",
              "          6.50764704e-02, -5.30504622e-02,  3.81923690e-02,\n",
              "          1.25129372e-02,  3.01489197e-02, -6.45845756e-02,\n",
              "         -1.67087503e-02,  3.38885002e-02, -1.85808334e-02,\n",
              "          6.60209591e-03,  7.14525674e-03,  1.33320980e-03,\n",
              "          1.17508499e-02, -6.53780028e-02, -8.97644162e-02,\n",
              "         -3.60447913e-02, -7.09957257e-02,  1.57388039e-02,\n",
              "         -1.51068894e-02,  2.51515992e-02]]], dtype=float32)>"
            ]
          },
          "metadata": {},
          "execution_count": 78
        }
      ]
    },
    {
      "cell_type": "code",
      "source": [
        "# Create 1D convolutional layer to model sequences\n",
        "from tensorflow.keras import layers\n",
        "inputs = layers.Input(shape=(1,), dtype=tf.string)\n",
        "x = text_vectorizer(inputs)\n",
        "x = embedding(x)\n",
        "x = layers.Conv1D(filters=64,\n",
        "                  kernel_size=5,\n",
        "                  activation=\"relu\",\n",
        "                  padding=\"valid\",\n",
        "                  strides=1)(x)\n",
        "x = layers.GlobalMaxPool1D()(x)\n",
        "outputs = layers.Dense(1, activation=\"sigmoid\")(x)\n",
        "model_5 = tf.keras.Model(inputs, outputs, name=\"Model_5_Conv1D\")\n",
        "\n",
        "model_5.compile(loss=\"binary_crossentropy\",\n",
        "                optimizer=tf.keras.optimizers.Adam(),\n",
        "                metrics=[\"accuracy\"])\n",
        "model_5.summary()"
      ],
      "metadata": {
        "colab": {
          "base_uri": "https://localhost:8080/"
        },
        "id": "ZKz_r4hEju_b",
        "outputId": "4bdad9b1-b17c-4bf0-ae5e-83fb59461b2b"
      },
      "execution_count": 79,
      "outputs": [
        {
          "output_type": "stream",
          "name": "stdout",
          "text": [
            "Model: \"Model_5_Conv1D\"\n",
            "_________________________________________________________________\n",
            " Layer (type)                Output Shape              Param #   \n",
            "=================================================================\n",
            " input_5 (InputLayer)        [(None, 1)]               0         \n",
            "                                                                 \n",
            " text_vectorization_1 (Text  (None, 15)                0         \n",
            " Vectorization)                                                  \n",
            "                                                                 \n",
            " embedding (Embedding)       (None, 15, 128)           1280000   \n",
            "                                                                 \n",
            " conv1d_1 (Conv1D)           (None, 11, 64)            41024     \n",
            "                                                                 \n",
            " global_max_pooling1d_1 (Gl  (None, 64)                0         \n",
            " obalMaxPooling1D)                                               \n",
            "                                                                 \n",
            " dense_4 (Dense)             (None, 1)                 65        \n",
            "                                                                 \n",
            "=================================================================\n",
            "Total params: 1321089 (5.04 MB)\n",
            "Trainable params: 1321089 (5.04 MB)\n",
            "Non-trainable params: 0 (0.00 Byte)\n",
            "_________________________________________________________________\n"
          ]
        }
      ]
    },
    {
      "cell_type": "code",
      "source": [
        "model_5.fit(train_sentences,\n",
        "            train_labels,\n",
        "            epochs=5,\n",
        "            validation_data = (validation_sentences, val_labels),\n",
        "            callbacks=[create_tensorboard_callback(SAVE_DIR, \"Conv1D\")])"
      ],
      "metadata": {
        "colab": {
          "base_uri": "https://localhost:8080/"
        },
        "id": "eEEgzykAlIrN",
        "outputId": "9807635d-68e8-4276-c6f8-a435d551ceb6"
      },
      "execution_count": 80,
      "outputs": [
        {
          "output_type": "stream",
          "name": "stdout",
          "text": [
            "Saving TensorBoard log files to: model_logs/Conv1D/20240514-233915\n",
            "Epoch 1/5\n",
            "215/215 [==============================] - 10s 39ms/step - loss: 0.1275 - accuracy: 0.9578 - val_loss: 0.8053 - val_accuracy: 0.7743\n",
            "Epoch 2/5\n",
            "215/215 [==============================] - 3s 12ms/step - loss: 0.0777 - accuracy: 0.9729 - val_loss: 0.9350 - val_accuracy: 0.7703\n",
            "Epoch 3/5\n",
            "215/215 [==============================] - 2s 9ms/step - loss: 0.0645 - accuracy: 0.9771 - val_loss: 1.0073 - val_accuracy: 0.7638\n",
            "Epoch 4/5\n",
            "215/215 [==============================] - 2s 10ms/step - loss: 0.0563 - accuracy: 0.9769 - val_loss: 1.1019 - val_accuracy: 0.7493\n",
            "Epoch 5/5\n",
            "215/215 [==============================] - 2s 11ms/step - loss: 0.0548 - accuracy: 0.9777 - val_loss: 1.1292 - val_accuracy: 0.7480\n"
          ]
        },
        {
          "output_type": "execute_result",
          "data": {
            "text/plain": [
              "<keras.src.callbacks.History at 0x7d4065cb88b0>"
            ]
          },
          "metadata": {},
          "execution_count": 80
        }
      ]
    },
    {
      "cell_type": "code",
      "source": [
        "model_5_pred_probs = model_5.predict(validation_sentences)\n",
        "model_5_preds = tf.squeeze(tf.round(model_5_pred_probs))\n",
        "model_5_preds[:10]"
      ],
      "metadata": {
        "colab": {
          "base_uri": "https://localhost:8080/"
        },
        "id": "rCdkqKzvlcWw",
        "outputId": "eb0ee687-1ae2-4d38-b169-c583f1877ebf"
      },
      "execution_count": 81,
      "outputs": [
        {
          "output_type": "stream",
          "name": "stdout",
          "text": [
            "24/24 [==============================] - 0s 3ms/step\n"
          ]
        },
        {
          "output_type": "execute_result",
          "data": {
            "text/plain": [
              "<tf.Tensor: shape=(10,), dtype=float32, numpy=array([1., 0., 1., 1., 0., 1., 1., 1., 1., 0.], dtype=float32)>"
            ]
          },
          "metadata": {},
          "execution_count": 81
        }
      ]
    },
    {
      "cell_type": "code",
      "source": [
        "model_5_results = calculate_results(y_true = val_labels,\n",
        "                                    y_pred = model_5_preds)"
      ],
      "metadata": {
        "id": "X-iwMvUtluDL"
      },
      "execution_count": 82,
      "outputs": []
    },
    {
      "cell_type": "code",
      "source": [
        "model_5_results"
      ],
      "metadata": {
        "colab": {
          "base_uri": "https://localhost:8080/"
        },
        "id": "9hw4en19l4Ea",
        "outputId": "a1ce943b-537c-4ce1-cd70-dd407d4f9b3b"
      },
      "execution_count": 83,
      "outputs": [
        {
          "output_type": "execute_result",
          "data": {
            "text/plain": [
              "{'accuracy': 74.80314960629921,\n",
              " 'precision': 0.7511333382322184,\n",
              " 'recall': 0.7480314960629921,\n",
              " 'f1': 0.7487126761222974}"
            ]
          },
          "metadata": {},
          "execution_count": 83
        }
      ]
    },
    {
      "cell_type": "code",
      "source": [
        "## Model 6: TF Hub Pretrained Sentence Encoder\n",
        "import tensorflow_hub as hub"
      ],
      "metadata": {
        "id": "yF3PATICl51_"
      },
      "execution_count": 84,
      "outputs": []
    },
    {
      "cell_type": "code",
      "source": [
        "print(sample_sentence)"
      ],
      "metadata": {
        "colab": {
          "base_uri": "https://localhost:8080/"
        },
        "id": "s46gwNG2qNdS",
        "outputId": "ad7ac899-f707-460f-f78c-c7a7cf201339"
      },
      "execution_count": 85,
      "outputs": [
        {
          "output_type": "stream",
          "name": "stdout",
          "text": [
            "There's a flood in my street!\n"
          ]
        }
      ]
    },
    {
      "cell_type": "code",
      "source": [
        "embed = hub.load(\"https://tfhub.dev/google/universal-sentence-encoder/4\")\n",
        "embed_samples = embed([sample_sentence, \"When you use the universal sentence encoder on a sentence, it turns the sentence into an embedding vector\"])\n",
        "print(embed_samples[0])"
      ],
      "metadata": {
        "colab": {
          "base_uri": "https://localhost:8080/"
        },
        "id": "uZGSK5TUorWi",
        "outputId": "03a79f76-77ac-4af2-e012-f2e2df1a2451"
      },
      "execution_count": 86,
      "outputs": [
        {
          "output_type": "stream",
          "name": "stdout",
          "text": [
            "tf.Tensor(\n",
            "[-0.01157028  0.0248591   0.02878048 -0.012715    0.03971538  0.0882776\n",
            "  0.02680984  0.05589836 -0.0106873  -0.00597291  0.00639323 -0.01819518\n",
            "  0.00030813  0.09105888  0.05874644 -0.03180628  0.01512474 -0.05162929\n",
            "  0.00991367 -0.06865347 -0.04209306  0.02678981  0.03011006  0.00321069\n",
            " -0.00337973 -0.04787357  0.0226672  -0.00985925 -0.04063613 -0.01292092\n",
            " -0.04666384  0.05630299 -0.03949255  0.00517686  0.02495829 -0.0701444\n",
            "  0.02871508  0.04947684 -0.00633979 -0.08960192  0.02807118 -0.00808364\n",
            " -0.01360602  0.0599865  -0.10361787 -0.05195374  0.00232954 -0.02332531\n",
            " -0.03758105  0.03327728 -0.00430603 -0.05894244 -0.06101276 -0.02220005\n",
            " -0.01575761 -0.00474414 -0.03515062 -0.04440377 -0.04174353  0.04943503\n",
            " -0.02740932 -0.04133101  0.01634346 -0.03713681  0.07395207 -0.00659238\n",
            " -0.0694331  -0.00361752  0.08656701  0.07717378 -0.06633057  0.02086627\n",
            "  0.06676423  0.00982106  0.01410716  0.07672232  0.05026635  0.02969931\n",
            " -0.01391874  0.06082514  0.08967174 -0.01739941 -0.02335796  0.01980952\n",
            " -0.05318437 -0.00597195 -0.01789535  0.03518632  0.03316377 -0.01078376\n",
            " -0.04246281  0.02813077 -0.04440409  0.02138845 -0.07827792  0.0037878\n",
            "  0.02113327  0.04898281  0.01862646  0.04409025 -0.00877462 -0.080099\n",
            " -0.06491723  0.03673801  0.02910934  0.0437706  -0.0277187  -0.00020972\n",
            " -0.04724235  0.00211793  0.00241363 -0.03451073 -0.05195144  0.04019913\n",
            " -0.01107909  0.02099734  0.07319079 -0.06645015  0.02918022  0.07274126\n",
            "  0.09450106 -0.0554999  -0.02150271 -0.0216001  -0.09313712  0.03371137\n",
            " -0.01765814  0.02668389 -0.01314882  0.07629125  0.05064229  0.03545807\n",
            " -0.05802931 -0.00128819  0.02550668 -0.06641154 -0.04101516 -0.07549169\n",
            "  0.01499909 -0.01135047 -0.04933346 -0.07272243  0.00363881 -0.01518946\n",
            "  0.05594088 -0.04914049 -0.01842419 -0.01433045 -0.06046046  0.02016241\n",
            "  0.05592835 -0.01900853  0.03671473  0.00335185 -0.0653839  -0.0410016\n",
            "  0.00468295 -0.03396352  0.04442611  0.07719966 -0.08504521  0.01783496\n",
            "  0.02114924 -0.05993735 -0.04932676 -0.05756366  0.10220413  0.00475881\n",
            " -0.00511757 -0.06249486 -0.01093349 -0.07538158 -0.00616411 -0.05241332\n",
            " -0.02642498 -0.06815231 -0.02264814 -0.05251466 -0.06109071  0.04736177\n",
            " -0.0211643  -0.02787968 -0.04840661  0.00624507 -0.00694626 -0.01796258\n",
            " -0.03916385 -0.05585474 -0.01492354  0.05002921 -0.06699253  0.07363343\n",
            "  0.05643307  0.00630315 -0.03625727 -0.0128614   0.06335039 -0.04099046\n",
            " -0.02099767 -0.01769316 -0.03773162  0.02522286 -0.00515928  0.09712509\n",
            "  0.01081978  0.03883318  0.01335081 -0.01399824 -0.04374617  0.03636796\n",
            " -0.01776026 -0.05713793  0.04273818  0.01639234  0.00094627  0.03364852\n",
            "  0.04082774  0.062793    0.01755403 -0.06590243  0.02764741  0.07578105\n",
            "  0.02397394  0.00288975 -0.02025192  0.01948242 -0.04223581 -0.03046631\n",
            "  0.04044751 -0.04834408 -0.02124536  0.06924415 -0.01574234  0.09941211\n",
            "  0.07451482  0.00243588  0.04384918  0.0533605  -0.08577849 -0.02304754\n",
            " -0.01068814 -0.01797064  0.08412117  0.05105528  0.0198401   0.04222857\n",
            " -0.04869326  0.08947873  0.02508026  0.07413824  0.03269237 -0.01735415\n",
            " -0.03304142 -0.04956811 -0.0032611  -0.03993597 -0.03007109 -0.04603602\n",
            " -0.02892623 -0.07143306  0.02684832  0.01602261 -0.06831486  0.03801538\n",
            " -0.02441479  0.05378301  0.03296162 -0.03403028 -0.02332754  0.04537228\n",
            " -0.03889669 -0.00617604 -0.00882424  0.00267765 -0.08132632  0.05419115\n",
            " -0.05534775 -0.02592236  0.04277048  0.0269345  -0.03611583  0.03778697\n",
            "  0.06067456  0.03575341  0.00916521 -0.00827851  0.0627624   0.04202009\n",
            " -0.03204762  0.02008642  0.08058751 -0.05461727  0.0779867   0.05942629\n",
            "  0.00883446 -0.00695634  0.02571711  0.02623858 -0.07648964  0.03418233\n",
            " -0.01819847 -0.0430103   0.01286275 -0.04837706 -0.0091009  -0.01071082\n",
            "  0.00010399  0.02701858 -0.04757858  0.02599769 -0.00684556  0.01497615\n",
            " -0.08898536  0.03221718 -0.00036083 -0.06063572 -0.03318375  0.03554993\n",
            "  0.03847632  0.06862563  0.05161573  0.04342311  0.04140064 -0.04563707\n",
            " -0.03845314  0.0308318   0.0082776  -0.00866157 -0.04097845  0.06381842\n",
            " -0.01308796 -0.02424811 -0.05175818  0.0183505  -0.07147802  0.00725171\n",
            " -0.0721117   0.06165017 -0.03569034 -0.01217909  0.0617242  -0.04625789\n",
            "  0.00082081  0.04339868  0.00091036 -0.07088618  0.01646287 -0.08164821\n",
            " -0.03716551  0.04262336 -0.01241012 -0.08372841 -0.01366776  0.00571899\n",
            " -0.00477371  0.06399125 -0.0943351   0.01710174 -0.01227761  0.05677067\n",
            " -0.00382792 -0.05680655  0.08489885  0.07041533 -0.00456506 -0.03479037\n",
            " -0.04344757 -0.06414607  0.00166128  0.02918557  0.03372649 -0.00778522\n",
            "  0.03244479 -0.00989516 -0.03030811 -0.07584874  0.05150714 -0.02841257\n",
            " -0.07917359 -0.03578363  0.05016286  0.01860839  0.00074915 -0.00872889\n",
            " -0.01031673 -0.02014872 -0.09723576  0.03965212 -0.06817243 -0.00105302\n",
            "  0.00737335 -0.00222847  0.02685831  0.06966115  0.02972178  0.04178473\n",
            " -0.02220552  0.01747188 -0.03353752 -0.03834698 -0.01922803 -0.03150896\n",
            "  0.05334111  0.02373906 -0.01034905  0.00214743 -0.04157256 -0.03025418\n",
            "  0.00581008  0.01137193 -0.00592397 -0.05769081 -0.06344254  0.04439222\n",
            "  0.01658632  0.05665408 -0.02544701  0.02046604  0.05887647 -0.07208315\n",
            " -0.03404434 -0.06583709 -0.02519128 -0.00026587  0.03846854 -0.02013167\n",
            "  0.00200025 -0.00627339 -0.04666032 -0.00455737  0.006055   -0.01356127\n",
            "  0.04474315  0.02471942 -0.0732187  -0.05608065 -0.06762251 -0.01433571\n",
            "  0.03541975 -0.04898684 -0.04268677  0.03438693  0.02330969 -0.00562101\n",
            "  0.05483433  0.01283661  0.02040323 -0.00852739 -0.07735825 -0.01213969\n",
            " -0.02332449 -0.0215429   0.04894267 -0.08804285 -0.02543784 -0.04927177\n",
            " -0.04087909 -0.01773587 -0.07637206  0.00269291 -0.0602887   0.01861771\n",
            "  0.06966407 -0.06209602 -0.06811608 -0.08184287 -0.02575568 -0.02269541\n",
            "  0.08195685  0.0582372  -0.07867002  0.07145876 -0.04366784  0.02787705\n",
            " -0.0125781  -0.05811887  0.03620557 -0.05508832 -0.00261799 -0.09346887\n",
            "  0.09706795 -0.05189685 -0.00031378  0.06562173 -0.02415269  0.0090165\n",
            "  0.05061334  0.00056091 -0.01252412  0.09506277 -0.01020624 -0.01407784\n",
            "  0.05391148  0.04550584  0.03244826  0.04292122 -0.01375776 -0.03055825\n",
            " -0.01261502  0.05822347  0.02029676  0.03866008  0.00686585  0.00538892\n",
            " -0.0215005   0.00261668  0.03741341 -0.03374723 -0.0228951  -0.00186124\n",
            "  0.02315826 -0.01485021], shape=(512,), dtype=float32)\n"
          ]
        }
      ]
    },
    {
      "cell_type": "code",
      "source": [
        "sentence_encoder_layer = hub.KerasLayer(\"https://tfhub.dev/google/universal-sentence-encoder/4\", input_shape=[], dtype=tf.string, trainable=False, name=\"USE\")\n"
      ],
      "metadata": {
        "id": "mjmmcXaup6bT"
      },
      "execution_count": 87,
      "outputs": []
    },
    {
      "cell_type": "code",
      "source": [
        "# Create model using Sequential API\n",
        "\n",
        "model_6 = tf.keras.Sequential([\n",
        "    sentence_encoder_layer,\n",
        "    layers.Dense(64, activation=\"relu\"),\n",
        "    layers.Dense(1, activation=\"sigmoid\")\n",
        "])\n"
      ],
      "metadata": {
        "id": "1N_YSYWUrA4x"
      },
      "execution_count": 88,
      "outputs": []
    },
    {
      "cell_type": "code",
      "source": [
        "model_6.compile(loss=\"binary_crossentropy\",\n",
        "                optimizer=tf.keras.optimizers.Adam(),\n",
        "                metrics=[\"accuracy\"])"
      ],
      "metadata": {
        "id": "wzdde08hrUlC"
      },
      "execution_count": 89,
      "outputs": []
    },
    {
      "cell_type": "code",
      "source": [
        "model_6.summary()"
      ],
      "metadata": {
        "colab": {
          "base_uri": "https://localhost:8080/"
        },
        "id": "atLrn0YIrdf2",
        "outputId": "b20ea66b-454e-41f4-df7c-1e540e2984b1"
      },
      "execution_count": 90,
      "outputs": [
        {
          "output_type": "stream",
          "name": "stdout",
          "text": [
            "Model: \"sequential\"\n",
            "_________________________________________________________________\n",
            " Layer (type)                Output Shape              Param #   \n",
            "=================================================================\n",
            " USE (KerasLayer)            (None, 512)               256797824 \n",
            "                                                                 \n",
            " dense_5 (Dense)             (None, 64)                32832     \n",
            "                                                                 \n",
            " dense_6 (Dense)             (None, 1)                 65        \n",
            "                                                                 \n",
            "=================================================================\n",
            "Total params: 256830721 (979.73 MB)\n",
            "Trainable params: 32897 (128.50 KB)\n",
            "Non-trainable params: 256797824 (979.61 MB)\n",
            "_________________________________________________________________\n"
          ]
        }
      ]
    },
    {
      "cell_type": "code",
      "source": [
        "# Train classifier on top of USE pretrained embeddings\n",
        "model_6_history = model_6.fit(train_sentences,\n",
        "                              train_labels,\n",
        "                              epochs=10,\n",
        "                              validation_data = [validation_sentences, val_labels],\n",
        "                              callbacks=[create_tensorboard_callback(SAVE_DIR,\n",
        "                                                                     \"tf_hub_sentence_encoder\")])"
      ],
      "metadata": {
        "colab": {
          "base_uri": "https://localhost:8080/"
        },
        "id": "TazvjdHOriTc",
        "outputId": "ef98e09a-4806-4582-d543-9b0e848c01fa"
      },
      "execution_count": 91,
      "outputs": [
        {
          "output_type": "stream",
          "name": "stdout",
          "text": [
            "Saving TensorBoard log files to: model_logs/tf_hub_sentence_encoder/20240514-234034\n",
            "Epoch 1/10\n",
            "215/215 [==============================] - 11s 30ms/step - loss: 0.5080 - accuracy: 0.7799 - val_loss: 0.4067 - val_accuracy: 0.8176\n",
            "Epoch 2/10\n",
            "215/215 [==============================] - 4s 19ms/step - loss: 0.4200 - accuracy: 0.8110 - val_loss: 0.3882 - val_accuracy: 0.8386\n",
            "Epoch 3/10\n",
            "215/215 [==============================] - 4s 16ms/step - loss: 0.4049 - accuracy: 0.8194 - val_loss: 0.3831 - val_accuracy: 0.8491\n",
            "Epoch 4/10\n",
            "215/215 [==============================] - 3s 13ms/step - loss: 0.3962 - accuracy: 0.8264 - val_loss: 0.3862 - val_accuracy: 0.8373\n",
            "Epoch 5/10\n",
            "215/215 [==============================] - 3s 12ms/step - loss: 0.3890 - accuracy: 0.8307 - val_loss: 0.3796 - val_accuracy: 0.8451\n",
            "Epoch 6/10\n",
            "215/215 [==============================] - 3s 13ms/step - loss: 0.3818 - accuracy: 0.8324 - val_loss: 0.3843 - val_accuracy: 0.8425\n",
            "Epoch 7/10\n",
            "215/215 [==============================] - 4s 19ms/step - loss: 0.3745 - accuracy: 0.8381 - val_loss: 0.3843 - val_accuracy: 0.8412\n",
            "Epoch 8/10\n",
            "215/215 [==============================] - 3s 12ms/step - loss: 0.3683 - accuracy: 0.8373 - val_loss: 0.3761 - val_accuracy: 0.8451\n",
            "Epoch 9/10\n",
            "215/215 [==============================] - 3s 13ms/step - loss: 0.3617 - accuracy: 0.8418 - val_loss: 0.3779 - val_accuracy: 0.8412\n",
            "Epoch 10/10\n",
            "215/215 [==============================] - 3s 13ms/step - loss: 0.3560 - accuracy: 0.8472 - val_loss: 0.3728 - val_accuracy: 0.8451\n"
          ]
        }
      ]
    },
    {
      "cell_type": "code",
      "source": [
        "# Make predictions\n",
        "model_6_pred_probs = model_6.predict(validation_sentences)\n",
        "model_6_preds = tf.squeeze(tf.round(model_6_pred_probs))\n",
        "model_6_results = calculate_results(y_true=val_labels,\n",
        "                                    y_pred = model_6_preds)"
      ],
      "metadata": {
        "colab": {
          "base_uri": "https://localhost:8080/"
        },
        "id": "ITZYGKOprzqa",
        "outputId": "5c0b19d1-67f7-4434-8481-a3ee98c55a7b"
      },
      "execution_count": 92,
      "outputs": [
        {
          "output_type": "stream",
          "name": "stdout",
          "text": [
            "24/24 [==============================] - 1s 9ms/step\n"
          ]
        }
      ]
    },
    {
      "cell_type": "code",
      "source": [
        "model_6_results"
      ],
      "metadata": {
        "colab": {
          "base_uri": "https://localhost:8080/"
        },
        "id": "RmEVjFIGsM_I",
        "outputId": "a4ce5e88-5266-44df-dfef-78dea1b05f53"
      },
      "execution_count": 93,
      "outputs": [
        {
          "output_type": "execute_result",
          "data": {
            "text/plain": [
              "{'accuracy': 84.51443569553805,\n",
              " 'precision': 0.8469145902216768,\n",
              " 'recall': 0.8451443569553806,\n",
              " 'f1': 0.8438535006004724}"
            ]
          },
          "metadata": {},
          "execution_count": 93
        }
      ]
    },
    {
      "cell_type": "markdown",
      "source": [
        "## Model 7: TF Hub Pretrained USE but with 10% of training data\n"
      ],
      "metadata": {
        "id": "BkFGsQB3sRTZ"
      }
    },
    {
      "cell_type": "code",
      "source": [
        "# Create subsets of 10% of training data\n",
        "train_10_percent = train_df_shuffled[[\"text\", \"target\"]].sample(frac=0.1, random_state=42)"
      ],
      "metadata": {
        "id": "iOeZrOvOtkrJ"
      },
      "execution_count": 94,
      "outputs": []
    },
    {
      "cell_type": "code",
      "source": [
        "train_10_percent"
      ],
      "metadata": {
        "colab": {
          "base_uri": "https://localhost:8080/",
          "height": 423
        },
        "id": "SH5T_Z4qtxX_",
        "outputId": "c45ddf0d-c048-44e6-852d-54bfd1d1b9e9"
      },
      "execution_count": 95,
      "outputs": [
        {
          "output_type": "execute_result",
          "data": {
            "text/plain": [
              "                                                   text  target\n",
              "5016  'It looks like a mudslide' 'It's like chewing ...       0\n",
              "6316  Mxaaaa South Africans Just Can't Appreciate Ef...       0\n",
              "5515  gmtTy mhtw4fnet\\n\\nOfficials: Alabama home qua...       1\n",
              "2597                 the way he did me  destroyed me...       0\n",
              "733      @KatRamsland Yes I'm a bleeding heart liberal.       1\n",
              "...                                                 ...     ...\n",
              "352   Seeing that army of whitewalkers was the very ...       0\n",
              "4860  Julian Knight - @SCVSupremeCourt dismisses mas...       1\n",
              "4869  Another White mass murderer. Thank God I live ...       1\n",
              "3144  When your child needs emergency care they can ...       0\n",
              "95    9 Mile backup on I-77 South...accident blockin...       1\n",
              "\n",
              "[761 rows x 2 columns]"
            ],
            "text/html": [
              "\n",
              "  <div id=\"df-3e9e1b6a-8e25-4ca8-b3cf-3f5302cb63cf\" class=\"colab-df-container\">\n",
              "    <div>\n",
              "<style scoped>\n",
              "    .dataframe tbody tr th:only-of-type {\n",
              "        vertical-align: middle;\n",
              "    }\n",
              "\n",
              "    .dataframe tbody tr th {\n",
              "        vertical-align: top;\n",
              "    }\n",
              "\n",
              "    .dataframe thead th {\n",
              "        text-align: right;\n",
              "    }\n",
              "</style>\n",
              "<table border=\"1\" class=\"dataframe\">\n",
              "  <thead>\n",
              "    <tr style=\"text-align: right;\">\n",
              "      <th></th>\n",
              "      <th>text</th>\n",
              "      <th>target</th>\n",
              "    </tr>\n",
              "  </thead>\n",
              "  <tbody>\n",
              "    <tr>\n",
              "      <th>5016</th>\n",
              "      <td>'It looks like a mudslide' 'It's like chewing ...</td>\n",
              "      <td>0</td>\n",
              "    </tr>\n",
              "    <tr>\n",
              "      <th>6316</th>\n",
              "      <td>Mxaaaa South Africans Just Can't Appreciate Ef...</td>\n",
              "      <td>0</td>\n",
              "    </tr>\n",
              "    <tr>\n",
              "      <th>5515</th>\n",
              "      <td>gmtTy mhtw4fnet\\n\\nOfficials: Alabama home qua...</td>\n",
              "      <td>1</td>\n",
              "    </tr>\n",
              "    <tr>\n",
              "      <th>2597</th>\n",
              "      <td>the way he did me  destroyed me...</td>\n",
              "      <td>0</td>\n",
              "    </tr>\n",
              "    <tr>\n",
              "      <th>733</th>\n",
              "      <td>@KatRamsland Yes I'm a bleeding heart liberal.</td>\n",
              "      <td>1</td>\n",
              "    </tr>\n",
              "    <tr>\n",
              "      <th>...</th>\n",
              "      <td>...</td>\n",
              "      <td>...</td>\n",
              "    </tr>\n",
              "    <tr>\n",
              "      <th>352</th>\n",
              "      <td>Seeing that army of whitewalkers was the very ...</td>\n",
              "      <td>0</td>\n",
              "    </tr>\n",
              "    <tr>\n",
              "      <th>4860</th>\n",
              "      <td>Julian Knight - @SCVSupremeCourt dismisses mas...</td>\n",
              "      <td>1</td>\n",
              "    </tr>\n",
              "    <tr>\n",
              "      <th>4869</th>\n",
              "      <td>Another White mass murderer. Thank God I live ...</td>\n",
              "      <td>1</td>\n",
              "    </tr>\n",
              "    <tr>\n",
              "      <th>3144</th>\n",
              "      <td>When your child needs emergency care they can ...</td>\n",
              "      <td>0</td>\n",
              "    </tr>\n",
              "    <tr>\n",
              "      <th>95</th>\n",
              "      <td>9 Mile backup on I-77 South...accident blockin...</td>\n",
              "      <td>1</td>\n",
              "    </tr>\n",
              "  </tbody>\n",
              "</table>\n",
              "<p>761 rows × 2 columns</p>\n",
              "</div>\n",
              "    <div class=\"colab-df-buttons\">\n",
              "\n",
              "  <div class=\"colab-df-container\">\n",
              "    <button class=\"colab-df-convert\" onclick=\"convertToInteractive('df-3e9e1b6a-8e25-4ca8-b3cf-3f5302cb63cf')\"\n",
              "            title=\"Convert this dataframe to an interactive table.\"\n",
              "            style=\"display:none;\">\n",
              "\n",
              "  <svg xmlns=\"http://www.w3.org/2000/svg\" height=\"24px\" viewBox=\"0 -960 960 960\">\n",
              "    <path d=\"M120-120v-720h720v720H120Zm60-500h600v-160H180v160Zm220 220h160v-160H400v160Zm0 220h160v-160H400v160ZM180-400h160v-160H180v160Zm440 0h160v-160H620v160ZM180-180h160v-160H180v160Zm440 0h160v-160H620v160Z\"/>\n",
              "  </svg>\n",
              "    </button>\n",
              "\n",
              "  <style>\n",
              "    .colab-df-container {\n",
              "      display:flex;\n",
              "      gap: 12px;\n",
              "    }\n",
              "\n",
              "    .colab-df-convert {\n",
              "      background-color: #E8F0FE;\n",
              "      border: none;\n",
              "      border-radius: 50%;\n",
              "      cursor: pointer;\n",
              "      display: none;\n",
              "      fill: #1967D2;\n",
              "      height: 32px;\n",
              "      padding: 0 0 0 0;\n",
              "      width: 32px;\n",
              "    }\n",
              "\n",
              "    .colab-df-convert:hover {\n",
              "      background-color: #E2EBFA;\n",
              "      box-shadow: 0px 1px 2px rgba(60, 64, 67, 0.3), 0px 1px 3px 1px rgba(60, 64, 67, 0.15);\n",
              "      fill: #174EA6;\n",
              "    }\n",
              "\n",
              "    .colab-df-buttons div {\n",
              "      margin-bottom: 4px;\n",
              "    }\n",
              "\n",
              "    [theme=dark] .colab-df-convert {\n",
              "      background-color: #3B4455;\n",
              "      fill: #D2E3FC;\n",
              "    }\n",
              "\n",
              "    [theme=dark] .colab-df-convert:hover {\n",
              "      background-color: #434B5C;\n",
              "      box-shadow: 0px 1px 3px 1px rgba(0, 0, 0, 0.15);\n",
              "      filter: drop-shadow(0px 1px 2px rgba(0, 0, 0, 0.3));\n",
              "      fill: #FFFFFF;\n",
              "    }\n",
              "  </style>\n",
              "\n",
              "    <script>\n",
              "      const buttonEl =\n",
              "        document.querySelector('#df-3e9e1b6a-8e25-4ca8-b3cf-3f5302cb63cf button.colab-df-convert');\n",
              "      buttonEl.style.display =\n",
              "        google.colab.kernel.accessAllowed ? 'block' : 'none';\n",
              "\n",
              "      async function convertToInteractive(key) {\n",
              "        const element = document.querySelector('#df-3e9e1b6a-8e25-4ca8-b3cf-3f5302cb63cf');\n",
              "        const dataTable =\n",
              "          await google.colab.kernel.invokeFunction('convertToInteractive',\n",
              "                                                    [key], {});\n",
              "        if (!dataTable) return;\n",
              "\n",
              "        const docLinkHtml = 'Like what you see? Visit the ' +\n",
              "          '<a target=\"_blank\" href=https://colab.research.google.com/notebooks/data_table.ipynb>data table notebook</a>'\n",
              "          + ' to learn more about interactive tables.';\n",
              "        element.innerHTML = '';\n",
              "        dataTable['output_type'] = 'display_data';\n",
              "        await google.colab.output.renderOutput(dataTable, element);\n",
              "        const docLink = document.createElement('div');\n",
              "        docLink.innerHTML = docLinkHtml;\n",
              "        element.appendChild(docLink);\n",
              "      }\n",
              "    </script>\n",
              "  </div>\n",
              "\n",
              "\n",
              "<div id=\"df-d266183c-cf21-4f2e-9b2b-e94152a41d6f\">\n",
              "  <button class=\"colab-df-quickchart\" onclick=\"quickchart('df-d266183c-cf21-4f2e-9b2b-e94152a41d6f')\"\n",
              "            title=\"Suggest charts\"\n",
              "            style=\"display:none;\">\n",
              "\n",
              "<svg xmlns=\"http://www.w3.org/2000/svg\" height=\"24px\"viewBox=\"0 0 24 24\"\n",
              "     width=\"24px\">\n",
              "    <g>\n",
              "        <path d=\"M19 3H5c-1.1 0-2 .9-2 2v14c0 1.1.9 2 2 2h14c1.1 0 2-.9 2-2V5c0-1.1-.9-2-2-2zM9 17H7v-7h2v7zm4 0h-2V7h2v10zm4 0h-2v-4h2v4z\"/>\n",
              "    </g>\n",
              "</svg>\n",
              "  </button>\n",
              "\n",
              "<style>\n",
              "  .colab-df-quickchart {\n",
              "      --bg-color: #E8F0FE;\n",
              "      --fill-color: #1967D2;\n",
              "      --hover-bg-color: #E2EBFA;\n",
              "      --hover-fill-color: #174EA6;\n",
              "      --disabled-fill-color: #AAA;\n",
              "      --disabled-bg-color: #DDD;\n",
              "  }\n",
              "\n",
              "  [theme=dark] .colab-df-quickchart {\n",
              "      --bg-color: #3B4455;\n",
              "      --fill-color: #D2E3FC;\n",
              "      --hover-bg-color: #434B5C;\n",
              "      --hover-fill-color: #FFFFFF;\n",
              "      --disabled-bg-color: #3B4455;\n",
              "      --disabled-fill-color: #666;\n",
              "  }\n",
              "\n",
              "  .colab-df-quickchart {\n",
              "    background-color: var(--bg-color);\n",
              "    border: none;\n",
              "    border-radius: 50%;\n",
              "    cursor: pointer;\n",
              "    display: none;\n",
              "    fill: var(--fill-color);\n",
              "    height: 32px;\n",
              "    padding: 0;\n",
              "    width: 32px;\n",
              "  }\n",
              "\n",
              "  .colab-df-quickchart:hover {\n",
              "    background-color: var(--hover-bg-color);\n",
              "    box-shadow: 0 1px 2px rgba(60, 64, 67, 0.3), 0 1px 3px 1px rgba(60, 64, 67, 0.15);\n",
              "    fill: var(--button-hover-fill-color);\n",
              "  }\n",
              "\n",
              "  .colab-df-quickchart-complete:disabled,\n",
              "  .colab-df-quickchart-complete:disabled:hover {\n",
              "    background-color: var(--disabled-bg-color);\n",
              "    fill: var(--disabled-fill-color);\n",
              "    box-shadow: none;\n",
              "  }\n",
              "\n",
              "  .colab-df-spinner {\n",
              "    border: 2px solid var(--fill-color);\n",
              "    border-color: transparent;\n",
              "    border-bottom-color: var(--fill-color);\n",
              "    animation:\n",
              "      spin 1s steps(1) infinite;\n",
              "  }\n",
              "\n",
              "  @keyframes spin {\n",
              "    0% {\n",
              "      border-color: transparent;\n",
              "      border-bottom-color: var(--fill-color);\n",
              "      border-left-color: var(--fill-color);\n",
              "    }\n",
              "    20% {\n",
              "      border-color: transparent;\n",
              "      border-left-color: var(--fill-color);\n",
              "      border-top-color: var(--fill-color);\n",
              "    }\n",
              "    30% {\n",
              "      border-color: transparent;\n",
              "      border-left-color: var(--fill-color);\n",
              "      border-top-color: var(--fill-color);\n",
              "      border-right-color: var(--fill-color);\n",
              "    }\n",
              "    40% {\n",
              "      border-color: transparent;\n",
              "      border-right-color: var(--fill-color);\n",
              "      border-top-color: var(--fill-color);\n",
              "    }\n",
              "    60% {\n",
              "      border-color: transparent;\n",
              "      border-right-color: var(--fill-color);\n",
              "    }\n",
              "    80% {\n",
              "      border-color: transparent;\n",
              "      border-right-color: var(--fill-color);\n",
              "      border-bottom-color: var(--fill-color);\n",
              "    }\n",
              "    90% {\n",
              "      border-color: transparent;\n",
              "      border-bottom-color: var(--fill-color);\n",
              "    }\n",
              "  }\n",
              "</style>\n",
              "\n",
              "  <script>\n",
              "    async function quickchart(key) {\n",
              "      const quickchartButtonEl =\n",
              "        document.querySelector('#' + key + ' button');\n",
              "      quickchartButtonEl.disabled = true;  // To prevent multiple clicks.\n",
              "      quickchartButtonEl.classList.add('colab-df-spinner');\n",
              "      try {\n",
              "        const charts = await google.colab.kernel.invokeFunction(\n",
              "            'suggestCharts', [key], {});\n",
              "      } catch (error) {\n",
              "        console.error('Error during call to suggestCharts:', error);\n",
              "      }\n",
              "      quickchartButtonEl.classList.remove('colab-df-spinner');\n",
              "      quickchartButtonEl.classList.add('colab-df-quickchart-complete');\n",
              "    }\n",
              "    (() => {\n",
              "      let quickchartButtonEl =\n",
              "        document.querySelector('#df-d266183c-cf21-4f2e-9b2b-e94152a41d6f button');\n",
              "      quickchartButtonEl.style.display =\n",
              "        google.colab.kernel.accessAllowed ? 'block' : 'none';\n",
              "    })();\n",
              "  </script>\n",
              "</div>\n",
              "\n",
              "  <div id=\"id_553bdb59-e83b-47f4-96a3-686f7c620403\">\n",
              "    <style>\n",
              "      .colab-df-generate {\n",
              "        background-color: #E8F0FE;\n",
              "        border: none;\n",
              "        border-radius: 50%;\n",
              "        cursor: pointer;\n",
              "        display: none;\n",
              "        fill: #1967D2;\n",
              "        height: 32px;\n",
              "        padding: 0 0 0 0;\n",
              "        width: 32px;\n",
              "      }\n",
              "\n",
              "      .colab-df-generate:hover {\n",
              "        background-color: #E2EBFA;\n",
              "        box-shadow: 0px 1px 2px rgba(60, 64, 67, 0.3), 0px 1px 3px 1px rgba(60, 64, 67, 0.15);\n",
              "        fill: #174EA6;\n",
              "      }\n",
              "\n",
              "      [theme=dark] .colab-df-generate {\n",
              "        background-color: #3B4455;\n",
              "        fill: #D2E3FC;\n",
              "      }\n",
              "\n",
              "      [theme=dark] .colab-df-generate:hover {\n",
              "        background-color: #434B5C;\n",
              "        box-shadow: 0px 1px 3px 1px rgba(0, 0, 0, 0.15);\n",
              "        filter: drop-shadow(0px 1px 2px rgba(0, 0, 0, 0.3));\n",
              "        fill: #FFFFFF;\n",
              "      }\n",
              "    </style>\n",
              "    <button class=\"colab-df-generate\" onclick=\"generateWithVariable('train_10_percent')\"\n",
              "            title=\"Generate code using this dataframe.\"\n",
              "            style=\"display:none;\">\n",
              "\n",
              "  <svg xmlns=\"http://www.w3.org/2000/svg\" height=\"24px\"viewBox=\"0 0 24 24\"\n",
              "       width=\"24px\">\n",
              "    <path d=\"M7,19H8.4L18.45,9,17,7.55,7,17.6ZM5,21V16.75L18.45,3.32a2,2,0,0,1,2.83,0l1.4,1.43a1.91,1.91,0,0,1,.58,1.4,1.91,1.91,0,0,1-.58,1.4L9.25,21ZM18.45,9,17,7.55Zm-12,3A5.31,5.31,0,0,0,4.9,8.1,5.31,5.31,0,0,0,1,6.5,5.31,5.31,0,0,0,4.9,4.9,5.31,5.31,0,0,0,6.5,1,5.31,5.31,0,0,0,8.1,4.9,5.31,5.31,0,0,0,12,6.5,5.46,5.46,0,0,0,6.5,12Z\"/>\n",
              "  </svg>\n",
              "    </button>\n",
              "    <script>\n",
              "      (() => {\n",
              "      const buttonEl =\n",
              "        document.querySelector('#id_553bdb59-e83b-47f4-96a3-686f7c620403 button.colab-df-generate');\n",
              "      buttonEl.style.display =\n",
              "        google.colab.kernel.accessAllowed ? 'block' : 'none';\n",
              "\n",
              "      buttonEl.onclick = () => {\n",
              "        google.colab.notebook.generateWithVariable('train_10_percent');\n",
              "      }\n",
              "      })();\n",
              "    </script>\n",
              "  </div>\n",
              "\n",
              "    </div>\n",
              "  </div>\n"
            ],
            "application/vnd.google.colaboratory.intrinsic+json": {
              "type": "dataframe",
              "variable_name": "train_10_percent",
              "summary": "{\n  \"name\": \"train_10_percent\",\n  \"rows\": 761,\n  \"fields\": [\n    {\n      \"column\": \"text\",\n      \"properties\": {\n        \"dtype\": \"string\",\n        \"num_unique_values\": 760,\n        \"samples\": [\n          \"@CodeMeW Were you opening regular or master packs? RT: so\\u0089\\u00db_ sunk\\u0089\\u00db_1 mil credits into light side\\u0089\\u00db_ didn't pull\\u0089\\u00db_one\\u0089\\u00db_you sure about those odds?\",\n          \"Friendly reminder that the only country to ever use nuclear weapons is the U.S. And it was against civilians. https://t.co/7QrEPylLUK\",\n          \"tarmineta3: Breaking news! Unconfirmed! I just heard a loud bang nearby. in what appears to be a blast of wind from my neighbour's ass.\"\n        ],\n        \"semantic_type\": \"\",\n        \"description\": \"\"\n      }\n    },\n    {\n      \"column\": \"target\",\n      \"properties\": {\n        \"dtype\": \"number\",\n        \"std\": 0,\n        \"min\": 0,\n        \"max\": 1,\n        \"num_unique_values\": 2,\n        \"samples\": [\n          1,\n          0\n        ],\n        \"semantic_type\": \"\",\n        \"description\": \"\"\n      }\n    }\n  ]\n}"
            }
          },
          "metadata": {},
          "execution_count": 95
        }
      ]
    },
    {
      "cell_type": "code",
      "source": [
        "len(train_10_percent)/len(train_df_shuffled)"
      ],
      "metadata": {
        "colab": {
          "base_uri": "https://localhost:8080/"
        },
        "id": "TeH1U6qGt3M9",
        "outputId": "07f9d498-6188-460e-9b63-45134d9bae44"
      },
      "execution_count": 96,
      "outputs": [
        {
          "output_type": "execute_result",
          "data": {
            "text/plain": [
              "0.09996059372126626"
            ]
          },
          "metadata": {},
          "execution_count": 96
        }
      ]
    },
    {
      "cell_type": "code",
      "source": [
        "train_sentences_10_percent = train_10_percent[\"text\"].to_list()\n",
        "train_labels_10_percent = train_10_percent[\"target\"].to_list()\n"
      ],
      "metadata": {
        "id": "o76BpEkCt7Yj"
      },
      "execution_count": 97,
      "outputs": []
    },
    {
      "cell_type": "code",
      "source": [
        "train_10_percent[\"target\"].value_counts()"
      ],
      "metadata": {
        "colab": {
          "base_uri": "https://localhost:8080/"
        },
        "id": "sKr7UGHEuFd_",
        "outputId": "83dc24c0-495b-4826-85d9-7bbacdcb4b25"
      },
      "execution_count": 98,
      "outputs": [
        {
          "output_type": "execute_result",
          "data": {
            "text/plain": [
              "target\n",
              "0    417\n",
              "1    344\n",
              "Name: count, dtype: int64"
            ]
          },
          "metadata": {},
          "execution_count": 98
        }
      ]
    },
    {
      "cell_type": "code",
      "source": [
        "train_df_shuffled[\"target\"].value_counts()"
      ],
      "metadata": {
        "colab": {
          "base_uri": "https://localhost:8080/"
        },
        "id": "B0lOTv-5uNc1",
        "outputId": "528ac494-f27a-4ef3-c277-83f7a32fc33a"
      },
      "execution_count": 99,
      "outputs": [
        {
          "output_type": "execute_result",
          "data": {
            "text/plain": [
              "target\n",
              "0    4342\n",
              "1    3271\n",
              "Name: count, dtype: int64"
            ]
          },
          "metadata": {},
          "execution_count": 99
        }
      ]
    },
    {
      "cell_type": "markdown",
      "source": [
        " To recreate a model the same as a previous model you've created you can use the `tf.keras.model.clone_model()`"
      ],
      "metadata": {
        "id": "OweQA4TSuP_v"
      }
    },
    {
      "cell_type": "code",
      "source": [
        "# making a better dataset split (no leakage)\n",
        "train__10_percent_split = int(0.1 * len(train_sentences))\n",
        "train_sentences_10_percent = train_sentences[:train_10_percent_split]\n",
        "train_10_percent[:5]\n",
        "train_labels_10_percent = train_labels[:train_10_percent_split]"
      ],
      "metadata": {
        "id": "qsG10JhDfAKd"
      },
      "execution_count": 110,
      "outputs": []
    },
    {
      "cell_type": "code",
      "source": [
        "train_labels_10_percent\n",
        "pd.Series(np.array(train_labels_10_percent)).value_counts()"
      ],
      "metadata": {
        "colab": {
          "base_uri": "https://localhost:8080/"
        },
        "id": "i5VL15X-ffpv",
        "outputId": "e7181c89-0f21-4ef5-a3c1-900c70b4ed93"
      },
      "execution_count": 111,
      "outputs": [
        {
          "output_type": "execute_result",
          "data": {
            "text/plain": [
              "0    399\n",
              "1    286\n",
              "Name: count, dtype: int64"
            ]
          },
          "metadata": {},
          "execution_count": 111
        }
      ]
    },
    {
      "cell_type": "code",
      "source": [
        "model_7 = tf.keras.models.clone_model(model_6)\n",
        "model_7.compile(loss=\"binary_crossentropy\",\n",
        "                 optimizer=tf.keras.optimizers.Adam(),\n",
        "                 metrics=[\"accuracy\"])\n",
        "model_7.summary()"
      ],
      "metadata": {
        "colab": {
          "base_uri": "https://localhost:8080/"
        },
        "id": "zpOmBXSru4Vy",
        "outputId": "e9c87352-1509-4993-8f70-02a485180884"
      },
      "execution_count": 112,
      "outputs": [
        {
          "output_type": "stream",
          "name": "stdout",
          "text": [
            "Model: \"sequential\"\n",
            "_________________________________________________________________\n",
            " Layer (type)                Output Shape              Param #   \n",
            "=================================================================\n",
            " USE (KerasLayer)            (None, 512)               256797824 \n",
            "                                                                 \n",
            " dense_5 (Dense)             (None, 64)                32832     \n",
            "                                                                 \n",
            " dense_6 (Dense)             (None, 1)                 65        \n",
            "                                                                 \n",
            "=================================================================\n",
            "Total params: 256830721 (979.73 MB)\n",
            "Trainable params: 32897 (128.50 KB)\n",
            "Non-trainable params: 256797824 (979.61 MB)\n",
            "_________________________________________________________________\n"
          ]
        }
      ]
    },
    {
      "cell_type": "code",
      "source": [
        "model_7.fit(train_sentences_10_percent,\n",
        "            train_labels_10_percent,\n",
        "            epochs=5,\n",
        "            validation_data=(validation_sentences, val_labels),\n",
        "            callbacks=[create_tensorboard_callback(SAVE_DIR, \"tf_hub_sentence_encoder_10_percent_correct_split\")])"
      ],
      "metadata": {
        "colab": {
          "base_uri": "https://localhost:8080/"
        },
        "id": "XP2GZmqpvR6r",
        "outputId": "2dcbb873-4568-41ef-eb71-f4ec1e70715e"
      },
      "execution_count": 113,
      "outputs": [
        {
          "output_type": "stream",
          "name": "stdout",
          "text": [
            "Saving TensorBoard log files to: model_logs/tf_hub_sentence_encoder_10_percent_correct_split/20240514-234741\n",
            "Epoch 1/5\n",
            "22/22 [==============================] - 4s 47ms/step - loss: 0.6748 - accuracy: 0.6876 - val_loss: 0.6439 - val_accuracy: 0.7940\n",
            "Epoch 2/5\n",
            "22/22 [==============================] - 1s 39ms/step - loss: 0.6094 - accuracy: 0.8234 - val_loss: 0.5779 - val_accuracy: 0.7966\n",
            "Epoch 3/5\n",
            "22/22 [==============================] - 1s 51ms/step - loss: 0.5383 - accuracy: 0.8088 - val_loss: 0.5125 - val_accuracy: 0.8018\n",
            "Epoch 4/5\n",
            "22/22 [==============================] - 1s 53ms/step - loss: 0.4786 - accuracy: 0.8161 - val_loss: 0.4717 - val_accuracy: 0.8018\n",
            "Epoch 5/5\n",
            "22/22 [==============================] - 1s 27ms/step - loss: 0.4368 - accuracy: 0.8248 - val_loss: 0.4512 - val_accuracy: 0.8058\n"
          ]
        },
        {
          "output_type": "execute_result",
          "data": {
            "text/plain": [
              "<keras.src.callbacks.History at 0x7d402826c1f0>"
            ]
          },
          "metadata": {},
          "execution_count": 113
        }
      ]
    },
    {
      "cell_type": "code",
      "source": [
        "model_7_pred_probs = model_7.predict(validation_sentences)\n",
        "model_7_preds = tf.squeeze(tf.round(model_7_pred_probs))\n",
        "model_7_results = calculate_results(y_true=val_labels,\n",
        "                                    y_pred = model_7_preds)\n",
        "model_7_results"
      ],
      "metadata": {
        "colab": {
          "base_uri": "https://localhost:8080/"
        },
        "id": "LMTnJtNMvuw_",
        "outputId": "cd582336-6a5f-40ff-b2bd-55c144eeca9b"
      },
      "execution_count": 114,
      "outputs": [
        {
          "output_type": "stream",
          "name": "stdout",
          "text": [
            "24/24 [==============================] - 1s 9ms/step\n"
          ]
        },
        {
          "output_type": "execute_result",
          "data": {
            "text/plain": [
              "{'accuracy': 80.5774278215223,\n",
              " 'precision': 0.8053789598132844,\n",
              " 'recall': 0.8057742782152231,\n",
              " 'f1': 0.8053742896875912}"
            ]
          },
          "metadata": {},
          "execution_count": 114
        }
      ]
    },
    {
      "cell_type": "markdown",
      "source": [
        "## Comparing the performance of each of our models"
      ],
      "metadata": {
        "id": "u0aQkpuQwSI1"
      }
    },
    {
      "cell_type": "code",
      "source": [
        "# Combine model results into a DataFrame\n",
        "all_model_results = pd.DataFrame({\"0_baseline\" : baseline_results,\n",
        "                                  \"1_simple_dense\": model_1_results,\n",
        "                                  \"2_lstm\": model_2_results,\n",
        "                                  \"3_gru\": model_3_results,\n",
        "                                  \"4_bidirectional\": model_4_results,\n",
        "                                  \"5_conv1d\": model_4_results,\n",
        "                                  \"6_tf_hub_use_encoder\": model_6_results,\n",
        "                                  \"7_tf_hub_use_encoder_10_percent\": model_7_results}).transpose().sort_values(by=\"f1\", ascending=False)\n",
        "all_model_results"
      ],
      "metadata": {
        "colab": {
          "base_uri": "https://localhost:8080/",
          "height": 300
        },
        "id": "OiCXBE55g6Fh",
        "outputId": "59257fb2-aa6f-4aae-931b-d05a872e6e97"
      },
      "execution_count": 123,
      "outputs": [
        {
          "output_type": "execute_result",
          "data": {
            "text/plain": [
              "                                  accuracy  precision    recall        f1\n",
              "6_tf_hub_use_encoder             84.514436   0.846915  0.845144  0.843854\n",
              "0_baseline                       81.889764   0.827797  0.818898  0.815034\n",
              "1_simple_dense                   81.364829   0.814628  0.813648  0.813936\n",
              "7_tf_hub_use_encoder_10_percent  80.577428   0.805379  0.805774  0.805374\n",
              "2_lstm                           77.427822   0.776379  0.774278  0.774795\n",
              "3_gru                            76.902887   0.768630  0.769029  0.767612\n",
              "5_conv1d                         75.853018   0.762646  0.758530  0.759252\n",
              "4_bidirectional                  75.853018   0.762646  0.758530  0.759252"
            ],
            "text/html": [
              "\n",
              "  <div id=\"df-7214f71e-1e6e-4cb1-a581-0e169889ce8c\" class=\"colab-df-container\">\n",
              "    <div>\n",
              "<style scoped>\n",
              "    .dataframe tbody tr th:only-of-type {\n",
              "        vertical-align: middle;\n",
              "    }\n",
              "\n",
              "    .dataframe tbody tr th {\n",
              "        vertical-align: top;\n",
              "    }\n",
              "\n",
              "    .dataframe thead th {\n",
              "        text-align: right;\n",
              "    }\n",
              "</style>\n",
              "<table border=\"1\" class=\"dataframe\">\n",
              "  <thead>\n",
              "    <tr style=\"text-align: right;\">\n",
              "      <th></th>\n",
              "      <th>accuracy</th>\n",
              "      <th>precision</th>\n",
              "      <th>recall</th>\n",
              "      <th>f1</th>\n",
              "    </tr>\n",
              "  </thead>\n",
              "  <tbody>\n",
              "    <tr>\n",
              "      <th>6_tf_hub_use_encoder</th>\n",
              "      <td>84.514436</td>\n",
              "      <td>0.846915</td>\n",
              "      <td>0.845144</td>\n",
              "      <td>0.843854</td>\n",
              "    </tr>\n",
              "    <tr>\n",
              "      <th>0_baseline</th>\n",
              "      <td>81.889764</td>\n",
              "      <td>0.827797</td>\n",
              "      <td>0.818898</td>\n",
              "      <td>0.815034</td>\n",
              "    </tr>\n",
              "    <tr>\n",
              "      <th>1_simple_dense</th>\n",
              "      <td>81.364829</td>\n",
              "      <td>0.814628</td>\n",
              "      <td>0.813648</td>\n",
              "      <td>0.813936</td>\n",
              "    </tr>\n",
              "    <tr>\n",
              "      <th>7_tf_hub_use_encoder_10_percent</th>\n",
              "      <td>80.577428</td>\n",
              "      <td>0.805379</td>\n",
              "      <td>0.805774</td>\n",
              "      <td>0.805374</td>\n",
              "    </tr>\n",
              "    <tr>\n",
              "      <th>2_lstm</th>\n",
              "      <td>77.427822</td>\n",
              "      <td>0.776379</td>\n",
              "      <td>0.774278</td>\n",
              "      <td>0.774795</td>\n",
              "    </tr>\n",
              "    <tr>\n",
              "      <th>3_gru</th>\n",
              "      <td>76.902887</td>\n",
              "      <td>0.768630</td>\n",
              "      <td>0.769029</td>\n",
              "      <td>0.767612</td>\n",
              "    </tr>\n",
              "    <tr>\n",
              "      <th>5_conv1d</th>\n",
              "      <td>75.853018</td>\n",
              "      <td>0.762646</td>\n",
              "      <td>0.758530</td>\n",
              "      <td>0.759252</td>\n",
              "    </tr>\n",
              "    <tr>\n",
              "      <th>4_bidirectional</th>\n",
              "      <td>75.853018</td>\n",
              "      <td>0.762646</td>\n",
              "      <td>0.758530</td>\n",
              "      <td>0.759252</td>\n",
              "    </tr>\n",
              "  </tbody>\n",
              "</table>\n",
              "</div>\n",
              "    <div class=\"colab-df-buttons\">\n",
              "\n",
              "  <div class=\"colab-df-container\">\n",
              "    <button class=\"colab-df-convert\" onclick=\"convertToInteractive('df-7214f71e-1e6e-4cb1-a581-0e169889ce8c')\"\n",
              "            title=\"Convert this dataframe to an interactive table.\"\n",
              "            style=\"display:none;\">\n",
              "\n",
              "  <svg xmlns=\"http://www.w3.org/2000/svg\" height=\"24px\" viewBox=\"0 -960 960 960\">\n",
              "    <path d=\"M120-120v-720h720v720H120Zm60-500h600v-160H180v160Zm220 220h160v-160H400v160Zm0 220h160v-160H400v160ZM180-400h160v-160H180v160Zm440 0h160v-160H620v160ZM180-180h160v-160H180v160Zm440 0h160v-160H620v160Z\"/>\n",
              "  </svg>\n",
              "    </button>\n",
              "\n",
              "  <style>\n",
              "    .colab-df-container {\n",
              "      display:flex;\n",
              "      gap: 12px;\n",
              "    }\n",
              "\n",
              "    .colab-df-convert {\n",
              "      background-color: #E8F0FE;\n",
              "      border: none;\n",
              "      border-radius: 50%;\n",
              "      cursor: pointer;\n",
              "      display: none;\n",
              "      fill: #1967D2;\n",
              "      height: 32px;\n",
              "      padding: 0 0 0 0;\n",
              "      width: 32px;\n",
              "    }\n",
              "\n",
              "    .colab-df-convert:hover {\n",
              "      background-color: #E2EBFA;\n",
              "      box-shadow: 0px 1px 2px rgba(60, 64, 67, 0.3), 0px 1px 3px 1px rgba(60, 64, 67, 0.15);\n",
              "      fill: #174EA6;\n",
              "    }\n",
              "\n",
              "    .colab-df-buttons div {\n",
              "      margin-bottom: 4px;\n",
              "    }\n",
              "\n",
              "    [theme=dark] .colab-df-convert {\n",
              "      background-color: #3B4455;\n",
              "      fill: #D2E3FC;\n",
              "    }\n",
              "\n",
              "    [theme=dark] .colab-df-convert:hover {\n",
              "      background-color: #434B5C;\n",
              "      box-shadow: 0px 1px 3px 1px rgba(0, 0, 0, 0.15);\n",
              "      filter: drop-shadow(0px 1px 2px rgba(0, 0, 0, 0.3));\n",
              "      fill: #FFFFFF;\n",
              "    }\n",
              "  </style>\n",
              "\n",
              "    <script>\n",
              "      const buttonEl =\n",
              "        document.querySelector('#df-7214f71e-1e6e-4cb1-a581-0e169889ce8c button.colab-df-convert');\n",
              "      buttonEl.style.display =\n",
              "        google.colab.kernel.accessAllowed ? 'block' : 'none';\n",
              "\n",
              "      async function convertToInteractive(key) {\n",
              "        const element = document.querySelector('#df-7214f71e-1e6e-4cb1-a581-0e169889ce8c');\n",
              "        const dataTable =\n",
              "          await google.colab.kernel.invokeFunction('convertToInteractive',\n",
              "                                                    [key], {});\n",
              "        if (!dataTable) return;\n",
              "\n",
              "        const docLinkHtml = 'Like what you see? Visit the ' +\n",
              "          '<a target=\"_blank\" href=https://colab.research.google.com/notebooks/data_table.ipynb>data table notebook</a>'\n",
              "          + ' to learn more about interactive tables.';\n",
              "        element.innerHTML = '';\n",
              "        dataTable['output_type'] = 'display_data';\n",
              "        await google.colab.output.renderOutput(dataTable, element);\n",
              "        const docLink = document.createElement('div');\n",
              "        docLink.innerHTML = docLinkHtml;\n",
              "        element.appendChild(docLink);\n",
              "      }\n",
              "    </script>\n",
              "  </div>\n",
              "\n",
              "\n",
              "<div id=\"df-00697caf-0ac3-40e2-8e19-0897ce801b2d\">\n",
              "  <button class=\"colab-df-quickchart\" onclick=\"quickchart('df-00697caf-0ac3-40e2-8e19-0897ce801b2d')\"\n",
              "            title=\"Suggest charts\"\n",
              "            style=\"display:none;\">\n",
              "\n",
              "<svg xmlns=\"http://www.w3.org/2000/svg\" height=\"24px\"viewBox=\"0 0 24 24\"\n",
              "     width=\"24px\">\n",
              "    <g>\n",
              "        <path d=\"M19 3H5c-1.1 0-2 .9-2 2v14c0 1.1.9 2 2 2h14c1.1 0 2-.9 2-2V5c0-1.1-.9-2-2-2zM9 17H7v-7h2v7zm4 0h-2V7h2v10zm4 0h-2v-4h2v4z\"/>\n",
              "    </g>\n",
              "</svg>\n",
              "  </button>\n",
              "\n",
              "<style>\n",
              "  .colab-df-quickchart {\n",
              "      --bg-color: #E8F0FE;\n",
              "      --fill-color: #1967D2;\n",
              "      --hover-bg-color: #E2EBFA;\n",
              "      --hover-fill-color: #174EA6;\n",
              "      --disabled-fill-color: #AAA;\n",
              "      --disabled-bg-color: #DDD;\n",
              "  }\n",
              "\n",
              "  [theme=dark] .colab-df-quickchart {\n",
              "      --bg-color: #3B4455;\n",
              "      --fill-color: #D2E3FC;\n",
              "      --hover-bg-color: #434B5C;\n",
              "      --hover-fill-color: #FFFFFF;\n",
              "      --disabled-bg-color: #3B4455;\n",
              "      --disabled-fill-color: #666;\n",
              "  }\n",
              "\n",
              "  .colab-df-quickchart {\n",
              "    background-color: var(--bg-color);\n",
              "    border: none;\n",
              "    border-radius: 50%;\n",
              "    cursor: pointer;\n",
              "    display: none;\n",
              "    fill: var(--fill-color);\n",
              "    height: 32px;\n",
              "    padding: 0;\n",
              "    width: 32px;\n",
              "  }\n",
              "\n",
              "  .colab-df-quickchart:hover {\n",
              "    background-color: var(--hover-bg-color);\n",
              "    box-shadow: 0 1px 2px rgba(60, 64, 67, 0.3), 0 1px 3px 1px rgba(60, 64, 67, 0.15);\n",
              "    fill: var(--button-hover-fill-color);\n",
              "  }\n",
              "\n",
              "  .colab-df-quickchart-complete:disabled,\n",
              "  .colab-df-quickchart-complete:disabled:hover {\n",
              "    background-color: var(--disabled-bg-color);\n",
              "    fill: var(--disabled-fill-color);\n",
              "    box-shadow: none;\n",
              "  }\n",
              "\n",
              "  .colab-df-spinner {\n",
              "    border: 2px solid var(--fill-color);\n",
              "    border-color: transparent;\n",
              "    border-bottom-color: var(--fill-color);\n",
              "    animation:\n",
              "      spin 1s steps(1) infinite;\n",
              "  }\n",
              "\n",
              "  @keyframes spin {\n",
              "    0% {\n",
              "      border-color: transparent;\n",
              "      border-bottom-color: var(--fill-color);\n",
              "      border-left-color: var(--fill-color);\n",
              "    }\n",
              "    20% {\n",
              "      border-color: transparent;\n",
              "      border-left-color: var(--fill-color);\n",
              "      border-top-color: var(--fill-color);\n",
              "    }\n",
              "    30% {\n",
              "      border-color: transparent;\n",
              "      border-left-color: var(--fill-color);\n",
              "      border-top-color: var(--fill-color);\n",
              "      border-right-color: var(--fill-color);\n",
              "    }\n",
              "    40% {\n",
              "      border-color: transparent;\n",
              "      border-right-color: var(--fill-color);\n",
              "      border-top-color: var(--fill-color);\n",
              "    }\n",
              "    60% {\n",
              "      border-color: transparent;\n",
              "      border-right-color: var(--fill-color);\n",
              "    }\n",
              "    80% {\n",
              "      border-color: transparent;\n",
              "      border-right-color: var(--fill-color);\n",
              "      border-bottom-color: var(--fill-color);\n",
              "    }\n",
              "    90% {\n",
              "      border-color: transparent;\n",
              "      border-bottom-color: var(--fill-color);\n",
              "    }\n",
              "  }\n",
              "</style>\n",
              "\n",
              "  <script>\n",
              "    async function quickchart(key) {\n",
              "      const quickchartButtonEl =\n",
              "        document.querySelector('#' + key + ' button');\n",
              "      quickchartButtonEl.disabled = true;  // To prevent multiple clicks.\n",
              "      quickchartButtonEl.classList.add('colab-df-spinner');\n",
              "      try {\n",
              "        const charts = await google.colab.kernel.invokeFunction(\n",
              "            'suggestCharts', [key], {});\n",
              "      } catch (error) {\n",
              "        console.error('Error during call to suggestCharts:', error);\n",
              "      }\n",
              "      quickchartButtonEl.classList.remove('colab-df-spinner');\n",
              "      quickchartButtonEl.classList.add('colab-df-quickchart-complete');\n",
              "    }\n",
              "    (() => {\n",
              "      let quickchartButtonEl =\n",
              "        document.querySelector('#df-00697caf-0ac3-40e2-8e19-0897ce801b2d button');\n",
              "      quickchartButtonEl.style.display =\n",
              "        google.colab.kernel.accessAllowed ? 'block' : 'none';\n",
              "    })();\n",
              "  </script>\n",
              "</div>\n",
              "\n",
              "  <div id=\"id_1891d1dd-bf3b-4410-a833-8ae9a1b6e8de\">\n",
              "    <style>\n",
              "      .colab-df-generate {\n",
              "        background-color: #E8F0FE;\n",
              "        border: none;\n",
              "        border-radius: 50%;\n",
              "        cursor: pointer;\n",
              "        display: none;\n",
              "        fill: #1967D2;\n",
              "        height: 32px;\n",
              "        padding: 0 0 0 0;\n",
              "        width: 32px;\n",
              "      }\n",
              "\n",
              "      .colab-df-generate:hover {\n",
              "        background-color: #E2EBFA;\n",
              "        box-shadow: 0px 1px 2px rgba(60, 64, 67, 0.3), 0px 1px 3px 1px rgba(60, 64, 67, 0.15);\n",
              "        fill: #174EA6;\n",
              "      }\n",
              "\n",
              "      [theme=dark] .colab-df-generate {\n",
              "        background-color: #3B4455;\n",
              "        fill: #D2E3FC;\n",
              "      }\n",
              "\n",
              "      [theme=dark] .colab-df-generate:hover {\n",
              "        background-color: #434B5C;\n",
              "        box-shadow: 0px 1px 3px 1px rgba(0, 0, 0, 0.15);\n",
              "        filter: drop-shadow(0px 1px 2px rgba(0, 0, 0, 0.3));\n",
              "        fill: #FFFFFF;\n",
              "      }\n",
              "    </style>\n",
              "    <button class=\"colab-df-generate\" onclick=\"generateWithVariable('all_model_results')\"\n",
              "            title=\"Generate code using this dataframe.\"\n",
              "            style=\"display:none;\">\n",
              "\n",
              "  <svg xmlns=\"http://www.w3.org/2000/svg\" height=\"24px\"viewBox=\"0 0 24 24\"\n",
              "       width=\"24px\">\n",
              "    <path d=\"M7,19H8.4L18.45,9,17,7.55,7,17.6ZM5,21V16.75L18.45,3.32a2,2,0,0,1,2.83,0l1.4,1.43a1.91,1.91,0,0,1,.58,1.4,1.91,1.91,0,0,1-.58,1.4L9.25,21ZM18.45,9,17,7.55Zm-12,3A5.31,5.31,0,0,0,4.9,8.1,5.31,5.31,0,0,0,1,6.5,5.31,5.31,0,0,0,4.9,4.9,5.31,5.31,0,0,0,6.5,1,5.31,5.31,0,0,0,8.1,4.9,5.31,5.31,0,0,0,12,6.5,5.46,5.46,0,0,0,6.5,12Z\"/>\n",
              "  </svg>\n",
              "    </button>\n",
              "    <script>\n",
              "      (() => {\n",
              "      const buttonEl =\n",
              "        document.querySelector('#id_1891d1dd-bf3b-4410-a833-8ae9a1b6e8de button.colab-df-generate');\n",
              "      buttonEl.style.display =\n",
              "        google.colab.kernel.accessAllowed ? 'block' : 'none';\n",
              "\n",
              "      buttonEl.onclick = () => {\n",
              "        google.colab.notebook.generateWithVariable('all_model_results');\n",
              "      }\n",
              "      })();\n",
              "    </script>\n",
              "  </div>\n",
              "\n",
              "    </div>\n",
              "  </div>\n"
            ],
            "application/vnd.google.colaboratory.intrinsic+json": {
              "type": "dataframe",
              "variable_name": "all_model_results",
              "summary": "{\n  \"name\": \"all_model_results\",\n  \"rows\": 8,\n  \"fields\": [\n    {\n      \"column\": \"accuracy\",\n      \"properties\": {\n        \"dtype\": \"number\",\n        \"std\": 3.2250601336281792,\n        \"min\": 75.8530183727034,\n        \"max\": 84.51443569553805,\n        \"num_unique_values\": 7,\n        \"samples\": [\n          84.51443569553805,\n          81.88976377952756,\n          76.9028871391076\n        ],\n        \"semantic_type\": \"\",\n        \"description\": \"\"\n      }\n    },\n    {\n      \"column\": \"precision\",\n      \"properties\": {\n        \"dtype\": \"number\",\n        \"std\": 0.032505559166020104,\n        \"min\": 0.7626462715326607,\n        \"max\": 0.8469145902216768,\n        \"num_unique_values\": 7,\n        \"samples\": [\n          0.8469145902216768,\n          0.8277969908744978,\n          0.7686296296463142\n        ],\n        \"semantic_type\": \"\",\n        \"description\": \"\"\n      }\n    },\n    {\n      \"column\": \"recall\",\n      \"properties\": {\n        \"dtype\": \"number\",\n        \"std\": 0.03225060133628178,\n        \"min\": 0.7585301837270341,\n        \"max\": 0.8451443569553806,\n        \"num_unique_values\": 7,\n        \"samples\": [\n          0.8451443569553806,\n          0.8188976377952756,\n          0.7690288713910761\n        ],\n        \"semantic_type\": \"\",\n        \"description\": \"\"\n      }\n    },\n    {\n      \"column\": \"f1\",\n      \"properties\": {\n        \"dtype\": \"number\",\n        \"std\": 0.03142751149160147,\n        \"min\": 0.7592524264476912,\n        \"max\": 0.8438535006004724,\n        \"num_unique_values\": 7,\n        \"samples\": [\n          0.8438535006004724,\n          0.8150344270074752,\n          0.7676117406909219\n        ],\n        \"semantic_type\": \"\",\n        \"description\": \"\"\n      }\n    }\n  ]\n}"
            }
          },
          "metadata": {},
          "execution_count": 123
        }
      ]
    },
    {
      "cell_type": "code",
      "source": [
        "# Reduce the accuracy to the same scale as other metrics\n",
        "all_model_results[\"accuracy\"] = all_model_results[\"accuracy\"]/100\n",
        "all_model_results"
      ],
      "metadata": {
        "colab": {
          "base_uri": "https://localhost:8080/",
          "height": 300
        },
        "id": "65KW_bTnhI3u",
        "outputId": "0b4b7758-8b27-4172-e258-c44f31458e85"
      },
      "execution_count": 124,
      "outputs": [
        {
          "output_type": "execute_result",
          "data": {
            "text/plain": [
              "                                 accuracy  precision    recall        f1\n",
              "6_tf_hub_use_encoder             0.845144   0.846915  0.845144  0.843854\n",
              "0_baseline                       0.818898   0.827797  0.818898  0.815034\n",
              "1_simple_dense                   0.813648   0.814628  0.813648  0.813936\n",
              "7_tf_hub_use_encoder_10_percent  0.805774   0.805379  0.805774  0.805374\n",
              "2_lstm                           0.774278   0.776379  0.774278  0.774795\n",
              "3_gru                            0.769029   0.768630  0.769029  0.767612\n",
              "5_conv1d                         0.758530   0.762646  0.758530  0.759252\n",
              "4_bidirectional                  0.758530   0.762646  0.758530  0.759252"
            ],
            "text/html": [
              "\n",
              "  <div id=\"df-9b576df9-1c91-473b-bee9-a7a05bef29fb\" class=\"colab-df-container\">\n",
              "    <div>\n",
              "<style scoped>\n",
              "    .dataframe tbody tr th:only-of-type {\n",
              "        vertical-align: middle;\n",
              "    }\n",
              "\n",
              "    .dataframe tbody tr th {\n",
              "        vertical-align: top;\n",
              "    }\n",
              "\n",
              "    .dataframe thead th {\n",
              "        text-align: right;\n",
              "    }\n",
              "</style>\n",
              "<table border=\"1\" class=\"dataframe\">\n",
              "  <thead>\n",
              "    <tr style=\"text-align: right;\">\n",
              "      <th></th>\n",
              "      <th>accuracy</th>\n",
              "      <th>precision</th>\n",
              "      <th>recall</th>\n",
              "      <th>f1</th>\n",
              "    </tr>\n",
              "  </thead>\n",
              "  <tbody>\n",
              "    <tr>\n",
              "      <th>6_tf_hub_use_encoder</th>\n",
              "      <td>0.845144</td>\n",
              "      <td>0.846915</td>\n",
              "      <td>0.845144</td>\n",
              "      <td>0.843854</td>\n",
              "    </tr>\n",
              "    <tr>\n",
              "      <th>0_baseline</th>\n",
              "      <td>0.818898</td>\n",
              "      <td>0.827797</td>\n",
              "      <td>0.818898</td>\n",
              "      <td>0.815034</td>\n",
              "    </tr>\n",
              "    <tr>\n",
              "      <th>1_simple_dense</th>\n",
              "      <td>0.813648</td>\n",
              "      <td>0.814628</td>\n",
              "      <td>0.813648</td>\n",
              "      <td>0.813936</td>\n",
              "    </tr>\n",
              "    <tr>\n",
              "      <th>7_tf_hub_use_encoder_10_percent</th>\n",
              "      <td>0.805774</td>\n",
              "      <td>0.805379</td>\n",
              "      <td>0.805774</td>\n",
              "      <td>0.805374</td>\n",
              "    </tr>\n",
              "    <tr>\n",
              "      <th>2_lstm</th>\n",
              "      <td>0.774278</td>\n",
              "      <td>0.776379</td>\n",
              "      <td>0.774278</td>\n",
              "      <td>0.774795</td>\n",
              "    </tr>\n",
              "    <tr>\n",
              "      <th>3_gru</th>\n",
              "      <td>0.769029</td>\n",
              "      <td>0.768630</td>\n",
              "      <td>0.769029</td>\n",
              "      <td>0.767612</td>\n",
              "    </tr>\n",
              "    <tr>\n",
              "      <th>5_conv1d</th>\n",
              "      <td>0.758530</td>\n",
              "      <td>0.762646</td>\n",
              "      <td>0.758530</td>\n",
              "      <td>0.759252</td>\n",
              "    </tr>\n",
              "    <tr>\n",
              "      <th>4_bidirectional</th>\n",
              "      <td>0.758530</td>\n",
              "      <td>0.762646</td>\n",
              "      <td>0.758530</td>\n",
              "      <td>0.759252</td>\n",
              "    </tr>\n",
              "  </tbody>\n",
              "</table>\n",
              "</div>\n",
              "    <div class=\"colab-df-buttons\">\n",
              "\n",
              "  <div class=\"colab-df-container\">\n",
              "    <button class=\"colab-df-convert\" onclick=\"convertToInteractive('df-9b576df9-1c91-473b-bee9-a7a05bef29fb')\"\n",
              "            title=\"Convert this dataframe to an interactive table.\"\n",
              "            style=\"display:none;\">\n",
              "\n",
              "  <svg xmlns=\"http://www.w3.org/2000/svg\" height=\"24px\" viewBox=\"0 -960 960 960\">\n",
              "    <path d=\"M120-120v-720h720v720H120Zm60-500h600v-160H180v160Zm220 220h160v-160H400v160Zm0 220h160v-160H400v160ZM180-400h160v-160H180v160Zm440 0h160v-160H620v160ZM180-180h160v-160H180v160Zm440 0h160v-160H620v160Z\"/>\n",
              "  </svg>\n",
              "    </button>\n",
              "\n",
              "  <style>\n",
              "    .colab-df-container {\n",
              "      display:flex;\n",
              "      gap: 12px;\n",
              "    }\n",
              "\n",
              "    .colab-df-convert {\n",
              "      background-color: #E8F0FE;\n",
              "      border: none;\n",
              "      border-radius: 50%;\n",
              "      cursor: pointer;\n",
              "      display: none;\n",
              "      fill: #1967D2;\n",
              "      height: 32px;\n",
              "      padding: 0 0 0 0;\n",
              "      width: 32px;\n",
              "    }\n",
              "\n",
              "    .colab-df-convert:hover {\n",
              "      background-color: #E2EBFA;\n",
              "      box-shadow: 0px 1px 2px rgba(60, 64, 67, 0.3), 0px 1px 3px 1px rgba(60, 64, 67, 0.15);\n",
              "      fill: #174EA6;\n",
              "    }\n",
              "\n",
              "    .colab-df-buttons div {\n",
              "      margin-bottom: 4px;\n",
              "    }\n",
              "\n",
              "    [theme=dark] .colab-df-convert {\n",
              "      background-color: #3B4455;\n",
              "      fill: #D2E3FC;\n",
              "    }\n",
              "\n",
              "    [theme=dark] .colab-df-convert:hover {\n",
              "      background-color: #434B5C;\n",
              "      box-shadow: 0px 1px 3px 1px rgba(0, 0, 0, 0.15);\n",
              "      filter: drop-shadow(0px 1px 2px rgba(0, 0, 0, 0.3));\n",
              "      fill: #FFFFFF;\n",
              "    }\n",
              "  </style>\n",
              "\n",
              "    <script>\n",
              "      const buttonEl =\n",
              "        document.querySelector('#df-9b576df9-1c91-473b-bee9-a7a05bef29fb button.colab-df-convert');\n",
              "      buttonEl.style.display =\n",
              "        google.colab.kernel.accessAllowed ? 'block' : 'none';\n",
              "\n",
              "      async function convertToInteractive(key) {\n",
              "        const element = document.querySelector('#df-9b576df9-1c91-473b-bee9-a7a05bef29fb');\n",
              "        const dataTable =\n",
              "          await google.colab.kernel.invokeFunction('convertToInteractive',\n",
              "                                                    [key], {});\n",
              "        if (!dataTable) return;\n",
              "\n",
              "        const docLinkHtml = 'Like what you see? Visit the ' +\n",
              "          '<a target=\"_blank\" href=https://colab.research.google.com/notebooks/data_table.ipynb>data table notebook</a>'\n",
              "          + ' to learn more about interactive tables.';\n",
              "        element.innerHTML = '';\n",
              "        dataTable['output_type'] = 'display_data';\n",
              "        await google.colab.output.renderOutput(dataTable, element);\n",
              "        const docLink = document.createElement('div');\n",
              "        docLink.innerHTML = docLinkHtml;\n",
              "        element.appendChild(docLink);\n",
              "      }\n",
              "    </script>\n",
              "  </div>\n",
              "\n",
              "\n",
              "<div id=\"df-9194bb74-5526-467f-9749-72c591f9af64\">\n",
              "  <button class=\"colab-df-quickchart\" onclick=\"quickchart('df-9194bb74-5526-467f-9749-72c591f9af64')\"\n",
              "            title=\"Suggest charts\"\n",
              "            style=\"display:none;\">\n",
              "\n",
              "<svg xmlns=\"http://www.w3.org/2000/svg\" height=\"24px\"viewBox=\"0 0 24 24\"\n",
              "     width=\"24px\">\n",
              "    <g>\n",
              "        <path d=\"M19 3H5c-1.1 0-2 .9-2 2v14c0 1.1.9 2 2 2h14c1.1 0 2-.9 2-2V5c0-1.1-.9-2-2-2zM9 17H7v-7h2v7zm4 0h-2V7h2v10zm4 0h-2v-4h2v4z\"/>\n",
              "    </g>\n",
              "</svg>\n",
              "  </button>\n",
              "\n",
              "<style>\n",
              "  .colab-df-quickchart {\n",
              "      --bg-color: #E8F0FE;\n",
              "      --fill-color: #1967D2;\n",
              "      --hover-bg-color: #E2EBFA;\n",
              "      --hover-fill-color: #174EA6;\n",
              "      --disabled-fill-color: #AAA;\n",
              "      --disabled-bg-color: #DDD;\n",
              "  }\n",
              "\n",
              "  [theme=dark] .colab-df-quickchart {\n",
              "      --bg-color: #3B4455;\n",
              "      --fill-color: #D2E3FC;\n",
              "      --hover-bg-color: #434B5C;\n",
              "      --hover-fill-color: #FFFFFF;\n",
              "      --disabled-bg-color: #3B4455;\n",
              "      --disabled-fill-color: #666;\n",
              "  }\n",
              "\n",
              "  .colab-df-quickchart {\n",
              "    background-color: var(--bg-color);\n",
              "    border: none;\n",
              "    border-radius: 50%;\n",
              "    cursor: pointer;\n",
              "    display: none;\n",
              "    fill: var(--fill-color);\n",
              "    height: 32px;\n",
              "    padding: 0;\n",
              "    width: 32px;\n",
              "  }\n",
              "\n",
              "  .colab-df-quickchart:hover {\n",
              "    background-color: var(--hover-bg-color);\n",
              "    box-shadow: 0 1px 2px rgba(60, 64, 67, 0.3), 0 1px 3px 1px rgba(60, 64, 67, 0.15);\n",
              "    fill: var(--button-hover-fill-color);\n",
              "  }\n",
              "\n",
              "  .colab-df-quickchart-complete:disabled,\n",
              "  .colab-df-quickchart-complete:disabled:hover {\n",
              "    background-color: var(--disabled-bg-color);\n",
              "    fill: var(--disabled-fill-color);\n",
              "    box-shadow: none;\n",
              "  }\n",
              "\n",
              "  .colab-df-spinner {\n",
              "    border: 2px solid var(--fill-color);\n",
              "    border-color: transparent;\n",
              "    border-bottom-color: var(--fill-color);\n",
              "    animation:\n",
              "      spin 1s steps(1) infinite;\n",
              "  }\n",
              "\n",
              "  @keyframes spin {\n",
              "    0% {\n",
              "      border-color: transparent;\n",
              "      border-bottom-color: var(--fill-color);\n",
              "      border-left-color: var(--fill-color);\n",
              "    }\n",
              "    20% {\n",
              "      border-color: transparent;\n",
              "      border-left-color: var(--fill-color);\n",
              "      border-top-color: var(--fill-color);\n",
              "    }\n",
              "    30% {\n",
              "      border-color: transparent;\n",
              "      border-left-color: var(--fill-color);\n",
              "      border-top-color: var(--fill-color);\n",
              "      border-right-color: var(--fill-color);\n",
              "    }\n",
              "    40% {\n",
              "      border-color: transparent;\n",
              "      border-right-color: var(--fill-color);\n",
              "      border-top-color: var(--fill-color);\n",
              "    }\n",
              "    60% {\n",
              "      border-color: transparent;\n",
              "      border-right-color: var(--fill-color);\n",
              "    }\n",
              "    80% {\n",
              "      border-color: transparent;\n",
              "      border-right-color: var(--fill-color);\n",
              "      border-bottom-color: var(--fill-color);\n",
              "    }\n",
              "    90% {\n",
              "      border-color: transparent;\n",
              "      border-bottom-color: var(--fill-color);\n",
              "    }\n",
              "  }\n",
              "</style>\n",
              "\n",
              "  <script>\n",
              "    async function quickchart(key) {\n",
              "      const quickchartButtonEl =\n",
              "        document.querySelector('#' + key + ' button');\n",
              "      quickchartButtonEl.disabled = true;  // To prevent multiple clicks.\n",
              "      quickchartButtonEl.classList.add('colab-df-spinner');\n",
              "      try {\n",
              "        const charts = await google.colab.kernel.invokeFunction(\n",
              "            'suggestCharts', [key], {});\n",
              "      } catch (error) {\n",
              "        console.error('Error during call to suggestCharts:', error);\n",
              "      }\n",
              "      quickchartButtonEl.classList.remove('colab-df-spinner');\n",
              "      quickchartButtonEl.classList.add('colab-df-quickchart-complete');\n",
              "    }\n",
              "    (() => {\n",
              "      let quickchartButtonEl =\n",
              "        document.querySelector('#df-9194bb74-5526-467f-9749-72c591f9af64 button');\n",
              "      quickchartButtonEl.style.display =\n",
              "        google.colab.kernel.accessAllowed ? 'block' : 'none';\n",
              "    })();\n",
              "  </script>\n",
              "</div>\n",
              "\n",
              "  <div id=\"id_0b42c5b8-6820-44bb-a0e4-a7f61645c7c4\">\n",
              "    <style>\n",
              "      .colab-df-generate {\n",
              "        background-color: #E8F0FE;\n",
              "        border: none;\n",
              "        border-radius: 50%;\n",
              "        cursor: pointer;\n",
              "        display: none;\n",
              "        fill: #1967D2;\n",
              "        height: 32px;\n",
              "        padding: 0 0 0 0;\n",
              "        width: 32px;\n",
              "      }\n",
              "\n",
              "      .colab-df-generate:hover {\n",
              "        background-color: #E2EBFA;\n",
              "        box-shadow: 0px 1px 2px rgba(60, 64, 67, 0.3), 0px 1px 3px 1px rgba(60, 64, 67, 0.15);\n",
              "        fill: #174EA6;\n",
              "      }\n",
              "\n",
              "      [theme=dark] .colab-df-generate {\n",
              "        background-color: #3B4455;\n",
              "        fill: #D2E3FC;\n",
              "      }\n",
              "\n",
              "      [theme=dark] .colab-df-generate:hover {\n",
              "        background-color: #434B5C;\n",
              "        box-shadow: 0px 1px 3px 1px rgba(0, 0, 0, 0.15);\n",
              "        filter: drop-shadow(0px 1px 2px rgba(0, 0, 0, 0.3));\n",
              "        fill: #FFFFFF;\n",
              "      }\n",
              "    </style>\n",
              "    <button class=\"colab-df-generate\" onclick=\"generateWithVariable('all_model_results')\"\n",
              "            title=\"Generate code using this dataframe.\"\n",
              "            style=\"display:none;\">\n",
              "\n",
              "  <svg xmlns=\"http://www.w3.org/2000/svg\" height=\"24px\"viewBox=\"0 0 24 24\"\n",
              "       width=\"24px\">\n",
              "    <path d=\"M7,19H8.4L18.45,9,17,7.55,7,17.6ZM5,21V16.75L18.45,3.32a2,2,0,0,1,2.83,0l1.4,1.43a1.91,1.91,0,0,1,.58,1.4,1.91,1.91,0,0,1-.58,1.4L9.25,21ZM18.45,9,17,7.55Zm-12,3A5.31,5.31,0,0,0,4.9,8.1,5.31,5.31,0,0,0,1,6.5,5.31,5.31,0,0,0,4.9,4.9,5.31,5.31,0,0,0,6.5,1,5.31,5.31,0,0,0,8.1,4.9,5.31,5.31,0,0,0,12,6.5,5.46,5.46,0,0,0,6.5,12Z\"/>\n",
              "  </svg>\n",
              "    </button>\n",
              "    <script>\n",
              "      (() => {\n",
              "      const buttonEl =\n",
              "        document.querySelector('#id_0b42c5b8-6820-44bb-a0e4-a7f61645c7c4 button.colab-df-generate');\n",
              "      buttonEl.style.display =\n",
              "        google.colab.kernel.accessAllowed ? 'block' : 'none';\n",
              "\n",
              "      buttonEl.onclick = () => {\n",
              "        google.colab.notebook.generateWithVariable('all_model_results');\n",
              "      }\n",
              "      })();\n",
              "    </script>\n",
              "  </div>\n",
              "\n",
              "    </div>\n",
              "  </div>\n"
            ],
            "application/vnd.google.colaboratory.intrinsic+json": {
              "type": "dataframe",
              "variable_name": "all_model_results",
              "summary": "{\n  \"name\": \"all_model_results\",\n  \"rows\": 8,\n  \"fields\": [\n    {\n      \"column\": \"accuracy\",\n      \"properties\": {\n        \"dtype\": \"number\",\n        \"std\": 0.032250601336281805,\n        \"min\": 0.7585301837270341,\n        \"max\": 0.8451443569553806,\n        \"num_unique_values\": 7,\n        \"samples\": [\n          0.8451443569553806,\n          0.8188976377952756,\n          0.769028871391076\n        ],\n        \"semantic_type\": \"\",\n        \"description\": \"\"\n      }\n    },\n    {\n      \"column\": \"precision\",\n      \"properties\": {\n        \"dtype\": \"number\",\n        \"std\": 0.032505559166020104,\n        \"min\": 0.7626462715326607,\n        \"max\": 0.8469145902216768,\n        \"num_unique_values\": 7,\n        \"samples\": [\n          0.8469145902216768,\n          0.8277969908744978,\n          0.7686296296463142\n        ],\n        \"semantic_type\": \"\",\n        \"description\": \"\"\n      }\n    },\n    {\n      \"column\": \"recall\",\n      \"properties\": {\n        \"dtype\": \"number\",\n        \"std\": 0.03225060133628178,\n        \"min\": 0.7585301837270341,\n        \"max\": 0.8451443569553806,\n        \"num_unique_values\": 7,\n        \"samples\": [\n          0.8451443569553806,\n          0.8188976377952756,\n          0.7690288713910761\n        ],\n        \"semantic_type\": \"\",\n        \"description\": \"\"\n      }\n    },\n    {\n      \"column\": \"f1\",\n      \"properties\": {\n        \"dtype\": \"number\",\n        \"std\": 0.03142751149160147,\n        \"min\": 0.7592524264476912,\n        \"max\": 0.8438535006004724,\n        \"num_unique_values\": 7,\n        \"samples\": [\n          0.8438535006004724,\n          0.8150344270074752,\n          0.7676117406909219\n        ],\n        \"semantic_type\": \"\",\n        \"description\": \"\"\n      }\n    }\n  ]\n}"
            }
          },
          "metadata": {},
          "execution_count": 124
        }
      ]
    },
    {
      "cell_type": "code",
      "source": [
        "all_model_results.plot(kind=\"bar\", figsize=(10,7)).legend(bbox_to_anchor=(1.0,1.0))"
      ],
      "metadata": {
        "colab": {
          "base_uri": "https://localhost:8080/",
          "height": 842
        },
        "id": "oSh8S157iMSP",
        "outputId": "063afcb0-f4b9-4041-fcb6-500c72707408"
      },
      "execution_count": 125,
      "outputs": [
        {
          "output_type": "execute_result",
          "data": {
            "text/plain": [
              "<matplotlib.legend.Legend at 0x7d40156f9d20>"
            ]
          },
          "metadata": {},
          "execution_count": 125
        },
        {
          "output_type": "display_data",
          "data": {
            "text/plain": [
              "<Figure size 1000x700 with 1 Axes>"
            ],
            "image/png": "[encoded data removed]"
          },
          "metadata": {}
        }
      ]
    },
    {
      "cell_type": "code",
      "source": [
        "# Plot models based on F1 scores\n",
        "all_model_results[\"f1\"].plot(kind=\"bar\", figsize=(10,7))"
      ],
      "metadata": {
        "colab": {
          "base_uri": "https://localhost:8080/",
          "height": 842
        },
        "id": "JNfgiTESii7y",
        "outputId": "4e86b15e-6962-4985-8a00-fe6374d6b52f"
      },
      "execution_count": 127,
      "outputs": [
        {
          "output_type": "execute_result",
          "data": {
            "text/plain": [
              "<Axes: >"
            ]
          },
          "metadata": {},
          "execution_count": 127
        },
        {
          "output_type": "display_data",
          "data": {
            "text/plain": [
              "<Figure size 1000x700 with 1 Axes>"
            ],
            "image/png": "[encoded data removed]"
          },
          "metadata": {}
        }
      ]
    },
    {
      "cell_type": "markdown",
      "source": [
        "## Saving and loading a trained model\n",
        "\n",
        "There are two main formats in TF\n",
        "\n",
        "1. HDF5 Format\n",
        "2. `SavedModel` Format"
      ],
      "metadata": {
        "id": "S_lKzTKWjOPT"
      }
    },
    {
      "cell_type": "code",
      "source": [
        "model_6_results"
      ],
      "metadata": {
        "colab": {
          "base_uri": "https://localhost:8080/"
        },
        "id": "Am7t68vHj4cm",
        "outputId": "1985c016-2d08-4821-be4e-9427e4a64aab"
      },
      "execution_count": 128,
      "outputs": [
        {
          "output_type": "execute_result",
          "data": {
            "text/plain": [
              "{'accuracy': 84.51443569553805,\n",
              " 'precision': 0.8469145902216768,\n",
              " 'recall': 0.8451443569553806,\n",
              " 'f1': 0.8438535006004724}"
            ]
          },
          "metadata": {},
          "execution_count": 128
        }
      ]
    },
    {
      "cell_type": "code",
      "source": [
        "# Save to HDF5 format\n",
        "model_6.save(\"model_6.h5\")"
      ],
      "metadata": {
        "colab": {
          "base_uri": "https://localhost:8080/"
        },
        "id": "_EEldUMvj7Gp",
        "outputId": "caefe1ba-660a-4091-9e55-3f9f63ef47d1"
      },
      "execution_count": 129,
      "outputs": [
        {
          "output_type": "stream",
          "name": "stderr",
          "text": [
            "/usr/local/lib/python3.10/dist-packages/keras/src/engine/training.py:3103: UserWarning: You are saving your model as an HDF5 file via `model.save()`. This file format is considered legacy. We recommend using instead the native Keras format, e.g. `model.save('my_model.keras')`.\n",
            "  saving_api.save_model(\n"
          ]
        }
      ]
    },
    {
      "cell_type": "code",
      "source": [
        "# Load model with custom Hub layer (required with HDF5 format)\n",
        "import tensorflow_hub as hub\n",
        "loaded_model_6 = tf.keras.models.load_model(\"model_6.h5\", custom_objects={\"KerasLayer\": hub.KerasLayer}) # becuase hub layer came from outside of tensorflow"
      ],
      "metadata": {
        "id": "GBinLPa3kDBr"
      },
      "execution_count": 130,
      "outputs": []
    },
    {
      "cell_type": "code",
      "source": [
        "# How does our loaded model perform\n",
        "loaded_model_6.evaluate(validation_sentences, val_labels)"
      ],
      "metadata": {
        "colab": {
          "base_uri": "https://localhost:8080/"
        },
        "id": "HOuavp3ykb4o",
        "outputId": "32bdbde5-c81a-455f-e940-036c8ba3e7ea"
      },
      "execution_count": 132,
      "outputs": [
        {
          "output_type": "stream",
          "name": "stdout",
          "text": [
            "24/24 [==============================] - 2s 27ms/step - loss: 0.3728 - accuracy: 0.8451\n"
          ]
        },
        {
          "output_type": "execute_result",
          "data": {
            "text/plain": [
              "[0.3728490173816681, 0.8451443314552307]"
            ]
          },
          "metadata": {},
          "execution_count": 132
        }
      ]
    },
    {
      "cell_type": "code",
      "source": [
        "model_6_results"
      ],
      "metadata": {
        "colab": {
          "base_uri": "https://localhost:8080/"
        },
        "id": "CLV88a7Xkm-y",
        "outputId": "a95866cb-f67b-4d95-a5c5-f3135752cd8a"
      },
      "execution_count": 133,
      "outputs": [
        {
          "output_type": "execute_result",
          "data": {
            "text/plain": [
              "{'accuracy': 84.51443569553805,\n",
              " 'precision': 0.8469145902216768,\n",
              " 'recall': 0.8451443569553806,\n",
              " 'f1': 0.8438535006004724}"
            ]
          },
          "metadata": {},
          "execution_count": 133
        }
      ]
    },
    {
      "cell_type": "code",
      "source": [
        "# Now savedmodel format\n",
        "model_6.save(\"model_6_SavedModel_format\")"
      ],
      "metadata": {
        "id": "CGIfiQXVksQq"
      },
      "execution_count": 134,
      "outputs": []
    },
    {
      "cell_type": "code",
      "source": [
        "loaded_model_6_SavedModel_format = tf.keras.models.load_model(\"model_6_SavedModel_format\")"
      ],
      "metadata": {
        "id": "gUO0JMgCk-an"
      },
      "execution_count": 135,
      "outputs": []
    },
    {
      "cell_type": "code",
      "source": [
        "loaded_model_6_SavedModel_format.evaluate(validation_sentences, val_labels)"
      ],
      "metadata": {
        "colab": {
          "base_uri": "https://localhost:8080/"
        },
        "id": "UFBJ36cqlSqm",
        "outputId": "fa19180e-1b2c-402c-a3af-cc2ed347847d"
      },
      "execution_count": 136,
      "outputs": [
        {
          "output_type": "stream",
          "name": "stdout",
          "text": [
            "24/24 [==============================] - 3s 22ms/step - loss: 0.3728 - accuracy: 0.8451\n"
          ]
        },
        {
          "output_type": "execute_result",
          "data": {
            "text/plain": [
              "[0.3728490173816681, 0.8451443314552307]"
            ]
          },
          "metadata": {},
          "execution_count": 136
        }
      ]
    },
    {
      "cell_type": "code",
      "source": [
        "model_6_results"
      ],
      "metadata": {
        "colab": {
          "base_uri": "https://localhost:8080/"
        },
        "id": "Q2YqrEStlW9h",
        "outputId": "c9588581-f9f2-4334-f427-162519172b92"
      },
      "execution_count": 137,
      "outputs": [
        {
          "output_type": "execute_result",
          "data": {
            "text/plain": [
              "{'accuracy': 84.51443569553805,\n",
              " 'precision': 0.8469145902216768,\n",
              " 'recall': 0.8451443569553806,\n",
              " 'f1': 0.8438535006004724}"
            ]
          },
          "metadata": {},
          "execution_count": 137
        }
      ]
    },
    {
      "cell_type": "markdown",
      "source": [
        "## Finding the most wrong examples"
      ],
      "metadata": {
        "id": "AWPTHkXMlY1x"
      }
    },
    {
      "cell_type": "code",
      "source": [
        "# Download a pretrained model\n",
        "!wget https://storage.googleapis.com/ztm_tf_course/08_model_6_USE_feature_extractor.zip\n",
        "!unzip 08_model_6_USE_feature_extractor.zip"
      ],
      "metadata": {
        "colab": {
          "base_uri": "https://localhost:8080/"
        },
        "id": "O4atOVEGmpK_",
        "outputId": "35b62df3-0273-42ac-c4e3-e545e0583d77"
      },
      "execution_count": 138,
      "outputs": [
        {
          "output_type": "stream",
          "name": "stdout",
          "text": [
            "--2024-05-15 00:15:52--  https://storage.googleapis.com/ztm_tf_course/08_model_6_USE_feature_extractor.zip\n",
            "Resolving storage.googleapis.com (storage.googleapis.com)... 172.253.118.207, 74.125.200.207, 74.125.130.207, ...\n",
            "Connecting to storage.googleapis.com (storage.googleapis.com)|172.253.118.207|:443... connected.\n",
            "HTTP request sent, awaiting response... 200 OK\n",
            "Length: 960779165 (916M) [application/zip]\n",
            "Saving to: ‘08_model_6_USE_feature_extractor.zip’\n",
            "\n",
            "08_model_6_USE_feat 100%[===================>] 916.27M  20.8MB/s    in 43s     \n",
            "\n",
            "2024-05-15 00:16:36 (21.2 MB/s) - ‘08_model_6_USE_feature_extractor.zip’ saved [960779165/960779165]\n",
            "\n",
            "Archive:  08_model_6_USE_feature_extractor.zip\n",
            "   creating: 08_model_6_USE_feature_extractor/\n",
            "   creating: 08_model_6_USE_feature_extractor/assets/\n",
            "   creating: 08_model_6_USE_feature_extractor/variables/\n",
            "  inflating: 08_model_6_USE_feature_extractor/variables/variables.data-00000-of-00001  \n",
            "  inflating: 08_model_6_USE_feature_extractor/variables/variables.index  \n",
            "  inflating: 08_model_6_USE_feature_extractor/saved_model.pb  \n"
          ]
        }
      ]
    },
    {
      "cell_type": "code",
      "source": [
        "# Create a DataFrame with validation sentences and best performing model predictions\n",
        "model_6_pretrained = tf.keras.models.load_model(\"08_model_6_USE_feature_extractor\")"
      ],
      "metadata": {
        "colab": {
          "base_uri": "https://localhost:8080/"
        },
        "id": "WQ9qmdxDl798",
        "outputId": "8142a92e-0d61-462c-8c61-10b52e80d9c7"
      },
      "execution_count": 139,
      "outputs": [
        {
          "output_type": "stream",
          "name": "stderr",
          "text": [
            "WARNING:tensorflow:SavedModel saved prior to TF 2.5 detected when loading Keras model. Please ensure that you are saving the model with model.save() or tf.keras.models.save_model(), *NOT* tf.saved_model.save(). To confirm, there should be a file named \"keras_metadata.pb\" in the SavedModel directory.\n"
          ]
        }
      ]
    },
    {
      "cell_type": "code",
      "source": [
        "model_6_pretrained.evaluate(validation_sentences, val_labels)"
      ],
      "metadata": {
        "colab": {
          "base_uri": "https://localhost:8080/"
        },
        "id": "sod8v_6wnDjC",
        "outputId": "16f6b845-004a-4bb7-dad4-4f3419a6a933"
      },
      "execution_count": 140,
      "outputs": [
        {
          "output_type": "stream",
          "name": "stdout",
          "text": [
            "24/24 [==============================] - 1s 21ms/step - loss: 0.3458 - accuracy: 0.8583\n"
          ]
        },
        {
          "output_type": "execute_result",
          "data": {
            "text/plain": [
              "[0.34579989314079285, 0.8582677245140076]"
            ]
          },
          "metadata": {},
          "execution_count": 140
        }
      ]
    },
    {
      "cell_type": "code",
      "source": [
        "model_6_pretrained_pred_probs = model_6_pretrained.predict(validation_sentences)\n",
        "model_6_pretrained_preds = tf.squeeze(tf.round(model_6_pretrained_pred_probs))"
      ],
      "metadata": {
        "colab": {
          "base_uri": "https://localhost:8080/"
        },
        "id": "sd9VgcXdnJFa",
        "outputId": "eeaabd5c-2b58-4f7e-ee9d-a52d7fd4ebaf"
      },
      "execution_count": 145,
      "outputs": [
        {
          "output_type": "stream",
          "name": "stdout",
          "text": [
            "24/24 [==============================] - 0s 16ms/step\n"
          ]
        }
      ]
    },
    {
      "cell_type": "code",
      "source": [
        "val_df = pd.DataFrame({\"text\":validation_sentences,\n",
        "                       \"target\":val_labels,\n",
        "                       \"pred\": model_6_pretrained_preds,\n",
        "                       \"pred_prob\": tf.squeeze(model_6_pretrained_pred_probs)})"
      ],
      "metadata": {
        "id": "ku1YVF5dnTk9"
      },
      "execution_count": 146,
      "outputs": []
    },
    {
      "cell_type": "code",
      "source": [
        "val_df.head()"
      ],
      "metadata": {
        "colab": {
          "base_uri": "https://localhost:8080/",
          "height": 206
        },
        "id": "F2pjxFGCntZA",
        "outputId": "ab74e159-515d-4733-dc60-f570403dbeab"
      },
      "execution_count": 148,
      "outputs": [
        {
          "output_type": "execute_result",
          "data": {
            "text/plain": [
              "                                                text  target  pred  pred_prob\n",
              "0  #boy #mix Ultimate #preparedness library: http...       1   0.0   0.395501\n",
              "1  I liked a @YouTube video http://t.co/lAmsdzKCu...       0   0.0   0.156175\n",
              "2  Flood: Two people dead 60 houses destroyed in ...       1   1.0   0.924586\n",
              "3  @tanehisicoates even the second half has that ...       0   0.0   0.216460\n",
              "4  Be annihilated for status education mba on beh...       0   0.0   0.109281"
            ],
            "text/html": [
              "\n",
              "  <div id=\"df-69907824-59c6-4900-97cc-96a0bb158cf5\" class=\"colab-df-container\">\n",
              "    <div>\n",
              "<style scoped>\n",
              "    .dataframe tbody tr th:only-of-type {\n",
              "        vertical-align: middle;\n",
              "    }\n",
              "\n",
              "    .dataframe tbody tr th {\n",
              "        vertical-align: top;\n",
              "    }\n",
              "\n",
              "    .dataframe thead th {\n",
              "        text-align: right;\n",
              "    }\n",
              "</style>\n",
              "<table border=\"1\" class=\"dataframe\">\n",
              "  <thead>\n",
              "    <tr style=\"text-align: right;\">\n",
              "      <th></th>\n",
              "      <th>text</th>\n",
              "      <th>target</th>\n",
              "      <th>pred</th>\n",
              "      <th>pred_prob</th>\n",
              "    </tr>\n",
              "  </thead>\n",
              "  <tbody>\n",
              "    <tr>\n",
              "      <th>0</th>\n",
              "      <td>#boy #mix Ultimate #preparedness library: http...</td>\n",
              "      <td>1</td>\n",
              "      <td>0.0</td>\n",
              "      <td>0.395501</td>\n",
              "    </tr>\n",
              "    <tr>\n",
              "      <th>1</th>\n",
              "      <td>I liked a @YouTube video http://t.co/lAmsdzKCu...</td>\n",
              "      <td>0</td>\n",
              "      <td>0.0</td>\n",
              "      <td>0.156175</td>\n",
              "    </tr>\n",
              "    <tr>\n",
              "      <th>2</th>\n",
              "      <td>Flood: Two people dead 60 houses destroyed in ...</td>\n",
              "      <td>1</td>\n",
              "      <td>1.0</td>\n",
              "      <td>0.924586</td>\n",
              "    </tr>\n",
              "    <tr>\n",
              "      <th>3</th>\n",
              "      <td>@tanehisicoates even the second half has that ...</td>\n",
              "      <td>0</td>\n",
              "      <td>0.0</td>\n",
              "      <td>0.216460</td>\n",
              "    </tr>\n",
              "    <tr>\n",
              "      <th>4</th>\n",
              "      <td>Be annihilated for status education mba on beh...</td>\n",
              "      <td>0</td>\n",
              "      <td>0.0</td>\n",
              "      <td>0.109281</td>\n",
              "    </tr>\n",
              "  </tbody>\n",
              "</table>\n",
              "</div>\n",
              "    <div class=\"colab-df-buttons\">\n",
              "\n",
              "  <div class=\"colab-df-container\">\n",
              "    <button class=\"colab-df-convert\" onclick=\"convertToInteractive('df-69907824-59c6-4900-97cc-96a0bb158cf5')\"\n",
              "            title=\"Convert this dataframe to an interactive table.\"\n",
              "            style=\"display:none;\">\n",
              "\n",
              "  <svg xmlns=\"http://www.w3.org/2000/svg\" height=\"24px\" viewBox=\"0 -960 960 960\">\n",
              "    <path d=\"M120-120v-720h720v720H120Zm60-500h600v-160H180v160Zm220 220h160v-160H400v160Zm0 220h160v-160H400v160ZM180-400h160v-160H180v160Zm440 0h160v-160H620v160ZM180-180h160v-160H180v160Zm440 0h160v-160H620v160Z\"/>\n",
              "  </svg>\n",
              "    </button>\n",
              "\n",
              "  <style>\n",
              "    .colab-df-container {\n",
              "      display:flex;\n",
              "      gap: 12px;\n",
              "    }\n",
              "\n",
              "    .colab-df-convert {\n",
              "      background-color: #E8F0FE;\n",
              "      border: none;\n",
              "      border-radius: 50%;\n",
              "      cursor: pointer;\n",
              "      display: none;\n",
              "      fill: #1967D2;\n",
              "      height: 32px;\n",
              "      padding: 0 0 0 0;\n",
              "      width: 32px;\n",
              "    }\n",
              "\n",
              "    .colab-df-convert:hover {\n",
              "      background-color: #E2EBFA;\n",
              "      box-shadow: 0px 1px 2px rgba(60, 64, 67, 0.3), 0px 1px 3px 1px rgba(60, 64, 67, 0.15);\n",
              "      fill: #174EA6;\n",
              "    }\n",
              "\n",
              "    .colab-df-buttons div {\n",
              "      margin-bottom: 4px;\n",
              "    }\n",
              "\n",
              "    [theme=dark] .colab-df-convert {\n",
              "      background-color: #3B4455;\n",
              "      fill: #D2E3FC;\n",
              "    }\n",
              "\n",
              "    [theme=dark] .colab-df-convert:hover {\n",
              "      background-color: #434B5C;\n",
              "      box-shadow: 0px 1px 3px 1px rgba(0, 0, 0, 0.15);\n",
              "      filter: drop-shadow(0px 1px 2px rgba(0, 0, 0, 0.3));\n",
              "      fill: #FFFFFF;\n",
              "    }\n",
              "  </style>\n",
              "\n",
              "    <script>\n",
              "      const buttonEl =\n",
              "        document.querySelector('#df-69907824-59c6-4900-97cc-96a0bb158cf5 button.colab-df-convert');\n",
              "      buttonEl.style.display =\n",
              "        google.colab.kernel.accessAllowed ? 'block' : 'none';\n",
              "\n",
              "      async function convertToInteractive(key) {\n",
              "        const element = document.querySelector('#df-69907824-59c6-4900-97cc-96a0bb158cf5');\n",
              "        const dataTable =\n",
              "          await google.colab.kernel.invokeFunction('convertToInteractive',\n",
              "                                                    [key], {});\n",
              "        if (!dataTable) return;\n",
              "\n",
              "        const docLinkHtml = 'Like what you see? Visit the ' +\n",
              "          '<a target=\"_blank\" href=https://colab.research.google.com/notebooks/data_table.ipynb>data table notebook</a>'\n",
              "          + ' to learn more about interactive tables.';\n",
              "        element.innerHTML = '';\n",
              "        dataTable['output_type'] = 'display_data';\n",
              "        await google.colab.output.renderOutput(dataTable, element);\n",
              "        const docLink = document.createElement('div');\n",
              "        docLink.innerHTML = docLinkHtml;\n",
              "        element.appendChild(docLink);\n",
              "      }\n",
              "    </script>\n",
              "  </div>\n",
              "\n",
              "\n",
              "<div id=\"df-d9c3561c-231f-4af9-a1dd-858a7393e2e0\">\n",
              "  <button class=\"colab-df-quickchart\" onclick=\"quickchart('df-d9c3561c-231f-4af9-a1dd-858a7393e2e0')\"\n",
              "            title=\"Suggest charts\"\n",
              "            style=\"display:none;\">\n",
              "\n",
              "<svg xmlns=\"http://www.w3.org/2000/svg\" height=\"24px\"viewBox=\"0 0 24 24\"\n",
              "     width=\"24px\">\n",
              "    <g>\n",
              "        <path d=\"M19 3H5c-1.1 0-2 .9-2 2v14c0 1.1.9 2 2 2h14c1.1 0 2-.9 2-2V5c0-1.1-.9-2-2-2zM9 17H7v-7h2v7zm4 0h-2V7h2v10zm4 0h-2v-4h2v4z\"/>\n",
              "    </g>\n",
              "</svg>\n",
              "  </button>\n",
              "\n",
              "<style>\n",
              "  .colab-df-quickchart {\n",
              "      --bg-color: #E8F0FE;\n",
              "      --fill-color: #1967D2;\n",
              "      --hover-bg-color: #E2EBFA;\n",
              "      --hover-fill-color: #174EA6;\n",
              "      --disabled-fill-color: #AAA;\n",
              "      --disabled-bg-color: #DDD;\n",
              "  }\n",
              "\n",
              "  [theme=dark] .colab-df-quickchart {\n",
              "      --bg-color: #3B4455;\n",
              "      --fill-color: #D2E3FC;\n",
              "      --hover-bg-color: #434B5C;\n",
              "      --hover-fill-color: #FFFFFF;\n",
              "      --disabled-bg-color: #3B4455;\n",
              "      --disabled-fill-color: #666;\n",
              "  }\n",
              "\n",
              "  .colab-df-quickchart {\n",
              "    background-color: var(--bg-color);\n",
              "    border: none;\n",
              "    border-radius: 50%;\n",
              "    cursor: pointer;\n",
              "    display: none;\n",
              "    fill: var(--fill-color);\n",
              "    height: 32px;\n",
              "    padding: 0;\n",
              "    width: 32px;\n",
              "  }\n",
              "\n",
              "  .colab-df-quickchart:hover {\n",
              "    background-color: var(--hover-bg-color);\n",
              "    box-shadow: 0 1px 2px rgba(60, 64, 67, 0.3), 0 1px 3px 1px rgba(60, 64, 67, 0.15);\n",
              "    fill: var(--button-hover-fill-color);\n",
              "  }\n",
              "\n",
              "  .colab-df-quickchart-complete:disabled,\n",
              "  .colab-df-quickchart-complete:disabled:hover {\n",
              "    background-color: var(--disabled-bg-color);\n",
              "    fill: var(--disabled-fill-color);\n",
              "    box-shadow: none;\n",
              "  }\n",
              "\n",
              "  .colab-df-spinner {\n",
              "    border: 2px solid var(--fill-color);\n",
              "    border-color: transparent;\n",
              "    border-bottom-color: var(--fill-color);\n",
              "    animation:\n",
              "      spin 1s steps(1) infinite;\n",
              "  }\n",
              "\n",
              "  @keyframes spin {\n",
              "    0% {\n",
              "      border-color: transparent;\n",
              "      border-bottom-color: var(--fill-color);\n",
              "      border-left-color: var(--fill-color);\n",
              "    }\n",
              "    20% {\n",
              "      border-color: transparent;\n",
              "      border-left-color: var(--fill-color);\n",
              "      border-top-color: var(--fill-color);\n",
              "    }\n",
              "    30% {\n",
              "      border-color: transparent;\n",
              "      border-left-color: var(--fill-color);\n",
              "      border-top-color: var(--fill-color);\n",
              "      border-right-color: var(--fill-color);\n",
              "    }\n",
              "    40% {\n",
              "      border-color: transparent;\n",
              "      border-right-color: var(--fill-color);\n",
              "      border-top-color: var(--fill-color);\n",
              "    }\n",
              "    60% {\n",
              "      border-color: transparent;\n",
              "      border-right-color: var(--fill-color);\n",
              "    }\n",
              "    80% {\n",
              "      border-color: transparent;\n",
              "      border-right-color: var(--fill-color);\n",
              "      border-bottom-color: var(--fill-color);\n",
              "    }\n",
              "    90% {\n",
              "      border-color: transparent;\n",
              "      border-bottom-color: var(--fill-color);\n",
              "    }\n",
              "  }\n",
              "</style>\n",
              "\n",
              "  <script>\n",
              "    async function quickchart(key) {\n",
              "      const quickchartButtonEl =\n",
              "        document.querySelector('#' + key + ' button');\n",
              "      quickchartButtonEl.disabled = true;  // To prevent multiple clicks.\n",
              "      quickchartButtonEl.classList.add('colab-df-spinner');\n",
              "      try {\n",
              "        const charts = await google.colab.kernel.invokeFunction(\n",
              "            'suggestCharts', [key], {});\n",
              "      } catch (error) {\n",
              "        console.error('Error during call to suggestCharts:', error);\n",
              "      }\n",
              "      quickchartButtonEl.classList.remove('colab-df-spinner');\n",
              "      quickchartButtonEl.classList.add('colab-df-quickchart-complete');\n",
              "    }\n",
              "    (() => {\n",
              "      let quickchartButtonEl =\n",
              "        document.querySelector('#df-d9c3561c-231f-4af9-a1dd-858a7393e2e0 button');\n",
              "      quickchartButtonEl.style.display =\n",
              "        google.colab.kernel.accessAllowed ? 'block' : 'none';\n",
              "    })();\n",
              "  </script>\n",
              "</div>\n",
              "\n",
              "    </div>\n",
              "  </div>\n"
            ],
            "application/vnd.google.colaboratory.intrinsic+json": {
              "type": "dataframe",
              "variable_name": "val_df",
              "summary": "{\n  \"name\": \"val_df\",\n  \"rows\": 762,\n  \"fields\": [\n    {\n      \"column\": \"text\",\n      \"properties\": {\n        \"dtype\": \"string\",\n        \"num_unique_values\": 761,\n        \"samples\": [\n          \"I have an unexplainable desire to watch The Rescuers. #childhooddefined\",\n          \"York Co. first responders compete to save lives in \\u0089\\u00db\\u00f7Badges for Blood\\u0089\\u00db\\u00aa #paramedic #EMS http://t.co/E65V80FCus\",\n          \"Rare insight into #terror and How to fight it http://t.co/t6OBVWaPhW #Cameroon #USA #Whitehouse #ES #FR #Nigeria #UK #Africa #DE #CA #AU #JP\"\n        ],\n        \"semantic_type\": \"\",\n        \"description\": \"\"\n      }\n    },\n    {\n      \"column\": \"target\",\n      \"properties\": {\n        \"dtype\": \"number\",\n        \"std\": 0,\n        \"min\": 0,\n        \"max\": 1,\n        \"num_unique_values\": 2,\n        \"samples\": [\n          0,\n          1\n        ],\n        \"semantic_type\": \"\",\n        \"description\": \"\"\n      }\n    },\n    {\n      \"column\": \"pred\",\n      \"properties\": {\n        \"dtype\": \"float32\",\n        \"num_unique_values\": 2,\n        \"samples\": [\n          1.0,\n          0.0\n        ],\n        \"semantic_type\": \"\",\n        \"description\": \"\"\n      }\n    },\n    {\n      \"column\": \"pred_prob\",\n      \"properties\": {\n        \"dtype\": \"float32\",\n        \"num_unique_values\": 761,\n        \"samples\": [\n          0.1998392790555954,\n          0.801572859287262\n        ],\n        \"semantic_type\": \"\",\n        \"description\": \"\"\n      }\n    }\n  ]\n}"
            }
          },
          "metadata": {},
          "execution_count": 148
        }
      ]
    },
    {
      "cell_type": "code",
      "source": [
        "# find the wrong predictions and sort by prediction probabilites\n",
        "most_wrong = val_df[val_df[\"target\"] != val_df[\"pred\"]].sort_values(\"pred_prob\", ascending=False)\n",
        "most_wrong"
      ],
      "metadata": {
        "colab": {
          "base_uri": "https://localhost:8080/",
          "height": 423
        },
        "id": "6mKmIwtLnuQA",
        "outputId": "4886d71b-7ffa-4fd2-ba33-9060310edfc8"
      },
      "execution_count": 149,
      "outputs": [
        {
          "output_type": "execute_result",
          "data": {
            "text/plain": [
              "                                                  text  target  pred  \\\n",
              "171  Snowstorm planned outside #Rome's St Mary Majo...       0   1.0   \n",
              "588  County 911 Overload Prompts Use of Emergency P...       0   1.0   \n",
              "65   Governor weighs parole for California school b...       0   1.0   \n",
              "344  Truck Driver Salvages Banned Tomatoes From Des...       0   1.0   \n",
              "69   Family mourns drowning of 'superhero' toddler ...       0   1.0   \n",
              "..                                                 ...     ...   ...   \n",
              "383  @reriellechan HE WAS THE LICH KING'S FIRST CAS...       1   0.0   \n",
              "726  @blakeshelton DON'T be a FART ??in a WINDSTORM...       1   0.0   \n",
              "652  Feel like I've got no control of anything that...       1   0.0   \n",
              "189  the sunset boys wreck my bed   original 1979 u...       1   0.0   \n",
              "414  Reddit Will Now Quarantine Offensive Content h...       1   0.0   \n",
              "\n",
              "     pred_prob  \n",
              "171   0.873418  \n",
              "588   0.858913  \n",
              "65    0.856527  \n",
              "344   0.843412  \n",
              "69    0.837567  \n",
              "..         ...  \n",
              "383   0.071257  \n",
              "726   0.069313  \n",
              "652   0.067387  \n",
              "189   0.061777  \n",
              "414   0.058487  \n",
              "\n",
              "[108 rows x 4 columns]"
            ],
            "text/html": [
              "\n",
              "  <div id=\"df-386eeea7-e562-44dd-831f-67a5850ab6f4\" class=\"colab-df-container\">\n",
              "    <div>\n",
              "<style scoped>\n",
              "    .dataframe tbody tr th:only-of-type {\n",
              "        vertical-align: middle;\n",
              "    }\n",
              "\n",
              "    .dataframe tbody tr th {\n",
              "        vertical-align: top;\n",
              "    }\n",
              "\n",
              "    .dataframe thead th {\n",
              "        text-align: right;\n",
              "    }\n",
              "</style>\n",
              "<table border=\"1\" class=\"dataframe\">\n",
              "  <thead>\n",
              "    <tr style=\"text-align: right;\">\n",
              "      <th></th>\n",
              "      <th>text</th>\n",
              "      <th>target</th>\n",
              "      <th>pred</th>\n",
              "      <th>pred_prob</th>\n",
              "    </tr>\n",
              "  </thead>\n",
              "  <tbody>\n",
              "    <tr>\n",
              "      <th>171</th>\n",
              "      <td>Snowstorm planned outside #Rome's St Mary Majo...</td>\n",
              "      <td>0</td>\n",
              "      <td>1.0</td>\n",
              "      <td>0.873418</td>\n",
              "    </tr>\n",
              "    <tr>\n",
              "      <th>588</th>\n",
              "      <td>County 911 Overload Prompts Use of Emergency P...</td>\n",
              "      <td>0</td>\n",
              "      <td>1.0</td>\n",
              "      <td>0.858913</td>\n",
              "    </tr>\n",
              "    <tr>\n",
              "      <th>65</th>\n",
              "      <td>Governor weighs parole for California school b...</td>\n",
              "      <td>0</td>\n",
              "      <td>1.0</td>\n",
              "      <td>0.856527</td>\n",
              "    </tr>\n",
              "    <tr>\n",
              "      <th>344</th>\n",
              "      <td>Truck Driver Salvages Banned Tomatoes From Des...</td>\n",
              "      <td>0</td>\n",
              "      <td>1.0</td>\n",
              "      <td>0.843412</td>\n",
              "    </tr>\n",
              "    <tr>\n",
              "      <th>69</th>\n",
              "      <td>Family mourns drowning of 'superhero' toddler ...</td>\n",
              "      <td>0</td>\n",
              "      <td>1.0</td>\n",
              "      <td>0.837567</td>\n",
              "    </tr>\n",
              "    <tr>\n",
              "      <th>...</th>\n",
              "      <td>...</td>\n",
              "      <td>...</td>\n",
              "      <td>...</td>\n",
              "      <td>...</td>\n",
              "    </tr>\n",
              "    <tr>\n",
              "      <th>383</th>\n",
              "      <td>@reriellechan HE WAS THE LICH KING'S FIRST CAS...</td>\n",
              "      <td>1</td>\n",
              "      <td>0.0</td>\n",
              "      <td>0.071257</td>\n",
              "    </tr>\n",
              "    <tr>\n",
              "      <th>726</th>\n",
              "      <td>@blakeshelton DON'T be a FART ??in a WINDSTORM...</td>\n",
              "      <td>1</td>\n",
              "      <td>0.0</td>\n",
              "      <td>0.069313</td>\n",
              "    </tr>\n",
              "    <tr>\n",
              "      <th>652</th>\n",
              "      <td>Feel like I've got no control of anything that...</td>\n",
              "      <td>1</td>\n",
              "      <td>0.0</td>\n",
              "      <td>0.067387</td>\n",
              "    </tr>\n",
              "    <tr>\n",
              "      <th>189</th>\n",
              "      <td>the sunset boys wreck my bed   original 1979 u...</td>\n",
              "      <td>1</td>\n",
              "      <td>0.0</td>\n",
              "      <td>0.061777</td>\n",
              "    </tr>\n",
              "    <tr>\n",
              "      <th>414</th>\n",
              "      <td>Reddit Will Now Quarantine Offensive Content h...</td>\n",
              "      <td>1</td>\n",
              "      <td>0.0</td>\n",
              "      <td>0.058487</td>\n",
              "    </tr>\n",
              "  </tbody>\n",
              "</table>\n",
              "<p>108 rows × 4 columns</p>\n",
              "</div>\n",
              "    <div class=\"colab-df-buttons\">\n",
              "\n",
              "  <div class=\"colab-df-container\">\n",
              "    <button class=\"colab-df-convert\" onclick=\"convertToInteractive('df-386eeea7-e562-44dd-831f-67a5850ab6f4')\"\n",
              "            title=\"Convert this dataframe to an interactive table.\"\n",
              "            style=\"display:none;\">\n",
              "\n",
              "  <svg xmlns=\"http://www.w3.org/2000/svg\" height=\"24px\" viewBox=\"0 -960 960 960\">\n",
              "    <path d=\"M120-120v-720h720v720H120Zm60-500h600v-160H180v160Zm220 220h160v-160H400v160Zm0 220h160v-160H400v160ZM180-400h160v-160H180v160Zm440 0h160v-160H620v160ZM180-180h160v-160H180v160Zm440 0h160v-160H620v160Z\"/>\n",
              "  </svg>\n",
              "    </button>\n",
              "\n",
              "  <style>\n",
              "    .colab-df-container {\n",
              "      display:flex;\n",
              "      gap: 12px;\n",
              "    }\n",
              "\n",
              "    .colab-df-convert {\n",
              "      background-color: #E8F0FE;\n",
              "      border: none;\n",
              "      border-radius: 50%;\n",
              "      cursor: pointer;\n",
              "      display: none;\n",
              "      fill: #1967D2;\n",
              "      height: 32px;\n",
              "      padding: 0 0 0 0;\n",
              "      width: 32px;\n",
              "    }\n",
              "\n",
              "    .colab-df-convert:hover {\n",
              "      background-color: #E2EBFA;\n",
              "      box-shadow: 0px 1px 2px rgba(60, 64, 67, 0.3), 0px 1px 3px 1px rgba(60, 64, 67, 0.15);\n",
              "      fill: #174EA6;\n",
              "    }\n",
              "\n",
              "    .colab-df-buttons div {\n",
              "      margin-bottom: 4px;\n",
              "    }\n",
              "\n",
              "    [theme=dark] .colab-df-convert {\n",
              "      background-color: #3B4455;\n",
              "      fill: #D2E3FC;\n",
              "    }\n",
              "\n",
              "    [theme=dark] .colab-df-convert:hover {\n",
              "      background-color: #434B5C;\n",
              "      box-shadow: 0px 1px 3px 1px rgba(0, 0, 0, 0.15);\n",
              "      filter: drop-shadow(0px 1px 2px rgba(0, 0, 0, 0.3));\n",
              "      fill: #FFFFFF;\n",
              "    }\n",
              "  </style>\n",
              "\n",
              "    <script>\n",
              "      const buttonEl =\n",
              "        document.querySelector('#df-386eeea7-e562-44dd-831f-67a5850ab6f4 button.colab-df-convert');\n",
              "      buttonEl.style.display =\n",
              "        google.colab.kernel.accessAllowed ? 'block' : 'none';\n",
              "\n",
              "      async function convertToInteractive(key) {\n",
              "        const element = document.querySelector('#df-386eeea7-e562-44dd-831f-67a5850ab6f4');\n",
              "        const dataTable =\n",
              "          await google.colab.kernel.invokeFunction('convertToInteractive',\n",
              "                                                    [key], {});\n",
              "        if (!dataTable) return;\n",
              "\n",
              "        const docLinkHtml = 'Like what you see? Visit the ' +\n",
              "          '<a target=\"_blank\" href=https://colab.research.google.com/notebooks/data_table.ipynb>data table notebook</a>'\n",
              "          + ' to learn more about interactive tables.';\n",
              "        element.innerHTML = '';\n",
              "        dataTable['output_type'] = 'display_data';\n",
              "        await google.colab.output.renderOutput(dataTable, element);\n",
              "        const docLink = document.createElement('div');\n",
              "        docLink.innerHTML = docLinkHtml;\n",
              "        element.appendChild(docLink);\n",
              "      }\n",
              "    </script>\n",
              "  </div>\n",
              "\n",
              "\n",
              "<div id=\"df-4528495c-7e02-401c-922b-fdadc831d154\">\n",
              "  <button class=\"colab-df-quickchart\" onclick=\"quickchart('df-4528495c-7e02-401c-922b-fdadc831d154')\"\n",
              "            title=\"Suggest charts\"\n",
              "            style=\"display:none;\">\n",
              "\n",
              "<svg xmlns=\"http://www.w3.org/2000/svg\" height=\"24px\"viewBox=\"0 0 24 24\"\n",
              "     width=\"24px\">\n",
              "    <g>\n",
              "        <path d=\"M19 3H5c-1.1 0-2 .9-2 2v14c0 1.1.9 2 2 2h14c1.1 0 2-.9 2-2V5c0-1.1-.9-2-2-2zM9 17H7v-7h2v7zm4 0h-2V7h2v10zm4 0h-2v-4h2v4z\"/>\n",
              "    </g>\n",
              "</svg>\n",
              "  </button>\n",
              "\n",
              "<style>\n",
              "  .colab-df-quickchart {\n",
              "      --bg-color: #E8F0FE;\n",
              "      --fill-color: #1967D2;\n",
              "      --hover-bg-color: #E2EBFA;\n",
              "      --hover-fill-color: #174EA6;\n",
              "      --disabled-fill-color: #AAA;\n",
              "      --disabled-bg-color: #DDD;\n",
              "  }\n",
              "\n",
              "  [theme=dark] .colab-df-quickchart {\n",
              "      --bg-color: #3B4455;\n",
              "      --fill-color: #D2E3FC;\n",
              "      --hover-bg-color: #434B5C;\n",
              "      --hover-fill-color: #FFFFFF;\n",
              "      --disabled-bg-color: #3B4455;\n",
              "      --disabled-fill-color: #666;\n",
              "  }\n",
              "\n",
              "  .colab-df-quickchart {\n",
              "    background-color: var(--bg-color);\n",
              "    border: none;\n",
              "    border-radius: 50%;\n",
              "    cursor: pointer;\n",
              "    display: none;\n",
              "    fill: var(--fill-color);\n",
              "    height: 32px;\n",
              "    padding: 0;\n",
              "    width: 32px;\n",
              "  }\n",
              "\n",
              "  .colab-df-quickchart:hover {\n",
              "    background-color: var(--hover-bg-color);\n",
              "    box-shadow: 0 1px 2px rgba(60, 64, 67, 0.3), 0 1px 3px 1px rgba(60, 64, 67, 0.15);\n",
              "    fill: var(--button-hover-fill-color);\n",
              "  }\n",
              "\n",
              "  .colab-df-quickchart-complete:disabled,\n",
              "  .colab-df-quickchart-complete:disabled:hover {\n",
              "    background-color: var(--disabled-bg-color);\n",
              "    fill: var(--disabled-fill-color);\n",
              "    box-shadow: none;\n",
              "  }\n",
              "\n",
              "  .colab-df-spinner {\n",
              "    border: 2px solid var(--fill-color);\n",
              "    border-color: transparent;\n",
              "    border-bottom-color: var(--fill-color);\n",
              "    animation:\n",
              "      spin 1s steps(1) infinite;\n",
              "  }\n",
              "\n",
              "  @keyframes spin {\n",
              "    0% {\n",
              "      border-color: transparent;\n",
              "      border-bottom-color: var(--fill-color);\n",
              "      border-left-color: var(--fill-color);\n",
              "    }\n",
              "    20% {\n",
              "      border-color: transparent;\n",
              "      border-left-color: var(--fill-color);\n",
              "      border-top-color: var(--fill-color);\n",
              "    }\n",
              "    30% {\n",
              "      border-color: transparent;\n",
              "      border-left-color: var(--fill-color);\n",
              "      border-top-color: var(--fill-color);\n",
              "      border-right-color: var(--fill-color);\n",
              "    }\n",
              "    40% {\n",
              "      border-color: transparent;\n",
              "      border-right-color: var(--fill-color);\n",
              "      border-top-color: var(--fill-color);\n",
              "    }\n",
              "    60% {\n",
              "      border-color: transparent;\n",
              "      border-right-color: var(--fill-color);\n",
              "    }\n",
              "    80% {\n",
              "      border-color: transparent;\n",
              "      border-right-color: var(--fill-color);\n",
              "      border-bottom-color: var(--fill-color);\n",
              "    }\n",
              "    90% {\n",
              "      border-color: transparent;\n",
              "      border-bottom-color: var(--fill-color);\n",
              "    }\n",
              "  }\n",
              "</style>\n",
              "\n",
              "  <script>\n",
              "    async function quickchart(key) {\n",
              "      const quickchartButtonEl =\n",
              "        document.querySelector('#' + key + ' button');\n",
              "      quickchartButtonEl.disabled = true;  // To prevent multiple clicks.\n",
              "      quickchartButtonEl.classList.add('colab-df-spinner');\n",
              "      try {\n",
              "        const charts = await google.colab.kernel.invokeFunction(\n",
              "            'suggestCharts', [key], {});\n",
              "      } catch (error) {\n",
              "        console.error('Error during call to suggestCharts:', error);\n",
              "      }\n",
              "      quickchartButtonEl.classList.remove('colab-df-spinner');\n",
              "      quickchartButtonEl.classList.add('colab-df-quickchart-complete');\n",
              "    }\n",
              "    (() => {\n",
              "      let quickchartButtonEl =\n",
              "        document.querySelector('#df-4528495c-7e02-401c-922b-fdadc831d154 button');\n",
              "      quickchartButtonEl.style.display =\n",
              "        google.colab.kernel.accessAllowed ? 'block' : 'none';\n",
              "    })();\n",
              "  </script>\n",
              "</div>\n",
              "\n",
              "  <div id=\"id_7eb51ac4-af33-4082-929e-ee435e85c255\">\n",
              "    <style>\n",
              "      .colab-df-generate {\n",
              "        background-color: #E8F0FE;\n",
              "        border: none;\n",
              "        border-radius: 50%;\n",
              "        cursor: pointer;\n",
              "        display: none;\n",
              "        fill: #1967D2;\n",
              "        height: 32px;\n",
              "        padding: 0 0 0 0;\n",
              "        width: 32px;\n",
              "      }\n",
              "\n",
              "      .colab-df-generate:hover {\n",
              "        background-color: #E2EBFA;\n",
              "        box-shadow: 0px 1px 2px rgba(60, 64, 67, 0.3), 0px 1px 3px 1px rgba(60, 64, 67, 0.15);\n",
              "        fill: #174EA6;\n",
              "      }\n",
              "\n",
              "      [theme=dark] .colab-df-generate {\n",
              "        background-color: #3B4455;\n",
              "        fill: #D2E3FC;\n",
              "      }\n",
              "\n",
              "      [theme=dark] .colab-df-generate:hover {\n",
              "        background-color: #434B5C;\n",
              "        box-shadow: 0px 1px 3px 1px rgba(0, 0, 0, 0.15);\n",
              "        filter: drop-shadow(0px 1px 2px rgba(0, 0, 0, 0.3));\n",
              "        fill: #FFFFFF;\n",
              "      }\n",
              "    </style>\n",
              "    <button class=\"colab-df-generate\" onclick=\"generateWithVariable('most_wrong')\"\n",
              "            title=\"Generate code using this dataframe.\"\n",
              "            style=\"display:none;\">\n",
              "\n",
              "  <svg xmlns=\"http://www.w3.org/2000/svg\" height=\"24px\"viewBox=\"0 0 24 24\"\n",
              "       width=\"24px\">\n",
              "    <path d=\"M7,19H8.4L18.45,9,17,7.55,7,17.6ZM5,21V16.75L18.45,3.32a2,2,0,0,1,2.83,0l1.4,1.43a1.91,1.91,0,0,1,.58,1.4,1.91,1.91,0,0,1-.58,1.4L9.25,21ZM18.45,9,17,7.55Zm-12,3A5.31,5.31,0,0,0,4.9,8.1,5.31,5.31,0,0,0,1,6.5,5.31,5.31,0,0,0,4.9,4.9,5.31,5.31,0,0,0,6.5,1,5.31,5.31,0,0,0,8.1,4.9,5.31,5.31,0,0,0,12,6.5,5.46,5.46,0,0,0,6.5,12Z\"/>\n",
              "  </svg>\n",
              "    </button>\n",
              "    <script>\n",
              "      (() => {\n",
              "      const buttonEl =\n",
              "        document.querySelector('#id_7eb51ac4-af33-4082-929e-ee435e85c255 button.colab-df-generate');\n",
              "      buttonEl.style.display =\n",
              "        google.colab.kernel.accessAllowed ? 'block' : 'none';\n",
              "\n",
              "      buttonEl.onclick = () => {\n",
              "        google.colab.notebook.generateWithVariable('most_wrong');\n",
              "      }\n",
              "      })();\n",
              "    </script>\n",
              "  </div>\n",
              "\n",
              "    </div>\n",
              "  </div>\n"
            ],
            "application/vnd.google.colaboratory.intrinsic+json": {
              "type": "dataframe",
              "variable_name": "most_wrong",
              "summary": "{\n  \"name\": \"most_wrong\",\n  \"rows\": 108,\n  \"fields\": [\n    {\n      \"column\": \"text\",\n      \"properties\": {\n        \"dtype\": \"string\",\n        \"num_unique_values\": 108,\n        \"samples\": [\n          \"My hand is burning\",\n          \"@crobscarla your lifetime odds of dying from an airplane accident are 1 in 8015.\",\n          \"Family mourns drowning of 'superhero' toddler with rare epilepsy: Bradley Diebold suffered hundreds of epileptic\\u0089\\u00db_ http://t.co/unsayJDTu7\"\n        ],\n        \"semantic_type\": \"\",\n        \"description\": \"\"\n      }\n    },\n    {\n      \"column\": \"target\",\n      \"properties\": {\n        \"dtype\": \"number\",\n        \"std\": 0,\n        \"min\": 0,\n        \"max\": 1,\n        \"num_unique_values\": 2,\n        \"samples\": [\n          1,\n          0\n        ],\n        \"semantic_type\": \"\",\n        \"description\": \"\"\n      }\n    },\n    {\n      \"column\": \"pred\",\n      \"properties\": {\n        \"dtype\": \"float32\",\n        \"num_unique_values\": 2,\n        \"samples\": [\n          0.0,\n          1.0\n        ],\n        \"semantic_type\": \"\",\n        \"description\": \"\"\n      }\n    },\n    {\n      \"column\": \"pred_prob\",\n      \"properties\": {\n        \"dtype\": \"float32\",\n        \"num_unique_values\": 108,\n        \"samples\": [\n          0.21034051477909088,\n          0.7500433921813965\n        ],\n        \"semantic_type\": \"\",\n        \"description\": \"\"\n      }\n    }\n  ]\n}"
            }
          },
          "metadata": {},
          "execution_count": 149
        }
      ]
    },
    {
      "cell_type": "code",
      "source": [
        "false_positive = val_df[val_df[\"target\"] != val_df[\"pred\"]].sort_values(\"pred_prob\", ascending=False)[:10]\n",
        "false_negative = val_df[val_df[\"target\"] != val_df[\"pred\"]].sort_values(\"pred_prob\", ascending=True)[:10]"
      ],
      "metadata": {
        "id": "09P7GJEnolmw"
      },
      "execution_count": 154,
      "outputs": []
    },
    {
      "cell_type": "code",
      "source": [
        "false_positive"
      ],
      "metadata": {
        "colab": {
          "base_uri": "https://localhost:8080/",
          "height": 363
        },
        "id": "USEcBarypNAs",
        "outputId": "950ec362-b859-48a4-cdbf-71dd44f04610"
      },
      "execution_count": 155,
      "outputs": [
        {
          "output_type": "execute_result",
          "data": {
            "text/plain": [
              "                                                  text  target  pred  \\\n",
              "171  Snowstorm planned outside #Rome's St Mary Majo...       0   1.0   \n",
              "588  County 911 Overload Prompts Use of Emergency P...       0   1.0   \n",
              "65   Governor weighs parole for California school b...       0   1.0   \n",
              "344  Truck Driver Salvages Banned Tomatoes From Des...       0   1.0   \n",
              "69   Family mourns drowning of 'superhero' toddler ...       0   1.0   \n",
              "574  @madonnamking RSPCA site multiple 7 story high...       0   1.0   \n",
              "325  York Co. first responders compete to save live...       0   1.0   \n",
              "552  #CCOT #TCOT #radiation Nuclear Emergency Track...       0   1.0   \n",
              "285  Bloor/Ossington arsonist also burned a mattres...       0   1.0   \n",
              "598  Air Group is here to the rescue! We have 24/7 ...       0   1.0   \n",
              "\n",
              "     pred_prob  \n",
              "171   0.873418  \n",
              "588   0.858913  \n",
              "65    0.856527  \n",
              "344   0.843412  \n",
              "69    0.837567  \n",
              "574   0.803122  \n",
              "325   0.801573  \n",
              "552   0.787579  \n",
              "285   0.781458  \n",
              "598   0.766625  "
            ],
            "text/html": [
              "\n",
              "  <div id=\"df-8755b12a-c53c-4974-a5b4-f371169dc89f\" class=\"colab-df-container\">\n",
              "    <div>\n",
              "<style scoped>\n",
              "    .dataframe tbody tr th:only-of-type {\n",
              "        vertical-align: middle;\n",
              "    }\n",
              "\n",
              "    .dataframe tbody tr th {\n",
              "        vertical-align: top;\n",
              "    }\n",
              "\n",
              "    .dataframe thead th {\n",
              "        text-align: right;\n",
              "    }\n",
              "</style>\n",
              "<table border=\"1\" class=\"dataframe\">\n",
              "  <thead>\n",
              "    <tr style=\"text-align: right;\">\n",
              "      <th></th>\n",
              "      <th>text</th>\n",
              "      <th>target</th>\n",
              "      <th>pred</th>\n",
              "      <th>pred_prob</th>\n",
              "    </tr>\n",
              "  </thead>\n",
              "  <tbody>\n",
              "    <tr>\n",
              "      <th>171</th>\n",
              "      <td>Snowstorm planned outside #Rome's St Mary Majo...</td>\n",
              "      <td>0</td>\n",
              "      <td>1.0</td>\n",
              "      <td>0.873418</td>\n",
              "    </tr>\n",
              "    <tr>\n",
              "      <th>588</th>\n",
              "      <td>County 911 Overload Prompts Use of Emergency P...</td>\n",
              "      <td>0</td>\n",
              "      <td>1.0</td>\n",
              "      <td>0.858913</td>\n",
              "    </tr>\n",
              "    <tr>\n",
              "      <th>65</th>\n",
              "      <td>Governor weighs parole for California school b...</td>\n",
              "      <td>0</td>\n",
              "      <td>1.0</td>\n",
              "      <td>0.856527</td>\n",
              "    </tr>\n",
              "    <tr>\n",
              "      <th>344</th>\n",
              "      <td>Truck Driver Salvages Banned Tomatoes From Des...</td>\n",
              "      <td>0</td>\n",
              "      <td>1.0</td>\n",
              "      <td>0.843412</td>\n",
              "    </tr>\n",
              "    <tr>\n",
              "      <th>69</th>\n",
              "      <td>Family mourns drowning of 'superhero' toddler ...</td>\n",
              "      <td>0</td>\n",
              "      <td>1.0</td>\n",
              "      <td>0.837567</td>\n",
              "    </tr>\n",
              "    <tr>\n",
              "      <th>574</th>\n",
              "      <td>@madonnamking RSPCA site multiple 7 story high...</td>\n",
              "      <td>0</td>\n",
              "      <td>1.0</td>\n",
              "      <td>0.803122</td>\n",
              "    </tr>\n",
              "    <tr>\n",
              "      <th>325</th>\n",
              "      <td>York Co. first responders compete to save live...</td>\n",
              "      <td>0</td>\n",
              "      <td>1.0</td>\n",
              "      <td>0.801573</td>\n",
              "    </tr>\n",
              "    <tr>\n",
              "      <th>552</th>\n",
              "      <td>#CCOT #TCOT #radiation Nuclear Emergency Track...</td>\n",
              "      <td>0</td>\n",
              "      <td>1.0</td>\n",
              "      <td>0.787579</td>\n",
              "    </tr>\n",
              "    <tr>\n",
              "      <th>285</th>\n",
              "      <td>Bloor/Ossington arsonist also burned a mattres...</td>\n",
              "      <td>0</td>\n",
              "      <td>1.0</td>\n",
              "      <td>0.781458</td>\n",
              "    </tr>\n",
              "    <tr>\n",
              "      <th>598</th>\n",
              "      <td>Air Group is here to the rescue! We have 24/7 ...</td>\n",
              "      <td>0</td>\n",
              "      <td>1.0</td>\n",
              "      <td>0.766625</td>\n",
              "    </tr>\n",
              "  </tbody>\n",
              "</table>\n",
              "</div>\n",
              "    <div class=\"colab-df-buttons\">\n",
              "\n",
              "  <div class=\"colab-df-container\">\n",
              "    <button class=\"colab-df-convert\" onclick=\"convertToInteractive('df-8755b12a-c53c-4974-a5b4-f371169dc89f')\"\n",
              "            title=\"Convert this dataframe to an interactive table.\"\n",
              "            style=\"display:none;\">\n",
              "\n",
              "  <svg xmlns=\"http://www.w3.org/2000/svg\" height=\"24px\" viewBox=\"0 -960 960 960\">\n",
              "    <path d=\"M120-120v-720h720v720H120Zm60-500h600v-160H180v160Zm220 220h160v-160H400v160Zm0 220h160v-160H400v160ZM180-400h160v-160H180v160Zm440 0h160v-160H620v160ZM180-180h160v-160H180v160Zm440 0h160v-160H620v160Z\"/>\n",
              "  </svg>\n",
              "    </button>\n",
              "\n",
              "  <style>\n",
              "    .colab-df-container {\n",
              "      display:flex;\n",
              "      gap: 12px;\n",
              "    }\n",
              "\n",
              "    .colab-df-convert {\n",
              "      background-color: #E8F0FE;\n",
              "      border: none;\n",
              "      border-radius: 50%;\n",
              "      cursor: pointer;\n",
              "      display: none;\n",
              "      fill: #1967D2;\n",
              "      height: 32px;\n",
              "      padding: 0 0 0 0;\n",
              "      width: 32px;\n",
              "    }\n",
              "\n",
              "    .colab-df-convert:hover {\n",
              "      background-color: #E2EBFA;\n",
              "      box-shadow: 0px 1px 2px rgba(60, 64, 67, 0.3), 0px 1px 3px 1px rgba(60, 64, 67, 0.15);\n",
              "      fill: #174EA6;\n",
              "    }\n",
              "\n",
              "    .colab-df-buttons div {\n",
              "      margin-bottom: 4px;\n",
              "    }\n",
              "\n",
              "    [theme=dark] .colab-df-convert {\n",
              "      background-color: #3B4455;\n",
              "      fill: #D2E3FC;\n",
              "    }\n",
              "\n",
              "    [theme=dark] .colab-df-convert:hover {\n",
              "      background-color: #434B5C;\n",
              "      box-shadow: 0px 1px 3px 1px rgba(0, 0, 0, 0.15);\n",
              "      filter: drop-shadow(0px 1px 2px rgba(0, 0, 0, 0.3));\n",
              "      fill: #FFFFFF;\n",
              "    }\n",
              "  </style>\n",
              "\n",
              "    <script>\n",
              "      const buttonEl =\n",
              "        document.querySelector('#df-8755b12a-c53c-4974-a5b4-f371169dc89f button.colab-df-convert');\n",
              "      buttonEl.style.display =\n",
              "        google.colab.kernel.accessAllowed ? 'block' : 'none';\n",
              "\n",
              "      async function convertToInteractive(key) {\n",
              "        const element = document.querySelector('#df-8755b12a-c53c-4974-a5b4-f371169dc89f');\n",
              "        const dataTable =\n",
              "          await google.colab.kernel.invokeFunction('convertToInteractive',\n",
              "                                                    [key], {});\n",
              "        if (!dataTable) return;\n",
              "\n",
              "        const docLinkHtml = 'Like what you see? Visit the ' +\n",
              "          '<a target=\"_blank\" href=https://colab.research.google.com/notebooks/data_table.ipynb>data table notebook</a>'\n",
              "          + ' to learn more about interactive tables.';\n",
              "        element.innerHTML = '';\n",
              "        dataTable['output_type'] = 'display_data';\n",
              "        await google.colab.output.renderOutput(dataTable, element);\n",
              "        const docLink = document.createElement('div');\n",
              "        docLink.innerHTML = docLinkHtml;\n",
              "        element.appendChild(docLink);\n",
              "      }\n",
              "    </script>\n",
              "  </div>\n",
              "\n",
              "\n",
              "<div id=\"df-7ad12b82-efbc-4452-b044-429163e635c8\">\n",
              "  <button class=\"colab-df-quickchart\" onclick=\"quickchart('df-7ad12b82-efbc-4452-b044-429163e635c8')\"\n",
              "            title=\"Suggest charts\"\n",
              "            style=\"display:none;\">\n",
              "\n",
              "<svg xmlns=\"http://www.w3.org/2000/svg\" height=\"24px\"viewBox=\"0 0 24 24\"\n",
              "     width=\"24px\">\n",
              "    <g>\n",
              "        <path d=\"M19 3H5c-1.1 0-2 .9-2 2v14c0 1.1.9 2 2 2h14c1.1 0 2-.9 2-2V5c0-1.1-.9-2-2-2zM9 17H7v-7h2v7zm4 0h-2V7h2v10zm4 0h-2v-4h2v4z\"/>\n",
              "    </g>\n",
              "</svg>\n",
              "  </button>\n",
              "\n",
              "<style>\n",
              "  .colab-df-quickchart {\n",
              "      --bg-color: #E8F0FE;\n",
              "      --fill-color: #1967D2;\n",
              "      --hover-bg-color: #E2EBFA;\n",
              "      --hover-fill-color: #174EA6;\n",
              "      --disabled-fill-color: #AAA;\n",
              "      --disabled-bg-color: #DDD;\n",
              "  }\n",
              "\n",
              "  [theme=dark] .colab-df-quickchart {\n",
              "      --bg-color: #3B4455;\n",
              "      --fill-color: #D2E3FC;\n",
              "      --hover-bg-color: #434B5C;\n",
              "      --hover-fill-color: #FFFFFF;\n",
              "      --disabled-bg-color: #3B4455;\n",
              "      --disabled-fill-color: #666;\n",
              "  }\n",
              "\n",
              "  .colab-df-quickchart {\n",
              "    background-color: var(--bg-color);\n",
              "    border: none;\n",
              "    border-radius: 50%;\n",
              "    cursor: pointer;\n",
              "    display: none;\n",
              "    fill: var(--fill-color);\n",
              "    height: 32px;\n",
              "    padding: 0;\n",
              "    width: 32px;\n",
              "  }\n",
              "\n",
              "  .colab-df-quickchart:hover {\n",
              "    background-color: var(--hover-bg-color);\n",
              "    box-shadow: 0 1px 2px rgba(60, 64, 67, 0.3), 0 1px 3px 1px rgba(60, 64, 67, 0.15);\n",
              "    fill: var(--button-hover-fill-color);\n",
              "  }\n",
              "\n",
              "  .colab-df-quickchart-complete:disabled,\n",
              "  .colab-df-quickchart-complete:disabled:hover {\n",
              "    background-color: var(--disabled-bg-color);\n",
              "    fill: var(--disabled-fill-color);\n",
              "    box-shadow: none;\n",
              "  }\n",
              "\n",
              "  .colab-df-spinner {\n",
              "    border: 2px solid var(--fill-color);\n",
              "    border-color: transparent;\n",
              "    border-bottom-color: var(--fill-color);\n",
              "    animation:\n",
              "      spin 1s steps(1) infinite;\n",
              "  }\n",
              "\n",
              "  @keyframes spin {\n",
              "    0% {\n",
              "      border-color: transparent;\n",
              "      border-bottom-color: var(--fill-color);\n",
              "      border-left-color: var(--fill-color);\n",
              "    }\n",
              "    20% {\n",
              "      border-color: transparent;\n",
              "      border-left-color: var(--fill-color);\n",
              "      border-top-color: var(--fill-color);\n",
              "    }\n",
              "    30% {\n",
              "      border-color: transparent;\n",
              "      border-left-color: var(--fill-color);\n",
              "      border-top-color: var(--fill-color);\n",
              "      border-right-color: var(--fill-color);\n",
              "    }\n",
              "    40% {\n",
              "      border-color: transparent;\n",
              "      border-right-color: var(--fill-color);\n",
              "      border-top-color: var(--fill-color);\n",
              "    }\n",
              "    60% {\n",
              "      border-color: transparent;\n",
              "      border-right-color: var(--fill-color);\n",
              "    }\n",
              "    80% {\n",
              "      border-color: transparent;\n",
              "      border-right-color: var(--fill-color);\n",
              "      border-bottom-color: var(--fill-color);\n",
              "    }\n",
              "    90% {\n",
              "      border-color: transparent;\n",
              "      border-bottom-color: var(--fill-color);\n",
              "    }\n",
              "  }\n",
              "</style>\n",
              "\n",
              "  <script>\n",
              "    async function quickchart(key) {\n",
              "      const quickchartButtonEl =\n",
              "        document.querySelector('#' + key + ' button');\n",
              "      quickchartButtonEl.disabled = true;  // To prevent multiple clicks.\n",
              "      quickchartButtonEl.classList.add('colab-df-spinner');\n",
              "      try {\n",
              "        const charts = await google.colab.kernel.invokeFunction(\n",
              "            'suggestCharts', [key], {});\n",
              "      } catch (error) {\n",
              "        console.error('Error during call to suggestCharts:', error);\n",
              "      }\n",
              "      quickchartButtonEl.classList.remove('colab-df-spinner');\n",
              "      quickchartButtonEl.classList.add('colab-df-quickchart-complete');\n",
              "    }\n",
              "    (() => {\n",
              "      let quickchartButtonEl =\n",
              "        document.querySelector('#df-7ad12b82-efbc-4452-b044-429163e635c8 button');\n",
              "      quickchartButtonEl.style.display =\n",
              "        google.colab.kernel.accessAllowed ? 'block' : 'none';\n",
              "    })();\n",
              "  </script>\n",
              "</div>\n",
              "\n",
              "  <div id=\"id_976b63c0-3d20-4eba-9d57-1da3d641d881\">\n",
              "    <style>\n",
              "      .colab-df-generate {\n",
              "        background-color: #E8F0FE;\n",
              "        border: none;\n",
              "        border-radius: 50%;\n",
              "        cursor: pointer;\n",
              "        display: none;\n",
              "        fill: #1967D2;\n",
              "        height: 32px;\n",
              "        padding: 0 0 0 0;\n",
              "        width: 32px;\n",
              "      }\n",
              "\n",
              "      .colab-df-generate:hover {\n",
              "        background-color: #E2EBFA;\n",
              "        box-shadow: 0px 1px 2px rgba(60, 64, 67, 0.3), 0px 1px 3px 1px rgba(60, 64, 67, 0.15);\n",
              "        fill: #174EA6;\n",
              "      }\n",
              "\n",
              "      [theme=dark] .colab-df-generate {\n",
              "        background-color: #3B4455;\n",
              "        fill: #D2E3FC;\n",
              "      }\n",
              "\n",
              "      [theme=dark] .colab-df-generate:hover {\n",
              "        background-color: #434B5C;\n",
              "        box-shadow: 0px 1px 3px 1px rgba(0, 0, 0, 0.15);\n",
              "        filter: drop-shadow(0px 1px 2px rgba(0, 0, 0, 0.3));\n",
              "        fill: #FFFFFF;\n",
              "      }\n",
              "    </style>\n",
              "    <button class=\"colab-df-generate\" onclick=\"generateWithVariable('false_positive')\"\n",
              "            title=\"Generate code using this dataframe.\"\n",
              "            style=\"display:none;\">\n",
              "\n",
              "  <svg xmlns=\"http://www.w3.org/2000/svg\" height=\"24px\"viewBox=\"0 0 24 24\"\n",
              "       width=\"24px\">\n",
              "    <path d=\"M7,19H8.4L18.45,9,17,7.55,7,17.6ZM5,21V16.75L18.45,3.32a2,2,0,0,1,2.83,0l1.4,1.43a1.91,1.91,0,0,1,.58,1.4,1.91,1.91,0,0,1-.58,1.4L9.25,21ZM18.45,9,17,7.55Zm-12,3A5.31,5.31,0,0,0,4.9,8.1,5.31,5.31,0,0,0,1,6.5,5.31,5.31,0,0,0,4.9,4.9,5.31,5.31,0,0,0,6.5,1,5.31,5.31,0,0,0,8.1,4.9,5.31,5.31,0,0,0,12,6.5,5.46,5.46,0,0,0,6.5,12Z\"/>\n",
              "  </svg>\n",
              "    </button>\n",
              "    <script>\n",
              "      (() => {\n",
              "      const buttonEl =\n",
              "        document.querySelector('#id_976b63c0-3d20-4eba-9d57-1da3d641d881 button.colab-df-generate');\n",
              "      buttonEl.style.display =\n",
              "        google.colab.kernel.accessAllowed ? 'block' : 'none';\n",
              "\n",
              "      buttonEl.onclick = () => {\n",
              "        google.colab.notebook.generateWithVariable('false_positive');\n",
              "      }\n",
              "      })();\n",
              "    </script>\n",
              "  </div>\n",
              "\n",
              "    </div>\n",
              "  </div>\n"
            ],
            "application/vnd.google.colaboratory.intrinsic+json": {
              "type": "dataframe",
              "variable_name": "false_positive",
              "summary": "{\n  \"name\": \"false_positive\",\n  \"rows\": 10,\n  \"fields\": [\n    {\n      \"column\": \"text\",\n      \"properties\": {\n        \"dtype\": \"string\",\n        \"num_unique_values\": 10,\n        \"samples\": [\n          \"Bloor/Ossington arsonist also burned a mattress on Northumberland St #cbcto http://t.co/wpDvT31sne\",\n          \"County 911 Overload Prompts Use of Emergency Plan During July 4 Celebrations http://t.co/HXTUPrA5bc http://t.co/DqxKJibbKy\",\n          \"@madonnamking RSPCA site multiple 7 story high rise buildings next to low density character residential in an area that floods\"\n        ],\n        \"semantic_type\": \"\",\n        \"description\": \"\"\n      }\n    },\n    {\n      \"column\": \"target\",\n      \"properties\": {\n        \"dtype\": \"number\",\n        \"std\": 0,\n        \"min\": 0,\n        \"max\": 0,\n        \"num_unique_values\": 1,\n        \"samples\": [\n          0\n        ],\n        \"semantic_type\": \"\",\n        \"description\": \"\"\n      }\n    },\n    {\n      \"column\": \"pred\",\n      \"properties\": {\n        \"dtype\": \"float32\",\n        \"num_unique_values\": 1,\n        \"samples\": [\n          1.0\n        ],\n        \"semantic_type\": \"\",\n        \"description\": \"\"\n      }\n    },\n    {\n      \"column\": \"pred_prob\",\n      \"properties\": {\n        \"dtype\": \"float32\",\n        \"num_unique_values\": 10,\n        \"samples\": [\n          0.7814583778381348\n        ],\n        \"semantic_type\": \"\",\n        \"description\": \"\"\n      }\n    }\n  ]\n}"
            }
          },
          "metadata": {},
          "execution_count": 155
        }
      ]
    },
    {
      "cell_type": "code",
      "source": [
        "false_negative"
      ],
      "metadata": {
        "colab": {
          "base_uri": "https://localhost:8080/",
          "height": 363
        },
        "id": "vKTYcj9lpQhd",
        "outputId": "299215d2-e3ff-400c-8285-4854bd594588"
      },
      "execution_count": 156,
      "outputs": [
        {
          "output_type": "execute_result",
          "data": {
            "text/plain": [
              "                                                  text  target  pred  \\\n",
              "414  Reddit Will Now Quarantine Offensive Content h...       1   0.0   \n",
              "189  the sunset boys wreck my bed   original 1979 u...       1   0.0   \n",
              "652  Feel like I've got no control of anything that...       1   0.0   \n",
              "726  @blakeshelton DON'T be a FART ??in a WINDSTORM...       1   0.0   \n",
              "383  @reriellechan HE WAS THE LICH KING'S FIRST CAS...       1   0.0   \n",
              "211  VICTORINOX SWISS ARMY DATE WOMEN'S RUBBER MOP ...       1   0.0   \n",
              "485                         My back is so sunburned :(       1   0.0   \n",
              "11   Early wake up call from my sister begging me t...       1   0.0   \n",
              "236  I was in a horrible car accident this past Sun...       1   0.0   \n",
              "336  @TomcatArts thus explaining why you were all a...       1   0.0   \n",
              "\n",
              "     pred_prob  \n",
              "414   0.058487  \n",
              "189   0.061777  \n",
              "652   0.067387  \n",
              "726   0.069313  \n",
              "383   0.071257  \n",
              "211   0.080427  \n",
              "485   0.082171  \n",
              "11    0.090747  \n",
              "236   0.090947  \n",
              "336   0.092150  "
            ],
            "text/html": [
              "\n",
              "  <div id=\"df-c03ac327-ee60-4495-a942-8f38e192e76d\" class=\"colab-df-container\">\n",
              "    <div>\n",
              "<style scoped>\n",
              "    .dataframe tbody tr th:only-of-type {\n",
              "        vertical-align: middle;\n",
              "    }\n",
              "\n",
              "    .dataframe tbody tr th {\n",
              "        vertical-align: top;\n",
              "    }\n",
              "\n",
              "    .dataframe thead th {\n",
              "        text-align: right;\n",
              "    }\n",
              "</style>\n",
              "<table border=\"1\" class=\"dataframe\">\n",
              "  <thead>\n",
              "    <tr style=\"text-align: right;\">\n",
              "      <th></th>\n",
              "      <th>text</th>\n",
              "      <th>target</th>\n",
              "      <th>pred</th>\n",
              "      <th>pred_prob</th>\n",
              "    </tr>\n",
              "  </thead>\n",
              "  <tbody>\n",
              "    <tr>\n",
              "      <th>414</th>\n",
              "      <td>Reddit Will Now Quarantine Offensive Content h...</td>\n",
              "      <td>1</td>\n",
              "      <td>0.0</td>\n",
              "      <td>0.058487</td>\n",
              "    </tr>\n",
              "    <tr>\n",
              "      <th>189</th>\n",
              "      <td>the sunset boys wreck my bed   original 1979 u...</td>\n",
              "      <td>1</td>\n",
              "      <td>0.0</td>\n",
              "      <td>0.061777</td>\n",
              "    </tr>\n",
              "    <tr>\n",
              "      <th>652</th>\n",
              "      <td>Feel like I've got no control of anything that...</td>\n",
              "      <td>1</td>\n",
              "      <td>0.0</td>\n",
              "      <td>0.067387</td>\n",
              "    </tr>\n",
              "    <tr>\n",
              "      <th>726</th>\n",
              "      <td>@blakeshelton DON'T be a FART ??in a WINDSTORM...</td>\n",
              "      <td>1</td>\n",
              "      <td>0.0</td>\n",
              "      <td>0.069313</td>\n",
              "    </tr>\n",
              "    <tr>\n",
              "      <th>383</th>\n",
              "      <td>@reriellechan HE WAS THE LICH KING'S FIRST CAS...</td>\n",
              "      <td>1</td>\n",
              "      <td>0.0</td>\n",
              "      <td>0.071257</td>\n",
              "    </tr>\n",
              "    <tr>\n",
              "      <th>211</th>\n",
              "      <td>VICTORINOX SWISS ARMY DATE WOMEN'S RUBBER MOP ...</td>\n",
              "      <td>1</td>\n",
              "      <td>0.0</td>\n",
              "      <td>0.080427</td>\n",
              "    </tr>\n",
              "    <tr>\n",
              "      <th>485</th>\n",
              "      <td>My back is so sunburned :(</td>\n",
              "      <td>1</td>\n",
              "      <td>0.0</td>\n",
              "      <td>0.082171</td>\n",
              "    </tr>\n",
              "    <tr>\n",
              "      <th>11</th>\n",
              "      <td>Early wake up call from my sister begging me t...</td>\n",
              "      <td>1</td>\n",
              "      <td>0.0</td>\n",
              "      <td>0.090747</td>\n",
              "    </tr>\n",
              "    <tr>\n",
              "      <th>236</th>\n",
              "      <td>I was in a horrible car accident this past Sun...</td>\n",
              "      <td>1</td>\n",
              "      <td>0.0</td>\n",
              "      <td>0.090947</td>\n",
              "    </tr>\n",
              "    <tr>\n",
              "      <th>336</th>\n",
              "      <td>@TomcatArts thus explaining why you were all a...</td>\n",
              "      <td>1</td>\n",
              "      <td>0.0</td>\n",
              "      <td>0.092150</td>\n",
              "    </tr>\n",
              "  </tbody>\n",
              "</table>\n",
              "</div>\n",
              "    <div class=\"colab-df-buttons\">\n",
              "\n",
              "  <div class=\"colab-df-container\">\n",
              "    <button class=\"colab-df-convert\" onclick=\"convertToInteractive('df-c03ac327-ee60-4495-a942-8f38e192e76d')\"\n",
              "            title=\"Convert this dataframe to an interactive table.\"\n",
              "            style=\"display:none;\">\n",
              "\n",
              "  <svg xmlns=\"http://www.w3.org/2000/svg\" height=\"24px\" viewBox=\"0 -960 960 960\">\n",
              "    <path d=\"M120-120v-720h720v720H120Zm60-500h600v-160H180v160Zm220 220h160v-160H400v160Zm0 220h160v-160H400v160ZM180-400h160v-160H180v160Zm440 0h160v-160H620v160ZM180-180h160v-160H180v160Zm440 0h160v-160H620v160Z\"/>\n",
              "  </svg>\n",
              "    </button>\n",
              "\n",
              "  <style>\n",
              "    .colab-df-container {\n",
              "      display:flex;\n",
              "      gap: 12px;\n",
              "    }\n",
              "\n",
              "    .colab-df-convert {\n",
              "      background-color: #E8F0FE;\n",
              "      border: none;\n",
              "      border-radius: 50%;\n",
              "      cursor: pointer;\n",
              "      display: none;\n",
              "      fill: #1967D2;\n",
              "      height: 32px;\n",
              "      padding: 0 0 0 0;\n",
              "      width: 32px;\n",
              "    }\n",
              "\n",
              "    .colab-df-convert:hover {\n",
              "      background-color: #E2EBFA;\n",
              "      box-shadow: 0px 1px 2px rgba(60, 64, 67, 0.3), 0px 1px 3px 1px rgba(60, 64, 67, 0.15);\n",
              "      fill: #174EA6;\n",
              "    }\n",
              "\n",
              "    .colab-df-buttons div {\n",
              "      margin-bottom: 4px;\n",
              "    }\n",
              "\n",
              "    [theme=dark] .colab-df-convert {\n",
              "      background-color: #3B4455;\n",
              "      fill: #D2E3FC;\n",
              "    }\n",
              "\n",
              "    [theme=dark] .colab-df-convert:hover {\n",
              "      background-color: #434B5C;\n",
              "      box-shadow: 0px 1px 3px 1px rgba(0, 0, 0, 0.15);\n",
              "      filter: drop-shadow(0px 1px 2px rgba(0, 0, 0, 0.3));\n",
              "      fill: #FFFFFF;\n",
              "    }\n",
              "  </style>\n",
              "\n",
              "    <script>\n",
              "      const buttonEl =\n",
              "        document.querySelector('#df-c03ac327-ee60-4495-a942-8f38e192e76d button.colab-df-convert');\n",
              "      buttonEl.style.display =\n",
              "        google.colab.kernel.accessAllowed ? 'block' : 'none';\n",
              "\n",
              "      async function convertToInteractive(key) {\n",
              "        const element = document.querySelector('#df-c03ac327-ee60-4495-a942-8f38e192e76d');\n",
              "        const dataTable =\n",
              "          await google.colab.kernel.invokeFunction('convertToInteractive',\n",
              "                                                    [key], {});\n",
              "        if (!dataTable) return;\n",
              "\n",
              "        const docLinkHtml = 'Like what you see? Visit the ' +\n",
              "          '<a target=\"_blank\" href=https://colab.research.google.com/notebooks/data_table.ipynb>data table notebook</a>'\n",
              "          + ' to learn more about interactive tables.';\n",
              "        element.innerHTML = '';\n",
              "        dataTable['output_type'] = 'display_data';\n",
              "        await google.colab.output.renderOutput(dataTable, element);\n",
              "        const docLink = document.createElement('div');\n",
              "        docLink.innerHTML = docLinkHtml;\n",
              "        element.appendChild(docLink);\n",
              "      }\n",
              "    </script>\n",
              "  </div>\n",
              "\n",
              "\n",
              "<div id=\"df-97727576-f3c4-4174-ba88-63e141129c75\">\n",
              "  <button class=\"colab-df-quickchart\" onclick=\"quickchart('df-97727576-f3c4-4174-ba88-63e141129c75')\"\n",
              "            title=\"Suggest charts\"\n",
              "            style=\"display:none;\">\n",
              "\n",
              "<svg xmlns=\"http://www.w3.org/2000/svg\" height=\"24px\"viewBox=\"0 0 24 24\"\n",
              "     width=\"24px\">\n",
              "    <g>\n",
              "        <path d=\"M19 3H5c-1.1 0-2 .9-2 2v14c0 1.1.9 2 2 2h14c1.1 0 2-.9 2-2V5c0-1.1-.9-2-2-2zM9 17H7v-7h2v7zm4 0h-2V7h2v10zm4 0h-2v-4h2v4z\"/>\n",
              "    </g>\n",
              "</svg>\n",
              "  </button>\n",
              "\n",
              "<style>\n",
              "  .colab-df-quickchart {\n",
              "      --bg-color: #E8F0FE;\n",
              "      --fill-color: #1967D2;\n",
              "      --hover-bg-color: #E2EBFA;\n",
              "      --hover-fill-color: #174EA6;\n",
              "      --disabled-fill-color: #AAA;\n",
              "      --disabled-bg-color: #DDD;\n",
              "  }\n",
              "\n",
              "  [theme=dark] .colab-df-quickchart {\n",
              "      --bg-color: #3B4455;\n",
              "      --fill-color: #D2E3FC;\n",
              "      --hover-bg-color: #434B5C;\n",
              "      --hover-fill-color: #FFFFFF;\n",
              "      --disabled-bg-color: #3B4455;\n",
              "      --disabled-fill-color: #666;\n",
              "  }\n",
              "\n",
              "  .colab-df-quickchart {\n",
              "    background-color: var(--bg-color);\n",
              "    border: none;\n",
              "    border-radius: 50%;\n",
              "    cursor: pointer;\n",
              "    display: none;\n",
              "    fill: var(--fill-color);\n",
              "    height: 32px;\n",
              "    padding: 0;\n",
              "    width: 32px;\n",
              "  }\n",
              "\n",
              "  .colab-df-quickchart:hover {\n",
              "    background-color: var(--hover-bg-color);\n",
              "    box-shadow: 0 1px 2px rgba(60, 64, 67, 0.3), 0 1px 3px 1px rgba(60, 64, 67, 0.15);\n",
              "    fill: var(--button-hover-fill-color);\n",
              "  }\n",
              "\n",
              "  .colab-df-quickchart-complete:disabled,\n",
              "  .colab-df-quickchart-complete:disabled:hover {\n",
              "    background-color: var(--disabled-bg-color);\n",
              "    fill: var(--disabled-fill-color);\n",
              "    box-shadow: none;\n",
              "  }\n",
              "\n",
              "  .colab-df-spinner {\n",
              "    border: 2px solid var(--fill-color);\n",
              "    border-color: transparent;\n",
              "    border-bottom-color: var(--fill-color);\n",
              "    animation:\n",
              "      spin 1s steps(1) infinite;\n",
              "  }\n",
              "\n",
              "  @keyframes spin {\n",
              "    0% {\n",
              "      border-color: transparent;\n",
              "      border-bottom-color: var(--fill-color);\n",
              "      border-left-color: var(--fill-color);\n",
              "    }\n",
              "    20% {\n",
              "      border-color: transparent;\n",
              "      border-left-color: var(--fill-color);\n",
              "      border-top-color: var(--fill-color);\n",
              "    }\n",
              "    30% {\n",
              "      border-color: transparent;\n",
              "      border-left-color: var(--fill-color);\n",
              "      border-top-color: var(--fill-color);\n",
              "      border-right-color: var(--fill-color);\n",
              "    }\n",
              "    40% {\n",
              "      border-color: transparent;\n",
              "      border-right-color: var(--fill-color);\n",
              "      border-top-color: var(--fill-color);\n",
              "    }\n",
              "    60% {\n",
              "      border-color: transparent;\n",
              "      border-right-color: var(--fill-color);\n",
              "    }\n",
              "    80% {\n",
              "      border-color: transparent;\n",
              "      border-right-color: var(--fill-color);\n",
              "      border-bottom-color: var(--fill-color);\n",
              "    }\n",
              "    90% {\n",
              "      border-color: transparent;\n",
              "      border-bottom-color: var(--fill-color);\n",
              "    }\n",
              "  }\n",
              "</style>\n",
              "\n",
              "  <script>\n",
              "    async function quickchart(key) {\n",
              "      const quickchartButtonEl =\n",
              "        document.querySelector('#' + key + ' button');\n",
              "      quickchartButtonEl.disabled = true;  // To prevent multiple clicks.\n",
              "      quickchartButtonEl.classList.add('colab-df-spinner');\n",
              "      try {\n",
              "        const charts = await google.colab.kernel.invokeFunction(\n",
              "            'suggestCharts', [key], {});\n",
              "      } catch (error) {\n",
              "        console.error('Error during call to suggestCharts:', error);\n",
              "      }\n",
              "      quickchartButtonEl.classList.remove('colab-df-spinner');\n",
              "      quickchartButtonEl.classList.add('colab-df-quickchart-complete');\n",
              "    }\n",
              "    (() => {\n",
              "      let quickchartButtonEl =\n",
              "        document.querySelector('#df-97727576-f3c4-4174-ba88-63e141129c75 button');\n",
              "      quickchartButtonEl.style.display =\n",
              "        google.colab.kernel.accessAllowed ? 'block' : 'none';\n",
              "    })();\n",
              "  </script>\n",
              "</div>\n",
              "\n",
              "  <div id=\"id_41259f52-c3fe-4fa7-9595-1f206b0dfff4\">\n",
              "    <style>\n",
              "      .colab-df-generate {\n",
              "        background-color: #E8F0FE;\n",
              "        border: none;\n",
              "        border-radius: 50%;\n",
              "        cursor: pointer;\n",
              "        display: none;\n",
              "        fill: #1967D2;\n",
              "        height: 32px;\n",
              "        padding: 0 0 0 0;\n",
              "        width: 32px;\n",
              "      }\n",
              "\n",
              "      .colab-df-generate:hover {\n",
              "        background-color: #E2EBFA;\n",
              "        box-shadow: 0px 1px 2px rgba(60, 64, 67, 0.3), 0px 1px 3px 1px rgba(60, 64, 67, 0.15);\n",
              "        fill: #174EA6;\n",
              "      }\n",
              "\n",
              "      [theme=dark] .colab-df-generate {\n",
              "        background-color: #3B4455;\n",
              "        fill: #D2E3FC;\n",
              "      }\n",
              "\n",
              "      [theme=dark] .colab-df-generate:hover {\n",
              "        background-color: #434B5C;\n",
              "        box-shadow: 0px 1px 3px 1px rgba(0, 0, 0, 0.15);\n",
              "        filter: drop-shadow(0px 1px 2px rgba(0, 0, 0, 0.3));\n",
              "        fill: #FFFFFF;\n",
              "      }\n",
              "    </style>\n",
              "    <button class=\"colab-df-generate\" onclick=\"generateWithVariable('false_negative')\"\n",
              "            title=\"Generate code using this dataframe.\"\n",
              "            style=\"display:none;\">\n",
              "\n",
              "  <svg xmlns=\"http://www.w3.org/2000/svg\" height=\"24px\"viewBox=\"0 0 24 24\"\n",
              "       width=\"24px\">\n",
              "    <path d=\"M7,19H8.4L18.45,9,17,7.55,7,17.6ZM5,21V16.75L18.45,3.32a2,2,0,0,1,2.83,0l1.4,1.43a1.91,1.91,0,0,1,.58,1.4,1.91,1.91,0,0,1-.58,1.4L9.25,21ZM18.45,9,17,7.55Zm-12,3A5.31,5.31,0,0,0,4.9,8.1,5.31,5.31,0,0,0,1,6.5,5.31,5.31,0,0,0,4.9,4.9,5.31,5.31,0,0,0,6.5,1,5.31,5.31,0,0,0,8.1,4.9,5.31,5.31,0,0,0,12,6.5,5.46,5.46,0,0,0,6.5,12Z\"/>\n",
              "  </svg>\n",
              "    </button>\n",
              "    <script>\n",
              "      (() => {\n",
              "      const buttonEl =\n",
              "        document.querySelector('#id_41259f52-c3fe-4fa7-9595-1f206b0dfff4 button.colab-df-generate');\n",
              "      buttonEl.style.display =\n",
              "        google.colab.kernel.accessAllowed ? 'block' : 'none';\n",
              "\n",
              "      buttonEl.onclick = () => {\n",
              "        google.colab.notebook.generateWithVariable('false_negative');\n",
              "      }\n",
              "      })();\n",
              "    </script>\n",
              "  </div>\n",
              "\n",
              "    </div>\n",
              "  </div>\n"
            ],
            "application/vnd.google.colaboratory.intrinsic+json": {
              "type": "dataframe",
              "variable_name": "false_negative",
              "summary": "{\n  \"name\": \"false_negative\",\n  \"rows\": 10,\n  \"fields\": [\n    {\n      \"column\": \"text\",\n      \"properties\": {\n        \"dtype\": \"string\",\n        \"num_unique_values\": 10,\n        \"samples\": [\n          \"I was in a horrible car accident this past Sunday. I'm finally able to get around. Thank you GOD??\",\n          \"the sunset boys wreck my bed   original 1979 usa gimp label  vinyl 7' 45  newave http://t.co/X0QLgwoyMT http://t.co/hQNx8qMeG3\",\n          \"VICTORINOX SWISS ARMY DATE WOMEN'S RUBBER MOP WATCH 241487 http://t.co/yFy3nkkcoH http://t.co/KNEhVvOHVK\"\n        ],\n        \"semantic_type\": \"\",\n        \"description\": \"\"\n      }\n    },\n    {\n      \"column\": \"target\",\n      \"properties\": {\n        \"dtype\": \"number\",\n        \"std\": 0,\n        \"min\": 1,\n        \"max\": 1,\n        \"num_unique_values\": 1,\n        \"samples\": [\n          1\n        ],\n        \"semantic_type\": \"\",\n        \"description\": \"\"\n      }\n    },\n    {\n      \"column\": \"pred\",\n      \"properties\": {\n        \"dtype\": \"float32\",\n        \"num_unique_values\": 1,\n        \"samples\": [\n          0.0\n        ],\n        \"semantic_type\": \"\",\n        \"description\": \"\"\n      }\n    },\n    {\n      \"column\": \"pred_prob\",\n      \"properties\": {\n        \"dtype\": \"float32\",\n        \"num_unique_values\": 10,\n        \"samples\": [\n          0.09094733744859695\n        ],\n        \"semantic_type\": \"\",\n        \"description\": \"\"\n      }\n    }\n  ]\n}"
            }
          },
          "metadata": {},
          "execution_count": 156
        }
      ]
    },
    {
      "cell_type": "code",
      "source": [
        "for df in [false_negative, false_positive]:\n",
        "  for row in df.itertuples():\n",
        "    _, text, target, pred, pred_prob = row\n",
        "    print(f\"Target: {target}, Pred: {pred}, Prob: {pred_prob}\")\n",
        "    print(f\"Text: \\n {text} \\n\")\n",
        "    print(130*\"-\"+\"\\n\")"
      ],
      "metadata": {
        "colab": {
          "base_uri": "https://localhost:8080/"
        },
        "id": "DcTBfiFRpRhB",
        "outputId": "bf248272-d79f-4c85-8d2c-15d59190fe24"
      },
      "execution_count": 163,
      "outputs": [
        {
          "output_type": "stream",
          "name": "stdout",
          "text": [
            "Target: 1, Pred: 0.0, Prob: 0.058487288653850555\n",
            "Text: \n",
            " Reddit Will Now Quarantine Offensive Content http://t.co/LTmgdP6Jaf \n",
            "\n",
            "----------------------------------------------------------------------------------------------------------------------------------\n",
            "\n",
            "Target: 1, Pred: 0.0, Prob: 0.06177738681435585\n",
            "Text: \n",
            " the sunset boys wreck my bed   original 1979 usa gimp label  vinyl 7' 45  newave http://t.co/X0QLgwoyMT http://t.co/hQNx8qMeG3 \n",
            "\n",
            "----------------------------------------------------------------------------------------------------------------------------------\n",
            "\n",
            "Target: 1, Pred: 0.0, Prob: 0.06738689541816711\n",
            "Text: \n",
            " Feel like I've got no control of anything that goes on in my life at the minute. #whirlwind #drained \n",
            "\n",
            "----------------------------------------------------------------------------------------------------------------------------------\n",
            "\n",
            "Target: 1, Pred: 0.0, Prob: 0.06931298226118088\n",
            "Text: \n",
            " @blakeshelton DON'T be a FART ??in a WINDSTORM.FOLLOW ME ALREADY. JEEZ. \n",
            "\n",
            "----------------------------------------------------------------------------------------------------------------------------------\n",
            "\n",
            "Target: 1, Pred: 0.0, Prob: 0.0712573453783989\n",
            "Text: \n",
            " @reriellechan HE WAS THE LICH KING'S FIRST CASUALTY BLOCK ME BACK I HATE YOU! http://t.co/0Gidg9U45J \n",
            "\n",
            "----------------------------------------------------------------------------------------------------------------------------------\n",
            "\n",
            "Target: 1, Pred: 0.0, Prob: 0.08042650669813156\n",
            "Text: \n",
            " VICTORINOX SWISS ARMY DATE WOMEN'S RUBBER MOP WATCH 241487 http://t.co/yFy3nkkcoH http://t.co/KNEhVvOHVK \n",
            "\n",
            "----------------------------------------------------------------------------------------------------------------------------------\n",
            "\n",
            "Target: 1, Pred: 0.0, Prob: 0.08217135816812515\n",
            "Text: \n",
            " My back is so sunburned :( \n",
            "\n",
            "----------------------------------------------------------------------------------------------------------------------------------\n",
            "\n",
            "Target: 1, Pred: 0.0, Prob: 0.09074659645557404\n",
            "Text: \n",
            " Early wake up call from my sister begging me to come over &amp; ride w/her in the ambulance to the hospital #RODKiai \n",
            "\n",
            "----------------------------------------------------------------------------------------------------------------------------------\n",
            "\n",
            "Target: 1, Pred: 0.0, Prob: 0.09094733744859695\n",
            "Text: \n",
            " I was in a horrible car accident this past Sunday. I'm finally able to get around. Thank you GOD?? \n",
            "\n",
            "----------------------------------------------------------------------------------------------------------------------------------\n",
            "\n",
            "Target: 1, Pred: 0.0, Prob: 0.09215009212493896\n",
            "Text: \n",
            " @TomcatArts thus explaining why you were all annihilated. But the few or in this case you the only survivor evolved and became godlike \n",
            "\n",
            "----------------------------------------------------------------------------------------------------------------------------------\n",
            "\n",
            "Target: 0, Pred: 1.0, Prob: 0.8734179139137268\n",
            "Text: \n",
            " Snowstorm planned outside #Rome's St Mary Major tonight - annual occasion artificial snow remembering summer snow in 358 AD on same spot. \n",
            "\n",
            "----------------------------------------------------------------------------------------------------------------------------------\n",
            "\n",
            "Target: 0, Pred: 1.0, Prob: 0.8589127063751221\n",
            "Text: \n",
            " County 911 Overload Prompts Use of Emergency Plan During July 4 Celebrations http://t.co/HXTUPrA5bc http://t.co/DqxKJibbKy \n",
            "\n",
            "----------------------------------------------------------------------------------------------------------------------------------\n",
            "\n",
            "Target: 0, Pred: 1.0, Prob: 0.8565272688865662\n",
            "Text: \n",
            " Governor weighs parole for California school bus hijacker http://t.co/7NPBfRzEJL http://t.co/Y0kByy8nce \n",
            "\n",
            "----------------------------------------------------------------------------------------------------------------------------------\n",
            "\n",
            "Target: 0, Pred: 1.0, Prob: 0.8434120416641235\n",
            "Text: \n",
            " Truck Driver Salvages Banned Tomatoes From Destruction on #Russian Border http://t.co/7b2Wf6ovFK #news \n",
            "\n",
            "----------------------------------------------------------------------------------------------------------------------------------\n",
            "\n",
            "Target: 0, Pred: 1.0, Prob: 0.837567150592804\n",
            "Text: \n",
            " Family mourns drowning of 'superhero' toddler with rare epilepsy: Bradley Diebold suffered hundreds of epilepticÛ_ http://t.co/unsayJDTu7 \n",
            "\n",
            "----------------------------------------------------------------------------------------------------------------------------------\n",
            "\n",
            "Target: 0, Pred: 1.0, Prob: 0.8031217455863953\n",
            "Text: \n",
            " @madonnamking RSPCA site multiple 7 story high rise buildings next to low density character residential in an area that floods \n",
            "\n",
            "----------------------------------------------------------------------------------------------------------------------------------\n",
            "\n",
            "Target: 0, Pred: 1.0, Prob: 0.801572859287262\n",
            "Text: \n",
            " York Co. first responders compete to save lives in Û÷Badges for BloodÛª #paramedic #EMS http://t.co/E65V80FCus \n",
            "\n",
            "----------------------------------------------------------------------------------------------------------------------------------\n",
            "\n",
            "Target: 0, Pred: 1.0, Prob: 0.7875787019729614\n",
            "Text: \n",
            " #CCOT #TCOT #radiation Nuclear Emergency Tracking Center\n",
            "http://t.co/KF74o2mcsC\n",
            "https://t.co/N2ZHrChCGV \n",
            "\n",
            "----------------------------------------------------------------------------------------------------------------------------------\n",
            "\n",
            "Target: 0, Pred: 1.0, Prob: 0.7814583778381348\n",
            "Text: \n",
            " Bloor/Ossington arsonist also burned a mattress on Northumberland St #cbcto http://t.co/wpDvT31sne \n",
            "\n",
            "----------------------------------------------------------------------------------------------------------------------------------\n",
            "\n",
            "Target: 0, Pred: 1.0, Prob: 0.766625165939331\n",
            "Text: \n",
            " Air Group is here to the rescue! We have 24/7 Emergency Service! Learn more about it here - http://t.co/9lyx7zMtHE http://t.co/5PbC96rTMJ \n",
            "\n",
            "----------------------------------------------------------------------------------------------------------------------------------\n",
            "\n"
          ]
        }
      ]
    },
    {
      "cell_type": "code",
      "source": [
        "test_df"
      ],
      "metadata": {
        "colab": {
          "base_uri": "https://localhost:8080/",
          "height": 423
        },
        "id": "f3w4aSi1pxXU",
        "outputId": "e669e6d8-69da-4f75-d818-e6de4c918ae6"
      },
      "execution_count": 164,
      "outputs": [
        {
          "output_type": "execute_result",
          "data": {
            "text/plain": [
              "         id keyword location  \\\n",
              "0         0     NaN      NaN   \n",
              "1         2     NaN      NaN   \n",
              "2         3     NaN      NaN   \n",
              "3         9     NaN      NaN   \n",
              "4        11     NaN      NaN   \n",
              "...     ...     ...      ...   \n",
              "3258  10861     NaN      NaN   \n",
              "3259  10865     NaN      NaN   \n",
              "3260  10868     NaN      NaN   \n",
              "3261  10874     NaN      NaN   \n",
              "3262  10875     NaN      NaN   \n",
              "\n",
              "                                                   text  \n",
              "0                    Just happened a terrible car crash  \n",
              "1     Heard about #earthquake is different cities, s...  \n",
              "2     there is a forest fire at spot pond, geese are...  \n",
              "3              Apocalypse lighting. #Spokane #wildfires  \n",
              "4         Typhoon Soudelor kills 28 in China and Taiwan  \n",
              "...                                                 ...  \n",
              "3258  EARTHQUAKE SAFETY LOS ANGELES ÛÒ SAFETY FASTE...  \n",
              "3259  Storm in RI worse than last hurricane. My city...  \n",
              "3260  Green Line derailment in Chicago http://t.co/U...  \n",
              "3261  MEG issues Hazardous Weather Outlook (HWO) htt...  \n",
              "3262  #CityofCalgary has activated its Municipal Eme...  \n",
              "\n",
              "[3263 rows x 4 columns]"
            ],
            "text/html": [
              "\n",
              "  <div id=\"df-d2336011-a60d-4f12-bb4e-72f6da6d2cfd\" class=\"colab-df-container\">\n",
              "    <div>\n",
              "<style scoped>\n",
              "    .dataframe tbody tr th:only-of-type {\n",
              "        vertical-align: middle;\n",
              "    }\n",
              "\n",
              "    .dataframe tbody tr th {\n",
              "        vertical-align: top;\n",
              "    }\n",
              "\n",
              "    .dataframe thead th {\n",
              "        text-align: right;\n",
              "    }\n",
              "</style>\n",
              "<table border=\"1\" class=\"dataframe\">\n",
              "  <thead>\n",
              "    <tr style=\"text-align: right;\">\n",
              "      <th></th>\n",
              "      <th>id</th>\n",
              "      <th>keyword</th>\n",
              "      <th>location</th>\n",
              "      <th>text</th>\n",
              "    </tr>\n",
              "  </thead>\n",
              "  <tbody>\n",
              "    <tr>\n",
              "      <th>0</th>\n",
              "      <td>0</td>\n",
              "      <td>NaN</td>\n",
              "      <td>NaN</td>\n",
              "      <td>Just happened a terrible car crash</td>\n",
              "    </tr>\n",
              "    <tr>\n",
              "      <th>1</th>\n",
              "      <td>2</td>\n",
              "      <td>NaN</td>\n",
              "      <td>NaN</td>\n",
              "      <td>Heard about #earthquake is different cities, s...</td>\n",
              "    </tr>\n",
              "    <tr>\n",
              "      <th>2</th>\n",
              "      <td>3</td>\n",
              "      <td>NaN</td>\n",
              "      <td>NaN</td>\n",
              "      <td>there is a forest fire at spot pond, geese are...</td>\n",
              "    </tr>\n",
              "    <tr>\n",
              "      <th>3</th>\n",
              "      <td>9</td>\n",
              "      <td>NaN</td>\n",
              "      <td>NaN</td>\n",
              "      <td>Apocalypse lighting. #Spokane #wildfires</td>\n",
              "    </tr>\n",
              "    <tr>\n",
              "      <th>4</th>\n",
              "      <td>11</td>\n",
              "      <td>NaN</td>\n",
              "      <td>NaN</td>\n",
              "      <td>Typhoon Soudelor kills 28 in China and Taiwan</td>\n",
              "    </tr>\n",
              "    <tr>\n",
              "      <th>...</th>\n",
              "      <td>...</td>\n",
              "      <td>...</td>\n",
              "      <td>...</td>\n",
              "      <td>...</td>\n",
              "    </tr>\n",
              "    <tr>\n",
              "      <th>3258</th>\n",
              "      <td>10861</td>\n",
              "      <td>NaN</td>\n",
              "      <td>NaN</td>\n",
              "      <td>EARTHQUAKE SAFETY LOS ANGELES ÛÒ SAFETY FASTE...</td>\n",
              "    </tr>\n",
              "    <tr>\n",
              "      <th>3259</th>\n",
              "      <td>10865</td>\n",
              "      <td>NaN</td>\n",
              "      <td>NaN</td>\n",
              "      <td>Storm in RI worse than last hurricane. My city...</td>\n",
              "    </tr>\n",
              "    <tr>\n",
              "      <th>3260</th>\n",
              "      <td>10868</td>\n",
              "      <td>NaN</td>\n",
              "      <td>NaN</td>\n",
              "      <td>Green Line derailment in Chicago http://t.co/U...</td>\n",
              "    </tr>\n",
              "    <tr>\n",
              "      <th>3261</th>\n",
              "      <td>10874</td>\n",
              "      <td>NaN</td>\n",
              "      <td>NaN</td>\n",
              "      <td>MEG issues Hazardous Weather Outlook (HWO) htt...</td>\n",
              "    </tr>\n",
              "    <tr>\n",
              "      <th>3262</th>\n",
              "      <td>10875</td>\n",
              "      <td>NaN</td>\n",
              "      <td>NaN</td>\n",
              "      <td>#CityofCalgary has activated its Municipal Eme...</td>\n",
              "    </tr>\n",
              "  </tbody>\n",
              "</table>\n",
              "<p>3263 rows × 4 columns</p>\n",
              "</div>\n",
              "    <div class=\"colab-df-buttons\">\n",
              "\n",
              "  <div class=\"colab-df-container\">\n",
              "    <button class=\"colab-df-convert\" onclick=\"convertToInteractive('df-d2336011-a60d-4f12-bb4e-72f6da6d2cfd')\"\n",
              "            title=\"Convert this dataframe to an interactive table.\"\n",
              "            style=\"display:none;\">\n",
              "\n",
              "  <svg xmlns=\"http://www.w3.org/2000/svg\" height=\"24px\" viewBox=\"0 -960 960 960\">\n",
              "    <path d=\"M120-120v-720h720v720H120Zm60-500h600v-160H180v160Zm220 220h160v-160H400v160Zm0 220h160v-160H400v160ZM180-400h160v-160H180v160Zm440 0h160v-160H620v160ZM180-180h160v-160H180v160Zm440 0h160v-160H620v160Z\"/>\n",
              "  </svg>\n",
              "    </button>\n",
              "\n",
              "  <style>\n",
              "    .colab-df-container {\n",
              "      display:flex;\n",
              "      gap: 12px;\n",
              "    }\n",
              "\n",
              "    .colab-df-convert {\n",
              "      background-color: #E8F0FE;\n",
              "      border: none;\n",
              "      border-radius: 50%;\n",
              "      cursor: pointer;\n",
              "      display: none;\n",
              "      fill: #1967D2;\n",
              "      height: 32px;\n",
              "      padding: 0 0 0 0;\n",
              "      width: 32px;\n",
              "    }\n",
              "\n",
              "    .colab-df-convert:hover {\n",
              "      background-color: #E2EBFA;\n",
              "      box-shadow: 0px 1px 2px rgba(60, 64, 67, 0.3), 0px 1px 3px 1px rgba(60, 64, 67, 0.15);\n",
              "      fill: #174EA6;\n",
              "    }\n",
              "\n",
              "    .colab-df-buttons div {\n",
              "      margin-bottom: 4px;\n",
              "    }\n",
              "\n",
              "    [theme=dark] .colab-df-convert {\n",
              "      background-color: #3B4455;\n",
              "      fill: #D2E3FC;\n",
              "    }\n",
              "\n",
              "    [theme=dark] .colab-df-convert:hover {\n",
              "      background-color: #434B5C;\n",
              "      box-shadow: 0px 1px 3px 1px rgba(0, 0, 0, 0.15);\n",
              "      filter: drop-shadow(0px 1px 2px rgba(0, 0, 0, 0.3));\n",
              "      fill: #FFFFFF;\n",
              "    }\n",
              "  </style>\n",
              "\n",
              "    <script>\n",
              "      const buttonEl =\n",
              "        document.querySelector('#df-d2336011-a60d-4f12-bb4e-72f6da6d2cfd button.colab-df-convert');\n",
              "      buttonEl.style.display =\n",
              "        google.colab.kernel.accessAllowed ? 'block' : 'none';\n",
              "\n",
              "      async function convertToInteractive(key) {\n",
              "        const element = document.querySelector('#df-d2336011-a60d-4f12-bb4e-72f6da6d2cfd');\n",
              "        const dataTable =\n",
              "          await google.colab.kernel.invokeFunction('convertToInteractive',\n",
              "                                                    [key], {});\n",
              "        if (!dataTable) return;\n",
              "\n",
              "        const docLinkHtml = 'Like what you see? Visit the ' +\n",
              "          '<a target=\"_blank\" href=https://colab.research.google.com/notebooks/data_table.ipynb>data table notebook</a>'\n",
              "          + ' to learn more about interactive tables.';\n",
              "        element.innerHTML = '';\n",
              "        dataTable['output_type'] = 'display_data';\n",
              "        await google.colab.output.renderOutput(dataTable, element);\n",
              "        const docLink = document.createElement('div');\n",
              "        docLink.innerHTML = docLinkHtml;\n",
              "        element.appendChild(docLink);\n",
              "      }\n",
              "    </script>\n",
              "  </div>\n",
              "\n",
              "\n",
              "<div id=\"df-23ad4f87-4ccf-4537-9ee1-cc6829e6bbaf\">\n",
              "  <button class=\"colab-df-quickchart\" onclick=\"quickchart('df-23ad4f87-4ccf-4537-9ee1-cc6829e6bbaf')\"\n",
              "            title=\"Suggest charts\"\n",
              "            style=\"display:none;\">\n",
              "\n",
              "<svg xmlns=\"http://www.w3.org/2000/svg\" height=\"24px\"viewBox=\"0 0 24 24\"\n",
              "     width=\"24px\">\n",
              "    <g>\n",
              "        <path d=\"M19 3H5c-1.1 0-2 .9-2 2v14c0 1.1.9 2 2 2h14c1.1 0 2-.9 2-2V5c0-1.1-.9-2-2-2zM9 17H7v-7h2v7zm4 0h-2V7h2v10zm4 0h-2v-4h2v4z\"/>\n",
              "    </g>\n",
              "</svg>\n",
              "  </button>\n",
              "\n",
              "<style>\n",
              "  .colab-df-quickchart {\n",
              "      --bg-color: #E8F0FE;\n",
              "      --fill-color: #1967D2;\n",
              "      --hover-bg-color: #E2EBFA;\n",
              "      --hover-fill-color: #174EA6;\n",
              "      --disabled-fill-color: #AAA;\n",
              "      --disabled-bg-color: #DDD;\n",
              "  }\n",
              "\n",
              "  [theme=dark] .colab-df-quickchart {\n",
              "      --bg-color: #3B4455;\n",
              "      --fill-color: #D2E3FC;\n",
              "      --hover-bg-color: #434B5C;\n",
              "      --hover-fill-color: #FFFFFF;\n",
              "      --disabled-bg-color: #3B4455;\n",
              "      --disabled-fill-color: #666;\n",
              "  }\n",
              "\n",
              "  .colab-df-quickchart {\n",
              "    background-color: var(--bg-color);\n",
              "    border: none;\n",
              "    border-radius: 50%;\n",
              "    cursor: pointer;\n",
              "    display: none;\n",
              "    fill: var(--fill-color);\n",
              "    height: 32px;\n",
              "    padding: 0;\n",
              "    width: 32px;\n",
              "  }\n",
              "\n",
              "  .colab-df-quickchart:hover {\n",
              "    background-color: var(--hover-bg-color);\n",
              "    box-shadow: 0 1px 2px rgba(60, 64, 67, 0.3), 0 1px 3px 1px rgba(60, 64, 67, 0.15);\n",
              "    fill: var(--button-hover-fill-color);\n",
              "  }\n",
              "\n",
              "  .colab-df-quickchart-complete:disabled,\n",
              "  .colab-df-quickchart-complete:disabled:hover {\n",
              "    background-color: var(--disabled-bg-color);\n",
              "    fill: var(--disabled-fill-color);\n",
              "    box-shadow: none;\n",
              "  }\n",
              "\n",
              "  .colab-df-spinner {\n",
              "    border: 2px solid var(--fill-color);\n",
              "    border-color: transparent;\n",
              "    border-bottom-color: var(--fill-color);\n",
              "    animation:\n",
              "      spin 1s steps(1) infinite;\n",
              "  }\n",
              "\n",
              "  @keyframes spin {\n",
              "    0% {\n",
              "      border-color: transparent;\n",
              "      border-bottom-color: var(--fill-color);\n",
              "      border-left-color: var(--fill-color);\n",
              "    }\n",
              "    20% {\n",
              "      border-color: transparent;\n",
              "      border-left-color: var(--fill-color);\n",
              "      border-top-color: var(--fill-color);\n",
              "    }\n",
              "    30% {\n",
              "      border-color: transparent;\n",
              "      border-left-color: var(--fill-color);\n",
              "      border-top-color: var(--fill-color);\n",
              "      border-right-color: var(--fill-color);\n",
              "    }\n",
              "    40% {\n",
              "      border-color: transparent;\n",
              "      border-right-color: var(--fill-color);\n",
              "      border-top-color: var(--fill-color);\n",
              "    }\n",
              "    60% {\n",
              "      border-color: transparent;\n",
              "      border-right-color: var(--fill-color);\n",
              "    }\n",
              "    80% {\n",
              "      border-color: transparent;\n",
              "      border-right-color: var(--fill-color);\n",
              "      border-bottom-color: var(--fill-color);\n",
              "    }\n",
              "    90% {\n",
              "      border-color: transparent;\n",
              "      border-bottom-color: var(--fill-color);\n",
              "    }\n",
              "  }\n",
              "</style>\n",
              "\n",
              "  <script>\n",
              "    async function quickchart(key) {\n",
              "      const quickchartButtonEl =\n",
              "        document.querySelector('#' + key + ' button');\n",
              "      quickchartButtonEl.disabled = true;  // To prevent multiple clicks.\n",
              "      quickchartButtonEl.classList.add('colab-df-spinner');\n",
              "      try {\n",
              "        const charts = await google.colab.kernel.invokeFunction(\n",
              "            'suggestCharts', [key], {});\n",
              "      } catch (error) {\n",
              "        console.error('Error during call to suggestCharts:', error);\n",
              "      }\n",
              "      quickchartButtonEl.classList.remove('colab-df-spinner');\n",
              "      quickchartButtonEl.classList.add('colab-df-quickchart-complete');\n",
              "    }\n",
              "    (() => {\n",
              "      let quickchartButtonEl =\n",
              "        document.querySelector('#df-23ad4f87-4ccf-4537-9ee1-cc6829e6bbaf button');\n",
              "      quickchartButtonEl.style.display =\n",
              "        google.colab.kernel.accessAllowed ? 'block' : 'none';\n",
              "    })();\n",
              "  </script>\n",
              "</div>\n",
              "\n",
              "  <div id=\"id_acc2d65d-bde8-4570-9cd2-49a0c8f62e42\">\n",
              "    <style>\n",
              "      .colab-df-generate {\n",
              "        background-color: #E8F0FE;\n",
              "        border: none;\n",
              "        border-radius: 50%;\n",
              "        cursor: pointer;\n",
              "        display: none;\n",
              "        fill: #1967D2;\n",
              "        height: 32px;\n",
              "        padding: 0 0 0 0;\n",
              "        width: 32px;\n",
              "      }\n",
              "\n",
              "      .colab-df-generate:hover {\n",
              "        background-color: #E2EBFA;\n",
              "        box-shadow: 0px 1px 2px rgba(60, 64, 67, 0.3), 0px 1px 3px 1px rgba(60, 64, 67, 0.15);\n",
              "        fill: #174EA6;\n",
              "      }\n",
              "\n",
              "      [theme=dark] .colab-df-generate {\n",
              "        background-color: #3B4455;\n",
              "        fill: #D2E3FC;\n",
              "      }\n",
              "\n",
              "      [theme=dark] .colab-df-generate:hover {\n",
              "        background-color: #434B5C;\n",
              "        box-shadow: 0px 1px 3px 1px rgba(0, 0, 0, 0.15);\n",
              "        filter: drop-shadow(0px 1px 2px rgba(0, 0, 0, 0.3));\n",
              "        fill: #FFFFFF;\n",
              "      }\n",
              "    </style>\n",
              "    <button class=\"colab-df-generate\" onclick=\"generateWithVariable('test_df')\"\n",
              "            title=\"Generate code using this dataframe.\"\n",
              "            style=\"display:none;\">\n",
              "\n",
              "  <svg xmlns=\"http://www.w3.org/2000/svg\" height=\"24px\"viewBox=\"0 0 24 24\"\n",
              "       width=\"24px\">\n",
              "    <path d=\"M7,19H8.4L18.45,9,17,7.55,7,17.6ZM5,21V16.75L18.45,3.32a2,2,0,0,1,2.83,0l1.4,1.43a1.91,1.91,0,0,1,.58,1.4,1.91,1.91,0,0,1-.58,1.4L9.25,21ZM18.45,9,17,7.55Zm-12,3A5.31,5.31,0,0,0,4.9,8.1,5.31,5.31,0,0,0,1,6.5,5.31,5.31,0,0,0,4.9,4.9,5.31,5.31,0,0,0,6.5,1,5.31,5.31,0,0,0,8.1,4.9,5.31,5.31,0,0,0,12,6.5,5.46,5.46,0,0,0,6.5,12Z\"/>\n",
              "  </svg>\n",
              "    </button>\n",
              "    <script>\n",
              "      (() => {\n",
              "      const buttonEl =\n",
              "        document.querySelector('#id_acc2d65d-bde8-4570-9cd2-49a0c8f62e42 button.colab-df-generate');\n",
              "      buttonEl.style.display =\n",
              "        google.colab.kernel.accessAllowed ? 'block' : 'none';\n",
              "\n",
              "      buttonEl.onclick = () => {\n",
              "        google.colab.notebook.generateWithVariable('test_df');\n",
              "      }\n",
              "      })();\n",
              "    </script>\n",
              "  </div>\n",
              "\n",
              "    </div>\n",
              "  </div>\n"
            ],
            "application/vnd.google.colaboratory.intrinsic+json": {
              "type": "dataframe",
              "variable_name": "test_df",
              "summary": "{\n  \"name\": \"test_df\",\n  \"rows\": 3263,\n  \"fields\": [\n    {\n      \"column\": \"id\",\n      \"properties\": {\n        \"dtype\": \"number\",\n        \"std\": 3146,\n        \"min\": 0,\n        \"max\": 10875,\n        \"num_unique_values\": 3263,\n        \"samples\": [\n          8051,\n          425,\n          1330\n        ],\n        \"semantic_type\": \"\",\n        \"description\": \"\"\n      }\n    },\n    {\n      \"column\": \"keyword\",\n      \"properties\": {\n        \"dtype\": \"category\",\n        \"num_unique_values\": 221,\n        \"samples\": [\n          \"injury\",\n          \"nuclear%20reactor\",\n          \"engulfed\"\n        ],\n        \"semantic_type\": \"\",\n        \"description\": \"\"\n      }\n    },\n    {\n      \"column\": \"location\",\n      \"properties\": {\n        \"dtype\": \"category\",\n        \"num_unique_values\": 1602,\n        \"samples\": [\n          \"UAE\",\n          \"Tokio / Tokyo\",\n          \"Texas\"\n        ],\n        \"semantic_type\": \"\",\n        \"description\": \"\"\n      }\n    },\n    {\n      \"column\": \"text\",\n      \"properties\": {\n        \"dtype\": \"string\",\n        \"num_unique_values\": 3243,\n        \"samples\": [\n          \"Latest: USA: Huge sinkhole swallows up Brooklyn intersection http://t.co/vspKHg3nZy\",\n          \"I liked a @YouTube video http://t.co/a5YTAw9Vih S.O.S. Rona Guide - The Red Whirlwind\",\n          \"HitchBot travels Europe and greeted with open arms. Gets destroyed after two weeks in america. There's a lesson to be learned here.\"\n        ],\n        \"semantic_type\": \"\",\n        \"description\": \"\"\n      }\n    }\n  ]\n}"
            }
          },
          "metadata": {},
          "execution_count": 164
        }
      ]
    },
    {
      "cell_type": "code",
      "source": [
        "test_df[\"text\"][:5]"
      ],
      "metadata": {
        "colab": {
          "base_uri": "https://localhost:8080/"
        },
        "id": "hf3Fvug4rCia",
        "outputId": "93770ad1-a6d1-46cf-ccb0-045d89da748b"
      },
      "execution_count": 169,
      "outputs": [
        {
          "output_type": "execute_result",
          "data": {
            "text/plain": [
              "0                   Just happened a terrible car crash\n",
              "1    Heard about #earthquake is different cities, s...\n",
              "2    there is a forest fire at spot pond, geese are...\n",
              "3             Apocalypse lighting. #Spokane #wildfires\n",
              "4        Typhoon Soudelor kills 28 in China and Taiwan\n",
              "Name: text, dtype: object"
            ]
          },
          "metadata": {},
          "execution_count": 169
        }
      ]
    },
    {
      "cell_type": "code",
      "source": [
        "test_sentences = test_df[\"text\"].to_list()\n",
        "test_sentences[:5]\n",
        "test_samples = random.sample(test_sentences, 10)\n",
        "for test_sample in test_samples:\n",
        "  pred_prob = tf.squeeze(model_6_pretrained.predict([test_sample]))\n",
        "  pred = tf.round(pred_prob)\n",
        "  print(f\"Pred: {int(pred)}, Prob: {pred_prob}\")\n",
        "  print(f\"Test sample:\\n{test_sample}\\n\")\n",
        "  print(130*\"-\"+\"\\n\")"
      ],
      "metadata": {
        "colab": {
          "base_uri": "https://localhost:8080/"
        },
        "id": "fKh7COyGqn2h",
        "outputId": "ba952219-2d2e-4c7f-c636-0abdce616226"
      },
      "execution_count": 172,
      "outputs": [
        {
          "output_type": "stream",
          "name": "stdout",
          "text": [
            "1/1 [==============================] - 0s 36ms/step\n",
            "Pred: 0, Prob: 0.2618004083633423\n",
            "Test sample:\n",
            "Slayer at Rockstar Mayhem Festival #slayer #metal #concertphotography #houston #livemusic #canonÛ_ https://t.co/5FrWySzwrs\n",
            "\n",
            "----------------------------------------------------------------------------------------------------------------------------------\n",
            "\n",
            "1/1 [==============================] - 0s 34ms/step\n",
            "Pred: 0, Prob: 0.07006745785474777\n",
            "Test sample:\n",
            "@MeekMill I think its time you consulted @kendricklamar cause @Drake done body bagging you\n",
            "\n",
            "----------------------------------------------------------------------------------------------------------------------------------\n",
            "\n",
            "1/1 [==============================] - 0s 35ms/step\n",
            "Pred: 0, Prob: 0.32674527168273926\n",
            "Test sample:\n",
            "@Schwarzenegger @FoxNews you won't because Dems are focused on flooding our borders with illegal immigrants to add to their voters. #EndofUS\n",
            "\n",
            "----------------------------------------------------------------------------------------------------------------------------------\n",
            "\n",
            "1/1 [==============================] - 0s 45ms/step\n",
            "Pred: 1, Prob: 0.9105448126792908\n",
            "Test sample:\n",
            "@WCBD \n",
            "Parents of Colorado theater shooting victim fear copycat massacre\n",
            "\n",
            "http://t.co/LvlH3W3aWO\n",
            "#Antioch\n",
            "\n",
            "http://t.co/vIwXY1XDYK\n",
            "\n",
            "----------------------------------------------------------------------------------------------------------------------------------\n",
            "\n",
            "1/1 [==============================] - 0s 35ms/step\n",
            "Pred: 0, Prob: 0.056872300803661346\n",
            "Test sample:\n",
            "@benznibeadel_ hehe like u HAHAHA I'm kidding love u I'm gonna sleep na bc curfew ??\n",
            "\n",
            "----------------------------------------------------------------------------------------------------------------------------------\n",
            "\n",
            "1/1 [==============================] - 0s 34ms/step\n",
            "Pred: 1, Prob: 0.5278409123420715\n",
            "Test sample:\n",
            "@davej798 @JohnEJefferson remind me when SomaliaEritrea &amp; Nigeria were bombed by UK 28% of asylum applicants to UK 2014 were from S &amp; E\n",
            "\n",
            "----------------------------------------------------------------------------------------------------------------------------------\n",
            "\n",
            "1/1 [==============================] - 0s 33ms/step\n",
            "Pred: 1, Prob: 0.6836366057395935\n",
            "Test sample:\n",
            "http://t.co/FhI4qBpwFH @FredOlsenCruise Please take the #FaroeIslands off your itinerary until the mass murder of dolphins &amp; whales stops.\n",
            "\n",
            "----------------------------------------------------------------------------------------------------------------------------------\n",
            "\n",
            "1/1 [==============================] - 0s 38ms/step\n",
            "Pred: 0, Prob: 0.10607970505952835\n",
            "Test sample:\n",
            "@GRAMZD It would be an honor meeting you at the meltdown on Friday. \n",
            "\n",
            "Hope you like #dabs. http://t.co/MpJ2u4QSYi\n",
            "\n",
            "----------------------------------------------------------------------------------------------------------------------------------\n",
            "\n",
            "1/1 [==============================] - 0s 35ms/step\n",
            "Pred: 0, Prob: 0.13254433870315552\n",
            "Test sample:\n",
            "I just rescued you in MGS Ground Zeroes @HIDEO_KOJIMA_EN  haha. Amazing...Sept 1st cant come soon enough :)\n",
            "\n",
            "----------------------------------------------------------------------------------------------------------------------------------\n",
            "\n",
            "1/1 [==============================] - 0s 36ms/step\n",
            "Pred: 1, Prob: 0.9906778335571289\n",
            "Test sample:\n",
            "Japan heat wave intensifies - death toll surges to 55: http://t.co/F1h1mzVSNn via @extinctionp\n",
            "\n",
            "----------------------------------------------------------------------------------------------------------------------------------\n",
            "\n"
          ]
        }
      ]
    },
    {
      "cell_type": "code",
      "source": [
        "# Try to predict on actual current disaster tweet on twitter\n",
        "print(model_6_pretrained.predict([\"BREAKING: The image of terror currently experienced in Gaza, where fifity civilians were bombed in a 3-story building in the Nuseirat refugee camp.\"]))"
      ],
      "metadata": {
        "colab": {
          "base_uri": "https://localhost:8080/"
        },
        "id": "7DCvH2h0q6bO",
        "outputId": "99bd4197-63ec-44a4-dfde-75a556362f6a"
      },
      "execution_count": 173,
      "outputs": [
        {
          "output_type": "stream",
          "name": "stdout",
          "text": [
            "1/1 [==============================] - 0s 35ms/step\n",
            "[[0.99184966]]\n"
          ]
        }
      ]
    },
    {
      "cell_type": "markdown",
      "source": [
        "# The speed/score tradeoff"
      ],
      "metadata": {
        "id": "wnPaZ26GtE_C"
      }
    },
    {
      "cell_type": "code",
      "source": [
        "model_6_results"
      ],
      "metadata": {
        "colab": {
          "base_uri": "https://localhost:8080/"
        },
        "id": "6VY0K9vytNSH",
        "outputId": "6207b36f-9b46-4bdb-9ef9-b41c37875482"
      },
      "execution_count": 174,
      "outputs": [
        {
          "output_type": "execute_result",
          "data": {
            "text/plain": [
              "{'accuracy': 84.51443569553805,\n",
              " 'precision': 0.8469145902216768,\n",
              " 'recall': 0.8451443569553806,\n",
              " 'f1': 0.8438535006004724}"
            ]
          },
          "metadata": {},
          "execution_count": 174
        }
      ]
    },
    {
      "cell_type": "code",
      "source": [
        "baseline_results"
      ],
      "metadata": {
        "colab": {
          "base_uri": "https://localhost:8080/"
        },
        "id": "6t3jbQLNtQQq",
        "outputId": "469c7115-58e6-4b3f-a14c-e5f38fa853a7"
      },
      "execution_count": 175,
      "outputs": [
        {
          "output_type": "execute_result",
          "data": {
            "text/plain": [
              "{'accuracy': 81.88976377952756,\n",
              " 'precision': 0.8277969908744978,\n",
              " 'recall': 0.8188976377952756,\n",
              " 'f1': 0.8150344270074752}"
            ]
          },
          "metadata": {},
          "execution_count": 175
        }
      ]
    },
    {
      "cell_type": "code",
      "source": [
        "# Let's make a function to measure the time of prediciton\n",
        "import time\n",
        "def pred_timer(model, samples):\n",
        "  \"\"\"\n",
        "  Times how long a model takes to make predictions on samples.\n",
        "  \"\"\"\n",
        "  start_time = time.perf_counter() # get start time\n",
        "  model.predict(samples)\n",
        "  end_time = time.perf_counter() # end time\n",
        "  total_time = end_time - start_time\n",
        "  time_per_pred = total_time/len(samples)\n",
        "  return total_time, time_per_pred"
      ],
      "metadata": {
        "id": "Ub599LtUtRgH"
      },
      "execution_count": 176,
      "outputs": []
    },
    {
      "cell_type": "code",
      "source": [
        "model_6_total_pred_time, model_6_time_per_pred = pred_timer(model=model_6_pretrained,\n",
        "                                                            samples = validation_sentences)\n",
        "model_6_total_pred_time, model_6_time_per_pred"
      ],
      "metadata": {
        "colab": {
          "base_uri": "https://localhost:8080/"
        },
        "id": "VlmGWirSt9JH",
        "outputId": "4d130dbe-7de6-4953-aa3f-dd31ef226886"
      },
      "execution_count": 178,
      "outputs": [
        {
          "output_type": "stream",
          "name": "stdout",
          "text": [
            "24/24 [==============================] - 1s 24ms/step\n"
          ]
        },
        {
          "output_type": "execute_result",
          "data": {
            "text/plain": [
              "(1.4697884990000603, 0.0019288562979003416)"
            ]
          },
          "metadata": {},
          "execution_count": 178
        }
      ]
    },
    {
      "cell_type": "code",
      "source": [
        "baseline_total_pred_time, baseline_time_per_pred = pred_timer(model_0, validation_sentences)\n",
        "baseline_total_pred_time, baseline_time_per_pred"
      ],
      "metadata": {
        "colab": {
          "base_uri": "https://localhost:8080/"
        },
        "id": "uAduuWhyuIBo",
        "outputId": "98420741-b722-43f7-bc2a-dfa0d6c71e01"
      },
      "execution_count": 180,
      "outputs": [
        {
          "output_type": "execute_result",
          "data": {
            "text/plain": [
              "(0.049433924999902956, 6.48739173227073e-05)"
            ]
          },
          "metadata": {},
          "execution_count": 180
        }
      ]
    },
    {
      "cell_type": "code",
      "source": [
        "model_6_pretrained_results = calculate_results(val_labels, model_6_pretrained_preds)\n",
        "model_6_pretrained_results"
      ],
      "metadata": {
        "colab": {
          "base_uri": "https://localhost:8080/"
        },
        "id": "SL0vFR0ZukbC",
        "outputId": "89253a3c-b3a6-4eab-c0a0-1a8d092b0973"
      },
      "execution_count": 183,
      "outputs": [
        {
          "output_type": "execute_result",
          "data": {
            "text/plain": [
              "{'accuracy': 85.8267716535433,\n",
              " 'precision': 0.8588641003207932,\n",
              " 'recall': 0.8582677165354331,\n",
              " 'f1': 0.8575412169588642}"
            ]
          },
          "metadata": {},
          "execution_count": 183
        }
      ]
    },
    {
      "cell_type": "code",
      "source": [
        "import matplotlib.pyplot as plt\n",
        "from matplotlib.ticker import AutoMinorLocator\n",
        "plt.figure(figsize=(10,7))\n",
        "plt.scatter(baseline_time_per_pred, baseline_results[\"f1\"], label=\"baseline\")\n",
        "plt.scatter(model_6_time_per_pred, model_6_pretrained_results[\"f1\"], label=\"tf_hub_sentence_encoder\")\n",
        "plt.legend()\n",
        "plt.title(\"F1-score versus time per prediction\")\n",
        "plt.xlabel(\"Time per prediction\")\n",
        "plt.ylabel(\"F1-score\")\n",
        "plt.ylim((0,1))\n",
        "plt.grid(True, which='major', color='gray', linestyle='-', linewidth=0.5)\n",
        "\n",
        "# Enable minor ticks\n",
        "plt.minorticks_on()\n",
        "\n",
        "# Set minor tick locator for x-axis and y-axis\n",
        "# Example: 4 minor intervals within each major interval on the x-axis\n",
        "plt.gca().xaxis.set_minor_locator(AutoMinorLocator(5))\n",
        "# Example: 5 minor intervals within each major interval on the y-axis\n",
        "plt.gca().yaxis.set_minor_locator(AutoMinorLocator(10))\n",
        "\n",
        "# Customize minor gridlines\n",
        "plt.grid(which='minor', color='blue', linestyle=':', linewidth=0.5)"
      ],
      "metadata": {
        "colab": {
          "base_uri": "https://localhost:8080/",
          "height": 641
        },
        "id": "7jZ1zxlhuX-U",
        "outputId": "0e28c746-c68c-4060-8eb6-fc97bc54b2a9"
      },
      "execution_count": 196,
      "outputs": [
        {
          "output_type": "display_data",
          "data": {
            "text/plain": [
              "<Figure size 1000x700 with 1 Axes>"
            ],
            "image/png": "[encoded data removed]"
          },
          "metadata": {}
        }
      ]
    },
    {
      "cell_type": "code",
      "source": [
        " # Done"
      ],
      "metadata": {
        "id": "qkLHYooYujLf"
      },
      "execution_count": null,
      "outputs": []
    }
  ]
}