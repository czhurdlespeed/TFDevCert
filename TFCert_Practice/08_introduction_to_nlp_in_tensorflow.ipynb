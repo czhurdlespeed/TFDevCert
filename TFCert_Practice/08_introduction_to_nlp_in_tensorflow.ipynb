{
  "nbformat": 4,
  "nbformat_minor": 0,
  "metadata": {
    "colab": {
      "provenance": [],
      "gpuType": "T4",
      "authorship_tag": "ABX9TyMGfvXhczVAhnPaszKwhNvW",
      "include_colab_link": true
    },
    "kernelspec": {
      "name": "python3",
      "display_name": "Python 3"
    },
    "language_info": {
      "name": "python"
    },
    "accelerator": "GPU"
  },
  "cells": [
    {
      "cell_type": "markdown",
      "metadata": {
        "id": "view-in-github",
        "colab_type": "text"
      },
      "source": [
        "<a href=\"https://colab.research.google.com/github/czhurdlespeed/TFDevCert/blob/main/TFCert_Practice/08_introduction_to_nlp_in_tensorflow.ipynb\" target=\"_parent\"><img src=\"https://colab.research.google.com/assets/colab-badge.svg\" alt=\"Open In Colab\"/></a>"
      ]
    },
    {
      "cell_type": "markdown",
      "source": [
        "# Introduction to NLP Fundamentals in TensorFlow"
      ],
      "metadata": {
        "id": "nysZGP4k6iqy"
      }
    },
    {
      "cell_type": "markdown",
      "source": [
        "## Check for GPU"
      ],
      "metadata": {
        "id": "Zslvaabd-gIt"
      }
    },
    {
      "cell_type": "code",
      "source": [
        "!nvidia-smi -L"
      ],
      "metadata": {
        "colab": {
          "base_uri": "https://localhost:8080/"
        },
        "id": "CtM-62-y-vjE",
        "outputId": "92ed5f14-5b1a-4588-b06d-a096d1512808"
      },
      "execution_count": 1,
      "outputs": [
        {
          "output_type": "stream",
          "name": "stdout",
          "text": [
            "GPU 0: Tesla T4 (UUID: GPU-52c01569-fd78-9fd4-66b9-907293778d36)\n"
          ]
        }
      ]
    },
    {
      "cell_type": "markdown",
      "source": [
        "## Import Helper Functions"
      ],
      "metadata": {
        "id": "AHWR509m-xzJ"
      }
    },
    {
      "cell_type": "code",
      "source": [
        "!wget https://github.com/mrdbourke/tensorflow-deep-learning/raw/main/extras/helper_functions.py\n",
        "from helper_functions import unzip_data, create_tensorboard_callback, plot_loss_curves, compare_historys"
      ],
      "metadata": {
        "colab": {
          "base_uri": "https://localhost:8080/"
        },
        "id": "TqVEAIZ6_Ikb",
        "outputId": "f11fd2cd-aec4-46e5-eb27-8c301a1c6504"
      },
      "execution_count": 2,
      "outputs": [
        {
          "output_type": "stream",
          "name": "stdout",
          "text": [
            "--2024-02-15 00:37:21--  https://github.com/mrdbourke/tensorflow-deep-learning/raw/main/extras/helper_functions.py\n",
            "Resolving github.com (github.com)... 20.205.243.166\n",
            "Connecting to github.com (github.com)|20.205.243.166|:443... connected.\n",
            "HTTP request sent, awaiting response... 302 Found\n",
            "Location: https://raw.githubusercontent.com/mrdbourke/tensorflow-deep-learning/main/extras/helper_functions.py [following]\n",
            "--2024-02-15 00:37:21--  https://raw.githubusercontent.com/mrdbourke/tensorflow-deep-learning/main/extras/helper_functions.py\n",
            "Resolving raw.githubusercontent.com (raw.githubusercontent.com)... 185.199.108.133, 185.199.109.133, 185.199.110.133, ...\n",
            "Connecting to raw.githubusercontent.com (raw.githubusercontent.com)|185.199.108.133|:443... connected.\n",
            "HTTP request sent, awaiting response... 200 OK\n",
            "Length: 10246 (10K) [text/plain]\n",
            "Saving to: ‘helper_functions.py’\n",
            "\n",
            "helper_functions.py 100%[===================>]  10.01K  --.-KB/s    in 0s      \n",
            "\n",
            "2024-02-15 00:37:21 (71.1 MB/s) - ‘helper_functions.py’ saved [10246/10246]\n",
            "\n"
          ]
        }
      ]
    },
    {
      "cell_type": "markdown",
      "source": [
        "## Get a text dataset\n",
        "\n",
        "- Using Kaggle's Introduction to NLP dataset"
      ],
      "metadata": {
        "id": "ivvW7SqD_OlC"
      }
    },
    {
      "cell_type": "code",
      "source": [
        "!wget https://storage.googleapis.com/ztm_tf_course/nlp_getting_started.zip\n",
        "# Uzip data\n",
        "unzip_data(\"nlp_getting_started.zip\")"
      ],
      "metadata": {
        "colab": {
          "base_uri": "https://localhost:8080/"
        },
        "id": "kcRPixgr_aYY",
        "outputId": "9b75623c-6cb1-4fd4-8dad-f8e7870a9dfc"
      },
      "execution_count": 3,
      "outputs": [
        {
          "output_type": "stream",
          "name": "stdout",
          "text": [
            "--2024-02-15 00:37:26--  https://storage.googleapis.com/ztm_tf_course/nlp_getting_started.zip\n",
            "Resolving storage.googleapis.com (storage.googleapis.com)... 74.125.130.207, 74.125.68.207, 64.233.170.207, ...\n",
            "Connecting to storage.googleapis.com (storage.googleapis.com)|74.125.130.207|:443... connected.\n",
            "HTTP request sent, awaiting response... 200 OK\n",
            "Length: 607343 (593K) [application/zip]\n",
            "Saving to: ‘nlp_getting_started.zip’\n",
            "\n",
            "nlp_getting_started 100%[===================>] 593.11K   711KB/s    in 0.8s    \n",
            "\n",
            "2024-02-15 00:37:27 (711 KB/s) - ‘nlp_getting_started.zip’ saved [607343/607343]\n",
            "\n"
          ]
        }
      ]
    },
    {
      "cell_type": "markdown",
      "source": [
        "## Visualizing a text dataset"
      ],
      "metadata": {
        "id": "lWLQdINx_09d"
      }
    },
    {
      "cell_type": "code",
      "source": [
        "import pandas as pd\n",
        "train_df = pd.read_csv(\"train.csv\")\n",
        "test_df = pd.read_csv(\"test.csv\")\n",
        "train_df.head()"
      ],
      "metadata": {
        "colab": {
          "base_uri": "https://localhost:8080/",
          "height": 206
        },
        "id": "ZbI_V54rAHlZ",
        "outputId": "5c8b25d5-c7e1-4cc8-86c1-3ff88f70e766"
      },
      "execution_count": 4,
      "outputs": [
        {
          "output_type": "execute_result",
          "data": {
            "text/plain": [
              "   id keyword location                                               text  \\\n",
              "0   1     NaN      NaN  Our Deeds are the Reason of this #earthquake M...   \n",
              "1   4     NaN      NaN             Forest fire near La Ronge Sask. Canada   \n",
              "2   5     NaN      NaN  All residents asked to 'shelter in place' are ...   \n",
              "3   6     NaN      NaN  13,000 people receive #wildfires evacuation or...   \n",
              "4   7     NaN      NaN  Just got sent this photo from Ruby #Alaska as ...   \n",
              "\n",
              "   target  \n",
              "0       1  \n",
              "1       1  \n",
              "2       1  \n",
              "3       1  \n",
              "4       1  "
            ],
            "text/html": [
              "\n",
              "  <div id=\"df-ee2c8219-f1e6-414c-bbd7-5e59bb7cb4c0\" class=\"colab-df-container\">\n",
              "    <div>\n",
              "<style scoped>\n",
              "    .dataframe tbody tr th:only-of-type {\n",
              "        vertical-align: middle;\n",
              "    }\n",
              "\n",
              "    .dataframe tbody tr th {\n",
              "        vertical-align: top;\n",
              "    }\n",
              "\n",
              "    .dataframe thead th {\n",
              "        text-align: right;\n",
              "    }\n",
              "</style>\n",
              "<table border=\"1\" class=\"dataframe\">\n",
              "  <thead>\n",
              "    <tr style=\"text-align: right;\">\n",
              "      <th></th>\n",
              "      <th>id</th>\n",
              "      <th>keyword</th>\n",
              "      <th>location</th>\n",
              "      <th>text</th>\n",
              "      <th>target</th>\n",
              "    </tr>\n",
              "  </thead>\n",
              "  <tbody>\n",
              "    <tr>\n",
              "      <th>0</th>\n",
              "      <td>1</td>\n",
              "      <td>NaN</td>\n",
              "      <td>NaN</td>\n",
              "      <td>Our Deeds are the Reason of this #earthquake M...</td>\n",
              "      <td>1</td>\n",
              "    </tr>\n",
              "    <tr>\n",
              "      <th>1</th>\n",
              "      <td>4</td>\n",
              "      <td>NaN</td>\n",
              "      <td>NaN</td>\n",
              "      <td>Forest fire near La Ronge Sask. Canada</td>\n",
              "      <td>1</td>\n",
              "    </tr>\n",
              "    <tr>\n",
              "      <th>2</th>\n",
              "      <td>5</td>\n",
              "      <td>NaN</td>\n",
              "      <td>NaN</td>\n",
              "      <td>All residents asked to 'shelter in place' are ...</td>\n",
              "      <td>1</td>\n",
              "    </tr>\n",
              "    <tr>\n",
              "      <th>3</th>\n",
              "      <td>6</td>\n",
              "      <td>NaN</td>\n",
              "      <td>NaN</td>\n",
              "      <td>13,000 people receive #wildfires evacuation or...</td>\n",
              "      <td>1</td>\n",
              "    </tr>\n",
              "    <tr>\n",
              "      <th>4</th>\n",
              "      <td>7</td>\n",
              "      <td>NaN</td>\n",
              "      <td>NaN</td>\n",
              "      <td>Just got sent this photo from Ruby #Alaska as ...</td>\n",
              "      <td>1</td>\n",
              "    </tr>\n",
              "  </tbody>\n",
              "</table>\n",
              "</div>\n",
              "    <div class=\"colab-df-buttons\">\n",
              "\n",
              "  <div class=\"colab-df-container\">\n",
              "    <button class=\"colab-df-convert\" onclick=\"convertToInteractive('df-ee2c8219-f1e6-414c-bbd7-5e59bb7cb4c0')\"\n",
              "            title=\"Convert this dataframe to an interactive table.\"\n",
              "            style=\"display:none;\">\n",
              "\n",
              "  <svg xmlns=\"http://www.w3.org/2000/svg\" height=\"24px\" viewBox=\"0 -960 960 960\">\n",
              "    <path d=\"M120-120v-720h720v720H120Zm60-500h600v-160H180v160Zm220 220h160v-160H400v160Zm0 220h160v-160H400v160ZM180-400h160v-160H180v160Zm440 0h160v-160H620v160ZM180-180h160v-160H180v160Zm440 0h160v-160H620v160Z\"/>\n",
              "  </svg>\n",
              "    </button>\n",
              "\n",
              "  <style>\n",
              "    .colab-df-container {\n",
              "      display:flex;\n",
              "      gap: 12px;\n",
              "    }\n",
              "\n",
              "    .colab-df-convert {\n",
              "      background-color: #E8F0FE;\n",
              "      border: none;\n",
              "      border-radius: 50%;\n",
              "      cursor: pointer;\n",
              "      display: none;\n",
              "      fill: #1967D2;\n",
              "      height: 32px;\n",
              "      padding: 0 0 0 0;\n",
              "      width: 32px;\n",
              "    }\n",
              "\n",
              "    .colab-df-convert:hover {\n",
              "      background-color: #E2EBFA;\n",
              "      box-shadow: 0px 1px 2px rgba(60, 64, 67, 0.3), 0px 1px 3px 1px rgba(60, 64, 67, 0.15);\n",
              "      fill: #174EA6;\n",
              "    }\n",
              "\n",
              "    .colab-df-buttons div {\n",
              "      margin-bottom: 4px;\n",
              "    }\n",
              "\n",
              "    [theme=dark] .colab-df-convert {\n",
              "      background-color: #3B4455;\n",
              "      fill: #D2E3FC;\n",
              "    }\n",
              "\n",
              "    [theme=dark] .colab-df-convert:hover {\n",
              "      background-color: #434B5C;\n",
              "      box-shadow: 0px 1px 3px 1px rgba(0, 0, 0, 0.15);\n",
              "      filter: drop-shadow(0px 1px 2px rgba(0, 0, 0, 0.3));\n",
              "      fill: #FFFFFF;\n",
              "    }\n",
              "  </style>\n",
              "\n",
              "    <script>\n",
              "      const buttonEl =\n",
              "        document.querySelector('#df-ee2c8219-f1e6-414c-bbd7-5e59bb7cb4c0 button.colab-df-convert');\n",
              "      buttonEl.style.display =\n",
              "        google.colab.kernel.accessAllowed ? 'block' : 'none';\n",
              "\n",
              "      async function convertToInteractive(key) {\n",
              "        const element = document.querySelector('#df-ee2c8219-f1e6-414c-bbd7-5e59bb7cb4c0');\n",
              "        const dataTable =\n",
              "          await google.colab.kernel.invokeFunction('convertToInteractive',\n",
              "                                                    [key], {});\n",
              "        if (!dataTable) return;\n",
              "\n",
              "        const docLinkHtml = 'Like what you see? Visit the ' +\n",
              "          '<a target=\"_blank\" href=https://colab.research.google.com/notebooks/data_table.ipynb>data table notebook</a>'\n",
              "          + ' to learn more about interactive tables.';\n",
              "        element.innerHTML = '';\n",
              "        dataTable['output_type'] = 'display_data';\n",
              "        await google.colab.output.renderOutput(dataTable, element);\n",
              "        const docLink = document.createElement('div');\n",
              "        docLink.innerHTML = docLinkHtml;\n",
              "        element.appendChild(docLink);\n",
              "      }\n",
              "    </script>\n",
              "  </div>\n",
              "\n",
              "\n",
              "<div id=\"df-b517dd3b-96d2-4cd2-a151-89ef79a0c843\">\n",
              "  <button class=\"colab-df-quickchart\" onclick=\"quickchart('df-b517dd3b-96d2-4cd2-a151-89ef79a0c843')\"\n",
              "            title=\"Suggest charts\"\n",
              "            style=\"display:none;\">\n",
              "\n",
              "<svg xmlns=\"http://www.w3.org/2000/svg\" height=\"24px\"viewBox=\"0 0 24 24\"\n",
              "     width=\"24px\">\n",
              "    <g>\n",
              "        <path d=\"M19 3H5c-1.1 0-2 .9-2 2v14c0 1.1.9 2 2 2h14c1.1 0 2-.9 2-2V5c0-1.1-.9-2-2-2zM9 17H7v-7h2v7zm4 0h-2V7h2v10zm4 0h-2v-4h2v4z\"/>\n",
              "    </g>\n",
              "</svg>\n",
              "  </button>\n",
              "\n",
              "<style>\n",
              "  .colab-df-quickchart {\n",
              "      --bg-color: #E8F0FE;\n",
              "      --fill-color: #1967D2;\n",
              "      --hover-bg-color: #E2EBFA;\n",
              "      --hover-fill-color: #174EA6;\n",
              "      --disabled-fill-color: #AAA;\n",
              "      --disabled-bg-color: #DDD;\n",
              "  }\n",
              "\n",
              "  [theme=dark] .colab-df-quickchart {\n",
              "      --bg-color: #3B4455;\n",
              "      --fill-color: #D2E3FC;\n",
              "      --hover-bg-color: #434B5C;\n",
              "      --hover-fill-color: #FFFFFF;\n",
              "      --disabled-bg-color: #3B4455;\n",
              "      --disabled-fill-color: #666;\n",
              "  }\n",
              "\n",
              "  .colab-df-quickchart {\n",
              "    background-color: var(--bg-color);\n",
              "    border: none;\n",
              "    border-radius: 50%;\n",
              "    cursor: pointer;\n",
              "    display: none;\n",
              "    fill: var(--fill-color);\n",
              "    height: 32px;\n",
              "    padding: 0;\n",
              "    width: 32px;\n",
              "  }\n",
              "\n",
              "  .colab-df-quickchart:hover {\n",
              "    background-color: var(--hover-bg-color);\n",
              "    box-shadow: 0 1px 2px rgba(60, 64, 67, 0.3), 0 1px 3px 1px rgba(60, 64, 67, 0.15);\n",
              "    fill: var(--button-hover-fill-color);\n",
              "  }\n",
              "\n",
              "  .colab-df-quickchart-complete:disabled,\n",
              "  .colab-df-quickchart-complete:disabled:hover {\n",
              "    background-color: var(--disabled-bg-color);\n",
              "    fill: var(--disabled-fill-color);\n",
              "    box-shadow: none;\n",
              "  }\n",
              "\n",
              "  .colab-df-spinner {\n",
              "    border: 2px solid var(--fill-color);\n",
              "    border-color: transparent;\n",
              "    border-bottom-color: var(--fill-color);\n",
              "    animation:\n",
              "      spin 1s steps(1) infinite;\n",
              "  }\n",
              "\n",
              "  @keyframes spin {\n",
              "    0% {\n",
              "      border-color: transparent;\n",
              "      border-bottom-color: var(--fill-color);\n",
              "      border-left-color: var(--fill-color);\n",
              "    }\n",
              "    20% {\n",
              "      border-color: transparent;\n",
              "      border-left-color: var(--fill-color);\n",
              "      border-top-color: var(--fill-color);\n",
              "    }\n",
              "    30% {\n",
              "      border-color: transparent;\n",
              "      border-left-color: var(--fill-color);\n",
              "      border-top-color: var(--fill-color);\n",
              "      border-right-color: var(--fill-color);\n",
              "    }\n",
              "    40% {\n",
              "      border-color: transparent;\n",
              "      border-right-color: var(--fill-color);\n",
              "      border-top-color: var(--fill-color);\n",
              "    }\n",
              "    60% {\n",
              "      border-color: transparent;\n",
              "      border-right-color: var(--fill-color);\n",
              "    }\n",
              "    80% {\n",
              "      border-color: transparent;\n",
              "      border-right-color: var(--fill-color);\n",
              "      border-bottom-color: var(--fill-color);\n",
              "    }\n",
              "    90% {\n",
              "      border-color: transparent;\n",
              "      border-bottom-color: var(--fill-color);\n",
              "    }\n",
              "  }\n",
              "</style>\n",
              "\n",
              "  <script>\n",
              "    async function quickchart(key) {\n",
              "      const quickchartButtonEl =\n",
              "        document.querySelector('#' + key + ' button');\n",
              "      quickchartButtonEl.disabled = true;  // To prevent multiple clicks.\n",
              "      quickchartButtonEl.classList.add('colab-df-spinner');\n",
              "      try {\n",
              "        const charts = await google.colab.kernel.invokeFunction(\n",
              "            'suggestCharts', [key], {});\n",
              "      } catch (error) {\n",
              "        console.error('Error during call to suggestCharts:', error);\n",
              "      }\n",
              "      quickchartButtonEl.classList.remove('colab-df-spinner');\n",
              "      quickchartButtonEl.classList.add('colab-df-quickchart-complete');\n",
              "    }\n",
              "    (() => {\n",
              "      let quickchartButtonEl =\n",
              "        document.querySelector('#df-b517dd3b-96d2-4cd2-a151-89ef79a0c843 button');\n",
              "      quickchartButtonEl.style.display =\n",
              "        google.colab.kernel.accessAllowed ? 'block' : 'none';\n",
              "    })();\n",
              "  </script>\n",
              "</div>\n",
              "\n",
              "    </div>\n",
              "  </div>\n"
            ],
            "application/vnd.google.colaboratory.intrinsic+json": {
              "type": "dataframe",
              "variable_name": "train_df",
              "summary": "{\n  \"name\": \"train_df\",\n  \"rows\": 7613,\n  \"fields\": [\n    {\n      \"column\": \"id\",\n      \"properties\": {\n        \"dtype\": \"number\",\n        \"std\": 3137,\n        \"min\": 1,\n        \"max\": 10873,\n        \"samples\": [\n          3796,\n          3185,\n          7769\n        ],\n        \"num_unique_values\": 7613,\n        \"semantic_type\": \"\",\n        \"description\": \"\"\n      }\n    },\n    {\n      \"column\": \"keyword\",\n      \"properties\": {\n        \"dtype\": \"category\",\n        \"samples\": [\n          \"injury\",\n          \"nuclear%20reactor\",\n          \"engulfed\"\n        ],\n        \"num_unique_values\": 221,\n        \"semantic_type\": \"\",\n        \"description\": \"\"\n      }\n    },\n    {\n      \"column\": \"location\",\n      \"properties\": {\n        \"dtype\": \"category\",\n        \"samples\": [\n          \"Oklahoma\",\n          \"Starling City\",\n          \"Trinidad and Tobago\"\n        ],\n        \"num_unique_values\": 3341,\n        \"semantic_type\": \"\",\n        \"description\": \"\"\n      }\n    },\n    {\n      \"column\": \"text\",\n      \"properties\": {\n        \"dtype\": \"string\",\n        \"samples\": [\n          \"Three Homes Demolished in Unrecognized Arab Village - International Middle East Media Center http://t.co/ik8m4Yi9T4\",\n          \"Reid Lake fire prompts campground evacuation order http://t.co/jBODKM6rBU\",\n          \"FAAN orders evacuation of abandoned aircraft at MMA http://t.co/dEvYbnVXGQ via @todayng\"\n        ],\n        \"num_unique_values\": 7503,\n        \"semantic_type\": \"\",\n        \"description\": \"\"\n      }\n    },\n    {\n      \"column\": \"target\",\n      \"properties\": {\n        \"dtype\": \"number\",\n        \"std\": 0,\n        \"min\": 0,\n        \"max\": 1,\n        \"samples\": [\n          0,\n          1\n        ],\n        \"num_unique_values\": 2,\n        \"semantic_type\": \"\",\n        \"description\": \"\"\n      }\n    }\n  ]\n}"
            }
          },
          "metadata": {},
          "execution_count": 4
        }
      ]
    },
    {
      "cell_type": "code",
      "source": [
        "train_df[\"text\"][100]"
      ],
      "metadata": {
        "colab": {
          "base_uri": "https://localhost:8080/",
          "height": 53
        },
        "id": "RjxZaSj9AyF5",
        "outputId": "218ac3e8-80a3-4c8c-a0f7-b08385429262"
      },
      "execution_count": 5,
      "outputs": [
        {
          "output_type": "execute_result",
          "data": {
            "text/plain": [
              "'.@NorwayMFA #Bahrain police had previously died in a road accident they were not killed by explosion https://t.co/gFJfgTodad'"
            ],
            "application/vnd.google.colaboratory.intrinsic+json": {
              "type": "string"
            }
          },
          "metadata": {},
          "execution_count": 5
        }
      ]
    },
    {
      "cell_type": "code",
      "source": [
        "# Shuffle training datafram\n",
        "train_df_shuffled = train_df.sample(frac=1)\n",
        "train_df_shuffled.head()"
      ],
      "metadata": {
        "colab": {
          "base_uri": "https://localhost:8080/",
          "height": 206
        },
        "id": "Nm_KVV2FA331",
        "outputId": "5c0d791c-bade-451c-85ff-b551acda151b"
      },
      "execution_count": 6,
      "outputs": [
        {
          "output_type": "execute_result",
          "data": {
            "text/plain": [
              "        id        keyword               location  \\\n",
              "1920  2761         curfew                    NaN   \n",
              "4814  6852  mass%20murder       Magnolia, Fiore    \n",
              "1420  2049     casualties       Afghanistan, USA   \n",
              "5350  7638    pandemonium                    NaN   \n",
              "4300  6106       hellfire  Right next to Compton   \n",
              "\n",
              "                                                   text  target  \n",
              "1920  for some reason im listening to curfew overtim...       0  \n",
              "4814  @ColdMpress You up to commiting mass murder to...       1  \n",
              "1420  #Afghanistan: sharp rise in women and children...       1  \n",
              "5350  -  Pandemonium In Aba As Woman Delivers Baby W...       0  \n",
              "4300  @IAN_Hellfire I got it for the mistake but bos...       0  "
            ],
            "text/html": [
              "\n",
              "  <div id=\"df-bac8b0b0-a555-412a-a57b-bdf418eb7d8c\" class=\"colab-df-container\">\n",
              "    <div>\n",
              "<style scoped>\n",
              "    .dataframe tbody tr th:only-of-type {\n",
              "        vertical-align: middle;\n",
              "    }\n",
              "\n",
              "    .dataframe tbody tr th {\n",
              "        vertical-align: top;\n",
              "    }\n",
              "\n",
              "    .dataframe thead th {\n",
              "        text-align: right;\n",
              "    }\n",
              "</style>\n",
              "<table border=\"1\" class=\"dataframe\">\n",
              "  <thead>\n",
              "    <tr style=\"text-align: right;\">\n",
              "      <th></th>\n",
              "      <th>id</th>\n",
              "      <th>keyword</th>\n",
              "      <th>location</th>\n",
              "      <th>text</th>\n",
              "      <th>target</th>\n",
              "    </tr>\n",
              "  </thead>\n",
              "  <tbody>\n",
              "    <tr>\n",
              "      <th>1920</th>\n",
              "      <td>2761</td>\n",
              "      <td>curfew</td>\n",
              "      <td>NaN</td>\n",
              "      <td>for some reason im listening to curfew overtim...</td>\n",
              "      <td>0</td>\n",
              "    </tr>\n",
              "    <tr>\n",
              "      <th>4814</th>\n",
              "      <td>6852</td>\n",
              "      <td>mass%20murder</td>\n",
              "      <td>Magnolia, Fiore</td>\n",
              "      <td>@ColdMpress You up to commiting mass murder to...</td>\n",
              "      <td>1</td>\n",
              "    </tr>\n",
              "    <tr>\n",
              "      <th>1420</th>\n",
              "      <td>2049</td>\n",
              "      <td>casualties</td>\n",
              "      <td>Afghanistan, USA</td>\n",
              "      <td>#Afghanistan: sharp rise in women and children...</td>\n",
              "      <td>1</td>\n",
              "    </tr>\n",
              "    <tr>\n",
              "      <th>5350</th>\n",
              "      <td>7638</td>\n",
              "      <td>pandemonium</td>\n",
              "      <td>NaN</td>\n",
              "      <td>-  Pandemonium In Aba As Woman Delivers Baby W...</td>\n",
              "      <td>0</td>\n",
              "    </tr>\n",
              "    <tr>\n",
              "      <th>4300</th>\n",
              "      <td>6106</td>\n",
              "      <td>hellfire</td>\n",
              "      <td>Right next to Compton</td>\n",
              "      <td>@IAN_Hellfire I got it for the mistake but bos...</td>\n",
              "      <td>0</td>\n",
              "    </tr>\n",
              "  </tbody>\n",
              "</table>\n",
              "</div>\n",
              "    <div class=\"colab-df-buttons\">\n",
              "\n",
              "  <div class=\"colab-df-container\">\n",
              "    <button class=\"colab-df-convert\" onclick=\"convertToInteractive('df-bac8b0b0-a555-412a-a57b-bdf418eb7d8c')\"\n",
              "            title=\"Convert this dataframe to an interactive table.\"\n",
              "            style=\"display:none;\">\n",
              "\n",
              "  <svg xmlns=\"http://www.w3.org/2000/svg\" height=\"24px\" viewBox=\"0 -960 960 960\">\n",
              "    <path d=\"M120-120v-720h720v720H120Zm60-500h600v-160H180v160Zm220 220h160v-160H400v160Zm0 220h160v-160H400v160ZM180-400h160v-160H180v160Zm440 0h160v-160H620v160ZM180-180h160v-160H180v160Zm440 0h160v-160H620v160Z\"/>\n",
              "  </svg>\n",
              "    </button>\n",
              "\n",
              "  <style>\n",
              "    .colab-df-container {\n",
              "      display:flex;\n",
              "      gap: 12px;\n",
              "    }\n",
              "\n",
              "    .colab-df-convert {\n",
              "      background-color: #E8F0FE;\n",
              "      border: none;\n",
              "      border-radius: 50%;\n",
              "      cursor: pointer;\n",
              "      display: none;\n",
              "      fill: #1967D2;\n",
              "      height: 32px;\n",
              "      padding: 0 0 0 0;\n",
              "      width: 32px;\n",
              "    }\n",
              "\n",
              "    .colab-df-convert:hover {\n",
              "      background-color: #E2EBFA;\n",
              "      box-shadow: 0px 1px 2px rgba(60, 64, 67, 0.3), 0px 1px 3px 1px rgba(60, 64, 67, 0.15);\n",
              "      fill: #174EA6;\n",
              "    }\n",
              "\n",
              "    .colab-df-buttons div {\n",
              "      margin-bottom: 4px;\n",
              "    }\n",
              "\n",
              "    [theme=dark] .colab-df-convert {\n",
              "      background-color: #3B4455;\n",
              "      fill: #D2E3FC;\n",
              "    }\n",
              "\n",
              "    [theme=dark] .colab-df-convert:hover {\n",
              "      background-color: #434B5C;\n",
              "      box-shadow: 0px 1px 3px 1px rgba(0, 0, 0, 0.15);\n",
              "      filter: drop-shadow(0px 1px 2px rgba(0, 0, 0, 0.3));\n",
              "      fill: #FFFFFF;\n",
              "    }\n",
              "  </style>\n",
              "\n",
              "    <script>\n",
              "      const buttonEl =\n",
              "        document.querySelector('#df-bac8b0b0-a555-412a-a57b-bdf418eb7d8c button.colab-df-convert');\n",
              "      buttonEl.style.display =\n",
              "        google.colab.kernel.accessAllowed ? 'block' : 'none';\n",
              "\n",
              "      async function convertToInteractive(key) {\n",
              "        const element = document.querySelector('#df-bac8b0b0-a555-412a-a57b-bdf418eb7d8c');\n",
              "        const dataTable =\n",
              "          await google.colab.kernel.invokeFunction('convertToInteractive',\n",
              "                                                    [key], {});\n",
              "        if (!dataTable) return;\n",
              "\n",
              "        const docLinkHtml = 'Like what you see? Visit the ' +\n",
              "          '<a target=\"_blank\" href=https://colab.research.google.com/notebooks/data_table.ipynb>data table notebook</a>'\n",
              "          + ' to learn more about interactive tables.';\n",
              "        element.innerHTML = '';\n",
              "        dataTable['output_type'] = 'display_data';\n",
              "        await google.colab.output.renderOutput(dataTable, element);\n",
              "        const docLink = document.createElement('div');\n",
              "        docLink.innerHTML = docLinkHtml;\n",
              "        element.appendChild(docLink);\n",
              "      }\n",
              "    </script>\n",
              "  </div>\n",
              "\n",
              "\n",
              "<div id=\"df-168cf03d-e01f-40aa-a1a3-71d8234f6555\">\n",
              "  <button class=\"colab-df-quickchart\" onclick=\"quickchart('df-168cf03d-e01f-40aa-a1a3-71d8234f6555')\"\n",
              "            title=\"Suggest charts\"\n",
              "            style=\"display:none;\">\n",
              "\n",
              "<svg xmlns=\"http://www.w3.org/2000/svg\" height=\"24px\"viewBox=\"0 0 24 24\"\n",
              "     width=\"24px\">\n",
              "    <g>\n",
              "        <path d=\"M19 3H5c-1.1 0-2 .9-2 2v14c0 1.1.9 2 2 2h14c1.1 0 2-.9 2-2V5c0-1.1-.9-2-2-2zM9 17H7v-7h2v7zm4 0h-2V7h2v10zm4 0h-2v-4h2v4z\"/>\n",
              "    </g>\n",
              "</svg>\n",
              "  </button>\n",
              "\n",
              "<style>\n",
              "  .colab-df-quickchart {\n",
              "      --bg-color: #E8F0FE;\n",
              "      --fill-color: #1967D2;\n",
              "      --hover-bg-color: #E2EBFA;\n",
              "      --hover-fill-color: #174EA6;\n",
              "      --disabled-fill-color: #AAA;\n",
              "      --disabled-bg-color: #DDD;\n",
              "  }\n",
              "\n",
              "  [theme=dark] .colab-df-quickchart {\n",
              "      --bg-color: #3B4455;\n",
              "      --fill-color: #D2E3FC;\n",
              "      --hover-bg-color: #434B5C;\n",
              "      --hover-fill-color: #FFFFFF;\n",
              "      --disabled-bg-color: #3B4455;\n",
              "      --disabled-fill-color: #666;\n",
              "  }\n",
              "\n",
              "  .colab-df-quickchart {\n",
              "    background-color: var(--bg-color);\n",
              "    border: none;\n",
              "    border-radius: 50%;\n",
              "    cursor: pointer;\n",
              "    display: none;\n",
              "    fill: var(--fill-color);\n",
              "    height: 32px;\n",
              "    padding: 0;\n",
              "    width: 32px;\n",
              "  }\n",
              "\n",
              "  .colab-df-quickchart:hover {\n",
              "    background-color: var(--hover-bg-color);\n",
              "    box-shadow: 0 1px 2px rgba(60, 64, 67, 0.3), 0 1px 3px 1px rgba(60, 64, 67, 0.15);\n",
              "    fill: var(--button-hover-fill-color);\n",
              "  }\n",
              "\n",
              "  .colab-df-quickchart-complete:disabled,\n",
              "  .colab-df-quickchart-complete:disabled:hover {\n",
              "    background-color: var(--disabled-bg-color);\n",
              "    fill: var(--disabled-fill-color);\n",
              "    box-shadow: none;\n",
              "  }\n",
              "\n",
              "  .colab-df-spinner {\n",
              "    border: 2px solid var(--fill-color);\n",
              "    border-color: transparent;\n",
              "    border-bottom-color: var(--fill-color);\n",
              "    animation:\n",
              "      spin 1s steps(1) infinite;\n",
              "  }\n",
              "\n",
              "  @keyframes spin {\n",
              "    0% {\n",
              "      border-color: transparent;\n",
              "      border-bottom-color: var(--fill-color);\n",
              "      border-left-color: var(--fill-color);\n",
              "    }\n",
              "    20% {\n",
              "      border-color: transparent;\n",
              "      border-left-color: var(--fill-color);\n",
              "      border-top-color: var(--fill-color);\n",
              "    }\n",
              "    30% {\n",
              "      border-color: transparent;\n",
              "      border-left-color: var(--fill-color);\n",
              "      border-top-color: var(--fill-color);\n",
              "      border-right-color: var(--fill-color);\n",
              "    }\n",
              "    40% {\n",
              "      border-color: transparent;\n",
              "      border-right-color: var(--fill-color);\n",
              "      border-top-color: var(--fill-color);\n",
              "    }\n",
              "    60% {\n",
              "      border-color: transparent;\n",
              "      border-right-color: var(--fill-color);\n",
              "    }\n",
              "    80% {\n",
              "      border-color: transparent;\n",
              "      border-right-color: var(--fill-color);\n",
              "      border-bottom-color: var(--fill-color);\n",
              "    }\n",
              "    90% {\n",
              "      border-color: transparent;\n",
              "      border-bottom-color: var(--fill-color);\n",
              "    }\n",
              "  }\n",
              "</style>\n",
              "\n",
              "  <script>\n",
              "    async function quickchart(key) {\n",
              "      const quickchartButtonEl =\n",
              "        document.querySelector('#' + key + ' button');\n",
              "      quickchartButtonEl.disabled = true;  // To prevent multiple clicks.\n",
              "      quickchartButtonEl.classList.add('colab-df-spinner');\n",
              "      try {\n",
              "        const charts = await google.colab.kernel.invokeFunction(\n",
              "            'suggestCharts', [key], {});\n",
              "      } catch (error) {\n",
              "        console.error('Error during call to suggestCharts:', error);\n",
              "      }\n",
              "      quickchartButtonEl.classList.remove('colab-df-spinner');\n",
              "      quickchartButtonEl.classList.add('colab-df-quickchart-complete');\n",
              "    }\n",
              "    (() => {\n",
              "      let quickchartButtonEl =\n",
              "        document.querySelector('#df-168cf03d-e01f-40aa-a1a3-71d8234f6555 button');\n",
              "      quickchartButtonEl.style.display =\n",
              "        google.colab.kernel.accessAllowed ? 'block' : 'none';\n",
              "    })();\n",
              "  </script>\n",
              "</div>\n",
              "\n",
              "    </div>\n",
              "  </div>\n"
            ],
            "application/vnd.google.colaboratory.intrinsic+json": {
              "type": "dataframe",
              "variable_name": "train_df_shuffled",
              "summary": "{\n  \"name\": \"train_df_shuffled\",\n  \"rows\": 7613,\n  \"fields\": [\n    {\n      \"column\": \"id\",\n      \"properties\": {\n        \"dtype\": \"number\",\n        \"std\": 3137,\n        \"min\": 1,\n        \"max\": 10873,\n        \"samples\": [\n          2828,\n          9925,\n          7073\n        ],\n        \"num_unique_values\": 7613,\n        \"semantic_type\": \"\",\n        \"description\": \"\"\n      }\n    },\n    {\n      \"column\": \"keyword\",\n      \"properties\": {\n        \"dtype\": \"category\",\n        \"samples\": [\n          \"structural%20failure\",\n          \"collapsed\",\n          \"flames\"\n        ],\n        \"num_unique_values\": 221,\n        \"semantic_type\": \"\",\n        \"description\": \"\"\n      }\n    },\n    {\n      \"column\": \"location\",\n      \"properties\": {\n        \"dtype\": \"category\",\n        \"samples\": [\n          \"USA \",\n          \"Woosley\",\n          \"New York City\"\n        ],\n        \"num_unique_values\": 3341,\n        \"semantic_type\": \"\",\n        \"description\": \"\"\n      }\n    },\n    {\n      \"column\": \"text\",\n      \"properties\": {\n        \"dtype\": \"string\",\n        \"samples\": [\n          \"Twister was fun https://t.co/qCT6fb8wOn\",\n          \"everyone's wonder who will win and I'm over here wondering are those grapes real ?????? #BB17\",\n          \"'She tasted like a feast after a famine. And he was starving.' TRUSTING JACK @writes4coffee http://t.co/sTo58qa94c #IARTG #RWA #tw4rw #RRBC\"\n        ],\n        \"num_unique_values\": 7503,\n        \"semantic_type\": \"\",\n        \"description\": \"\"\n      }\n    },\n    {\n      \"column\": \"target\",\n      \"properties\": {\n        \"dtype\": \"number\",\n        \"std\": 0,\n        \"min\": 0,\n        \"max\": 1,\n        \"samples\": [\n          1,\n          0\n        ],\n        \"num_unique_values\": 2,\n        \"semantic_type\": \"\",\n        \"description\": \"\"\n      }\n    }\n  ]\n}"
            }
          },
          "metadata": {},
          "execution_count": 6
        }
      ]
    },
    {
      "cell_type": "code",
      "source": [
        "# What does the test dataframe look like?\n",
        "test_df.head()"
      ],
      "metadata": {
        "colab": {
          "base_uri": "https://localhost:8080/",
          "height": 206
        },
        "id": "inac240VBKW2",
        "outputId": "b05da785-4369-486d-fa83-58131f6d133a"
      },
      "execution_count": 7,
      "outputs": [
        {
          "output_type": "execute_result",
          "data": {
            "text/plain": [
              "   id keyword location                                               text\n",
              "0   0     NaN      NaN                 Just happened a terrible car crash\n",
              "1   2     NaN      NaN  Heard about #earthquake is different cities, s...\n",
              "2   3     NaN      NaN  there is a forest fire at spot pond, geese are...\n",
              "3   9     NaN      NaN           Apocalypse lighting. #Spokane #wildfires\n",
              "4  11     NaN      NaN      Typhoon Soudelor kills 28 in China and Taiwan"
            ],
            "text/html": [
              "\n",
              "  <div id=\"df-c69f3a70-410f-48b6-86c7-a3251f7b9284\" class=\"colab-df-container\">\n",
              "    <div>\n",
              "<style scoped>\n",
              "    .dataframe tbody tr th:only-of-type {\n",
              "        vertical-align: middle;\n",
              "    }\n",
              "\n",
              "    .dataframe tbody tr th {\n",
              "        vertical-align: top;\n",
              "    }\n",
              "\n",
              "    .dataframe thead th {\n",
              "        text-align: right;\n",
              "    }\n",
              "</style>\n",
              "<table border=\"1\" class=\"dataframe\">\n",
              "  <thead>\n",
              "    <tr style=\"text-align: right;\">\n",
              "      <th></th>\n",
              "      <th>id</th>\n",
              "      <th>keyword</th>\n",
              "      <th>location</th>\n",
              "      <th>text</th>\n",
              "    </tr>\n",
              "  </thead>\n",
              "  <tbody>\n",
              "    <tr>\n",
              "      <th>0</th>\n",
              "      <td>0</td>\n",
              "      <td>NaN</td>\n",
              "      <td>NaN</td>\n",
              "      <td>Just happened a terrible car crash</td>\n",
              "    </tr>\n",
              "    <tr>\n",
              "      <th>1</th>\n",
              "      <td>2</td>\n",
              "      <td>NaN</td>\n",
              "      <td>NaN</td>\n",
              "      <td>Heard about #earthquake is different cities, s...</td>\n",
              "    </tr>\n",
              "    <tr>\n",
              "      <th>2</th>\n",
              "      <td>3</td>\n",
              "      <td>NaN</td>\n",
              "      <td>NaN</td>\n",
              "      <td>there is a forest fire at spot pond, geese are...</td>\n",
              "    </tr>\n",
              "    <tr>\n",
              "      <th>3</th>\n",
              "      <td>9</td>\n",
              "      <td>NaN</td>\n",
              "      <td>NaN</td>\n",
              "      <td>Apocalypse lighting. #Spokane #wildfires</td>\n",
              "    </tr>\n",
              "    <tr>\n",
              "      <th>4</th>\n",
              "      <td>11</td>\n",
              "      <td>NaN</td>\n",
              "      <td>NaN</td>\n",
              "      <td>Typhoon Soudelor kills 28 in China and Taiwan</td>\n",
              "    </tr>\n",
              "  </tbody>\n",
              "</table>\n",
              "</div>\n",
              "    <div class=\"colab-df-buttons\">\n",
              "\n",
              "  <div class=\"colab-df-container\">\n",
              "    <button class=\"colab-df-convert\" onclick=\"convertToInteractive('df-c69f3a70-410f-48b6-86c7-a3251f7b9284')\"\n",
              "            title=\"Convert this dataframe to an interactive table.\"\n",
              "            style=\"display:none;\">\n",
              "\n",
              "  <svg xmlns=\"http://www.w3.org/2000/svg\" height=\"24px\" viewBox=\"0 -960 960 960\">\n",
              "    <path d=\"M120-120v-720h720v720H120Zm60-500h600v-160H180v160Zm220 220h160v-160H400v160Zm0 220h160v-160H400v160ZM180-400h160v-160H180v160Zm440 0h160v-160H620v160ZM180-180h160v-160H180v160Zm440 0h160v-160H620v160Z\"/>\n",
              "  </svg>\n",
              "    </button>\n",
              "\n",
              "  <style>\n",
              "    .colab-df-container {\n",
              "      display:flex;\n",
              "      gap: 12px;\n",
              "    }\n",
              "\n",
              "    .colab-df-convert {\n",
              "      background-color: #E8F0FE;\n",
              "      border: none;\n",
              "      border-radius: 50%;\n",
              "      cursor: pointer;\n",
              "      display: none;\n",
              "      fill: #1967D2;\n",
              "      height: 32px;\n",
              "      padding: 0 0 0 0;\n",
              "      width: 32px;\n",
              "    }\n",
              "\n",
              "    .colab-df-convert:hover {\n",
              "      background-color: #E2EBFA;\n",
              "      box-shadow: 0px 1px 2px rgba(60, 64, 67, 0.3), 0px 1px 3px 1px rgba(60, 64, 67, 0.15);\n",
              "      fill: #174EA6;\n",
              "    }\n",
              "\n",
              "    .colab-df-buttons div {\n",
              "      margin-bottom: 4px;\n",
              "    }\n",
              "\n",
              "    [theme=dark] .colab-df-convert {\n",
              "      background-color: #3B4455;\n",
              "      fill: #D2E3FC;\n",
              "    }\n",
              "\n",
              "    [theme=dark] .colab-df-convert:hover {\n",
              "      background-color: #434B5C;\n",
              "      box-shadow: 0px 1px 3px 1px rgba(0, 0, 0, 0.15);\n",
              "      filter: drop-shadow(0px 1px 2px rgba(0, 0, 0, 0.3));\n",
              "      fill: #FFFFFF;\n",
              "    }\n",
              "  </style>\n",
              "\n",
              "    <script>\n",
              "      const buttonEl =\n",
              "        document.querySelector('#df-c69f3a70-410f-48b6-86c7-a3251f7b9284 button.colab-df-convert');\n",
              "      buttonEl.style.display =\n",
              "        google.colab.kernel.accessAllowed ? 'block' : 'none';\n",
              "\n",
              "      async function convertToInteractive(key) {\n",
              "        const element = document.querySelector('#df-c69f3a70-410f-48b6-86c7-a3251f7b9284');\n",
              "        const dataTable =\n",
              "          await google.colab.kernel.invokeFunction('convertToInteractive',\n",
              "                                                    [key], {});\n",
              "        if (!dataTable) return;\n",
              "\n",
              "        const docLinkHtml = 'Like what you see? Visit the ' +\n",
              "          '<a target=\"_blank\" href=https://colab.research.google.com/notebooks/data_table.ipynb>data table notebook</a>'\n",
              "          + ' to learn more about interactive tables.';\n",
              "        element.innerHTML = '';\n",
              "        dataTable['output_type'] = 'display_data';\n",
              "        await google.colab.output.renderOutput(dataTable, element);\n",
              "        const docLink = document.createElement('div');\n",
              "        docLink.innerHTML = docLinkHtml;\n",
              "        element.appendChild(docLink);\n",
              "      }\n",
              "    </script>\n",
              "  </div>\n",
              "\n",
              "\n",
              "<div id=\"df-cea1ec68-2a72-4cca-9430-749663ce0e55\">\n",
              "  <button class=\"colab-df-quickchart\" onclick=\"quickchart('df-cea1ec68-2a72-4cca-9430-749663ce0e55')\"\n",
              "            title=\"Suggest charts\"\n",
              "            style=\"display:none;\">\n",
              "\n",
              "<svg xmlns=\"http://www.w3.org/2000/svg\" height=\"24px\"viewBox=\"0 0 24 24\"\n",
              "     width=\"24px\">\n",
              "    <g>\n",
              "        <path d=\"M19 3H5c-1.1 0-2 .9-2 2v14c0 1.1.9 2 2 2h14c1.1 0 2-.9 2-2V5c0-1.1-.9-2-2-2zM9 17H7v-7h2v7zm4 0h-2V7h2v10zm4 0h-2v-4h2v4z\"/>\n",
              "    </g>\n",
              "</svg>\n",
              "  </button>\n",
              "\n",
              "<style>\n",
              "  .colab-df-quickchart {\n",
              "      --bg-color: #E8F0FE;\n",
              "      --fill-color: #1967D2;\n",
              "      --hover-bg-color: #E2EBFA;\n",
              "      --hover-fill-color: #174EA6;\n",
              "      --disabled-fill-color: #AAA;\n",
              "      --disabled-bg-color: #DDD;\n",
              "  }\n",
              "\n",
              "  [theme=dark] .colab-df-quickchart {\n",
              "      --bg-color: #3B4455;\n",
              "      --fill-color: #D2E3FC;\n",
              "      --hover-bg-color: #434B5C;\n",
              "      --hover-fill-color: #FFFFFF;\n",
              "      --disabled-bg-color: #3B4455;\n",
              "      --disabled-fill-color: #666;\n",
              "  }\n",
              "\n",
              "  .colab-df-quickchart {\n",
              "    background-color: var(--bg-color);\n",
              "    border: none;\n",
              "    border-radius: 50%;\n",
              "    cursor: pointer;\n",
              "    display: none;\n",
              "    fill: var(--fill-color);\n",
              "    height: 32px;\n",
              "    padding: 0;\n",
              "    width: 32px;\n",
              "  }\n",
              "\n",
              "  .colab-df-quickchart:hover {\n",
              "    background-color: var(--hover-bg-color);\n",
              "    box-shadow: 0 1px 2px rgba(60, 64, 67, 0.3), 0 1px 3px 1px rgba(60, 64, 67, 0.15);\n",
              "    fill: var(--button-hover-fill-color);\n",
              "  }\n",
              "\n",
              "  .colab-df-quickchart-complete:disabled,\n",
              "  .colab-df-quickchart-complete:disabled:hover {\n",
              "    background-color: var(--disabled-bg-color);\n",
              "    fill: var(--disabled-fill-color);\n",
              "    box-shadow: none;\n",
              "  }\n",
              "\n",
              "  .colab-df-spinner {\n",
              "    border: 2px solid var(--fill-color);\n",
              "    border-color: transparent;\n",
              "    border-bottom-color: var(--fill-color);\n",
              "    animation:\n",
              "      spin 1s steps(1) infinite;\n",
              "  }\n",
              "\n",
              "  @keyframes spin {\n",
              "    0% {\n",
              "      border-color: transparent;\n",
              "      border-bottom-color: var(--fill-color);\n",
              "      border-left-color: var(--fill-color);\n",
              "    }\n",
              "    20% {\n",
              "      border-color: transparent;\n",
              "      border-left-color: var(--fill-color);\n",
              "      border-top-color: var(--fill-color);\n",
              "    }\n",
              "    30% {\n",
              "      border-color: transparent;\n",
              "      border-left-color: var(--fill-color);\n",
              "      border-top-color: var(--fill-color);\n",
              "      border-right-color: var(--fill-color);\n",
              "    }\n",
              "    40% {\n",
              "      border-color: transparent;\n",
              "      border-right-color: var(--fill-color);\n",
              "      border-top-color: var(--fill-color);\n",
              "    }\n",
              "    60% {\n",
              "      border-color: transparent;\n",
              "      border-right-color: var(--fill-color);\n",
              "    }\n",
              "    80% {\n",
              "      border-color: transparent;\n",
              "      border-right-color: var(--fill-color);\n",
              "      border-bottom-color: var(--fill-color);\n",
              "    }\n",
              "    90% {\n",
              "      border-color: transparent;\n",
              "      border-bottom-color: var(--fill-color);\n",
              "    }\n",
              "  }\n",
              "</style>\n",
              "\n",
              "  <script>\n",
              "    async function quickchart(key) {\n",
              "      const quickchartButtonEl =\n",
              "        document.querySelector('#' + key + ' button');\n",
              "      quickchartButtonEl.disabled = true;  // To prevent multiple clicks.\n",
              "      quickchartButtonEl.classList.add('colab-df-spinner');\n",
              "      try {\n",
              "        const charts = await google.colab.kernel.invokeFunction(\n",
              "            'suggestCharts', [key], {});\n",
              "      } catch (error) {\n",
              "        console.error('Error during call to suggestCharts:', error);\n",
              "      }\n",
              "      quickchartButtonEl.classList.remove('colab-df-spinner');\n",
              "      quickchartButtonEl.classList.add('colab-df-quickchart-complete');\n",
              "    }\n",
              "    (() => {\n",
              "      let quickchartButtonEl =\n",
              "        document.querySelector('#df-cea1ec68-2a72-4cca-9430-749663ce0e55 button');\n",
              "      quickchartButtonEl.style.display =\n",
              "        google.colab.kernel.accessAllowed ? 'block' : 'none';\n",
              "    })();\n",
              "  </script>\n",
              "</div>\n",
              "\n",
              "    </div>\n",
              "  </div>\n"
            ],
            "application/vnd.google.colaboratory.intrinsic+json": {
              "type": "dataframe",
              "variable_name": "test_df",
              "summary": "{\n  \"name\": \"test_df\",\n  \"rows\": 3263,\n  \"fields\": [\n    {\n      \"column\": \"id\",\n      \"properties\": {\n        \"dtype\": \"number\",\n        \"std\": 3146,\n        \"min\": 0,\n        \"max\": 10875,\n        \"samples\": [\n          8051,\n          425,\n          1330\n        ],\n        \"num_unique_values\": 3263,\n        \"semantic_type\": \"\",\n        \"description\": \"\"\n      }\n    },\n    {\n      \"column\": \"keyword\",\n      \"properties\": {\n        \"dtype\": \"category\",\n        \"samples\": [\n          \"injury\",\n          \"nuclear%20reactor\",\n          \"engulfed\"\n        ],\n        \"num_unique_values\": 221,\n        \"semantic_type\": \"\",\n        \"description\": \"\"\n      }\n    },\n    {\n      \"column\": \"location\",\n      \"properties\": {\n        \"dtype\": \"category\",\n        \"samples\": [\n          \"UAE\",\n          \"Tokio / Tokyo\",\n          \"Texas\"\n        ],\n        \"num_unique_values\": 1602,\n        \"semantic_type\": \"\",\n        \"description\": \"\"\n      }\n    },\n    {\n      \"column\": \"text\",\n      \"properties\": {\n        \"dtype\": \"string\",\n        \"samples\": [\n          \"Latest: USA: Huge sinkhole swallows up Brooklyn intersection http://t.co/vspKHg3nZy\",\n          \"I liked a @YouTube video http://t.co/a5YTAw9Vih S.O.S. Rona Guide - The Red Whirlwind\",\n          \"HitchBot travels Europe and greeted with open arms. Gets destroyed after two weeks in america. There's a lesson to be learned here.\"\n        ],\n        \"num_unique_values\": 3243,\n        \"semantic_type\": \"\",\n        \"description\": \"\"\n      }\n    }\n  ]\n}"
            }
          },
          "metadata": {},
          "execution_count": 7
        }
      ]
    },
    {
      "cell_type": "code",
      "source": [
        "# How many examples of each class are there?\n",
        "train_df.target.value_counts()"
      ],
      "metadata": {
        "colab": {
          "base_uri": "https://localhost:8080/"
        },
        "id": "nkRETCa9BScm",
        "outputId": "eef64d77-cbd1-436e-b83e-004ce451e727"
      },
      "execution_count": 8,
      "outputs": [
        {
          "output_type": "execute_result",
          "data": {
            "text/plain": [
              "0    4342\n",
              "1    3271\n",
              "Name: target, dtype: int64"
            ]
          },
          "metadata": {},
          "execution_count": 8
        }
      ]
    },
    {
      "cell_type": "code",
      "source": [
        "# How many locations?\n",
        "train_df.location.value_counts()"
      ],
      "metadata": {
        "colab": {
          "base_uri": "https://localhost:8080/"
        },
        "id": "aaRRMabGBbuH",
        "outputId": "e8604d81-2120-406d-9542-4fe9b54fc341"
      },
      "execution_count": 9,
      "outputs": [
        {
          "output_type": "execute_result",
          "data": {
            "text/plain": [
              "USA                    104\n",
              "New York                71\n",
              "United States           50\n",
              "London                  45\n",
              "Canada                  29\n",
              "                      ... \n",
              "MontrÌ©al, QuÌ©bec       1\n",
              "Montreal                 1\n",
              "ÌÏT: 6.4682,3.18287      1\n",
              "Live4Heed??              1\n",
              "Lincoln                  1\n",
              "Name: location, Length: 3341, dtype: int64"
            ]
          },
          "metadata": {},
          "execution_count": 9
        }
      ]
    },
    {
      "cell_type": "code",
      "source": [
        "# How many total samples?\n",
        "len(train_df), len(test_df)"
      ],
      "metadata": {
        "colab": {
          "base_uri": "https://localhost:8080/"
        },
        "id": "-sjLImUvBk2y",
        "outputId": "fc598caa-c4b1-4a52-ef3a-38be9bba8e76"
      },
      "execution_count": 10,
      "outputs": [
        {
          "output_type": "execute_result",
          "data": {
            "text/plain": [
              "(7613, 3263)"
            ]
          },
          "metadata": {},
          "execution_count": 10
        }
      ]
    },
    {
      "cell_type": "code",
      "source": [
        "# Let's visualize some random training examples\n",
        "import random\n",
        "random_index = random.randint(0, len(train_df)-5)\n",
        "for row in train_df_shuffled[[\"text\", \"target\"]][random_index:random_index+5].itertuples():\n",
        "  _, text, target = row\n",
        "  print(f\"Target: {target}\", r\"(real disaster)\" if target > 0 else r\"(not real disaster)\")\n",
        "  print(f\"Text:\\n{text}\\n\")\n",
        "  print(\"---\\n\")"
      ],
      "metadata": {
        "colab": {
          "base_uri": "https://localhost:8080/"
        },
        "id": "MLb0bocuB1NT",
        "outputId": "6438a7eb-af5c-43ea-b060-49cb04524868"
      },
      "execution_count": 11,
      "outputs": [
        {
          "output_type": "stream",
          "name": "stdout",
          "text": [
            "Target: 0 (not real disaster)\n",
            "Text:\n",
            "A look at state actions a year after FergusonÛªs upheaval  http://t.co/G5ZsRU0zVQ\n",
            "\n",
            "---\n",
            "\n",
            "Target: 1 (real disaster)\n",
            "Text:\n",
            "Strict liability in the context of an airplane accident: Pilot error is a common component of most aviation cr... http://t.co/6CZ3bOhRd4\n",
            "\n",
            "---\n",
            "\n",
            "Target: 0 (not real disaster)\n",
            "Text:\n",
            "@stacedemon oh shit!\n",
            "\n",
            "---\n",
            "\n",
            "Target: 0 (not real disaster)\n",
            "Text:\n",
            "The hurricane mixxtail kinda tastes like the watermelon four loko. ???????? @brittsand9\n",
            "\n",
            "---\n",
            "\n",
            "Target: 0 (not real disaster)\n",
            "Text:\n",
            "@amaramin3 Meek is definitely capable of body bagging his ass on the track Drake was just smooth as fuck with it!\n",
            "\n",
            "---\n",
            "\n"
          ]
        }
      ]
    },
    {
      "cell_type": "code",
      "source": [
        "print(\"Hello\\'\\\\ \\n\")"
      ],
      "metadata": {
        "colab": {
          "base_uri": "https://localhost:8080/"
        },
        "id": "adzatgNaCyQo",
        "outputId": "7c2d7375-b0b2-44da-dce0-e41a6309113b"
      },
      "execution_count": 12,
      "outputs": [
        {
          "output_type": "stream",
          "name": "stdout",
          "text": [
            "Hello'\\ \n",
            "\n"
          ]
        }
      ]
    },
    {
      "cell_type": "code",
      "source": [
        "print(r\"Hello\\'\\\\ \\n\")"
      ],
      "metadata": {
        "colab": {
          "base_uri": "https://localhost:8080/"
        },
        "id": "0-PrN4l2Dcwt",
        "outputId": "215a3566-cde4-4b7d-e021-013766982f7f"
      },
      "execution_count": 13,
      "outputs": [
        {
          "output_type": "stream",
          "name": "stdout",
          "text": [
            "Hello\\'\\\\ \\n\n"
          ]
        }
      ]
    },
    {
      "cell_type": "markdown",
      "source": [
        "### Split data into training and validation sets"
      ],
      "metadata": {
        "id": "94RbHSbHDf97"
      }
    },
    {
      "cell_type": "code",
      "source": [
        "from sklearn.model_selection import train_test_split\n",
        "train_sentences, validation_sentences, train_labels, val_labels = train_test_split(train_df_shuffled[\"text\"].to_numpy(),\n",
        "                                                                                   train_df_shuffled[\"target\"].to_numpy(),\n",
        "                                                                                   test_size=0.1)\n"
      ],
      "metadata": {
        "id": "hEHZARCoDu6N"
      },
      "execution_count": 14,
      "outputs": []
    },
    {
      "cell_type": "code",
      "source": [
        "# Check the lengths\n",
        "len(train_sentences), len(train_labels), len(validation_sentences), len(val_labels)"
      ],
      "metadata": {
        "colab": {
          "base_uri": "https://localhost:8080/"
        },
        "id": "PiiAB3-BDyJT",
        "outputId": "ed26a065-1a9f-4ffb-9643-aaf05e819f89"
      },
      "execution_count": 15,
      "outputs": [
        {
          "output_type": "execute_result",
          "data": {
            "text/plain": [
              "(6851, 6851, 762, 762)"
            ]
          },
          "metadata": {},
          "execution_count": 15
        }
      ]
    },
    {
      "cell_type": "code",
      "source": [
        "# Check the first 10 samples\n",
        "train_sentences[:10], train_labels[:10]"
      ],
      "metadata": {
        "colab": {
          "base_uri": "https://localhost:8080/"
        },
        "id": "oZloaPhqEpuj",
        "outputId": "785ed572-0e99-43bb-e9d7-485953a33f71"
      },
      "execution_count": 16,
      "outputs": [
        {
          "output_type": "execute_result",
          "data": {
            "text/plain": [
              "(array([\"Winter Desolation of Death is also on Tumblr:  http://t.co/93DM6gnWwC  Al Necro's reviews interviews &amp; more!\",\n",
              "        'SCREAMING IN 22 DIFFERENT LANGUAGES http://t.co/rDfaAKKbNJ',\n",
              "        'Monsoon Flooding Kills Dozens In Myanmar Prompting Calls For Help - http://t.co/r7vPaKlhvI',\n",
              "        'My dog\\x89Ûªs just blown his kennel up \\x89ÛÒ Bloody Yorkshire Terrorist',\n",
              "        'RSS: Russia begins mass destruction of illegally imported food   http://t.co/r6JDj9kIGm',\n",
              "        \"WRAPUP 2-U.S. cable TV companies' shares crushed after Disney disappoints http://t.co/wWFACu6NFt\",\n",
              "        'Here\\x89Ûªs how media in Pakistan covered the capture of terrorist Mohammed Naved http://t.co/f7WqpCEkg2',\n",
              "        'E-Hutch is da bomb ?? http://t.co/aqmpxzo3V1',\n",
              "        \"i could die by falling in a sinkhole and i'd still be blamed for it\",\n",
              "        '@KirCut1 lets get a dope picture together and have the dopest explosion ????'],\n",
              "       dtype=object),\n",
              " array([0, 0, 1, 0, 1, 0, 0, 0, 0, 0]))"
            ]
          },
          "metadata": {},
          "execution_count": 16
        }
      ]
    },
    {
      "cell_type": "markdown",
      "source": [
        "## Converting text into numbers"
      ],
      "metadata": {
        "id": "wfSNyeTLEvFY"
      }
    },
    {
      "cell_type": "code",
      "source": [
        "# Embedding - every word gets turned into a vector; you can specify the dimensions of the vector\n",
        "  # gets updated as the network learns; therfore it can learn relationships between tokens\n",
        "  # Pretrained embedding libraries e.g. word2vec, GloVe, etc.\n"
      ],
      "metadata": {
        "id": "TlZnTFSuhwXh"
      },
      "execution_count": 17,
      "outputs": []
    },
    {
      "cell_type": "code",
      "source": [
        "# Text vectorization (tokenization)\n",
        "train_sentences[:5]"
      ],
      "metadata": {
        "colab": {
          "base_uri": "https://localhost:8080/"
        },
        "id": "mnWvMBTHjrWC",
        "outputId": "488a4914-eac0-4e55-9a16-cc19a5fd4dc5"
      },
      "execution_count": 18,
      "outputs": [
        {
          "output_type": "execute_result",
          "data": {
            "text/plain": [
              "array([\"Winter Desolation of Death is also on Tumblr:  http://t.co/93DM6gnWwC  Al Necro's reviews interviews &amp; more!\",\n",
              "       'SCREAMING IN 22 DIFFERENT LANGUAGES http://t.co/rDfaAKKbNJ',\n",
              "       'Monsoon Flooding Kills Dozens In Myanmar Prompting Calls For Help - http://t.co/r7vPaKlhvI',\n",
              "       'My dog\\x89Ûªs just blown his kennel up \\x89ÛÒ Bloody Yorkshire Terrorist',\n",
              "       'RSS: Russia begins mass destruction of illegally imported food   http://t.co/r6JDj9kIGm'],\n",
              "      dtype=object)"
            ]
          },
          "metadata": {},
          "execution_count": 18
        }
      ]
    },
    {
      "cell_type": "code",
      "source": [
        "import tensorflow as tf\n",
        "from tensorflow.keras.layers.experimental.preprocessing import TextVectorization\n",
        "# use the default textvectorization parameters\n",
        "text_vectorizer = TextVectorization(max_tokens=None, # how many words in our vocabulary; no cap on size of vocab\n",
        "                                    standardize='lower_and_strip_punctuation',\n",
        "                                    split='whitespace',\n",
        "                                    ngrams=None, # create groups of n-words?\n",
        "                                    output_mode='int', # how to map tokens to numbers\n",
        "                                    output_sequence_length=None,\n",
        "                                    pad_to_max_tokens=False)"
      ],
      "metadata": {
        "id": "ohdqst-vjva7"
      },
      "execution_count": 19,
      "outputs": []
    },
    {
      "cell_type": "code",
      "source": [
        "# find the average number of tokens in the training tweets\n",
        "round((sum([len(i.split()) for i in train_sentences]))/len(train_sentences))"
      ],
      "metadata": {
        "colab": {
          "base_uri": "https://localhost:8080/"
        },
        "id": "_DZBoonYj3jH",
        "outputId": "687f1c3e-f979-4812-af7c-39f3afc13791"
      },
      "execution_count": 20,
      "outputs": [
        {
          "output_type": "execute_result",
          "data": {
            "text/plain": [
              "15"
            ]
          },
          "metadata": {},
          "execution_count": 20
        }
      ]
    },
    {
      "cell_type": "code",
      "source": [
        "# Setup text vectorization variables\n",
        "max_vocab_length = 10000 # max num of words to have in vocab\n",
        "max_length = 15 # max length our sequences will be\n",
        "\n",
        "text_vectorizer = TextVectorization(max_tokens = max_vocab_length,\n",
        "                                    output_mode='int',\n",
        "                                    output_sequence_length=max_length)"
      ],
      "metadata": {
        "id": "9W8ByTbImiop"
      },
      "execution_count": 21,
      "outputs": []
    },
    {
      "cell_type": "code",
      "source": [
        "# Fit the text vectorizer to the training text\n",
        "text_vectorizer.adapt(train_sentences)"
      ],
      "metadata": {
        "id": "AxSf93UNm_gm"
      },
      "execution_count": 22,
      "outputs": []
    },
    {
      "cell_type": "code",
      "source": [
        "# Create a sample sentence and tokenize it\n",
        "sample_sentence = \"There's a flood in my street!\"\n",
        "text_vectorizer([sample_sentence])"
      ],
      "metadata": {
        "colab": {
          "base_uri": "https://localhost:8080/"
        },
        "id": "VUFEM00ungQw",
        "outputId": "b431fb59-b4a4-4d20-bdc4-eee850411a61"
      },
      "execution_count": 23,
      "outputs": [
        {
          "output_type": "execute_result",
          "data": {
            "text/plain": [
              "<tf.Tensor: shape=(1, 15), dtype=int64, numpy=\n",
              "array([[279,   3, 198,   4,  13, 633,   0,   0,   0,   0,   0,   0,   0,\n",
              "          0,   0]])>"
            ]
          },
          "metadata": {},
          "execution_count": 23
        }
      ]
    },
    {
      "cell_type": "code",
      "source": [
        "# Choose a random sentence from the training dataset and tokenize it\n",
        "random_sentence = random.choice(train_sentences)\n",
        "print(f\"Original text:\\n{random_sentence} \\\n",
        "      \\n\\nVectorized versions:\")\n",
        "text_vectorizer([random_sentence])"
      ],
      "metadata": {
        "colab": {
          "base_uri": "https://localhost:8080/"
        },
        "id": "NrZroGjKnobH",
        "outputId": "3a7a3a6c-d4a1-48f5-fe43-5259e7875ec5"
      },
      "execution_count": 24,
      "outputs": [
        {
          "output_type": "stream",
          "name": "stdout",
          "text": [
            "Original text:\n",
            "Here I'm the UK there isn't a deluge of Canadian themed tops around...The timing was perfect. I can't quite believe it. Mad.       \n",
            "\n",
            "Vectorized versions:\n"
          ]
        },
        {
          "output_type": "execute_result",
          "data": {
            "text/plain": [
              "<tf.Tensor: shape=(1, 15), dtype=int64, numpy=\n",
              "array([[ 136,   35,    2, 1164,   72,  730,    3,  353,    6,    1, 7620,\n",
              "        7431,    1, 7518,   24]])>"
            ]
          },
          "metadata": {},
          "execution_count": 24
        }
      ]
    },
    {
      "cell_type": "code",
      "source": [
        "# Get the unique words in the vocab\n",
        "words_in_vocab = text_vectorizer.get_vocabulary() # Get all the unique words in our training data\n",
        "# Most common words\n",
        "top_5_words = words_in_vocab[:5]\n",
        "bottom_5_words = words_in_vocab[-5:]\n",
        "print(f\"Number of words in vocab: {len(words_in_vocab)}\")\n",
        "print(f\"5 most common words: {top_5_words}\")\n",
        "print(f\"5 least common words: {bottom_5_words}\")"
      ],
      "metadata": {
        "colab": {
          "base_uri": "https://localhost:8080/"
        },
        "id": "O5Y4lIO0oHqi",
        "outputId": "a0953ebc-c52c-43d3-8cf1-9553d714217e"
      },
      "execution_count": 25,
      "outputs": [
        {
          "output_type": "stream",
          "name": "stdout",
          "text": [
            "Number of words in vocab: 10000\n",
            "5 most common words: ['', '[UNK]', 'the', 'a', 'in']\n",
            "5 least common words: ['pakthey', 'pakistan\\x89Ûªs', 'pakistans', 'pajamas', 'paints']\n"
          ]
        }
      ]
    },
    {
      "cell_type": "markdown",
      "source": [
        "### Creating an Embedding using an Embedding Layer"
      ],
      "metadata": {
        "id": "D4FUM_8IowRF"
      }
    },
    {
      "cell_type": "code",
      "source": [
        "# taken tokenized text into embedding vectors\n",
        "from tensorflow.keras import layers\n",
        "embedding = layers.Embedding(input_dim=max_vocab_length,\n",
        "                             output_dim=128, # best to choose number divisible by 8\n",
        "                             input_length=max_length # how long is each input\n",
        "                             )\n",
        "embedding"
      ],
      "metadata": {
        "colab": {
          "base_uri": "https://localhost:8080/"
        },
        "id": "vfqvcirtpR4M",
        "outputId": "c6ee7719-8a01-4ee1-a91d-6c225207d4cb"
      },
      "execution_count": 26,
      "outputs": [
        {
          "output_type": "execute_result",
          "data": {
            "text/plain": [
              "<keras.src.layers.core.embedding.Embedding at 0x7edf0c447580>"
            ]
          },
          "metadata": {},
          "execution_count": 26
        }
      ]
    },
    {
      "cell_type": "code",
      "source": [
        "random_sentence = random.choice(train_sentences)\n",
        "print(f\"Original text:\\n {random_sentence}\\\n",
        "\\n\\n Embedded version:\")\n",
        "\n",
        "sample_embed = embedding(text_vectorizer([random_sentence]))\n",
        "sample_embed"
      ],
      "metadata": {
        "colab": {
          "base_uri": "https://localhost:8080/"
        },
        "id": "8YlZ277eqOFd",
        "outputId": "b933f38b-a1c4-4377-c1c3-e0b8b0670cca"
      },
      "execution_count": 27,
      "outputs": [
        {
          "output_type": "stream",
          "name": "stdout",
          "text": [
            "Original text:\n",
            " @tsunami_esh ESH PLEASE OKAY!\n",
            "\n",
            " Embedded version:\n"
          ]
        },
        {
          "output_type": "execute_result",
          "data": {
            "text/plain": [
              "<tf.Tensor: shape=(1, 15, 128), dtype=float32, numpy=\n",
              "array([[[-0.00702808, -0.01750171,  0.01600697, ...,  0.00656454,\n",
              "          0.00893974,  0.0334732 ],\n",
              "        [ 0.01195489, -0.03780044, -0.02675246, ..., -0.04091066,\n",
              "          0.00488741,  0.04452934],\n",
              "        [ 0.01314821,  0.04535014,  0.00993141, ..., -0.01157696,\n",
              "         -0.0148586 , -0.04603958],\n",
              "        ...,\n",
              "        [-0.02745006,  0.02600152,  0.02698651, ...,  0.02776719,\n",
              "          0.00094011, -0.0284946 ],\n",
              "        [-0.02745006,  0.02600152,  0.02698651, ...,  0.02776719,\n",
              "          0.00094011, -0.0284946 ],\n",
              "        [-0.02745006,  0.02600152,  0.02698651, ...,  0.02776719,\n",
              "          0.00094011, -0.0284946 ]]], dtype=float32)>"
            ]
          },
          "metadata": {},
          "execution_count": 27
        }
      ]
    },
    {
      "cell_type": "code",
      "source": [
        "# Check out a single token's embedding\n",
        "sample_embed[0][0], sample_embed[0][0].shape, random_sentence[0]"
      ],
      "metadata": {
        "colab": {
          "base_uri": "https://localhost:8080/"
        },
        "id": "GBkWO3KUqmie",
        "outputId": "dd3e5b6f-9b7b-4488-ad92-5375ba1e8d36"
      },
      "execution_count": 28,
      "outputs": [
        {
          "output_type": "execute_result",
          "data": {
            "text/plain": [
              "(<tf.Tensor: shape=(128,), dtype=float32, numpy=\n",
              " array([-0.00702808, -0.01750171,  0.01600697, -0.03162352, -0.03402396,\n",
              "         0.01088871,  0.01781398, -0.01165354,  0.01676314, -0.04207031,\n",
              "         0.04683695, -0.03769189,  0.02330269,  0.04744413, -0.01064082,\n",
              "         0.01025004,  0.04803946,  0.00926092, -0.03362598,  0.0472951 ,\n",
              "        -0.03155857, -0.03738863, -0.02544698, -0.04200631, -0.03716014,\n",
              "        -0.004803  , -0.02364744, -0.0471893 , -0.01706095, -0.04702773,\n",
              "         0.02870512, -0.02922933, -0.02926018,  0.00551163, -0.02145708,\n",
              "         0.03710195, -0.01924927,  0.01608566, -0.02005054, -0.03777642,\n",
              "        -0.02453195, -0.04047524, -0.01131859, -0.00044613, -0.00562936,\n",
              "        -0.04232783, -0.01675671, -0.01950996, -0.00781028, -0.01794662,\n",
              "         0.02538193, -0.04154316, -0.00311259,  0.01897924,  0.01888591,\n",
              "        -0.04376629, -0.00671715,  0.00358726, -0.00856633,  0.0249292 ,\n",
              "        -0.0238906 , -0.04066932,  0.03142761, -0.02105639, -0.02009746,\n",
              "        -0.04835652, -0.03541321, -0.03797479,  0.0111817 , -0.0271256 ,\n",
              "         0.01346382,  0.00123538,  0.007542  ,  0.00207223, -0.04858706,\n",
              "        -0.0380893 , -0.04655129,  0.00803388, -0.02590923,  0.03641089,\n",
              "        -0.02521458, -0.03974124,  0.03082244,  0.03647328, -0.04413962,\n",
              "        -0.00379052, -0.0415959 , -0.03798185,  0.02741153, -0.01645712,\n",
              "        -0.00186162,  0.02972151, -0.01642581, -0.0447378 , -0.0386879 ,\n",
              "        -0.04721991, -0.04027628,  0.00495161,  0.02859187,  0.01328537,\n",
              "        -0.04872067,  0.04210665,  0.04834947,  0.01815091,  0.02614936,\n",
              "         0.02048823, -0.03948335,  0.03801037,  0.03321819, -0.00149899,\n",
              "         0.02125489,  0.01496469, -0.03588502, -0.0487841 , -0.01492931,\n",
              "         0.01672952,  0.01995477, -0.03737428, -0.00819052,  0.01675916,\n",
              "         0.01461572,  0.03179358,  0.02545046, -0.02048193, -0.04299041,\n",
              "         0.00656454,  0.00893974,  0.0334732 ], dtype=float32)>,\n",
              " TensorShape([128]),\n",
              " '@')"
            ]
          },
          "metadata": {},
          "execution_count": 28
        }
      ]
    },
    {
      "cell_type": "markdown",
      "source": [
        "## Modeling a text dataset\n",
        "* Model 0: Naive Bayes (baseline) [sklearn ML map](https://scikit-learn.org/stable/tutorial/machine_learning_map/index.html)\n",
        "* Model 2: LSTM model (RNN)\n",
        "* Model 3: GRU model (RNN)\n",
        "* Model 4: Bidirectional-LSTM model (RNN)\n",
        "* Model 5: 1D Convolutional NN (CNN)\n",
        "* Model 6: TF Hub Pretrained Feature Extractor (transfer learning)\n",
        "* Model 7: Same as model 6 with 10% of training data"
      ],
      "metadata": {
        "id": "UvmZc8WTq9d1"
      }
    },
    {
      "cell_type": "markdown",
      "source": [
        "### Model 0: Getting a baseline"
      ],
      "metadata": {
        "id": "CHHmh8sMrjGl"
      }
    },
    {
      "cell_type": "code",
      "source": [
        "from sklearn.naive_bayes import MultinomialNB\n",
        "from sklearn.feature_extraction.text import TfidfVectorizer # turn text into numbers/vectors\n",
        "from sklearn.pipeline import Pipeline\n",
        "model_0 = Pipeline([\n",
        "    (\"tfidf\", TfidfVectorizer()),\n",
        "    (\"clf\", MultinomialNB()) # clf == \"classifier\"\n",
        "])\n",
        "model_0.fit(train_sentences, train_labels)"
      ],
      "metadata": {
        "colab": {
          "base_uri": "https://localhost:8080/",
          "height": 124
        },
        "id": "pPRFDykutYhM",
        "outputId": "14055ae5-f5d8-47f4-b9e2-5bb774be2c89"
      },
      "execution_count": 29,
      "outputs": [
        {
          "output_type": "execute_result",
          "data": {
            "text/plain": [
              "Pipeline(steps=[('tfidf', TfidfVectorizer()), ('clf', MultinomialNB())])"
            ],
            "text/html": [
              "<style>#sk-container-id-1 {color: black;background-color: white;}#sk-container-id-1 pre{padding: 0;}#sk-container-id-1 div.sk-toggleable {background-color: white;}#sk-container-id-1 label.sk-toggleable__label {cursor: pointer;display: block;width: 100%;margin-bottom: 0;padding: 0.3em;box-sizing: border-box;text-align: center;}#sk-container-id-1 label.sk-toggleable__label-arrow:before {content: \"▸\";float: left;margin-right: 0.25em;color: #696969;}#sk-container-id-1 label.sk-toggleable__label-arrow:hover:before {color: black;}#sk-container-id-1 div.sk-estimator:hover label.sk-toggleable__label-arrow:before {color: black;}#sk-container-id-1 div.sk-toggleable__content {max-height: 0;max-width: 0;overflow: hidden;text-align: left;background-color: #f0f8ff;}#sk-container-id-1 div.sk-toggleable__content pre {margin: 0.2em;color: black;border-radius: 0.25em;background-color: #f0f8ff;}#sk-container-id-1 input.sk-toggleable__control:checked~div.sk-toggleable__content {max-height: 200px;max-width: 100%;overflow: auto;}#sk-container-id-1 input.sk-toggleable__control:checked~label.sk-toggleable__label-arrow:before {content: \"▾\";}#sk-container-id-1 div.sk-estimator input.sk-toggleable__control:checked~label.sk-toggleable__label {background-color: #d4ebff;}#sk-container-id-1 div.sk-label input.sk-toggleable__control:checked~label.sk-toggleable__label {background-color: #d4ebff;}#sk-container-id-1 input.sk-hidden--visually {border: 0;clip: rect(1px 1px 1px 1px);clip: rect(1px, 1px, 1px, 1px);height: 1px;margin: -1px;overflow: hidden;padding: 0;position: absolute;width: 1px;}#sk-container-id-1 div.sk-estimator {font-family: monospace;background-color: #f0f8ff;border: 1px dotted black;border-radius: 0.25em;box-sizing: border-box;margin-bottom: 0.5em;}#sk-container-id-1 div.sk-estimator:hover {background-color: #d4ebff;}#sk-container-id-1 div.sk-parallel-item::after {content: \"\";width: 100%;border-bottom: 1px solid gray;flex-grow: 1;}#sk-container-id-1 div.sk-label:hover label.sk-toggleable__label {background-color: #d4ebff;}#sk-container-id-1 div.sk-serial::before {content: \"\";position: absolute;border-left: 1px solid gray;box-sizing: border-box;top: 0;bottom: 0;left: 50%;z-index: 0;}#sk-container-id-1 div.sk-serial {display: flex;flex-direction: column;align-items: center;background-color: white;padding-right: 0.2em;padding-left: 0.2em;position: relative;}#sk-container-id-1 div.sk-item {position: relative;z-index: 1;}#sk-container-id-1 div.sk-parallel {display: flex;align-items: stretch;justify-content: center;background-color: white;position: relative;}#sk-container-id-1 div.sk-item::before, #sk-container-id-1 div.sk-parallel-item::before {content: \"\";position: absolute;border-left: 1px solid gray;box-sizing: border-box;top: 0;bottom: 0;left: 50%;z-index: -1;}#sk-container-id-1 div.sk-parallel-item {display: flex;flex-direction: column;z-index: 1;position: relative;background-color: white;}#sk-container-id-1 div.sk-parallel-item:first-child::after {align-self: flex-end;width: 50%;}#sk-container-id-1 div.sk-parallel-item:last-child::after {align-self: flex-start;width: 50%;}#sk-container-id-1 div.sk-parallel-item:only-child::after {width: 0;}#sk-container-id-1 div.sk-dashed-wrapped {border: 1px dashed gray;margin: 0 0.4em 0.5em 0.4em;box-sizing: border-box;padding-bottom: 0.4em;background-color: white;}#sk-container-id-1 div.sk-label label {font-family: monospace;font-weight: bold;display: inline-block;line-height: 1.2em;}#sk-container-id-1 div.sk-label-container {text-align: center;}#sk-container-id-1 div.sk-container {/* jupyter's `normalize.less` sets `[hidden] { display: none; }` but bootstrap.min.css set `[hidden] { display: none !important; }` so we also need the `!important` here to be able to override the default hidden behavior on the sphinx rendered scikit-learn.org. See: https://github.com/scikit-learn/scikit-learn/issues/21755 */display: inline-block !important;position: relative;}#sk-container-id-1 div.sk-text-repr-fallback {display: none;}</style><div id=\"sk-container-id-1\" class=\"sk-top-container\"><div class=\"sk-text-repr-fallback\"><pre>Pipeline(steps=[(&#x27;tfidf&#x27;, TfidfVectorizer()), (&#x27;clf&#x27;, MultinomialNB())])</pre><b>In a Jupyter environment, please rerun this cell to show the HTML representation or trust the notebook. <br />On GitHub, the HTML representation is unable to render, please try loading this page with nbviewer.org.</b></div><div class=\"sk-container\" hidden><div class=\"sk-item sk-dashed-wrapped\"><div class=\"sk-label-container\"><div class=\"sk-label sk-toggleable\"><input class=\"sk-toggleable__control sk-hidden--visually\" id=\"sk-estimator-id-1\" type=\"checkbox\" ><label for=\"sk-estimator-id-1\" class=\"sk-toggleable__label sk-toggleable__label-arrow\">Pipeline</label><div class=\"sk-toggleable__content\"><pre>Pipeline(steps=[(&#x27;tfidf&#x27;, TfidfVectorizer()), (&#x27;clf&#x27;, MultinomialNB())])</pre></div></div></div><div class=\"sk-serial\"><div class=\"sk-item\"><div class=\"sk-estimator sk-toggleable\"><input class=\"sk-toggleable__control sk-hidden--visually\" id=\"sk-estimator-id-2\" type=\"checkbox\" ><label for=\"sk-estimator-id-2\" class=\"sk-toggleable__label sk-toggleable__label-arrow\">TfidfVectorizer</label><div class=\"sk-toggleable__content\"><pre>TfidfVectorizer()</pre></div></div></div><div class=\"sk-item\"><div class=\"sk-estimator sk-toggleable\"><input class=\"sk-toggleable__control sk-hidden--visually\" id=\"sk-estimator-id-3\" type=\"checkbox\" ><label for=\"sk-estimator-id-3\" class=\"sk-toggleable__label sk-toggleable__label-arrow\">MultinomialNB</label><div class=\"sk-toggleable__content\"><pre>MultinomialNB()</pre></div></div></div></div></div></div></div>"
            ]
          },
          "metadata": {},
          "execution_count": 29
        }
      ]
    },
    {
      "cell_type": "code",
      "source": [
        "# Evaluate our baseline model\n",
        "baseline_score = model_0.score(validation_sentences, val_labels)\n",
        "print(f\"Our baseline model achieves an accuracy of: {baseline_score*100:.2f}%\")"
      ],
      "metadata": {
        "colab": {
          "base_uri": "https://localhost:8080/"
        },
        "id": "SfeJnU9GuNLu",
        "outputId": "7df612ed-01e3-429c-9146-d5db66e8c47b"
      },
      "execution_count": 30,
      "outputs": [
        {
          "output_type": "stream",
          "name": "stdout",
          "text": [
            "Our baseline model achieves an accuracy of: 79.79%\n"
          ]
        }
      ]
    },
    {
      "cell_type": "code",
      "source": [
        "train_df.target.value_counts()"
      ],
      "metadata": {
        "colab": {
          "base_uri": "https://localhost:8080/"
        },
        "id": "QsSQXaXmukOk",
        "outputId": "837eba4b-05a1-4ba9-86f1-a021815ccf88"
      },
      "execution_count": 31,
      "outputs": [
        {
          "output_type": "execute_result",
          "data": {
            "text/plain": [
              "0    4342\n",
              "1    3271\n",
              "Name: target, dtype: int64"
            ]
          },
          "metadata": {},
          "execution_count": 31
        }
      ]
    },
    {
      "cell_type": "code",
      "source": [
        "# Make predictions\n",
        "baseline_preds = model_0.predict(validation_sentences)\n",
        "baseline_preds[:20]"
      ],
      "metadata": {
        "colab": {
          "base_uri": "https://localhost:8080/"
        },
        "id": "icGvf0FDupAC",
        "outputId": "447c760c-aece-4ce7-b875-05c71c7a4b9d"
      },
      "execution_count": 32,
      "outputs": [
        {
          "output_type": "execute_result",
          "data": {
            "text/plain": [
              "array([0, 1, 0, 1, 0, 1, 0, 0, 0, 0, 1, 0, 0, 0, 0, 1, 1, 0, 0, 1])"
            ]
          },
          "metadata": {},
          "execution_count": 32
        }
      ]
    },
    {
      "cell_type": "markdown",
      "source": [
        "### Creating an evaluation function for our model experiments\n",
        "\n",
        "Create on to compare our model's predictions with the truth labels\n",
        "* Accuracy\n",
        "* Precision\n",
        "* Recall\n",
        "* F1-score"
      ],
      "metadata": {
        "id": "eRRts0VWu3Y5"
      }
    },
    {
      "cell_type": "code",
      "source": [
        "# Function to evaluate: accuracy, precision, recall, F1-score\n",
        "from sklearn.metrics import accuracy_score, precision_recall_fscore_support\n",
        "def calculate_results(y_true, y_pred):\n",
        "  \"\"\"\n",
        "  Calculates model accuracy, precision, recall and f1 score of a binary classification model\n",
        "  \"\"\"\n",
        "  # Calculate model accuracy\n",
        "  model_accuracy = accuracy_score(y_true, y_pred) * 100\n",
        "  # Calculate model precision, recall, and f1-score using \"weighted\" average\n",
        "  model_precision, model_recall, model_f1, _ = precision_recall_fscore_support(y_true, y_pred, average=\"weighted\")\n",
        "  model_results = {\"accuracy\": model_accuracy,\n",
        "                   \"precision\": model_precision,\n",
        "                   \"recall\": model_recall,\n",
        "                   \"f1\": model_f1}\n",
        "  return model_results"
      ],
      "metadata": {
        "id": "BdoFliMyNS4L"
      },
      "execution_count": 34,
      "outputs": []
    },
    {
      "cell_type": "code",
      "source": [
        "baseline_results = calculate_results(y_true=val_labels,\n",
        "                                     y_pred = baseline_preds)\n",
        "baseline_results"
      ],
      "metadata": {
        "id": "-xSwtDvTu5V-",
        "colab": {
          "base_uri": "https://localhost:8080/"
        },
        "outputId": "c192c814-7975-404c-aaeb-7c852a1bcf89"
      },
      "execution_count": 36,
      "outputs": [
        {
          "output_type": "execute_result",
          "data": {
            "text/plain": [
              "{'accuracy': 79.79002624671917,\n",
              " 'precision': 0.805269198642199,\n",
              " 'recall': 0.7979002624671916,\n",
              " 'f1': 0.7929822281460398}"
            ]
          },
          "metadata": {},
          "execution_count": 36
        }
      ]
    },
    {
      "cell_type": "markdown",
      "source": [
        "# Model 1: Feed-forward neural network (dense model)"
      ],
      "metadata": {
        "id": "SChxAOXHPBxK"
      }
    },
    {
      "cell_type": "code",
      "source": [
        "# Create a tensorboard callback (need to create a new one for each model)\n",
        "from helper_functions import create_tensorboard_callback\n",
        "\n",
        "# Create a directory to save Tensorboard logs\n",
        "SAVE_DIR = \"model_logs\"\n",
        "\n",
        "# Build model with the Functional API\n",
        "from tensorflow.keras import layers\n",
        "inputs = layers.Input(shape=(1,), dtype=tf.string) # inputs are 1D strings\n",
        "x = text_vectorizer(inputs) # turn input text into numbers\n",
        "x = embedding(x) # create an embedding of the numberized inputs\n",
        "x = layers.GlobalAveragePooling1D()(x)\n",
        "outputs = layers.Dense(1, activation=\"sigmoid\")(x) # Create output layer, want binary outputs\n",
        "model_1 = tf.keras.Model(inputs, outputs, name=\"model_1_dense\")"
      ],
      "metadata": {
        "id": "0KNsJruAPv-x"
      },
      "execution_count": 57,
      "outputs": []
    },
    {
      "cell_type": "code",
      "source": [
        "model_1.summary()"
      ],
      "metadata": {
        "colab": {
          "base_uri": "https://localhost:8080/"
        },
        "id": "gbUtEzQ-Qm48",
        "outputId": "3e44e15e-beec-4691-d197-e8e1d3166f66"
      },
      "execution_count": 58,
      "outputs": [
        {
          "output_type": "stream",
          "name": "stdout",
          "text": [
            "Model: \"model_1_dense\"\n",
            "_________________________________________________________________\n",
            " Layer (type)                Output Shape              Param #   \n",
            "=================================================================\n",
            " input_6 (InputLayer)        [(None, 1)]               0         \n",
            "                                                                 \n",
            " text_vectorization_1 (Text  (None, 15)                0         \n",
            " Vectorization)                                                  \n",
            "                                                                 \n",
            " embedding (Embedding)       (None, 15, 128)           1280000   \n",
            "                                                                 \n",
            " global_average_pooling1d (  (None, 128)               0         \n",
            " GlobalAveragePooling1D)                                         \n",
            "                                                                 \n",
            " dense_2 (Dense)             (None, 1)                 129       \n",
            "                                                                 \n",
            "=================================================================\n",
            "Total params: 1280129 (4.88 MB)\n",
            "Trainable params: 1280129 (4.88 MB)\n",
            "Non-trainable params: 0 (0.00 Byte)\n",
            "_________________________________________________________________\n"
          ]
        }
      ]
    },
    {
      "cell_type": "code",
      "source": [
        "# Compile model\n",
        "model_1.compile(loss=\"binary_crossentropy\",\n",
        "                optimizer=tf.keras.optimizers.Adam(),\n",
        "                metrics=[\"accuracy\"])"
      ],
      "metadata": {
        "id": "0yvDPtc9Qonz"
      },
      "execution_count": 59,
      "outputs": []
    },
    {
      "cell_type": "code",
      "source": [
        "# Fit model\n",
        "model_1_history = model_1.fit(train_sentences,\n",
        "                              train_labels,\n",
        "                              epochs=5,\n",
        "                              validation_data=(validation_sentences, val_labels),\n",
        "                              callbacks=[create_tensorboard_callback(dir_name=SAVE_DIR,\n",
        "                                                                     experiment_name=\"model_1_dense\")])"
      ],
      "metadata": {
        "colab": {
          "base_uri": "https://localhost:8080/"
        },
        "id": "aprjl4ipQ6Eb",
        "outputId": "bfb31866-100b-4b10-b93c-6061f6656f4c"
      },
      "execution_count": 60,
      "outputs": [
        {
          "output_type": "stream",
          "name": "stdout",
          "text": [
            "Saving TensorBoard log files to: model_logs/model_1_dense/20240215-011030\n",
            "Epoch 1/5\n",
            "215/215 [==============================] - 8s 34ms/step - loss: 0.5846 - accuracy: 0.7542 - val_loss: 0.5282 - val_accuracy: 0.7677\n",
            "Epoch 2/5\n",
            "215/215 [==============================] - 2s 10ms/step - loss: 0.4200 - accuracy: 0.8371 - val_loss: 0.4525 - val_accuracy: 0.8018\n",
            "Epoch 3/5\n",
            "215/215 [==============================] - 1s 6ms/step - loss: 0.3328 - accuracy: 0.8708 - val_loss: 0.4363 - val_accuracy: 0.8084\n",
            "Epoch 4/5\n",
            "215/215 [==============================] - 1s 6ms/step - loss: 0.2756 - accuracy: 0.8964 - val_loss: 0.4359 - val_accuracy: 0.8097\n",
            "Epoch 5/5\n",
            "215/215 [==============================] - 2s 7ms/step - loss: 0.2332 - accuracy: 0.9169 - val_loss: 0.4534 - val_accuracy: 0.8058\n"
          ]
        }
      ]
    },
    {
      "cell_type": "code",
      "source": [
        "# Check the results\n",
        "model_1.evaluate(validation_sentences, val_labels)"
      ],
      "metadata": {
        "colab": {
          "base_uri": "https://localhost:8080/"
        },
        "id": "MOAicrBERLUS",
        "outputId": "8264e75f-6506-4dd1-f977-1eb22782faef"
      },
      "execution_count": 61,
      "outputs": [
        {
          "output_type": "stream",
          "name": "stdout",
          "text": [
            "24/24 [==============================] - 0s 3ms/step - loss: 0.4534 - accuracy: 0.8058\n"
          ]
        },
        {
          "output_type": "execute_result",
          "data": {
            "text/plain": [
              "[0.4533763527870178, 0.8057742714881897]"
            ]
          },
          "metadata": {},
          "execution_count": 61
        }
      ]
    },
    {
      "cell_type": "code",
      "source": [
        "# make some predictions and evaluate those\n",
        "model_1_pred_probs = model_1.predict(validation_sentences)\n",
        "model_1_pred_probs"
      ],
      "metadata": {
        "colab": {
          "base_uri": "https://localhost:8080/"
        },
        "id": "6BKmzr24SGtT",
        "outputId": "e98e8133-1454-4974-ade5-966893786006"
      },
      "execution_count": 62,
      "outputs": [
        {
          "output_type": "stream",
          "name": "stdout",
          "text": [
            "24/24 [==============================] - 0s 2ms/step\n"
          ]
        },
        {
          "output_type": "execute_result",
          "data": {
            "text/plain": [
              "array([[0.21735752],\n",
              "       [0.5040701 ],\n",
              "       [0.8186321 ],\n",
              "       [0.569228  ],\n",
              "       [0.29355854],\n",
              "       [0.97278124],\n",
              "       [0.19997315],\n",
              "       [0.059449  ],\n",
              "       [0.0600296 ],\n",
              "       [0.28930956],\n",
              "       [0.73786026],\n",
              "       [0.82243884],\n",
              "       [0.10227519],\n",
              "       [0.4170531 ],\n",
              "       [0.6401937 ],\n",
              "       [0.8523961 ],\n",
              "       [0.70531374],\n",
              "       [0.0650014 ],\n",
              "       [0.02072064],\n",
              "       [0.9941981 ],\n",
              "       [0.14073253],\n",
              "       [0.65935516],\n",
              "       [0.1587985 ],\n",
              "       [0.24299614],\n",
              "       [0.1453874 ],\n",
              "       [0.8768521 ],\n",
              "       [0.36371648],\n",
              "       [0.06634771],\n",
              "       [0.4850976 ],\n",
              "       [0.9521677 ],\n",
              "       [0.10134061],\n",
              "       [0.7911903 ],\n",
              "       [0.9547387 ],\n",
              "       [0.03345915],\n",
              "       [0.9992648 ],\n",
              "       [0.9941981 ],\n",
              "       [0.09622858],\n",
              "       [0.99969995],\n",
              "       [0.03943072],\n",
              "       [0.05848593],\n",
              "       [0.53329563],\n",
              "       [0.30535364],\n",
              "       [0.28034413],\n",
              "       [0.9986646 ],\n",
              "       [0.15236005],\n",
              "       [0.9605621 ],\n",
              "       [0.98229915],\n",
              "       [0.31296334],\n",
              "       [0.293343  ],\n",
              "       [0.19611086],\n",
              "       [0.24395244],\n",
              "       [0.96023166],\n",
              "       [0.08558493],\n",
              "       [0.998538  ],\n",
              "       [0.9972813 ],\n",
              "       [0.9815818 ],\n",
              "       [0.24862395],\n",
              "       [0.7860257 ],\n",
              "       [0.71773   ],\n",
              "       [0.3988653 ],\n",
              "       [0.77338326],\n",
              "       [0.99815935],\n",
              "       [0.27169362],\n",
              "       [0.9989102 ],\n",
              "       [0.9986211 ],\n",
              "       [0.9924509 ],\n",
              "       [0.07598928],\n",
              "       [0.9936005 ],\n",
              "       [0.5076991 ],\n",
              "       [0.67806965],\n",
              "       [0.33524612],\n",
              "       [0.9779936 ],\n",
              "       [0.98897713],\n",
              "       [0.9019384 ],\n",
              "       [0.38666072],\n",
              "       [0.8981254 ],\n",
              "       [0.7035344 ],\n",
              "       [0.07803766],\n",
              "       [0.05720973],\n",
              "       [0.9866563 ],\n",
              "       [0.08765436],\n",
              "       [0.5051155 ],\n",
              "       [0.06553238],\n",
              "       [0.07074419],\n",
              "       [0.96564543],\n",
              "       [0.07618632],\n",
              "       [0.93170613],\n",
              "       [0.00621714],\n",
              "       [0.26636708],\n",
              "       [0.20336512],\n",
              "       [0.7532518 ],\n",
              "       [0.04873547],\n",
              "       [0.924144  ],\n",
              "       [0.94288623],\n",
              "       [0.99948585],\n",
              "       [0.02324584],\n",
              "       [0.85693544],\n",
              "       [0.9843097 ],\n",
              "       [0.06861254],\n",
              "       [0.61352724],\n",
              "       [0.34339795],\n",
              "       [0.18088311],\n",
              "       [0.7023639 ],\n",
              "       [0.23274562],\n",
              "       [0.9999573 ],\n",
              "       [0.98328257],\n",
              "       [0.00335706],\n",
              "       [0.96542114],\n",
              "       [0.644399  ],\n",
              "       [0.34417778],\n",
              "       [0.91712826],\n",
              "       [0.15208915],\n",
              "       [0.15250263],\n",
              "       [0.12912168],\n",
              "       [0.8769235 ],\n",
              "       [0.01717564],\n",
              "       [0.04340103],\n",
              "       [0.04736609],\n",
              "       [0.01154805],\n",
              "       [0.3950346 ],\n",
              "       [0.18465425],\n",
              "       [0.13013498],\n",
              "       [0.09669982],\n",
              "       [0.7704682 ],\n",
              "       [0.82243884],\n",
              "       [0.7123515 ],\n",
              "       [0.9992878 ],\n",
              "       [0.1701116 ],\n",
              "       [0.366961  ],\n",
              "       [0.7969853 ],\n",
              "       [0.76424295],\n",
              "       [0.25014958],\n",
              "       [0.27471656],\n",
              "       [0.36318055],\n",
              "       [0.26366875],\n",
              "       [0.6581964 ],\n",
              "       [0.3834424 ],\n",
              "       [0.882929  ],\n",
              "       [0.09747006],\n",
              "       [0.7060088 ],\n",
              "       [0.73437387],\n",
              "       [0.24697591],\n",
              "       [0.5277071 ],\n",
              "       [0.9657006 ],\n",
              "       [0.7100106 ],\n",
              "       [0.6986266 ],\n",
              "       [0.19970618],\n",
              "       [0.50933355],\n",
              "       [0.6106633 ],\n",
              "       [0.9931463 ],\n",
              "       [0.09676356],\n",
              "       [0.9465309 ],\n",
              "       [0.05664048],\n",
              "       [0.04058472],\n",
              "       [0.85239697],\n",
              "       [0.7244279 ],\n",
              "       [0.44784892],\n",
              "       [0.95999783],\n",
              "       [0.56896603],\n",
              "       [0.84932214],\n",
              "       [0.36882707],\n",
              "       [0.5464144 ],\n",
              "       [0.00646844],\n",
              "       [0.9963606 ],\n",
              "       [0.3638876 ],\n",
              "       [0.18902513],\n",
              "       [0.02402453],\n",
              "       [0.06811701],\n",
              "       [0.9773512 ],\n",
              "       [0.15488821],\n",
              "       [0.97104937],\n",
              "       [0.9996561 ],\n",
              "       [0.9996561 ],\n",
              "       [0.39527202],\n",
              "       [0.56236094],\n",
              "       [0.9855012 ],\n",
              "       [0.42395884],\n",
              "       [0.5624737 ],\n",
              "       [0.6971701 ],\n",
              "       [0.4624378 ],\n",
              "       [0.8982988 ],\n",
              "       [0.20653176],\n",
              "       [0.22475895],\n",
              "       [0.6827699 ],\n",
              "       [0.7021702 ],\n",
              "       [0.03163357],\n",
              "       [0.39509806],\n",
              "       [0.11541669],\n",
              "       [0.3289856 ],\n",
              "       [0.24106443],\n",
              "       [0.9818901 ],\n",
              "       [0.9469478 ],\n",
              "       [0.5905535 ],\n",
              "       [0.5891913 ],\n",
              "       [0.66492105],\n",
              "       [0.07260157],\n",
              "       [0.04787138],\n",
              "       [0.32187754],\n",
              "       [0.28445452],\n",
              "       [0.98850787],\n",
              "       [0.87458634],\n",
              "       [0.08870295],\n",
              "       [0.97452646],\n",
              "       [0.9987777 ],\n",
              "       [0.9386292 ],\n",
              "       [0.04666556],\n",
              "       [0.7935684 ],\n",
              "       [0.01276337],\n",
              "       [0.134324  ],\n",
              "       [0.09685578],\n",
              "       [0.00976134],\n",
              "       [0.99934465],\n",
              "       [0.21199693],\n",
              "       [0.72656673],\n",
              "       [0.09642757],\n",
              "       [0.58400935],\n",
              "       [0.04157305],\n",
              "       [0.03069987],\n",
              "       [0.29096863],\n",
              "       [0.57002395],\n",
              "       [0.33578977],\n",
              "       [0.370581  ],\n",
              "       [0.35507137],\n",
              "       [0.532188  ],\n",
              "       [0.22791821],\n",
              "       [0.13304232],\n",
              "       [0.99969995],\n",
              "       [0.97955966],\n",
              "       [0.48128495],\n",
              "       [0.9991273 ],\n",
              "       [0.03902617],\n",
              "       [0.99948585],\n",
              "       [0.5456593 ],\n",
              "       [0.8455053 ],\n",
              "       [0.24812491],\n",
              "       [0.0308365 ],\n",
              "       [0.25536853],\n",
              "       [0.97441727],\n",
              "       [0.9930276 ],\n",
              "       [0.36088318],\n",
              "       [0.09980746],\n",
              "       [0.36464036],\n",
              "       [0.02367194],\n",
              "       [0.02122293],\n",
              "       [0.33524612],\n",
              "       [0.11621831],\n",
              "       [0.2937379 ],\n",
              "       [0.08054299],\n",
              "       [0.09659701],\n",
              "       [0.15945035],\n",
              "       [0.05922658],\n",
              "       [0.5476294 ],\n",
              "       [0.15851314],\n",
              "       [0.99964535],\n",
              "       [0.23433702],\n",
              "       [0.05941022],\n",
              "       [0.99542916],\n",
              "       [0.38431203],\n",
              "       [0.8765328 ],\n",
              "       [0.34916538],\n",
              "       [0.24908964],\n",
              "       [0.4293526 ],\n",
              "       [0.1228011 ],\n",
              "       [0.00407445],\n",
              "       [0.18624921],\n",
              "       [0.75529563],\n",
              "       [0.994273  ],\n",
              "       [0.21082579],\n",
              "       [0.00146892],\n",
              "       [0.49328202],\n",
              "       [0.915422  ],\n",
              "       [0.0942609 ],\n",
              "       [0.0506991 ],\n",
              "       [0.9980798 ],\n",
              "       [0.21268721],\n",
              "       [0.99981683],\n",
              "       [0.9924509 ],\n",
              "       [0.10513598],\n",
              "       [0.33555675],\n",
              "       [0.07071437],\n",
              "       [0.5735479 ],\n",
              "       [0.43593955],\n",
              "       [0.85196495],\n",
              "       [0.9885499 ],\n",
              "       [0.30860564],\n",
              "       [0.03867944],\n",
              "       [0.41802526],\n",
              "       [0.95644313],\n",
              "       [0.20907411],\n",
              "       [0.64147115],\n",
              "       [0.00135841],\n",
              "       [0.9776448 ],\n",
              "       [0.8141806 ],\n",
              "       [0.99956733],\n",
              "       [0.77759373],\n",
              "       [0.99222   ],\n",
              "       [0.3372474 ],\n",
              "       [0.8433354 ],\n",
              "       [0.02105113],\n",
              "       [0.9684548 ],\n",
              "       [0.01223529],\n",
              "       [0.96731514],\n",
              "       [0.39243436],\n",
              "       [0.873887  ],\n",
              "       [0.16443701],\n",
              "       [0.80412364],\n",
              "       [0.14115313],\n",
              "       [0.04334163],\n",
              "       [0.20500903],\n",
              "       [0.4033395 ],\n",
              "       [0.25229752],\n",
              "       [0.22722332],\n",
              "       [0.03943072],\n",
              "       [0.94358486],\n",
              "       [0.22791821],\n",
              "       [0.01296456],\n",
              "       [0.07183074],\n",
              "       [0.4401812 ],\n",
              "       [0.09662034],\n",
              "       [0.09469672],\n",
              "       [0.9989145 ],\n",
              "       [0.11568594],\n",
              "       [0.05446916],\n",
              "       [0.5968539 ],\n",
              "       [0.03902617],\n",
              "       [0.52048   ],\n",
              "       [0.871694  ],\n",
              "       [0.85872394],\n",
              "       [0.99969995],\n",
              "       [0.6120656 ],\n",
              "       [0.01559501],\n",
              "       [0.81841147],\n",
              "       [0.44108698],\n",
              "       [0.4593261 ],\n",
              "       [0.04443842],\n",
              "       [0.07788256],\n",
              "       [0.93784195],\n",
              "       [0.27367985],\n",
              "       [0.91319686],\n",
              "       [0.04316395],\n",
              "       [0.09686642],\n",
              "       [0.82243884],\n",
              "       [0.03251885],\n",
              "       [0.9299548 ],\n",
              "       [0.28511858],\n",
              "       [0.30524507],\n",
              "       [0.9930714 ],\n",
              "       [0.59398484],\n",
              "       [0.9975625 ],\n",
              "       [0.4391159 ],\n",
              "       [0.31052005],\n",
              "       [0.3966257 ],\n",
              "       [0.9988257 ],\n",
              "       [0.8724389 ],\n",
              "       [0.8799724 ],\n",
              "       [0.84005344],\n",
              "       [0.7429792 ],\n",
              "       [0.2679479 ],\n",
              "       [0.98269963],\n",
              "       [0.38667423],\n",
              "       [0.01982791],\n",
              "       [0.62983316],\n",
              "       [0.05673292],\n",
              "       [0.12542802],\n",
              "       [0.02429304],\n",
              "       [0.54144514],\n",
              "       [0.27821437],\n",
              "       [0.5561173 ],\n",
              "       [0.8310987 ],\n",
              "       [0.18591088],\n",
              "       [0.10615121],\n",
              "       [0.21005352],\n",
              "       [0.01665036],\n",
              "       [0.27763095],\n",
              "       [0.02589949],\n",
              "       [0.97478795],\n",
              "       [0.6434517 ],\n",
              "       [0.4284096 ],\n",
              "       [0.9987072 ],\n",
              "       [0.96227926],\n",
              "       [0.977353  ],\n",
              "       [0.17069016],\n",
              "       [0.02264192],\n",
              "       [0.0372446 ],\n",
              "       [0.93864655],\n",
              "       [0.63116986],\n",
              "       [0.06665166],\n",
              "       [0.33237344],\n",
              "       [0.99804366],\n",
              "       [0.3954016 ],\n",
              "       [0.6816407 ],\n",
              "       [0.00101072],\n",
              "       [0.10995886],\n",
              "       [0.96731514],\n",
              "       [0.6737054 ],\n",
              "       [0.0222787 ],\n",
              "       [0.33943456],\n",
              "       [0.3201628 ],\n",
              "       [0.04951929],\n",
              "       [0.3242465 ],\n",
              "       [0.6561474 ],\n",
              "       [0.16882788],\n",
              "       [0.99893075],\n",
              "       [0.9989097 ],\n",
              "       [0.07708824],\n",
              "       [0.07970917],\n",
              "       [0.1714488 ],\n",
              "       [0.25104576],\n",
              "       [0.9958175 ],\n",
              "       [0.78650343],\n",
              "       [0.12660941],\n",
              "       [0.20898138],\n",
              "       [0.10127132],\n",
              "       [0.9966569 ],\n",
              "       [0.5818317 ],\n",
              "       [0.01878584],\n",
              "       [0.9924509 ],\n",
              "       [0.40826303],\n",
              "       [0.04131777],\n",
              "       [0.07344583],\n",
              "       [0.4627162 ],\n",
              "       [0.9418116 ],\n",
              "       [0.3242465 ],\n",
              "       [0.45570022],\n",
              "       [0.10371701],\n",
              "       [0.06076488],\n",
              "       [0.26302946],\n",
              "       [0.99969995],\n",
              "       [0.19132738],\n",
              "       [0.01534812],\n",
              "       [0.50937086],\n",
              "       [0.09783538],\n",
              "       [0.92132956],\n",
              "       [0.17227532],\n",
              "       [0.6857873 ],\n",
              "       [0.04717334],\n",
              "       [0.8247949 ],\n",
              "       [0.5277703 ],\n",
              "       [0.24995573],\n",
              "       [0.23880701],\n",
              "       [0.6942516 ],\n",
              "       [0.5575016 ],\n",
              "       [0.72264165],\n",
              "       [0.5505318 ],\n",
              "       [0.8579683 ],\n",
              "       [0.31477335],\n",
              "       [0.18684895],\n",
              "       [0.11598538],\n",
              "       [0.25920594],\n",
              "       [0.1610123 ],\n",
              "       [0.9997142 ],\n",
              "       [0.8499432 ],\n",
              "       [0.98227066],\n",
              "       [0.9949905 ],\n",
              "       [0.07310142],\n",
              "       [0.6579554 ],\n",
              "       [0.3044287 ],\n",
              "       [0.96044683],\n",
              "       [0.55577314],\n",
              "       [0.5580063 ],\n",
              "       [0.6535126 ],\n",
              "       [0.99969995],\n",
              "       [0.13706398],\n",
              "       [0.0462903 ],\n",
              "       [0.18578832],\n",
              "       [0.9866651 ],\n",
              "       [0.3777852 ],\n",
              "       [0.029116  ],\n",
              "       [0.04431649],\n",
              "       [0.78328675],\n",
              "       [0.07025091],\n",
              "       [0.9996561 ],\n",
              "       [0.7410884 ],\n",
              "       [0.9266482 ],\n",
              "       [0.06634771],\n",
              "       [0.13897604],\n",
              "       [0.0393015 ],\n",
              "       [0.04950644],\n",
              "       [0.34172997],\n",
              "       [0.17513202],\n",
              "       [0.04495303],\n",
              "       [0.67267585],\n",
              "       [0.30986503],\n",
              "       [0.03968795],\n",
              "       [0.05167522],\n",
              "       [0.02837863],\n",
              "       [0.42512107],\n",
              "       [0.00851312],\n",
              "       [0.2048254 ],\n",
              "       [0.07067887],\n",
              "       [0.04459583],\n",
              "       [0.06012539],\n",
              "       [0.04884896],\n",
              "       [0.06904294],\n",
              "       [0.16819252],\n",
              "       [0.00703202],\n",
              "       [0.38639858],\n",
              "       [0.9892047 ],\n",
              "       [0.88708395],\n",
              "       [0.19198115],\n",
              "       [0.9080946 ],\n",
              "       [0.14560845],\n",
              "       [0.47795275],\n",
              "       [0.1080815 ],\n",
              "       [0.03761932],\n",
              "       [0.9996561 ],\n",
              "       [0.03131203],\n",
              "       [0.02345508],\n",
              "       [0.02106824],\n",
              "       [0.9681091 ],\n",
              "       [0.8192944 ],\n",
              "       [0.9975625 ],\n",
              "       [0.04843948],\n",
              "       [0.11065778],\n",
              "       [0.2724985 ],\n",
              "       [0.98199505],\n",
              "       [0.11617402],\n",
              "       [0.08992174],\n",
              "       [0.9975048 ],\n",
              "       [0.05911844],\n",
              "       [0.32440388],\n",
              "       [0.00626208],\n",
              "       [0.9986834 ],\n",
              "       [0.8929062 ],\n",
              "       [0.14972812],\n",
              "       [0.05018899],\n",
              "       [0.05400163],\n",
              "       [0.3866626 ],\n",
              "       [0.93182474],\n",
              "       [0.492447  ],\n",
              "       [0.506297  ],\n",
              "       [0.7534224 ],\n",
              "       [0.15618187],\n",
              "       [0.4051785 ],\n",
              "       [0.95531535],\n",
              "       [0.9996418 ],\n",
              "       [0.02380664],\n",
              "       [0.1185047 ],\n",
              "       [0.08298927],\n",
              "       [0.07038168],\n",
              "       [0.5591941 ],\n",
              "       [0.8132266 ],\n",
              "       [0.25230554],\n",
              "       [0.06640221],\n",
              "       [0.02043984],\n",
              "       [0.05126621],\n",
              "       [0.14544229],\n",
              "       [0.11925898],\n",
              "       [0.28440964],\n",
              "       [0.6878984 ],\n",
              "       [0.96399075],\n",
              "       [0.2496917 ],\n",
              "       [0.1653654 ],\n",
              "       [0.9994578 ],\n",
              "       [0.24857117],\n",
              "       [0.06829596],\n",
              "       [0.9172181 ],\n",
              "       [0.08553141],\n",
              "       [0.14557423],\n",
              "       [0.318699  ],\n",
              "       [0.40245423],\n",
              "       [0.07944489],\n",
              "       [0.99762803],\n",
              "       [0.06930012],\n",
              "       [0.2353522 ],\n",
              "       [0.15939564],\n",
              "       [0.3882126 ],\n",
              "       [0.05851215],\n",
              "       [0.47830614],\n",
              "       [0.08603217],\n",
              "       [0.0397478 ],\n",
              "       [0.3242465 ],\n",
              "       [0.33686504],\n",
              "       [0.36418733],\n",
              "       [0.02158928],\n",
              "       [0.67391825],\n",
              "       [0.9995547 ],\n",
              "       [0.98135287],\n",
              "       [0.357493  ],\n",
              "       [0.13956809],\n",
              "       [0.569817  ],\n",
              "       [0.05476549],\n",
              "       [0.2985406 ],\n",
              "       [0.8549035 ],\n",
              "       [0.02379462],\n",
              "       [0.9689841 ],\n",
              "       [0.7842204 ],\n",
              "       [0.0819685 ],\n",
              "       [0.9991161 ],\n",
              "       [0.33209935],\n",
              "       [0.99543446],\n",
              "       [0.01821997],\n",
              "       [0.02093399],\n",
              "       [0.3277169 ],\n",
              "       [0.3963873 ],\n",
              "       [0.3405445 ],\n",
              "       [0.14544526],\n",
              "       [0.038486  ],\n",
              "       [0.19373344],\n",
              "       [0.3535778 ],\n",
              "       [0.25038674],\n",
              "       [0.54377735],\n",
              "       [0.23673812],\n",
              "       [0.1705362 ],\n",
              "       [0.20879014],\n",
              "       [0.07135761],\n",
              "       [0.28691182],\n",
              "       [0.3391828 ],\n",
              "       [0.9988354 ],\n",
              "       [0.97074497],\n",
              "       [0.5465385 ],\n",
              "       [0.46975532],\n",
              "       [0.31572527],\n",
              "       [0.05329251],\n",
              "       [0.03229801],\n",
              "       [0.8954625 ],\n",
              "       [0.00659251],\n",
              "       [0.98698914],\n",
              "       [0.09505773],\n",
              "       [0.15420887],\n",
              "       [0.9981238 ],\n",
              "       [0.18467657],\n",
              "       [0.26404044],\n",
              "       [0.29799354],\n",
              "       [0.3737692 ],\n",
              "       [0.15256687],\n",
              "       [0.48904732],\n",
              "       [0.50048786],\n",
              "       [0.85301304],\n",
              "       [0.03895642],\n",
              "       [0.9988257 ],\n",
              "       [0.0929238 ],\n",
              "       [0.15702824],\n",
              "       [0.5978471 ],\n",
              "       [0.88460904],\n",
              "       [0.4064266 ],\n",
              "       [0.79738605],\n",
              "       [0.11977275],\n",
              "       [0.33524612],\n",
              "       [0.977931  ],\n",
              "       [0.00872411],\n",
              "       [0.9068319 ],\n",
              "       [0.01996788],\n",
              "       [0.04189237],\n",
              "       [0.93439275],\n",
              "       [0.9390298 ],\n",
              "       [0.9989272 ],\n",
              "       [0.92889845],\n",
              "       [0.62856066],\n",
              "       [0.5429458 ],\n",
              "       [0.14043693],\n",
              "       [0.20453662],\n",
              "       [0.47094816],\n",
              "       [0.9503356 ],\n",
              "       [0.20447029],\n",
              "       [0.43593824],\n",
              "       [0.5720504 ],\n",
              "       [0.08549812],\n",
              "       [0.97091717],\n",
              "       [0.9875102 ],\n",
              "       [0.00703202],\n",
              "       [0.999835  ],\n",
              "       [0.844759  ],\n",
              "       [0.2299524 ],\n",
              "       [0.2340827 ],\n",
              "       [0.76420474],\n",
              "       [0.05717377],\n",
              "       [0.03939103],\n",
              "       [0.9045103 ],\n",
              "       [0.22263356],\n",
              "       [0.02367186],\n",
              "       [0.3812302 ],\n",
              "       [0.9140029 ],\n",
              "       [0.16100359],\n",
              "       [0.83541197],\n",
              "       [0.05064066],\n",
              "       [0.9050519 ],\n",
              "       [0.9970497 ],\n",
              "       [0.03621204],\n",
              "       [0.9521573 ],\n",
              "       [0.37199655],\n",
              "       [0.3196245 ],\n",
              "       [0.9977836 ],\n",
              "       [0.29125014],\n",
              "       [0.88766044],\n",
              "       [0.22267309],\n",
              "       [0.42384663],\n",
              "       [0.7121908 ],\n",
              "       [0.2830681 ],\n",
              "       [0.03663621],\n",
              "       [0.05460497],\n",
              "       [0.131591  ],\n",
              "       [0.3478792 ],\n",
              "       [0.8452485 ],\n",
              "       [0.9984647 ],\n",
              "       [0.00297495],\n",
              "       [0.6294889 ],\n",
              "       [0.05216809],\n",
              "       [0.212179  ],\n",
              "       [0.1902136 ],\n",
              "       [0.7522413 ],\n",
              "       [0.24579598],\n",
              "       [0.93234766],\n",
              "       [0.9758421 ],\n",
              "       [0.41172752],\n",
              "       [0.85126114],\n",
              "       [0.5793053 ],\n",
              "       [0.00815884],\n",
              "       [0.8331874 ],\n",
              "       [0.12562215],\n",
              "       [0.01966455],\n",
              "       [0.02257406],\n",
              "       [0.09384165],\n",
              "       [0.14043255],\n",
              "       [0.9963787 ],\n",
              "       [0.16840787],\n",
              "       [0.82449627],\n",
              "       [0.07510002],\n",
              "       [0.99378055],\n",
              "       [0.33524612],\n",
              "       [0.6675415 ],\n",
              "       [0.25629845],\n",
              "       [0.02718651],\n",
              "       [0.6298679 ],\n",
              "       [0.53202456],\n",
              "       [0.8761254 ],\n",
              "       [0.08825175],\n",
              "       [0.5848971 ],\n",
              "       [0.9531696 ],\n",
              "       [0.05619206],\n",
              "       [0.24951594],\n",
              "       [0.576166  ],\n",
              "       [0.9383656 ],\n",
              "       [0.6519523 ],\n",
              "       [0.05445468],\n",
              "       [0.9996196 ],\n",
              "       [0.04565069],\n",
              "       [0.99351937],\n",
              "       [0.9167693 ],\n",
              "       [0.13407417],\n",
              "       [0.91607875],\n",
              "       [0.77445555],\n",
              "       [0.41321883],\n",
              "       [0.17710784],\n",
              "       [0.9910892 ],\n",
              "       [0.6152438 ],\n",
              "       [0.30819166],\n",
              "       [0.05879975],\n",
              "       [0.7724374 ],\n",
              "       [0.8399256 ],\n",
              "       [0.99811256],\n",
              "       [0.19719839],\n",
              "       [0.83094555],\n",
              "       [0.14296041],\n",
              "       [0.7948659 ],\n",
              "       [0.90001166],\n",
              "       [0.24779868],\n",
              "       [0.467224  ],\n",
              "       [0.10361507],\n",
              "       [0.1701116 ],\n",
              "       [0.97278124],\n",
              "       [0.04990838]], dtype=float32)"
            ]
          },
          "metadata": {},
          "execution_count": 62
        }
      ]
    },
    {
      "cell_type": "code",
      "source": [
        "# Convert model prediction probabilites to label format\n",
        "model_1_preds = tf.squeeze(tf.round(model_1_pred_probs))\n",
        "model_1_preds"
      ],
      "metadata": {
        "colab": {
          "base_uri": "https://localhost:8080/"
        },
        "id": "XP6EMp_UTiov",
        "outputId": "6875b4db-c2ba-42d2-85b5-abde36b9fee8"
      },
      "execution_count": 63,
      "outputs": [
        {
          "output_type": "execute_result",
          "data": {
            "text/plain": [
              "<tf.Tensor: shape=(762,), dtype=float32, numpy=\n",
              "array([0., 1., 1., 1., 0., 1., 0., 0., 0., 0., 1., 1., 0., 0., 1., 1., 1.,\n",
              "       0., 0., 1., 0., 1., 0., 0., 0., 1., 0., 0., 0., 1., 0., 1., 1., 0.,\n",
              "       1., 1., 0., 1., 0., 0., 1., 0., 0., 1., 0., 1., 1., 0., 0., 0., 0.,\n",
              "       1., 0., 1., 1., 1., 0., 1., 1., 0., 1., 1., 0., 1., 1., 1., 0., 1.,\n",
              "       1., 1., 0., 1., 1., 1., 0., 1., 1., 0., 0., 1., 0., 1., 0., 0., 1.,\n",
              "       0., 1., 0., 0., 0., 1., 0., 1., 1., 1., 0., 1., 1., 0., 1., 0., 0.,\n",
              "       1., 0., 1., 1., 0., 1., 1., 0., 1., 0., 0., 0., 1., 0., 0., 0., 0.,\n",
              "       0., 0., 0., 0., 1., 1., 1., 1., 0., 0., 1., 1., 0., 0., 0., 0., 1.,\n",
              "       0., 1., 0., 1., 1., 0., 1., 1., 1., 1., 0., 1., 1., 1., 0., 1., 0.,\n",
              "       0., 1., 1., 0., 1., 1., 1., 0., 1., 0., 1., 0., 0., 0., 0., 1., 0.,\n",
              "       1., 1., 1., 0., 1., 1., 0., 1., 1., 0., 1., 0., 0., 1., 1., 0., 0.,\n",
              "       0., 0., 0., 1., 1., 1., 1., 1., 0., 0., 0., 0., 1., 1., 0., 1., 1.,\n",
              "       1., 0., 1., 0., 0., 0., 0., 1., 0., 1., 0., 1., 0., 0., 0., 1., 0.,\n",
              "       0., 0., 1., 0., 0., 1., 1., 0., 1., 0., 1., 1., 1., 0., 0., 0., 1.,\n",
              "       1., 0., 0., 0., 0., 0., 0., 0., 0., 0., 0., 0., 0., 1., 0., 1., 0.,\n",
              "       0., 1., 0., 1., 0., 0., 0., 0., 0., 0., 1., 1., 0., 0., 0., 1., 0.,\n",
              "       0., 1., 0., 1., 1., 0., 0., 0., 1., 0., 1., 1., 0., 0., 0., 1., 0.,\n",
              "       1., 0., 1., 1., 1., 1., 1., 0., 1., 0., 1., 0., 1., 0., 1., 0., 1.,\n",
              "       0., 0., 0., 0., 0., 0., 0., 1., 0., 0., 0., 0., 0., 0., 1., 0., 0.,\n",
              "       1., 0., 1., 1., 1., 1., 1., 0., 1., 0., 0., 0., 0., 1., 0., 1., 0.,\n",
              "       0., 1., 0., 1., 0., 0., 1., 1., 1., 0., 0., 0., 1., 1., 1., 1., 1.,\n",
              "       0., 1., 0., 0., 1., 0., 0., 0., 1., 0., 1., 1., 0., 0., 0., 0., 0.,\n",
              "       0., 1., 1., 0., 1., 1., 1., 0., 0., 0., 1., 1., 0., 0., 1., 0., 1.,\n",
              "       0., 0., 1., 1., 0., 0., 0., 0., 0., 1., 0., 1., 1., 0., 0., 0., 0.,\n",
              "       1., 1., 0., 0., 0., 1., 1., 0., 1., 0., 0., 0., 0., 1., 0., 0., 0.,\n",
              "       0., 0., 1., 0., 0., 1., 0., 1., 0., 1., 0., 1., 1., 0., 0., 1., 1.,\n",
              "       1., 1., 1., 0., 0., 0., 0., 0., 1., 1., 1., 1., 0., 1., 0., 1., 1.,\n",
              "       1., 1., 1., 0., 0., 0., 1., 0., 0., 0., 1., 0., 1., 1., 1., 0., 0.,\n",
              "       0., 0., 0., 0., 0., 1., 0., 0., 0., 0., 0., 0., 0., 0., 0., 0., 0.,\n",
              "       0., 0., 0., 0., 1., 1., 0., 1., 0., 0., 0., 0., 1., 0., 0., 0., 1.,\n",
              "       1., 1., 0., 0., 0., 1., 0., 0., 1., 0., 0., 0., 1., 1., 0., 0., 0.,\n",
              "       0., 1., 0., 1., 1., 0., 0., 1., 1., 0., 0., 0., 0., 1., 1., 0., 0.,\n",
              "       0., 0., 0., 0., 0., 1., 1., 0., 0., 1., 0., 0., 1., 0., 0., 0., 0.,\n",
              "       0., 1., 0., 0., 0., 0., 0., 0., 0., 0., 0., 0., 0., 0., 1., 1., 1.,\n",
              "       0., 0., 1., 0., 0., 1., 0., 1., 1., 0., 1., 0., 1., 0., 0., 0., 0.,\n",
              "       0., 0., 0., 0., 0., 0., 1., 0., 0., 0., 0., 0., 0., 1., 1., 1., 0.,\n",
              "       0., 0., 0., 1., 0., 1., 0., 0., 1., 0., 0., 0., 0., 0., 0., 1., 1.,\n",
              "       0., 1., 0., 0., 1., 1., 0., 1., 0., 0., 1., 0., 1., 0., 0., 1., 1.,\n",
              "       1., 1., 1., 1., 0., 0., 0., 1., 0., 0., 1., 0., 1., 1., 0., 1., 1.,\n",
              "       0., 0., 1., 0., 0., 1., 0., 0., 0., 1., 0., 1., 0., 1., 1., 0., 1.,\n",
              "       0., 0., 1., 0., 1., 0., 0., 1., 0., 0., 0., 0., 0., 1., 1., 0., 1.,\n",
              "       0., 0., 0., 1., 0., 1., 1., 0., 1., 1., 0., 1., 0., 0., 0., 0., 0.,\n",
              "       1., 0., 1., 0., 1., 0., 1., 0., 0., 1., 1., 1., 0., 1., 1., 0., 0.,\n",
              "       1., 1., 1., 0., 1., 0., 1., 1., 0., 1., 1., 0., 0., 1., 1., 0., 0.,\n",
              "       1., 1., 1., 0., 1., 0., 1., 1., 0., 0., 0., 0., 1., 0.],\n",
              "      dtype=float32)>"
            ]
          },
          "metadata": {},
          "execution_count": 63
        }
      ]
    },
    {
      "cell_type": "code",
      "source": [
        "# Calculate our model_1 results\n",
        "model_1_results = calculate_results(y_true=val_labels,\n",
        "                                    y_pred=model_1_preds)\n",
        "model_1_results"
      ],
      "metadata": {
        "colab": {
          "base_uri": "https://localhost:8080/"
        },
        "id": "u8ERL84JVaBx",
        "outputId": "189e11ad-7211-43dc-c700-78d5cc47b9bd"
      },
      "execution_count": 64,
      "outputs": [
        {
          "output_type": "execute_result",
          "data": {
            "text/plain": [
              "{'accuracy': 80.5774278215223,\n",
              " 'precision': 0.8053042657607273,\n",
              " 'recall': 0.8057742782152231,\n",
              " 'f1': 0.805398496755981}"
            ]
          },
          "metadata": {},
          "execution_count": 64
        }
      ]
    },
    {
      "cell_type": "code",
      "source": [
        "baseline_results"
      ],
      "metadata": {
        "colab": {
          "base_uri": "https://localhost:8080/"
        },
        "id": "IBLPxJhQVnkQ",
        "outputId": "356da5ec-4554-4df1-9d66-90aa6d028313"
      },
      "execution_count": 65,
      "outputs": [
        {
          "output_type": "execute_result",
          "data": {
            "text/plain": [
              "{'accuracy': 79.79002624671917,\n",
              " 'precision': 0.805269198642199,\n",
              " 'recall': 0.7979002624671916,\n",
              " 'f1': 0.7929822281460398}"
            ]
          },
          "metadata": {},
          "execution_count": 65
        }
      ]
    },
    {
      "cell_type": "code",
      "source": [
        "import numpy as np\n",
        "np.array(list(model_1_results.values())) > np.array(list(baseline_results.values()))"
      ],
      "metadata": {
        "colab": {
          "base_uri": "https://localhost:8080/"
        },
        "id": "10RgliZNVu0C",
        "outputId": "296a73a8-bf32-4231-83ef-39e22da25e88"
      },
      "execution_count": 70,
      "outputs": [
        {
          "output_type": "execute_result",
          "data": {
            "text/plain": [
              "array([ True,  True,  True,  True])"
            ]
          },
          "metadata": {},
          "execution_count": 70
        }
      ]
    },
    {
      "cell_type": "code",
      "source": [],
      "metadata": {
        "id": "j6hEzWJcV5xK"
      },
      "execution_count": null,
      "outputs": []
    }
  ]
}