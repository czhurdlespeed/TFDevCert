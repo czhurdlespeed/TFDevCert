{
  "nbformat": 4,
  "nbformat_minor": 0,
  "metadata": {
    "colab": {
      "provenance": [],
      "gpuType": "T4",
      "authorship_tag": "ABX9TyOyTTAzQhfK+IlTN0urrhDp",
      "include_colab_link": true
    },
    "kernelspec": {
      "name": "python3",
      "display_name": "Python 3"
    },
    "language_info": {
      "name": "python"
    },
    "accelerator": "GPU"
  },
  "cells": [
    {
      "cell_type": "markdown",
      "metadata": {
        "id": "view-in-github",
        "colab_type": "text"
      },
      "source": [
        "<a href=\"https://colab.research.google.com/github/czhurdlespeed/TFDevCert/blob/main/TFCert_Practice/08_introduction_to_nlp_in_tensorflow.ipynb\" target=\"_parent\"><img src=\"https://colab.research.google.com/assets/colab-badge.svg\" alt=\"Open In Colab\"/></a>"
      ]
    },
    {
      "cell_type": "markdown",
      "source": [
        "# Introduction to NLP Fundamentals in TensorFlow"
      ],
      "metadata": {
        "id": "nysZGP4k6iqy"
      }
    },
    {
      "cell_type": "markdown",
      "source": [
        "## Check for GPU"
      ],
      "metadata": {
        "id": "Zslvaabd-gIt"
      }
    },
    {
      "cell_type": "code",
      "source": [
        "!nvidia-smi -L"
      ],
      "metadata": {
        "colab": {
          "base_uri": "https://localhost:8080/"
        },
        "id": "CtM-62-y-vjE",
        "outputId": "3d1f5b42-6f22-4415-d622-140b5c312d2c"
      },
      "execution_count": 192,
      "outputs": [
        {
          "output_type": "stream",
          "name": "stdout",
          "text": [
            "GPU 0: Tesla T4 (UUID: GPU-756ae205-fd00-a725-b1b7-9297870d5bb7)\n"
          ]
        }
      ]
    },
    {
      "cell_type": "markdown",
      "source": [
        "## Import Helper Functions"
      ],
      "metadata": {
        "id": "AHWR509m-xzJ"
      }
    },
    {
      "cell_type": "code",
      "source": [
        "!wget https://github.com/mrdbourke/tensorflow-deep-learning/raw/main/extras/helper_functions.py\n",
        "from helper_functions import unzip_data, create_tensorboard_callback, plot_loss_curves, compare_historys"
      ],
      "metadata": {
        "colab": {
          "base_uri": "https://localhost:8080/"
        },
        "id": "TqVEAIZ6_Ikb",
        "outputId": "0de0cb31-3bb9-414d-cce8-c97f9aed5b4d"
      },
      "execution_count": 193,
      "outputs": [
        {
          "output_type": "stream",
          "name": "stdout",
          "text": [
            "--2024-05-09 13:20:12--  https://github.com/mrdbourke/tensorflow-deep-learning/raw/main/extras/helper_functions.py\n",
            "Resolving github.com (github.com)... 20.205.243.166\n",
            "Connecting to github.com (github.com)|20.205.243.166|:443... connected.\n",
            "HTTP request sent, awaiting response... 302 Found\n",
            "Location: https://raw.githubusercontent.com/mrdbourke/tensorflow-deep-learning/main/extras/helper_functions.py [following]\n",
            "--2024-05-09 13:20:12--  https://raw.githubusercontent.com/mrdbourke/tensorflow-deep-learning/main/extras/helper_functions.py\n",
            "Resolving raw.githubusercontent.com (raw.githubusercontent.com)... 185.199.109.133, 185.199.108.133, 185.199.110.133, ...\n",
            "Connecting to raw.githubusercontent.com (raw.githubusercontent.com)|185.199.109.133|:443... connected.\n",
            "HTTP request sent, awaiting response... 200 OK\n",
            "Length: 10246 (10K) [text/plain]\n",
            "Saving to: ‘helper_functions.py.4’\n",
            "\n",
            "helper_functions.py 100%[===================>]  10.01K  --.-KB/s    in 0s      \n",
            "\n",
            "2024-05-09 13:20:12 (89.3 MB/s) - ‘helper_functions.py.4’ saved [10246/10246]\n",
            "\n"
          ]
        }
      ]
    },
    {
      "cell_type": "markdown",
      "source": [
        "## Get a text dataset\n",
        "\n",
        "- Using Kaggle's Introduction to NLP dataset"
      ],
      "metadata": {
        "id": "ivvW7SqD_OlC"
      }
    },
    {
      "cell_type": "code",
      "source": [
        "!wget https://storage.googleapis.com/ztm_tf_course/nlp_getting_started.zip\n",
        "# Uzip data\n",
        "unzip_data(\"nlp_getting_started.zip\")"
      ],
      "metadata": {
        "colab": {
          "base_uri": "https://localhost:8080/"
        },
        "id": "kcRPixgr_aYY",
        "outputId": "c4c3108f-f0e8-41f7-a213-506bd5ef6ac5"
      },
      "execution_count": 194,
      "outputs": [
        {
          "output_type": "stream",
          "name": "stdout",
          "text": [
            "--2024-05-09 13:20:12--  https://storage.googleapis.com/ztm_tf_course/nlp_getting_started.zip\n",
            "Resolving storage.googleapis.com (storage.googleapis.com)... 172.253.118.207, 74.125.200.207, 74.125.130.207, ...\n",
            "Connecting to storage.googleapis.com (storage.googleapis.com)|172.253.118.207|:443... connected.\n",
            "HTTP request sent, awaiting response... 200 OK\n",
            "Length: 607343 (593K) [application/zip]\n",
            "Saving to: ‘nlp_getting_started.zip.4’\n",
            "\n",
            "nlp_getting_started 100%[===================>] 593.11K   734KB/s    in 0.8s    \n",
            "\n",
            "2024-05-09 13:20:14 (734 KB/s) - ‘nlp_getting_started.zip.4’ saved [607343/607343]\n",
            "\n"
          ]
        }
      ]
    },
    {
      "cell_type": "markdown",
      "source": [
        "## Visualizing a text dataset"
      ],
      "metadata": {
        "id": "lWLQdINx_09d"
      }
    },
    {
      "cell_type": "code",
      "source": [
        "import pandas as pd\n",
        "train_df = pd.read_csv(\"train.csv\")\n",
        "test_df = pd.read_csv(\"test.csv\")\n",
        "train_df.head()"
      ],
      "metadata": {
        "colab": {
          "base_uri": "https://localhost:8080/",
          "height": 206
        },
        "id": "ZbI_V54rAHlZ",
        "outputId": "0c98540b-4b6e-4a0d-8f93-8b63766d0479"
      },
      "execution_count": 195,
      "outputs": [
        {
          "output_type": "execute_result",
          "data": {
            "text/plain": [
              "   id keyword location                                               text  \\\n",
              "0   1     NaN      NaN  Our Deeds are the Reason of this #earthquake M...   \n",
              "1   4     NaN      NaN             Forest fire near La Ronge Sask. Canada   \n",
              "2   5     NaN      NaN  All residents asked to 'shelter in place' are ...   \n",
              "3   6     NaN      NaN  13,000 people receive #wildfires evacuation or...   \n",
              "4   7     NaN      NaN  Just got sent this photo from Ruby #Alaska as ...   \n",
              "\n",
              "   target  \n",
              "0       1  \n",
              "1       1  \n",
              "2       1  \n",
              "3       1  \n",
              "4       1  "
            ],
            "text/html": [
              "\n",
              "  <div id=\"df-96f669fc-e803-484f-bdfd-75ecdce92d49\" class=\"colab-df-container\">\n",
              "    <div>\n",
              "<style scoped>\n",
              "    .dataframe tbody tr th:only-of-type {\n",
              "        vertical-align: middle;\n",
              "    }\n",
              "\n",
              "    .dataframe tbody tr th {\n",
              "        vertical-align: top;\n",
              "    }\n",
              "\n",
              "    .dataframe thead th {\n",
              "        text-align: right;\n",
              "    }\n",
              "</style>\n",
              "<table border=\"1\" class=\"dataframe\">\n",
              "  <thead>\n",
              "    <tr style=\"text-align: right;\">\n",
              "      <th></th>\n",
              "      <th>id</th>\n",
              "      <th>keyword</th>\n",
              "      <th>location</th>\n",
              "      <th>text</th>\n",
              "      <th>target</th>\n",
              "    </tr>\n",
              "  </thead>\n",
              "  <tbody>\n",
              "    <tr>\n",
              "      <th>0</th>\n",
              "      <td>1</td>\n",
              "      <td>NaN</td>\n",
              "      <td>NaN</td>\n",
              "      <td>Our Deeds are the Reason of this #earthquake M...</td>\n",
              "      <td>1</td>\n",
              "    </tr>\n",
              "    <tr>\n",
              "      <th>1</th>\n",
              "      <td>4</td>\n",
              "      <td>NaN</td>\n",
              "      <td>NaN</td>\n",
              "      <td>Forest fire near La Ronge Sask. Canada</td>\n",
              "      <td>1</td>\n",
              "    </tr>\n",
              "    <tr>\n",
              "      <th>2</th>\n",
              "      <td>5</td>\n",
              "      <td>NaN</td>\n",
              "      <td>NaN</td>\n",
              "      <td>All residents asked to 'shelter in place' are ...</td>\n",
              "      <td>1</td>\n",
              "    </tr>\n",
              "    <tr>\n",
              "      <th>3</th>\n",
              "      <td>6</td>\n",
              "      <td>NaN</td>\n",
              "      <td>NaN</td>\n",
              "      <td>13,000 people receive #wildfires evacuation or...</td>\n",
              "      <td>1</td>\n",
              "    </tr>\n",
              "    <tr>\n",
              "      <th>4</th>\n",
              "      <td>7</td>\n",
              "      <td>NaN</td>\n",
              "      <td>NaN</td>\n",
              "      <td>Just got sent this photo from Ruby #Alaska as ...</td>\n",
              "      <td>1</td>\n",
              "    </tr>\n",
              "  </tbody>\n",
              "</table>\n",
              "</div>\n",
              "    <div class=\"colab-df-buttons\">\n",
              "\n",
              "  <div class=\"colab-df-container\">\n",
              "    <button class=\"colab-df-convert\" onclick=\"convertToInteractive('df-96f669fc-e803-484f-bdfd-75ecdce92d49')\"\n",
              "            title=\"Convert this dataframe to an interactive table.\"\n",
              "            style=\"display:none;\">\n",
              "\n",
              "  <svg xmlns=\"http://www.w3.org/2000/svg\" height=\"24px\" viewBox=\"0 -960 960 960\">\n",
              "    <path d=\"M120-120v-720h720v720H120Zm60-500h600v-160H180v160Zm220 220h160v-160H400v160Zm0 220h160v-160H400v160ZM180-400h160v-160H180v160Zm440 0h160v-160H620v160ZM180-180h160v-160H180v160Zm440 0h160v-160H620v160Z\"/>\n",
              "  </svg>\n",
              "    </button>\n",
              "\n",
              "  <style>\n",
              "    .colab-df-container {\n",
              "      display:flex;\n",
              "      gap: 12px;\n",
              "    }\n",
              "\n",
              "    .colab-df-convert {\n",
              "      background-color: #E8F0FE;\n",
              "      border: none;\n",
              "      border-radius: 50%;\n",
              "      cursor: pointer;\n",
              "      display: none;\n",
              "      fill: #1967D2;\n",
              "      height: 32px;\n",
              "      padding: 0 0 0 0;\n",
              "      width: 32px;\n",
              "    }\n",
              "\n",
              "    .colab-df-convert:hover {\n",
              "      background-color: #E2EBFA;\n",
              "      box-shadow: 0px 1px 2px rgba(60, 64, 67, 0.3), 0px 1px 3px 1px rgba(60, 64, 67, 0.15);\n",
              "      fill: #174EA6;\n",
              "    }\n",
              "\n",
              "    .colab-df-buttons div {\n",
              "      margin-bottom: 4px;\n",
              "    }\n",
              "\n",
              "    [theme=dark] .colab-df-convert {\n",
              "      background-color: #3B4455;\n",
              "      fill: #D2E3FC;\n",
              "    }\n",
              "\n",
              "    [theme=dark] .colab-df-convert:hover {\n",
              "      background-color: #434B5C;\n",
              "      box-shadow: 0px 1px 3px 1px rgba(0, 0, 0, 0.15);\n",
              "      filter: drop-shadow(0px 1px 2px rgba(0, 0, 0, 0.3));\n",
              "      fill: #FFFFFF;\n",
              "    }\n",
              "  </style>\n",
              "\n",
              "    <script>\n",
              "      const buttonEl =\n",
              "        document.querySelector('#df-96f669fc-e803-484f-bdfd-75ecdce92d49 button.colab-df-convert');\n",
              "      buttonEl.style.display =\n",
              "        google.colab.kernel.accessAllowed ? 'block' : 'none';\n",
              "\n",
              "      async function convertToInteractive(key) {\n",
              "        const element = document.querySelector('#df-96f669fc-e803-484f-bdfd-75ecdce92d49');\n",
              "        const dataTable =\n",
              "          await google.colab.kernel.invokeFunction('convertToInteractive',\n",
              "                                                    [key], {});\n",
              "        if (!dataTable) return;\n",
              "\n",
              "        const docLinkHtml = 'Like what you see? Visit the ' +\n",
              "          '<a target=\"_blank\" href=https://colab.research.google.com/notebooks/data_table.ipynb>data table notebook</a>'\n",
              "          + ' to learn more about interactive tables.';\n",
              "        element.innerHTML = '';\n",
              "        dataTable['output_type'] = 'display_data';\n",
              "        await google.colab.output.renderOutput(dataTable, element);\n",
              "        const docLink = document.createElement('div');\n",
              "        docLink.innerHTML = docLinkHtml;\n",
              "        element.appendChild(docLink);\n",
              "      }\n",
              "    </script>\n",
              "  </div>\n",
              "\n",
              "\n",
              "<div id=\"df-842d93af-4b79-4acb-aa48-57c933f94c91\">\n",
              "  <button class=\"colab-df-quickchart\" onclick=\"quickchart('df-842d93af-4b79-4acb-aa48-57c933f94c91')\"\n",
              "            title=\"Suggest charts\"\n",
              "            style=\"display:none;\">\n",
              "\n",
              "<svg xmlns=\"http://www.w3.org/2000/svg\" height=\"24px\"viewBox=\"0 0 24 24\"\n",
              "     width=\"24px\">\n",
              "    <g>\n",
              "        <path d=\"M19 3H5c-1.1 0-2 .9-2 2v14c0 1.1.9 2 2 2h14c1.1 0 2-.9 2-2V5c0-1.1-.9-2-2-2zM9 17H7v-7h2v7zm4 0h-2V7h2v10zm4 0h-2v-4h2v4z\"/>\n",
              "    </g>\n",
              "</svg>\n",
              "  </button>\n",
              "\n",
              "<style>\n",
              "  .colab-df-quickchart {\n",
              "      --bg-color: #E8F0FE;\n",
              "      --fill-color: #1967D2;\n",
              "      --hover-bg-color: #E2EBFA;\n",
              "      --hover-fill-color: #174EA6;\n",
              "      --disabled-fill-color: #AAA;\n",
              "      --disabled-bg-color: #DDD;\n",
              "  }\n",
              "\n",
              "  [theme=dark] .colab-df-quickchart {\n",
              "      --bg-color: #3B4455;\n",
              "      --fill-color: #D2E3FC;\n",
              "      --hover-bg-color: #434B5C;\n",
              "      --hover-fill-color: #FFFFFF;\n",
              "      --disabled-bg-color: #3B4455;\n",
              "      --disabled-fill-color: #666;\n",
              "  }\n",
              "\n",
              "  .colab-df-quickchart {\n",
              "    background-color: var(--bg-color);\n",
              "    border: none;\n",
              "    border-radius: 50%;\n",
              "    cursor: pointer;\n",
              "    display: none;\n",
              "    fill: var(--fill-color);\n",
              "    height: 32px;\n",
              "    padding: 0;\n",
              "    width: 32px;\n",
              "  }\n",
              "\n",
              "  .colab-df-quickchart:hover {\n",
              "    background-color: var(--hover-bg-color);\n",
              "    box-shadow: 0 1px 2px rgba(60, 64, 67, 0.3), 0 1px 3px 1px rgba(60, 64, 67, 0.15);\n",
              "    fill: var(--button-hover-fill-color);\n",
              "  }\n",
              "\n",
              "  .colab-df-quickchart-complete:disabled,\n",
              "  .colab-df-quickchart-complete:disabled:hover {\n",
              "    background-color: var(--disabled-bg-color);\n",
              "    fill: var(--disabled-fill-color);\n",
              "    box-shadow: none;\n",
              "  }\n",
              "\n",
              "  .colab-df-spinner {\n",
              "    border: 2px solid var(--fill-color);\n",
              "    border-color: transparent;\n",
              "    border-bottom-color: var(--fill-color);\n",
              "    animation:\n",
              "      spin 1s steps(1) infinite;\n",
              "  }\n",
              "\n",
              "  @keyframes spin {\n",
              "    0% {\n",
              "      border-color: transparent;\n",
              "      border-bottom-color: var(--fill-color);\n",
              "      border-left-color: var(--fill-color);\n",
              "    }\n",
              "    20% {\n",
              "      border-color: transparent;\n",
              "      border-left-color: var(--fill-color);\n",
              "      border-top-color: var(--fill-color);\n",
              "    }\n",
              "    30% {\n",
              "      border-color: transparent;\n",
              "      border-left-color: var(--fill-color);\n",
              "      border-top-color: var(--fill-color);\n",
              "      border-right-color: var(--fill-color);\n",
              "    }\n",
              "    40% {\n",
              "      border-color: transparent;\n",
              "      border-right-color: var(--fill-color);\n",
              "      border-top-color: var(--fill-color);\n",
              "    }\n",
              "    60% {\n",
              "      border-color: transparent;\n",
              "      border-right-color: var(--fill-color);\n",
              "    }\n",
              "    80% {\n",
              "      border-color: transparent;\n",
              "      border-right-color: var(--fill-color);\n",
              "      border-bottom-color: var(--fill-color);\n",
              "    }\n",
              "    90% {\n",
              "      border-color: transparent;\n",
              "      border-bottom-color: var(--fill-color);\n",
              "    }\n",
              "  }\n",
              "</style>\n",
              "\n",
              "  <script>\n",
              "    async function quickchart(key) {\n",
              "      const quickchartButtonEl =\n",
              "        document.querySelector('#' + key + ' button');\n",
              "      quickchartButtonEl.disabled = true;  // To prevent multiple clicks.\n",
              "      quickchartButtonEl.classList.add('colab-df-spinner');\n",
              "      try {\n",
              "        const charts = await google.colab.kernel.invokeFunction(\n",
              "            'suggestCharts', [key], {});\n",
              "      } catch (error) {\n",
              "        console.error('Error during call to suggestCharts:', error);\n",
              "      }\n",
              "      quickchartButtonEl.classList.remove('colab-df-spinner');\n",
              "      quickchartButtonEl.classList.add('colab-df-quickchart-complete');\n",
              "    }\n",
              "    (() => {\n",
              "      let quickchartButtonEl =\n",
              "        document.querySelector('#df-842d93af-4b79-4acb-aa48-57c933f94c91 button');\n",
              "      quickchartButtonEl.style.display =\n",
              "        google.colab.kernel.accessAllowed ? 'block' : 'none';\n",
              "    })();\n",
              "  </script>\n",
              "</div>\n",
              "\n",
              "    </div>\n",
              "  </div>\n"
            ],
            "application/vnd.google.colaboratory.intrinsic+json": {
              "type": "dataframe",
              "variable_name": "train_df",
              "summary": "{\n  \"name\": \"train_df\",\n  \"rows\": 7613,\n  \"fields\": [\n    {\n      \"column\": \"id\",\n      \"properties\": {\n        \"dtype\": \"number\",\n        \"std\": 3137,\n        \"min\": 1,\n        \"max\": 10873,\n        \"num_unique_values\": 7613,\n        \"samples\": [\n          3796,\n          3185,\n          7769\n        ],\n        \"semantic_type\": \"\",\n        \"description\": \"\"\n      }\n    },\n    {\n      \"column\": \"keyword\",\n      \"properties\": {\n        \"dtype\": \"category\",\n        \"num_unique_values\": 221,\n        \"samples\": [\n          \"injury\",\n          \"nuclear%20reactor\",\n          \"engulfed\"\n        ],\n        \"semantic_type\": \"\",\n        \"description\": \"\"\n      }\n    },\n    {\n      \"column\": \"location\",\n      \"properties\": {\n        \"dtype\": \"category\",\n        \"num_unique_values\": 3341,\n        \"samples\": [\n          \"Oklahoma\",\n          \"Starling City\",\n          \"Trinidad and Tobago\"\n        ],\n        \"semantic_type\": \"\",\n        \"description\": \"\"\n      }\n    },\n    {\n      \"column\": \"text\",\n      \"properties\": {\n        \"dtype\": \"string\",\n        \"num_unique_values\": 7503,\n        \"samples\": [\n          \"Three Homes Demolished in Unrecognized Arab Village - International Middle East Media Center http://t.co/ik8m4Yi9T4\",\n          \"Reid Lake fire prompts campground evacuation order http://t.co/jBODKM6rBU\",\n          \"FAAN orders evacuation of abandoned aircraft at MMA http://t.co/dEvYbnVXGQ via @todayng\"\n        ],\n        \"semantic_type\": \"\",\n        \"description\": \"\"\n      }\n    },\n    {\n      \"column\": \"target\",\n      \"properties\": {\n        \"dtype\": \"number\",\n        \"std\": 0,\n        \"min\": 0,\n        \"max\": 1,\n        \"num_unique_values\": 2,\n        \"samples\": [\n          0,\n          1\n        ],\n        \"semantic_type\": \"\",\n        \"description\": \"\"\n      }\n    }\n  ]\n}"
            }
          },
          "metadata": {},
          "execution_count": 195
        }
      ]
    },
    {
      "cell_type": "code",
      "source": [
        "train_df[\"text\"][100]"
      ],
      "metadata": {
        "colab": {
          "base_uri": "https://localhost:8080/",
          "height": 35
        },
        "id": "RjxZaSj9AyF5",
        "outputId": "472bddc5-cd5e-45f8-f6af-43b3f0f3826d"
      },
      "execution_count": 196,
      "outputs": [
        {
          "output_type": "execute_result",
          "data": {
            "text/plain": [
              "'.@NorwayMFA #Bahrain police had previously died in a road accident they were not killed by explosion https://t.co/gFJfgTodad'"
            ],
            "application/vnd.google.colaboratory.intrinsic+json": {
              "type": "string"
            }
          },
          "metadata": {},
          "execution_count": 196
        }
      ]
    },
    {
      "cell_type": "code",
      "source": [
        "# Shuffle training datafram\n",
        "train_df_shuffled = train_df.sample(frac=1)\n",
        "train_df_shuffled.head()"
      ],
      "metadata": {
        "colab": {
          "base_uri": "https://localhost:8080/",
          "height": 206
        },
        "id": "Nm_KVV2FA331",
        "outputId": "58481f9b-5800-43f0-c2b4-8dd1920ed71c"
      },
      "execution_count": 197,
      "outputs": [
        {
          "output_type": "execute_result",
          "data": {
            "text/plain": [
              "         id     keyword    location  \\\n",
              "7258  10392   whirlwind   Frostburg   \n",
              "5388   7688       panic   Macon, GA   \n",
              "1667   2409     collide  Melton, GA   \n",
              "380     546       arson         NaN   \n",
              "2461   3529  derailment         NaN   \n",
              "\n",
              "                                                   text  target  \n",
              "7258               HELP I'M IN A WHIRLWIND OF NOSTALGIA       0  \n",
              "5388  Romantic dramatic but never panic original sen...       0  \n",
              "1667  Somehow find you and I collide http://t.co/Ee8...       0  \n",
              "380   Two Jewish Terrorists Charged In Historic-Chur...       0  \n",
              "2461  #???? #?? #??? #??? Trains derailment: 'It's t...       1  "
            ],
            "text/html": [
              "\n",
              "  <div id=\"df-d3dc3108-c5a2-49c8-b89a-b298a191ada1\" class=\"colab-df-container\">\n",
              "    <div>\n",
              "<style scoped>\n",
              "    .dataframe tbody tr th:only-of-type {\n",
              "        vertical-align: middle;\n",
              "    }\n",
              "\n",
              "    .dataframe tbody tr th {\n",
              "        vertical-align: top;\n",
              "    }\n",
              "\n",
              "    .dataframe thead th {\n",
              "        text-align: right;\n",
              "    }\n",
              "</style>\n",
              "<table border=\"1\" class=\"dataframe\">\n",
              "  <thead>\n",
              "    <tr style=\"text-align: right;\">\n",
              "      <th></th>\n",
              "      <th>id</th>\n",
              "      <th>keyword</th>\n",
              "      <th>location</th>\n",
              "      <th>text</th>\n",
              "      <th>target</th>\n",
              "    </tr>\n",
              "  </thead>\n",
              "  <tbody>\n",
              "    <tr>\n",
              "      <th>7258</th>\n",
              "      <td>10392</td>\n",
              "      <td>whirlwind</td>\n",
              "      <td>Frostburg</td>\n",
              "      <td>HELP I'M IN A WHIRLWIND OF NOSTALGIA</td>\n",
              "      <td>0</td>\n",
              "    </tr>\n",
              "    <tr>\n",
              "      <th>5388</th>\n",
              "      <td>7688</td>\n",
              "      <td>panic</td>\n",
              "      <td>Macon, GA</td>\n",
              "      <td>Romantic dramatic but never panic original sen...</td>\n",
              "      <td>0</td>\n",
              "    </tr>\n",
              "    <tr>\n",
              "      <th>1667</th>\n",
              "      <td>2409</td>\n",
              "      <td>collide</td>\n",
              "      <td>Melton, GA</td>\n",
              "      <td>Somehow find you and I collide http://t.co/Ee8...</td>\n",
              "      <td>0</td>\n",
              "    </tr>\n",
              "    <tr>\n",
              "      <th>380</th>\n",
              "      <td>546</td>\n",
              "      <td>arson</td>\n",
              "      <td>NaN</td>\n",
              "      <td>Two Jewish Terrorists Charged In Historic-Chur...</td>\n",
              "      <td>0</td>\n",
              "    </tr>\n",
              "    <tr>\n",
              "      <th>2461</th>\n",
              "      <td>3529</td>\n",
              "      <td>derailment</td>\n",
              "      <td>NaN</td>\n",
              "      <td>#???? #?? #??? #??? Trains derailment: 'It's t...</td>\n",
              "      <td>1</td>\n",
              "    </tr>\n",
              "  </tbody>\n",
              "</table>\n",
              "</div>\n",
              "    <div class=\"colab-df-buttons\">\n",
              "\n",
              "  <div class=\"colab-df-container\">\n",
              "    <button class=\"colab-df-convert\" onclick=\"convertToInteractive('df-d3dc3108-c5a2-49c8-b89a-b298a191ada1')\"\n",
              "            title=\"Convert this dataframe to an interactive table.\"\n",
              "            style=\"display:none;\">\n",
              "\n",
              "  <svg xmlns=\"http://www.w3.org/2000/svg\" height=\"24px\" viewBox=\"0 -960 960 960\">\n",
              "    <path d=\"M120-120v-720h720v720H120Zm60-500h600v-160H180v160Zm220 220h160v-160H400v160Zm0 220h160v-160H400v160ZM180-400h160v-160H180v160Zm440 0h160v-160H620v160ZM180-180h160v-160H180v160Zm440 0h160v-160H620v160Z\"/>\n",
              "  </svg>\n",
              "    </button>\n",
              "\n",
              "  <style>\n",
              "    .colab-df-container {\n",
              "      display:flex;\n",
              "      gap: 12px;\n",
              "    }\n",
              "\n",
              "    .colab-df-convert {\n",
              "      background-color: #E8F0FE;\n",
              "      border: none;\n",
              "      border-radius: 50%;\n",
              "      cursor: pointer;\n",
              "      display: none;\n",
              "      fill: #1967D2;\n",
              "      height: 32px;\n",
              "      padding: 0 0 0 0;\n",
              "      width: 32px;\n",
              "    }\n",
              "\n",
              "    .colab-df-convert:hover {\n",
              "      background-color: #E2EBFA;\n",
              "      box-shadow: 0px 1px 2px rgba(60, 64, 67, 0.3), 0px 1px 3px 1px rgba(60, 64, 67, 0.15);\n",
              "      fill: #174EA6;\n",
              "    }\n",
              "\n",
              "    .colab-df-buttons div {\n",
              "      margin-bottom: 4px;\n",
              "    }\n",
              "\n",
              "    [theme=dark] .colab-df-convert {\n",
              "      background-color: #3B4455;\n",
              "      fill: #D2E3FC;\n",
              "    }\n",
              "\n",
              "    [theme=dark] .colab-df-convert:hover {\n",
              "      background-color: #434B5C;\n",
              "      box-shadow: 0px 1px 3px 1px rgba(0, 0, 0, 0.15);\n",
              "      filter: drop-shadow(0px 1px 2px rgba(0, 0, 0, 0.3));\n",
              "      fill: #FFFFFF;\n",
              "    }\n",
              "  </style>\n",
              "\n",
              "    <script>\n",
              "      const buttonEl =\n",
              "        document.querySelector('#df-d3dc3108-c5a2-49c8-b89a-b298a191ada1 button.colab-df-convert');\n",
              "      buttonEl.style.display =\n",
              "        google.colab.kernel.accessAllowed ? 'block' : 'none';\n",
              "\n",
              "      async function convertToInteractive(key) {\n",
              "        const element = document.querySelector('#df-d3dc3108-c5a2-49c8-b89a-b298a191ada1');\n",
              "        const dataTable =\n",
              "          await google.colab.kernel.invokeFunction('convertToInteractive',\n",
              "                                                    [key], {});\n",
              "        if (!dataTable) return;\n",
              "\n",
              "        const docLinkHtml = 'Like what you see? Visit the ' +\n",
              "          '<a target=\"_blank\" href=https://colab.research.google.com/notebooks/data_table.ipynb>data table notebook</a>'\n",
              "          + ' to learn more about interactive tables.';\n",
              "        element.innerHTML = '';\n",
              "        dataTable['output_type'] = 'display_data';\n",
              "        await google.colab.output.renderOutput(dataTable, element);\n",
              "        const docLink = document.createElement('div');\n",
              "        docLink.innerHTML = docLinkHtml;\n",
              "        element.appendChild(docLink);\n",
              "      }\n",
              "    </script>\n",
              "  </div>\n",
              "\n",
              "\n",
              "<div id=\"df-d4b645bb-a963-479b-9f1c-0bfed4111b38\">\n",
              "  <button class=\"colab-df-quickchart\" onclick=\"quickchart('df-d4b645bb-a963-479b-9f1c-0bfed4111b38')\"\n",
              "            title=\"Suggest charts\"\n",
              "            style=\"display:none;\">\n",
              "\n",
              "<svg xmlns=\"http://www.w3.org/2000/svg\" height=\"24px\"viewBox=\"0 0 24 24\"\n",
              "     width=\"24px\">\n",
              "    <g>\n",
              "        <path d=\"M19 3H5c-1.1 0-2 .9-2 2v14c0 1.1.9 2 2 2h14c1.1 0 2-.9 2-2V5c0-1.1-.9-2-2-2zM9 17H7v-7h2v7zm4 0h-2V7h2v10zm4 0h-2v-4h2v4z\"/>\n",
              "    </g>\n",
              "</svg>\n",
              "  </button>\n",
              "\n",
              "<style>\n",
              "  .colab-df-quickchart {\n",
              "      --bg-color: #E8F0FE;\n",
              "      --fill-color: #1967D2;\n",
              "      --hover-bg-color: #E2EBFA;\n",
              "      --hover-fill-color: #174EA6;\n",
              "      --disabled-fill-color: #AAA;\n",
              "      --disabled-bg-color: #DDD;\n",
              "  }\n",
              "\n",
              "  [theme=dark] .colab-df-quickchart {\n",
              "      --bg-color: #3B4455;\n",
              "      --fill-color: #D2E3FC;\n",
              "      --hover-bg-color: #434B5C;\n",
              "      --hover-fill-color: #FFFFFF;\n",
              "      --disabled-bg-color: #3B4455;\n",
              "      --disabled-fill-color: #666;\n",
              "  }\n",
              "\n",
              "  .colab-df-quickchart {\n",
              "    background-color: var(--bg-color);\n",
              "    border: none;\n",
              "    border-radius: 50%;\n",
              "    cursor: pointer;\n",
              "    display: none;\n",
              "    fill: var(--fill-color);\n",
              "    height: 32px;\n",
              "    padding: 0;\n",
              "    width: 32px;\n",
              "  }\n",
              "\n",
              "  .colab-df-quickchart:hover {\n",
              "    background-color: var(--hover-bg-color);\n",
              "    box-shadow: 0 1px 2px rgba(60, 64, 67, 0.3), 0 1px 3px 1px rgba(60, 64, 67, 0.15);\n",
              "    fill: var(--button-hover-fill-color);\n",
              "  }\n",
              "\n",
              "  .colab-df-quickchart-complete:disabled,\n",
              "  .colab-df-quickchart-complete:disabled:hover {\n",
              "    background-color: var(--disabled-bg-color);\n",
              "    fill: var(--disabled-fill-color);\n",
              "    box-shadow: none;\n",
              "  }\n",
              "\n",
              "  .colab-df-spinner {\n",
              "    border: 2px solid var(--fill-color);\n",
              "    border-color: transparent;\n",
              "    border-bottom-color: var(--fill-color);\n",
              "    animation:\n",
              "      spin 1s steps(1) infinite;\n",
              "  }\n",
              "\n",
              "  @keyframes spin {\n",
              "    0% {\n",
              "      border-color: transparent;\n",
              "      border-bottom-color: var(--fill-color);\n",
              "      border-left-color: var(--fill-color);\n",
              "    }\n",
              "    20% {\n",
              "      border-color: transparent;\n",
              "      border-left-color: var(--fill-color);\n",
              "      border-top-color: var(--fill-color);\n",
              "    }\n",
              "    30% {\n",
              "      border-color: transparent;\n",
              "      border-left-color: var(--fill-color);\n",
              "      border-top-color: var(--fill-color);\n",
              "      border-right-color: var(--fill-color);\n",
              "    }\n",
              "    40% {\n",
              "      border-color: transparent;\n",
              "      border-right-color: var(--fill-color);\n",
              "      border-top-color: var(--fill-color);\n",
              "    }\n",
              "    60% {\n",
              "      border-color: transparent;\n",
              "      border-right-color: var(--fill-color);\n",
              "    }\n",
              "    80% {\n",
              "      border-color: transparent;\n",
              "      border-right-color: var(--fill-color);\n",
              "      border-bottom-color: var(--fill-color);\n",
              "    }\n",
              "    90% {\n",
              "      border-color: transparent;\n",
              "      border-bottom-color: var(--fill-color);\n",
              "    }\n",
              "  }\n",
              "</style>\n",
              "\n",
              "  <script>\n",
              "    async function quickchart(key) {\n",
              "      const quickchartButtonEl =\n",
              "        document.querySelector('#' + key + ' button');\n",
              "      quickchartButtonEl.disabled = true;  // To prevent multiple clicks.\n",
              "      quickchartButtonEl.classList.add('colab-df-spinner');\n",
              "      try {\n",
              "        const charts = await google.colab.kernel.invokeFunction(\n",
              "            'suggestCharts', [key], {});\n",
              "      } catch (error) {\n",
              "        console.error('Error during call to suggestCharts:', error);\n",
              "      }\n",
              "      quickchartButtonEl.classList.remove('colab-df-spinner');\n",
              "      quickchartButtonEl.classList.add('colab-df-quickchart-complete');\n",
              "    }\n",
              "    (() => {\n",
              "      let quickchartButtonEl =\n",
              "        document.querySelector('#df-d4b645bb-a963-479b-9f1c-0bfed4111b38 button');\n",
              "      quickchartButtonEl.style.display =\n",
              "        google.colab.kernel.accessAllowed ? 'block' : 'none';\n",
              "    })();\n",
              "  </script>\n",
              "</div>\n",
              "\n",
              "    </div>\n",
              "  </div>\n"
            ],
            "application/vnd.google.colaboratory.intrinsic+json": {
              "type": "dataframe",
              "variable_name": "train_df_shuffled",
              "summary": "{\n  \"name\": \"train_df_shuffled\",\n  \"rows\": 7613,\n  \"fields\": [\n    {\n      \"column\": \"id\",\n      \"properties\": {\n        \"dtype\": \"number\",\n        \"std\": 3137,\n        \"min\": 1,\n        \"max\": 10873,\n        \"num_unique_values\": 7613,\n        \"samples\": [\n          3301,\n          9471,\n          9481\n        ],\n        \"semantic_type\": \"\",\n        \"description\": \"\"\n      }\n    },\n    {\n      \"column\": \"keyword\",\n      \"properties\": {\n        \"dtype\": \"category\",\n        \"num_unique_values\": 221,\n        \"samples\": [\n          \"drowned\",\n          \"rescue\",\n          \"detonation\"\n        ],\n        \"semantic_type\": \"\",\n        \"description\": \"\"\n      }\n    },\n    {\n      \"column\": \"location\",\n      \"properties\": {\n        \"dtype\": \"category\",\n        \"num_unique_values\": 3341,\n        \"samples\": [\n          \"San Luis Obispo, CA\",\n          \"Lakewood, Tennessee\",\n          \"Lancashire, United Kingdom\"\n        ],\n        \"semantic_type\": \"\",\n        \"description\": \"\"\n      }\n    },\n    {\n      \"column\": \"text\",\n      \"properties\": {\n        \"dtype\": \"string\",\n        \"num_unique_values\": 7503,\n        \"samples\": [\n          \"Came across this fire video not mine..enjoy..Babes way of saying hi to me while he's in the fire truck??\\n#fireman #\\u0089\\u00db_ http://t.co/V5gTUnwohy\",\n          \"I hope they fall off a cliff.\",\n          \"@space_wolverine No harm no foul and somebody needed to say it.\"\n        ],\n        \"semantic_type\": \"\",\n        \"description\": \"\"\n      }\n    },\n    {\n      \"column\": \"target\",\n      \"properties\": {\n        \"dtype\": \"number\",\n        \"std\": 0,\n        \"min\": 0,\n        \"max\": 1,\n        \"num_unique_values\": 2,\n        \"samples\": [\n          1,\n          0\n        ],\n        \"semantic_type\": \"\",\n        \"description\": \"\"\n      }\n    }\n  ]\n}"
            }
          },
          "metadata": {},
          "execution_count": 197
        }
      ]
    },
    {
      "cell_type": "code",
      "source": [
        "# What does the test dataframe look like?\n",
        "test_df.head()"
      ],
      "metadata": {
        "colab": {
          "base_uri": "https://localhost:8080/",
          "height": 206
        },
        "id": "inac240VBKW2",
        "outputId": "165dff67-2a8a-4154-f766-9ac393d6fea3"
      },
      "execution_count": 198,
      "outputs": [
        {
          "output_type": "execute_result",
          "data": {
            "text/plain": [
              "   id keyword location                                               text\n",
              "0   0     NaN      NaN                 Just happened a terrible car crash\n",
              "1   2     NaN      NaN  Heard about #earthquake is different cities, s...\n",
              "2   3     NaN      NaN  there is a forest fire at spot pond, geese are...\n",
              "3   9     NaN      NaN           Apocalypse lighting. #Spokane #wildfires\n",
              "4  11     NaN      NaN      Typhoon Soudelor kills 28 in China and Taiwan"
            ],
            "text/html": [
              "\n",
              "  <div id=\"df-743ed799-33f6-461a-b636-e71ec886806f\" class=\"colab-df-container\">\n",
              "    <div>\n",
              "<style scoped>\n",
              "    .dataframe tbody tr th:only-of-type {\n",
              "        vertical-align: middle;\n",
              "    }\n",
              "\n",
              "    .dataframe tbody tr th {\n",
              "        vertical-align: top;\n",
              "    }\n",
              "\n",
              "    .dataframe thead th {\n",
              "        text-align: right;\n",
              "    }\n",
              "</style>\n",
              "<table border=\"1\" class=\"dataframe\">\n",
              "  <thead>\n",
              "    <tr style=\"text-align: right;\">\n",
              "      <th></th>\n",
              "      <th>id</th>\n",
              "      <th>keyword</th>\n",
              "      <th>location</th>\n",
              "      <th>text</th>\n",
              "    </tr>\n",
              "  </thead>\n",
              "  <tbody>\n",
              "    <tr>\n",
              "      <th>0</th>\n",
              "      <td>0</td>\n",
              "      <td>NaN</td>\n",
              "      <td>NaN</td>\n",
              "      <td>Just happened a terrible car crash</td>\n",
              "    </tr>\n",
              "    <tr>\n",
              "      <th>1</th>\n",
              "      <td>2</td>\n",
              "      <td>NaN</td>\n",
              "      <td>NaN</td>\n",
              "      <td>Heard about #earthquake is different cities, s...</td>\n",
              "    </tr>\n",
              "    <tr>\n",
              "      <th>2</th>\n",
              "      <td>3</td>\n",
              "      <td>NaN</td>\n",
              "      <td>NaN</td>\n",
              "      <td>there is a forest fire at spot pond, geese are...</td>\n",
              "    </tr>\n",
              "    <tr>\n",
              "      <th>3</th>\n",
              "      <td>9</td>\n",
              "      <td>NaN</td>\n",
              "      <td>NaN</td>\n",
              "      <td>Apocalypse lighting. #Spokane #wildfires</td>\n",
              "    </tr>\n",
              "    <tr>\n",
              "      <th>4</th>\n",
              "      <td>11</td>\n",
              "      <td>NaN</td>\n",
              "      <td>NaN</td>\n",
              "      <td>Typhoon Soudelor kills 28 in China and Taiwan</td>\n",
              "    </tr>\n",
              "  </tbody>\n",
              "</table>\n",
              "</div>\n",
              "    <div class=\"colab-df-buttons\">\n",
              "\n",
              "  <div class=\"colab-df-container\">\n",
              "    <button class=\"colab-df-convert\" onclick=\"convertToInteractive('df-743ed799-33f6-461a-b636-e71ec886806f')\"\n",
              "            title=\"Convert this dataframe to an interactive table.\"\n",
              "            style=\"display:none;\">\n",
              "\n",
              "  <svg xmlns=\"http://www.w3.org/2000/svg\" height=\"24px\" viewBox=\"0 -960 960 960\">\n",
              "    <path d=\"M120-120v-720h720v720H120Zm60-500h600v-160H180v160Zm220 220h160v-160H400v160Zm0 220h160v-160H400v160ZM180-400h160v-160H180v160Zm440 0h160v-160H620v160ZM180-180h160v-160H180v160Zm440 0h160v-160H620v160Z\"/>\n",
              "  </svg>\n",
              "    </button>\n",
              "\n",
              "  <style>\n",
              "    .colab-df-container {\n",
              "      display:flex;\n",
              "      gap: 12px;\n",
              "    }\n",
              "\n",
              "    .colab-df-convert {\n",
              "      background-color: #E8F0FE;\n",
              "      border: none;\n",
              "      border-radius: 50%;\n",
              "      cursor: pointer;\n",
              "      display: none;\n",
              "      fill: #1967D2;\n",
              "      height: 32px;\n",
              "      padding: 0 0 0 0;\n",
              "      width: 32px;\n",
              "    }\n",
              "\n",
              "    .colab-df-convert:hover {\n",
              "      background-color: #E2EBFA;\n",
              "      box-shadow: 0px 1px 2px rgba(60, 64, 67, 0.3), 0px 1px 3px 1px rgba(60, 64, 67, 0.15);\n",
              "      fill: #174EA6;\n",
              "    }\n",
              "\n",
              "    .colab-df-buttons div {\n",
              "      margin-bottom: 4px;\n",
              "    }\n",
              "\n",
              "    [theme=dark] .colab-df-convert {\n",
              "      background-color: #3B4455;\n",
              "      fill: #D2E3FC;\n",
              "    }\n",
              "\n",
              "    [theme=dark] .colab-df-convert:hover {\n",
              "      background-color: #434B5C;\n",
              "      box-shadow: 0px 1px 3px 1px rgba(0, 0, 0, 0.15);\n",
              "      filter: drop-shadow(0px 1px 2px rgba(0, 0, 0, 0.3));\n",
              "      fill: #FFFFFF;\n",
              "    }\n",
              "  </style>\n",
              "\n",
              "    <script>\n",
              "      const buttonEl =\n",
              "        document.querySelector('#df-743ed799-33f6-461a-b636-e71ec886806f button.colab-df-convert');\n",
              "      buttonEl.style.display =\n",
              "        google.colab.kernel.accessAllowed ? 'block' : 'none';\n",
              "\n",
              "      async function convertToInteractive(key) {\n",
              "        const element = document.querySelector('#df-743ed799-33f6-461a-b636-e71ec886806f');\n",
              "        const dataTable =\n",
              "          await google.colab.kernel.invokeFunction('convertToInteractive',\n",
              "                                                    [key], {});\n",
              "        if (!dataTable) return;\n",
              "\n",
              "        const docLinkHtml = 'Like what you see? Visit the ' +\n",
              "          '<a target=\"_blank\" href=https://colab.research.google.com/notebooks/data_table.ipynb>data table notebook</a>'\n",
              "          + ' to learn more about interactive tables.';\n",
              "        element.innerHTML = '';\n",
              "        dataTable['output_type'] = 'display_data';\n",
              "        await google.colab.output.renderOutput(dataTable, element);\n",
              "        const docLink = document.createElement('div');\n",
              "        docLink.innerHTML = docLinkHtml;\n",
              "        element.appendChild(docLink);\n",
              "      }\n",
              "    </script>\n",
              "  </div>\n",
              "\n",
              "\n",
              "<div id=\"df-b4e953d7-981b-4ef9-8633-30430121d5a4\">\n",
              "  <button class=\"colab-df-quickchart\" onclick=\"quickchart('df-b4e953d7-981b-4ef9-8633-30430121d5a4')\"\n",
              "            title=\"Suggest charts\"\n",
              "            style=\"display:none;\">\n",
              "\n",
              "<svg xmlns=\"http://www.w3.org/2000/svg\" height=\"24px\"viewBox=\"0 0 24 24\"\n",
              "     width=\"24px\">\n",
              "    <g>\n",
              "        <path d=\"M19 3H5c-1.1 0-2 .9-2 2v14c0 1.1.9 2 2 2h14c1.1 0 2-.9 2-2V5c0-1.1-.9-2-2-2zM9 17H7v-7h2v7zm4 0h-2V7h2v10zm4 0h-2v-4h2v4z\"/>\n",
              "    </g>\n",
              "</svg>\n",
              "  </button>\n",
              "\n",
              "<style>\n",
              "  .colab-df-quickchart {\n",
              "      --bg-color: #E8F0FE;\n",
              "      --fill-color: #1967D2;\n",
              "      --hover-bg-color: #E2EBFA;\n",
              "      --hover-fill-color: #174EA6;\n",
              "      --disabled-fill-color: #AAA;\n",
              "      --disabled-bg-color: #DDD;\n",
              "  }\n",
              "\n",
              "  [theme=dark] .colab-df-quickchart {\n",
              "      --bg-color: #3B4455;\n",
              "      --fill-color: #D2E3FC;\n",
              "      --hover-bg-color: #434B5C;\n",
              "      --hover-fill-color: #FFFFFF;\n",
              "      --disabled-bg-color: #3B4455;\n",
              "      --disabled-fill-color: #666;\n",
              "  }\n",
              "\n",
              "  .colab-df-quickchart {\n",
              "    background-color: var(--bg-color);\n",
              "    border: none;\n",
              "    border-radius: 50%;\n",
              "    cursor: pointer;\n",
              "    display: none;\n",
              "    fill: var(--fill-color);\n",
              "    height: 32px;\n",
              "    padding: 0;\n",
              "    width: 32px;\n",
              "  }\n",
              "\n",
              "  .colab-df-quickchart:hover {\n",
              "    background-color: var(--hover-bg-color);\n",
              "    box-shadow: 0 1px 2px rgba(60, 64, 67, 0.3), 0 1px 3px 1px rgba(60, 64, 67, 0.15);\n",
              "    fill: var(--button-hover-fill-color);\n",
              "  }\n",
              "\n",
              "  .colab-df-quickchart-complete:disabled,\n",
              "  .colab-df-quickchart-complete:disabled:hover {\n",
              "    background-color: var(--disabled-bg-color);\n",
              "    fill: var(--disabled-fill-color);\n",
              "    box-shadow: none;\n",
              "  }\n",
              "\n",
              "  .colab-df-spinner {\n",
              "    border: 2px solid var(--fill-color);\n",
              "    border-color: transparent;\n",
              "    border-bottom-color: var(--fill-color);\n",
              "    animation:\n",
              "      spin 1s steps(1) infinite;\n",
              "  }\n",
              "\n",
              "  @keyframes spin {\n",
              "    0% {\n",
              "      border-color: transparent;\n",
              "      border-bottom-color: var(--fill-color);\n",
              "      border-left-color: var(--fill-color);\n",
              "    }\n",
              "    20% {\n",
              "      border-color: transparent;\n",
              "      border-left-color: var(--fill-color);\n",
              "      border-top-color: var(--fill-color);\n",
              "    }\n",
              "    30% {\n",
              "      border-color: transparent;\n",
              "      border-left-color: var(--fill-color);\n",
              "      border-top-color: var(--fill-color);\n",
              "      border-right-color: var(--fill-color);\n",
              "    }\n",
              "    40% {\n",
              "      border-color: transparent;\n",
              "      border-right-color: var(--fill-color);\n",
              "      border-top-color: var(--fill-color);\n",
              "    }\n",
              "    60% {\n",
              "      border-color: transparent;\n",
              "      border-right-color: var(--fill-color);\n",
              "    }\n",
              "    80% {\n",
              "      border-color: transparent;\n",
              "      border-right-color: var(--fill-color);\n",
              "      border-bottom-color: var(--fill-color);\n",
              "    }\n",
              "    90% {\n",
              "      border-color: transparent;\n",
              "      border-bottom-color: var(--fill-color);\n",
              "    }\n",
              "  }\n",
              "</style>\n",
              "\n",
              "  <script>\n",
              "    async function quickchart(key) {\n",
              "      const quickchartButtonEl =\n",
              "        document.querySelector('#' + key + ' button');\n",
              "      quickchartButtonEl.disabled = true;  // To prevent multiple clicks.\n",
              "      quickchartButtonEl.classList.add('colab-df-spinner');\n",
              "      try {\n",
              "        const charts = await google.colab.kernel.invokeFunction(\n",
              "            'suggestCharts', [key], {});\n",
              "      } catch (error) {\n",
              "        console.error('Error during call to suggestCharts:', error);\n",
              "      }\n",
              "      quickchartButtonEl.classList.remove('colab-df-spinner');\n",
              "      quickchartButtonEl.classList.add('colab-df-quickchart-complete');\n",
              "    }\n",
              "    (() => {\n",
              "      let quickchartButtonEl =\n",
              "        document.querySelector('#df-b4e953d7-981b-4ef9-8633-30430121d5a4 button');\n",
              "      quickchartButtonEl.style.display =\n",
              "        google.colab.kernel.accessAllowed ? 'block' : 'none';\n",
              "    })();\n",
              "  </script>\n",
              "</div>\n",
              "\n",
              "    </div>\n",
              "  </div>\n"
            ],
            "application/vnd.google.colaboratory.intrinsic+json": {
              "type": "dataframe",
              "variable_name": "test_df",
              "summary": "{\n  \"name\": \"test_df\",\n  \"rows\": 3263,\n  \"fields\": [\n    {\n      \"column\": \"id\",\n      \"properties\": {\n        \"dtype\": \"number\",\n        \"std\": 3146,\n        \"min\": 0,\n        \"max\": 10875,\n        \"num_unique_values\": 3263,\n        \"samples\": [\n          8051,\n          425,\n          1330\n        ],\n        \"semantic_type\": \"\",\n        \"description\": \"\"\n      }\n    },\n    {\n      \"column\": \"keyword\",\n      \"properties\": {\n        \"dtype\": \"category\",\n        \"num_unique_values\": 221,\n        \"samples\": [\n          \"injury\",\n          \"nuclear%20reactor\",\n          \"engulfed\"\n        ],\n        \"semantic_type\": \"\",\n        \"description\": \"\"\n      }\n    },\n    {\n      \"column\": \"location\",\n      \"properties\": {\n        \"dtype\": \"category\",\n        \"num_unique_values\": 1602,\n        \"samples\": [\n          \"UAE\",\n          \"Tokio / Tokyo\",\n          \"Texas\"\n        ],\n        \"semantic_type\": \"\",\n        \"description\": \"\"\n      }\n    },\n    {\n      \"column\": \"text\",\n      \"properties\": {\n        \"dtype\": \"string\",\n        \"num_unique_values\": 3243,\n        \"samples\": [\n          \"Latest: USA: Huge sinkhole swallows up Brooklyn intersection http://t.co/vspKHg3nZy\",\n          \"I liked a @YouTube video http://t.co/a5YTAw9Vih S.O.S. Rona Guide - The Red Whirlwind\",\n          \"HitchBot travels Europe and greeted with open arms. Gets destroyed after two weeks in america. There's a lesson to be learned here.\"\n        ],\n        \"semantic_type\": \"\",\n        \"description\": \"\"\n      }\n    }\n  ]\n}"
            }
          },
          "metadata": {},
          "execution_count": 198
        }
      ]
    },
    {
      "cell_type": "code",
      "source": [
        "# How many examples of each class are there?\n",
        "train_df.target.value_counts()"
      ],
      "metadata": {
        "colab": {
          "base_uri": "https://localhost:8080/"
        },
        "id": "nkRETCa9BScm",
        "outputId": "14715cf4-b2e5-4d38-8226-d67a51be4b0e"
      },
      "execution_count": 199,
      "outputs": [
        {
          "output_type": "execute_result",
          "data": {
            "text/plain": [
              "target\n",
              "0    4342\n",
              "1    3271\n",
              "Name: count, dtype: int64"
            ]
          },
          "metadata": {},
          "execution_count": 199
        }
      ]
    },
    {
      "cell_type": "code",
      "source": [
        "# How many locations?\n",
        "train_df.location.value_counts()"
      ],
      "metadata": {
        "colab": {
          "base_uri": "https://localhost:8080/"
        },
        "id": "aaRRMabGBbuH",
        "outputId": "c64255aa-c08e-4731-8305-a2e186995dd2"
      },
      "execution_count": 200,
      "outputs": [
        {
          "output_type": "execute_result",
          "data": {
            "text/plain": [
              "location\n",
              "USA                    104\n",
              "New York                71\n",
              "United States           50\n",
              "London                  45\n",
              "Canada                  29\n",
              "                      ... \n",
              "Some pum pum             1\n",
              "Paulton, England         1\n",
              "SEA Server               1\n",
              "todaysbigstock.com       1\n",
              "???????? ?????????.      1\n",
              "Name: count, Length: 3341, dtype: int64"
            ]
          },
          "metadata": {},
          "execution_count": 200
        }
      ]
    },
    {
      "cell_type": "code",
      "source": [
        "# How many total samples?\n",
        "len(train_df), len(test_df)"
      ],
      "metadata": {
        "colab": {
          "base_uri": "https://localhost:8080/"
        },
        "id": "-sjLImUvBk2y",
        "outputId": "2334b31d-8301-4dde-ee45-67379c41cebf"
      },
      "execution_count": 201,
      "outputs": [
        {
          "output_type": "execute_result",
          "data": {
            "text/plain": [
              "(7613, 3263)"
            ]
          },
          "metadata": {},
          "execution_count": 201
        }
      ]
    },
    {
      "cell_type": "code",
      "source": [
        "# Let's visualize some random training examples\n",
        "import random\n",
        "random_index = random.randint(0, len(train_df)-5)\n",
        "for row in train_df_shuffled[[\"text\", \"target\"]][random_index:random_index+5].itertuples():\n",
        "  _, text, target = row\n",
        "  print(f\"Target: {target}\", r\"(real disaster)\" if target > 0 else r\"(not real disaster)\")\n",
        "  print(f\"Text:\\n{text}\\n\")\n",
        "  print(\"---\\n\")"
      ],
      "metadata": {
        "colab": {
          "base_uri": "https://localhost:8080/"
        },
        "id": "MLb0bocuB1NT",
        "outputId": "43cb826f-b991-43e9-fcb0-aeb954b3f9e6"
      },
      "execution_count": 202,
      "outputs": [
        {
          "output_type": "stream",
          "name": "stdout",
          "text": [
            "Target: 1 (real disaster)\n",
            "Text:\n",
            "Trauma injuries involving kids and sport usually cycling related: Director Trauma NS  http://t.co/8DdijZyNkf #NS http://t.co/52Uus4TFN3\n",
            "\n",
            "---\n",
            "\n",
            "Target: 1 (real disaster)\n",
            "Text:\n",
            "Nuclear #Solar Power #Japanese #Fukushima Reactor Energy Japan Temperature No. Fuel Pool More  http://t.co/YS3nMwWyVc http://t.co/AlpotNB7q3\n",
            "\n",
            "---\n",
            "\n",
            "Target: 0 (not real disaster)\n",
            "Text:\n",
            "Let's destroy Twitter with @fouseyTUBE @zaynmalik come on BrBrS lets do it in morning with fousey\n",
            "\n",
            "---\n",
            "\n",
            "Target: 1 (real disaster)\n",
            "Text:\n",
            "How One Couple Is Using Drones to Save Refugees at the World's Deadliest Border http://t.co/9qpG0Z3Rh9\n",
            "\n",
            "---\n",
            "\n",
            "Target: 0 (not real disaster)\n",
            "Text:\n",
            "how will I survive without dorrian\n",
            "\n",
            "---\n",
            "\n"
          ]
        }
      ]
    },
    {
      "cell_type": "code",
      "source": [
        "print(\"Hello\\'\\\\ \\n\")"
      ],
      "metadata": {
        "colab": {
          "base_uri": "https://localhost:8080/"
        },
        "id": "adzatgNaCyQo",
        "outputId": "cc4e46bc-cbdc-4b8d-bed6-4fdaf1f59a83"
      },
      "execution_count": 203,
      "outputs": [
        {
          "output_type": "stream",
          "name": "stdout",
          "text": [
            "Hello'\\ \n",
            "\n"
          ]
        }
      ]
    },
    {
      "cell_type": "code",
      "source": [
        "print(r\"Hello\\'\\\\ \\n\")"
      ],
      "metadata": {
        "colab": {
          "base_uri": "https://localhost:8080/"
        },
        "id": "0-PrN4l2Dcwt",
        "outputId": "2d1df767-f6fc-4e0e-def7-c29e4d36f111"
      },
      "execution_count": 204,
      "outputs": [
        {
          "output_type": "stream",
          "name": "stdout",
          "text": [
            "Hello\\'\\\\ \\n\n"
          ]
        }
      ]
    },
    {
      "cell_type": "markdown",
      "source": [
        "### Split data into training and validation sets"
      ],
      "metadata": {
        "id": "94RbHSbHDf97"
      }
    },
    {
      "cell_type": "code",
      "source": [
        "from sklearn.model_selection import train_test_split\n",
        "train_sentences, validation_sentences, train_labels, val_labels = train_test_split(train_df_shuffled[\"text\"].to_numpy(),\n",
        "                                                                                   train_df_shuffled[\"target\"].to_numpy(),\n",
        "                                                                                   test_size=0.1)\n"
      ],
      "metadata": {
        "id": "hEHZARCoDu6N"
      },
      "execution_count": 205,
      "outputs": []
    },
    {
      "cell_type": "code",
      "source": [
        "# Check the lengths\n",
        "len(train_sentences), len(train_labels), len(validation_sentences), len(val_labels)"
      ],
      "metadata": {
        "colab": {
          "base_uri": "https://localhost:8080/"
        },
        "id": "PiiAB3-BDyJT",
        "outputId": "7fdb5f61-403a-4a95-ce4a-db29fc61bbd7"
      },
      "execution_count": 206,
      "outputs": [
        {
          "output_type": "execute_result",
          "data": {
            "text/plain": [
              "(6851, 6851, 762, 762)"
            ]
          },
          "metadata": {},
          "execution_count": 206
        }
      ]
    },
    {
      "cell_type": "code",
      "source": [
        "# Check the first 10 samples\n",
        "train_sentences[:10], train_labels[:10]"
      ],
      "metadata": {
        "colab": {
          "base_uri": "https://localhost:8080/"
        },
        "id": "oZloaPhqEpuj",
        "outputId": "090f2b8f-c1b0-47a3-8d92-fa5f8a531089"
      },
      "execution_count": 207,
      "outputs": [
        {
          "output_type": "execute_result",
          "data": {
            "text/plain": [
              "(array(['Police officer wounded suspect dead after exchanging shots: RICHMOND Va. (AP) \\x89ÛÓ A Richmond police officer wa... http://t.co/Y0qQS2L7bS',\n",
              "        'USGS EQ: M 1.9 - 15km E of Anchorage Alaska: Time2015-08-06 00:11:16 UTC2015-08-05 16:11:16 -08:0... http://t.co/OjQ0KFg5ub #EarthQuake',\n",
              "        'drake been kept it the most hip hop during this beef and he fucking body bagging meek back to back ??',\n",
              "        \"http://t.co/kG5pLkeDhr WRAPUP 2-U.S. cable TV companies' shares crushed after Disney disappoints http://t.co/QeIhvn3DNQ\",\n",
              "        'HamptonRoadsFor.me US Navy Sidelines 3 Newest Subs - http://t.co/9QNQ45Zduw http://t.co/dhyLJllRHL',\n",
              "        'Well me and dad survived my driving ????????',\n",
              "        '#RockyFire Update => California Hwy. 20 closed in both directions due to Lake County fire - #CAfire #wildfires',\n",
              "        \"Cramer: Iger's 3 words that wrecked Disney's stock http://t.co/3G79prAyYc #cnbc #topnews\",\n",
              "        'Suffield Alberta Accident https://t.co/bPTmlF4P10',\n",
              "        'The devastation when you smash your phone ??????????????????????????'],\n",
              "       dtype=object),\n",
              " array([1, 1, 0, 0, 0, 0, 1, 0, 1, 0]))"
            ]
          },
          "metadata": {},
          "execution_count": 207
        }
      ]
    },
    {
      "cell_type": "markdown",
      "source": [
        "## Converting text into numbers"
      ],
      "metadata": {
        "id": "wfSNyeTLEvFY"
      }
    },
    {
      "cell_type": "code",
      "source": [
        "# Embedding - every word gets turned into a vector; you can specify the dimensions of the vector\n",
        "  # gets updated as the network learns; therfore it can learn relationships between tokens\n",
        "  # Pretrained embedding libraries e.g. word2vec, GloVe, etc.\n"
      ],
      "metadata": {
        "id": "TlZnTFSuhwXh"
      },
      "execution_count": 208,
      "outputs": []
    },
    {
      "cell_type": "code",
      "source": [
        "# Text vectorization (tokenization)\n",
        "train_sentences[:5]"
      ],
      "metadata": {
        "colab": {
          "base_uri": "https://localhost:8080/"
        },
        "id": "mnWvMBTHjrWC",
        "outputId": "2bc0592a-228c-45d3-e961-f293852baa59"
      },
      "execution_count": 209,
      "outputs": [
        {
          "output_type": "execute_result",
          "data": {
            "text/plain": [
              "array(['Police officer wounded suspect dead after exchanging shots: RICHMOND Va. (AP) \\x89ÛÓ A Richmond police officer wa... http://t.co/Y0qQS2L7bS',\n",
              "       'USGS EQ: M 1.9 - 15km E of Anchorage Alaska: Time2015-08-06 00:11:16 UTC2015-08-05 16:11:16 -08:0... http://t.co/OjQ0KFg5ub #EarthQuake',\n",
              "       'drake been kept it the most hip hop during this beef and he fucking body bagging meek back to back ??',\n",
              "       \"http://t.co/kG5pLkeDhr WRAPUP 2-U.S. cable TV companies' shares crushed after Disney disappoints http://t.co/QeIhvn3DNQ\",\n",
              "       'HamptonRoadsFor.me US Navy Sidelines 3 Newest Subs - http://t.co/9QNQ45Zduw http://t.co/dhyLJllRHL'],\n",
              "      dtype=object)"
            ]
          },
          "metadata": {},
          "execution_count": 209
        }
      ]
    },
    {
      "cell_type": "code",
      "source": [
        "import tensorflow as tf\n",
        "from tensorflow.keras.layers.experimental.preprocessing import TextVectorization\n",
        "# use the default textvectorization parameters\n",
        "text_vectorizer = TextVectorization(max_tokens=None, # how many words in our vocabulary; no cap on size of vocab\n",
        "                                    standardize='lower_and_strip_punctuation',\n",
        "                                    split='whitespace',\n",
        "                                    ngrams=None, # create groups of n-words?\n",
        "                                    output_mode='int', # how to map tokens to numbers\n",
        "                                    output_sequence_length=None,\n",
        "                                    pad_to_max_tokens=False)"
      ],
      "metadata": {
        "id": "ohdqst-vjva7"
      },
      "execution_count": 210,
      "outputs": []
    },
    {
      "cell_type": "code",
      "source": [
        "# find the average number of tokens in the training tweets\n",
        "round((sum([len(i.split()) for i in train_sentences]))/len(train_sentences))"
      ],
      "metadata": {
        "colab": {
          "base_uri": "https://localhost:8080/"
        },
        "id": "_DZBoonYj3jH",
        "outputId": "984e4e9e-48ef-4786-c276-d137669f67b0"
      },
      "execution_count": 211,
      "outputs": [
        {
          "output_type": "execute_result",
          "data": {
            "text/plain": [
              "15"
            ]
          },
          "metadata": {},
          "execution_count": 211
        }
      ]
    },
    {
      "cell_type": "code",
      "source": [
        "# Setup text vectorization variables\n",
        "max_vocab_length = 10000 # max num of words to have in vocab\n",
        "max_length = 15 # max length our sequences will be\n",
        "\n",
        "text_vectorizer = TextVectorization(max_tokens = max_vocab_length,\n",
        "                                    output_mode='int',\n",
        "                                    output_sequence_length=max_length)"
      ],
      "metadata": {
        "id": "9W8ByTbImiop"
      },
      "execution_count": 212,
      "outputs": []
    },
    {
      "cell_type": "code",
      "source": [
        "# Fit the text vectorizer to the training text\n",
        "text_vectorizer.adapt(train_sentences)"
      ],
      "metadata": {
        "id": "AxSf93UNm_gm"
      },
      "execution_count": 213,
      "outputs": []
    },
    {
      "cell_type": "code",
      "source": [
        "# Create a sample sentence and tokenize it\n",
        "sample_sentence = \"There's a flood in my street!\"\n",
        "text_vectorizer([sample_sentence])"
      ],
      "metadata": {
        "colab": {
          "base_uri": "https://localhost:8080/"
        },
        "id": "VUFEM00ungQw",
        "outputId": "5b4c7690-0a7e-49d5-8ce0-28de5c382612"
      },
      "execution_count": 214,
      "outputs": [
        {
          "output_type": "execute_result",
          "data": {
            "text/plain": [
              "<tf.Tensor: shape=(1, 15), dtype=int64, numpy=\n",
              "array([[272,   3, 217,   4,  13, 674,   0,   0,   0,   0,   0,   0,   0,\n",
              "          0,   0]])>"
            ]
          },
          "metadata": {},
          "execution_count": 214
        }
      ]
    },
    {
      "cell_type": "code",
      "source": [
        "# Choose a random sentence from the training dataset and tokenize it\n",
        "random_sentence = random.choice(train_sentences)\n",
        "print(f\"Original text:\\n{random_sentence} \\\n",
        "      \\n\\nVectorized versions:\")\n",
        "text_vectorizer([random_sentence])"
      ],
      "metadata": {
        "colab": {
          "base_uri": "https://localhost:8080/"
        },
        "id": "NrZroGjKnobH",
        "outputId": "98680727-76c4-4167-9be9-28d31364371b"
      },
      "execution_count": 215,
      "outputs": [
        {
          "output_type": "stream",
          "name": "stdout",
          "text": [
            "Original text:\n",
            "@thebriankrause leos ass just got metaphorically blown up again #PiperWearsThePants #charmed       \n",
            "\n",
            "Vectorized versions:\n"
          ]
        },
        {
          "output_type": "execute_result",
          "data": {
            "text/plain": [
              "<tf.Tensor: shape=(1, 15), dtype=int64, numpy=\n",
              "array([[7673,    1,  282,   31,   98,    1,  447,   27,  308, 9791,    1,\n",
              "           0,    0,    0,    0]])>"
            ]
          },
          "metadata": {},
          "execution_count": 215
        }
      ]
    },
    {
      "cell_type": "code",
      "source": [
        "# Get the unique words in the vocab\n",
        "words_in_vocab = text_vectorizer.get_vocabulary() # Get all the unique words in our training data\n",
        "# Most common words\n",
        "top_5_words = words_in_vocab[:5]\n",
        "bottom_5_words = words_in_vocab[-5:]\n",
        "print(f\"Number of words in vocab: {len(words_in_vocab)}\")\n",
        "print(f\"5 most common words: {top_5_words}\")\n",
        "print(f\"5 least common words: {bottom_5_words}\")"
      ],
      "metadata": {
        "colab": {
          "base_uri": "https://localhost:8080/"
        },
        "id": "O5Y4lIO0oHqi",
        "outputId": "96654cf5-13b6-4563-bc2c-e02a37d46057"
      },
      "execution_count": 216,
      "outputs": [
        {
          "output_type": "stream",
          "name": "stdout",
          "text": [
            "Number of words in vocab: 10000\n",
            "5 most common words: ['', '[UNK]', 'the', 'a', 'in']\n",
            "5 least common words: ['palmoil', 'palmer', 'palm', 'palinfoen', 'palestinian\\x89Û']\n"
          ]
        }
      ]
    },
    {
      "cell_type": "markdown",
      "source": [
        "### Creating an Embedding using an Embedding Layer"
      ],
      "metadata": {
        "id": "D4FUM_8IowRF"
      }
    },
    {
      "cell_type": "code",
      "source": [
        "# taken tokenized text into embedding vectors\n",
        "from tensorflow.keras import layers\n",
        "embedding = layers.Embedding(input_dim=max_vocab_length,\n",
        "                             output_dim=128, # best to choose number divisible by 8\n",
        "                             input_length=max_length # how long is each input\n",
        "                             )\n",
        "embedding"
      ],
      "metadata": {
        "colab": {
          "base_uri": "https://localhost:8080/"
        },
        "id": "vfqvcirtpR4M",
        "outputId": "3c8d9130-c014-4d09-961b-628e02214ada"
      },
      "execution_count": 217,
      "outputs": [
        {
          "output_type": "execute_result",
          "data": {
            "text/plain": [
              "<keras.src.layers.core.embedding.Embedding at 0x78b5481e67a0>"
            ]
          },
          "metadata": {},
          "execution_count": 217
        }
      ]
    },
    {
      "cell_type": "code",
      "source": [
        "random_sentence = random.choice(train_sentences)\n",
        "print(f\"Original text:\\n {random_sentence}\\\n",
        "\\n\\n Embedded version:\")\n",
        "\n",
        "sample_embed = embedding(text_vectorizer([random_sentence]))\n",
        "sample_embed"
      ],
      "metadata": {
        "colab": {
          "base_uri": "https://localhost:8080/"
        },
        "id": "8YlZ277eqOFd",
        "outputId": "9354934f-dd7f-41d2-c46d-7e5330bfb0a4"
      },
      "execution_count": 218,
      "outputs": [
        {
          "output_type": "stream",
          "name": "stdout",
          "text": [
            "Original text:\n",
            " #gunsense answer to #GFZ's: break law on the minuscule chance a mass murderer shows up. https://t.co/qEoPMCJbCz\n",
            "\n",
            " Embedded version:\n"
          ]
        },
        {
          "output_type": "execute_result",
          "data": {
            "text/plain": [
              "<tf.Tensor: shape=(1, 15, 128), dtype=float32, numpy=\n",
              "array([[[ 0.00443272,  0.02111781, -0.01387938, ..., -0.04988755,\n",
              "         -0.01515515,  0.02236426],\n",
              "        [ 0.00678701, -0.0131033 , -0.02599986, ..., -0.00091382,\n",
              "          0.03215111, -0.03315163],\n",
              "        [ 0.04364384,  0.04539366, -0.00457828, ...,  0.02578819,\n",
              "          0.01497266, -0.02823187],\n",
              "        ...,\n",
              "        [-0.03106868, -0.00853967,  0.04041448, ..., -0.04214721,\n",
              "          0.00964229, -0.04934539],\n",
              "        [-0.02664727, -0.03528628,  0.005102  , ..., -0.00845378,\n",
              "          0.00966469,  0.03582777],\n",
              "        [-0.01802797, -0.0232386 , -0.00928166, ...,  0.00289299,\n",
              "         -0.04738591, -0.00303062]]], dtype=float32)>"
            ]
          },
          "metadata": {},
          "execution_count": 218
        }
      ]
    },
    {
      "cell_type": "code",
      "source": [
        "# Check out a single token's embedding\n",
        "sample_embed[0][0], sample_embed[0][0].shape, random_sentence[0]"
      ],
      "metadata": {
        "colab": {
          "base_uri": "https://localhost:8080/"
        },
        "id": "GBkWO3KUqmie",
        "outputId": "f9210c40-7b76-4aed-a8c0-840eff899c98"
      },
      "execution_count": 219,
      "outputs": [
        {
          "output_type": "execute_result",
          "data": {
            "text/plain": [
              "(<tf.Tensor: shape=(128,), dtype=float32, numpy=\n",
              " array([ 0.00443272,  0.02111781, -0.01387938,  0.04608704, -0.02822477,\n",
              "         0.0243644 , -0.0276803 , -0.00337965,  0.01049309,  0.04351186,\n",
              "        -0.00029291, -0.0350575 ,  0.00087998,  0.03165218, -0.0334216 ,\n",
              "         0.0009285 ,  0.01226233, -0.02607198, -0.04187089, -0.0002422 ,\n",
              "         0.01096771, -0.03312057,  0.01002539, -0.00879133, -0.01457537,\n",
              "         0.04797632,  0.00966503, -0.00012533, -0.04255216, -0.0278367 ,\n",
              "        -0.0312018 , -0.00370036, -0.04241985, -0.00599625, -0.0280579 ,\n",
              "         0.04652428,  0.03206017, -0.01588542, -0.01974161,  0.04693463,\n",
              "        -0.04283508, -0.00485136, -0.02641841,  0.04658547, -0.01334356,\n",
              "         0.0266858 , -0.01892482,  0.02475021,  0.004844  , -0.02822222,\n",
              "         0.04765535,  0.04108945, -0.04910952,  0.02943556,  0.00812332,\n",
              "         0.04991331, -0.00473022,  0.02039618,  0.03090305, -0.02925174,\n",
              "        -0.03323587,  0.00065473, -0.01156052,  0.02172066, -0.04945525,\n",
              "        -0.0099224 , -0.03917759, -0.04917913, -0.04580677,  0.00976245,\n",
              "        -0.0297447 ,  0.01253099,  0.01017895, -0.02504081, -0.00940508,\n",
              "         0.02914644,  0.02938959, -0.01299692,  0.03711851, -0.01857858,\n",
              "        -0.00664822, -0.03855884,  0.01684034, -0.00751443,  0.03560958,\n",
              "         0.02887509, -0.04630467, -0.03238044, -0.02979773, -0.01859417,\n",
              "        -0.04249033, -0.0225857 ,  0.04519012, -0.044145  ,  0.03864428,\n",
              "        -0.00509851,  0.04414039, -0.02925751, -0.04696354, -0.00069839,\n",
              "         0.0242502 ,  0.00839525, -0.0070971 ,  0.03461487, -0.02211039,\n",
              "        -0.04917715,  0.0230893 ,  0.02666003, -0.02433678, -0.04863647,\n",
              "         0.03444251, -0.02734582,  0.04440043, -0.01302003, -0.02647979,\n",
              "         0.04613117, -0.01852041, -0.0122408 ,  0.01474718, -0.04996216,\n",
              "        -0.01507424, -0.02393694, -0.01183527, -0.02360415,  0.0243612 ,\n",
              "        -0.04988755, -0.01515515,  0.02236426], dtype=float32)>,\n",
              " TensorShape([128]),\n",
              " '#')"
            ]
          },
          "metadata": {},
          "execution_count": 219
        }
      ]
    },
    {
      "cell_type": "markdown",
      "source": [
        "## Modeling a text dataset\n",
        "* Model 0: Naive Bayes (baseline) [sklearn ML map](https://scikit-learn.org/stable/tutorial/machine_learning_map/index.html)\n",
        "* Model 2: LSTM model (RNN)\n",
        "* Model 3: GRU model (RNN)\n",
        "* Model 4: Bidirectional-LSTM model (RNN)\n",
        "* Model 5: 1D Convolutional NN (CNN)\n",
        "* Model 6: TF Hub Pretrained Feature Extractor (transfer learning)\n",
        "* Model 7: Same as model 6 with 10% of training data"
      ],
      "metadata": {
        "id": "UvmZc8WTq9d1"
      }
    },
    {
      "cell_type": "markdown",
      "source": [
        "### Model 0: Getting a baseline"
      ],
      "metadata": {
        "id": "CHHmh8sMrjGl"
      }
    },
    {
      "cell_type": "code",
      "source": [
        "from sklearn.naive_bayes import MultinomialNB\n",
        "from sklearn.feature_extraction.text import TfidfVectorizer # turn text into numbers/vectors\n",
        "from sklearn.pipeline import Pipeline\n",
        "model_0 = Pipeline([\n",
        "    (\"tfidf\", TfidfVectorizer()),\n",
        "    (\"clf\", MultinomialNB()) # clf == \"classifier\"\n",
        "])\n",
        "model_0.fit(train_sentences, train_labels)"
      ],
      "metadata": {
        "colab": {
          "base_uri": "https://localhost:8080/",
          "height": 127
        },
        "id": "pPRFDykutYhM",
        "outputId": "04751523-61be-4784-d5a6-c300b007d2b6"
      },
      "execution_count": 220,
      "outputs": [
        {
          "output_type": "execute_result",
          "data": {
            "text/plain": [
              "Pipeline(steps=[('tfidf', TfidfVectorizer()), ('clf', MultinomialNB())])"
            ],
            "text/html": [
              "<style>#sk-container-id-4 {color: black;background-color: white;}#sk-container-id-4 pre{padding: 0;}#sk-container-id-4 div.sk-toggleable {background-color: white;}#sk-container-id-4 label.sk-toggleable__label {cursor: pointer;display: block;width: 100%;margin-bottom: 0;padding: 0.3em;box-sizing: border-box;text-align: center;}#sk-container-id-4 label.sk-toggleable__label-arrow:before {content: \"▸\";float: left;margin-right: 0.25em;color: #696969;}#sk-container-id-4 label.sk-toggleable__label-arrow:hover:before {color: black;}#sk-container-id-4 div.sk-estimator:hover label.sk-toggleable__label-arrow:before {color: black;}#sk-container-id-4 div.sk-toggleable__content {max-height: 0;max-width: 0;overflow: hidden;text-align: left;background-color: #f0f8ff;}#sk-container-id-4 div.sk-toggleable__content pre {margin: 0.2em;color: black;border-radius: 0.25em;background-color: #f0f8ff;}#sk-container-id-4 input.sk-toggleable__control:checked~div.sk-toggleable__content {max-height: 200px;max-width: 100%;overflow: auto;}#sk-container-id-4 input.sk-toggleable__control:checked~label.sk-toggleable__label-arrow:before {content: \"▾\";}#sk-container-id-4 div.sk-estimator input.sk-toggleable__control:checked~label.sk-toggleable__label {background-color: #d4ebff;}#sk-container-id-4 div.sk-label input.sk-toggleable__control:checked~label.sk-toggleable__label {background-color: #d4ebff;}#sk-container-id-4 input.sk-hidden--visually {border: 0;clip: rect(1px 1px 1px 1px);clip: rect(1px, 1px, 1px, 1px);height: 1px;margin: -1px;overflow: hidden;padding: 0;position: absolute;width: 1px;}#sk-container-id-4 div.sk-estimator {font-family: monospace;background-color: #f0f8ff;border: 1px dotted black;border-radius: 0.25em;box-sizing: border-box;margin-bottom: 0.5em;}#sk-container-id-4 div.sk-estimator:hover {background-color: #d4ebff;}#sk-container-id-4 div.sk-parallel-item::after {content: \"\";width: 100%;border-bottom: 1px solid gray;flex-grow: 1;}#sk-container-id-4 div.sk-label:hover label.sk-toggleable__label {background-color: #d4ebff;}#sk-container-id-4 div.sk-serial::before {content: \"\";position: absolute;border-left: 1px solid gray;box-sizing: border-box;top: 0;bottom: 0;left: 50%;z-index: 0;}#sk-container-id-4 div.sk-serial {display: flex;flex-direction: column;align-items: center;background-color: white;padding-right: 0.2em;padding-left: 0.2em;position: relative;}#sk-container-id-4 div.sk-item {position: relative;z-index: 1;}#sk-container-id-4 div.sk-parallel {display: flex;align-items: stretch;justify-content: center;background-color: white;position: relative;}#sk-container-id-4 div.sk-item::before, #sk-container-id-4 div.sk-parallel-item::before {content: \"\";position: absolute;border-left: 1px solid gray;box-sizing: border-box;top: 0;bottom: 0;left: 50%;z-index: -1;}#sk-container-id-4 div.sk-parallel-item {display: flex;flex-direction: column;z-index: 1;position: relative;background-color: white;}#sk-container-id-4 div.sk-parallel-item:first-child::after {align-self: flex-end;width: 50%;}#sk-container-id-4 div.sk-parallel-item:last-child::after {align-self: flex-start;width: 50%;}#sk-container-id-4 div.sk-parallel-item:only-child::after {width: 0;}#sk-container-id-4 div.sk-dashed-wrapped {border: 1px dashed gray;margin: 0 0.4em 0.5em 0.4em;box-sizing: border-box;padding-bottom: 0.4em;background-color: white;}#sk-container-id-4 div.sk-label label {font-family: monospace;font-weight: bold;display: inline-block;line-height: 1.2em;}#sk-container-id-4 div.sk-label-container {text-align: center;}#sk-container-id-4 div.sk-container {/* jupyter's `normalize.less` sets `[hidden] { display: none; }` but bootstrap.min.css set `[hidden] { display: none !important; }` so we also need the `!important` here to be able to override the default hidden behavior on the sphinx rendered scikit-learn.org. See: https://github.com/scikit-learn/scikit-learn/issues/21755 */display: inline-block !important;position: relative;}#sk-container-id-4 div.sk-text-repr-fallback {display: none;}</style><div id=\"sk-container-id-4\" class=\"sk-top-container\"><div class=\"sk-text-repr-fallback\"><pre>Pipeline(steps=[(&#x27;tfidf&#x27;, TfidfVectorizer()), (&#x27;clf&#x27;, MultinomialNB())])</pre><b>In a Jupyter environment, please rerun this cell to show the HTML representation or trust the notebook. <br />On GitHub, the HTML representation is unable to render, please try loading this page with nbviewer.org.</b></div><div class=\"sk-container\" hidden><div class=\"sk-item sk-dashed-wrapped\"><div class=\"sk-label-container\"><div class=\"sk-label sk-toggleable\"><input class=\"sk-toggleable__control sk-hidden--visually\" id=\"sk-estimator-id-10\" type=\"checkbox\" ><label for=\"sk-estimator-id-10\" class=\"sk-toggleable__label sk-toggleable__label-arrow\">Pipeline</label><div class=\"sk-toggleable__content\"><pre>Pipeline(steps=[(&#x27;tfidf&#x27;, TfidfVectorizer()), (&#x27;clf&#x27;, MultinomialNB())])</pre></div></div></div><div class=\"sk-serial\"><div class=\"sk-item\"><div class=\"sk-estimator sk-toggleable\"><input class=\"sk-toggleable__control sk-hidden--visually\" id=\"sk-estimator-id-11\" type=\"checkbox\" ><label for=\"sk-estimator-id-11\" class=\"sk-toggleable__label sk-toggleable__label-arrow\">TfidfVectorizer</label><div class=\"sk-toggleable__content\"><pre>TfidfVectorizer()</pre></div></div></div><div class=\"sk-item\"><div class=\"sk-estimator sk-toggleable\"><input class=\"sk-toggleable__control sk-hidden--visually\" id=\"sk-estimator-id-12\" type=\"checkbox\" ><label for=\"sk-estimator-id-12\" class=\"sk-toggleable__label sk-toggleable__label-arrow\">MultinomialNB</label><div class=\"sk-toggleable__content\"><pre>MultinomialNB()</pre></div></div></div></div></div></div></div>"
            ]
          },
          "metadata": {},
          "execution_count": 220
        }
      ]
    },
    {
      "cell_type": "code",
      "source": [
        "# Evaluate our baseline model\n",
        "baseline_score = model_0.score(validation_sentences, val_labels)\n",
        "print(f\"Our baseline model achieves an accuracy of: {baseline_score*100:.2f}%\")"
      ],
      "metadata": {
        "colab": {
          "base_uri": "https://localhost:8080/"
        },
        "id": "SfeJnU9GuNLu",
        "outputId": "2facc707-8ee1-4fb8-b0fe-1f0a6f2bd8ef"
      },
      "execution_count": 221,
      "outputs": [
        {
          "output_type": "stream",
          "name": "stdout",
          "text": [
            "Our baseline model achieves an accuracy of: 78.87%\n"
          ]
        }
      ]
    },
    {
      "cell_type": "code",
      "source": [
        "train_df.target.value_counts()"
      ],
      "metadata": {
        "colab": {
          "base_uri": "https://localhost:8080/"
        },
        "id": "QsSQXaXmukOk",
        "outputId": "bcda3df4-78fa-42a8-a724-36d00f0c1c92"
      },
      "execution_count": 222,
      "outputs": [
        {
          "output_type": "execute_result",
          "data": {
            "text/plain": [
              "target\n",
              "0    4342\n",
              "1    3271\n",
              "Name: count, dtype: int64"
            ]
          },
          "metadata": {},
          "execution_count": 222
        }
      ]
    },
    {
      "cell_type": "code",
      "source": [
        "# Make predictions\n",
        "baseline_preds = model_0.predict(validation_sentences)\n",
        "baseline_preds[:20]"
      ],
      "metadata": {
        "colab": {
          "base_uri": "https://localhost:8080/"
        },
        "id": "icGvf0FDupAC",
        "outputId": "1818eb1f-4389-47b0-98a2-0f4384853498"
      },
      "execution_count": 223,
      "outputs": [
        {
          "output_type": "execute_result",
          "data": {
            "text/plain": [
              "array([0, 0, 1, 0, 0, 1, 1, 1, 0, 0, 0, 0, 0, 0, 0, 1, 0, 0, 1, 1])"
            ]
          },
          "metadata": {},
          "execution_count": 223
        }
      ]
    },
    {
      "cell_type": "markdown",
      "source": [
        "### Creating an evaluation function for our model experiments\n",
        "\n",
        "Create on to compare our model's predictions with the truth labels\n",
        "* Accuracy\n",
        "* Precision\n",
        "* Recall\n",
        "* F1-score"
      ],
      "metadata": {
        "id": "eRRts0VWu3Y5"
      }
    },
    {
      "cell_type": "code",
      "source": [
        "# Function to evaluate: accuracy, precision, recall, F1-score\n",
        "from sklearn.metrics import accuracy_score, precision_recall_fscore_support\n",
        "def calculate_results(y_true, y_pred):\n",
        "  \"\"\"\n",
        "  Calculates model accuracy, precision, recall and f1 score of a binary classification model\n",
        "  \"\"\"\n",
        "  # Calculate model accuracy\n",
        "  model_accuracy = accuracy_score(y_true, y_pred) * 100\n",
        "  # Calculate model precision, recall, and f1-score using \"weighted\" average\n",
        "  model_precision, model_recall, model_f1, _ = precision_recall_fscore_support(y_true, y_pred, average=\"weighted\")\n",
        "  model_results = {\"accuracy\": model_accuracy,\n",
        "                   \"precision\": model_precision,\n",
        "                   \"recall\": model_recall,\n",
        "                   \"f1\": model_f1}\n",
        "  return model_results"
      ],
      "metadata": {
        "id": "BdoFliMyNS4L"
      },
      "execution_count": 224,
      "outputs": []
    },
    {
      "cell_type": "code",
      "source": [
        "baseline_results = calculate_results(y_true=val_labels,\n",
        "                                     y_pred = baseline_preds)\n",
        "baseline_results"
      ],
      "metadata": {
        "id": "-xSwtDvTu5V-",
        "colab": {
          "base_uri": "https://localhost:8080/"
        },
        "outputId": "55c404b3-3a28-400e-f719-a6683a6129c7"
      },
      "execution_count": 225,
      "outputs": [
        {
          "output_type": "execute_result",
          "data": {
            "text/plain": [
              "{'accuracy': 78.87139107611549,\n",
              " 'precision': 0.8052727924775167,\n",
              " 'recall': 0.7887139107611548,\n",
              " 'f1': 0.7798859001389012}"
            ]
          },
          "metadata": {},
          "execution_count": 225
        }
      ]
    },
    {
      "cell_type": "markdown",
      "source": [
        "# Model 1: Feed-forward neural network (dense model)"
      ],
      "metadata": {
        "id": "SChxAOXHPBxK"
      }
    },
    {
      "cell_type": "code",
      "source": [
        "# Create a tensorboard callback (need to create a new one for each model)\n",
        "from helper_functions import create_tensorboard_callback\n",
        "\n",
        "# Create a directory to save Tensorboard logs\n",
        "SAVE_DIR = \"model_logs\"\n",
        "\n",
        "# Build model with the Functional API\n",
        "from tensorflow.keras import layers\n",
        "inputs = layers.Input(shape=(1,), dtype=tf.string) # inputs are 1D strings\n",
        "x = text_vectorizer(inputs) # turn input text into numbers\n",
        "x = embedding(x) # create an embedding of the numberized inputs\n",
        "x = layers.GlobalAveragePooling1D()(x)\n",
        "outputs = layers.Dense(1, activation=\"sigmoid\")(x) # Create output layer, want binary outputs\n",
        "model_1 = tf.keras.Model(inputs, outputs, name=\"model_1_dense\")"
      ],
      "metadata": {
        "id": "0KNsJruAPv-x"
      },
      "execution_count": 226,
      "outputs": []
    },
    {
      "cell_type": "code",
      "source": [
        "model_1.summary()"
      ],
      "metadata": {
        "colab": {
          "base_uri": "https://localhost:8080/"
        },
        "id": "gbUtEzQ-Qm48",
        "outputId": "a195d46a-1b86-4c63-9d2a-9b2060558f25"
      },
      "execution_count": 227,
      "outputs": [
        {
          "output_type": "stream",
          "name": "stdout",
          "text": [
            "Model: \"model_1_dense\"\n",
            "_________________________________________________________________\n",
            " Layer (type)                Output Shape              Param #   \n",
            "=================================================================\n",
            " input_7 (InputLayer)        [(None, 1)]               0         \n",
            "                                                                 \n",
            " text_vectorization_9 (Text  (None, 15)                0         \n",
            " Vectorization)                                                  \n",
            "                                                                 \n",
            " embedding_3 (Embedding)     (None, 15, 128)           1280000   \n",
            "                                                                 \n",
            " global_average_pooling1d_3  (None, 128)               0         \n",
            "  (GlobalAveragePooling1D)                                       \n",
            "                                                                 \n",
            " dense_6 (Dense)             (None, 1)                 129       \n",
            "                                                                 \n",
            "=================================================================\n",
            "Total params: 1280129 (4.88 MB)\n",
            "Trainable params: 1280129 (4.88 MB)\n",
            "Non-trainable params: 0 (0.00 Byte)\n",
            "_________________________________________________________________\n"
          ]
        }
      ]
    },
    {
      "cell_type": "code",
      "source": [
        "# Compile model\n",
        "model_1.compile(loss=\"binary_crossentropy\",\n",
        "                optimizer=tf.keras.optimizers.Adam(),\n",
        "                metrics=[\"accuracy\"])"
      ],
      "metadata": {
        "id": "0yvDPtc9Qonz"
      },
      "execution_count": 228,
      "outputs": []
    },
    {
      "cell_type": "code",
      "source": [
        "# Fit model\n",
        "model_1_history = model_1.fit(train_sentences,\n",
        "                              train_labels,\n",
        "                              epochs=5,\n",
        "                              validation_data=(validation_sentences, val_labels),\n",
        "                              callbacks=[create_tensorboard_callback(dir_name=SAVE_DIR,\n",
        "                                                                     experiment_name=\"model_1_dense\")])"
      ],
      "metadata": {
        "colab": {
          "base_uri": "https://localhost:8080/"
        },
        "id": "aprjl4ipQ6Eb",
        "outputId": "01892454-4df9-4e74-b3a5-8447cb637a60"
      },
      "execution_count": 229,
      "outputs": [
        {
          "output_type": "stream",
          "name": "stdout",
          "text": [
            "Saving TensorBoard log files to: model_logs/model_1_dense/20240509-132015\n",
            "Epoch 1/5\n",
            "215/215 [==============================] - 8s 36ms/step - loss: 0.6129 - accuracy: 0.6894 - val_loss: 0.5350 - val_accuracy: 0.7598\n",
            "Epoch 2/5\n",
            "215/215 [==============================] - 3s 13ms/step - loss: 0.4422 - accuracy: 0.8193 - val_loss: 0.4658 - val_accuracy: 0.7979\n",
            "Epoch 3/5\n",
            "215/215 [==============================] - 2s 9ms/step - loss: 0.3463 - accuracy: 0.8610 - val_loss: 0.4556 - val_accuracy: 0.8071\n",
            "Epoch 4/5\n",
            "215/215 [==============================] - 2s 7ms/step - loss: 0.2837 - accuracy: 0.8902 - val_loss: 0.4613 - val_accuracy: 0.8110\n",
            "Epoch 5/5\n",
            "215/215 [==============================] - 1s 6ms/step - loss: 0.2358 - accuracy: 0.9133 - val_loss: 0.4827 - val_accuracy: 0.7913\n"
          ]
        }
      ]
    },
    {
      "cell_type": "code",
      "source": [
        "# Check the results\n",
        "model_1.evaluate(validation_sentences, val_labels)"
      ],
      "metadata": {
        "colab": {
          "base_uri": "https://localhost:8080/"
        },
        "id": "MOAicrBERLUS",
        "outputId": "c9ed9214-a4b6-4891-87a4-2b14549fcdd5"
      },
      "execution_count": 230,
      "outputs": [
        {
          "output_type": "stream",
          "name": "stdout",
          "text": [
            "24/24 [==============================] - 0s 3ms/step - loss: 0.4827 - accuracy: 0.7913\n"
          ]
        },
        {
          "output_type": "execute_result",
          "data": {
            "text/plain": [
              "[0.48266905546188354, 0.7913385629653931]"
            ]
          },
          "metadata": {},
          "execution_count": 230
        }
      ]
    },
    {
      "cell_type": "code",
      "source": [
        "# make some predictions and evaluate those\n",
        "model_1_pred_probs = model_1.predict(validation_sentences)\n",
        "model_1_pred_probs"
      ],
      "metadata": {
        "colab": {
          "base_uri": "https://localhost:8080/"
        },
        "id": "6BKmzr24SGtT",
        "outputId": "4fc8e6f7-33cf-453d-f455-b7626cae84c4"
      },
      "execution_count": 231,
      "outputs": [
        {
          "output_type": "stream",
          "name": "stdout",
          "text": [
            "24/24 [==============================] - 0s 2ms/step\n"
          ]
        },
        {
          "output_type": "execute_result",
          "data": {
            "text/plain": [
              "array([[2.81842686e-02],\n",
              "       [1.51438668e-01],\n",
              "       [9.93940473e-01],\n",
              "       [7.95873925e-02],\n",
              "       [9.22450602e-01],\n",
              "       [8.28504920e-01],\n",
              "       [4.17281568e-01],\n",
              "       [8.94918501e-01],\n",
              "       [4.34865206e-02],\n",
              "       [3.78188640e-02],\n",
              "       [4.56923768e-02],\n",
              "       [4.96448308e-01],\n",
              "       [1.34916110e-02],\n",
              "       [2.49537140e-01],\n",
              "       [2.79540867e-01],\n",
              "       [9.98828590e-01],\n",
              "       [6.09150752e-02],\n",
              "       [7.77264535e-02],\n",
              "       [9.94072020e-01],\n",
              "       [9.99042928e-01],\n",
              "       [3.43884438e-01],\n",
              "       [1.73049912e-01],\n",
              "       [4.38854322e-02],\n",
              "       [9.55291092e-01],\n",
              "       [9.08613130e-02],\n",
              "       [1.43668160e-01],\n",
              "       [5.75585552e-02],\n",
              "       [9.12534237e-01],\n",
              "       [1.93220064e-01],\n",
              "       [1.79354966e-01],\n",
              "       [2.76168227e-01],\n",
              "       [8.64032209e-02],\n",
              "       [2.77697265e-01],\n",
              "       [2.60457039e-01],\n",
              "       [8.39035958e-02],\n",
              "       [1.39375515e-02],\n",
              "       [5.22520356e-02],\n",
              "       [9.99909282e-01],\n",
              "       [8.45079899e-01],\n",
              "       [3.80610466e-01],\n",
              "       [1.46601051e-01],\n",
              "       [8.73800755e-01],\n",
              "       [4.75129008e-01],\n",
              "       [7.47337565e-02],\n",
              "       [1.56517386e-01],\n",
              "       [3.51928115e-01],\n",
              "       [2.97932565e-01],\n",
              "       [9.29373622e-01],\n",
              "       [5.09543836e-01],\n",
              "       [3.40709686e-01],\n",
              "       [6.76926315e-01],\n",
              "       [9.09451127e-01],\n",
              "       [3.79708290e-01],\n",
              "       [9.56484675e-02],\n",
              "       [5.63360900e-02],\n",
              "       [4.60250765e-01],\n",
              "       [9.62596297e-01],\n",
              "       [9.85645875e-02],\n",
              "       [8.09956715e-02],\n",
              "       [8.01787674e-01],\n",
              "       [2.37587333e-01],\n",
              "       [2.82681882e-01],\n",
              "       [6.29289374e-02],\n",
              "       [1.45575225e-01],\n",
              "       [9.94044721e-01],\n",
              "       [1.24427322e-02],\n",
              "       [2.67537355e-01],\n",
              "       [9.54172552e-01],\n",
              "       [9.55496967e-01],\n",
              "       [9.73010898e-01],\n",
              "       [9.08574164e-01],\n",
              "       [3.50021161e-02],\n",
              "       [5.12351803e-02],\n",
              "       [1.39123470e-01],\n",
              "       [3.00821871e-01],\n",
              "       [8.67103875e-01],\n",
              "       [1.96661741e-01],\n",
              "       [1.21107794e-01],\n",
              "       [9.63248983e-02],\n",
              "       [1.62191376e-01],\n",
              "       [3.14470887e-01],\n",
              "       [5.43747433e-02],\n",
              "       [6.24532700e-01],\n",
              "       [2.60649562e-01],\n",
              "       [8.67031276e-01],\n",
              "       [9.99269307e-01],\n",
              "       [9.69865382e-01],\n",
              "       [6.63307309e-02],\n",
              "       [7.79537916e-01],\n",
              "       [1.42616779e-01],\n",
              "       [2.75699079e-01],\n",
              "       [5.59566081e-01],\n",
              "       [9.95105386e-01],\n",
              "       [1.01819672e-02],\n",
              "       [5.17337799e-01],\n",
              "       [9.19980649e-03],\n",
              "       [4.94916998e-02],\n",
              "       [9.57221910e-02],\n",
              "       [1.27836749e-01],\n",
              "       [4.47784960e-01],\n",
              "       [1.46129699e-02],\n",
              "       [2.31540844e-01],\n",
              "       [9.62098718e-01],\n",
              "       [9.96848762e-01],\n",
              "       [4.25670207e-01],\n",
              "       [5.34964502e-01],\n",
              "       [7.66326904e-01],\n",
              "       [4.77952994e-02],\n",
              "       [3.03306371e-01],\n",
              "       [4.51399684e-02],\n",
              "       [2.89905787e-01],\n",
              "       [6.55851781e-01],\n",
              "       [6.11618795e-02],\n",
              "       [2.15997249e-01],\n",
              "       [2.22104728e-01],\n",
              "       [6.82428300e-01],\n",
              "       [8.83129314e-02],\n",
              "       [1.32173315e-01],\n",
              "       [1.28414422e-01],\n",
              "       [4.28813428e-01],\n",
              "       [2.09098279e-01],\n",
              "       [5.59223115e-01],\n",
              "       [1.38194159e-01],\n",
              "       [9.63987291e-01],\n",
              "       [1.17485061e-01],\n",
              "       [7.74047971e-01],\n",
              "       [8.04176033e-02],\n",
              "       [7.25502253e-01],\n",
              "       [8.60489905e-01],\n",
              "       [6.96217492e-02],\n",
              "       [6.81165233e-02],\n",
              "       [3.04467268e-02],\n",
              "       [4.17538613e-01],\n",
              "       [9.99879718e-01],\n",
              "       [8.55170712e-02],\n",
              "       [2.47893795e-01],\n",
              "       [1.04457982e-01],\n",
              "       [9.40854073e-01],\n",
              "       [1.16729625e-02],\n",
              "       [9.15362477e-01],\n",
              "       [9.62794013e-03],\n",
              "       [1.98054537e-01],\n",
              "       [6.27010763e-02],\n",
              "       [7.05729246e-01],\n",
              "       [8.64367485e-01],\n",
              "       [9.99543488e-01],\n",
              "       [7.85686910e-01],\n",
              "       [8.48218501e-01],\n",
              "       [3.43167186e-01],\n",
              "       [4.22437256e-03],\n",
              "       [2.74085879e-01],\n",
              "       [9.55773830e-01],\n",
              "       [8.54170203e-01],\n",
              "       [8.63474011e-01],\n",
              "       [1.12101631e-02],\n",
              "       [3.53844762e-02],\n",
              "       [9.20854390e-01],\n",
              "       [2.31193930e-01],\n",
              "       [7.66494095e-01],\n",
              "       [9.99543488e-01],\n",
              "       [5.81919968e-01],\n",
              "       [4.48440045e-01],\n",
              "       [4.12851237e-02],\n",
              "       [5.39560467e-02],\n",
              "       [6.25595093e-01],\n",
              "       [7.59669602e-01],\n",
              "       [9.92026269e-01],\n",
              "       [6.24355152e-02],\n",
              "       [8.48180711e-01],\n",
              "       [1.02778390e-01],\n",
              "       [2.67305374e-01],\n",
              "       [6.84303045e-02],\n",
              "       [1.95581708e-02],\n",
              "       [6.78184867e-01],\n",
              "       [3.38857055e-01],\n",
              "       [9.99269307e-01],\n",
              "       [7.16244290e-03],\n",
              "       [8.84731829e-01],\n",
              "       [1.74920112e-02],\n",
              "       [3.11813623e-01],\n",
              "       [9.55243111e-02],\n",
              "       [1.08425155e-01],\n",
              "       [1.45812258e-01],\n",
              "       [3.54419164e-02],\n",
              "       [9.93454218e-01],\n",
              "       [5.05069971e-01],\n",
              "       [5.50446697e-02],\n",
              "       [1.54554516e-01],\n",
              "       [4.86270910e-05],\n",
              "       [9.82635975e-01],\n",
              "       [4.71307129e-01],\n",
              "       [2.58488983e-01],\n",
              "       [1.19244400e-02],\n",
              "       [6.14568405e-02],\n",
              "       [6.76249117e-02],\n",
              "       [9.20664147e-02],\n",
              "       [5.06554581e-02],\n",
              "       [2.57958751e-02],\n",
              "       [2.29780614e-01],\n",
              "       [9.00542855e-01],\n",
              "       [7.46982753e-01],\n",
              "       [9.87606704e-01],\n",
              "       [4.03570831e-01],\n",
              "       [1.29719511e-01],\n",
              "       [9.89571929e-01],\n",
              "       [1.21601790e-01],\n",
              "       [3.12040627e-01],\n",
              "       [2.58000866e-02],\n",
              "       [4.22569178e-02],\n",
              "       [9.87015843e-01],\n",
              "       [1.88913211e-01],\n",
              "       [7.63002813e-01],\n",
              "       [9.55908358e-01],\n",
              "       [9.99303818e-01],\n",
              "       [3.15509945e-01],\n",
              "       [2.28968278e-01],\n",
              "       [2.78834701e-01],\n",
              "       [2.01748744e-01],\n",
              "       [1.23789692e-02],\n",
              "       [4.52505797e-02],\n",
              "       [9.04918790e-01],\n",
              "       [1.17560506e-01],\n",
              "       [2.29627207e-01],\n",
              "       [7.78360546e-01],\n",
              "       [1.90495834e-01],\n",
              "       [2.96292920e-02],\n",
              "       [2.32098009e-02],\n",
              "       [8.80432904e-01],\n",
              "       [1.10197932e-01],\n",
              "       [4.34649549e-02],\n",
              "       [3.97693574e-01],\n",
              "       [9.31917191e-01],\n",
              "       [8.58599544e-02],\n",
              "       [2.17233226e-01],\n",
              "       [8.77788424e-01],\n",
              "       [1.21007171e-02],\n",
              "       [1.91264018e-01],\n",
              "       [1.29342545e-02],\n",
              "       [9.98780310e-01],\n",
              "       [9.25920784e-01],\n",
              "       [1.64778475e-02],\n",
              "       [9.10900354e-01],\n",
              "       [1.28380120e-01],\n",
              "       [9.98930275e-01],\n",
              "       [9.16810706e-02],\n",
              "       [5.99049628e-01],\n",
              "       [1.98077068e-01],\n",
              "       [6.02720439e-01],\n",
              "       [9.27637458e-01],\n",
              "       [9.39641893e-01],\n",
              "       [3.75378951e-02],\n",
              "       [2.84192283e-02],\n",
              "       [7.09015429e-01],\n",
              "       [3.10592532e-01],\n",
              "       [7.17782900e-02],\n",
              "       [2.97952622e-01],\n",
              "       [9.79909480e-01],\n",
              "       [3.25898789e-02],\n",
              "       [1.03041634e-01],\n",
              "       [7.17778280e-02],\n",
              "       [1.04257472e-01],\n",
              "       [8.72444063e-02],\n",
              "       [1.32193506e-01],\n",
              "       [4.17309701e-01],\n",
              "       [9.99061644e-01],\n",
              "       [6.75170049e-02],\n",
              "       [9.42717969e-01],\n",
              "       [5.12750447e-01],\n",
              "       [3.70138064e-02],\n",
              "       [1.12122789e-01],\n",
              "       [9.64612722e-01],\n",
              "       [3.73507023e-01],\n",
              "       [3.37666422e-01],\n",
              "       [9.67100441e-01],\n",
              "       [9.52773988e-01],\n",
              "       [1.04457982e-01],\n",
              "       [9.91110682e-01],\n",
              "       [5.34980223e-02],\n",
              "       [1.45360738e-01],\n",
              "       [9.05901492e-01],\n",
              "       [1.74047440e-01],\n",
              "       [6.48466870e-02],\n",
              "       [2.99933463e-01],\n",
              "       [2.36688316e-01],\n",
              "       [7.99084783e-01],\n",
              "       [5.44415057e-01],\n",
              "       [1.33492174e-02],\n",
              "       [2.05304593e-01],\n",
              "       [9.74258721e-01],\n",
              "       [4.03570831e-01],\n",
              "       [8.87134492e-01],\n",
              "       [8.25958073e-01],\n",
              "       [8.88305604e-01],\n",
              "       [7.72221163e-02],\n",
              "       [9.37991798e-01],\n",
              "       [9.85517859e-01],\n",
              "       [9.66892764e-02],\n",
              "       [8.13362598e-01],\n",
              "       [1.70233212e-02],\n",
              "       [5.43208122e-01],\n",
              "       [3.49635296e-02],\n",
              "       [2.48537451e-01],\n",
              "       [9.51178312e-01],\n",
              "       [6.96426094e-01],\n",
              "       [3.35613847e-01],\n",
              "       [3.48147810e-01],\n",
              "       [3.50070566e-01],\n",
              "       [1.68725744e-01],\n",
              "       [2.16694772e-01],\n",
              "       [1.56618401e-01],\n",
              "       [2.01153904e-02],\n",
              "       [7.71616995e-01],\n",
              "       [1.76058963e-01],\n",
              "       [1.33294210e-01],\n",
              "       [2.13546917e-01],\n",
              "       [6.54462457e-01],\n",
              "       [5.13864696e-01],\n",
              "       [9.93736506e-01],\n",
              "       [6.08981252e-01],\n",
              "       [2.03697151e-03],\n",
              "       [9.96156633e-01],\n",
              "       [5.20442367e-01],\n",
              "       [9.34344530e-02],\n",
              "       [2.95905739e-01],\n",
              "       [9.09904465e-02],\n",
              "       [2.48646624e-02],\n",
              "       [9.81720686e-01],\n",
              "       [9.91110682e-01],\n",
              "       [1.31436056e-02],\n",
              "       [5.44034660e-01],\n",
              "       [7.48866098e-03],\n",
              "       [8.67204130e-01],\n",
              "       [1.76163018e-02],\n",
              "       [9.75529015e-01],\n",
              "       [3.79251093e-01],\n",
              "       [1.24469191e-01],\n",
              "       [6.68727905e-02],\n",
              "       [5.01232110e-02],\n",
              "       [4.26663123e-02],\n",
              "       [9.91916239e-01],\n",
              "       [8.07692558e-02],\n",
              "       [9.37918648e-02],\n",
              "       [6.00679815e-01],\n",
              "       [6.39484227e-01],\n",
              "       [8.65905821e-01],\n",
              "       [9.02586460e-01],\n",
              "       [1.08937845e-01],\n",
              "       [8.10644031e-02],\n",
              "       [3.12423378e-01],\n",
              "       [8.30175877e-02],\n",
              "       [2.04189941e-01],\n",
              "       [3.47707048e-02],\n",
              "       [3.53814989e-01],\n",
              "       [1.72108173e-01],\n",
              "       [3.39880049e-01],\n",
              "       [8.92657816e-01],\n",
              "       [5.86356483e-02],\n",
              "       [2.52854884e-01],\n",
              "       [2.44492099e-01],\n",
              "       [2.89246917e-01],\n",
              "       [1.61057264e-01],\n",
              "       [3.39296125e-02],\n",
              "       [9.33159530e-01],\n",
              "       [4.26107734e-01],\n",
              "       [4.13719624e-01],\n",
              "       [9.94134128e-01],\n",
              "       [5.34518600e-01],\n",
              "       [3.74114871e-01],\n",
              "       [2.58922517e-01],\n",
              "       [2.37848214e-03],\n",
              "       [8.45301390e-01],\n",
              "       [9.33740914e-01],\n",
              "       [4.79937121e-02],\n",
              "       [7.40922242e-02],\n",
              "       [2.00946420e-01],\n",
              "       [9.99994278e-01],\n",
              "       [5.58225140e-02],\n",
              "       [1.49640173e-01],\n",
              "       [7.43489146e-01],\n",
              "       [8.84107873e-02],\n",
              "       [2.53623456e-01],\n",
              "       [1.49295986e-01],\n",
              "       [4.91379797e-01],\n",
              "       [4.91891354e-01],\n",
              "       [9.99737442e-01],\n",
              "       [9.95193422e-01],\n",
              "       [9.99796689e-01],\n",
              "       [6.48662567e-01],\n",
              "       [2.37764359e-01],\n",
              "       [9.92367566e-01],\n",
              "       [1.08541533e-01],\n",
              "       [3.05640399e-01],\n",
              "       [4.60411161e-02],\n",
              "       [1.38260886e-01],\n",
              "       [9.72290993e-01],\n",
              "       [9.98757482e-01],\n",
              "       [5.77604294e-01],\n",
              "       [4.27999813e-03],\n",
              "       [1.78535610e-01],\n",
              "       [3.70647281e-01],\n",
              "       [9.99369562e-01],\n",
              "       [8.50177765e-01],\n",
              "       [7.08702028e-01],\n",
              "       [1.38155874e-02],\n",
              "       [2.36649886e-01],\n",
              "       [3.67303520e-01],\n",
              "       [1.26364678e-01],\n",
              "       [4.50188875e-01],\n",
              "       [1.45812258e-01],\n",
              "       [9.25123096e-01],\n",
              "       [1.02181517e-01],\n",
              "       [1.74354408e-02],\n",
              "       [2.27501884e-01],\n",
              "       [3.17403644e-01],\n",
              "       [1.22673810e-01],\n",
              "       [8.89738619e-01],\n",
              "       [4.94625390e-01],\n",
              "       [7.37548172e-02],\n",
              "       [6.70989335e-01],\n",
              "       [1.37333362e-03],\n",
              "       [9.99629259e-01],\n",
              "       [7.39127994e-01],\n",
              "       [9.91698861e-01],\n",
              "       [5.24672210e-01],\n",
              "       [8.27976465e-01],\n",
              "       [4.63277131e-01],\n",
              "       [5.75880170e-01],\n",
              "       [8.97574186e-01],\n",
              "       [5.17977178e-01],\n",
              "       [3.22323591e-01],\n",
              "       [3.15847576e-01],\n",
              "       [3.14716220e-01],\n",
              "       [1.82540745e-01],\n",
              "       [6.55261219e-01],\n",
              "       [3.97859126e-01],\n",
              "       [1.10780047e-02],\n",
              "       [9.35144722e-01],\n",
              "       [5.54875582e-02],\n",
              "       [1.75023511e-01],\n",
              "       [4.27085698e-01],\n",
              "       [9.96681392e-01],\n",
              "       [1.50055110e-01],\n",
              "       [7.57642165e-02],\n",
              "       [1.94416374e-01],\n",
              "       [9.82850254e-01],\n",
              "       [2.73944825e-01],\n",
              "       [3.93166840e-02],\n",
              "       [2.22284406e-01],\n",
              "       [7.19600141e-01],\n",
              "       [3.34847093e-01],\n",
              "       [6.30404651e-01],\n",
              "       [5.20427585e-01],\n",
              "       [3.16715240e-02],\n",
              "       [2.01557249e-01],\n",
              "       [1.63788088e-02],\n",
              "       [4.64870453e-01],\n",
              "       [5.71657479e-01],\n",
              "       [1.09512977e-01],\n",
              "       [2.85174549e-01],\n",
              "       [3.42166632e-01],\n",
              "       [8.60318959e-01],\n",
              "       [1.51294423e-02],\n",
              "       [9.12890196e-01],\n",
              "       [9.79794562e-01],\n",
              "       [4.35335964e-01],\n",
              "       [2.81895660e-02],\n",
              "       [9.26359713e-01],\n",
              "       [8.63394961e-02],\n",
              "       [8.39560404e-02],\n",
              "       [9.47524726e-01],\n",
              "       [1.31314784e-01],\n",
              "       [2.86995947e-01],\n",
              "       [1.24589458e-01],\n",
              "       [8.52382481e-01],\n",
              "       [1.53995112e-01],\n",
              "       [5.44556268e-02],\n",
              "       [4.16257195e-02],\n",
              "       [9.04091060e-01],\n",
              "       [3.28491926e-01],\n",
              "       [9.54566598e-01],\n",
              "       [1.56796336e-01],\n",
              "       [6.89440548e-01],\n",
              "       [6.95822716e-01],\n",
              "       [4.23945516e-01],\n",
              "       [1.22952566e-01],\n",
              "       [1.51518043e-02],\n",
              "       [4.74877864e-01],\n",
              "       [1.47232160e-01],\n",
              "       [9.90763724e-01],\n",
              "       [9.63079989e-01],\n",
              "       [9.99852896e-01],\n",
              "       [7.86455214e-01],\n",
              "       [4.97611277e-02],\n",
              "       [1.14593484e-01],\n",
              "       [6.68503284e-01],\n",
              "       [1.55169532e-01],\n",
              "       [7.94111729e-01],\n",
              "       [9.97789621e-01],\n",
              "       [5.10939360e-02],\n",
              "       [1.14212953e-01],\n",
              "       [9.98545170e-01],\n",
              "       [6.66761249e-02],\n",
              "       [6.40414888e-03],\n",
              "       [1.86706200e-01],\n",
              "       [9.82509628e-02],\n",
              "       [9.99942660e-01],\n",
              "       [9.85349596e-01],\n",
              "       [2.18233187e-02],\n",
              "       [9.68381345e-01],\n",
              "       [1.86436810e-02],\n",
              "       [1.57254621e-01],\n",
              "       [1.59399696e-02],\n",
              "       [1.84245184e-01],\n",
              "       [6.91507995e-01],\n",
              "       [7.14528382e-01],\n",
              "       [7.28048608e-02],\n",
              "       [9.32675064e-01],\n",
              "       [7.77069271e-01],\n",
              "       [9.98130858e-01],\n",
              "       [3.48011643e-01],\n",
              "       [1.09507002e-01],\n",
              "       [1.23722712e-04],\n",
              "       [7.88991619e-03],\n",
              "       [4.67485711e-02],\n",
              "       [1.47670075e-01],\n",
              "       [8.08035076e-01],\n",
              "       [3.91678274e-01],\n",
              "       [9.47949827e-01],\n",
              "       [4.89318371e-01],\n",
              "       [4.65966672e-01],\n",
              "       [9.75341141e-01],\n",
              "       [8.13006759e-01],\n",
              "       [9.91110682e-01],\n",
              "       [1.04368113e-01],\n",
              "       [2.37436816e-02],\n",
              "       [9.97606754e-01],\n",
              "       [9.62715924e-01],\n",
              "       [1.33355528e-01],\n",
              "       [3.29346091e-01],\n",
              "       [9.92141485e-01],\n",
              "       [9.96214092e-01],\n",
              "       [7.10728347e-01],\n",
              "       [8.64376873e-02],\n",
              "       [9.24484849e-01],\n",
              "       [1.72365531e-01],\n",
              "       [1.90821458e-02],\n",
              "       [9.90279734e-01],\n",
              "       [2.99839944e-01],\n",
              "       [1.69174924e-01],\n",
              "       [4.00554508e-01],\n",
              "       [9.28958356e-01],\n",
              "       [1.37862608e-01],\n",
              "       [7.19002128e-01],\n",
              "       [3.07237774e-01],\n",
              "       [9.92952883e-01],\n",
              "       [9.83168066e-01],\n",
              "       [6.66304111e-01],\n",
              "       [9.92022872e-01],\n",
              "       [6.79890811e-01],\n",
              "       [9.99833584e-01],\n",
              "       [9.88411963e-01],\n",
              "       [3.17680150e-01],\n",
              "       [2.17585005e-02],\n",
              "       [9.50892925e-01],\n",
              "       [8.10091078e-01],\n",
              "       [9.99745309e-01],\n",
              "       [1.32000804e-01],\n",
              "       [1.56231213e-03],\n",
              "       [6.52126312e-01],\n",
              "       [8.73351455e-01],\n",
              "       [7.21761063e-02],\n",
              "       [7.77737470e-03],\n",
              "       [2.54963517e-01],\n",
              "       [6.62219167e-01],\n",
              "       [3.14048558e-01],\n",
              "       [9.95990455e-01],\n",
              "       [9.84101951e-01],\n",
              "       [7.51534328e-02],\n",
              "       [2.46425509e-01],\n",
              "       [6.05806150e-03],\n",
              "       [6.31984845e-02],\n",
              "       [4.26454097e-01],\n",
              "       [3.88849258e-01],\n",
              "       [5.55083156e-01],\n",
              "       [9.80841219e-01],\n",
              "       [2.06080660e-01],\n",
              "       [1.53448462e-01],\n",
              "       [5.40682733e-01],\n",
              "       [4.32694376e-01],\n",
              "       [6.08041286e-01],\n",
              "       [9.19291139e-01],\n",
              "       [5.86898386e-01],\n",
              "       [2.27311179e-01],\n",
              "       [7.19318492e-03],\n",
              "       [1.40754253e-01],\n",
              "       [5.42787388e-02],\n",
              "       [2.69773334e-01],\n",
              "       [2.15273961e-01],\n",
              "       [2.27501884e-01],\n",
              "       [2.63488412e-01],\n",
              "       [2.44644627e-01],\n",
              "       [1.72761008e-02],\n",
              "       [7.95281887e-01],\n",
              "       [9.71331120e-01],\n",
              "       [4.44737412e-02],\n",
              "       [1.09863035e-01],\n",
              "       [6.70193434e-01],\n",
              "       [6.04854077e-02],\n",
              "       [5.74061215e-01],\n",
              "       [4.52271461e-01],\n",
              "       [8.64708245e-01],\n",
              "       [2.66932715e-02],\n",
              "       [4.19523209e-01],\n",
              "       [1.36581257e-01],\n",
              "       [5.35891831e-01],\n",
              "       [2.26576433e-01],\n",
              "       [9.14749652e-02],\n",
              "       [9.18310225e-01],\n",
              "       [3.26914579e-01],\n",
              "       [9.89607155e-01],\n",
              "       [6.24822855e-01],\n",
              "       [1.33355528e-01],\n",
              "       [5.04999876e-01],\n",
              "       [5.85711449e-02],\n",
              "       [4.58595872e-01],\n",
              "       [9.99879718e-01],\n",
              "       [6.95978522e-01],\n",
              "       [9.91110682e-01],\n",
              "       [3.31111908e-01],\n",
              "       [8.79288435e-01],\n",
              "       [2.67833650e-01],\n",
              "       [2.96292920e-02],\n",
              "       [9.10063744e-01],\n",
              "       [2.53398985e-01],\n",
              "       [4.62691598e-02],\n",
              "       [9.92057860e-01],\n",
              "       [9.96437311e-01],\n",
              "       [3.44986707e-01],\n",
              "       [8.72636557e-01],\n",
              "       [9.54431355e-01],\n",
              "       [9.68904018e-01],\n",
              "       [2.36083955e-01],\n",
              "       [5.55405319e-01],\n",
              "       [9.99713719e-01],\n",
              "       [9.95254636e-01],\n",
              "       [4.96826649e-01],\n",
              "       [7.64047265e-01],\n",
              "       [8.45202446e-01],\n",
              "       [1.66139409e-01],\n",
              "       [1.60200223e-01],\n",
              "       [4.23665345e-01],\n",
              "       [2.14055255e-02],\n",
              "       [1.97696909e-01],\n",
              "       [5.62768653e-02],\n",
              "       [9.86465961e-02],\n",
              "       [2.98900455e-01],\n",
              "       [2.40347460e-01],\n",
              "       [1.59754623e-02],\n",
              "       [2.63339537e-03],\n",
              "       [9.99589145e-01],\n",
              "       [1.40694410e-01],\n",
              "       [1.85838118e-01],\n",
              "       [2.37513810e-01],\n",
              "       [3.97215597e-02],\n",
              "       [1.58128396e-01],\n",
              "       [2.99015999e-01],\n",
              "       [6.28031790e-01],\n",
              "       [4.93254632e-01],\n",
              "       [8.04918826e-01],\n",
              "       [9.48036075e-01],\n",
              "       [4.64461207e-01],\n",
              "       [9.99589145e-01],\n",
              "       [9.30565238e-01],\n",
              "       [4.53482002e-01],\n",
              "       [1.67921171e-01],\n",
              "       [1.66377172e-01],\n",
              "       [1.26626194e-02],\n",
              "       [2.36647263e-01],\n",
              "       [4.17000800e-01],\n",
              "       [3.30880255e-01],\n",
              "       [9.75736380e-02],\n",
              "       [4.09368835e-02],\n",
              "       [9.90184784e-01],\n",
              "       [9.99654293e-01],\n",
              "       [2.13658623e-02],\n",
              "       [4.56465155e-01],\n",
              "       [6.27510190e-01],\n",
              "       [1.40754580e-01],\n",
              "       [2.27234602e-01],\n",
              "       [9.95427728e-01],\n",
              "       [2.39021912e-01],\n",
              "       [8.62875462e-01],\n",
              "       [4.79269922e-01],\n",
              "       [2.18242183e-01],\n",
              "       [1.13925487e-01],\n",
              "       [2.55610812e-02],\n",
              "       [3.74047458e-01],\n",
              "       [3.03338706e-01],\n",
              "       [3.42343867e-01],\n",
              "       [9.06959713e-01],\n",
              "       [9.99269307e-01],\n",
              "       [7.88092539e-02],\n",
              "       [5.72096892e-02],\n",
              "       [9.88320351e-01],\n",
              "       [4.67313528e-01],\n",
              "       [4.83011752e-01],\n",
              "       [1.08772270e-01],\n",
              "       [1.39664799e-01],\n",
              "       [8.60011160e-01],\n",
              "       [2.04354942e-01],\n",
              "       [2.35663816e-01],\n",
              "       [5.29665768e-01],\n",
              "       [3.55066031e-01],\n",
              "       [6.24372959e-01],\n",
              "       [1.21417716e-01],\n",
              "       [3.75728846e-01],\n",
              "       [5.28816700e-01],\n",
              "       [9.33803916e-01],\n",
              "       [6.07883884e-03],\n",
              "       [7.73844123e-01],\n",
              "       [1.76916182e-01],\n",
              "       [9.83560272e-03],\n",
              "       [9.99442399e-01],\n",
              "       [8.07422325e-02],\n",
              "       [8.86722624e-01],\n",
              "       [6.47394285e-02],\n",
              "       [3.06915473e-02],\n",
              "       [3.37516040e-01],\n",
              "       [4.25550461e-01],\n",
              "       [1.67760268e-01],\n",
              "       [6.72479033e-01],\n",
              "       [4.55215633e-01],\n",
              "       [9.94072020e-01],\n",
              "       [9.52912867e-01],\n",
              "       [1.31158248e-01],\n",
              "       [1.21483967e-01],\n",
              "       [5.12272539e-03],\n",
              "       [7.44236469e-01],\n",
              "       [3.02601963e-01],\n",
              "       [7.20679402e-01],\n",
              "       [8.07581186e-01],\n",
              "       [3.54383066e-02],\n",
              "       [3.69271368e-01],\n",
              "       [2.92192519e-01],\n",
              "       [1.77066848e-01],\n",
              "       [8.68828773e-01],\n",
              "       [8.77946258e-01],\n",
              "       [9.46746409e-01],\n",
              "       [9.47617948e-01],\n",
              "       [9.89256799e-01],\n",
              "       [9.99615669e-01],\n",
              "       [6.01632833e-01],\n",
              "       [1.03056155e-01],\n",
              "       [1.91591099e-01],\n",
              "       [9.93369401e-01],\n",
              "       [6.39218912e-02],\n",
              "       [3.97352725e-01],\n",
              "       [5.17574310e-01],\n",
              "       [3.27616572e-01],\n",
              "       [4.38939422e-01],\n",
              "       [1.40254930e-01],\n",
              "       [9.96918678e-01]], dtype=float32)"
            ]
          },
          "metadata": {},
          "execution_count": 231
        }
      ]
    },
    {
      "cell_type": "code",
      "source": [
        "# Convert model prediction probabilites to label format\n",
        "model_1_preds = tf.squeeze(tf.round(model_1_pred_probs))\n",
        "model_1_preds"
      ],
      "metadata": {
        "colab": {
          "base_uri": "https://localhost:8080/"
        },
        "id": "XP6EMp_UTiov",
        "outputId": "bf7c80ec-c132-4ee4-b791-fd090b10387c"
      },
      "execution_count": 232,
      "outputs": [
        {
          "output_type": "execute_result",
          "data": {
            "text/plain": [
              "<tf.Tensor: shape=(762,), dtype=float32, numpy=\n",
              "array([0., 0., 1., 0., 1., 1., 0., 1., 0., 0., 0., 0., 0., 0., 0., 1., 0.,\n",
              "       0., 1., 1., 0., 0., 0., 1., 0., 0., 0., 1., 0., 0., 0., 0., 0., 0.,\n",
              "       0., 0., 0., 1., 1., 0., 0., 1., 0., 0., 0., 0., 0., 1., 1., 0., 1.,\n",
              "       1., 0., 0., 0., 0., 1., 0., 0., 1., 0., 0., 0., 0., 1., 0., 0., 1.,\n",
              "       1., 1., 1., 0., 0., 0., 0., 1., 0., 0., 0., 0., 0., 0., 1., 0., 1.,\n",
              "       1., 1., 0., 1., 0., 0., 1., 1., 0., 1., 0., 0., 0., 0., 0., 0., 0.,\n",
              "       1., 1., 0., 1., 1., 0., 0., 0., 0., 1., 0., 0., 0., 1., 0., 0., 0.,\n",
              "       0., 0., 1., 0., 1., 0., 1., 0., 1., 1., 0., 0., 0., 0., 1., 0., 0.,\n",
              "       0., 1., 0., 1., 0., 0., 0., 1., 1., 1., 1., 1., 0., 0., 0., 1., 1.,\n",
              "       1., 0., 0., 1., 0., 1., 1., 1., 0., 0., 0., 1., 1., 1., 0., 1., 0.,\n",
              "       0., 0., 0., 1., 0., 1., 0., 1., 0., 0., 0., 0., 0., 0., 1., 1., 0.,\n",
              "       0., 0., 1., 0., 0., 0., 0., 0., 0., 0., 0., 0., 1., 1., 1., 0., 0.,\n",
              "       1., 0., 0., 0., 0., 1., 0., 1., 1., 1., 0., 0., 0., 0., 0., 0., 1.,\n",
              "       0., 0., 1., 0., 0., 0., 1., 0., 0., 0., 1., 0., 0., 1., 0., 0., 0.,\n",
              "       1., 1., 0., 1., 0., 1., 0., 1., 0., 1., 1., 1., 0., 0., 1., 0., 0.,\n",
              "       0., 1., 0., 0., 0., 0., 0., 0., 0., 1., 0., 1., 1., 0., 0., 1., 0.,\n",
              "       0., 1., 1., 0., 1., 0., 0., 1., 0., 0., 0., 0., 1., 1., 0., 0., 1.,\n",
              "       0., 1., 1., 1., 0., 1., 1., 0., 1., 0., 1., 0., 0., 1., 1., 0., 0.,\n",
              "       0., 0., 0., 0., 0., 1., 0., 0., 0., 1., 1., 1., 1., 0., 1., 1., 0.,\n",
              "       0., 0., 0., 1., 1., 0., 1., 0., 1., 0., 1., 0., 0., 0., 0., 0., 1.,\n",
              "       0., 0., 1., 1., 1., 1., 0., 0., 0., 0., 0., 0., 0., 0., 0., 1., 0.,\n",
              "       0., 0., 0., 0., 0., 1., 0., 0., 1., 1., 0., 0., 0., 1., 1., 0., 0.,\n",
              "       0., 1., 0., 0., 1., 0., 0., 0., 0., 0., 1., 1., 1., 1., 0., 1., 0.,\n",
              "       0., 0., 0., 1., 1., 1., 0., 0., 0., 1., 1., 1., 0., 0., 0., 0., 0.,\n",
              "       0., 1., 0., 0., 0., 0., 0., 1., 0., 0., 1., 0., 1., 1., 1., 1., 1.,\n",
              "       0., 1., 1., 1., 0., 0., 0., 0., 1., 0., 0., 1., 0., 0., 0., 1., 0.,\n",
              "       0., 0., 1., 0., 0., 0., 1., 0., 1., 1., 0., 0., 0., 0., 1., 0., 0.,\n",
              "       0., 1., 0., 1., 1., 0., 0., 1., 0., 0., 1., 0., 0., 0., 1., 0., 0.,\n",
              "       0., 1., 0., 1., 0., 1., 1., 0., 0., 0., 0., 0., 1., 1., 1., 1., 0.,\n",
              "       0., 1., 0., 1., 1., 0., 0., 1., 0., 0., 0., 0., 1., 1., 0., 1., 0.,\n",
              "       0., 0., 0., 1., 1., 0., 1., 1., 1., 0., 0., 0., 0., 0., 0., 1., 0.,\n",
              "       1., 0., 0., 1., 1., 1., 0., 0., 1., 1., 0., 0., 1., 1., 1., 0., 1.,\n",
              "       0., 0., 1., 0., 0., 0., 1., 0., 1., 0., 1., 1., 1., 1., 1., 1., 1.,\n",
              "       0., 0., 1., 1., 1., 0., 0., 1., 1., 0., 0., 0., 1., 0., 1., 1., 0.,\n",
              "       0., 0., 0., 0., 0., 1., 1., 0., 0., 1., 0., 1., 1., 1., 0., 0., 0.,\n",
              "       0., 0., 0., 0., 0., 0., 0., 1., 1., 0., 0., 1., 0., 1., 0., 1., 0.,\n",
              "       0., 0., 1., 0., 0., 1., 0., 1., 1., 0., 1., 0., 0., 1., 1., 1., 0.,\n",
              "       1., 0., 0., 1., 0., 0., 1., 1., 0., 1., 1., 1., 0., 1., 1., 1., 0.,\n",
              "       1., 1., 0., 0., 0., 0., 0., 0., 0., 0., 0., 0., 0., 1., 0., 0., 0.,\n",
              "       0., 0., 0., 1., 0., 1., 1., 0., 1., 1., 0., 0., 0., 0., 0., 0., 0.,\n",
              "       0., 0., 1., 1., 0., 0., 1., 0., 0., 1., 0., 1., 0., 0., 0., 0., 0.,\n",
              "       0., 0., 1., 1., 0., 0., 1., 0., 0., 0., 0., 1., 0., 0., 1., 0., 1.,\n",
              "       0., 0., 1., 1., 0., 1., 0., 0., 1., 0., 1., 0., 0., 0., 0., 0., 1.,\n",
              "       0., 1., 1., 0., 0., 0., 1., 0., 1., 1., 0., 0., 0., 0., 1., 1., 1.,\n",
              "       1., 1., 1., 1., 0., 0., 1., 0., 0., 1., 0., 0., 0., 1.],\n",
              "      dtype=float32)>"
            ]
          },
          "metadata": {},
          "execution_count": 232
        }
      ]
    },
    {
      "cell_type": "code",
      "source": [
        "# Calculate our model_1 results\n",
        "model_1_results = calculate_results(y_true=val_labels,\n",
        "                                    y_pred=model_1_preds)\n",
        "model_1_results"
      ],
      "metadata": {
        "colab": {
          "base_uri": "https://localhost:8080/"
        },
        "id": "u8ERL84JVaBx",
        "outputId": "1ce14489-088a-4a87-e4e5-a597863b8a9f"
      },
      "execution_count": 233,
      "outputs": [
        {
          "output_type": "execute_result",
          "data": {
            "text/plain": [
              "{'accuracy': 79.13385826771653,\n",
              " 'precision': 0.7912066204319435,\n",
              " 'recall': 0.7913385826771654,\n",
              " 'f1': 0.7893381707827568}"
            ]
          },
          "metadata": {},
          "execution_count": 233
        }
      ]
    },
    {
      "cell_type": "code",
      "source": [
        "baseline_results"
      ],
      "metadata": {
        "colab": {
          "base_uri": "https://localhost:8080/"
        },
        "id": "IBLPxJhQVnkQ",
        "outputId": "e0f69d2b-eb57-45ad-809a-b258a4e7a744"
      },
      "execution_count": 234,
      "outputs": [
        {
          "output_type": "execute_result",
          "data": {
            "text/plain": [
              "{'accuracy': 78.87139107611549,\n",
              " 'precision': 0.8052727924775167,\n",
              " 'recall': 0.7887139107611548,\n",
              " 'f1': 0.7798859001389012}"
            ]
          },
          "metadata": {},
          "execution_count": 234
        }
      ]
    },
    {
      "cell_type": "code",
      "source": [
        "import numpy as np\n",
        "np.array(list(model_1_results.values())) > np.array(list(baseline_results.values()))"
      ],
      "metadata": {
        "colab": {
          "base_uri": "https://localhost:8080/"
        },
        "id": "10RgliZNVu0C",
        "outputId": "144525a3-2677-4a7f-ce1d-25075bcb9518"
      },
      "execution_count": 235,
      "outputs": [
        {
          "output_type": "execute_result",
          "data": {
            "text/plain": [
              "array([ True, False,  True,  True])"
            ]
          },
          "metadata": {},
          "execution_count": 235
        }
      ]
    },
    {
      "cell_type": "markdown",
      "source": [
        "## Visualizing learned embeddings"
      ],
      "metadata": {
        "id": "j6hEzWJcV5xK"
      }
    },
    {
      "cell_type": "code",
      "source": [
        "# Get the vocabulary from the text vectorization layer\n",
        "words_in_vocab = text_vectorizer.get_vocabulary()\n",
        "len(words_in_vocab), words_in_vocab[:10]"
      ],
      "metadata": {
        "colab": {
          "base_uri": "https://localhost:8080/"
        },
        "id": "x3Af1mvoFgbU",
        "outputId": "7bb4aa34-48a1-407f-951e-426afbe45c34"
      },
      "execution_count": 236,
      "outputs": [
        {
          "output_type": "execute_result",
          "data": {
            "text/plain": [
              "(10000, ['', '[UNK]', 'the', 'a', 'in', 'to', 'of', 'and', 'i', 'is'])"
            ]
          },
          "metadata": {},
          "execution_count": 236
        }
      ]
    },
    {
      "cell_type": "code",
      "source": [
        "# Model 1 Summary\n",
        "model_1.summary()"
      ],
      "metadata": {
        "colab": {
          "base_uri": "https://localhost:8080/"
        },
        "id": "gB6hZMukF3U1",
        "outputId": "0821dffb-7d3e-47e7-88b4-f3db2448625b"
      },
      "execution_count": 237,
      "outputs": [
        {
          "output_type": "stream",
          "name": "stdout",
          "text": [
            "Model: \"model_1_dense\"\n",
            "_________________________________________________________________\n",
            " Layer (type)                Output Shape              Param #   \n",
            "=================================================================\n",
            " input_7 (InputLayer)        [(None, 1)]               0         \n",
            "                                                                 \n",
            " text_vectorization_9 (Text  (None, 15)                0         \n",
            " Vectorization)                                                  \n",
            "                                                                 \n",
            " embedding_3 (Embedding)     (None, 15, 128)           1280000   \n",
            "                                                                 \n",
            " global_average_pooling1d_3  (None, 128)               0         \n",
            "  (GlobalAveragePooling1D)                                       \n",
            "                                                                 \n",
            " dense_6 (Dense)             (None, 1)                 129       \n",
            "                                                                 \n",
            "=================================================================\n",
            "Total params: 1280129 (4.88 MB)\n",
            "Trainable params: 1280129 (4.88 MB)\n",
            "Non-trainable params: 0 (0.00 Byte)\n",
            "_________________________________________________________________\n"
          ]
        }
      ]
    },
    {
      "cell_type": "code",
      "source": [
        "# Get the weight matrix of embedding layer\n",
        "# (numerical representations of each token in our training data; learned for 5 epochs)\n",
        "embed_weights = model_1.get_layer(\"embedding_3\").get_weights()[0]\n",
        "embed_weights"
      ],
      "metadata": {
        "colab": {
          "base_uri": "https://localhost:8080/"
        },
        "id": "DUtcesXYF9_w",
        "outputId": "4fe2e64f-31a3-47dd-ef24-1c54d0c53e55"
      },
      "execution_count": 239,
      "outputs": [
        {
          "output_type": "execute_result",
          "data": {
            "text/plain": [
              "array([[-0.04403623, -0.00592298, -0.01087402, ...,  0.04359039,\n",
              "        -0.01070671, -0.01374578],\n",
              "       [-0.00128164, -0.00358714,  0.01813553, ..., -0.04749976,\n",
              "        -0.0258109 , -0.00331443],\n",
              "       [ 0.01426032, -0.05304237,  0.02409918, ...,  0.04333581,\n",
              "         0.02374695, -0.02516862],\n",
              "       ...,\n",
              "       [-0.10387441, -0.03454635,  0.10201775, ...,  0.06870296,\n",
              "        -0.02712727, -0.07230251],\n",
              "       [-0.0118618 , -0.00940547, -0.06200809, ..., -0.08189034,\n",
              "         0.02716805,  0.06245387],\n",
              "       [-0.01136811, -0.01367552, -0.00688862, ..., -0.04250362,\n",
              "        -0.03590056,  0.03451348]], dtype=float32)"
            ]
          },
          "metadata": {},
          "execution_count": 239
        }
      ]
    },
    {
      "cell_type": "code",
      "source": [
        "print(embed_weights.shape) # same size as vocab size and embedding_dim; each word embedded into 128 dim vector"
      ],
      "metadata": {
        "colab": {
          "base_uri": "https://localhost:8080/"
        },
        "id": "-TJtjPXfGOtz",
        "outputId": "17b88bc2-82b8-4334-c502-c7ca33730d60"
      },
      "execution_count": 240,
      "outputs": [
        {
          "output_type": "stream",
          "name": "stdout",
          "text": [
            "(10000, 128)\n"
          ]
        }
      ]
    },
    {
      "cell_type": "markdown",
      "source": [
        "# [Tensorflow Embedding Visualization Tool](https://projector.tensorflow.org/)"
      ],
      "metadata": {
        "id": "ndqmLVXfGeGm"
      }
    },
    {
      "cell_type": "code",
      "source": [
        "# Create embedding files\n",
        "import io\n",
        "out_v = io.open('vectors.tsv', 'w', encoding='utf-8')\n",
        "out_m = io.open('metadata.tsv', 'w', encoding='utf-8')\n",
        "\n",
        "for index, word in enumerate(words_in_vocab):\n",
        "  if index == 0:\n",
        "    continue  # skip 0, it's padding.\n",
        "  vec = embed_weights[index]\n",
        "  out_v.write('\\t'.join([str(x) for x in vec]) + \"\\n\")\n",
        "  out_m.write(word + \"\\n\")\n",
        "out_v.close()\n",
        "out_m.close()"
      ],
      "metadata": {
        "id": "rL7T1QQOG5rU"
      },
      "execution_count": 241,
      "outputs": []
    },
    {
      "cell_type": "code",
      "source": [
        "# Download files from Colab to upload to Tensorflow projector (see link above)\n",
        "try:\n",
        "  from google.colab import files\n",
        "  files.download('vectors.tsv')\n",
        "  files.download('metadata.tsv')\n",
        "except Exception:\n",
        "  pass"
      ],
      "metadata": {
        "colab": {
          "base_uri": "https://localhost:8080/",
          "height": 17
        },
        "id": "E-yFzV0uHb3Q",
        "outputId": "40124da5-7b14-4c9f-9a7a-bc022cd546c8"
      },
      "execution_count": 242,
      "outputs": [
        {
          "output_type": "display_data",
          "data": {
            "text/plain": [
              "<IPython.core.display.Javascript object>"
            ],
            "application/javascript": [
              "\n",
              "    async function download(id, filename, size) {\n",
              "      if (!google.colab.kernel.accessAllowed) {\n",
              "        return;\n",
              "      }\n",
              "      const div = document.createElement('div');\n",
              "      const label = document.createElement('label');\n",
              "      label.textContent = `Downloading \"${filename}\": `;\n",
              "      div.appendChild(label);\n",
              "      const progress = document.createElement('progress');\n",
              "      progress.max = size;\n",
              "      div.appendChild(progress);\n",
              "      document.body.appendChild(div);\n",
              "\n",
              "      const buffers = [];\n",
              "      let downloaded = 0;\n",
              "\n",
              "      const channel = await google.colab.kernel.comms.open(id);\n",
              "      // Send a message to notify the kernel that we're ready.\n",
              "      channel.send({})\n",
              "\n",
              "      for await (const message of channel.messages) {\n",
              "        // Send a message to notify the kernel that we're ready.\n",
              "        channel.send({})\n",
              "        if (message.buffers) {\n",
              "          for (const buffer of message.buffers) {\n",
              "            buffers.push(buffer);\n",
              "            downloaded += buffer.byteLength;\n",
              "            progress.value = downloaded;\n",
              "          }\n",
              "        }\n",
              "      }\n",
              "      const blob = new Blob(buffers, {type: 'application/binary'});\n",
              "      const a = document.createElement('a');\n",
              "      a.href = window.URL.createObjectURL(blob);\n",
              "      a.download = filename;\n",
              "      div.appendChild(a);\n",
              "      a.click();\n",
              "      div.remove();\n",
              "    }\n",
              "  "
            ]
          },
          "metadata": {}
        },
        {
          "output_type": "display_data",
          "data": {
            "text/plain": [
              "<IPython.core.display.Javascript object>"
            ],
            "application/javascript": [
              "download(\"download_ee82bb09-2a39-4325-bdc4-0858f1888d59\", \"vectors.tsv\", 15383005)"
            ]
          },
          "metadata": {}
        },
        {
          "output_type": "display_data",
          "data": {
            "text/plain": [
              "<IPython.core.display.Javascript object>"
            ],
            "application/javascript": [
              "\n",
              "    async function download(id, filename, size) {\n",
              "      if (!google.colab.kernel.accessAllowed) {\n",
              "        return;\n",
              "      }\n",
              "      const div = document.createElement('div');\n",
              "      const label = document.createElement('label');\n",
              "      label.textContent = `Downloading \"${filename}\": `;\n",
              "      div.appendChild(label);\n",
              "      const progress = document.createElement('progress');\n",
              "      progress.max = size;\n",
              "      div.appendChild(progress);\n",
              "      document.body.appendChild(div);\n",
              "\n",
              "      const buffers = [];\n",
              "      let downloaded = 0;\n",
              "\n",
              "      const channel = await google.colab.kernel.comms.open(id);\n",
              "      // Send a message to notify the kernel that we're ready.\n",
              "      channel.send({})\n",
              "\n",
              "      for await (const message of channel.messages) {\n",
              "        // Send a message to notify the kernel that we're ready.\n",
              "        channel.send({})\n",
              "        if (message.buffers) {\n",
              "          for (const buffer of message.buffers) {\n",
              "            buffers.push(buffer);\n",
              "            downloaded += buffer.byteLength;\n",
              "            progress.value = downloaded;\n",
              "          }\n",
              "        }\n",
              "      }\n",
              "      const blob = new Blob(buffers, {type: 'application/binary'});\n",
              "      const a = document.createElement('a');\n",
              "      a.href = window.URL.createObjectURL(blob);\n",
              "      a.download = filename;\n",
              "      div.appendChild(a);\n",
              "      a.click();\n",
              "      div.remove();\n",
              "    }\n",
              "  "
            ]
          },
          "metadata": {}
        },
        {
          "output_type": "display_data",
          "data": {
            "text/plain": [
              "<IPython.core.display.Javascript object>"
            ],
            "application/javascript": [
              "download(\"download_50e01140-d42b-4172-bc79-ed30b0055996\", \"metadata.tsv\", 80598)"
            ]
          },
          "metadata": {}
        }
      ]
    },
    {
      "cell_type": "markdown",
      "source": [
        "## Recurrent Neural Networks (RNN's)\n",
        "* Sequence data\n",
        "* Use representation of previous input to aid the representation of a later input"
      ],
      "metadata": {
        "id": "Ro4NDEhhJoQW"
      }
    },
    {
      "cell_type": "markdown",
      "source": [
        "### Model 2: LSTM\n",
        "LSTM = long short term memory (one of th most popular Recurrent Cells)\n",
        "\n",
        "RNN Structure:\n",
        "\n",
        "```\n",
        "Input (text) -> Tokenize -> Embedding -> Layers (RNNs/dense) -> Output (label probability)\n",
        "```"
      ],
      "metadata": {
        "id": "JiWRJ55rJ519"
      }
    },
    {
      "cell_type": "code",
      "source": [
        "# Create an LSTM Model\n",
        "from tensorflow.keras import layers\n",
        "inputs = layers.Input(shape=(1,), dtype=\"string\")\n",
        "x = text_vectorizer(inputs) # map text to numbers/tokens\n",
        "x = embedding(x) # create embedding vectors from tokens\n",
        "#print(x.shape)\n",
        "#x = layers.LSTM(units=64, return_sequences=True)(x) # returns a squence; maintains dims of a sequence\n",
        "# when you're stacking RNN cells together, you need to set return_sequences=True\n",
        "#   i.e. input to LSTM expected to be a sequence; the output doesn't necessarily have to be a sequence\n",
        "#print(x.shape)\n",
        "x = layers.LSTM(64)(x)\n",
        "#print(x.shape)\n",
        "#x = layers.Dense(64, activation='relu')(x)\n",
        "outputs = layers.Dense(1, activation=\"sigmoid\")(x)\n",
        "model_2 = tf.keras.Model(inputs,outputs, name=\"model_2_LSTM\")"
      ],
      "metadata": {
        "id": "w9_szk6aM-76"
      },
      "execution_count": 243,
      "outputs": []
    },
    {
      "cell_type": "code",
      "source": [
        "model_2.summary()"
      ],
      "metadata": {
        "colab": {
          "base_uri": "https://localhost:8080/"
        },
        "id": "AlXZHOzHN0wq",
        "outputId": "c8c8ef7a-05d9-4234-9dfd-582d3a14c5f6"
      },
      "execution_count": 244,
      "outputs": [
        {
          "output_type": "stream",
          "name": "stdout",
          "text": [
            "Model: \"model_2_LSTM\"\n",
            "_________________________________________________________________\n",
            " Layer (type)                Output Shape              Param #   \n",
            "=================================================================\n",
            " input_8 (InputLayer)        [(None, 1)]               0         \n",
            "                                                                 \n",
            " text_vectorization_9 (Text  (None, 15)                0         \n",
            " Vectorization)                                                  \n",
            "                                                                 \n",
            " embedding_3 (Embedding)     (None, 15, 128)           1280000   \n",
            "                                                                 \n",
            " lstm_2 (LSTM)               (None, 64)                49408     \n",
            "                                                                 \n",
            " dense_7 (Dense)             (None, 1)                 65        \n",
            "                                                                 \n",
            "=================================================================\n",
            "Total params: 1329473 (5.07 MB)\n",
            "Trainable params: 1329473 (5.07 MB)\n",
            "Non-trainable params: 0 (0.00 Byte)\n",
            "_________________________________________________________________\n"
          ]
        }
      ]
    },
    {
      "cell_type": "code",
      "source": [
        "# Compile the model\n",
        "model_2.compile(loss=\"binary_crossentropy\",\n",
        "                optimizer=tf.keras.optimizers.Adam(),\n",
        "                metrics=[\"accuracy\"])"
      ],
      "metadata": {
        "id": "1L7Hz9SWPVJr"
      },
      "execution_count": 245,
      "outputs": []
    },
    {
      "cell_type": "code",
      "source": [
        "# Fit the model\n",
        "model_2_history = model_2.fit(train_sentences,\n",
        "                              train_labels,\n",
        "                              epochs=5,\n",
        "                              validation_data=(validation_sentences,val_labels),\n",
        "                              callbacks=[create_tensorboard_callback(SAVE_DIR,\n",
        "                                                                     \"model_2_LSTM\")])"
      ],
      "metadata": {
        "colab": {
          "base_uri": "https://localhost:8080/"
        },
        "id": "7BPxznpiPfk1",
        "outputId": "a2812643-1388-4029-a37a-885dc0cc68de"
      },
      "execution_count": 246,
      "outputs": [
        {
          "output_type": "stream",
          "name": "stdout",
          "text": [
            "Saving TensorBoard log files to: model_logs/model_2_LSTM/20240509-132110\n",
            "Epoch 1/5\n",
            "215/215 [==============================] - 19s 54ms/step - loss: 0.2194 - accuracy: 0.9251 - val_loss: 0.5536 - val_accuracy: 0.7835\n",
            "Epoch 2/5\n",
            "215/215 [==============================] - 3s 14ms/step - loss: 0.1491 - accuracy: 0.9457 - val_loss: 0.6532 - val_accuracy: 0.7677\n",
            "Epoch 3/5\n",
            "215/215 [==============================] - 2s 9ms/step - loss: 0.1277 - accuracy: 0.9543 - val_loss: 0.7286 - val_accuracy: 0.7612\n",
            "Epoch 4/5\n",
            "215/215 [==============================] - 2s 9ms/step - loss: 0.1022 - accuracy: 0.9625 - val_loss: 0.8977 - val_accuracy: 0.7782\n",
            "Epoch 5/5\n",
            "215/215 [==============================] - 2s 9ms/step - loss: 0.0875 - accuracy: 0.9667 - val_loss: 0.8772 - val_accuracy: 0.7690\n"
          ]
        }
      ]
    },
    {
      "cell_type": "code",
      "source": [
        "# Make predictions with LSTM model\n",
        "model_2_pred_probs = model_2.predict(validation_sentences)\n",
        "model_2_pred_probs[:10]"
      ],
      "metadata": {
        "colab": {
          "base_uri": "https://localhost:8080/"
        },
        "id": "jPB5-aPpPsBO",
        "outputId": "a6783db5-84e4-443c-e3a3-9d56e3774c37"
      },
      "execution_count": 247,
      "outputs": [
        {
          "output_type": "stream",
          "name": "stdout",
          "text": [
            "24/24 [==============================] - 0s 3ms/step\n"
          ]
        },
        {
          "output_type": "execute_result",
          "data": {
            "text/plain": [
              "array([[9.0721331e-04],\n",
              "       [2.9540632e-03],\n",
              "       [9.9941576e-01],\n",
              "       [3.8344229e-03],\n",
              "       [9.9908364e-01],\n",
              "       [9.9694604e-01],\n",
              "       [4.6275026e-01],\n",
              "       [9.9655980e-01],\n",
              "       [1.2545059e-03],\n",
              "       [3.9470542e-04]], dtype=float32)"
            ]
          },
          "metadata": {},
          "execution_count": 247
        }
      ]
    },
    {
      "cell_type": "code",
      "source": [
        "# convert model 2 pred probs to labels\n",
        "model_2_preds = tf.squeeze(tf.round(model_2_pred_probs))\n",
        "model_2_preds[:10]"
      ],
      "metadata": {
        "colab": {
          "base_uri": "https://localhost:8080/"
        },
        "id": "B8iEK9FCP34m",
        "outputId": "257afac1-ea20-41a6-db44-13dd91bfeeec"
      },
      "execution_count": 248,
      "outputs": [
        {
          "output_type": "execute_result",
          "data": {
            "text/plain": [
              "<tf.Tensor: shape=(10,), dtype=float32, numpy=array([0., 0., 1., 0., 1., 1., 0., 1., 0., 0.], dtype=float32)>"
            ]
          },
          "metadata": {},
          "execution_count": 248
        }
      ]
    },
    {
      "cell_type": "code",
      "source": [
        "# Calculate model 2 results\n",
        "model_2_results = calculate_results(val_labels, model_2_preds)\n",
        "model_2_results"
      ],
      "metadata": {
        "colab": {
          "base_uri": "https://localhost:8080/"
        },
        "id": "tzigNgHYQC1X",
        "outputId": "fe819ff6-7e46-485e-cda5-5dcce4c97429"
      },
      "execution_count": 249,
      "outputs": [
        {
          "output_type": "execute_result",
          "data": {
            "text/plain": [
              "{'accuracy': 76.9028871391076,\n",
              " 'precision': 0.7679944435327405,\n",
              " 'recall': 0.7690288713910761,\n",
              " 'f1': 0.7678571029503982}"
            ]
          },
          "metadata": {},
          "execution_count": 249
        }
      ]
    },
    {
      "cell_type": "code",
      "source": [
        "# But baseline is still better\n",
        "baseline_results"
      ],
      "metadata": {
        "colab": {
          "base_uri": "https://localhost:8080/"
        },
        "id": "LOij4KdCQQwk",
        "outputId": "e8cdf5f2-61b9-467e-cdb9-1b6a7a29499c"
      },
      "execution_count": 250,
      "outputs": [
        {
          "output_type": "execute_result",
          "data": {
            "text/plain": [
              "{'accuracy': 78.87139107611549,\n",
              " 'precision': 0.8052727924775167,\n",
              " 'recall': 0.7887139107611548,\n",
              " 'f1': 0.7798859001389012}"
            ]
          },
          "metadata": {},
          "execution_count": 250
        }
      ]
    },
    {
      "cell_type": "markdown",
      "source": [
        "### Model 3: RNN with GRU Cell"
      ],
      "metadata": {
        "id": "I7wX88JgQVNq"
      }
    },
    {
      "cell_type": "code",
      "source": [
        "# Build an RNN using GRU Cell\n",
        "from tensorflow.keras import layers\n",
        "inputs = layers.Input(shape=(1,), dtype = tf.string)\n",
        "x = text_vectorizer(inputs)\n",
        "x = embedding(x)\n",
        "#print(x.shape)\n",
        "x = layers.GRU(64)(x) # if stacking recurrent layers, return_sequences = True\n",
        "# print(x.shape)\n",
        "# x = layers.LSTM(42, return_sequences=True)(x)\n",
        "# print(x.shape)\n",
        "# x = layers.GRU(99)(x)\n",
        "# print(x.shape)\n",
        "#x = layers.Dense(64, activation='relu')(x)\n",
        "#x = layers.GlobalAveragePooling1D()(x)\n",
        "outputs = layers.Dense(1, activation=\"sigmoid\")(x)\n",
        "model_3 = tf.keras.Model(inputs, outputs, name=\"Model_3_GRU\")"
      ],
      "metadata": {
        "id": "kOL7evrKQtL_"
      },
      "execution_count": 251,
      "outputs": []
    },
    {
      "cell_type": "code",
      "source": [
        "model_3.summary()"
      ],
      "metadata": {
        "colab": {
          "base_uri": "https://localhost:8080/"
        },
        "id": "LyZDStZLO9ob",
        "outputId": "820f6783-6c64-472d-c7fb-2cd19d737242"
      },
      "execution_count": 252,
      "outputs": [
        {
          "output_type": "stream",
          "name": "stdout",
          "text": [
            "Model: \"Model_3_GRU\"\n",
            "_________________________________________________________________\n",
            " Layer (type)                Output Shape              Param #   \n",
            "=================================================================\n",
            " input_9 (InputLayer)        [(None, 1)]               0         \n",
            "                                                                 \n",
            " text_vectorization_9 (Text  (None, 15)                0         \n",
            " Vectorization)                                                  \n",
            "                                                                 \n",
            " embedding_3 (Embedding)     (None, 15, 128)           1280000   \n",
            "                                                                 \n",
            " gru_2 (GRU)                 (None, 64)                37248     \n",
            "                                                                 \n",
            " dense_8 (Dense)             (None, 1)                 65        \n",
            "                                                                 \n",
            "=================================================================\n",
            "Total params: 1317313 (5.03 MB)\n",
            "Trainable params: 1317313 (5.03 MB)\n",
            "Non-trainable params: 0 (0.00 Byte)\n",
            "_________________________________________________________________\n"
          ]
        }
      ]
    },
    {
      "cell_type": "code",
      "source": [
        "# Compile\n",
        "model_3.compile(loss=\"binary_crossentropy\", optimizer = tf.keras.optimizers.Adam(),\n",
        "                metrics=[\"accuracy\"])"
      ],
      "metadata": {
        "id": "Dc7Z_ShTP7sb"
      },
      "execution_count": 253,
      "outputs": []
    },
    {
      "cell_type": "code",
      "source": [
        "model_3_history= model_3.fit(train_sentences,\n",
        "                             train_labels,\n",
        "                             epochs=5,\n",
        "                             validation_data=(validation_sentences, val_labels),\n",
        "                             callbacks=[create_tensorboard_callback(SAVE_DIR, \"model_3_GRU\")])"
      ],
      "metadata": {
        "colab": {
          "base_uri": "https://localhost:8080/"
        },
        "id": "AMBB35wWQrKh",
        "outputId": "f16262e4-a9a8-4475-b73c-46811f363fe5"
      },
      "execution_count": 254,
      "outputs": [
        {
          "output_type": "stream",
          "name": "stdout",
          "text": [
            "Saving TensorBoard log files to: model_logs/model_3_GRU/20240509-132139\n",
            "Epoch 1/5\n",
            "215/215 [==============================] - 14s 53ms/step - loss: 0.1508 - accuracy: 0.9423 - val_loss: 0.7135 - val_accuracy: 0.7559\n",
            "Epoch 2/5\n",
            "215/215 [==============================] - 4s 18ms/step - loss: 0.0821 - accuracy: 0.9692 - val_loss: 0.8849 - val_accuracy: 0.7533\n",
            "Epoch 3/5\n",
            "215/215 [==============================] - 2s 10ms/step - loss: 0.0713 - accuracy: 0.9731 - val_loss: 0.9032 - val_accuracy: 0.7493\n",
            "Epoch 4/5\n",
            "215/215 [==============================] - 2s 11ms/step - loss: 0.0617 - accuracy: 0.9749 - val_loss: 1.0690 - val_accuracy: 0.7559\n",
            "Epoch 5/5\n",
            "215/215 [==============================] - 2s 11ms/step - loss: 0.0541 - accuracy: 0.9783 - val_loss: 1.1303 - val_accuracy: 0.7585\n"
          ]
        }
      ]
    },
    {
      "cell_type": "code",
      "source": [
        "# Mae some predictions with our GRU model\n",
        "model_3_pred_probs = model_3.predict(validation_sentences)\n",
        "model_3_pred_probs"
      ],
      "metadata": {
        "colab": {
          "base_uri": "https://localhost:8080/"
        },
        "id": "pTMcj1TyRAff",
        "outputId": "76e4bdd5-8fc7-413d-fad1-3328267e4936"
      },
      "execution_count": 255,
      "outputs": [
        {
          "output_type": "stream",
          "name": "stdout",
          "text": [
            "24/24 [==============================] - 1s 5ms/step\n"
          ]
        },
        {
          "output_type": "execute_result",
          "data": {
            "text/plain": [
              "array([[5.77267492e-04],\n",
              "       [5.96305239e-04],\n",
              "       [9.99789178e-01],\n",
              "       [1.93540379e-03],\n",
              "       [9.99771178e-01],\n",
              "       [9.98894632e-01],\n",
              "       [3.89673263e-01],\n",
              "       [9.99612391e-01],\n",
              "       [4.49765800e-03],\n",
              "       [2.40031295e-04],\n",
              "       [2.96234590e-04],\n",
              "       [9.53831434e-01],\n",
              "       [1.82594551e-04],\n",
              "       [1.77759692e-01],\n",
              "       [1.26685509e-02],\n",
              "       [9.99898076e-01],\n",
              "       [2.00660108e-03],\n",
              "       [2.33733444e-04],\n",
              "       [9.99865413e-01],\n",
              "       [9.99891877e-01],\n",
              "       [1.28345013e-01],\n",
              "       [1.57422770e-03],\n",
              "       [2.51817517e-03],\n",
              "       [9.99789417e-01],\n",
              "       [4.00361186e-03],\n",
              "       [1.57885402e-02],\n",
              "       [3.38115904e-04],\n",
              "       [9.99807179e-01],\n",
              "       [4.90028760e-04],\n",
              "       [2.31152698e-01],\n",
              "       [9.89288688e-01],\n",
              "       [9.49019042e-04],\n",
              "       [9.52785969e-01],\n",
              "       [1.53006345e-01],\n",
              "       [2.78321877e-02],\n",
              "       [6.43130916e-04],\n",
              "       [2.92287441e-03],\n",
              "       [9.99948382e-01],\n",
              "       [9.99435484e-01],\n",
              "       [1.32047357e-02],\n",
              "       [6.78627333e-03],\n",
              "       [8.38612169e-02],\n",
              "       [9.84305382e-01],\n",
              "       [2.70778197e-04],\n",
              "       [2.98307184e-02],\n",
              "       [1.89012697e-03],\n",
              "       [5.05575001e-01],\n",
              "       [9.99765337e-01],\n",
              "       [6.14255905e-01],\n",
              "       [7.51522509e-03],\n",
              "       [7.57728934e-01],\n",
              "       [9.99867320e-01],\n",
              "       [3.03978822e-03],\n",
              "       [4.79685552e-02],\n",
              "       [3.67588340e-03],\n",
              "       [1.10219374e-01],\n",
              "       [9.99855876e-01],\n",
              "       [2.14504272e-01],\n",
              "       [6.89030509e-04],\n",
              "       [8.69501531e-01],\n",
              "       [7.06349965e-04],\n",
              "       [6.46135658e-02],\n",
              "       [1.12790920e-04],\n",
              "       [1.08603485e-01],\n",
              "       [9.99950409e-01],\n",
              "       [4.64377925e-04],\n",
              "       [1.07198425e-01],\n",
              "       [9.99859214e-01],\n",
              "       [9.99746859e-01],\n",
              "       [9.99838352e-01],\n",
              "       [8.59996080e-01],\n",
              "       [6.50692207e-04],\n",
              "       [5.17935455e-02],\n",
              "       [1.26518030e-03],\n",
              "       [2.52477884e-01],\n",
              "       [9.36603308e-01],\n",
              "       [2.76172787e-01],\n",
              "       [1.07190642e-03],\n",
              "       [4.79565497e-04],\n",
              "       [3.53227437e-01],\n",
              "       [6.98879659e-01],\n",
              "       [6.14235830e-03],\n",
              "       [1.90208182e-02],\n",
              "       [1.35231740e-03],\n",
              "       [9.97971356e-01],\n",
              "       [9.99959111e-01],\n",
              "       [9.99723017e-01],\n",
              "       [1.72893546e-04],\n",
              "       [9.92116392e-01],\n",
              "       [2.23234668e-03],\n",
              "       [3.35626602e-02],\n",
              "       [4.42846298e-01],\n",
              "       [9.99571264e-01],\n",
              "       [3.23039887e-04],\n",
              "       [8.82612348e-01],\n",
              "       [2.39351153e-04],\n",
              "       [2.30506808e-03],\n",
              "       [3.62746976e-03],\n",
              "       [9.43388402e-01],\n",
              "       [1.40240248e-02],\n",
              "       [8.68124887e-04],\n",
              "       [4.88129258e-03],\n",
              "       [9.99183238e-01],\n",
              "       [9.99843359e-01],\n",
              "       [2.99485726e-03],\n",
              "       [9.99759972e-01],\n",
              "       [9.99508023e-01],\n",
              "       [5.25428331e-04],\n",
              "       [1.56697646e-01],\n",
              "       [2.17036530e-02],\n",
              "       [6.70374110e-02],\n",
              "       [9.99637842e-01],\n",
              "       [6.44843327e-04],\n",
              "       [7.17547014e-02],\n",
              "       [8.74067187e-01],\n",
              "       [9.97861683e-01],\n",
              "       [4.74905819e-02],\n",
              "       [1.55556481e-03],\n",
              "       [1.24807628e-02],\n",
              "       [2.35169847e-03],\n",
              "       [3.73610497e-01],\n",
              "       [1.68741904e-02],\n",
              "       [5.91644198e-02],\n",
              "       [9.99320626e-01],\n",
              "       [6.05997778e-02],\n",
              "       [4.95630234e-01],\n",
              "       [4.43291967e-04],\n",
              "       [8.70095968e-01],\n",
              "       [9.90103900e-01],\n",
              "       [1.23483664e-03],\n",
              "       [2.63442495e-03],\n",
              "       [6.56384835e-03],\n",
              "       [3.50836967e-03],\n",
              "       [9.99887109e-01],\n",
              "       [1.58849964e-03],\n",
              "       [1.63101032e-01],\n",
              "       [5.72456233e-02],\n",
              "       [9.99322653e-01],\n",
              "       [1.41242883e-04],\n",
              "       [9.99810278e-01],\n",
              "       [1.58737894e-04],\n",
              "       [8.06183496e-04],\n",
              "       [1.68663522e-04],\n",
              "       [1.00432687e-01],\n",
              "       [9.99587953e-01],\n",
              "       [9.99963164e-01],\n",
              "       [9.99628186e-01],\n",
              "       [3.80319208e-01],\n",
              "       [9.96139050e-02],\n",
              "       [1.24555343e-04],\n",
              "       [5.07517695e-01],\n",
              "       [9.99754131e-01],\n",
              "       [9.90456283e-01],\n",
              "       [9.61254776e-01],\n",
              "       [1.14030787e-04],\n",
              "       [6.22399326e-04],\n",
              "       [9.99488235e-01],\n",
              "       [4.10353561e-04],\n",
              "       [9.21246409e-01],\n",
              "       [9.99963164e-01],\n",
              "       [9.16428506e-01],\n",
              "       [8.48768651e-01],\n",
              "       [4.65651392e-04],\n",
              "       [1.66849997e-02],\n",
              "       [8.86427462e-01],\n",
              "       [9.37609017e-01],\n",
              "       [9.99804318e-01],\n",
              "       [3.89885344e-03],\n",
              "       [9.97804344e-01],\n",
              "       [2.29229927e-02],\n",
              "       [6.31743157e-03],\n",
              "       [1.03971465e-02],\n",
              "       [2.37854911e-04],\n",
              "       [9.98117447e-01],\n",
              "       [8.08107555e-02],\n",
              "       [9.99959111e-01],\n",
              "       [2.30497710e-04],\n",
              "       [9.96009469e-01],\n",
              "       [1.75133493e-04],\n",
              "       [6.95887068e-03],\n",
              "       [9.00247321e-02],\n",
              "       [6.39425067e-04],\n",
              "       [9.89004299e-02],\n",
              "       [5.94166666e-03],\n",
              "       [9.99880075e-01],\n",
              "       [7.35370268e-04],\n",
              "       [2.50478508e-03],\n",
              "       [2.27374025e-02],\n",
              "       [5.05459539e-05],\n",
              "       [9.99876142e-01],\n",
              "       [1.94703251e-01],\n",
              "       [9.48971882e-03],\n",
              "       [2.31395665e-04],\n",
              "       [5.62398112e-04],\n",
              "       [2.42233858e-03],\n",
              "       [9.20247810e-04],\n",
              "       [2.58003036e-03],\n",
              "       [2.47691525e-04],\n",
              "       [2.87122140e-03],\n",
              "       [9.99657869e-01],\n",
              "       [9.99461949e-01],\n",
              "       [9.99377310e-01],\n",
              "       [3.16356687e-04],\n",
              "       [3.22394937e-01],\n",
              "       [9.98971224e-01],\n",
              "       [3.09929624e-03],\n",
              "       [6.00031495e-01],\n",
              "       [2.31958067e-04],\n",
              "       [3.94012546e-04],\n",
              "       [9.99678731e-01],\n",
              "       [6.62404113e-04],\n",
              "       [9.98881757e-01],\n",
              "       [9.99247789e-01],\n",
              "       [9.99913096e-01],\n",
              "       [1.33475417e-03],\n",
              "       [2.88793240e-02],\n",
              "       [1.61078319e-01],\n",
              "       [8.05651620e-02],\n",
              "       [3.01557593e-04],\n",
              "       [3.29578039e-03],\n",
              "       [9.96806264e-01],\n",
              "       [4.65352816e-04],\n",
              "       [5.70850493e-03],\n",
              "       [9.99710262e-01],\n",
              "       [1.50904572e-03],\n",
              "       [1.11706016e-04],\n",
              "       [1.32305009e-04],\n",
              "       [9.99853730e-01],\n",
              "       [1.99714657e-02],\n",
              "       [4.51949716e-04],\n",
              "       [8.98591936e-01],\n",
              "       [9.99741971e-01],\n",
              "       [1.08888820e-01],\n",
              "       [5.33622019e-02],\n",
              "       [2.05410905e-02],\n",
              "       [1.10564462e-03],\n",
              "       [4.65712091e-03],\n",
              "       [1.24627579e-04],\n",
              "       [9.99960184e-01],\n",
              "       [9.94578362e-01],\n",
              "       [2.28122901e-03],\n",
              "       [9.99864340e-01],\n",
              "       [5.81735931e-02],\n",
              "       [9.99960423e-01],\n",
              "       [1.13056503e-01],\n",
              "       [9.98401821e-01],\n",
              "       [8.15547479e-04],\n",
              "       [9.98580933e-01],\n",
              "       [9.99787748e-01],\n",
              "       [9.99796331e-01],\n",
              "       [4.18313895e-04],\n",
              "       [7.51491054e-04],\n",
              "       [9.48347867e-01],\n",
              "       [1.80925280e-01],\n",
              "       [7.77178211e-04],\n",
              "       [5.98976249e-03],\n",
              "       [9.99922991e-01],\n",
              "       [9.36677621e-04],\n",
              "       [9.45291598e-04],\n",
              "       [9.66396276e-03],\n",
              "       [1.97153352e-03],\n",
              "       [1.08096225e-03],\n",
              "       [1.02887418e-04],\n",
              "       [3.84699136e-01],\n",
              "       [9.99830961e-01],\n",
              "       [1.72072276e-02],\n",
              "       [9.95902479e-01],\n",
              "       [3.41396593e-03],\n",
              "       [1.04196952e-03],\n",
              "       [7.69328838e-03],\n",
              "       [9.99798954e-01],\n",
              "       [1.23033701e-02],\n",
              "       [2.45691225e-01],\n",
              "       [9.99813855e-01],\n",
              "       [9.99789894e-01],\n",
              "       [5.72456233e-02],\n",
              "       [9.99875307e-01],\n",
              "       [1.12748751e-03],\n",
              "       [2.97536906e-02],\n",
              "       [9.99226809e-01],\n",
              "       [7.62576330e-03],\n",
              "       [5.00375929e-04],\n",
              "       [1.84080005e-03],\n",
              "       [2.34208498e-02],\n",
              "       [9.52530861e-01],\n",
              "       [9.98459220e-01],\n",
              "       [4.73985740e-04],\n",
              "       [1.83889549e-03],\n",
              "       [9.99795496e-01],\n",
              "       [3.16356687e-04],\n",
              "       [9.96395767e-01],\n",
              "       [9.98285234e-01],\n",
              "       [9.99597132e-01],\n",
              "       [2.38622651e-02],\n",
              "       [9.99680400e-01],\n",
              "       [9.99877572e-01],\n",
              "       [1.06820405e-01],\n",
              "       [9.99663711e-01],\n",
              "       [1.05682309e-04],\n",
              "       [8.50024521e-01],\n",
              "       [4.31403023e-04],\n",
              "       [9.23259370e-03],\n",
              "       [9.99205887e-01],\n",
              "       [9.98911977e-01],\n",
              "       [1.08512506e-01],\n",
              "       [5.49004506e-03],\n",
              "       [8.34061205e-03],\n",
              "       [8.35772514e-01],\n",
              "       [6.40807822e-02],\n",
              "       [6.13162061e-04],\n",
              "       [4.89170488e-04],\n",
              "       [7.38104701e-01],\n",
              "       [4.06489253e-01],\n",
              "       [5.72902635e-02],\n",
              "       [2.41021335e-01],\n",
              "       [3.45475948e-03],\n",
              "       [9.40164775e-02],\n",
              "       [9.99906301e-01],\n",
              "       [5.87424822e-02],\n",
              "       [7.90997146e-05],\n",
              "       [9.99799073e-01],\n",
              "       [1.89580709e-01],\n",
              "       [5.47343120e-03],\n",
              "       [4.95537408e-02],\n",
              "       [1.35579598e-04],\n",
              "       [3.77410121e-04],\n",
              "       [9.99810159e-01],\n",
              "       [9.99875307e-01],\n",
              "       [3.83166131e-04],\n",
              "       [1.86134689e-02],\n",
              "       [5.71847660e-04],\n",
              "       [9.96993065e-01],\n",
              "       [1.12340879e-03],\n",
              "       [9.97918546e-01],\n",
              "       [4.07748759e-01],\n",
              "       [7.11507921e-04],\n",
              "       [1.09543162e-03],\n",
              "       [5.12084574e-04],\n",
              "       [7.46106845e-04],\n",
              "       [9.99897361e-01],\n",
              "       [8.90268348e-05],\n",
              "       [2.52797812e-01],\n",
              "       [6.19218918e-03],\n",
              "       [9.46778506e-02],\n",
              "       [9.99395370e-01],\n",
              "       [8.63048077e-01],\n",
              "       [1.19375740e-03],\n",
              "       [1.11081349e-02],\n",
              "       [1.07858353e-03],\n",
              "       [7.09300628e-03],\n",
              "       [2.61017263e-01],\n",
              "       [6.14314759e-03],\n",
              "       [1.92098901e-01],\n",
              "       [1.62434891e-01],\n",
              "       [3.75407904e-01],\n",
              "       [1.87201366e-01],\n",
              "       [5.45662420e-04],\n",
              "       [5.63858449e-02],\n",
              "       [1.18499035e-02],\n",
              "       [1.97139825e-03],\n",
              "       [3.23597388e-03],\n",
              "       [2.20877017e-04],\n",
              "       [9.99885082e-01],\n",
              "       [2.10524276e-02],\n",
              "       [1.56379689e-03],\n",
              "       [9.99725759e-01],\n",
              "       [9.09003139e-01],\n",
              "       [1.41058967e-01],\n",
              "       [4.96726076e-04],\n",
              "       [6.61584927e-05],\n",
              "       [9.93549764e-01],\n",
              "       [9.98135448e-01],\n",
              "       [9.10488069e-02],\n",
              "       [4.22056793e-04],\n",
              "       [1.59863441e-04],\n",
              "       [9.99927759e-01],\n",
              "       [2.70934950e-04],\n",
              "       [6.38877079e-02],\n",
              "       [4.77877319e-01],\n",
              "       [7.19422707e-03],\n",
              "       [1.79761246e-01],\n",
              "       [5.16815018e-03],\n",
              "       [9.94244993e-01],\n",
              "       [8.21411610e-01],\n",
              "       [9.99934554e-01],\n",
              "       [9.99791205e-01],\n",
              "       [9.99942303e-01],\n",
              "       [9.99777257e-01],\n",
              "       [7.30212079e-03],\n",
              "       [9.99923825e-01],\n",
              "       [2.51031201e-03],\n",
              "       [3.55777115e-01],\n",
              "       [3.39308084e-04],\n",
              "       [9.17887390e-02],\n",
              "       [9.99830723e-01],\n",
              "       [9.99861956e-01],\n",
              "       [9.51854408e-01],\n",
              "       [3.35867342e-04],\n",
              "       [3.65590215e-01],\n",
              "       [1.47630705e-03],\n",
              "       [9.99962449e-01],\n",
              "       [9.99224782e-01],\n",
              "       [9.89515424e-01],\n",
              "       [2.42878756e-04],\n",
              "       [9.99241471e-02],\n",
              "       [1.29592866e-02],\n",
              "       [3.57459262e-02],\n",
              "       [3.59285809e-02],\n",
              "       [9.89004299e-02],\n",
              "       [9.99257505e-01],\n",
              "       [1.47250923e-03],\n",
              "       [4.03373881e-04],\n",
              "       [3.90108587e-04],\n",
              "       [3.79211724e-01],\n",
              "       [2.10459417e-04],\n",
              "       [8.19397807e-01],\n",
              "       [9.99058664e-01],\n",
              "       [1.88652135e-03],\n",
              "       [9.98698950e-01],\n",
              "       [7.78678441e-05],\n",
              "       [9.99965072e-01],\n",
              "       [9.99669433e-01],\n",
              "       [9.99677777e-01],\n",
              "       [9.98968363e-01],\n",
              "       [9.98598397e-01],\n",
              "       [2.12221488e-01],\n",
              "       [2.42730882e-03],\n",
              "       [9.99339640e-01],\n",
              "       [4.35112000e-01],\n",
              "       [6.38554571e-03],\n",
              "       [2.69120544e-01],\n",
              "       [8.22511494e-01],\n",
              "       [2.15070233e-01],\n",
              "       [9.42304134e-01],\n",
              "       [4.60132919e-02],\n",
              "       [1.83454715e-04],\n",
              "       [9.99861121e-01],\n",
              "       [4.45949234e-04],\n",
              "       [2.68454663e-04],\n",
              "       [1.89861253e-01],\n",
              "       [9.99871373e-01],\n",
              "       [8.96205485e-04],\n",
              "       [4.81280527e-04],\n",
              "       [2.21796357e-03],\n",
              "       [9.99816835e-01],\n",
              "       [9.59507888e-04],\n",
              "       [1.46012509e-03],\n",
              "       [1.60184532e-01],\n",
              "       [9.99793351e-01],\n",
              "       [9.92537677e-01],\n",
              "       [4.64045793e-01],\n",
              "       [9.51475441e-01],\n",
              "       [2.10061859e-04],\n",
              "       [6.35085860e-04],\n",
              "       [2.42687092e-04],\n",
              "       [5.87448657e-01],\n",
              "       [9.16120827e-01],\n",
              "       [6.36505370e-04],\n",
              "       [5.43513219e-04],\n",
              "       [5.69983184e-01],\n",
              "       [5.61917961e-01],\n",
              "       [9.95629700e-04],\n",
              "       [9.98768032e-01],\n",
              "       [9.21802998e-01],\n",
              "       [2.44430564e-02],\n",
              "       [1.16210605e-03],\n",
              "       [9.79501426e-01],\n",
              "       [4.02820937e-04],\n",
              "       [7.27005885e-04],\n",
              "       [9.97197747e-01],\n",
              "       [3.03573102e-01],\n",
              "       [6.13967963e-02],\n",
              "       [7.91744068e-02],\n",
              "       [9.99598682e-01],\n",
              "       [3.41729224e-01],\n",
              "       [2.71415309e-04],\n",
              "       [3.11916526e-02],\n",
              "       [9.99769509e-01],\n",
              "       [5.44106262e-03],\n",
              "       [9.99814093e-01],\n",
              "       [5.34654595e-02],\n",
              "       [9.97673571e-01],\n",
              "       [1.67533100e-01],\n",
              "       [9.94454324e-01],\n",
              "       [8.76625476e-04],\n",
              "       [6.42619678e-04],\n",
              "       [8.96724761e-01],\n",
              "       [4.77109104e-03],\n",
              "       [9.98706222e-01],\n",
              "       [9.99967933e-01],\n",
              "       [9.99882936e-01],\n",
              "       [9.99151587e-01],\n",
              "       [2.74055928e-04],\n",
              "       [3.88731132e-04],\n",
              "       [5.01294732e-01],\n",
              "       [4.86524224e-01],\n",
              "       [9.99517918e-01],\n",
              "       [9.98104811e-01],\n",
              "       [4.19923570e-03],\n",
              "       [1.36035471e-03],\n",
              "       [9.99904394e-01],\n",
              "       [1.24883722e-03],\n",
              "       [6.30877505e-04],\n",
              "       [2.11857766e-01],\n",
              "       [1.60643237e-03],\n",
              "       [9.99974608e-01],\n",
              "       [9.99958038e-01],\n",
              "       [2.77847052e-04],\n",
              "       [9.99804199e-01],\n",
              "       [1.15276693e-04],\n",
              "       [2.76251649e-03],\n",
              "       [1.47501793e-04],\n",
              "       [1.50276318e-01],\n",
              "       [9.99364913e-01],\n",
              "       [8.32525253e-01],\n",
              "       [5.16753867e-02],\n",
              "       [9.99779642e-01],\n",
              "       [9.45438981e-01],\n",
              "       [9.99966383e-01],\n",
              "       [6.40271306e-02],\n",
              "       [1.21435733e-03],\n",
              "       [8.36791296e-05],\n",
              "       [1.06904270e-04],\n",
              "       [1.27384928e-03],\n",
              "       [1.43839628e-03],\n",
              "       [9.97533798e-01],\n",
              "       [1.36803836e-02],\n",
              "       [9.99566734e-01],\n",
              "       [9.20804858e-01],\n",
              "       [1.80975780e-01],\n",
              "       [9.99744833e-01],\n",
              "       [9.99583423e-01],\n",
              "       [9.99875307e-01],\n",
              "       [5.91896428e-03],\n",
              "       [3.30723880e-04],\n",
              "       [9.99911785e-01],\n",
              "       [9.99835372e-01],\n",
              "       [2.87040979e-01],\n",
              "       [8.30908772e-03],\n",
              "       [9.99823511e-01],\n",
              "       [9.99854922e-01],\n",
              "       [9.98635352e-01],\n",
              "       [7.12649757e-03],\n",
              "       [9.99724090e-01],\n",
              "       [7.73539901e-01],\n",
              "       [2.04797660e-04],\n",
              "       [9.99922752e-01],\n",
              "       [3.53765398e-01],\n",
              "       [1.51897714e-01],\n",
              "       [2.45808661e-01],\n",
              "       [9.85673845e-01],\n",
              "       [1.61183234e-02],\n",
              "       [9.93639529e-01],\n",
              "       [6.08721197e-01],\n",
              "       [9.99967933e-01],\n",
              "       [9.99832869e-01],\n",
              "       [8.81605923e-01],\n",
              "       [9.99757111e-01],\n",
              "       [9.99264657e-01],\n",
              "       [9.99962568e-01],\n",
              "       [9.99848008e-01],\n",
              "       [5.47903955e-01],\n",
              "       [1.33660535e-04],\n",
              "       [9.99895811e-01],\n",
              "       [9.99607980e-01],\n",
              "       [9.99932766e-01],\n",
              "       [2.23266752e-03],\n",
              "       [4.24080557e-04],\n",
              "       [1.24887116e-02],\n",
              "       [9.29814696e-01],\n",
              "       [3.31357558e-04],\n",
              "       [1.08700115e-02],\n",
              "       [5.71252545e-04],\n",
              "       [9.89967108e-01],\n",
              "       [5.61558962e-01],\n",
              "       [9.99841809e-01],\n",
              "       [9.99864936e-01],\n",
              "       [3.85054643e-03],\n",
              "       [4.46263282e-03],\n",
              "       [6.45115069e-05],\n",
              "       [3.46816727e-04],\n",
              "       [7.91432261e-02],\n",
              "       [9.93992865e-01],\n",
              "       [7.94196844e-01],\n",
              "       [9.99890566e-01],\n",
              "       [5.08906320e-02],\n",
              "       [7.00016273e-04],\n",
              "       [1.06864646e-01],\n",
              "       [3.53808641e-01],\n",
              "       [5.07190824e-01],\n",
              "       [9.99749720e-01],\n",
              "       [6.09644409e-03],\n",
              "       [2.18475014e-02],\n",
              "       [9.08747243e-05],\n",
              "       [6.16059056e-04],\n",
              "       [4.93735261e-03],\n",
              "       [4.39221319e-03],\n",
              "       [9.84081775e-02],\n",
              "       [3.90108587e-04],\n",
              "       [2.22723000e-03],\n",
              "       [5.91259487e-02],\n",
              "       [2.38097477e-04],\n",
              "       [9.95508313e-01],\n",
              "       [9.99735773e-01],\n",
              "       [2.91296165e-04],\n",
              "       [3.00574786e-04],\n",
              "       [9.84979689e-01],\n",
              "       [8.44978786e-04],\n",
              "       [9.95484710e-01],\n",
              "       [5.77795923e-01],\n",
              "       [9.99783456e-01],\n",
              "       [2.08158192e-04],\n",
              "       [9.12860990e-01],\n",
              "       [9.27067769e-04],\n",
              "       [9.12861049e-01],\n",
              "       [5.56353759e-03],\n",
              "       [2.65765353e-03],\n",
              "       [9.99607742e-01],\n",
              "       [7.30759203e-01],\n",
              "       [9.99933600e-01],\n",
              "       [9.93894637e-01],\n",
              "       [2.87040979e-01],\n",
              "       [3.91227826e-02],\n",
              "       [2.12881006e-02],\n",
              "       [4.16169688e-02],\n",
              "       [9.99887109e-01],\n",
              "       [7.01116621e-01],\n",
              "       [9.99875307e-01],\n",
              "       [1.42253637e-01],\n",
              "       [9.99251425e-01],\n",
              "       [8.88571799e-01],\n",
              "       [1.11706016e-04],\n",
              "       [9.96651590e-01],\n",
              "       [4.99835163e-02],\n",
              "       [1.41107524e-03],\n",
              "       [9.99895811e-01],\n",
              "       [9.99914289e-01],\n",
              "       [3.06134531e-03],\n",
              "       [9.99540329e-01],\n",
              "       [9.99716461e-01],\n",
              "       [9.99702752e-01],\n",
              "       [8.56873021e-03],\n",
              "       [5.21325157e-04],\n",
              "       [9.99919534e-01],\n",
              "       [9.99949574e-01],\n",
              "       [9.98640239e-01],\n",
              "       [9.78171408e-01],\n",
              "       [9.94351983e-01],\n",
              "       [3.66460010e-02],\n",
              "       [7.56904483e-03],\n",
              "       [3.92834060e-02],\n",
              "       [9.45278502e-04],\n",
              "       [1.11478192e-04],\n",
              "       [5.28744189e-04],\n",
              "       [5.26035437e-04],\n",
              "       [7.30458274e-03],\n",
              "       [7.60137364e-02],\n",
              "       [1.35693408e-04],\n",
              "       [8.76091217e-05],\n",
              "       [9.99931693e-01],\n",
              "       [1.45611377e-03],\n",
              "       [5.08249830e-03],\n",
              "       [7.78786512e-03],\n",
              "       [9.66340420e-04],\n",
              "       [4.16532680e-02],\n",
              "       [9.80629861e-01],\n",
              "       [1.04101084e-01],\n",
              "       [8.56066346e-01],\n",
              "       [9.99063075e-01],\n",
              "       [9.98766899e-01],\n",
              "       [8.06949940e-03],\n",
              "       [9.99931693e-01],\n",
              "       [9.99099970e-01],\n",
              "       [9.74606395e-01],\n",
              "       [2.60534864e-02],\n",
              "       [3.72819632e-04],\n",
              "       [3.65040614e-04],\n",
              "       [1.64758379e-03],\n",
              "       [9.04799812e-03],\n",
              "       [9.91825461e-01],\n",
              "       [4.34479502e-04],\n",
              "       [2.19380105e-04],\n",
              "       [9.99876380e-01],\n",
              "       [9.99890089e-01],\n",
              "       [1.62569209e-04],\n",
              "       [9.74033356e-01],\n",
              "       [6.99829519e-01],\n",
              "       [1.21282984e-03],\n",
              "       [4.55374345e-02],\n",
              "       [9.99962449e-01],\n",
              "       [2.13085487e-03],\n",
              "       [9.99323845e-01],\n",
              "       [7.07094789e-01],\n",
              "       [2.42564499e-01],\n",
              "       [1.83136947e-02],\n",
              "       [1.86871082e-04],\n",
              "       [5.32616954e-03],\n",
              "       [7.78719604e-01],\n",
              "       [7.94954747e-02],\n",
              "       [9.99779522e-01],\n",
              "       [9.99959111e-01],\n",
              "       [2.35547144e-02],\n",
              "       [6.77991152e-01],\n",
              "       [9.99891996e-01],\n",
              "       [5.51496446e-02],\n",
              "       [9.03961360e-01],\n",
              "       [5.64177446e-02],\n",
              "       [1.21889089e-03],\n",
              "       [9.99790132e-01],\n",
              "       [8.19464177e-02],\n",
              "       [1.17421430e-02],\n",
              "       [8.78619552e-01],\n",
              "       [6.81915879e-02],\n",
              "       [9.95503604e-01],\n",
              "       [7.10431719e-04],\n",
              "       [4.12609398e-01],\n",
              "       [6.24095559e-01],\n",
              "       [9.20662463e-01],\n",
              "       [6.70865484e-05],\n",
              "       [9.99087691e-01],\n",
              "       [5.40424022e-04],\n",
              "       [3.84316838e-04],\n",
              "       [9.99974489e-01],\n",
              "       [2.60552242e-02],\n",
              "       [9.99757707e-01],\n",
              "       [4.96795168e-04],\n",
              "       [5.34832012e-04],\n",
              "       [9.71524864e-02],\n",
              "       [2.58505717e-02],\n",
              "       [1.48004922e-03],\n",
              "       [8.53078306e-01],\n",
              "       [2.92485952e-01],\n",
              "       [9.99865413e-01],\n",
              "       [9.99769747e-01],\n",
              "       [1.66226178e-04],\n",
              "       [2.24325317e-03],\n",
              "       [3.63603234e-04],\n",
              "       [9.99050081e-01],\n",
              "       [7.03074694e-01],\n",
              "       [9.81683373e-01],\n",
              "       [9.99915361e-01],\n",
              "       [1.07854962e-01],\n",
              "       [6.98066533e-01],\n",
              "       [1.04802653e-01],\n",
              "       [4.48620200e-01],\n",
              "       [9.99910831e-01],\n",
              "       [9.99508619e-01],\n",
              "       [9.99855280e-01],\n",
              "       [9.99787033e-01],\n",
              "       [9.99779761e-01],\n",
              "       [9.99985456e-01],\n",
              "       [9.96533513e-01],\n",
              "       [4.35945857e-03],\n",
              "       [7.96423235e-04],\n",
              "       [9.99959350e-01],\n",
              "       [4.28982050e-04],\n",
              "       [1.42418668e-02],\n",
              "       [9.94645238e-01],\n",
              "       [2.46182710e-01],\n",
              "       [5.21882810e-02],\n",
              "       [9.70417459e-04],\n",
              "       [9.99896646e-01]], dtype=float32)"
            ]
          },
          "metadata": {},
          "execution_count": 255
        }
      ]
    },
    {
      "cell_type": "code",
      "source": [
        "# Convert pred probs ot labels\n",
        "model_3_preds = tf.squeeze(tf.round(model_3_pred_probs))\n",
        "model_3_preds"
      ],
      "metadata": {
        "colab": {
          "base_uri": "https://localhost:8080/"
        },
        "id": "VP8QvndzRY6s",
        "outputId": "072fd0f2-79f4-4692-c246-fdcfa7ffed8a"
      },
      "execution_count": 256,
      "outputs": [
        {
          "output_type": "execute_result",
          "data": {
            "text/plain": [
              "<tf.Tensor: shape=(762,), dtype=float32, numpy=\n",
              "array([0., 0., 1., 0., 1., 1., 0., 1., 0., 0., 0., 1., 0., 0., 0., 1., 0.,\n",
              "       0., 1., 1., 0., 0., 0., 1., 0., 0., 0., 1., 0., 0., 1., 0., 1., 0.,\n",
              "       0., 0., 0., 1., 1., 0., 0., 0., 1., 0., 0., 0., 1., 1., 1., 0., 1.,\n",
              "       1., 0., 0., 0., 0., 1., 0., 0., 1., 0., 0., 0., 0., 1., 0., 0., 1.,\n",
              "       1., 1., 1., 0., 0., 0., 0., 1., 0., 0., 0., 0., 1., 0., 0., 0., 1.,\n",
              "       1., 1., 0., 1., 0., 0., 0., 1., 0., 1., 0., 0., 0., 1., 0., 0., 0.,\n",
              "       1., 1., 0., 1., 1., 0., 0., 0., 0., 1., 0., 0., 1., 1., 0., 0., 0.,\n",
              "       0., 0., 0., 0., 1., 0., 0., 0., 1., 1., 0., 0., 0., 0., 1., 0., 0.,\n",
              "       0., 1., 0., 1., 0., 0., 0., 0., 1., 1., 1., 0., 0., 0., 1., 1., 1.,\n",
              "       1., 0., 0., 1., 0., 1., 1., 1., 1., 0., 0., 1., 1., 1., 0., 1., 0.,\n",
              "       0., 0., 0., 1., 0., 1., 0., 1., 0., 0., 0., 0., 0., 0., 1., 0., 0.,\n",
              "       0., 0., 1., 0., 0., 0., 0., 0., 0., 0., 0., 0., 1., 1., 1., 0., 0.,\n",
              "       1., 0., 1., 0., 0., 1., 0., 1., 1., 1., 0., 0., 0., 0., 0., 0., 1.,\n",
              "       0., 0., 1., 0., 0., 0., 1., 0., 0., 1., 1., 0., 0., 0., 0., 0., 0.,\n",
              "       1., 1., 0., 1., 0., 1., 0., 1., 0., 1., 1., 1., 0., 0., 1., 0., 0.,\n",
              "       0., 1., 0., 0., 0., 0., 0., 0., 0., 1., 0., 1., 0., 0., 0., 1., 0.,\n",
              "       0., 1., 1., 0., 1., 0., 0., 1., 0., 0., 0., 0., 1., 1., 0., 0., 1.,\n",
              "       0., 1., 1., 1., 0., 1., 1., 0., 1., 0., 1., 0., 0., 1., 1., 0., 0.,\n",
              "       0., 1., 0., 0., 0., 1., 0., 0., 0., 0., 0., 1., 0., 0., 1., 0., 0.,\n",
              "       0., 0., 0., 1., 1., 0., 0., 0., 1., 0., 1., 0., 0., 0., 0., 0., 1.,\n",
              "       0., 0., 0., 0., 1., 1., 0., 0., 0., 0., 0., 0., 0., 0., 0., 0., 0.,\n",
              "       0., 0., 0., 0., 0., 1., 0., 0., 1., 1., 0., 0., 0., 1., 1., 0., 0.,\n",
              "       0., 1., 0., 0., 0., 0., 0., 0., 1., 1., 1., 1., 1., 1., 0., 1., 0.,\n",
              "       0., 0., 0., 1., 1., 1., 0., 0., 0., 1., 1., 1., 0., 0., 0., 0., 0.,\n",
              "       0., 1., 0., 0., 0., 0., 0., 1., 1., 0., 1., 0., 1., 1., 1., 1., 1.,\n",
              "       0., 0., 1., 0., 0., 0., 1., 0., 1., 0., 0., 1., 0., 0., 0., 1., 0.,\n",
              "       0., 0., 1., 0., 0., 0., 1., 1., 0., 1., 0., 0., 0., 1., 1., 0., 0.,\n",
              "       1., 1., 0., 1., 1., 0., 0., 1., 0., 0., 1., 0., 0., 0., 1., 0., 0.,\n",
              "       0., 1., 0., 1., 0., 1., 0., 1., 0., 0., 1., 0., 1., 1., 1., 1., 0.,\n",
              "       0., 1., 0., 1., 1., 0., 0., 1., 0., 0., 0., 0., 1., 1., 0., 1., 0.,\n",
              "       0., 0., 0., 1., 1., 0., 1., 1., 1., 0., 0., 0., 0., 0., 0., 1., 0.,\n",
              "       1., 1., 0., 1., 1., 1., 0., 0., 1., 1., 0., 0., 1., 1., 1., 0., 1.,\n",
              "       1., 0., 1., 0., 0., 0., 1., 0., 1., 1., 1., 1., 1., 1., 1., 1., 1.,\n",
              "       1., 0., 1., 1., 1., 0., 0., 0., 1., 0., 0., 0., 1., 1., 1., 1., 0.,\n",
              "       0., 0., 0., 0., 1., 1., 1., 0., 0., 0., 0., 1., 1., 0., 0., 0., 0.,\n",
              "       0., 0., 0., 0., 0., 0., 0., 1., 1., 0., 0., 1., 0., 1., 1., 1., 0.,\n",
              "       1., 0., 1., 0., 0., 1., 1., 1., 1., 0., 0., 0., 0., 1., 1., 1., 0.,\n",
              "       1., 1., 0., 1., 0., 0., 1., 1., 0., 1., 1., 1., 0., 0., 1., 1., 1.,\n",
              "       1., 1., 0., 0., 0., 0., 0., 0., 0., 0., 0., 0., 0., 1., 0., 0., 0.,\n",
              "       0., 0., 1., 0., 1., 1., 1., 0., 1., 1., 1., 0., 0., 0., 0., 0., 1.,\n",
              "       0., 0., 1., 1., 0., 1., 1., 0., 0., 1., 0., 1., 1., 0., 0., 0., 0.,\n",
              "       1., 0., 1., 1., 0., 1., 1., 0., 1., 0., 0., 1., 0., 0., 1., 0., 1.,\n",
              "       0., 0., 1., 1., 0., 1., 0., 0., 1., 0., 1., 0., 0., 0., 0., 0., 1.,\n",
              "       0., 1., 1., 0., 0., 0., 1., 1., 1., 1., 0., 1., 0., 0., 1., 1., 1.,\n",
              "       1., 1., 1., 1., 0., 0., 1., 0., 0., 1., 0., 0., 0., 1.],\n",
              "      dtype=float32)>"
            ]
          },
          "metadata": {},
          "execution_count": 256
        }
      ]
    },
    {
      "cell_type": "code",
      "source": [
        "# Calcualte model 3 results\n",
        "model_3_results = calculate_results(y_true=val_labels,\n",
        "                                    y_pred=model_3_preds)\n",
        "model_3_results"
      ],
      "metadata": {
        "colab": {
          "base_uri": "https://localhost:8080/"
        },
        "id": "mwjOIgWcRoWw",
        "outputId": "22fc0321-39e0-4f91-951d-419fc3ebd8c7"
      },
      "execution_count": 257,
      "outputs": [
        {
          "output_type": "execute_result",
          "data": {
            "text/plain": [
              "{'accuracy': 75.8530183727034,\n",
              " 'precision': 0.7573698183160616,\n",
              " 'recall': 0.7585301837270341,\n",
              " 'f1': 0.7573051530845072}"
            ]
          },
          "metadata": {},
          "execution_count": 257
        }
      ]
    },
    {
      "cell_type": "markdown",
      "source": [
        "## Model 4: Bidirecitonal RNN\n",
        "\n",
        "Normal RNN's go from left to right\n",
        "\n",
        "Bidirecitonal RNN's to right to left as well as left to right (picks up more context)"
      ],
      "metadata": {
        "id": "3EpOteEqRykS"
      }
    },
    {
      "cell_type": "code",
      "source": [
        "# Build a bidirectional RNN in TF\n",
        "from tensorflow.keras import layers\n",
        "inputs = layers.Input(shape=(1,), dtype=\"string\")\n",
        "x = text_vectorizer(inputs)\n",
        "x = embedding(x)\n",
        "x = layers.Bidirectional(layers.LSTM(64, return_sequences=True))(x)\n",
        "x = layers.Bidirectional(layers.GRU(64))(x)\n",
        "outputs = layers.Dense(1, activation=\"sigmoid\")(x)\n",
        "model_4 = tf.keras.Model(inputs,outputs, name=\"model_4_bidirectional\")\n"
      ],
      "metadata": {
        "id": "9pDNRUYbYsfU"
      },
      "execution_count": 258,
      "outputs": []
    },
    {
      "cell_type": "code",
      "source": [
        "model_4.summary()"
      ],
      "metadata": {
        "colab": {
          "base_uri": "https://localhost:8080/"
        },
        "id": "InMdX6lyZu-_",
        "outputId": "296cde94-30c1-48e7-ac39-e5292fb9171d"
      },
      "execution_count": 259,
      "outputs": [
        {
          "output_type": "stream",
          "name": "stdout",
          "text": [
            "Model: \"model_4_bidirectional\"\n",
            "_________________________________________________________________\n",
            " Layer (type)                Output Shape              Param #   \n",
            "=================================================================\n",
            " input_10 (InputLayer)       [(None, 1)]               0         \n",
            "                                                                 \n",
            " text_vectorization_9 (Text  (None, 15)                0         \n",
            " Vectorization)                                                  \n",
            "                                                                 \n",
            " embedding_3 (Embedding)     (None, 15, 128)           1280000   \n",
            "                                                                 \n",
            " bidirectional_2 (Bidirecti  (None, 15, 128)           98816     \n",
            " onal)                                                           \n",
            "                                                                 \n",
            " bidirectional_3 (Bidirecti  (None, 128)               74496     \n",
            " onal)                                                           \n",
            "                                                                 \n",
            " dense_9 (Dense)             (None, 1)                 129       \n",
            "                                                                 \n",
            "=================================================================\n",
            "Total params: 1453441 (5.54 MB)\n",
            "Trainable params: 1453441 (5.54 MB)\n",
            "Non-trainable params: 0 (0.00 Byte)\n",
            "_________________________________________________________________\n"
          ]
        }
      ]
    },
    {
      "cell_type": "code",
      "source": [
        "model_4.compile(loss=tf.keras.losses.BinaryCrossentropy(),\n",
        "                optimizer=tf.keras.optimizers.Adam(),\n",
        "                metrics=[\"accuracy\"])"
      ],
      "metadata": {
        "id": "3mEd23CiZw8v"
      },
      "execution_count": 260,
      "outputs": []
    },
    {
      "cell_type": "code",
      "source": [
        "model_4.fit(train_sentences,\n",
        "            train_labels,\n",
        "            epochs=5,\n",
        "            validation_data=(validation_sentences,val_labels),\n",
        "            callbacks=[create_tensorboard_callback(SAVE_DIR, \"model_4_bidirectional\")])"
      ],
      "metadata": {
        "colab": {
          "base_uri": "https://localhost:8080/"
        },
        "id": "GYhHXY8naElF",
        "outputId": "91bc042c-ddb4-429c-b1bf-889d3401c8eb"
      },
      "execution_count": 261,
      "outputs": [
        {
          "output_type": "stream",
          "name": "stdout",
          "text": [
            "Saving TensorBoard log files to: model_logs/model_4_bidirectional/20240509-132207\n",
            "Epoch 1/5\n",
            "215/215 [==============================] - 22s 51ms/step - loss: 0.0985 - accuracy: 0.9692 - val_loss: 1.0990 - val_accuracy: 0.7585\n",
            "Epoch 2/5\n",
            "215/215 [==============================] - 4s 18ms/step - loss: 0.0568 - accuracy: 0.9761 - val_loss: 1.2751 - val_accuracy: 0.7388\n",
            "Epoch 3/5\n",
            "215/215 [==============================] - 4s 17ms/step - loss: 0.0522 - accuracy: 0.9772 - val_loss: 1.1583 - val_accuracy: 0.7559\n",
            "Epoch 4/5\n",
            "215/215 [==============================] - 3s 13ms/step - loss: 0.0425 - accuracy: 0.9797 - val_loss: 1.6624 - val_accuracy: 0.7467\n",
            "Epoch 5/5\n",
            "215/215 [==============================] - 3s 13ms/step - loss: 0.0407 - accuracy: 0.9816 - val_loss: 1.3931 - val_accuracy: 0.7441\n"
          ]
        },
        {
          "output_type": "execute_result",
          "data": {
            "text/plain": [
              "<keras.src.callbacks.History at 0x78b57350d8d0>"
            ]
          },
          "metadata": {},
          "execution_count": 261
        }
      ]
    },
    {
      "cell_type": "code",
      "source": [
        "# Make predictions\n",
        "model_4_pred_probs = model_4.predict(validation_sentences)\n"
      ],
      "metadata": {
        "colab": {
          "base_uri": "https://localhost:8080/"
        },
        "id": "d1M5W_rXarmk",
        "outputId": "553a8e20-7096-4760-c76d-8c90ad895418"
      },
      "execution_count": 262,
      "outputs": [
        {
          "output_type": "stream",
          "name": "stdout",
          "text": [
            "24/24 [==============================] - 1s 4ms/step\n"
          ]
        }
      ]
    },
    {
      "cell_type": "code",
      "source": [
        "model_4_pred_probs[:10]"
      ],
      "metadata": {
        "colab": {
          "base_uri": "https://localhost:8080/"
        },
        "id": "aXJoOo2ga7Z9",
        "outputId": "02748e59-2ab2-4169-e851-b5035e6410d1"
      },
      "execution_count": 263,
      "outputs": [
        {
          "output_type": "execute_result",
          "data": {
            "text/plain": [
              "array([[1.3651466e-04],\n",
              "       [4.8588987e-05],\n",
              "       [9.9972671e-01],\n",
              "       [3.7390983e-04],\n",
              "       [9.9991536e-01],\n",
              "       [9.9948198e-01],\n",
              "       [5.4441667e-01],\n",
              "       [9.9931121e-01],\n",
              "       [5.1667187e-03],\n",
              "       [2.9405694e-05]], dtype=float32)"
            ]
          },
          "metadata": {},
          "execution_count": 263
        }
      ]
    },
    {
      "cell_type": "code",
      "source": [
        "# Convert to labels\n",
        "model_4_preds = tf.squeeze(tf.round(model_4_pred_probs))\n",
        "model_4_preds[:10]"
      ],
      "metadata": {
        "colab": {
          "base_uri": "https://localhost:8080/"
        },
        "id": "oamVeGNEbAbE",
        "outputId": "7b617272-bf0a-4e5c-ee24-872b71699f9c"
      },
      "execution_count": 264,
      "outputs": [
        {
          "output_type": "execute_result",
          "data": {
            "text/plain": [
              "<tf.Tensor: shape=(10,), dtype=float32, numpy=array([0., 0., 1., 0., 1., 1., 1., 1., 0., 0.], dtype=float32)>"
            ]
          },
          "metadata": {},
          "execution_count": 264
        }
      ]
    },
    {
      "cell_type": "code",
      "source": [
        "# Calculate results\n",
        "model_4_results = calculate_results(y_true=val_labels,\n",
        "                                    y_pred = model_4_preds)\n",
        "model_4_results"
      ],
      "metadata": {
        "colab": {
          "base_uri": "https://localhost:8080/"
        },
        "id": "Hcq5NbbWbG6O",
        "outputId": "11b366f7-437a-4e34-f0c9-0f9d906b25d3"
      },
      "execution_count": 265,
      "outputs": [
        {
          "output_type": "execute_result",
          "data": {
            "text/plain": [
              "{'accuracy': 74.40944881889764,\n",
              " 'precision': 0.7433536641678077,\n",
              " 'recall': 0.7440944881889764,\n",
              " 'f1': 0.7436191973741199}"
            ]
          },
          "metadata": {},
          "execution_count": 265
        }
      ]
    },
    {
      "cell_type": "markdown",
      "source": [
        "##Convolutional NN for Text\n",
        "\n",
        "Images are typically 2D; Text data is 1D\n",
        "\n",
        "\n",
        "Inputs -> Tokenization -> Embedding -> Layers (Conv1D + pooling) -> Outputs"
      ],
      "metadata": {
        "id": "DEWmFsogbQN-"
      }
    },
    {
      "cell_type": "code",
      "source": [
        "# Test out our embedding layer, Conv1D layer and max pooling\n",
        "embedding_test = embedding(text_vectorizer([\"this is a test sentence\"])) # turn sequence into embedding\n",
        "conv_1d = layers.Conv1D(filters=32,\n",
        "                        kernel_size=5, # ngram of 5 (looks at 5 words at a time)\n",
        "                        activation=\"selu\",\n",
        "                        padding=\"valid\")\n",
        "conv_1d_output= conv_1d(embedding_test) # pass test embedding layer\n",
        "max_pool = layers.GlobalMaxPool1D()\n",
        "max_pool_output = max_pool(conv_1d_output) # get feature with highest value\n",
        "\n",
        "embedding_test.shape, conv_1d_output.shape, max_pool_output.shape"
      ],
      "metadata": {
        "colab": {
          "base_uri": "https://localhost:8080/"
        },
        "id": "YfabmC2wfl7N",
        "outputId": "3b730516-ffbd-42de-d091-2cd308096828"
      },
      "execution_count": 277,
      "outputs": [
        {
          "output_type": "execute_result",
          "data": {
            "text/plain": [
              "(TensorShape([1, 15, 128]), TensorShape([1, 11, 32]), TensorShape([1, 32]))"
            ]
          },
          "metadata": {},
          "execution_count": 277
        }
      ]
    },
    {
      "cell_type": "code",
      "source": [
        "embedding_test"
      ],
      "metadata": {
        "colab": {
          "base_uri": "https://localhost:8080/"
        },
        "id": "aaHe_OkTiID6",
        "outputId": "43aa3a2d-10bb-4305-fc6e-01e3bf8cd88e"
      },
      "execution_count": 278,
      "outputs": [
        {
          "output_type": "execute_result",
          "data": {
            "text/plain": [
              "<tf.Tensor: shape=(1, 15, 128), dtype=float32, numpy=\n",
              "array([[[-0.05843185,  0.01257363,  0.0255771 , ...,  0.05457251,\n",
              "          0.00660438,  0.00676524],\n",
              "        [-0.00160623, -0.00578824,  0.00590827, ...,  0.01145494,\n",
              "         -0.00784337, -0.05313375],\n",
              "        [-0.00765452,  0.00474321,  0.02777818, ..., -0.03914494,\n",
              "         -0.03059993,  0.00791953],\n",
              "        ...,\n",
              "        [-0.01855001,  0.0042194 ,  0.00130567, ...,  0.03172339,\n",
              "          0.00220184, -0.00983087],\n",
              "        [-0.01855001,  0.0042194 ,  0.00130567, ...,  0.03172339,\n",
              "          0.00220184, -0.00983087],\n",
              "        [-0.01855001,  0.0042194 ,  0.00130567, ...,  0.03172339,\n",
              "          0.00220184, -0.00983087]]], dtype=float32)>"
            ]
          },
          "metadata": {},
          "execution_count": 278
        }
      ]
    },
    {
      "cell_type": "code",
      "source": [
        "conv_1d_output"
      ],
      "metadata": {
        "colab": {
          "base_uri": "https://localhost:8080/"
        },
        "id": "XZQLFspFjrum",
        "outputId": "8b4326c4-1680-4dbb-c8f1-d6fc13ea0623"
      },
      "execution_count": 279,
      "outputs": [
        {
          "output_type": "execute_result",
          "data": {
            "text/plain": [
              "<tf.Tensor: shape=(1, 11, 32), dtype=float32, numpy=\n",
              "array([[[ 0.06337401,  0.09514693,  0.06742668,  0.11024044,\n",
              "          0.11831163, -0.05510854, -0.01610063, -0.17912196,\n",
              "         -0.37229884, -0.14535685,  0.20468119, -0.0938577 ,\n",
              "         -0.07284734, -0.00442498,  0.02525175,  0.00812321,\n",
              "         -0.08725075,  0.00955595,  0.0178788 , -0.1113418 ,\n",
              "         -0.03125086,  0.0600495 , -0.03785806, -0.07970775,\n",
              "          0.0146082 ,  0.01274408,  0.08187455, -0.05860578,\n",
              "         -0.01140439, -0.06076407, -0.21878418, -0.07229719],\n",
              "        [ 0.07887485, -0.09647741, -0.06100278,  0.02115549,\n",
              "         -0.14434229,  0.04320299,  0.04958136, -0.01305516,\n",
              "         -0.11708956,  0.05402226,  0.044838  ,  0.02143831,\n",
              "          0.10011204, -0.08960298, -0.11747881, -0.01845814,\n",
              "         -0.07110558, -0.00038973, -0.02920645, -0.07144028,\n",
              "         -0.03998177,  0.07057743, -0.05777311, -0.02156433,\n",
              "          0.03270371, -0.13075936,  0.06968483, -0.32980305,\n",
              "         -0.0785756 , -0.24163248,  0.01452053, -0.06630337],\n",
              "        [-0.0360096 , -0.07378821, -0.02726623,  0.05004121,\n",
              "          0.18174088, -0.09888073,  0.04882926, -0.30575815,\n",
              "          0.08862445, -0.09629437,  0.03988229,  0.02041446,\n",
              "         -0.05455059, -0.12836763,  0.02473091, -0.0076772 ,\n",
              "         -0.09966633,  0.04683843,  0.00830026,  0.04732323,\n",
              "         -0.03608608,  0.03119077,  0.09244108, -0.16699404,\n",
              "          0.14704405,  0.00540364,  0.08592026, -0.10033502,\n",
              "          0.13668393,  0.13975187, -0.17538911,  0.05138918],\n",
              "        [-0.07664071,  0.03765513,  0.02231836,  0.14016046,\n",
              "         -0.04294899,  0.09700704,  0.10696959,  0.07225657,\n",
              "         -0.14334136,  0.0111279 ,  0.08225013,  0.05753819,\n",
              "         -0.05269897, -0.14156434, -0.00208885, -0.03268903,\n",
              "         -0.0325453 ,  0.04373686,  0.12335758,  0.03247664,\n",
              "         -0.09162121,  0.11696065,  0.01692282, -0.03502101,\n",
              "         -0.11318635, -0.17511547,  0.04596261, -0.07784677,\n",
              "          0.04798519,  0.09446134, -0.02264467,  0.04505696],\n",
              "        [-0.03661136, -0.04271972, -0.00548162,  0.0695421 ,\n",
              "          0.00118765,  0.04243958,  0.02021233,  0.03432181,\n",
              "         -0.00922033,  0.02964654, -0.05925688,  0.00207253,\n",
              "         -0.00125081,  0.00897892,  0.06730314, -0.0547342 ,\n",
              "          0.03130792, -0.00452581, -0.03829028,  0.02104501,\n",
              "          0.00284018,  0.02776214, -0.05234262,  0.02230081,\n",
              "          0.0332321 ,  0.02343269,  0.05747474, -0.05585624,\n",
              "         -0.05422564, -0.06405913,  0.03944403,  0.02061441],\n",
              "        [-0.01326242, -0.04201586, -0.01294835,  0.02689048,\n",
              "          0.00789664,  0.01002005,  0.01636219,  0.03750086,\n",
              "          0.0145278 ,  0.00153737, -0.02570137,  0.02284608,\n",
              "          0.00275803, -0.03890254,  0.04096147, -0.05062162,\n",
              "         -0.03220504, -0.013246  ,  0.0100737 , -0.03271   ,\n",
              "         -0.04380418,  0.06359752, -0.00841476,  0.00372929,\n",
              "          0.02020881, -0.00979452,  0.03357062, -0.01081201,\n",
              "         -0.02042906, -0.06740928,  0.02033545,  0.01733497],\n",
              "        [-0.01326241, -0.04201588, -0.01294835,  0.02689047,\n",
              "          0.00789663,  0.01002005,  0.01636218,  0.03750087,\n",
              "          0.01452781,  0.00153736, -0.02570138,  0.02284608,\n",
              "          0.00275802, -0.03890252,  0.04096147, -0.05062163,\n",
              "         -0.03220505, -0.01324601,  0.0100737 , -0.03271001,\n",
              "         -0.04380417,  0.06359752, -0.00841476,  0.00372931,\n",
              "          0.0202088 , -0.0097945 ,  0.03357064, -0.01081201,\n",
              "         -0.02042908, -0.0674093 ,  0.02033546,  0.01733497],\n",
              "        [-0.01326241, -0.04201587, -0.01294833,  0.02689048,\n",
              "          0.00789663,  0.01002005,  0.01636219,  0.03750088,\n",
              "          0.01452781,  0.00153736, -0.02570138,  0.02284609,\n",
              "          0.00275803, -0.03890253,  0.04096148, -0.05062163,\n",
              "         -0.03220505, -0.01324599,  0.0100737 , -0.03271   ,\n",
              "         -0.04380416,  0.06359753, -0.00841476,  0.00372931,\n",
              "          0.02020882, -0.00979451,  0.03357062, -0.01081201,\n",
              "         -0.02042907, -0.06740928,  0.02033546,  0.01733497],\n",
              "        [-0.01326241, -0.04201586, -0.01294835,  0.02689047,\n",
              "          0.00789664,  0.01002004,  0.01636218,  0.03750086,\n",
              "          0.0145278 ,  0.00153736, -0.02570137,  0.02284609,\n",
              "          0.00275802, -0.03890253,  0.04096147, -0.05062163,\n",
              "         -0.03220505, -0.01324601,  0.01007369, -0.03271   ,\n",
              "         -0.04380418,  0.06359753, -0.00841476,  0.0037293 ,\n",
              "          0.02020882, -0.0097945 ,  0.03357062, -0.01081201,\n",
              "         -0.02042906, -0.06740928,  0.02033545,  0.01733497],\n",
              "        [-0.01326241, -0.04201586, -0.01294836,  0.02689045,\n",
              "          0.00789664,  0.01002005,  0.01636218,  0.03750084,\n",
              "          0.01452781,  0.00153737, -0.02570137,  0.02284608,\n",
              "          0.00275803, -0.03890253,  0.04096146, -0.05062161,\n",
              "         -0.03220504, -0.01324601,  0.01007369, -0.03271   ,\n",
              "         -0.04380417,  0.06359752, -0.00841477,  0.0037293 ,\n",
              "          0.02020881, -0.00979452,  0.03357063, -0.01081201,\n",
              "         -0.02042907, -0.06740929,  0.02033546,  0.01733496],\n",
              "        [-0.01326242, -0.04201588, -0.01294835,  0.02689046,\n",
              "          0.00789664,  0.01002005,  0.01636219,  0.03750086,\n",
              "          0.01452781,  0.00153736, -0.02570137,  0.02284608,\n",
              "          0.00275802, -0.03890252,  0.04096147, -0.05062161,\n",
              "         -0.03220506, -0.013246  ,  0.01007369, -0.03271   ,\n",
              "         -0.04380417,  0.06359752, -0.00841476,  0.0037293 ,\n",
              "          0.02020881, -0.00979449,  0.03357062, -0.01081199,\n",
              "         -0.02042906, -0.06740927,  0.02033545,  0.01733497]]],\n",
              "      dtype=float32)>"
            ]
          },
          "metadata": {},
          "execution_count": 279
        }
      ]
    },
    {
      "cell_type": "code",
      "source": [
        "# Create 1D convolutional layer to model sequences\n",
        "from tensorflow.keras import layers\n",
        "inputs = layers.Input(shape=(1,), dtype=tf.string)\n",
        "x = text_vectorizer(inputs)\n",
        "x = embedding(x)\n",
        "x = layers.Conv1D(filters=64,\n",
        "                  kernel_size=5,\n",
        "                  activation=\"relu\",\n",
        "                  padding=\"valid\",\n",
        "                  strides=1)(x)\n",
        "x = layers.GlobalMaxPool1D()(x)\n",
        "outputs = layers.Dense(1, activation=\"sigmoid\")(x)\n",
        "model_5 = tf.keras.Model(inputs, outputs, name=\"Model_5_Conv1D\")\n",
        "\n",
        "model_5.compile(loss=\"binary_crossentropy\",\n",
        "                optimizer=tf.keras.optimizers.Adam(),\n",
        "                metrics=[\"accuracy\"])\n",
        "model_5.summary()"
      ],
      "metadata": {
        "colab": {
          "base_uri": "https://localhost:8080/"
        },
        "id": "ZKz_r4hEju_b",
        "outputId": "f5aae214-8488-49a5-afcc-abf6e659c794"
      },
      "execution_count": 281,
      "outputs": [
        {
          "output_type": "stream",
          "name": "stdout",
          "text": [
            "Model: \"Model_5_Conv1D\"\n",
            "_________________________________________________________________\n",
            " Layer (type)                Output Shape              Param #   \n",
            "=================================================================\n",
            " input_12 (InputLayer)       [(None, 1)]               0         \n",
            "                                                                 \n",
            " text_vectorization_9 (Text  (None, 15)                0         \n",
            " Vectorization)                                                  \n",
            "                                                                 \n",
            " embedding_3 (Embedding)     (None, 15, 128)           1280000   \n",
            "                                                                 \n",
            " conv1d_7 (Conv1D)           (None, 11, 64)            41024     \n",
            "                                                                 \n",
            " global_max_pooling1d_7 (Gl  (None, 64)                0         \n",
            " obalMaxPooling1D)                                               \n",
            "                                                                 \n",
            " dense_10 (Dense)            (None, 1)                 65        \n",
            "                                                                 \n",
            "=================================================================\n",
            "Total params: 1321089 (5.04 MB)\n",
            "Trainable params: 1321089 (5.04 MB)\n",
            "Non-trainable params: 0 (0.00 Byte)\n",
            "_________________________________________________________________\n"
          ]
        }
      ]
    },
    {
      "cell_type": "code",
      "source": [
        "model_5.fit(train_sentences,\n",
        "            train_labels,\n",
        "            epochs=5,\n",
        "            validation_data = (validation_sentences, val_labels),\n",
        "            callbacks=[create_tensorboard_callback(SAVE_DIR, \"Conv1D\")])"
      ],
      "metadata": {
        "colab": {
          "base_uri": "https://localhost:8080/"
        },
        "id": "eEEgzykAlIrN",
        "outputId": "7efa54b6-96ed-4913-cc51-5f87e68a8db8"
      },
      "execution_count": 282,
      "outputs": [
        {
          "output_type": "stream",
          "name": "stdout",
          "text": [
            "Saving TensorBoard log files to: model_logs/Conv1D/20240509-134047\n",
            "Epoch 1/5\n",
            "215/215 [==============================] - 17s 66ms/step - loss: 0.1202 - accuracy: 0.9612 - val_loss: 1.0132 - val_accuracy: 0.7336\n",
            "Epoch 2/5\n",
            "215/215 [==============================] - 4s 18ms/step - loss: 0.0738 - accuracy: 0.9707 - val_loss: 1.1671 - val_accuracy: 0.7323\n",
            "Epoch 3/5\n",
            "215/215 [==============================] - 4s 17ms/step - loss: 0.0600 - accuracy: 0.9761 - val_loss: 1.3248 - val_accuracy: 0.7165\n",
            "Epoch 4/5\n",
            "215/215 [==============================] - 4s 18ms/step - loss: 0.0542 - accuracy: 0.9777 - val_loss: 1.3384 - val_accuracy: 0.7283\n",
            "Epoch 5/5\n",
            "215/215 [==============================] - 3s 13ms/step - loss: 0.0488 - accuracy: 0.9788 - val_loss: 1.3773 - val_accuracy: 0.7283\n"
          ]
        },
        {
          "output_type": "execute_result",
          "data": {
            "text/plain": [
              "<keras.src.callbacks.History at 0x78b576ff6d40>"
            ]
          },
          "metadata": {},
          "execution_count": 282
        }
      ]
    },
    {
      "cell_type": "code",
      "source": [
        "model_5_pred_probs = model_5.predict(validation_sentences)\n",
        "model_5_preds = tf.squeeze(tf.round(model_5_pred_probs))\n",
        "model_5_preds[:10]"
      ],
      "metadata": {
        "colab": {
          "base_uri": "https://localhost:8080/"
        },
        "id": "rCdkqKzvlcWw",
        "outputId": "6ecfdfa6-bf48-45d9-ecfd-a8eb9b09f9c3"
      },
      "execution_count": 283,
      "outputs": [
        {
          "output_type": "stream",
          "name": "stdout",
          "text": [
            "24/24 [==============================] - 0s 4ms/step\n"
          ]
        },
        {
          "output_type": "execute_result",
          "data": {
            "text/plain": [
              "<tf.Tensor: shape=(10,), dtype=float32, numpy=array([0., 0., 1., 0., 1., 1., 1., 1., 0., 0.], dtype=float32)>"
            ]
          },
          "metadata": {},
          "execution_count": 283
        }
      ]
    },
    {
      "cell_type": "code",
      "source": [
        "model_5_results = calculate_results(y_true = val_labels,\n",
        "                                    y_pred = model_5_preds)"
      ],
      "metadata": {
        "id": "X-iwMvUtluDL"
      },
      "execution_count": 284,
      "outputs": []
    },
    {
      "cell_type": "code",
      "source": [
        "model_5_results"
      ],
      "metadata": {
        "colab": {
          "base_uri": "https://localhost:8080/"
        },
        "id": "9hw4en19l4Ea",
        "outputId": "e9bb7861-6db3-45e4-eae7-dd83951ffb89"
      },
      "execution_count": 285,
      "outputs": [
        {
          "output_type": "execute_result",
          "data": {
            "text/plain": [
              "{'accuracy': 72.83464566929135,\n",
              " 'precision': 0.7284511102123249,\n",
              " 'recall': 0.7283464566929134,\n",
              " 'f1': 0.7283975234259907}"
            ]
          },
          "metadata": {},
          "execution_count": 285
        }
      ]
    },
    {
      "cell_type": "code",
      "source": [
        "## Model 6: TF Hub Pretrained Sentence Encoder\n",
        "import tensorflow_hub as hub"
      ],
      "metadata": {
        "id": "yF3PATICl51_"
      },
      "execution_count": 286,
      "outputs": []
    },
    {
      "cell_type": "code",
      "source": [
        "print(sample_sentence)"
      ],
      "metadata": {
        "colab": {
          "base_uri": "https://localhost:8080/"
        },
        "id": "s46gwNG2qNdS",
        "outputId": "aa76145f-a9fd-46eb-c279-b57ca7827b73"
      },
      "execution_count": 289,
      "outputs": [
        {
          "output_type": "stream",
          "name": "stdout",
          "text": [
            "There's a flood in my street!\n"
          ]
        }
      ]
    },
    {
      "cell_type": "code",
      "source": [
        "embed = hub.load(\"https://tfhub.dev/google/universal-sentence-encoder/4\")\n",
        "embed_samples = embed([sample_sentence, \"When you use the universal sentence encoder on a sentence, it turns the sentence into an embedding vector\"])\n",
        "print(embed_samples[0])"
      ],
      "metadata": {
        "colab": {
          "base_uri": "https://localhost:8080/"
        },
        "id": "uZGSK5TUorWi",
        "outputId": "29562ab1-4edb-4739-82fc-731575402b9a"
      },
      "execution_count": 290,
      "outputs": [
        {
          "output_type": "stream",
          "name": "stdout",
          "text": [
            "tf.Tensor(\n",
            "[-0.01157028  0.0248591   0.02878048 -0.012715    0.03971538  0.0882776\n",
            "  0.02680984  0.05589836 -0.0106873  -0.00597291  0.00639323 -0.01819518\n",
            "  0.00030813  0.09105888  0.05874644 -0.03180628  0.01512474 -0.05162929\n",
            "  0.00991367 -0.06865347 -0.04209306  0.02678981  0.03011006  0.00321069\n",
            " -0.00337973 -0.04787357  0.0226672  -0.00985925 -0.04063613 -0.01292092\n",
            " -0.04666384  0.05630299 -0.03949255  0.00517686  0.02495829 -0.0701444\n",
            "  0.02871508  0.04947684 -0.00633979 -0.08960192  0.02807118 -0.00808364\n",
            " -0.01360602  0.0599865  -0.10361787 -0.05195374  0.00232954 -0.02332531\n",
            " -0.03758105  0.03327728 -0.00430603 -0.05894244 -0.06101276 -0.02220005\n",
            " -0.01575761 -0.00474414 -0.03515062 -0.04440377 -0.04174353  0.04943503\n",
            " -0.02740932 -0.04133101  0.01634346 -0.03713681  0.07395207 -0.00659238\n",
            " -0.0694331  -0.00361752  0.08656701  0.07717378 -0.06633057  0.02086627\n",
            "  0.06676423  0.00982106  0.01410716  0.07672232  0.05026635  0.02969931\n",
            " -0.01391874  0.06082514  0.08967174 -0.01739941 -0.02335796  0.01980952\n",
            " -0.05318437 -0.00597195 -0.01789535  0.03518632  0.03316377 -0.01078376\n",
            " -0.04246281  0.02813077 -0.04440409  0.02138845 -0.07827792  0.0037878\n",
            "  0.02113327  0.04898281  0.01862646  0.04409025 -0.00877462 -0.080099\n",
            " -0.06491723  0.03673801  0.02910934  0.0437706  -0.0277187  -0.00020972\n",
            " -0.04724235  0.00211793  0.00241363 -0.03451073 -0.05195144  0.04019913\n",
            " -0.01107909  0.02099734  0.07319079 -0.06645015  0.02918022  0.07274126\n",
            "  0.09450106 -0.0554999  -0.02150271 -0.0216001  -0.09313712  0.03371137\n",
            " -0.01765814  0.02668389 -0.01314882  0.07629125  0.05064229  0.03545807\n",
            " -0.05802931 -0.00128819  0.02550668 -0.06641154 -0.04101516 -0.07549169\n",
            "  0.01499909 -0.01135047 -0.04933346 -0.07272243  0.00363881 -0.01518946\n",
            "  0.05594088 -0.04914049 -0.01842419 -0.01433045 -0.06046046  0.02016241\n",
            "  0.05592835 -0.01900853  0.03671473  0.00335185 -0.0653839  -0.0410016\n",
            "  0.00468295 -0.03396352  0.04442611  0.07719966 -0.08504521  0.01783496\n",
            "  0.02114924 -0.05993735 -0.04932676 -0.05756366  0.10220413  0.00475881\n",
            " -0.00511757 -0.06249486 -0.01093349 -0.07538158 -0.00616411 -0.05241332\n",
            " -0.02642498 -0.06815231 -0.02264814 -0.05251466 -0.06109071  0.04736177\n",
            " -0.0211643  -0.02787968 -0.04840661  0.00624507 -0.00694626 -0.01796258\n",
            " -0.03916385 -0.05585474 -0.01492354  0.05002921 -0.06699253  0.07363343\n",
            "  0.05643307  0.00630315 -0.03625727 -0.0128614   0.06335039 -0.04099046\n",
            " -0.02099767 -0.01769316 -0.03773162  0.02522286 -0.00515928  0.09712509\n",
            "  0.01081978  0.03883318  0.01335081 -0.01399824 -0.04374617  0.03636796\n",
            " -0.01776026 -0.05713793  0.04273818  0.01639234  0.00094627  0.03364852\n",
            "  0.04082774  0.062793    0.01755403 -0.06590243  0.02764741  0.07578105\n",
            "  0.02397394  0.00288975 -0.02025192  0.01948242 -0.04223581 -0.03046631\n",
            "  0.04044751 -0.04834408 -0.02124536  0.06924415 -0.01574234  0.09941211\n",
            "  0.07451482  0.00243588  0.04384918  0.0533605  -0.08577849 -0.02304754\n",
            " -0.01068814 -0.01797064  0.08412117  0.05105528  0.0198401   0.04222857\n",
            " -0.04869326  0.08947873  0.02508026  0.07413824  0.03269237 -0.01735415\n",
            " -0.03304142 -0.04956811 -0.0032611  -0.03993597 -0.03007109 -0.04603602\n",
            " -0.02892623 -0.07143306  0.02684832  0.01602261 -0.06831486  0.03801538\n",
            " -0.02441479  0.05378301  0.03296162 -0.03403028 -0.02332754  0.04537228\n",
            " -0.03889669 -0.00617604 -0.00882424  0.00267765 -0.08132632  0.05419115\n",
            " -0.05534775 -0.02592236  0.04277048  0.0269345  -0.03611583  0.03778697\n",
            "  0.06067456  0.03575341  0.00916521 -0.00827851  0.0627624   0.04202009\n",
            " -0.03204762  0.02008642  0.08058751 -0.05461727  0.0779867   0.05942629\n",
            "  0.00883446 -0.00695634  0.02571711  0.02623858 -0.07648964  0.03418233\n",
            " -0.01819847 -0.0430103   0.01286275 -0.04837706 -0.0091009  -0.01071082\n",
            "  0.00010399  0.02701858 -0.04757858  0.02599769 -0.00684556  0.01497615\n",
            " -0.08898536  0.03221718 -0.00036083 -0.06063572 -0.03318375  0.03554993\n",
            "  0.03847632  0.06862563  0.05161573  0.04342311  0.04140064 -0.04563707\n",
            " -0.03845314  0.0308318   0.0082776  -0.00866157 -0.04097845  0.06381842\n",
            " -0.01308796 -0.02424811 -0.05175818  0.0183505  -0.07147802  0.00725171\n",
            " -0.0721117   0.06165017 -0.03569034 -0.01217909  0.0617242  -0.04625789\n",
            "  0.00082081  0.04339868  0.00091036 -0.07088618  0.01646287 -0.08164821\n",
            " -0.03716551  0.04262336 -0.01241012 -0.08372841 -0.01366776  0.00571899\n",
            " -0.00477371  0.06399125 -0.0943351   0.01710174 -0.01227761  0.05677067\n",
            " -0.00382792 -0.05680655  0.08489885  0.07041533 -0.00456506 -0.03479037\n",
            " -0.04344757 -0.06414607  0.00166128  0.02918557  0.03372649 -0.00778522\n",
            "  0.03244479 -0.00989516 -0.03030811 -0.07584874  0.05150714 -0.02841257\n",
            " -0.07917359 -0.03578363  0.05016286  0.01860839  0.00074915 -0.00872889\n",
            " -0.01031673 -0.02014872 -0.09723576  0.03965212 -0.06817243 -0.00105302\n",
            "  0.00737335 -0.00222847  0.02685831  0.06966115  0.02972178  0.04178473\n",
            " -0.02220552  0.01747188 -0.03353752 -0.03834698 -0.01922803 -0.03150896\n",
            "  0.05334111  0.02373906 -0.01034905  0.00214743 -0.04157256 -0.03025418\n",
            "  0.00581008  0.01137193 -0.00592397 -0.05769081 -0.06344254  0.04439222\n",
            "  0.01658632  0.05665408 -0.02544701  0.02046604  0.05887647 -0.07208315\n",
            " -0.03404434 -0.06583709 -0.02519128 -0.00026587  0.03846854 -0.02013167\n",
            "  0.00200025 -0.00627339 -0.04666032 -0.00455737  0.006055   -0.01356127\n",
            "  0.04474315  0.02471942 -0.0732187  -0.05608065 -0.06762251 -0.01433571\n",
            "  0.03541975 -0.04898684 -0.04268677  0.03438693  0.02330969 -0.00562101\n",
            "  0.05483433  0.01283661  0.02040323 -0.00852739 -0.07735825 -0.01213969\n",
            " -0.02332449 -0.0215429   0.04894267 -0.08804285 -0.02543784 -0.04927177\n",
            " -0.04087909 -0.01773587 -0.07637206  0.00269291 -0.0602887   0.01861771\n",
            "  0.06966407 -0.06209602 -0.06811608 -0.08184287 -0.02575568 -0.02269541\n",
            "  0.08195685  0.0582372  -0.07867002  0.07145876 -0.04366784  0.02787705\n",
            " -0.0125781  -0.05811887  0.03620557 -0.05508832 -0.00261799 -0.09346887\n",
            "  0.09706795 -0.05189685 -0.00031378  0.06562173 -0.02415269  0.0090165\n",
            "  0.05061334  0.00056091 -0.01252412  0.09506277 -0.01020624 -0.01407784\n",
            "  0.05391148  0.04550584  0.03244826  0.04292122 -0.01375776 -0.03055825\n",
            " -0.01261502  0.05822347  0.02029676  0.03866008  0.00686585  0.00538892\n",
            " -0.0215005   0.00261668  0.03741341 -0.03374723 -0.0228951  -0.00186124\n",
            "  0.02315826 -0.01485021], shape=(512,), dtype=float32)\n"
          ]
        }
      ]
    },
    {
      "cell_type": "code",
      "source": [
        "sentence_encoder_layer = hub.KerasLayer(\"https://tfhub.dev/google/universal-sentence-encoder/4\", input_shape=[], dtype=tf.string, trainable=False, name=\"USE\")\n"
      ],
      "metadata": {
        "id": "mjmmcXaup6bT"
      },
      "execution_count": 291,
      "outputs": []
    },
    {
      "cell_type": "code",
      "source": [
        "# Create model using Sequential API\n",
        "\n",
        "model_6 = tf.keras.Sequential([\n",
        "    sentence_encoder_layer,\n",
        "    layers.Dense(64, activation=\"relu\"),\n",
        "    layers.Dense(1, activation=\"sigmoid\")\n",
        "])\n"
      ],
      "metadata": {
        "id": "1N_YSYWUrA4x"
      },
      "execution_count": 303,
      "outputs": []
    },
    {
      "cell_type": "code",
      "source": [
        "model_6.compile(loss=\"binary_crossentropy\",\n",
        "                optimizer=tf.keras.optimizers.Adam(),\n",
        "                metrics=[\"accuracy\"])"
      ],
      "metadata": {
        "id": "wzdde08hrUlC"
      },
      "execution_count": 304,
      "outputs": []
    },
    {
      "cell_type": "code",
      "source": [
        "model_6.summary()"
      ],
      "metadata": {
        "colab": {
          "base_uri": "https://localhost:8080/"
        },
        "id": "atLrn0YIrdf2",
        "outputId": "790265b1-15d9-4c29-ee0e-17bbb87a2f4f"
      },
      "execution_count": 305,
      "outputs": [
        {
          "output_type": "stream",
          "name": "stdout",
          "text": [
            "Model: \"sequential_2\"\n",
            "_________________________________________________________________\n",
            " Layer (type)                Output Shape              Param #   \n",
            "=================================================================\n",
            " USE (KerasLayer)            (None, 512)               256797824 \n",
            "                                                                 \n",
            " dense_16 (Dense)            (None, 64)                32832     \n",
            "                                                                 \n",
            " dense_17 (Dense)            (None, 1)                 65        \n",
            "                                                                 \n",
            "=================================================================\n",
            "Total params: 256830721 (979.73 MB)\n",
            "Trainable params: 32897 (128.50 KB)\n",
            "Non-trainable params: 256797824 (979.61 MB)\n",
            "_________________________________________________________________\n"
          ]
        }
      ]
    },
    {
      "cell_type": "code",
      "source": [
        "# Train classifier on top of USE pretrained embeddings\n",
        "model_6_history = model_6.fit(train_sentences,\n",
        "                              train_labels,\n",
        "                              epochs=10,\n",
        "                              validation_data = [validation_sentences, val_labels],\n",
        "                              callbacks=[create_tensorboard_callback(SAVE_DIR,\n",
        "                                                                     \"tf_hub_sentence_encoder\")])"
      ],
      "metadata": {
        "colab": {
          "base_uri": "https://localhost:8080/"
        },
        "id": "TazvjdHOriTc",
        "outputId": "0f39f15a-927c-4091-fe7c-18255c8952f8"
      },
      "execution_count": 306,
      "outputs": [
        {
          "output_type": "stream",
          "name": "stdout",
          "text": [
            "Saving TensorBoard log files to: model_logs/tf_hub_sentence_encoder/20240509-141232\n",
            "Epoch 1/10\n",
            "215/215 [==============================] - 10s 20ms/step - loss: 0.5066 - accuracy: 0.7831 - val_loss: 0.4562 - val_accuracy: 0.7979\n",
            "Epoch 2/10\n",
            "215/215 [==============================] - 3s 12ms/step - loss: 0.4128 - accuracy: 0.8174 - val_loss: 0.4488 - val_accuracy: 0.8084\n",
            "Epoch 3/10\n",
            "215/215 [==============================] - 3s 13ms/step - loss: 0.3988 - accuracy: 0.8222 - val_loss: 0.4448 - val_accuracy: 0.8097\n",
            "Epoch 4/10\n",
            "215/215 [==============================] - 4s 16ms/step - loss: 0.3898 - accuracy: 0.8272 - val_loss: 0.4449 - val_accuracy: 0.8031\n",
            "Epoch 5/10\n",
            "215/215 [==============================] - 2s 12ms/step - loss: 0.3830 - accuracy: 0.8295 - val_loss: 0.4461 - val_accuracy: 0.8071\n",
            "Epoch 6/10\n",
            "215/215 [==============================] - 3s 12ms/step - loss: 0.3763 - accuracy: 0.8327 - val_loss: 0.4483 - val_accuracy: 0.8031\n",
            "Epoch 7/10\n",
            "215/215 [==============================] - 3s 12ms/step - loss: 0.3704 - accuracy: 0.8340 - val_loss: 0.4458 - val_accuracy: 0.8136\n",
            "Epoch 8/10\n",
            "215/215 [==============================] - 4s 18ms/step - loss: 0.3647 - accuracy: 0.8386 - val_loss: 0.4519 - val_accuracy: 0.7992\n",
            "Epoch 9/10\n",
            "215/215 [==============================] - 2s 11ms/step - loss: 0.3600 - accuracy: 0.8431 - val_loss: 0.4480 - val_accuracy: 0.8123\n",
            "Epoch 10/10\n",
            "215/215 [==============================] - 3s 12ms/step - loss: 0.3527 - accuracy: 0.8454 - val_loss: 0.4540 - val_accuracy: 0.8123\n"
          ]
        }
      ]
    },
    {
      "cell_type": "code",
      "source": [
        "# Make predictions\n",
        "model_6_pred_probs = model_6.predict(validation_sentences)\n",
        "model_6_preds = tf.squeeze(tf.round(model_6_pred_probs))\n",
        "model_6_results = calculate_results(y_true=val_labels,\n",
        "                                    y_pred = model_6_preds)"
      ],
      "metadata": {
        "colab": {
          "base_uri": "https://localhost:8080/"
        },
        "id": "ITZYGKOprzqa",
        "outputId": "8d3cc22b-50c7-4af6-9b54-1f65abf8f467"
      },
      "execution_count": 307,
      "outputs": [
        {
          "output_type": "stream",
          "name": "stdout",
          "text": [
            "24/24 [==============================] - 1s 9ms/step\n"
          ]
        }
      ]
    },
    {
      "cell_type": "code",
      "source": [
        "model_6_results"
      ],
      "metadata": {
        "colab": {
          "base_uri": "https://localhost:8080/"
        },
        "id": "RmEVjFIGsM_I",
        "outputId": "92dd07a0-c939-408d-a2c2-eeb109924399"
      },
      "execution_count": 308,
      "outputs": [
        {
          "output_type": "execute_result",
          "data": {
            "text/plain": [
              "{'accuracy': 81.23359580052494,\n",
              " 'precision': 0.8127204931499284,\n",
              " 'recall': 0.8123359580052494,\n",
              " 'f1': 0.8105368454209699}"
            ]
          },
          "metadata": {},
          "execution_count": 308
        }
      ]
    },
    {
      "cell_type": "markdown",
      "source": [
        "## Model 7: TF Hub Pretrained USE but with 10% of training data\n"
      ],
      "metadata": {
        "id": "BkFGsQB3sRTZ"
      }
    },
    {
      "cell_type": "code",
      "source": [
        "# Create subsets of 10% of training data\n",
        "train_10_percent = train_df_shuffled[[\"text\", \"target\"]].sample(frac=0.1, random_state=42)"
      ],
      "metadata": {
        "id": "iOeZrOvOtkrJ"
      },
      "execution_count": 309,
      "outputs": []
    },
    {
      "cell_type": "code",
      "source": [
        "train_10_percent"
      ],
      "metadata": {
        "colab": {
          "base_uri": "https://localhost:8080/",
          "height": 423
        },
        "id": "SH5T_Z4qtxX_",
        "outputId": "42dc69ff-560a-4507-cd75-977af6922b33"
      },
      "execution_count": 310,
      "outputs": [
        {
          "output_type": "execute_result",
          "data": {
            "text/plain": [
              "                                                   text  target\n",
              "2301  Nah but srsly b4 u demolish ur partner's face ...       0\n",
              "6615  OMEGA MEN Writer Explores Terrorism Religion I...       0\n",
              "6619  Really cannot condemn an entire group based on...       1\n",
              "974   ?? New Ladies Shoulder Tote #Handbag Faux Leat...       1\n",
              "5357                                   it's don't panic       0\n",
              "...                                                 ...     ...\n",
              "3454  holy crap @KingMyth1999 my phone just exploded...       0\n",
              "2846  Angry Woman Openly Accuses NEMA Of Stealing Re...       0\n",
              "4874  Nazi Mass Murderer Became Chairman At Vaccine ...       1\n",
              "425   Video Captures Man Removing American Flag From...       0\n",
              "1901              crushed a 6 mile run tonight. awesome       0\n",
              "\n",
              "[761 rows x 2 columns]"
            ],
            "text/html": [
              "\n",
              "  <div id=\"df-3205ea58-4171-40f2-884f-a7a1b6399b7c\" class=\"colab-df-container\">\n",
              "    <div>\n",
              "<style scoped>\n",
              "    .dataframe tbody tr th:only-of-type {\n",
              "        vertical-align: middle;\n",
              "    }\n",
              "\n",
              "    .dataframe tbody tr th {\n",
              "        vertical-align: top;\n",
              "    }\n",
              "\n",
              "    .dataframe thead th {\n",
              "        text-align: right;\n",
              "    }\n",
              "</style>\n",
              "<table border=\"1\" class=\"dataframe\">\n",
              "  <thead>\n",
              "    <tr style=\"text-align: right;\">\n",
              "      <th></th>\n",
              "      <th>text</th>\n",
              "      <th>target</th>\n",
              "    </tr>\n",
              "  </thead>\n",
              "  <tbody>\n",
              "    <tr>\n",
              "      <th>2301</th>\n",
              "      <td>Nah but srsly b4 u demolish ur partner's face ...</td>\n",
              "      <td>0</td>\n",
              "    </tr>\n",
              "    <tr>\n",
              "      <th>6615</th>\n",
              "      <td>OMEGA MEN Writer Explores Terrorism Religion I...</td>\n",
              "      <td>0</td>\n",
              "    </tr>\n",
              "    <tr>\n",
              "      <th>6619</th>\n",
              "      <td>Really cannot condemn an entire group based on...</td>\n",
              "      <td>1</td>\n",
              "    </tr>\n",
              "    <tr>\n",
              "      <th>974</th>\n",
              "      <td>?? New Ladies Shoulder Tote #Handbag Faux Leat...</td>\n",
              "      <td>1</td>\n",
              "    </tr>\n",
              "    <tr>\n",
              "      <th>5357</th>\n",
              "      <td>it's don't panic</td>\n",
              "      <td>0</td>\n",
              "    </tr>\n",
              "    <tr>\n",
              "      <th>...</th>\n",
              "      <td>...</td>\n",
              "      <td>...</td>\n",
              "    </tr>\n",
              "    <tr>\n",
              "      <th>3454</th>\n",
              "      <td>holy crap @KingMyth1999 my phone just exploded...</td>\n",
              "      <td>0</td>\n",
              "    </tr>\n",
              "    <tr>\n",
              "      <th>2846</th>\n",
              "      <td>Angry Woman Openly Accuses NEMA Of Stealing Re...</td>\n",
              "      <td>0</td>\n",
              "    </tr>\n",
              "    <tr>\n",
              "      <th>4874</th>\n",
              "      <td>Nazi Mass Murderer Became Chairman At Vaccine ...</td>\n",
              "      <td>1</td>\n",
              "    </tr>\n",
              "    <tr>\n",
              "      <th>425</th>\n",
              "      <td>Video Captures Man Removing American Flag From...</td>\n",
              "      <td>0</td>\n",
              "    </tr>\n",
              "    <tr>\n",
              "      <th>1901</th>\n",
              "      <td>crushed a 6 mile run tonight. awesome</td>\n",
              "      <td>0</td>\n",
              "    </tr>\n",
              "  </tbody>\n",
              "</table>\n",
              "<p>761 rows × 2 columns</p>\n",
              "</div>\n",
              "    <div class=\"colab-df-buttons\">\n",
              "\n",
              "  <div class=\"colab-df-container\">\n",
              "    <button class=\"colab-df-convert\" onclick=\"convertToInteractive('df-3205ea58-4171-40f2-884f-a7a1b6399b7c')\"\n",
              "            title=\"Convert this dataframe to an interactive table.\"\n",
              "            style=\"display:none;\">\n",
              "\n",
              "  <svg xmlns=\"http://www.w3.org/2000/svg\" height=\"24px\" viewBox=\"0 -960 960 960\">\n",
              "    <path d=\"M120-120v-720h720v720H120Zm60-500h600v-160H180v160Zm220 220h160v-160H400v160Zm0 220h160v-160H400v160ZM180-400h160v-160H180v160Zm440 0h160v-160H620v160ZM180-180h160v-160H180v160Zm440 0h160v-160H620v160Z\"/>\n",
              "  </svg>\n",
              "    </button>\n",
              "\n",
              "  <style>\n",
              "    .colab-df-container {\n",
              "      display:flex;\n",
              "      gap: 12px;\n",
              "    }\n",
              "\n",
              "    .colab-df-convert {\n",
              "      background-color: #E8F0FE;\n",
              "      border: none;\n",
              "      border-radius: 50%;\n",
              "      cursor: pointer;\n",
              "      display: none;\n",
              "      fill: #1967D2;\n",
              "      height: 32px;\n",
              "      padding: 0 0 0 0;\n",
              "      width: 32px;\n",
              "    }\n",
              "\n",
              "    .colab-df-convert:hover {\n",
              "      background-color: #E2EBFA;\n",
              "      box-shadow: 0px 1px 2px rgba(60, 64, 67, 0.3), 0px 1px 3px 1px rgba(60, 64, 67, 0.15);\n",
              "      fill: #174EA6;\n",
              "    }\n",
              "\n",
              "    .colab-df-buttons div {\n",
              "      margin-bottom: 4px;\n",
              "    }\n",
              "\n",
              "    [theme=dark] .colab-df-convert {\n",
              "      background-color: #3B4455;\n",
              "      fill: #D2E3FC;\n",
              "    }\n",
              "\n",
              "    [theme=dark] .colab-df-convert:hover {\n",
              "      background-color: #434B5C;\n",
              "      box-shadow: 0px 1px 3px 1px rgba(0, 0, 0, 0.15);\n",
              "      filter: drop-shadow(0px 1px 2px rgba(0, 0, 0, 0.3));\n",
              "      fill: #FFFFFF;\n",
              "    }\n",
              "  </style>\n",
              "\n",
              "    <script>\n",
              "      const buttonEl =\n",
              "        document.querySelector('#df-3205ea58-4171-40f2-884f-a7a1b6399b7c button.colab-df-convert');\n",
              "      buttonEl.style.display =\n",
              "        google.colab.kernel.accessAllowed ? 'block' : 'none';\n",
              "\n",
              "      async function convertToInteractive(key) {\n",
              "        const element = document.querySelector('#df-3205ea58-4171-40f2-884f-a7a1b6399b7c');\n",
              "        const dataTable =\n",
              "          await google.colab.kernel.invokeFunction('convertToInteractive',\n",
              "                                                    [key], {});\n",
              "        if (!dataTable) return;\n",
              "\n",
              "        const docLinkHtml = 'Like what you see? Visit the ' +\n",
              "          '<a target=\"_blank\" href=https://colab.research.google.com/notebooks/data_table.ipynb>data table notebook</a>'\n",
              "          + ' to learn more about interactive tables.';\n",
              "        element.innerHTML = '';\n",
              "        dataTable['output_type'] = 'display_data';\n",
              "        await google.colab.output.renderOutput(dataTable, element);\n",
              "        const docLink = document.createElement('div');\n",
              "        docLink.innerHTML = docLinkHtml;\n",
              "        element.appendChild(docLink);\n",
              "      }\n",
              "    </script>\n",
              "  </div>\n",
              "\n",
              "\n",
              "<div id=\"df-1159571e-5b0e-4cfa-9778-35f3fe175c92\">\n",
              "  <button class=\"colab-df-quickchart\" onclick=\"quickchart('df-1159571e-5b0e-4cfa-9778-35f3fe175c92')\"\n",
              "            title=\"Suggest charts\"\n",
              "            style=\"display:none;\">\n",
              "\n",
              "<svg xmlns=\"http://www.w3.org/2000/svg\" height=\"24px\"viewBox=\"0 0 24 24\"\n",
              "     width=\"24px\">\n",
              "    <g>\n",
              "        <path d=\"M19 3H5c-1.1 0-2 .9-2 2v14c0 1.1.9 2 2 2h14c1.1 0 2-.9 2-2V5c0-1.1-.9-2-2-2zM9 17H7v-7h2v7zm4 0h-2V7h2v10zm4 0h-2v-4h2v4z\"/>\n",
              "    </g>\n",
              "</svg>\n",
              "  </button>\n",
              "\n",
              "<style>\n",
              "  .colab-df-quickchart {\n",
              "      --bg-color: #E8F0FE;\n",
              "      --fill-color: #1967D2;\n",
              "      --hover-bg-color: #E2EBFA;\n",
              "      --hover-fill-color: #174EA6;\n",
              "      --disabled-fill-color: #AAA;\n",
              "      --disabled-bg-color: #DDD;\n",
              "  }\n",
              "\n",
              "  [theme=dark] .colab-df-quickchart {\n",
              "      --bg-color: #3B4455;\n",
              "      --fill-color: #D2E3FC;\n",
              "      --hover-bg-color: #434B5C;\n",
              "      --hover-fill-color: #FFFFFF;\n",
              "      --disabled-bg-color: #3B4455;\n",
              "      --disabled-fill-color: #666;\n",
              "  }\n",
              "\n",
              "  .colab-df-quickchart {\n",
              "    background-color: var(--bg-color);\n",
              "    border: none;\n",
              "    border-radius: 50%;\n",
              "    cursor: pointer;\n",
              "    display: none;\n",
              "    fill: var(--fill-color);\n",
              "    height: 32px;\n",
              "    padding: 0;\n",
              "    width: 32px;\n",
              "  }\n",
              "\n",
              "  .colab-df-quickchart:hover {\n",
              "    background-color: var(--hover-bg-color);\n",
              "    box-shadow: 0 1px 2px rgba(60, 64, 67, 0.3), 0 1px 3px 1px rgba(60, 64, 67, 0.15);\n",
              "    fill: var(--button-hover-fill-color);\n",
              "  }\n",
              "\n",
              "  .colab-df-quickchart-complete:disabled,\n",
              "  .colab-df-quickchart-complete:disabled:hover {\n",
              "    background-color: var(--disabled-bg-color);\n",
              "    fill: var(--disabled-fill-color);\n",
              "    box-shadow: none;\n",
              "  }\n",
              "\n",
              "  .colab-df-spinner {\n",
              "    border: 2px solid var(--fill-color);\n",
              "    border-color: transparent;\n",
              "    border-bottom-color: var(--fill-color);\n",
              "    animation:\n",
              "      spin 1s steps(1) infinite;\n",
              "  }\n",
              "\n",
              "  @keyframes spin {\n",
              "    0% {\n",
              "      border-color: transparent;\n",
              "      border-bottom-color: var(--fill-color);\n",
              "      border-left-color: var(--fill-color);\n",
              "    }\n",
              "    20% {\n",
              "      border-color: transparent;\n",
              "      border-left-color: var(--fill-color);\n",
              "      border-top-color: var(--fill-color);\n",
              "    }\n",
              "    30% {\n",
              "      border-color: transparent;\n",
              "      border-left-color: var(--fill-color);\n",
              "      border-top-color: var(--fill-color);\n",
              "      border-right-color: var(--fill-color);\n",
              "    }\n",
              "    40% {\n",
              "      border-color: transparent;\n",
              "      border-right-color: var(--fill-color);\n",
              "      border-top-color: var(--fill-color);\n",
              "    }\n",
              "    60% {\n",
              "      border-color: transparent;\n",
              "      border-right-color: var(--fill-color);\n",
              "    }\n",
              "    80% {\n",
              "      border-color: transparent;\n",
              "      border-right-color: var(--fill-color);\n",
              "      border-bottom-color: var(--fill-color);\n",
              "    }\n",
              "    90% {\n",
              "      border-color: transparent;\n",
              "      border-bottom-color: var(--fill-color);\n",
              "    }\n",
              "  }\n",
              "</style>\n",
              "\n",
              "  <script>\n",
              "    async function quickchart(key) {\n",
              "      const quickchartButtonEl =\n",
              "        document.querySelector('#' + key + ' button');\n",
              "      quickchartButtonEl.disabled = true;  // To prevent multiple clicks.\n",
              "      quickchartButtonEl.classList.add('colab-df-spinner');\n",
              "      try {\n",
              "        const charts = await google.colab.kernel.invokeFunction(\n",
              "            'suggestCharts', [key], {});\n",
              "      } catch (error) {\n",
              "        console.error('Error during call to suggestCharts:', error);\n",
              "      }\n",
              "      quickchartButtonEl.classList.remove('colab-df-spinner');\n",
              "      quickchartButtonEl.classList.add('colab-df-quickchart-complete');\n",
              "    }\n",
              "    (() => {\n",
              "      let quickchartButtonEl =\n",
              "        document.querySelector('#df-1159571e-5b0e-4cfa-9778-35f3fe175c92 button');\n",
              "      quickchartButtonEl.style.display =\n",
              "        google.colab.kernel.accessAllowed ? 'block' : 'none';\n",
              "    })();\n",
              "  </script>\n",
              "</div>\n",
              "\n",
              "  <div id=\"id_60db2c24-983c-4a22-9716-9d03fe25d34d\">\n",
              "    <style>\n",
              "      .colab-df-generate {\n",
              "        background-color: #E8F0FE;\n",
              "        border: none;\n",
              "        border-radius: 50%;\n",
              "        cursor: pointer;\n",
              "        display: none;\n",
              "        fill: #1967D2;\n",
              "        height: 32px;\n",
              "        padding: 0 0 0 0;\n",
              "        width: 32px;\n",
              "      }\n",
              "\n",
              "      .colab-df-generate:hover {\n",
              "        background-color: #E2EBFA;\n",
              "        box-shadow: 0px 1px 2px rgba(60, 64, 67, 0.3), 0px 1px 3px 1px rgba(60, 64, 67, 0.15);\n",
              "        fill: #174EA6;\n",
              "      }\n",
              "\n",
              "      [theme=dark] .colab-df-generate {\n",
              "        background-color: #3B4455;\n",
              "        fill: #D2E3FC;\n",
              "      }\n",
              "\n",
              "      [theme=dark] .colab-df-generate:hover {\n",
              "        background-color: #434B5C;\n",
              "        box-shadow: 0px 1px 3px 1px rgba(0, 0, 0, 0.15);\n",
              "        filter: drop-shadow(0px 1px 2px rgba(0, 0, 0, 0.3));\n",
              "        fill: #FFFFFF;\n",
              "      }\n",
              "    </style>\n",
              "    <button class=\"colab-df-generate\" onclick=\"generateWithVariable('train_10_percent')\"\n",
              "            title=\"Generate code using this dataframe.\"\n",
              "            style=\"display:none;\">\n",
              "\n",
              "  <svg xmlns=\"http://www.w3.org/2000/svg\" height=\"24px\"viewBox=\"0 0 24 24\"\n",
              "       width=\"24px\">\n",
              "    <path d=\"M7,19H8.4L18.45,9,17,7.55,7,17.6ZM5,21V16.75L18.45,3.32a2,2,0,0,1,2.83,0l1.4,1.43a1.91,1.91,0,0,1,.58,1.4,1.91,1.91,0,0,1-.58,1.4L9.25,21ZM18.45,9,17,7.55Zm-12,3A5.31,5.31,0,0,0,4.9,8.1,5.31,5.31,0,0,0,1,6.5,5.31,5.31,0,0,0,4.9,4.9,5.31,5.31,0,0,0,6.5,1,5.31,5.31,0,0,0,8.1,4.9,5.31,5.31,0,0,0,12,6.5,5.46,5.46,0,0,0,6.5,12Z\"/>\n",
              "  </svg>\n",
              "    </button>\n",
              "    <script>\n",
              "      (() => {\n",
              "      const buttonEl =\n",
              "        document.querySelector('#id_60db2c24-983c-4a22-9716-9d03fe25d34d button.colab-df-generate');\n",
              "      buttonEl.style.display =\n",
              "        google.colab.kernel.accessAllowed ? 'block' : 'none';\n",
              "\n",
              "      buttonEl.onclick = () => {\n",
              "        google.colab.notebook.generateWithVariable('train_10_percent');\n",
              "      }\n",
              "      })();\n",
              "    </script>\n",
              "  </div>\n",
              "\n",
              "    </div>\n",
              "  </div>\n"
            ],
            "application/vnd.google.colaboratory.intrinsic+json": {
              "type": "dataframe",
              "variable_name": "train_10_percent",
              "summary": "{\n  \"name\": \"train_10_percent\",\n  \"rows\": 761,\n  \"fields\": [\n    {\n      \"column\": \"text\",\n      \"properties\": {\n        \"dtype\": \"string\",\n        \"num_unique_values\": 761,\n        \"samples\": [\n          \"Currently Blasting #Benediction - #SanelessTheory -on Metal Devastation Radio-  http://t.co/siGeeQ42cZ\",\n          \"BREAKING: Terror Attack On\\nPolice Post #Udhampur\",\n          \"Who is bringing the tornadoes and floods. Who is bringing the climate change. God is after America He is plaguing her\\n \\n#FARRAKHAN #QUOTE\"\n        ],\n        \"semantic_type\": \"\",\n        \"description\": \"\"\n      }\n    },\n    {\n      \"column\": \"target\",\n      \"properties\": {\n        \"dtype\": \"number\",\n        \"std\": 0,\n        \"min\": 0,\n        \"max\": 1,\n        \"num_unique_values\": 2,\n        \"samples\": [\n          1,\n          0\n        ],\n        \"semantic_type\": \"\",\n        \"description\": \"\"\n      }\n    }\n  ]\n}"
            }
          },
          "metadata": {},
          "execution_count": 310
        }
      ]
    },
    {
      "cell_type": "code",
      "source": [
        "len(train_10_percent)/len(train_df_shuffled)"
      ],
      "metadata": {
        "colab": {
          "base_uri": "https://localhost:8080/"
        },
        "id": "TeH1U6qGt3M9",
        "outputId": "bddec854-23e0-4f82-b3f6-0d099de10379"
      },
      "execution_count": 311,
      "outputs": [
        {
          "output_type": "execute_result",
          "data": {
            "text/plain": [
              "0.09996059372126626"
            ]
          },
          "metadata": {},
          "execution_count": 311
        }
      ]
    },
    {
      "cell_type": "code",
      "source": [
        "train_sentences_10_percent = train_10_percent[\"text\"].to_list()\n",
        "train_labels_10_percent = train_10_percent[\"target\"].to_list()\n"
      ],
      "metadata": {
        "id": "o76BpEkCt7Yj"
      },
      "execution_count": 312,
      "outputs": []
    },
    {
      "cell_type": "code",
      "source": [
        "train_10_percent[\"target\"].value_counts()"
      ],
      "metadata": {
        "colab": {
          "base_uri": "https://localhost:8080/"
        },
        "id": "sKr7UGHEuFd_",
        "outputId": "382f6ac4-e037-458e-d108-57a0a4c22107"
      },
      "execution_count": 313,
      "outputs": [
        {
          "output_type": "execute_result",
          "data": {
            "text/plain": [
              "target\n",
              "0    452\n",
              "1    309\n",
              "Name: count, dtype: int64"
            ]
          },
          "metadata": {},
          "execution_count": 313
        }
      ]
    },
    {
      "cell_type": "code",
      "source": [
        "train_df_shuffled[\"target\"].value_counts()"
      ],
      "metadata": {
        "colab": {
          "base_uri": "https://localhost:8080/"
        },
        "id": "B0lOTv-5uNc1",
        "outputId": "8dc37d5a-c102-45bd-c536-db01d3d8aa6d"
      },
      "execution_count": 314,
      "outputs": [
        {
          "output_type": "execute_result",
          "data": {
            "text/plain": [
              "target\n",
              "0    4342\n",
              "1    3271\n",
              "Name: count, dtype: int64"
            ]
          },
          "metadata": {},
          "execution_count": 314
        }
      ]
    },
    {
      "cell_type": "markdown",
      "source": [
        " To recreate a model the same as a previous model you've created you can use the `tf.keras.model.clone_model()`"
      ],
      "metadata": {
        "id": "OweQA4TSuP_v"
      }
    },
    {
      "cell_type": "code",
      "source": [
        "model_7 = tf.keras.models.clone_model(model_6)\n",
        "model_7.compile(loss=\"binary_crossentropy\",\n",
        "                 optimizer=tf.keras.optimizers.Adam(),\n",
        "                 metrics=[\"accuracy\"])\n",
        "model_7.summary()"
      ],
      "metadata": {
        "colab": {
          "base_uri": "https://localhost:8080/"
        },
        "id": "zpOmBXSru4Vy",
        "outputId": "b2bfce21-03ef-43f5-adf8-cb06982bb4bd"
      },
      "execution_count": 316,
      "outputs": [
        {
          "output_type": "stream",
          "name": "stdout",
          "text": [
            "Model: \"sequential_2\"\n",
            "_________________________________________________________________\n",
            " Layer (type)                Output Shape              Param #   \n",
            "=================================================================\n",
            " USE (KerasLayer)            (None, 512)               256797824 \n",
            "                                                                 \n",
            " dense_16 (Dense)            (None, 64)                32832     \n",
            "                                                                 \n",
            " dense_17 (Dense)            (None, 1)                 65        \n",
            "                                                                 \n",
            "=================================================================\n",
            "Total params: 256830721 (979.73 MB)\n",
            "Trainable params: 32897 (128.50 KB)\n",
            "Non-trainable params: 256797824 (979.61 MB)\n",
            "_________________________________________________________________\n"
          ]
        }
      ]
    },
    {
      "cell_type": "code",
      "source": [
        "model_7.fit(train_sentences_10_percent,\n",
        "            train_labels_10_percent,\n",
        "            epochs=5,\n",
        "            validation_data=(validation_sentences, val_labels),\n",
        "            callbacks=[create_tensorboard_callback(SAVE_DIR, \"tf_hub_sentence_encoder_10_percent\")])"
      ],
      "metadata": {
        "colab": {
          "base_uri": "https://localhost:8080/"
        },
        "id": "XP2GZmqpvR6r",
        "outputId": "c632f097-c033-47e0-80d7-cd8350564864"
      },
      "execution_count": 319,
      "outputs": [
        {
          "output_type": "stream",
          "name": "stdout",
          "text": [
            "Saving TensorBoard log files to: model_logs/tf_hub_sentence_encoder_10_percent/20240509-142621\n",
            "Epoch 1/5\n",
            "24/24 [==============================] - 6s 81ms/step - loss: 0.6675 - accuracy: 0.6846 - val_loss: 0.6380 - val_accuracy: 0.7598\n",
            "Epoch 2/5\n",
            "24/24 [==============================] - 1s 41ms/step - loss: 0.5956 - accuracy: 0.8081 - val_loss: 0.5685 - val_accuracy: 0.7992\n",
            "Epoch 3/5\n",
            "24/24 [==============================] - 1s 25ms/step - loss: 0.5231 - accuracy: 0.8147 - val_loss: 0.5156 - val_accuracy: 0.8071\n",
            "Epoch 4/5\n",
            "24/24 [==============================] - 0s 21ms/step - loss: 0.4709 - accuracy: 0.8160 - val_loss: 0.4858 - val_accuracy: 0.8123\n",
            "Epoch 5/5\n",
            "24/24 [==============================] - 0s 20ms/step - loss: 0.4340 - accuracy: 0.8331 - val_loss: 0.4697 - val_accuracy: 0.8084\n"
          ]
        },
        {
          "output_type": "execute_result",
          "data": {
            "text/plain": [
              "<keras.src.callbacks.History at 0x78b57609de70>"
            ]
          },
          "metadata": {},
          "execution_count": 319
        }
      ]
    },
    {
      "cell_type": "code",
      "source": [
        "model_7_pred_probs = model_7.predict(validation_sentences)\n",
        "model_7_preds = tf.squeeze(tf.round(model_7_pred_probs))\n",
        "model_7_results = calculate_results(y_true=val_labels,\n",
        "                                    y_pred = model_7_preds)\n",
        "model_7_results"
      ],
      "metadata": {
        "colab": {
          "base_uri": "https://localhost:8080/"
        },
        "id": "LMTnJtNMvuw_",
        "outputId": "a1a97c91-e46d-42a4-fea6-beda884ae5dc"
      },
      "execution_count": 321,
      "outputs": [
        {
          "output_type": "stream",
          "name": "stdout",
          "text": [
            "24/24 [==============================] - 1s 20ms/step\n"
          ]
        },
        {
          "output_type": "execute_result",
          "data": {
            "text/plain": [
              "{'accuracy': 80.83989501312337,\n",
              " 'precision': 0.8084333684258599,\n",
              " 'recall': 0.8083989501312336,\n",
              " 'f1': 0.8067484900456525}"
            ]
          },
          "metadata": {},
          "execution_count": 321
        }
      ]
    },
    {
      "cell_type": "code",
      "source": [],
      "metadata": {
        "id": "u0aQkpuQwSI1"
      },
      "execution_count": null,
      "outputs": []
    }
  ]
}