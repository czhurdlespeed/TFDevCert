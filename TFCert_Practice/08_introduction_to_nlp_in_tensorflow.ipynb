{
  "nbformat": 4,
  "nbformat_minor": 0,
  "metadata": {
    "colab": {
      "provenance": [],
      "gpuType": "T4",
      "authorship_tag": "ABX9TyMaQPnS6QHDDwirzKCuQ7h3",
      "include_colab_link": true
    },
    "kernelspec": {
      "name": "python3",
      "display_name": "Python 3"
    },
    "language_info": {
      "name": "python"
    },
    "accelerator": "GPU"
  },
  "cells": [
    {
      "cell_type": "markdown",
      "metadata": {
        "id": "view-in-github",
        "colab_type": "text"
      },
      "source": [
        "<a href=\"https://colab.research.google.com/github/czhurdlespeed/TFDevCert/blob/main/TFCert_Practice/08_introduction_to_nlp_in_tensorflow.ipynb\" target=\"_parent\"><img src=\"https://colab.research.google.com/assets/colab-badge.svg\" alt=\"Open In Colab\"/></a>"
      ]
    },
    {
      "cell_type": "markdown",
      "source": [
        "# Introduction to NLP Fundamentals in TensorFlow"
      ],
      "metadata": {
        "id": "nysZGP4k6iqy"
      }
    },
    {
      "cell_type": "markdown",
      "source": [
        "## Check for GPU"
      ],
      "metadata": {
        "id": "Zslvaabd-gIt"
      }
    },
    {
      "cell_type": "code",
      "source": [
        "!nvidia-smi -L"
      ],
      "metadata": {
        "colab": {
          "base_uri": "https://localhost:8080/"
        },
        "id": "CtM-62-y-vjE",
        "outputId": "673f1a62-ed92-4997-cb5a-7e0de230daf1"
      },
      "execution_count": 1,
      "outputs": [
        {
          "output_type": "stream",
          "name": "stdout",
          "text": [
            "GPU 0: Tesla T4 (UUID: GPU-a686cf4b-5b49-6c52-507c-e3f8a76a9174)\n"
          ]
        }
      ]
    },
    {
      "cell_type": "markdown",
      "source": [
        "## Import Helper Functions"
      ],
      "metadata": {
        "id": "AHWR509m-xzJ"
      }
    },
    {
      "cell_type": "code",
      "source": [
        "!wget https://github.com/mrdbourke/tensorflow-deep-learning/raw/main/extras/helper_functions.py\n",
        "from helper_functions import unzip_data, create_tensorboard_callback, plot_loss_curves, compare_historys"
      ],
      "metadata": {
        "colab": {
          "base_uri": "https://localhost:8080/"
        },
        "id": "TqVEAIZ6_Ikb",
        "outputId": "84606f4e-a16c-4dea-ef71-c29ddb11c2d3"
      },
      "execution_count": 2,
      "outputs": [
        {
          "output_type": "stream",
          "name": "stdout",
          "text": [
            "--2024-02-18 16:38:16--  https://github.com/mrdbourke/tensorflow-deep-learning/raw/main/extras/helper_functions.py\n",
            "Resolving github.com (github.com)... 140.82.112.4\n",
            "Connecting to github.com (github.com)|140.82.112.4|:443... connected.\n",
            "HTTP request sent, awaiting response... 302 Found\n",
            "Location: https://raw.githubusercontent.com/mrdbourke/tensorflow-deep-learning/main/extras/helper_functions.py [following]\n",
            "--2024-02-18 16:38:16--  https://raw.githubusercontent.com/mrdbourke/tensorflow-deep-learning/main/extras/helper_functions.py\n",
            "Resolving raw.githubusercontent.com (raw.githubusercontent.com)... 185.199.109.133, 185.199.110.133, 185.199.111.133, ...\n",
            "Connecting to raw.githubusercontent.com (raw.githubusercontent.com)|185.199.109.133|:443... connected.\n",
            "HTTP request sent, awaiting response... 200 OK\n",
            "Length: 10246 (10K) [text/plain]\n",
            "Saving to: ‘helper_functions.py’\n",
            "\n",
            "helper_functions.py 100%[===================>]  10.01K  --.-KB/s    in 0s      \n",
            "\n",
            "2024-02-18 16:38:16 (95.0 MB/s) - ‘helper_functions.py’ saved [10246/10246]\n",
            "\n"
          ]
        }
      ]
    },
    {
      "cell_type": "markdown",
      "source": [
        "## Get a text dataset\n",
        "\n",
        "- Using Kaggle's Introduction to NLP dataset"
      ],
      "metadata": {
        "id": "ivvW7SqD_OlC"
      }
    },
    {
      "cell_type": "code",
      "source": [
        "!wget https://storage.googleapis.com/ztm_tf_course/nlp_getting_started.zip\n",
        "# Uzip data\n",
        "unzip_data(\"nlp_getting_started.zip\")"
      ],
      "metadata": {
        "colab": {
          "base_uri": "https://localhost:8080/"
        },
        "id": "kcRPixgr_aYY",
        "outputId": "8d587e05-ab76-490a-e615-81d593f39d54"
      },
      "execution_count": 3,
      "outputs": [
        {
          "output_type": "stream",
          "name": "stdout",
          "text": [
            "--2024-02-18 16:38:23--  https://storage.googleapis.com/ztm_tf_course/nlp_getting_started.zip\n",
            "Resolving storage.googleapis.com (storage.googleapis.com)... 172.253.114.207, 172.253.119.207, 108.177.111.207, ...\n",
            "Connecting to storage.googleapis.com (storage.googleapis.com)|172.253.114.207|:443... connected.\n",
            "HTTP request sent, awaiting response... 200 OK\n",
            "Length: 607343 (593K) [application/zip]\n",
            "Saving to: ‘nlp_getting_started.zip’\n",
            "\n",
            "\rnlp_getting_started   0%[                    ]       0  --.-KB/s               \rnlp_getting_started 100%[===================>] 593.11K  --.-KB/s    in 0.01s   \n",
            "\n",
            "2024-02-18 16:38:23 (39.7 MB/s) - ‘nlp_getting_started.zip’ saved [607343/607343]\n",
            "\n"
          ]
        }
      ]
    },
    {
      "cell_type": "markdown",
      "source": [
        "## Visualizing a text dataset"
      ],
      "metadata": {
        "id": "lWLQdINx_09d"
      }
    },
    {
      "cell_type": "code",
      "source": [
        "import pandas as pd\n",
        "train_df = pd.read_csv(\"train.csv\")\n",
        "test_df = pd.read_csv(\"test.csv\")\n",
        "train_df.head()"
      ],
      "metadata": {
        "colab": {
          "base_uri": "https://localhost:8080/",
          "height": 240
        },
        "id": "ZbI_V54rAHlZ",
        "outputId": "97e162cc-9a88-44de-8d76-58361f6a444c"
      },
      "execution_count": 4,
      "outputs": [
        {
          "output_type": "execute_result",
          "data": {
            "text/plain": [
              "   id keyword location                                               text  \\\n",
              "0   1     NaN      NaN  Our Deeds are the Reason of this #earthquake M...   \n",
              "1   4     NaN      NaN             Forest fire near La Ronge Sask. Canada   \n",
              "2   5     NaN      NaN  All residents asked to 'shelter in place' are ...   \n",
              "3   6     NaN      NaN  13,000 people receive #wildfires evacuation or...   \n",
              "4   7     NaN      NaN  Just got sent this photo from Ruby #Alaska as ...   \n",
              "\n",
              "   target  \n",
              "0       1  \n",
              "1       1  \n",
              "2       1  \n",
              "3       1  \n",
              "4       1  "
            ],
            "text/html": [
              "\n",
              "  <div id=\"df-d7169ecf-eca2-4a94-b086-09ebdbcf63ee\" class=\"colab-df-container\">\n",
              "    <div>\n",
              "<style scoped>\n",
              "    .dataframe tbody tr th:only-of-type {\n",
              "        vertical-align: middle;\n",
              "    }\n",
              "\n",
              "    .dataframe tbody tr th {\n",
              "        vertical-align: top;\n",
              "    }\n",
              "\n",
              "    .dataframe thead th {\n",
              "        text-align: right;\n",
              "    }\n",
              "</style>\n",
              "<table border=\"1\" class=\"dataframe\">\n",
              "  <thead>\n",
              "    <tr style=\"text-align: right;\">\n",
              "      <th></th>\n",
              "      <th>id</th>\n",
              "      <th>keyword</th>\n",
              "      <th>location</th>\n",
              "      <th>text</th>\n",
              "      <th>target</th>\n",
              "    </tr>\n",
              "  </thead>\n",
              "  <tbody>\n",
              "    <tr>\n",
              "      <th>0</th>\n",
              "      <td>1</td>\n",
              "      <td>NaN</td>\n",
              "      <td>NaN</td>\n",
              "      <td>Our Deeds are the Reason of this #earthquake M...</td>\n",
              "      <td>1</td>\n",
              "    </tr>\n",
              "    <tr>\n",
              "      <th>1</th>\n",
              "      <td>4</td>\n",
              "      <td>NaN</td>\n",
              "      <td>NaN</td>\n",
              "      <td>Forest fire near La Ronge Sask. Canada</td>\n",
              "      <td>1</td>\n",
              "    </tr>\n",
              "    <tr>\n",
              "      <th>2</th>\n",
              "      <td>5</td>\n",
              "      <td>NaN</td>\n",
              "      <td>NaN</td>\n",
              "      <td>All residents asked to 'shelter in place' are ...</td>\n",
              "      <td>1</td>\n",
              "    </tr>\n",
              "    <tr>\n",
              "      <th>3</th>\n",
              "      <td>6</td>\n",
              "      <td>NaN</td>\n",
              "      <td>NaN</td>\n",
              "      <td>13,000 people receive #wildfires evacuation or...</td>\n",
              "      <td>1</td>\n",
              "    </tr>\n",
              "    <tr>\n",
              "      <th>4</th>\n",
              "      <td>7</td>\n",
              "      <td>NaN</td>\n",
              "      <td>NaN</td>\n",
              "      <td>Just got sent this photo from Ruby #Alaska as ...</td>\n",
              "      <td>1</td>\n",
              "    </tr>\n",
              "  </tbody>\n",
              "</table>\n",
              "</div>\n",
              "    <div class=\"colab-df-buttons\">\n",
              "\n",
              "  <div class=\"colab-df-container\">\n",
              "    <button class=\"colab-df-convert\" onclick=\"convertToInteractive('df-d7169ecf-eca2-4a94-b086-09ebdbcf63ee')\"\n",
              "            title=\"Convert this dataframe to an interactive table.\"\n",
              "            style=\"display:none;\">\n",
              "\n",
              "  <svg xmlns=\"http://www.w3.org/2000/svg\" height=\"24px\" viewBox=\"0 -960 960 960\">\n",
              "    <path d=\"M120-120v-720h720v720H120Zm60-500h600v-160H180v160Zm220 220h160v-160H400v160Zm0 220h160v-160H400v160ZM180-400h160v-160H180v160Zm440 0h160v-160H620v160ZM180-180h160v-160H180v160Zm440 0h160v-160H620v160Z\"/>\n",
              "  </svg>\n",
              "    </button>\n",
              "\n",
              "  <style>\n",
              "    .colab-df-container {\n",
              "      display:flex;\n",
              "      gap: 12px;\n",
              "    }\n",
              "\n",
              "    .colab-df-convert {\n",
              "      background-color: #E8F0FE;\n",
              "      border: none;\n",
              "      border-radius: 50%;\n",
              "      cursor: pointer;\n",
              "      display: none;\n",
              "      fill: #1967D2;\n",
              "      height: 32px;\n",
              "      padding: 0 0 0 0;\n",
              "      width: 32px;\n",
              "    }\n",
              "\n",
              "    .colab-df-convert:hover {\n",
              "      background-color: #E2EBFA;\n",
              "      box-shadow: 0px 1px 2px rgba(60, 64, 67, 0.3), 0px 1px 3px 1px rgba(60, 64, 67, 0.15);\n",
              "      fill: #174EA6;\n",
              "    }\n",
              "\n",
              "    .colab-df-buttons div {\n",
              "      margin-bottom: 4px;\n",
              "    }\n",
              "\n",
              "    [theme=dark] .colab-df-convert {\n",
              "      background-color: #3B4455;\n",
              "      fill: #D2E3FC;\n",
              "    }\n",
              "\n",
              "    [theme=dark] .colab-df-convert:hover {\n",
              "      background-color: #434B5C;\n",
              "      box-shadow: 0px 1px 3px 1px rgba(0, 0, 0, 0.15);\n",
              "      filter: drop-shadow(0px 1px 2px rgba(0, 0, 0, 0.3));\n",
              "      fill: #FFFFFF;\n",
              "    }\n",
              "  </style>\n",
              "\n",
              "    <script>\n",
              "      const buttonEl =\n",
              "        document.querySelector('#df-d7169ecf-eca2-4a94-b086-09ebdbcf63ee button.colab-df-convert');\n",
              "      buttonEl.style.display =\n",
              "        google.colab.kernel.accessAllowed ? 'block' : 'none';\n",
              "\n",
              "      async function convertToInteractive(key) {\n",
              "        const element = document.querySelector('#df-d7169ecf-eca2-4a94-b086-09ebdbcf63ee');\n",
              "        const dataTable =\n",
              "          await google.colab.kernel.invokeFunction('convertToInteractive',\n",
              "                                                    [key], {});\n",
              "        if (!dataTable) return;\n",
              "\n",
              "        const docLinkHtml = 'Like what you see? Visit the ' +\n",
              "          '<a target=\"_blank\" href=https://colab.research.google.com/notebooks/data_table.ipynb>data table notebook</a>'\n",
              "          + ' to learn more about interactive tables.';\n",
              "        element.innerHTML = '';\n",
              "        dataTable['output_type'] = 'display_data';\n",
              "        await google.colab.output.renderOutput(dataTable, element);\n",
              "        const docLink = document.createElement('div');\n",
              "        docLink.innerHTML = docLinkHtml;\n",
              "        element.appendChild(docLink);\n",
              "      }\n",
              "    </script>\n",
              "  </div>\n",
              "\n",
              "\n",
              "<div id=\"df-0f11929a-b009-4742-bb46-cc862bf6f9c5\">\n",
              "  <button class=\"colab-df-quickchart\" onclick=\"quickchart('df-0f11929a-b009-4742-bb46-cc862bf6f9c5')\"\n",
              "            title=\"Suggest charts\"\n",
              "            style=\"display:none;\">\n",
              "\n",
              "<svg xmlns=\"http://www.w3.org/2000/svg\" height=\"24px\"viewBox=\"0 0 24 24\"\n",
              "     width=\"24px\">\n",
              "    <g>\n",
              "        <path d=\"M19 3H5c-1.1 0-2 .9-2 2v14c0 1.1.9 2 2 2h14c1.1 0 2-.9 2-2V5c0-1.1-.9-2-2-2zM9 17H7v-7h2v7zm4 0h-2V7h2v10zm4 0h-2v-4h2v4z\"/>\n",
              "    </g>\n",
              "</svg>\n",
              "  </button>\n",
              "\n",
              "<style>\n",
              "  .colab-df-quickchart {\n",
              "      --bg-color: #E8F0FE;\n",
              "      --fill-color: #1967D2;\n",
              "      --hover-bg-color: #E2EBFA;\n",
              "      --hover-fill-color: #174EA6;\n",
              "      --disabled-fill-color: #AAA;\n",
              "      --disabled-bg-color: #DDD;\n",
              "  }\n",
              "\n",
              "  [theme=dark] .colab-df-quickchart {\n",
              "      --bg-color: #3B4455;\n",
              "      --fill-color: #D2E3FC;\n",
              "      --hover-bg-color: #434B5C;\n",
              "      --hover-fill-color: #FFFFFF;\n",
              "      --disabled-bg-color: #3B4455;\n",
              "      --disabled-fill-color: #666;\n",
              "  }\n",
              "\n",
              "  .colab-df-quickchart {\n",
              "    background-color: var(--bg-color);\n",
              "    border: none;\n",
              "    border-radius: 50%;\n",
              "    cursor: pointer;\n",
              "    display: none;\n",
              "    fill: var(--fill-color);\n",
              "    height: 32px;\n",
              "    padding: 0;\n",
              "    width: 32px;\n",
              "  }\n",
              "\n",
              "  .colab-df-quickchart:hover {\n",
              "    background-color: var(--hover-bg-color);\n",
              "    box-shadow: 0 1px 2px rgba(60, 64, 67, 0.3), 0 1px 3px 1px rgba(60, 64, 67, 0.15);\n",
              "    fill: var(--button-hover-fill-color);\n",
              "  }\n",
              "\n",
              "  .colab-df-quickchart-complete:disabled,\n",
              "  .colab-df-quickchart-complete:disabled:hover {\n",
              "    background-color: var(--disabled-bg-color);\n",
              "    fill: var(--disabled-fill-color);\n",
              "    box-shadow: none;\n",
              "  }\n",
              "\n",
              "  .colab-df-spinner {\n",
              "    border: 2px solid var(--fill-color);\n",
              "    border-color: transparent;\n",
              "    border-bottom-color: var(--fill-color);\n",
              "    animation:\n",
              "      spin 1s steps(1) infinite;\n",
              "  }\n",
              "\n",
              "  @keyframes spin {\n",
              "    0% {\n",
              "      border-color: transparent;\n",
              "      border-bottom-color: var(--fill-color);\n",
              "      border-left-color: var(--fill-color);\n",
              "    }\n",
              "    20% {\n",
              "      border-color: transparent;\n",
              "      border-left-color: var(--fill-color);\n",
              "      border-top-color: var(--fill-color);\n",
              "    }\n",
              "    30% {\n",
              "      border-color: transparent;\n",
              "      border-left-color: var(--fill-color);\n",
              "      border-top-color: var(--fill-color);\n",
              "      border-right-color: var(--fill-color);\n",
              "    }\n",
              "    40% {\n",
              "      border-color: transparent;\n",
              "      border-right-color: var(--fill-color);\n",
              "      border-top-color: var(--fill-color);\n",
              "    }\n",
              "    60% {\n",
              "      border-color: transparent;\n",
              "      border-right-color: var(--fill-color);\n",
              "    }\n",
              "    80% {\n",
              "      border-color: transparent;\n",
              "      border-right-color: var(--fill-color);\n",
              "      border-bottom-color: var(--fill-color);\n",
              "    }\n",
              "    90% {\n",
              "      border-color: transparent;\n",
              "      border-bottom-color: var(--fill-color);\n",
              "    }\n",
              "  }\n",
              "</style>\n",
              "\n",
              "  <script>\n",
              "    async function quickchart(key) {\n",
              "      const quickchartButtonEl =\n",
              "        document.querySelector('#' + key + ' button');\n",
              "      quickchartButtonEl.disabled = true;  // To prevent multiple clicks.\n",
              "      quickchartButtonEl.classList.add('colab-df-spinner');\n",
              "      try {\n",
              "        const charts = await google.colab.kernel.invokeFunction(\n",
              "            'suggestCharts', [key], {});\n",
              "      } catch (error) {\n",
              "        console.error('Error during call to suggestCharts:', error);\n",
              "      }\n",
              "      quickchartButtonEl.classList.remove('colab-df-spinner');\n",
              "      quickchartButtonEl.classList.add('colab-df-quickchart-complete');\n",
              "    }\n",
              "    (() => {\n",
              "      let quickchartButtonEl =\n",
              "        document.querySelector('#df-0f11929a-b009-4742-bb46-cc862bf6f9c5 button');\n",
              "      quickchartButtonEl.style.display =\n",
              "        google.colab.kernel.accessAllowed ? 'block' : 'none';\n",
              "    })();\n",
              "  </script>\n",
              "</div>\n",
              "\n",
              "    </div>\n",
              "  </div>\n"
            ],
            "application/vnd.google.colaboratory.intrinsic+json": {
              "type": "dataframe",
              "variable_name": "train_df",
              "summary": "{\n  \"name\": \"train_df\",\n  \"rows\": 7613,\n  \"fields\": [\n    {\n      \"column\": \"id\",\n      \"properties\": {\n        \"dtype\": \"number\",\n        \"std\": 3137,\n        \"min\": 1,\n        \"max\": 10873,\n        \"samples\": [\n          3796,\n          3185,\n          7769\n        ],\n        \"num_unique_values\": 7613,\n        \"semantic_type\": \"\",\n        \"description\": \"\"\n      }\n    },\n    {\n      \"column\": \"keyword\",\n      \"properties\": {\n        \"dtype\": \"category\",\n        \"samples\": [\n          \"injury\",\n          \"nuclear%20reactor\",\n          \"engulfed\"\n        ],\n        \"num_unique_values\": 221,\n        \"semantic_type\": \"\",\n        \"description\": \"\"\n      }\n    },\n    {\n      \"column\": \"location\",\n      \"properties\": {\n        \"dtype\": \"category\",\n        \"samples\": [\n          \"Oklahoma\",\n          \"Starling City\",\n          \"Trinidad and Tobago\"\n        ],\n        \"num_unique_values\": 3341,\n        \"semantic_type\": \"\",\n        \"description\": \"\"\n      }\n    },\n    {\n      \"column\": \"text\",\n      \"properties\": {\n        \"dtype\": \"string\",\n        \"samples\": [\n          \"Three Homes Demolished in Unrecognized Arab Village - International Middle East Media Center http://t.co/ik8m4Yi9T4\",\n          \"Reid Lake fire prompts campground evacuation order http://t.co/jBODKM6rBU\",\n          \"FAAN orders evacuation of abandoned aircraft at MMA http://t.co/dEvYbnVXGQ via @todayng\"\n        ],\n        \"num_unique_values\": 7503,\n        \"semantic_type\": \"\",\n        \"description\": \"\"\n      }\n    },\n    {\n      \"column\": \"target\",\n      \"properties\": {\n        \"dtype\": \"number\",\n        \"std\": 0,\n        \"min\": 0,\n        \"max\": 1,\n        \"samples\": [\n          0,\n          1\n        ],\n        \"num_unique_values\": 2,\n        \"semantic_type\": \"\",\n        \"description\": \"\"\n      }\n    }\n  ]\n}"
            }
          },
          "metadata": {},
          "execution_count": 4
        }
      ]
    },
    {
      "cell_type": "code",
      "source": [
        "train_df[\"text\"][100]"
      ],
      "metadata": {
        "colab": {
          "base_uri": "https://localhost:8080/",
          "height": 53
        },
        "id": "RjxZaSj9AyF5",
        "outputId": "b937494f-ea42-4adc-89df-a7645e4a7659"
      },
      "execution_count": 5,
      "outputs": [
        {
          "output_type": "execute_result",
          "data": {
            "text/plain": [
              "'.@NorwayMFA #Bahrain police had previously died in a road accident they were not killed by explosion https://t.co/gFJfgTodad'"
            ],
            "application/vnd.google.colaboratory.intrinsic+json": {
              "type": "string"
            }
          },
          "metadata": {},
          "execution_count": 5
        }
      ]
    },
    {
      "cell_type": "code",
      "source": [
        "# Shuffle training datafram\n",
        "train_df_shuffled = train_df.sample(frac=1)\n",
        "train_df_shuffled.head()"
      ],
      "metadata": {
        "colab": {
          "base_uri": "https://localhost:8080/",
          "height": 293
        },
        "id": "Nm_KVV2FA331",
        "outputId": "d02d61f6-995b-46d8-8eab-43915d5745d7"
      },
      "execution_count": 6,
      "outputs": [
        {
          "output_type": "execute_result",
          "data": {
            "text/plain": [
              "        id       keyword       location  \\\n",
              "2183  3130        debris            NaN   \n",
              "626    902  bioterrorism  timeline kamu   \n",
              "2433  3495      derailed            NYC   \n",
              "6024  8609       seismic            NaN   \n",
              "3747  5324          fire            NaN   \n",
              "\n",
              "                                                   text  target  \n",
              "2183  Debris found on Reunion Island comes from MH37...       1  \n",
              "626   Government Experts Concerned About Possible Bi...       1  \n",
              "2433  Sad that biker beatdown derailed his pro-democ...       1  \n",
              "6024  The 08/06/2015 AlabamaQuake seismic summary w/...       1  \n",
              "3747         Setting things on fire is always an option       1  "
            ],
            "text/html": [
              "\n",
              "  <div id=\"df-88eca788-e440-49b3-9cab-fd48f98da730\" class=\"colab-df-container\">\n",
              "    <div>\n",
              "<style scoped>\n",
              "    .dataframe tbody tr th:only-of-type {\n",
              "        vertical-align: middle;\n",
              "    }\n",
              "\n",
              "    .dataframe tbody tr th {\n",
              "        vertical-align: top;\n",
              "    }\n",
              "\n",
              "    .dataframe thead th {\n",
              "        text-align: right;\n",
              "    }\n",
              "</style>\n",
              "<table border=\"1\" class=\"dataframe\">\n",
              "  <thead>\n",
              "    <tr style=\"text-align: right;\">\n",
              "      <th></th>\n",
              "      <th>id</th>\n",
              "      <th>keyword</th>\n",
              "      <th>location</th>\n",
              "      <th>text</th>\n",
              "      <th>target</th>\n",
              "    </tr>\n",
              "  </thead>\n",
              "  <tbody>\n",
              "    <tr>\n",
              "      <th>2183</th>\n",
              "      <td>3130</td>\n",
              "      <td>debris</td>\n",
              "      <td>NaN</td>\n",
              "      <td>Debris found on Reunion Island comes from MH37...</td>\n",
              "      <td>1</td>\n",
              "    </tr>\n",
              "    <tr>\n",
              "      <th>626</th>\n",
              "      <td>902</td>\n",
              "      <td>bioterrorism</td>\n",
              "      <td>timeline kamu</td>\n",
              "      <td>Government Experts Concerned About Possible Bi...</td>\n",
              "      <td>1</td>\n",
              "    </tr>\n",
              "    <tr>\n",
              "      <th>2433</th>\n",
              "      <td>3495</td>\n",
              "      <td>derailed</td>\n",
              "      <td>NYC</td>\n",
              "      <td>Sad that biker beatdown derailed his pro-democ...</td>\n",
              "      <td>1</td>\n",
              "    </tr>\n",
              "    <tr>\n",
              "      <th>6024</th>\n",
              "      <td>8609</td>\n",
              "      <td>seismic</td>\n",
              "      <td>NaN</td>\n",
              "      <td>The 08/06/2015 AlabamaQuake seismic summary w/...</td>\n",
              "      <td>1</td>\n",
              "    </tr>\n",
              "    <tr>\n",
              "      <th>3747</th>\n",
              "      <td>5324</td>\n",
              "      <td>fire</td>\n",
              "      <td>NaN</td>\n",
              "      <td>Setting things on fire is always an option</td>\n",
              "      <td>1</td>\n",
              "    </tr>\n",
              "  </tbody>\n",
              "</table>\n",
              "</div>\n",
              "    <div class=\"colab-df-buttons\">\n",
              "\n",
              "  <div class=\"colab-df-container\">\n",
              "    <button class=\"colab-df-convert\" onclick=\"convertToInteractive('df-88eca788-e440-49b3-9cab-fd48f98da730')\"\n",
              "            title=\"Convert this dataframe to an interactive table.\"\n",
              "            style=\"display:none;\">\n",
              "\n",
              "  <svg xmlns=\"http://www.w3.org/2000/svg\" height=\"24px\" viewBox=\"0 -960 960 960\">\n",
              "    <path d=\"M120-120v-720h720v720H120Zm60-500h600v-160H180v160Zm220 220h160v-160H400v160Zm0 220h160v-160H400v160ZM180-400h160v-160H180v160Zm440 0h160v-160H620v160ZM180-180h160v-160H180v160Zm440 0h160v-160H620v160Z\"/>\n",
              "  </svg>\n",
              "    </button>\n",
              "\n",
              "  <style>\n",
              "    .colab-df-container {\n",
              "      display:flex;\n",
              "      gap: 12px;\n",
              "    }\n",
              "\n",
              "    .colab-df-convert {\n",
              "      background-color: #E8F0FE;\n",
              "      border: none;\n",
              "      border-radius: 50%;\n",
              "      cursor: pointer;\n",
              "      display: none;\n",
              "      fill: #1967D2;\n",
              "      height: 32px;\n",
              "      padding: 0 0 0 0;\n",
              "      width: 32px;\n",
              "    }\n",
              "\n",
              "    .colab-df-convert:hover {\n",
              "      background-color: #E2EBFA;\n",
              "      box-shadow: 0px 1px 2px rgba(60, 64, 67, 0.3), 0px 1px 3px 1px rgba(60, 64, 67, 0.15);\n",
              "      fill: #174EA6;\n",
              "    }\n",
              "\n",
              "    .colab-df-buttons div {\n",
              "      margin-bottom: 4px;\n",
              "    }\n",
              "\n",
              "    [theme=dark] .colab-df-convert {\n",
              "      background-color: #3B4455;\n",
              "      fill: #D2E3FC;\n",
              "    }\n",
              "\n",
              "    [theme=dark] .colab-df-convert:hover {\n",
              "      background-color: #434B5C;\n",
              "      box-shadow: 0px 1px 3px 1px rgba(0, 0, 0, 0.15);\n",
              "      filter: drop-shadow(0px 1px 2px rgba(0, 0, 0, 0.3));\n",
              "      fill: #FFFFFF;\n",
              "    }\n",
              "  </style>\n",
              "\n",
              "    <script>\n",
              "      const buttonEl =\n",
              "        document.querySelector('#df-88eca788-e440-49b3-9cab-fd48f98da730 button.colab-df-convert');\n",
              "      buttonEl.style.display =\n",
              "        google.colab.kernel.accessAllowed ? 'block' : 'none';\n",
              "\n",
              "      async function convertToInteractive(key) {\n",
              "        const element = document.querySelector('#df-88eca788-e440-49b3-9cab-fd48f98da730');\n",
              "        const dataTable =\n",
              "          await google.colab.kernel.invokeFunction('convertToInteractive',\n",
              "                                                    [key], {});\n",
              "        if (!dataTable) return;\n",
              "\n",
              "        const docLinkHtml = 'Like what you see? Visit the ' +\n",
              "          '<a target=\"_blank\" href=https://colab.research.google.com/notebooks/data_table.ipynb>data table notebook</a>'\n",
              "          + ' to learn more about interactive tables.';\n",
              "        element.innerHTML = '';\n",
              "        dataTable['output_type'] = 'display_data';\n",
              "        await google.colab.output.renderOutput(dataTable, element);\n",
              "        const docLink = document.createElement('div');\n",
              "        docLink.innerHTML = docLinkHtml;\n",
              "        element.appendChild(docLink);\n",
              "      }\n",
              "    </script>\n",
              "  </div>\n",
              "\n",
              "\n",
              "<div id=\"df-ef7fa193-e2f0-4467-91fb-db4988b0aaea\">\n",
              "  <button class=\"colab-df-quickchart\" onclick=\"quickchart('df-ef7fa193-e2f0-4467-91fb-db4988b0aaea')\"\n",
              "            title=\"Suggest charts\"\n",
              "            style=\"display:none;\">\n",
              "\n",
              "<svg xmlns=\"http://www.w3.org/2000/svg\" height=\"24px\"viewBox=\"0 0 24 24\"\n",
              "     width=\"24px\">\n",
              "    <g>\n",
              "        <path d=\"M19 3H5c-1.1 0-2 .9-2 2v14c0 1.1.9 2 2 2h14c1.1 0 2-.9 2-2V5c0-1.1-.9-2-2-2zM9 17H7v-7h2v7zm4 0h-2V7h2v10zm4 0h-2v-4h2v4z\"/>\n",
              "    </g>\n",
              "</svg>\n",
              "  </button>\n",
              "\n",
              "<style>\n",
              "  .colab-df-quickchart {\n",
              "      --bg-color: #E8F0FE;\n",
              "      --fill-color: #1967D2;\n",
              "      --hover-bg-color: #E2EBFA;\n",
              "      --hover-fill-color: #174EA6;\n",
              "      --disabled-fill-color: #AAA;\n",
              "      --disabled-bg-color: #DDD;\n",
              "  }\n",
              "\n",
              "  [theme=dark] .colab-df-quickchart {\n",
              "      --bg-color: #3B4455;\n",
              "      --fill-color: #D2E3FC;\n",
              "      --hover-bg-color: #434B5C;\n",
              "      --hover-fill-color: #FFFFFF;\n",
              "      --disabled-bg-color: #3B4455;\n",
              "      --disabled-fill-color: #666;\n",
              "  }\n",
              "\n",
              "  .colab-df-quickchart {\n",
              "    background-color: var(--bg-color);\n",
              "    border: none;\n",
              "    border-radius: 50%;\n",
              "    cursor: pointer;\n",
              "    display: none;\n",
              "    fill: var(--fill-color);\n",
              "    height: 32px;\n",
              "    padding: 0;\n",
              "    width: 32px;\n",
              "  }\n",
              "\n",
              "  .colab-df-quickchart:hover {\n",
              "    background-color: var(--hover-bg-color);\n",
              "    box-shadow: 0 1px 2px rgba(60, 64, 67, 0.3), 0 1px 3px 1px rgba(60, 64, 67, 0.15);\n",
              "    fill: var(--button-hover-fill-color);\n",
              "  }\n",
              "\n",
              "  .colab-df-quickchart-complete:disabled,\n",
              "  .colab-df-quickchart-complete:disabled:hover {\n",
              "    background-color: var(--disabled-bg-color);\n",
              "    fill: var(--disabled-fill-color);\n",
              "    box-shadow: none;\n",
              "  }\n",
              "\n",
              "  .colab-df-spinner {\n",
              "    border: 2px solid var(--fill-color);\n",
              "    border-color: transparent;\n",
              "    border-bottom-color: var(--fill-color);\n",
              "    animation:\n",
              "      spin 1s steps(1) infinite;\n",
              "  }\n",
              "\n",
              "  @keyframes spin {\n",
              "    0% {\n",
              "      border-color: transparent;\n",
              "      border-bottom-color: var(--fill-color);\n",
              "      border-left-color: var(--fill-color);\n",
              "    }\n",
              "    20% {\n",
              "      border-color: transparent;\n",
              "      border-left-color: var(--fill-color);\n",
              "      border-top-color: var(--fill-color);\n",
              "    }\n",
              "    30% {\n",
              "      border-color: transparent;\n",
              "      border-left-color: var(--fill-color);\n",
              "      border-top-color: var(--fill-color);\n",
              "      border-right-color: var(--fill-color);\n",
              "    }\n",
              "    40% {\n",
              "      border-color: transparent;\n",
              "      border-right-color: var(--fill-color);\n",
              "      border-top-color: var(--fill-color);\n",
              "    }\n",
              "    60% {\n",
              "      border-color: transparent;\n",
              "      border-right-color: var(--fill-color);\n",
              "    }\n",
              "    80% {\n",
              "      border-color: transparent;\n",
              "      border-right-color: var(--fill-color);\n",
              "      border-bottom-color: var(--fill-color);\n",
              "    }\n",
              "    90% {\n",
              "      border-color: transparent;\n",
              "      border-bottom-color: var(--fill-color);\n",
              "    }\n",
              "  }\n",
              "</style>\n",
              "\n",
              "  <script>\n",
              "    async function quickchart(key) {\n",
              "      const quickchartButtonEl =\n",
              "        document.querySelector('#' + key + ' button');\n",
              "      quickchartButtonEl.disabled = true;  // To prevent multiple clicks.\n",
              "      quickchartButtonEl.classList.add('colab-df-spinner');\n",
              "      try {\n",
              "        const charts = await google.colab.kernel.invokeFunction(\n",
              "            'suggestCharts', [key], {});\n",
              "      } catch (error) {\n",
              "        console.error('Error during call to suggestCharts:', error);\n",
              "      }\n",
              "      quickchartButtonEl.classList.remove('colab-df-spinner');\n",
              "      quickchartButtonEl.classList.add('colab-df-quickchart-complete');\n",
              "    }\n",
              "    (() => {\n",
              "      let quickchartButtonEl =\n",
              "        document.querySelector('#df-ef7fa193-e2f0-4467-91fb-db4988b0aaea button');\n",
              "      quickchartButtonEl.style.display =\n",
              "        google.colab.kernel.accessAllowed ? 'block' : 'none';\n",
              "    })();\n",
              "  </script>\n",
              "</div>\n",
              "\n",
              "    </div>\n",
              "  </div>\n"
            ],
            "application/vnd.google.colaboratory.intrinsic+json": {
              "type": "dataframe",
              "variable_name": "train_df_shuffled",
              "summary": "{\n  \"name\": \"train_df_shuffled\",\n  \"rows\": 7613,\n  \"fields\": [\n    {\n      \"column\": \"id\",\n      \"properties\": {\n        \"dtype\": \"number\",\n        \"std\": 3137,\n        \"min\": 1,\n        \"max\": 10873,\n        \"samples\": [\n          7015,\n          5950,\n          10726\n        ],\n        \"num_unique_values\": 7613,\n        \"semantic_type\": \"\",\n        \"description\": \"\"\n      }\n    },\n    {\n      \"column\": \"keyword\",\n      \"properties\": {\n        \"dtype\": \"category\",\n        \"samples\": [\n          \"crush\",\n          \"armageddon\",\n          \"deluge\"\n        ],\n        \"num_unique_values\": 221,\n        \"semantic_type\": \"\",\n        \"description\": \"\"\n      }\n    },\n    {\n      \"column\": \"location\",\n      \"properties\": {\n        \"dtype\": \"category\",\n        \"samples\": [\n          \"yorkshire\\n\",\n          \"Lehigh Valley, PA\",\n          \"Htx\"\n        ],\n        \"num_unique_values\": 3341,\n        \"semantic_type\": \"\",\n        \"description\": \"\"\n      }\n    },\n    {\n      \"column\": \"text\",\n      \"properties\": {\n        \"dtype\": \"string\",\n        \"samples\": [\n          \"Magnetic and electrostatic nuclear fusion reactor http://t.co/eM5oPyTBpg\",\n          \"Still blazing ????\",\n          \"ICYMI - #Ashes 2015: Australia collapse at Trent Bridge - how Twitter reacted http://t.co/gl6eeJyJkY http://t.co/wqtDnP3w5a\"\n        ],\n        \"num_unique_values\": 7503,\n        \"semantic_type\": \"\",\n        \"description\": \"\"\n      }\n    },\n    {\n      \"column\": \"target\",\n      \"properties\": {\n        \"dtype\": \"number\",\n        \"std\": 0,\n        \"min\": 0,\n        \"max\": 1,\n        \"samples\": [\n          0,\n          1\n        ],\n        \"num_unique_values\": 2,\n        \"semantic_type\": \"\",\n        \"description\": \"\"\n      }\n    }\n  ]\n}"
            }
          },
          "metadata": {},
          "execution_count": 6
        }
      ]
    },
    {
      "cell_type": "code",
      "source": [
        "# What does the test dataframe look like?\n",
        "test_df.head()"
      ],
      "metadata": {
        "colab": {
          "base_uri": "https://localhost:8080/",
          "height": 206
        },
        "id": "inac240VBKW2",
        "outputId": "4c5838e9-7871-4810-ce9f-e93b8e39b0ca"
      },
      "execution_count": 7,
      "outputs": [
        {
          "output_type": "execute_result",
          "data": {
            "text/plain": [
              "   id keyword location                                               text\n",
              "0   0     NaN      NaN                 Just happened a terrible car crash\n",
              "1   2     NaN      NaN  Heard about #earthquake is different cities, s...\n",
              "2   3     NaN      NaN  there is a forest fire at spot pond, geese are...\n",
              "3   9     NaN      NaN           Apocalypse lighting. #Spokane #wildfires\n",
              "4  11     NaN      NaN      Typhoon Soudelor kills 28 in China and Taiwan"
            ],
            "text/html": [
              "\n",
              "  <div id=\"df-9d898d85-43a5-41a5-ad7b-9c421f98237d\" class=\"colab-df-container\">\n",
              "    <div>\n",
              "<style scoped>\n",
              "    .dataframe tbody tr th:only-of-type {\n",
              "        vertical-align: middle;\n",
              "    }\n",
              "\n",
              "    .dataframe tbody tr th {\n",
              "        vertical-align: top;\n",
              "    }\n",
              "\n",
              "    .dataframe thead th {\n",
              "        text-align: right;\n",
              "    }\n",
              "</style>\n",
              "<table border=\"1\" class=\"dataframe\">\n",
              "  <thead>\n",
              "    <tr style=\"text-align: right;\">\n",
              "      <th></th>\n",
              "      <th>id</th>\n",
              "      <th>keyword</th>\n",
              "      <th>location</th>\n",
              "      <th>text</th>\n",
              "    </tr>\n",
              "  </thead>\n",
              "  <tbody>\n",
              "    <tr>\n",
              "      <th>0</th>\n",
              "      <td>0</td>\n",
              "      <td>NaN</td>\n",
              "      <td>NaN</td>\n",
              "      <td>Just happened a terrible car crash</td>\n",
              "    </tr>\n",
              "    <tr>\n",
              "      <th>1</th>\n",
              "      <td>2</td>\n",
              "      <td>NaN</td>\n",
              "      <td>NaN</td>\n",
              "      <td>Heard about #earthquake is different cities, s...</td>\n",
              "    </tr>\n",
              "    <tr>\n",
              "      <th>2</th>\n",
              "      <td>3</td>\n",
              "      <td>NaN</td>\n",
              "      <td>NaN</td>\n",
              "      <td>there is a forest fire at spot pond, geese are...</td>\n",
              "    </tr>\n",
              "    <tr>\n",
              "      <th>3</th>\n",
              "      <td>9</td>\n",
              "      <td>NaN</td>\n",
              "      <td>NaN</td>\n",
              "      <td>Apocalypse lighting. #Spokane #wildfires</td>\n",
              "    </tr>\n",
              "    <tr>\n",
              "      <th>4</th>\n",
              "      <td>11</td>\n",
              "      <td>NaN</td>\n",
              "      <td>NaN</td>\n",
              "      <td>Typhoon Soudelor kills 28 in China and Taiwan</td>\n",
              "    </tr>\n",
              "  </tbody>\n",
              "</table>\n",
              "</div>\n",
              "    <div class=\"colab-df-buttons\">\n",
              "\n",
              "  <div class=\"colab-df-container\">\n",
              "    <button class=\"colab-df-convert\" onclick=\"convertToInteractive('df-9d898d85-43a5-41a5-ad7b-9c421f98237d')\"\n",
              "            title=\"Convert this dataframe to an interactive table.\"\n",
              "            style=\"display:none;\">\n",
              "\n",
              "  <svg xmlns=\"http://www.w3.org/2000/svg\" height=\"24px\" viewBox=\"0 -960 960 960\">\n",
              "    <path d=\"M120-120v-720h720v720H120Zm60-500h600v-160H180v160Zm220 220h160v-160H400v160Zm0 220h160v-160H400v160ZM180-400h160v-160H180v160Zm440 0h160v-160H620v160ZM180-180h160v-160H180v160Zm440 0h160v-160H620v160Z\"/>\n",
              "  </svg>\n",
              "    </button>\n",
              "\n",
              "  <style>\n",
              "    .colab-df-container {\n",
              "      display:flex;\n",
              "      gap: 12px;\n",
              "    }\n",
              "\n",
              "    .colab-df-convert {\n",
              "      background-color: #E8F0FE;\n",
              "      border: none;\n",
              "      border-radius: 50%;\n",
              "      cursor: pointer;\n",
              "      display: none;\n",
              "      fill: #1967D2;\n",
              "      height: 32px;\n",
              "      padding: 0 0 0 0;\n",
              "      width: 32px;\n",
              "    }\n",
              "\n",
              "    .colab-df-convert:hover {\n",
              "      background-color: #E2EBFA;\n",
              "      box-shadow: 0px 1px 2px rgba(60, 64, 67, 0.3), 0px 1px 3px 1px rgba(60, 64, 67, 0.15);\n",
              "      fill: #174EA6;\n",
              "    }\n",
              "\n",
              "    .colab-df-buttons div {\n",
              "      margin-bottom: 4px;\n",
              "    }\n",
              "\n",
              "    [theme=dark] .colab-df-convert {\n",
              "      background-color: #3B4455;\n",
              "      fill: #D2E3FC;\n",
              "    }\n",
              "\n",
              "    [theme=dark] .colab-df-convert:hover {\n",
              "      background-color: #434B5C;\n",
              "      box-shadow: 0px 1px 3px 1px rgba(0, 0, 0, 0.15);\n",
              "      filter: drop-shadow(0px 1px 2px rgba(0, 0, 0, 0.3));\n",
              "      fill: #FFFFFF;\n",
              "    }\n",
              "  </style>\n",
              "\n",
              "    <script>\n",
              "      const buttonEl =\n",
              "        document.querySelector('#df-9d898d85-43a5-41a5-ad7b-9c421f98237d button.colab-df-convert');\n",
              "      buttonEl.style.display =\n",
              "        google.colab.kernel.accessAllowed ? 'block' : 'none';\n",
              "\n",
              "      async function convertToInteractive(key) {\n",
              "        const element = document.querySelector('#df-9d898d85-43a5-41a5-ad7b-9c421f98237d');\n",
              "        const dataTable =\n",
              "          await google.colab.kernel.invokeFunction('convertToInteractive',\n",
              "                                                    [key], {});\n",
              "        if (!dataTable) return;\n",
              "\n",
              "        const docLinkHtml = 'Like what you see? Visit the ' +\n",
              "          '<a target=\"_blank\" href=https://colab.research.google.com/notebooks/data_table.ipynb>data table notebook</a>'\n",
              "          + ' to learn more about interactive tables.';\n",
              "        element.innerHTML = '';\n",
              "        dataTable['output_type'] = 'display_data';\n",
              "        await google.colab.output.renderOutput(dataTable, element);\n",
              "        const docLink = document.createElement('div');\n",
              "        docLink.innerHTML = docLinkHtml;\n",
              "        element.appendChild(docLink);\n",
              "      }\n",
              "    </script>\n",
              "  </div>\n",
              "\n",
              "\n",
              "<div id=\"df-da48cba0-77ab-490a-8ee4-3d2e1a90928c\">\n",
              "  <button class=\"colab-df-quickchart\" onclick=\"quickchart('df-da48cba0-77ab-490a-8ee4-3d2e1a90928c')\"\n",
              "            title=\"Suggest charts\"\n",
              "            style=\"display:none;\">\n",
              "\n",
              "<svg xmlns=\"http://www.w3.org/2000/svg\" height=\"24px\"viewBox=\"0 0 24 24\"\n",
              "     width=\"24px\">\n",
              "    <g>\n",
              "        <path d=\"M19 3H5c-1.1 0-2 .9-2 2v14c0 1.1.9 2 2 2h14c1.1 0 2-.9 2-2V5c0-1.1-.9-2-2-2zM9 17H7v-7h2v7zm4 0h-2V7h2v10zm4 0h-2v-4h2v4z\"/>\n",
              "    </g>\n",
              "</svg>\n",
              "  </button>\n",
              "\n",
              "<style>\n",
              "  .colab-df-quickchart {\n",
              "      --bg-color: #E8F0FE;\n",
              "      --fill-color: #1967D2;\n",
              "      --hover-bg-color: #E2EBFA;\n",
              "      --hover-fill-color: #174EA6;\n",
              "      --disabled-fill-color: #AAA;\n",
              "      --disabled-bg-color: #DDD;\n",
              "  }\n",
              "\n",
              "  [theme=dark] .colab-df-quickchart {\n",
              "      --bg-color: #3B4455;\n",
              "      --fill-color: #D2E3FC;\n",
              "      --hover-bg-color: #434B5C;\n",
              "      --hover-fill-color: #FFFFFF;\n",
              "      --disabled-bg-color: #3B4455;\n",
              "      --disabled-fill-color: #666;\n",
              "  }\n",
              "\n",
              "  .colab-df-quickchart {\n",
              "    background-color: var(--bg-color);\n",
              "    border: none;\n",
              "    border-radius: 50%;\n",
              "    cursor: pointer;\n",
              "    display: none;\n",
              "    fill: var(--fill-color);\n",
              "    height: 32px;\n",
              "    padding: 0;\n",
              "    width: 32px;\n",
              "  }\n",
              "\n",
              "  .colab-df-quickchart:hover {\n",
              "    background-color: var(--hover-bg-color);\n",
              "    box-shadow: 0 1px 2px rgba(60, 64, 67, 0.3), 0 1px 3px 1px rgba(60, 64, 67, 0.15);\n",
              "    fill: var(--button-hover-fill-color);\n",
              "  }\n",
              "\n",
              "  .colab-df-quickchart-complete:disabled,\n",
              "  .colab-df-quickchart-complete:disabled:hover {\n",
              "    background-color: var(--disabled-bg-color);\n",
              "    fill: var(--disabled-fill-color);\n",
              "    box-shadow: none;\n",
              "  }\n",
              "\n",
              "  .colab-df-spinner {\n",
              "    border: 2px solid var(--fill-color);\n",
              "    border-color: transparent;\n",
              "    border-bottom-color: var(--fill-color);\n",
              "    animation:\n",
              "      spin 1s steps(1) infinite;\n",
              "  }\n",
              "\n",
              "  @keyframes spin {\n",
              "    0% {\n",
              "      border-color: transparent;\n",
              "      border-bottom-color: var(--fill-color);\n",
              "      border-left-color: var(--fill-color);\n",
              "    }\n",
              "    20% {\n",
              "      border-color: transparent;\n",
              "      border-left-color: var(--fill-color);\n",
              "      border-top-color: var(--fill-color);\n",
              "    }\n",
              "    30% {\n",
              "      border-color: transparent;\n",
              "      border-left-color: var(--fill-color);\n",
              "      border-top-color: var(--fill-color);\n",
              "      border-right-color: var(--fill-color);\n",
              "    }\n",
              "    40% {\n",
              "      border-color: transparent;\n",
              "      border-right-color: var(--fill-color);\n",
              "      border-top-color: var(--fill-color);\n",
              "    }\n",
              "    60% {\n",
              "      border-color: transparent;\n",
              "      border-right-color: var(--fill-color);\n",
              "    }\n",
              "    80% {\n",
              "      border-color: transparent;\n",
              "      border-right-color: var(--fill-color);\n",
              "      border-bottom-color: var(--fill-color);\n",
              "    }\n",
              "    90% {\n",
              "      border-color: transparent;\n",
              "      border-bottom-color: var(--fill-color);\n",
              "    }\n",
              "  }\n",
              "</style>\n",
              "\n",
              "  <script>\n",
              "    async function quickchart(key) {\n",
              "      const quickchartButtonEl =\n",
              "        document.querySelector('#' + key + ' button');\n",
              "      quickchartButtonEl.disabled = true;  // To prevent multiple clicks.\n",
              "      quickchartButtonEl.classList.add('colab-df-spinner');\n",
              "      try {\n",
              "        const charts = await google.colab.kernel.invokeFunction(\n",
              "            'suggestCharts', [key], {});\n",
              "      } catch (error) {\n",
              "        console.error('Error during call to suggestCharts:', error);\n",
              "      }\n",
              "      quickchartButtonEl.classList.remove('colab-df-spinner');\n",
              "      quickchartButtonEl.classList.add('colab-df-quickchart-complete');\n",
              "    }\n",
              "    (() => {\n",
              "      let quickchartButtonEl =\n",
              "        document.querySelector('#df-da48cba0-77ab-490a-8ee4-3d2e1a90928c button');\n",
              "      quickchartButtonEl.style.display =\n",
              "        google.colab.kernel.accessAllowed ? 'block' : 'none';\n",
              "    })();\n",
              "  </script>\n",
              "</div>\n",
              "\n",
              "    </div>\n",
              "  </div>\n"
            ],
            "application/vnd.google.colaboratory.intrinsic+json": {
              "type": "dataframe",
              "variable_name": "test_df",
              "summary": "{\n  \"name\": \"test_df\",\n  \"rows\": 3263,\n  \"fields\": [\n    {\n      \"column\": \"id\",\n      \"properties\": {\n        \"dtype\": \"number\",\n        \"std\": 3146,\n        \"min\": 0,\n        \"max\": 10875,\n        \"samples\": [\n          8051,\n          425,\n          1330\n        ],\n        \"num_unique_values\": 3263,\n        \"semantic_type\": \"\",\n        \"description\": \"\"\n      }\n    },\n    {\n      \"column\": \"keyword\",\n      \"properties\": {\n        \"dtype\": \"category\",\n        \"samples\": [\n          \"injury\",\n          \"nuclear%20reactor\",\n          \"engulfed\"\n        ],\n        \"num_unique_values\": 221,\n        \"semantic_type\": \"\",\n        \"description\": \"\"\n      }\n    },\n    {\n      \"column\": \"location\",\n      \"properties\": {\n        \"dtype\": \"category\",\n        \"samples\": [\n          \"UAE\",\n          \"Tokio / Tokyo\",\n          \"Texas\"\n        ],\n        \"num_unique_values\": 1602,\n        \"semantic_type\": \"\",\n        \"description\": \"\"\n      }\n    },\n    {\n      \"column\": \"text\",\n      \"properties\": {\n        \"dtype\": \"string\",\n        \"samples\": [\n          \"Latest: USA: Huge sinkhole swallows up Brooklyn intersection http://t.co/vspKHg3nZy\",\n          \"I liked a @YouTube video http://t.co/a5YTAw9Vih S.O.S. Rona Guide - The Red Whirlwind\",\n          \"HitchBot travels Europe and greeted with open arms. Gets destroyed after two weeks in america. There's a lesson to be learned here.\"\n        ],\n        \"num_unique_values\": 3243,\n        \"semantic_type\": \"\",\n        \"description\": \"\"\n      }\n    }\n  ]\n}"
            }
          },
          "metadata": {},
          "execution_count": 7
        }
      ]
    },
    {
      "cell_type": "code",
      "source": [
        "# How many examples of each class are there?\n",
        "train_df.target.value_counts()"
      ],
      "metadata": {
        "colab": {
          "base_uri": "https://localhost:8080/"
        },
        "id": "nkRETCa9BScm",
        "outputId": "4e7c1f57-a7a3-438c-eace-74577ee7e97c"
      },
      "execution_count": 8,
      "outputs": [
        {
          "output_type": "execute_result",
          "data": {
            "text/plain": [
              "0    4342\n",
              "1    3271\n",
              "Name: target, dtype: int64"
            ]
          },
          "metadata": {},
          "execution_count": 8
        }
      ]
    },
    {
      "cell_type": "code",
      "source": [
        "# How many locations?\n",
        "train_df.location.value_counts()"
      ],
      "metadata": {
        "colab": {
          "base_uri": "https://localhost:8080/"
        },
        "id": "aaRRMabGBbuH",
        "outputId": "f4da85ce-3ec5-4c11-f281-b9dce1315e49"
      },
      "execution_count": 9,
      "outputs": [
        {
          "output_type": "execute_result",
          "data": {
            "text/plain": [
              "USA                    104\n",
              "New York                71\n",
              "United States           50\n",
              "London                  45\n",
              "Canada                  29\n",
              "                      ... \n",
              "MontrÌ©al, QuÌ©bec       1\n",
              "Montreal                 1\n",
              "ÌÏT: 6.4682,3.18287      1\n",
              "Live4Heed??              1\n",
              "Lincoln                  1\n",
              "Name: location, Length: 3341, dtype: int64"
            ]
          },
          "metadata": {},
          "execution_count": 9
        }
      ]
    },
    {
      "cell_type": "code",
      "source": [
        "# How many total samples?\n",
        "len(train_df), len(test_df)"
      ],
      "metadata": {
        "colab": {
          "base_uri": "https://localhost:8080/"
        },
        "id": "-sjLImUvBk2y",
        "outputId": "2f9912b5-a17e-40c7-c847-47de70a263b1"
      },
      "execution_count": 10,
      "outputs": [
        {
          "output_type": "execute_result",
          "data": {
            "text/plain": [
              "(7613, 3263)"
            ]
          },
          "metadata": {},
          "execution_count": 10
        }
      ]
    },
    {
      "cell_type": "code",
      "source": [
        "# Let's visualize some random training examples\n",
        "import random\n",
        "random_index = random.randint(0, len(train_df)-5)\n",
        "for row in train_df_shuffled[[\"text\", \"target\"]][random_index:random_index+5].itertuples():\n",
        "  _, text, target = row\n",
        "  print(f\"Target: {target}\", r\"(real disaster)\" if target > 0 else r\"(not real disaster)\")\n",
        "  print(f\"Text:\\n{text}\\n\")\n",
        "  print(\"---\\n\")"
      ],
      "metadata": {
        "colab": {
          "base_uri": "https://localhost:8080/"
        },
        "id": "MLb0bocuB1NT",
        "outputId": "fa2879f3-3ef4-456e-c4dc-de1a20533911"
      },
      "execution_count": 11,
      "outputs": [
        {
          "output_type": "stream",
          "name": "stdout",
          "text": [
            "Target: 1 (real disaster)\n",
            "Text:\n",
            "Landslide in Italian Alps kills three: ROME (Reuters) - Three people were killed when a severe rainstorm in th... http://t.co/SmKZnF52Za\n",
            "\n",
            "---\n",
            "\n",
            "Target: 0 (not real disaster)\n",
            "Text:\n",
            "Do Your Own Thing: The Battle of Internal vs External Motivation: http://t.co/w9P3hAuHEi\n",
            "\n",
            "---\n",
            "\n",
            "Target: 1 (real disaster)\n",
            "Text:\n",
            "real magic in real life:\n",
            "\n",
            "women went missing in Ohio town the focus of FBI probe after strange deaths and... http://t.co/6m0YNJWbc9\n",
            "\n",
            "---\n",
            "\n",
            "Target: 0 (not real disaster)\n",
            "Text:\n",
            "'I tried to save Mido Macia': One of the murder accused has testified he tried to save Mido MaciaÛªs life. http://t.co/vxVfAEEY0q\n",
            "\n",
            "---\n",
            "\n",
            "Target: 1 (real disaster)\n",
            "Text:\n",
            "Incredulous at continued outcry of welfare being a waste of taxpayers money but never similar objection to å£100bn on nuclear weapons\n",
            "\n",
            "---\n",
            "\n"
          ]
        }
      ]
    },
    {
      "cell_type": "code",
      "source": [
        "print(\"Hello\\'\\\\ \\n\")"
      ],
      "metadata": {
        "colab": {
          "base_uri": "https://localhost:8080/"
        },
        "id": "adzatgNaCyQo",
        "outputId": "9a65b20e-1cc3-4f3c-99d5-99035fa29551"
      },
      "execution_count": 12,
      "outputs": [
        {
          "output_type": "stream",
          "name": "stdout",
          "text": [
            "Hello'\\ \n",
            "\n"
          ]
        }
      ]
    },
    {
      "cell_type": "code",
      "source": [
        "print(r\"Hello\\'\\\\ \\n\")"
      ],
      "metadata": {
        "colab": {
          "base_uri": "https://localhost:8080/"
        },
        "id": "0-PrN4l2Dcwt",
        "outputId": "7612a7c4-bb62-42ce-bd15-f3b410f73e8a"
      },
      "execution_count": 13,
      "outputs": [
        {
          "output_type": "stream",
          "name": "stdout",
          "text": [
            "Hello\\'\\\\ \\n\n"
          ]
        }
      ]
    },
    {
      "cell_type": "markdown",
      "source": [
        "### Split data into training and validation sets"
      ],
      "metadata": {
        "id": "94RbHSbHDf97"
      }
    },
    {
      "cell_type": "code",
      "source": [
        "from sklearn.model_selection import train_test_split\n",
        "train_sentences, validation_sentences, train_labels, val_labels = train_test_split(train_df_shuffled[\"text\"].to_numpy(),\n",
        "                                                                                   train_df_shuffled[\"target\"].to_numpy(),\n",
        "                                                                                   test_size=0.1)\n"
      ],
      "metadata": {
        "id": "hEHZARCoDu6N"
      },
      "execution_count": 14,
      "outputs": []
    },
    {
      "cell_type": "code",
      "source": [
        "# Check the lengths\n",
        "len(train_sentences), len(train_labels), len(validation_sentences), len(val_labels)"
      ],
      "metadata": {
        "colab": {
          "base_uri": "https://localhost:8080/"
        },
        "id": "PiiAB3-BDyJT",
        "outputId": "d547402e-c909-4292-f4f0-f18e77dda27e"
      },
      "execution_count": 15,
      "outputs": [
        {
          "output_type": "execute_result",
          "data": {
            "text/plain": [
              "(6851, 6851, 762, 762)"
            ]
          },
          "metadata": {},
          "execution_count": 15
        }
      ]
    },
    {
      "cell_type": "code",
      "source": [
        "# Check the first 10 samples\n",
        "train_sentences[:10], train_labels[:10]"
      ],
      "metadata": {
        "colab": {
          "base_uri": "https://localhost:8080/"
        },
        "id": "oZloaPhqEpuj",
        "outputId": "50856527-b52d-435b-a4c4-98fa3b24a6e2"
      },
      "execution_count": 16,
      "outputs": [
        {
          "output_type": "execute_result",
          "data": {
            "text/plain": [
              "(array(['Bigamist and his \\x89Û÷first\\x89Ûª wife are charged in the deaths of his \\x89Û÷second\\x89Ûª pregnant wife her child 8 her mother her nephew 1 and their u\\x89Û_',\n",
              "        '#hot  Funtenna: hijacking computers to send data as sound waves [Black Hat 2015] http://t.co/6AqrNanKFD #prebreak #best',\n",
              "        'CLEARED:incident with injury:I-495  inner loop Exit 31 - MD 97/Georgia Ave Silver Spring',\n",
              "        'Blending the old with the new in #Vanuatu to prepare for future emergencies: \\nhttp://t.co/aFMKcFn1TL http://t.co/8QqzYZIAqf',\n",
              "        '@MartinMJ22 @YouGov When did a 12 seat majority with 36% of the vote become a landslide?',\n",
              "        'The Riddler would be the best early-exit primary presidential wannabe ever all certain of his chances until he gets wrecked by a rich guy',\n",
              "        'IDEAS IN FOOD: Flattened http://t.co/QfrAWLn4BA',\n",
              "        \"Our tipster previews Chelsea v Swansea &amp; there's a 48/1 double! http://t.co/PFSrYJS1pc \\n#Chelsea #Hazard http://t.co/SKdBot7TGF\",\n",
              "        'Debris found on Reunion Island comes from MH370: Malaysian PM http://t.co/f75qWyeeEC',\n",
              "        'someone just reblogged a picture of self harm scars oh please its 2015 can we stop'],\n",
              "       dtype=object),\n",
              " array([0, 0, 1, 0, 1, 0, 0, 0, 1, 0]))"
            ]
          },
          "metadata": {},
          "execution_count": 16
        }
      ]
    },
    {
      "cell_type": "markdown",
      "source": [
        "## Converting text into numbers"
      ],
      "metadata": {
        "id": "wfSNyeTLEvFY"
      }
    },
    {
      "cell_type": "code",
      "source": [
        "# Embedding - every word gets turned into a vector; you can specify the dimensions of the vector\n",
        "  # gets updated as the network learns; therfore it can learn relationships between tokens\n",
        "  # Pretrained embedding libraries e.g. word2vec, GloVe, etc.\n"
      ],
      "metadata": {
        "id": "TlZnTFSuhwXh"
      },
      "execution_count": 17,
      "outputs": []
    },
    {
      "cell_type": "code",
      "source": [
        "# Text vectorization (tokenization)\n",
        "train_sentences[:5]"
      ],
      "metadata": {
        "colab": {
          "base_uri": "https://localhost:8080/"
        },
        "id": "mnWvMBTHjrWC",
        "outputId": "26f6f8fd-b1a5-4a7e-ee54-0bca499cbcc9"
      },
      "execution_count": 18,
      "outputs": [
        {
          "output_type": "execute_result",
          "data": {
            "text/plain": [
              "array(['Bigamist and his \\x89Û÷first\\x89Ûª wife are charged in the deaths of his \\x89Û÷second\\x89Ûª pregnant wife her child 8 her mother her nephew 1 and their u\\x89Û_',\n",
              "       '#hot  Funtenna: hijacking computers to send data as sound waves [Black Hat 2015] http://t.co/6AqrNanKFD #prebreak #best',\n",
              "       'CLEARED:incident with injury:I-495  inner loop Exit 31 - MD 97/Georgia Ave Silver Spring',\n",
              "       'Blending the old with the new in #Vanuatu to prepare for future emergencies: \\nhttp://t.co/aFMKcFn1TL http://t.co/8QqzYZIAqf',\n",
              "       '@MartinMJ22 @YouGov When did a 12 seat majority with 36% of the vote become a landslide?'],\n",
              "      dtype=object)"
            ]
          },
          "metadata": {},
          "execution_count": 18
        }
      ]
    },
    {
      "cell_type": "code",
      "source": [
        "import tensorflow as tf\n",
        "from tensorflow.keras.layers.experimental.preprocessing import TextVectorization\n",
        "# use the default textvectorization parameters\n",
        "text_vectorizer = TextVectorization(max_tokens=None, # how many words in our vocabulary; no cap on size of vocab\n",
        "                                    standardize='lower_and_strip_punctuation',\n",
        "                                    split='whitespace',\n",
        "                                    ngrams=None, # create groups of n-words?\n",
        "                                    output_mode='int', # how to map tokens to numbers\n",
        "                                    output_sequence_length=None,\n",
        "                                    pad_to_max_tokens=False)"
      ],
      "metadata": {
        "id": "ohdqst-vjva7"
      },
      "execution_count": 19,
      "outputs": []
    },
    {
      "cell_type": "code",
      "source": [
        "# find the average number of tokens in the training tweets\n",
        "round((sum([len(i.split()) for i in train_sentences]))/len(train_sentences))"
      ],
      "metadata": {
        "colab": {
          "base_uri": "https://localhost:8080/"
        },
        "id": "_DZBoonYj3jH",
        "outputId": "374933bd-f6cb-49a2-c424-eb02a2afc868"
      },
      "execution_count": 20,
      "outputs": [
        {
          "output_type": "execute_result",
          "data": {
            "text/plain": [
              "15"
            ]
          },
          "metadata": {},
          "execution_count": 20
        }
      ]
    },
    {
      "cell_type": "code",
      "source": [
        "# Setup text vectorization variables\n",
        "max_vocab_length = 10000 # max num of words to have in vocab\n",
        "max_length = 15 # max length our sequences will be\n",
        "\n",
        "text_vectorizer = TextVectorization(max_tokens = max_vocab_length,\n",
        "                                    output_mode='int',\n",
        "                                    output_sequence_length=max_length)"
      ],
      "metadata": {
        "id": "9W8ByTbImiop"
      },
      "execution_count": 21,
      "outputs": []
    },
    {
      "cell_type": "code",
      "source": [
        "# Fit the text vectorizer to the training text\n",
        "text_vectorizer.adapt(train_sentences)"
      ],
      "metadata": {
        "id": "AxSf93UNm_gm"
      },
      "execution_count": 22,
      "outputs": []
    },
    {
      "cell_type": "code",
      "source": [
        "# Create a sample sentence and tokenize it\n",
        "sample_sentence = \"There's a flood in my street!\"\n",
        "text_vectorizer([sample_sentence])"
      ],
      "metadata": {
        "colab": {
          "base_uri": "https://localhost:8080/"
        },
        "id": "VUFEM00ungQw",
        "outputId": "0e48baec-7f43-4b04-939d-f6ca1ee4be4d"
      },
      "execution_count": 23,
      "outputs": [
        {
          "output_type": "execute_result",
          "data": {
            "text/plain": [
              "<tf.Tensor: shape=(1, 15), dtype=int64, numpy=\n",
              "array([[297,   3, 216,   4,  13, 674,   0,   0,   0,   0,   0,   0,   0,\n",
              "          0,   0]])>"
            ]
          },
          "metadata": {},
          "execution_count": 23
        }
      ]
    },
    {
      "cell_type": "code",
      "source": [
        "# Choose a random sentence from the training dataset and tokenize it\n",
        "random_sentence = random.choice(train_sentences)\n",
        "print(f\"Original text:\\n{random_sentence} \\\n",
        "      \\n\\nVectorized versions:\")\n",
        "text_vectorizer([random_sentence])"
      ],
      "metadata": {
        "colab": {
          "base_uri": "https://localhost:8080/"
        },
        "id": "NrZroGjKnobH",
        "outputId": "26b99854-6eb1-4bd5-ec3f-b333ef9c73c5"
      },
      "execution_count": 24,
      "outputs": [
        {
          "output_type": "stream",
          "name": "stdout",
          "text": [
            "Original text:\n",
            "@pmharper don't worry I'm sure climate has nothing to do with hail floods tornados in Alberta &amp; Ontario. I'm sure god's just mad at you.       \n",
            "\n",
            "Vectorized versions:\n"
          ]
        },
        {
          "output_type": "execute_result",
          "data": {
            "text/plain": [
              "<tf.Tensor: shape=(1, 15), dtype=int64, numpy=\n",
              "array([[4889,   59, 1154,   35,  482,  859,   43,  605,    5,   69,   14,\n",
              "         330,  222, 4407,    4]])>"
            ]
          },
          "metadata": {},
          "execution_count": 24
        }
      ]
    },
    {
      "cell_type": "code",
      "source": [
        "# Get the unique words in the vocab\n",
        "words_in_vocab = text_vectorizer.get_vocabulary() # Get all the unique words in our training data\n",
        "# Most common words\n",
        "top_5_words = words_in_vocab[:5]\n",
        "bottom_5_words = words_in_vocab[-5:]\n",
        "print(f\"Number of words in vocab: {len(words_in_vocab)}\")\n",
        "print(f\"5 most common words: {top_5_words}\")\n",
        "print(f\"5 least common words: {bottom_5_words}\")"
      ],
      "metadata": {
        "colab": {
          "base_uri": "https://localhost:8080/"
        },
        "id": "O5Y4lIO0oHqi",
        "outputId": "9554ad2b-f762-4f85-a178-c3ee3f885059"
      },
      "execution_count": 25,
      "outputs": [
        {
          "output_type": "stream",
          "name": "stdout",
          "text": [
            "Number of words in vocab: 10000\n",
            "5 most common words: ['', '[UNK]', 'the', 'a', 'in']\n",
            "5 least common words: ['pages', 'paeds', 'pads', 'padres', 'paddytomlinson1']\n"
          ]
        }
      ]
    },
    {
      "cell_type": "markdown",
      "source": [
        "### Creating an Embedding using an Embedding Layer"
      ],
      "metadata": {
        "id": "D4FUM_8IowRF"
      }
    },
    {
      "cell_type": "code",
      "source": [
        "# taken tokenized text into embedding vectors\n",
        "from tensorflow.keras import layers\n",
        "embedding = layers.Embedding(input_dim=max_vocab_length,\n",
        "                             output_dim=128, # best to choose number divisible by 8\n",
        "                             input_length=max_length # how long is each input\n",
        "                             )\n",
        "embedding"
      ],
      "metadata": {
        "colab": {
          "base_uri": "https://localhost:8080/"
        },
        "id": "vfqvcirtpR4M",
        "outputId": "eca8a5b1-e149-407c-abb4-e461f062772f"
      },
      "execution_count": 26,
      "outputs": [
        {
          "output_type": "execute_result",
          "data": {
            "text/plain": [
              "<keras.src.layers.core.embedding.Embedding at 0x7ff037089f90>"
            ]
          },
          "metadata": {},
          "execution_count": 26
        }
      ]
    },
    {
      "cell_type": "code",
      "source": [
        "random_sentence = random.choice(train_sentences)\n",
        "print(f\"Original text:\\n {random_sentence}\\\n",
        "\\n\\n Embedded version:\")\n",
        "\n",
        "sample_embed = embedding(text_vectorizer([random_sentence]))\n",
        "sample_embed"
      ],
      "metadata": {
        "colab": {
          "base_uri": "https://localhost:8080/"
        },
        "id": "8YlZ277eqOFd",
        "outputId": "993cfb05-82a8-46a1-dca2-3410723e9a83"
      },
      "execution_count": 27,
      "outputs": [
        {
          "output_type": "stream",
          "name": "stdout",
          "text": [
            "Original text:\n",
            " INFO S. WND: 030/6. CLD: SCT014 BKN032. EXP INST APCH. RWY 05. CURFEW IN OPER UNTIL 2030 Z. TAXIWAYS FOXTROT 5 &amp; FOXTROT 6 NAVBL. TMP: 10.\n",
            "\n",
            " Embedded version:\n"
          ]
        },
        {
          "output_type": "execute_result",
          "data": {
            "text/plain": [
              "<tf.Tensor: shape=(1, 15, 128), dtype=float32, numpy=\n",
              "array([[[ 0.01116318, -0.00023104,  0.01537604, ..., -0.0218329 ,\n",
              "          0.0027502 , -0.01460532],\n",
              "        [ 0.02733885,  0.04637471,  0.01936999, ..., -0.02557775,\n",
              "          0.03232474,  0.04720524],\n",
              "        [ 0.04237498, -0.02439121, -0.04461206, ...,  0.02241893,\n",
              "          0.015316  , -0.01877921],\n",
              "        ...,\n",
              "        [-0.00928022,  0.03593396,  0.0195469 , ..., -0.01726277,\n",
              "          0.0217347 ,  0.03351785],\n",
              "        [ 0.02228017, -0.00146062,  0.01896827, ..., -0.0174969 ,\n",
              "         -0.02417191,  0.04502961],\n",
              "        [ 0.01481039, -0.03510704, -0.04824306, ..., -0.0473081 ,\n",
              "          0.0267378 , -0.0407159 ]]], dtype=float32)>"
            ]
          },
          "metadata": {},
          "execution_count": 27
        }
      ]
    },
    {
      "cell_type": "code",
      "source": [
        "# Check out a single token's embedding\n",
        "sample_embed[0][0], sample_embed[0][0].shape, random_sentence[0]"
      ],
      "metadata": {
        "colab": {
          "base_uri": "https://localhost:8080/"
        },
        "id": "GBkWO3KUqmie",
        "outputId": "5fdc73f9-5e94-4d1f-82a2-1214ec5e2921"
      },
      "execution_count": 28,
      "outputs": [
        {
          "output_type": "execute_result",
          "data": {
            "text/plain": [
              "(<tf.Tensor: shape=(128,), dtype=float32, numpy=\n",
              " array([ 0.01116318, -0.00023104,  0.01537604, -0.04380932,  0.00046848,\n",
              "        -0.02065368, -0.028667  ,  0.00728363, -0.00058621, -0.04094565,\n",
              "         0.04376309, -0.04982552, -0.02970414,  0.03377532,  0.00172266,\n",
              "         0.02922808,  0.02247194,  0.01594981, -0.02912582, -0.03611034,\n",
              "         0.01974508, -0.02486029, -0.04361843, -0.04173392,  0.0289104 ,\n",
              "         0.03523368, -0.02796942, -0.03956926,  0.02595807, -0.03076473,\n",
              "        -0.0332006 , -0.01725693, -0.04114943,  0.03444839, -0.0454425 ,\n",
              "         0.02407907, -0.01055314,  0.01727364,  0.02594874, -0.01201764,\n",
              "         0.01128031,  0.01663199, -0.00880162, -0.03592789,  0.03385257,\n",
              "        -0.00407522, -0.03362022, -0.04196379, -0.03539545,  0.00974949,\n",
              "         0.02711363,  0.04502882,  0.03167329,  0.04115876,  0.01433947,\n",
              "        -0.01106248, -0.0383944 , -0.00485926,  0.03237299,  0.028936  ,\n",
              "        -0.035709  ,  0.03581489, -0.04834793,  0.01266147, -0.02845281,\n",
              "        -0.01520566, -0.04942904, -0.04795516,  0.02396942,  0.00316324,\n",
              "         0.00759363, -0.0128414 ,  0.01994326,  0.04679367,  0.02728008,\n",
              "        -0.01470938,  0.02931594,  0.01840364,  0.03071022, -0.0107859 ,\n",
              "        -0.04644775, -0.01406405,  0.03706783, -0.00471209, -0.02230575,\n",
              "        -0.0151571 , -0.01021256, -0.03048879,  0.01066172, -0.00904523,\n",
              "        -0.01675601,  0.04534239,  0.00350406, -0.01329167,  0.00183898,\n",
              "        -0.01051831, -0.04959495, -0.04707567,  0.02056098,  0.0003839 ,\n",
              "         0.02094832, -0.02400384, -0.01498294, -0.00956528, -0.04357802,\n",
              "         0.00103651,  0.0242329 ,  0.00599526, -0.03685794, -0.04674513,\n",
              "        -0.00169897, -0.04413677, -0.03568093, -0.01916521,  0.00959002,\n",
              "         0.00041334,  0.03570149,  0.03150988,  0.0430323 , -0.02088184,\n",
              "        -0.04741484,  0.00816353,  0.00635775, -0.04486871, -0.04686544,\n",
              "        -0.0218329 ,  0.0027502 , -0.01460532], dtype=float32)>,\n",
              " TensorShape([128]),\n",
              " 'I')"
            ]
          },
          "metadata": {},
          "execution_count": 28
        }
      ]
    },
    {
      "cell_type": "markdown",
      "source": [
        "## Modeling a text dataset\n",
        "* Model 0: Naive Bayes (baseline) [sklearn ML map](https://scikit-learn.org/stable/tutorial/machine_learning_map/index.html)\n",
        "* Model 2: LSTM model (RNN)\n",
        "* Model 3: GRU model (RNN)\n",
        "* Model 4: Bidirectional-LSTM model (RNN)\n",
        "* Model 5: 1D Convolutional NN (CNN)\n",
        "* Model 6: TF Hub Pretrained Feature Extractor (transfer learning)\n",
        "* Model 7: Same as model 6 with 10% of training data"
      ],
      "metadata": {
        "id": "UvmZc8WTq9d1"
      }
    },
    {
      "cell_type": "markdown",
      "source": [
        "### Model 0: Getting a baseline"
      ],
      "metadata": {
        "id": "CHHmh8sMrjGl"
      }
    },
    {
      "cell_type": "code",
      "source": [
        "from sklearn.naive_bayes import MultinomialNB\n",
        "from sklearn.feature_extraction.text import TfidfVectorizer # turn text into numbers/vectors\n",
        "from sklearn.pipeline import Pipeline\n",
        "model_0 = Pipeline([\n",
        "    (\"tfidf\", TfidfVectorizer()),\n",
        "    (\"clf\", MultinomialNB()) # clf == \"classifier\"\n",
        "])\n",
        "model_0.fit(train_sentences, train_labels)"
      ],
      "metadata": {
        "colab": {
          "base_uri": "https://localhost:8080/",
          "height": 124
        },
        "id": "pPRFDykutYhM",
        "outputId": "37f346c6-a06b-4e8d-e3c2-cb32a5c21b49"
      },
      "execution_count": 29,
      "outputs": [
        {
          "output_type": "execute_result",
          "data": {
            "text/plain": [
              "Pipeline(steps=[('tfidf', TfidfVectorizer()), ('clf', MultinomialNB())])"
            ],
            "text/html": [
              "<style>#sk-container-id-1 {color: black;background-color: white;}#sk-container-id-1 pre{padding: 0;}#sk-container-id-1 div.sk-toggleable {background-color: white;}#sk-container-id-1 label.sk-toggleable__label {cursor: pointer;display: block;width: 100%;margin-bottom: 0;padding: 0.3em;box-sizing: border-box;text-align: center;}#sk-container-id-1 label.sk-toggleable__label-arrow:before {content: \"▸\";float: left;margin-right: 0.25em;color: #696969;}#sk-container-id-1 label.sk-toggleable__label-arrow:hover:before {color: black;}#sk-container-id-1 div.sk-estimator:hover label.sk-toggleable__label-arrow:before {color: black;}#sk-container-id-1 div.sk-toggleable__content {max-height: 0;max-width: 0;overflow: hidden;text-align: left;background-color: #f0f8ff;}#sk-container-id-1 div.sk-toggleable__content pre {margin: 0.2em;color: black;border-radius: 0.25em;background-color: #f0f8ff;}#sk-container-id-1 input.sk-toggleable__control:checked~div.sk-toggleable__content {max-height: 200px;max-width: 100%;overflow: auto;}#sk-container-id-1 input.sk-toggleable__control:checked~label.sk-toggleable__label-arrow:before {content: \"▾\";}#sk-container-id-1 div.sk-estimator input.sk-toggleable__control:checked~label.sk-toggleable__label {background-color: #d4ebff;}#sk-container-id-1 div.sk-label input.sk-toggleable__control:checked~label.sk-toggleable__label {background-color: #d4ebff;}#sk-container-id-1 input.sk-hidden--visually {border: 0;clip: rect(1px 1px 1px 1px);clip: rect(1px, 1px, 1px, 1px);height: 1px;margin: -1px;overflow: hidden;padding: 0;position: absolute;width: 1px;}#sk-container-id-1 div.sk-estimator {font-family: monospace;background-color: #f0f8ff;border: 1px dotted black;border-radius: 0.25em;box-sizing: border-box;margin-bottom: 0.5em;}#sk-container-id-1 div.sk-estimator:hover {background-color: #d4ebff;}#sk-container-id-1 div.sk-parallel-item::after {content: \"\";width: 100%;border-bottom: 1px solid gray;flex-grow: 1;}#sk-container-id-1 div.sk-label:hover label.sk-toggleable__label {background-color: #d4ebff;}#sk-container-id-1 div.sk-serial::before {content: \"\";position: absolute;border-left: 1px solid gray;box-sizing: border-box;top: 0;bottom: 0;left: 50%;z-index: 0;}#sk-container-id-1 div.sk-serial {display: flex;flex-direction: column;align-items: center;background-color: white;padding-right: 0.2em;padding-left: 0.2em;position: relative;}#sk-container-id-1 div.sk-item {position: relative;z-index: 1;}#sk-container-id-1 div.sk-parallel {display: flex;align-items: stretch;justify-content: center;background-color: white;position: relative;}#sk-container-id-1 div.sk-item::before, #sk-container-id-1 div.sk-parallel-item::before {content: \"\";position: absolute;border-left: 1px solid gray;box-sizing: border-box;top: 0;bottom: 0;left: 50%;z-index: -1;}#sk-container-id-1 div.sk-parallel-item {display: flex;flex-direction: column;z-index: 1;position: relative;background-color: white;}#sk-container-id-1 div.sk-parallel-item:first-child::after {align-self: flex-end;width: 50%;}#sk-container-id-1 div.sk-parallel-item:last-child::after {align-self: flex-start;width: 50%;}#sk-container-id-1 div.sk-parallel-item:only-child::after {width: 0;}#sk-container-id-1 div.sk-dashed-wrapped {border: 1px dashed gray;margin: 0 0.4em 0.5em 0.4em;box-sizing: border-box;padding-bottom: 0.4em;background-color: white;}#sk-container-id-1 div.sk-label label {font-family: monospace;font-weight: bold;display: inline-block;line-height: 1.2em;}#sk-container-id-1 div.sk-label-container {text-align: center;}#sk-container-id-1 div.sk-container {/* jupyter's `normalize.less` sets `[hidden] { display: none; }` but bootstrap.min.css set `[hidden] { display: none !important; }` so we also need the `!important` here to be able to override the default hidden behavior on the sphinx rendered scikit-learn.org. See: https://github.com/scikit-learn/scikit-learn/issues/21755 */display: inline-block !important;position: relative;}#sk-container-id-1 div.sk-text-repr-fallback {display: none;}</style><div id=\"sk-container-id-1\" class=\"sk-top-container\"><div class=\"sk-text-repr-fallback\"><pre>Pipeline(steps=[(&#x27;tfidf&#x27;, TfidfVectorizer()), (&#x27;clf&#x27;, MultinomialNB())])</pre><b>In a Jupyter environment, please rerun this cell to show the HTML representation or trust the notebook. <br />On GitHub, the HTML representation is unable to render, please try loading this page with nbviewer.org.</b></div><div class=\"sk-container\" hidden><div class=\"sk-item sk-dashed-wrapped\"><div class=\"sk-label-container\"><div class=\"sk-label sk-toggleable\"><input class=\"sk-toggleable__control sk-hidden--visually\" id=\"sk-estimator-id-1\" type=\"checkbox\" ><label for=\"sk-estimator-id-1\" class=\"sk-toggleable__label sk-toggleable__label-arrow\">Pipeline</label><div class=\"sk-toggleable__content\"><pre>Pipeline(steps=[(&#x27;tfidf&#x27;, TfidfVectorizer()), (&#x27;clf&#x27;, MultinomialNB())])</pre></div></div></div><div class=\"sk-serial\"><div class=\"sk-item\"><div class=\"sk-estimator sk-toggleable\"><input class=\"sk-toggleable__control sk-hidden--visually\" id=\"sk-estimator-id-2\" type=\"checkbox\" ><label for=\"sk-estimator-id-2\" class=\"sk-toggleable__label sk-toggleable__label-arrow\">TfidfVectorizer</label><div class=\"sk-toggleable__content\"><pre>TfidfVectorizer()</pre></div></div></div><div class=\"sk-item\"><div class=\"sk-estimator sk-toggleable\"><input class=\"sk-toggleable__control sk-hidden--visually\" id=\"sk-estimator-id-3\" type=\"checkbox\" ><label for=\"sk-estimator-id-3\" class=\"sk-toggleable__label sk-toggleable__label-arrow\">MultinomialNB</label><div class=\"sk-toggleable__content\"><pre>MultinomialNB()</pre></div></div></div></div></div></div></div>"
            ]
          },
          "metadata": {},
          "execution_count": 29
        }
      ]
    },
    {
      "cell_type": "code",
      "source": [
        "# Evaluate our baseline model\n",
        "baseline_score = model_0.score(validation_sentences, val_labels)\n",
        "print(f\"Our baseline model achieves an accuracy of: {baseline_score*100:.2f}%\")"
      ],
      "metadata": {
        "colab": {
          "base_uri": "https://localhost:8080/"
        },
        "id": "SfeJnU9GuNLu",
        "outputId": "33675988-eb83-4fde-a8e6-1f6a23b28344"
      },
      "execution_count": 30,
      "outputs": [
        {
          "output_type": "stream",
          "name": "stdout",
          "text": [
            "Our baseline model achieves an accuracy of: 82.55%\n"
          ]
        }
      ]
    },
    {
      "cell_type": "code",
      "source": [
        "train_df.target.value_counts()"
      ],
      "metadata": {
        "colab": {
          "base_uri": "https://localhost:8080/"
        },
        "id": "QsSQXaXmukOk",
        "outputId": "96fa7854-b052-40b5-dfbf-30e64b2f538a"
      },
      "execution_count": 31,
      "outputs": [
        {
          "output_type": "execute_result",
          "data": {
            "text/plain": [
              "0    4342\n",
              "1    3271\n",
              "Name: target, dtype: int64"
            ]
          },
          "metadata": {},
          "execution_count": 31
        }
      ]
    },
    {
      "cell_type": "code",
      "source": [
        "# Make predictions\n",
        "baseline_preds = model_0.predict(validation_sentences)\n",
        "baseline_preds[:20]"
      ],
      "metadata": {
        "colab": {
          "base_uri": "https://localhost:8080/"
        },
        "id": "icGvf0FDupAC",
        "outputId": "cedc13a8-8b22-4c90-e226-54f3978db295"
      },
      "execution_count": 32,
      "outputs": [
        {
          "output_type": "execute_result",
          "data": {
            "text/plain": [
              "array([0, 0, 1, 0, 0, 0, 1, 0, 0, 0, 0, 0, 0, 0, 1, 1, 1, 0, 0, 0])"
            ]
          },
          "metadata": {},
          "execution_count": 32
        }
      ]
    },
    {
      "cell_type": "markdown",
      "source": [
        "### Creating an evaluation function for our model experiments\n",
        "\n",
        "Create on to compare our model's predictions with the truth labels\n",
        "* Accuracy\n",
        "* Precision\n",
        "* Recall\n",
        "* F1-score"
      ],
      "metadata": {
        "id": "eRRts0VWu3Y5"
      }
    },
    {
      "cell_type": "code",
      "source": [
        "# Function to evaluate: accuracy, precision, recall, F1-score\n",
        "from sklearn.metrics import accuracy_score, precision_recall_fscore_support\n",
        "def calculate_results(y_true, y_pred):\n",
        "  \"\"\"\n",
        "  Calculates model accuracy, precision, recall and f1 score of a binary classification model\n",
        "  \"\"\"\n",
        "  # Calculate model accuracy\n",
        "  model_accuracy = accuracy_score(y_true, y_pred) * 100\n",
        "  # Calculate model precision, recall, and f1-score using \"weighted\" average\n",
        "  model_precision, model_recall, model_f1, _ = precision_recall_fscore_support(y_true, y_pred, average=\"weighted\")\n",
        "  model_results = {\"accuracy\": model_accuracy,\n",
        "                   \"precision\": model_precision,\n",
        "                   \"recall\": model_recall,\n",
        "                   \"f1\": model_f1}\n",
        "  return model_results"
      ],
      "metadata": {
        "id": "BdoFliMyNS4L"
      },
      "execution_count": 33,
      "outputs": []
    },
    {
      "cell_type": "code",
      "source": [
        "baseline_results = calculate_results(y_true=val_labels,\n",
        "                                     y_pred = baseline_preds)\n",
        "baseline_results"
      ],
      "metadata": {
        "id": "-xSwtDvTu5V-",
        "colab": {
          "base_uri": "https://localhost:8080/"
        },
        "outputId": "080b2a90-b718-4cc3-8df0-831e92d3e968"
      },
      "execution_count": 34,
      "outputs": [
        {
          "output_type": "execute_result",
          "data": {
            "text/plain": [
              "{'accuracy': 82.54593175853019,\n",
              " 'precision': 0.8343718354103375,\n",
              " 'recall': 0.8254593175853019,\n",
              " 'f1': 0.8211880892810138}"
            ]
          },
          "metadata": {},
          "execution_count": 34
        }
      ]
    },
    {
      "cell_type": "markdown",
      "source": [
        "# Model 1: Feed-forward neural network (dense model)"
      ],
      "metadata": {
        "id": "SChxAOXHPBxK"
      }
    },
    {
      "cell_type": "code",
      "source": [
        "# Create a tensorboard callback (need to create a new one for each model)\n",
        "from helper_functions import create_tensorboard_callback\n",
        "\n",
        "# Create a directory to save Tensorboard logs\n",
        "SAVE_DIR = \"model_logs\"\n",
        "\n",
        "# Build model with the Functional API\n",
        "from tensorflow.keras import layers\n",
        "inputs = layers.Input(shape=(1,), dtype=tf.string) # inputs are 1D strings\n",
        "x = text_vectorizer(inputs) # turn input text into numbers\n",
        "x = embedding(x) # create an embedding of the numberized inputs\n",
        "x = layers.GlobalAveragePooling1D()(x)\n",
        "outputs = layers.Dense(1, activation=\"sigmoid\")(x) # Create output layer, want binary outputs\n",
        "model_1 = tf.keras.Model(inputs, outputs, name=\"model_1_dense\")"
      ],
      "metadata": {
        "id": "0KNsJruAPv-x"
      },
      "execution_count": 35,
      "outputs": []
    },
    {
      "cell_type": "code",
      "source": [
        "model_1.summary()"
      ],
      "metadata": {
        "colab": {
          "base_uri": "https://localhost:8080/"
        },
        "id": "gbUtEzQ-Qm48",
        "outputId": "5dd40c94-d1d2-474f-8d7f-4b8deed756b1"
      },
      "execution_count": 36,
      "outputs": [
        {
          "output_type": "stream",
          "name": "stdout",
          "text": [
            "Model: \"model_1_dense\"\n",
            "_________________________________________________________________\n",
            " Layer (type)                Output Shape              Param #   \n",
            "=================================================================\n",
            " input_1 (InputLayer)        [(None, 1)]               0         \n",
            "                                                                 \n",
            " text_vectorization_1 (Text  (None, 15)                0         \n",
            " Vectorization)                                                  \n",
            "                                                                 \n",
            " embedding (Embedding)       (None, 15, 128)           1280000   \n",
            "                                                                 \n",
            " global_average_pooling1d (  (None, 128)               0         \n",
            " GlobalAveragePooling1D)                                         \n",
            "                                                                 \n",
            " dense (Dense)               (None, 1)                 129       \n",
            "                                                                 \n",
            "=================================================================\n",
            "Total params: 1280129 (4.88 MB)\n",
            "Trainable params: 1280129 (4.88 MB)\n",
            "Non-trainable params: 0 (0.00 Byte)\n",
            "_________________________________________________________________\n"
          ]
        }
      ]
    },
    {
      "cell_type": "code",
      "source": [
        "# Compile model\n",
        "model_1.compile(loss=\"binary_crossentropy\",\n",
        "                optimizer=tf.keras.optimizers.Adam(),\n",
        "                metrics=[\"accuracy\"])"
      ],
      "metadata": {
        "id": "0yvDPtc9Qonz"
      },
      "execution_count": 37,
      "outputs": []
    },
    {
      "cell_type": "code",
      "source": [
        "# Fit model\n",
        "model_1_history = model_1.fit(train_sentences,\n",
        "                              train_labels,\n",
        "                              epochs=5,\n",
        "                              validation_data=(validation_sentences, val_labels),\n",
        "                              callbacks=[create_tensorboard_callback(dir_name=SAVE_DIR,\n",
        "                                                                     experiment_name=\"model_1_dense\")])"
      ],
      "metadata": {
        "colab": {
          "base_uri": "https://localhost:8080/"
        },
        "id": "aprjl4ipQ6Eb",
        "outputId": "65f0a3ad-f495-499a-9676-791af893dd18"
      },
      "execution_count": 38,
      "outputs": [
        {
          "output_type": "stream",
          "name": "stdout",
          "text": [
            "Saving TensorBoard log files to: model_logs/model_1_dense/20240218-163832\n",
            "Epoch 1/5\n",
            "215/215 [==============================] - 11s 35ms/step - loss: 0.6116 - accuracy: 0.6941 - val_loss: 0.5093 - val_accuracy: 0.7979\n",
            "Epoch 2/5\n",
            "215/215 [==============================] - 2s 10ms/step - loss: 0.4435 - accuracy: 0.8171 - val_loss: 0.4350 - val_accuracy: 0.8176\n",
            "Epoch 3/5\n",
            "215/215 [==============================] - 1s 6ms/step - loss: 0.3488 - accuracy: 0.8603 - val_loss: 0.4268 - val_accuracy: 0.8150\n",
            "Epoch 4/5\n",
            "215/215 [==============================] - 1s 6ms/step - loss: 0.2856 - accuracy: 0.8869 - val_loss: 0.4267 - val_accuracy: 0.8163\n",
            "Epoch 5/5\n",
            "215/215 [==============================] - 1s 6ms/step - loss: 0.2381 - accuracy: 0.9101 - val_loss: 0.4429 - val_accuracy: 0.8123\n"
          ]
        }
      ]
    },
    {
      "cell_type": "code",
      "source": [
        "# Check the results\n",
        "model_1.evaluate(validation_sentences, val_labels)"
      ],
      "metadata": {
        "colab": {
          "base_uri": "https://localhost:8080/"
        },
        "id": "MOAicrBERLUS",
        "outputId": "c89c4076-0fb2-42ab-ad30-49db6754011a"
      },
      "execution_count": 39,
      "outputs": [
        {
          "output_type": "stream",
          "name": "stdout",
          "text": [
            "24/24 [==============================] - 0s 3ms/step - loss: 0.4429 - accuracy: 0.8123\n"
          ]
        },
        {
          "output_type": "execute_result",
          "data": {
            "text/plain": [
              "[0.44285649061203003, 0.8123359680175781]"
            ]
          },
          "metadata": {},
          "execution_count": 39
        }
      ]
    },
    {
      "cell_type": "code",
      "source": [
        "# make some predictions and evaluate those\n",
        "model_1_pred_probs = model_1.predict(validation_sentences)\n",
        "model_1_pred_probs"
      ],
      "metadata": {
        "colab": {
          "base_uri": "https://localhost:8080/"
        },
        "id": "6BKmzr24SGtT",
        "outputId": "df059d1c-ca57-46a7-938b-4b5db9a47398"
      },
      "execution_count": 40,
      "outputs": [
        {
          "output_type": "stream",
          "name": "stdout",
          "text": [
            "24/24 [==============================] - 0s 2ms/step\n"
          ]
        },
        {
          "output_type": "execute_result",
          "data": {
            "text/plain": [
              "array([[0.16665865],\n",
              "       [0.08394734],\n",
              "       [0.9933682 ],\n",
              "       [0.0096827 ],\n",
              "       [0.04736165],\n",
              "       [0.37891915],\n",
              "       [0.9757362 ],\n",
              "       [0.15932323],\n",
              "       [0.08831844],\n",
              "       [0.35273802],\n",
              "       [0.00434855],\n",
              "       [0.1016547 ],\n",
              "       [0.04112943],\n",
              "       [0.09963124],\n",
              "       [0.99925023],\n",
              "       [0.7490465 ],\n",
              "       [0.93360364],\n",
              "       [0.13815342],\n",
              "       [0.01316588],\n",
              "       [0.24223742],\n",
              "       [0.99926656],\n",
              "       [0.91958654],\n",
              "       [0.1499649 ],\n",
              "       [0.5371941 ],\n",
              "       [0.00615489],\n",
              "       [0.9431859 ],\n",
              "       [0.08523015],\n",
              "       [0.12563635],\n",
              "       [0.96548724],\n",
              "       [0.9758961 ],\n",
              "       [0.03486154],\n",
              "       [0.01901238],\n",
              "       [0.66341925],\n",
              "       [0.97458875],\n",
              "       [0.2144119 ],\n",
              "       [0.9980653 ],\n",
              "       [0.19931135],\n",
              "       [0.8183929 ],\n",
              "       [0.3202855 ],\n",
              "       [0.54042065],\n",
              "       [0.55273217],\n",
              "       [0.9902137 ],\n",
              "       [0.02293248],\n",
              "       [0.00851741],\n",
              "       [0.03769625],\n",
              "       [0.9900153 ],\n",
              "       [0.35389975],\n",
              "       [0.00855978],\n",
              "       [0.9987883 ],\n",
              "       [0.06715823],\n",
              "       [0.34756294],\n",
              "       [0.6089394 ],\n",
              "       [0.15175408],\n",
              "       [0.0605836 ],\n",
              "       [0.48412588],\n",
              "       [0.03979013],\n",
              "       [0.40875876],\n",
              "       [0.11346113],\n",
              "       [0.33711815],\n",
              "       [0.9697967 ],\n",
              "       [0.70302993],\n",
              "       [0.3813642 ],\n",
              "       [0.22512056],\n",
              "       [0.46853817],\n",
              "       [0.09964177],\n",
              "       [0.16011827],\n",
              "       [0.8829043 ],\n",
              "       [0.50943816],\n",
              "       [0.9659178 ],\n",
              "       [0.05232067],\n",
              "       [0.99192554],\n",
              "       [0.07089391],\n",
              "       [0.9997296 ],\n",
              "       [0.28330967],\n",
              "       [0.02811014],\n",
              "       [0.59612113],\n",
              "       [0.02131225],\n",
              "       [0.94534653],\n",
              "       [0.23728813],\n",
              "       [0.99844176],\n",
              "       [0.14081576],\n",
              "       [0.82680476],\n",
              "       [0.02870352],\n",
              "       [0.23713921],\n",
              "       [0.17614424],\n",
              "       [0.01248504],\n",
              "       [0.18171594],\n",
              "       [0.10266337],\n",
              "       [0.01119308],\n",
              "       [0.11799505],\n",
              "       [0.6920154 ],\n",
              "       [0.09543023],\n",
              "       [0.0241507 ],\n",
              "       [0.92522264],\n",
              "       [0.8656883 ],\n",
              "       [0.14784656],\n",
              "       [0.0878529 ],\n",
              "       [0.33468774],\n",
              "       [0.04272135],\n",
              "       [0.01101266],\n",
              "       [0.24949735],\n",
              "       [0.15840127],\n",
              "       [0.5702398 ],\n",
              "       [0.7406747 ],\n",
              "       [0.9583952 ],\n",
              "       [0.3585558 ],\n",
              "       [0.01200708],\n",
              "       [0.18642426],\n",
              "       [0.9061666 ],\n",
              "       [0.20876019],\n",
              "       [0.50739056],\n",
              "       [0.5819744 ],\n",
              "       [0.24474987],\n",
              "       [0.80503786],\n",
              "       [0.10037961],\n",
              "       [0.02203829],\n",
              "       [0.05250871],\n",
              "       [0.22496039],\n",
              "       [0.28324077],\n",
              "       [0.12775429],\n",
              "       [0.20604189],\n",
              "       [0.9769982 ],\n",
              "       [0.576527  ],\n",
              "       [0.99943167],\n",
              "       [0.0347403 ],\n",
              "       [0.9993455 ],\n",
              "       [0.00689747],\n",
              "       [0.9498411 ],\n",
              "       [0.57888544],\n",
              "       [0.35075107],\n",
              "       [0.58505946],\n",
              "       [0.930507  ],\n",
              "       [0.76582706],\n",
              "       [0.0742207 ],\n",
              "       [0.16558628],\n",
              "       [0.9788455 ],\n",
              "       [0.47271347],\n",
              "       [0.99926656],\n",
              "       [0.24225174],\n",
              "       [0.47065234],\n",
              "       [0.7497965 ],\n",
              "       [0.31165484],\n",
              "       [0.06623109],\n",
              "       [0.20010324],\n",
              "       [0.8642742 ],\n",
              "       [0.9725611 ],\n",
              "       [0.0591316 ],\n",
              "       [0.6104024 ],\n",
              "       [0.281996  ],\n",
              "       [0.01450661],\n",
              "       [0.19911578],\n",
              "       [0.988298  ],\n",
              "       [0.61350983],\n",
              "       [0.9459671 ],\n",
              "       [0.4692774 ],\n",
              "       [0.7041617 ],\n",
              "       [0.04257026],\n",
              "       [0.15530184],\n",
              "       [0.96306455],\n",
              "       [0.44418275],\n",
              "       [0.6057308 ],\n",
              "       [0.99913234],\n",
              "       [0.8238393 ],\n",
              "       [0.01326248],\n",
              "       [0.97582316],\n",
              "       [0.2070604 ],\n",
              "       [0.8701545 ],\n",
              "       [0.00537979],\n",
              "       [0.6773845 ],\n",
              "       [0.36095634],\n",
              "       [0.39366332],\n",
              "       [0.96156377],\n",
              "       [0.1060977 ],\n",
              "       [0.99990344],\n",
              "       [0.23905505],\n",
              "       [0.14214748],\n",
              "       [0.87844163],\n",
              "       [0.21895456],\n",
              "       [0.11436701],\n",
              "       [0.04407109],\n",
              "       [0.269856  ],\n",
              "       [0.1822459 ],\n",
              "       [0.08752659],\n",
              "       [0.23827586],\n",
              "       [0.19705513],\n",
              "       [0.00157173],\n",
              "       [0.27691576],\n",
              "       [0.994665  ],\n",
              "       [0.9998005 ],\n",
              "       [0.24340312],\n",
              "       [0.08986047],\n",
              "       [0.47260305],\n",
              "       [0.9826765 ],\n",
              "       [0.1767281 ],\n",
              "       [0.7993451 ],\n",
              "       [0.24443664],\n",
              "       [0.23023473],\n",
              "       [0.99913234],\n",
              "       [0.26249328],\n",
              "       [0.04274091],\n",
              "       [0.93360364],\n",
              "       [0.02840944],\n",
              "       [0.99969566],\n",
              "       [0.62727004],\n",
              "       [0.90906614],\n",
              "       [0.66925544],\n",
              "       [0.33073366],\n",
              "       [0.95767254],\n",
              "       [0.6063138 ],\n",
              "       [0.10468826],\n",
              "       [0.12968026],\n",
              "       [0.92763263],\n",
              "       [0.07852592],\n",
              "       [0.00313315],\n",
              "       [0.42980665],\n",
              "       [0.5026878 ],\n",
              "       [0.11644384],\n",
              "       [0.9469606 ],\n",
              "       [0.9924051 ],\n",
              "       [0.40028423],\n",
              "       [0.22533846],\n",
              "       [0.38217345],\n",
              "       [0.155604  ],\n",
              "       [0.16700672],\n",
              "       [0.99238867],\n",
              "       [0.14051141],\n",
              "       [0.24298392],\n",
              "       [0.9593174 ],\n",
              "       [0.02377014],\n",
              "       [0.91085374],\n",
              "       [0.03501081],\n",
              "       [0.98764193],\n",
              "       [0.01567004],\n",
              "       [0.06903221],\n",
              "       [0.4860386 ],\n",
              "       [0.5904789 ],\n",
              "       [0.23821336],\n",
              "       [0.00413303],\n",
              "       [0.384702  ],\n",
              "       [0.99771404],\n",
              "       [0.419552  ],\n",
              "       [0.00734642],\n",
              "       [0.9969708 ],\n",
              "       [0.9371646 ],\n",
              "       [0.02500672],\n",
              "       [0.8916413 ],\n",
              "       [0.10686851],\n",
              "       [0.21964265],\n",
              "       [0.02946721],\n",
              "       [0.10678891],\n",
              "       [0.44682297],\n",
              "       [0.17571075],\n",
              "       [0.9967673 ],\n",
              "       [0.18035467],\n",
              "       [0.22146021],\n",
              "       [0.1490162 ],\n",
              "       [0.6812601 ],\n",
              "       [0.15463129],\n",
              "       [0.05453513],\n",
              "       [0.01914636],\n",
              "       [0.18818788],\n",
              "       [0.39560136],\n",
              "       [0.55278426],\n",
              "       [0.04849563],\n",
              "       [0.1782867 ],\n",
              "       [0.6422502 ],\n",
              "       [0.12679553],\n",
              "       [0.01743358],\n",
              "       [0.95162404],\n",
              "       [0.20431702],\n",
              "       [0.11108916],\n",
              "       [0.31614676],\n",
              "       [0.8788701 ],\n",
              "       [0.5462027 ],\n",
              "       [0.1618724 ],\n",
              "       [0.46089745],\n",
              "       [0.09496796],\n",
              "       [0.69530004],\n",
              "       [0.19773668],\n",
              "       [0.42421085],\n",
              "       [0.85035944],\n",
              "       [0.1187942 ],\n",
              "       [0.98045784],\n",
              "       [0.1242777 ],\n",
              "       [0.11217176],\n",
              "       [0.0653832 ],\n",
              "       [0.8420356 ],\n",
              "       [0.25575405],\n",
              "       [0.39235967],\n",
              "       [0.17136694],\n",
              "       [0.6039483 ],\n",
              "       [0.15727408],\n",
              "       [0.0317949 ],\n",
              "       [0.96262515],\n",
              "       [0.5113951 ],\n",
              "       [0.82703894],\n",
              "       [0.4712341 ],\n",
              "       [0.9448233 ],\n",
              "       [0.17813683],\n",
              "       [0.829524  ],\n",
              "       [0.05699293],\n",
              "       [0.867185  ],\n",
              "       [0.94789934],\n",
              "       [0.0543408 ],\n",
              "       [0.9381522 ],\n",
              "       [0.01729202],\n",
              "       [0.9765658 ],\n",
              "       [0.17813683],\n",
              "       [0.99951494],\n",
              "       [0.8529764 ],\n",
              "       [0.17144863],\n",
              "       [0.01909114],\n",
              "       [0.48448065],\n",
              "       [0.99054694],\n",
              "       [0.17452091],\n",
              "       [0.4859701 ],\n",
              "       [0.42398214],\n",
              "       [0.24958001],\n",
              "       [0.753359  ],\n",
              "       [0.83849436],\n",
              "       [0.5281246 ],\n",
              "       [0.94015455],\n",
              "       [0.2126835 ],\n",
              "       [0.968393  ],\n",
              "       [0.06504612],\n",
              "       [0.228745  ],\n",
              "       [0.9984276 ],\n",
              "       [0.21656767],\n",
              "       [0.9679681 ],\n",
              "       [0.55079496],\n",
              "       [0.40667775],\n",
              "       [0.1809215 ],\n",
              "       [0.38448536],\n",
              "       [0.5177076 ],\n",
              "       [0.27510297],\n",
              "       [0.0760643 ],\n",
              "       [0.9865058 ],\n",
              "       [0.18436788],\n",
              "       [0.03446295],\n",
              "       [0.13433287],\n",
              "       [0.8080065 ],\n",
              "       [0.98506147],\n",
              "       [0.02214538],\n",
              "       [0.22698401],\n",
              "       [0.4483494 ],\n",
              "       [0.7406747 ],\n",
              "       [0.03422385],\n",
              "       [0.25313094],\n",
              "       [0.14755346],\n",
              "       [0.16483495],\n",
              "       [0.40162238],\n",
              "       [0.28945968],\n",
              "       [0.08592962],\n",
              "       [0.28168193],\n",
              "       [0.07558557],\n",
              "       [0.10522245],\n",
              "       [0.4694806 ],\n",
              "       [0.13108921],\n",
              "       [0.8094571 ],\n",
              "       [0.13011846],\n",
              "       [0.02493709],\n",
              "       [0.31243294],\n",
              "       [0.08027383],\n",
              "       [0.980401  ],\n",
              "       [0.8372232 ],\n",
              "       [0.38070515],\n",
              "       [0.4360114 ],\n",
              "       [0.02889933],\n",
              "       [0.23539543],\n",
              "       [0.4166255 ],\n",
              "       [0.02377592],\n",
              "       [0.10643056],\n",
              "       [0.9980653 ],\n",
              "       [0.9924051 ],\n",
              "       [0.18430753],\n",
              "       [0.80132294],\n",
              "       [0.00302425],\n",
              "       [0.9983941 ],\n",
              "       [0.204208  ],\n",
              "       [0.9949083 ],\n",
              "       [0.4892424 ],\n",
              "       [0.9645002 ],\n",
              "       [0.63583744],\n",
              "       [0.3109463 ],\n",
              "       [0.9557599 ],\n",
              "       [0.0011139 ],\n",
              "       [0.26334405],\n",
              "       [0.10083536],\n",
              "       [0.9286157 ],\n",
              "       [0.119     ],\n",
              "       [0.6326689 ],\n",
              "       [0.04022365],\n",
              "       [0.15939884],\n",
              "       [0.04363892],\n",
              "       [0.9724262 ],\n",
              "       [0.94990766],\n",
              "       [0.99694806],\n",
              "       [0.01805247],\n",
              "       [0.3023427 ],\n",
              "       [0.9920507 ],\n",
              "       [0.00696207],\n",
              "       [0.1157488 ],\n",
              "       [0.69393426],\n",
              "       [0.01058641],\n",
              "       [0.02628564],\n",
              "       [0.99487174],\n",
              "       [0.94363534],\n",
              "       [0.6136135 ],\n",
              "       [0.8823081 ],\n",
              "       [0.10137179],\n",
              "       [0.6732829 ],\n",
              "       [0.0439219 ],\n",
              "       [0.9720559 ],\n",
              "       [0.39418188],\n",
              "       [0.11356642],\n",
              "       [0.09561406],\n",
              "       [0.5090958 ],\n",
              "       [0.4760464 ],\n",
              "       [0.66394365],\n",
              "       [0.9863327 ],\n",
              "       [0.998516  ],\n",
              "       [0.6915054 ],\n",
              "       [0.6573425 ],\n",
              "       [0.1276885 ],\n",
              "       [0.09116308],\n",
              "       [0.14374454],\n",
              "       [0.11270785],\n",
              "       [0.2816043 ],\n",
              "       [0.95615935],\n",
              "       [0.01204192],\n",
              "       [0.35393345],\n",
              "       [0.34366447],\n",
              "       [0.99926656],\n",
              "       [0.26826388],\n",
              "       [0.07588039],\n",
              "       [0.05037929],\n",
              "       [0.4534111 ],\n",
              "       [0.2911189 ],\n",
              "       [0.01105998],\n",
              "       [0.00469506],\n",
              "       [0.9931908 ],\n",
              "       [0.99255544],\n",
              "       [0.23647904],\n",
              "       [0.9342143 ],\n",
              "       [0.7482225 ],\n",
              "       [0.6051057 ],\n",
              "       [0.09428826],\n",
              "       [0.16166662],\n",
              "       [0.10168882],\n",
              "       [0.01332616],\n",
              "       [0.03305494],\n",
              "       [0.13559212],\n",
              "       [0.00814125],\n",
              "       [0.13815342],\n",
              "       [0.33641264],\n",
              "       [0.06155277],\n",
              "       [0.39671716],\n",
              "       [0.9452273 ],\n",
              "       [0.02454464],\n",
              "       [0.32115534],\n",
              "       [0.15795669],\n",
              "       [0.0264615 ],\n",
              "       [0.10389113],\n",
              "       [0.99926656],\n",
              "       [0.23858157],\n",
              "       [0.52870804],\n",
              "       [0.7517254 ],\n",
              "       [0.9956833 ],\n",
              "       [0.17222583],\n",
              "       [0.07484712],\n",
              "       [0.15689662],\n",
              "       [0.23230778],\n",
              "       [0.44095293],\n",
              "       [0.9264659 ],\n",
              "       [0.22426015],\n",
              "       [0.86412317],\n",
              "       [0.12045871],\n",
              "       [0.17761223],\n",
              "       [0.46378258],\n",
              "       [0.98155606],\n",
              "       [0.99255097],\n",
              "       [0.35386628],\n",
              "       [0.5050255 ],\n",
              "       [0.65033823],\n",
              "       [0.41907057],\n",
              "       [0.15120634],\n",
              "       [0.9806738 ],\n",
              "       [0.50694346],\n",
              "       [0.07605413],\n",
              "       [0.0247493 ],\n",
              "       [0.9954899 ],\n",
              "       [0.42070538],\n",
              "       [0.9993455 ],\n",
              "       [0.64553255],\n",
              "       [0.83133405],\n",
              "       [0.22509521],\n",
              "       [0.99437284],\n",
              "       [0.791508  ],\n",
              "       [0.5799714 ],\n",
              "       [0.08124856],\n",
              "       [0.13715932],\n",
              "       [0.9983132 ],\n",
              "       [0.2750782 ],\n",
              "       [0.60947907],\n",
              "       [0.16081423],\n",
              "       [0.07373962],\n",
              "       [0.86008054],\n",
              "       [0.01486354],\n",
              "       [0.5316414 ],\n",
              "       [0.7390186 ],\n",
              "       [0.9736462 ],\n",
              "       [0.99891496],\n",
              "       [0.03299761],\n",
              "       [0.2608181 ],\n",
              "       [0.01415709],\n",
              "       [0.43980956],\n",
              "       [0.16700974],\n",
              "       [0.37109062],\n",
              "       [0.04356188],\n",
              "       [0.32737926],\n",
              "       [0.9786935 ],\n",
              "       [0.5621619 ],\n",
              "       [0.2301313 ],\n",
              "       [0.2703401 ],\n",
              "       [0.99926656],\n",
              "       [0.27805698],\n",
              "       [0.5598685 ],\n",
              "       [0.92927355],\n",
              "       [0.99957436],\n",
              "       [0.24398027],\n",
              "       [0.9920141 ],\n",
              "       [0.01931365],\n",
              "       [0.88892525],\n",
              "       [0.99913234],\n",
              "       [0.9741417 ],\n",
              "       [0.08519939],\n",
              "       [0.49417204],\n",
              "       [0.6398905 ],\n",
              "       [0.11431322],\n",
              "       [0.10201322],\n",
              "       [0.08034011],\n",
              "       [0.01761106],\n",
              "       [0.99951494],\n",
              "       [0.9868622 ],\n",
              "       [0.08453933],\n",
              "       [0.99844176],\n",
              "       [0.32248104],\n",
              "       [0.9993455 ],\n",
              "       [0.05959962],\n",
              "       [0.15638201],\n",
              "       [0.432531  ],\n",
              "       [0.9692528 ],\n",
              "       [0.5823857 ],\n",
              "       [0.12676631],\n",
              "       [0.99973196],\n",
              "       [0.9695532 ],\n",
              "       [0.04878547],\n",
              "       [0.43245018],\n",
              "       [0.02993941],\n",
              "       [0.6897157 ],\n",
              "       [0.9988782 ],\n",
              "       [0.2528119 ],\n",
              "       [0.40261775],\n",
              "       [0.2851254 ],\n",
              "       [0.9988288 ],\n",
              "       [0.50649196],\n",
              "       [0.10608738],\n",
              "       [0.25305155],\n",
              "       [0.0739442 ],\n",
              "       [0.07263944],\n",
              "       [0.03890501],\n",
              "       [0.99850947],\n",
              "       [0.02993941],\n",
              "       [0.0338797 ],\n",
              "       [0.3564695 ],\n",
              "       [0.508095  ],\n",
              "       [0.02735935],\n",
              "       [0.14235877],\n",
              "       [0.23319772],\n",
              "       [0.0588962 ],\n",
              "       [0.98896015],\n",
              "       [0.34961525],\n",
              "       [0.13475786],\n",
              "       [0.12375443],\n",
              "       [0.19349308],\n",
              "       [0.6034171 ],\n",
              "       [0.824766  ],\n",
              "       [0.27480078],\n",
              "       [0.9359928 ],\n",
              "       [0.9976478 ],\n",
              "       [0.70068717],\n",
              "       [0.3139476 ],\n",
              "       [0.31877556],\n",
              "       [0.2689319 ],\n",
              "       [0.5845258 ],\n",
              "       [0.91806495],\n",
              "       [0.8405334 ],\n",
              "       [0.9992501 ],\n",
              "       [0.8479531 ],\n",
              "       [0.9495274 ],\n",
              "       [0.07349066],\n",
              "       [0.03168223],\n",
              "       [0.04383344],\n",
              "       [0.05652323],\n",
              "       [0.01565159],\n",
              "       [0.03535996],\n",
              "       [0.5615133 ],\n",
              "       [0.28373918],\n",
              "       [0.10818049],\n",
              "       [0.10115025],\n",
              "       [0.96637547],\n",
              "       [0.9713538 ],\n",
              "       [0.03277483],\n",
              "       [0.990617  ],\n",
              "       [0.6470417 ],\n",
              "       [0.9976478 ],\n",
              "       [0.06079594],\n",
              "       [0.9969399 ],\n",
              "       [0.02183324],\n",
              "       [0.03604596],\n",
              "       [0.9976478 ],\n",
              "       [0.10935548],\n",
              "       [0.02720504],\n",
              "       [0.99458534],\n",
              "       [0.36095634],\n",
              "       [0.17922442],\n",
              "       [0.36490917],\n",
              "       [0.95481855],\n",
              "       [0.87077874],\n",
              "       [0.0011139 ],\n",
              "       [0.90680283],\n",
              "       [0.99987197],\n",
              "       [0.999877  ],\n",
              "       [0.6658465 ],\n",
              "       [0.6435071 ],\n",
              "       [0.23230778],\n",
              "       [0.999718  ],\n",
              "       [0.12483244],\n",
              "       [0.706424  ],\n",
              "       [0.82384306],\n",
              "       [0.4770172 ],\n",
              "       [0.97776675],\n",
              "       [0.53285736],\n",
              "       [0.19931383],\n",
              "       [0.9983339 ],\n",
              "       [0.06174145],\n",
              "       [0.27522627],\n",
              "       [0.40873352],\n",
              "       [0.69286704],\n",
              "       [0.15916224],\n",
              "       [0.25698996],\n",
              "       [0.5316113 ],\n",
              "       [0.01892063],\n",
              "       [0.3814737 ],\n",
              "       [0.02970551],\n",
              "       [0.9924051 ],\n",
              "       [0.30971453],\n",
              "       [0.29470953],\n",
              "       [0.94533414],\n",
              "       [0.00627815],\n",
              "       [0.5383289 ],\n",
              "       [0.85438913],\n",
              "       [0.01063571],\n",
              "       [0.60450083],\n",
              "       [0.26907834],\n",
              "       [0.22663279],\n",
              "       [0.9266412 ],\n",
              "       [0.2087511 ],\n",
              "       [0.97458786],\n",
              "       [0.9913344 ],\n",
              "       [0.34682158],\n",
              "       [0.02576958],\n",
              "       [0.4112346 ],\n",
              "       [0.99423414],\n",
              "       [0.99783677],\n",
              "       [0.93265814],\n",
              "       [0.67667246],\n",
              "       [0.10286802],\n",
              "       [0.00494983],\n",
              "       [0.26973224],\n",
              "       [0.8168439 ],\n",
              "       [0.03654109],\n",
              "       [0.03628664],\n",
              "       [0.04682863],\n",
              "       [0.4556729 ],\n",
              "       [0.9955324 ],\n",
              "       [0.25156403],\n",
              "       [0.9938013 ],\n",
              "       [0.32851845],\n",
              "       [0.9943303 ],\n",
              "       [0.99564195],\n",
              "       [0.01268741],\n",
              "       [0.01445989],\n",
              "       [0.2729917 ],\n",
              "       [0.93790865],\n",
              "       [0.999111  ],\n",
              "       [0.11447586],\n",
              "       [0.99792385],\n",
              "       [0.09088153],\n",
              "       [0.21158057],\n",
              "       [0.42462328],\n",
              "       [0.07603897],\n",
              "       [0.9314326 ],\n",
              "       [0.93025863],\n",
              "       [0.12819526],\n",
              "       [0.98246527],\n",
              "       [0.9917779 ],\n",
              "       [0.7483843 ],\n",
              "       [0.98431844],\n",
              "       [0.8314109 ],\n",
              "       [0.947209  ],\n",
              "       [0.10995661],\n",
              "       [0.45195806],\n",
              "       [0.3240781 ],\n",
              "       [0.2750037 ],\n",
              "       [0.79554194],\n",
              "       [0.97956043],\n",
              "       [0.04061694],\n",
              "       [0.28774905],\n",
              "       [0.7727782 ],\n",
              "       [0.14510822],\n",
              "       [0.1212689 ],\n",
              "       [0.9739639 ],\n",
              "       [0.00823515],\n",
              "       [0.08780952],\n",
              "       [0.73162794],\n",
              "       [0.7619216 ],\n",
              "       [0.00546572],\n",
              "       [0.3583779 ],\n",
              "       [0.6089583 ],\n",
              "       [0.7599734 ],\n",
              "       [0.03316307],\n",
              "       [0.9986638 ],\n",
              "       [0.73686016],\n",
              "       [0.42182153],\n",
              "       [0.12010649],\n",
              "       [0.94456583],\n",
              "       [0.99938977],\n",
              "       [0.00917635],\n",
              "       [0.11946186],\n",
              "       [0.2082651 ],\n",
              "       [0.11430374],\n",
              "       [0.6905783 ],\n",
              "       [0.15647724],\n",
              "       [0.99969566],\n",
              "       [0.661455  ],\n",
              "       [0.02125896],\n",
              "       [0.97894853],\n",
              "       [0.840425  ],\n",
              "       [0.7630211 ],\n",
              "       [0.99359375],\n",
              "       [0.08478007],\n",
              "       [0.5214638 ],\n",
              "       [0.03143937],\n",
              "       [0.85608613],\n",
              "       [0.94617724],\n",
              "       [0.36643925],\n",
              "       [0.99005413],\n",
              "       [0.00703323],\n",
              "       [0.35955796],\n",
              "       [0.9946709 ],\n",
              "       [0.05276988]], dtype=float32)"
            ]
          },
          "metadata": {},
          "execution_count": 40
        }
      ]
    },
    {
      "cell_type": "code",
      "source": [
        "# Convert model prediction probabilites to label format\n",
        "model_1_preds = tf.squeeze(tf.round(model_1_pred_probs))\n",
        "model_1_preds"
      ],
      "metadata": {
        "colab": {
          "base_uri": "https://localhost:8080/"
        },
        "id": "XP6EMp_UTiov",
        "outputId": "dac2800f-2422-46e1-ba0b-300b81660047"
      },
      "execution_count": 41,
      "outputs": [
        {
          "output_type": "execute_result",
          "data": {
            "text/plain": [
              "<tf.Tensor: shape=(762,), dtype=float32, numpy=\n",
              "array([0., 0., 1., 0., 0., 0., 1., 0., 0., 0., 0., 0., 0., 0., 1., 1., 1.,\n",
              "       0., 0., 0., 1., 1., 0., 1., 0., 1., 0., 0., 1., 1., 0., 0., 1., 1.,\n",
              "       0., 1., 0., 1., 0., 1., 1., 1., 0., 0., 0., 1., 0., 0., 1., 0., 0.,\n",
              "       1., 0., 0., 0., 0., 0., 0., 0., 1., 1., 0., 0., 0., 0., 0., 1., 1.,\n",
              "       1., 0., 1., 0., 1., 0., 0., 1., 0., 1., 0., 1., 0., 1., 0., 0., 0.,\n",
              "       0., 0., 0., 0., 0., 1., 0., 0., 1., 1., 0., 0., 0., 0., 0., 0., 0.,\n",
              "       1., 1., 1., 0., 0., 0., 1., 0., 1., 1., 0., 1., 0., 0., 0., 0., 0.,\n",
              "       0., 0., 1., 1., 1., 0., 1., 0., 1., 1., 0., 1., 1., 1., 0., 0., 1.,\n",
              "       0., 1., 0., 0., 1., 0., 0., 0., 1., 1., 0., 1., 0., 0., 0., 1., 1.,\n",
              "       1., 0., 1., 0., 0., 1., 0., 1., 1., 1., 0., 1., 0., 1., 0., 1., 0.,\n",
              "       0., 1., 0., 1., 0., 0., 1., 0., 0., 0., 0., 0., 0., 0., 0., 0., 0.,\n",
              "       1., 1., 0., 0., 0., 1., 0., 1., 0., 0., 1., 0., 0., 1., 0., 1., 1.,\n",
              "       1., 1., 0., 1., 1., 0., 0., 1., 0., 0., 0., 1., 0., 1., 1., 0., 0.,\n",
              "       0., 0., 0., 1., 0., 0., 1., 0., 1., 0., 1., 0., 0., 0., 1., 0., 0.,\n",
              "       0., 1., 0., 0., 1., 1., 0., 1., 0., 0., 0., 0., 0., 0., 1., 0., 0.,\n",
              "       0., 1., 0., 0., 0., 0., 0., 1., 0., 0., 1., 0., 0., 1., 0., 0., 0.,\n",
              "       1., 1., 0., 0., 0., 1., 0., 0., 1., 0., 1., 0., 0., 0., 1., 0., 0.,\n",
              "       0., 1., 0., 0., 1., 1., 1., 0., 1., 0., 1., 0., 1., 1., 0., 1., 0.,\n",
              "       1., 0., 1., 1., 0., 0., 0., 1., 0., 0., 0., 0., 1., 1., 1., 1., 0.,\n",
              "       1., 0., 0., 1., 0., 1., 1., 0., 0., 0., 1., 0., 0., 1., 0., 0., 0.,\n",
              "       1., 1., 0., 0., 0., 1., 0., 0., 0., 0., 0., 0., 0., 0., 0., 0., 0.,\n",
              "       0., 1., 0., 0., 0., 0., 1., 1., 0., 0., 0., 0., 0., 0., 0., 1., 1.,\n",
              "       0., 1., 0., 1., 0., 1., 0., 1., 1., 0., 1., 0., 0., 0., 1., 0., 1.,\n",
              "       0., 0., 0., 1., 1., 1., 0., 0., 1., 0., 0., 1., 0., 0., 1., 1., 1.,\n",
              "       1., 0., 1., 0., 1., 0., 0., 0., 1., 0., 1., 1., 1., 1., 1., 0., 0.,\n",
              "       0., 0., 0., 1., 0., 0., 0., 1., 0., 0., 0., 0., 0., 0., 0., 1., 1.,\n",
              "       0., 1., 1., 1., 0., 0., 0., 0., 0., 0., 0., 0., 0., 0., 0., 1., 0.,\n",
              "       0., 0., 0., 0., 1., 0., 1., 1., 1., 0., 0., 0., 0., 0., 1., 0., 1.,\n",
              "       0., 0., 0., 1., 1., 0., 1., 1., 0., 0., 1., 1., 0., 0., 1., 0., 1.,\n",
              "       1., 1., 0., 1., 1., 1., 0., 0., 1., 0., 1., 0., 0., 1., 0., 1., 1.,\n",
              "       1., 1., 0., 0., 0., 0., 0., 0., 0., 0., 1., 1., 0., 0., 1., 0., 1.,\n",
              "       1., 1., 0., 1., 0., 1., 1., 1., 0., 0., 1., 0., 0., 0., 0., 1., 1.,\n",
              "       0., 1., 0., 1., 0., 0., 0., 1., 1., 0., 1., 1., 0., 0., 0., 1., 1.,\n",
              "       0., 0., 0., 1., 1., 0., 0., 0., 0., 0., 1., 0., 0., 0., 1., 0., 0.,\n",
              "       0., 0., 1., 0., 0., 0., 0., 1., 1., 0., 1., 1., 1., 0., 0., 0., 1.,\n",
              "       1., 1., 1., 1., 1., 0., 0., 0., 0., 0., 0., 1., 0., 0., 0., 1., 1.,\n",
              "       0., 1., 1., 1., 0., 1., 0., 0., 1., 0., 0., 1., 0., 0., 0., 1., 1.,\n",
              "       0., 1., 1., 1., 1., 1., 0., 1., 0., 1., 1., 0., 1., 1., 0., 1., 0.,\n",
              "       0., 0., 1., 0., 0., 1., 0., 0., 0., 1., 0., 0., 1., 0., 1., 1., 0.,\n",
              "       1., 0., 0., 1., 0., 1., 1., 0., 0., 0., 1., 1., 1., 1., 0., 0., 0.,\n",
              "       1., 0., 0., 0., 0., 1., 0., 1., 0., 1., 1., 0., 0., 0., 1., 1., 0.,\n",
              "       1., 0., 0., 0., 0., 1., 1., 0., 1., 1., 1., 1., 1., 1., 0., 0., 0.,\n",
              "       0., 1., 1., 0., 0., 1., 0., 0., 1., 0., 0., 1., 1., 0., 0., 1., 1.,\n",
              "       0., 1., 1., 0., 0., 1., 1., 0., 0., 0., 0., 1., 0., 1., 1., 0., 1.,\n",
              "       1., 1., 1., 0., 1., 0., 1., 1., 0., 1., 0., 0., 1., 0.],\n",
              "      dtype=float32)>"
            ]
          },
          "metadata": {},
          "execution_count": 41
        }
      ]
    },
    {
      "cell_type": "code",
      "source": [
        "# Calculate our model_1 results\n",
        "model_1_results = calculate_results(y_true=val_labels,\n",
        "                                    y_pred=model_1_preds)\n",
        "model_1_results"
      ],
      "metadata": {
        "colab": {
          "base_uri": "https://localhost:8080/"
        },
        "id": "u8ERL84JVaBx",
        "outputId": "1f7a8ab4-3c1a-40e0-9403-70c5b4e2b1cf"
      },
      "execution_count": 42,
      "outputs": [
        {
          "output_type": "execute_result",
          "data": {
            "text/plain": [
              "{'accuracy': 81.23359580052494,\n",
              " 'precision': 0.811817411097949,\n",
              " 'recall': 0.8123359580052494,\n",
              " 'f1': 0.81156043327798}"
            ]
          },
          "metadata": {},
          "execution_count": 42
        }
      ]
    },
    {
      "cell_type": "code",
      "source": [
        "baseline_results"
      ],
      "metadata": {
        "colab": {
          "base_uri": "https://localhost:8080/"
        },
        "id": "IBLPxJhQVnkQ",
        "outputId": "d3b506d8-1999-49ef-e4d4-6f8a1a7e82cf"
      },
      "execution_count": 43,
      "outputs": [
        {
          "output_type": "execute_result",
          "data": {
            "text/plain": [
              "{'accuracy': 82.54593175853019,\n",
              " 'precision': 0.8343718354103375,\n",
              " 'recall': 0.8254593175853019,\n",
              " 'f1': 0.8211880892810138}"
            ]
          },
          "metadata": {},
          "execution_count": 43
        }
      ]
    },
    {
      "cell_type": "code",
      "source": [
        "import numpy as np\n",
        "np.array(list(model_1_results.values())) > np.array(list(baseline_results.values()))"
      ],
      "metadata": {
        "colab": {
          "base_uri": "https://localhost:8080/"
        },
        "id": "10RgliZNVu0C",
        "outputId": "f03f572f-fba1-4e18-8149-89f118c036ef"
      },
      "execution_count": 44,
      "outputs": [
        {
          "output_type": "execute_result",
          "data": {
            "text/plain": [
              "array([False, False, False, False])"
            ]
          },
          "metadata": {},
          "execution_count": 44
        }
      ]
    },
    {
      "cell_type": "markdown",
      "source": [
        "## Visualizing learned embeddings"
      ],
      "metadata": {
        "id": "j6hEzWJcV5xK"
      }
    },
    {
      "cell_type": "code",
      "source": [
        "# Get the vocabulary from the text vectorization layer\n",
        "words_in_vocab = text_vectorizer.get_vocabulary()\n",
        "len(words_in_vocab), words_in_vocab[:10]"
      ],
      "metadata": {
        "colab": {
          "base_uri": "https://localhost:8080/"
        },
        "id": "x3Af1mvoFgbU",
        "outputId": "36e50f9d-9b6c-4b58-850c-594fa4cc4e46"
      },
      "execution_count": 45,
      "outputs": [
        {
          "output_type": "execute_result",
          "data": {
            "text/plain": [
              "(10000, ['', '[UNK]', 'the', 'a', 'in', 'to', 'of', 'and', 'i', 'is'])"
            ]
          },
          "metadata": {},
          "execution_count": 45
        }
      ]
    },
    {
      "cell_type": "code",
      "source": [
        "# Model 1 Summary\n",
        "model_1.summary()"
      ],
      "metadata": {
        "colab": {
          "base_uri": "https://localhost:8080/"
        },
        "id": "gB6hZMukF3U1",
        "outputId": "3e830302-3005-40e9-b148-d39d450f5f60"
      },
      "execution_count": 46,
      "outputs": [
        {
          "output_type": "stream",
          "name": "stdout",
          "text": [
            "Model: \"model_1_dense\"\n",
            "_________________________________________________________________\n",
            " Layer (type)                Output Shape              Param #   \n",
            "=================================================================\n",
            " input_1 (InputLayer)        [(None, 1)]               0         \n",
            "                                                                 \n",
            " text_vectorization_1 (Text  (None, 15)                0         \n",
            " Vectorization)                                                  \n",
            "                                                                 \n",
            " embedding (Embedding)       (None, 15, 128)           1280000   \n",
            "                                                                 \n",
            " global_average_pooling1d (  (None, 128)               0         \n",
            " GlobalAveragePooling1D)                                         \n",
            "                                                                 \n",
            " dense (Dense)               (None, 1)                 129       \n",
            "                                                                 \n",
            "=================================================================\n",
            "Total params: 1280129 (4.88 MB)\n",
            "Trainable params: 1280129 (4.88 MB)\n",
            "Non-trainable params: 0 (0.00 Byte)\n",
            "_________________________________________________________________\n"
          ]
        }
      ]
    },
    {
      "cell_type": "code",
      "source": [
        "# Get the weight matrix of embedding layer\n",
        "# (numerical representations of each token in our training data; learned for 5 epochs)\n",
        "embed_weights = model_1.get_layer(\"embedding\").get_weights()[0]\n",
        "embed_weights"
      ],
      "metadata": {
        "colab": {
          "base_uri": "https://localhost:8080/"
        },
        "id": "DUtcesXYF9_w",
        "outputId": "acd9a57c-5801-4e47-aedc-2f8bee3be25a"
      },
      "execution_count": 54,
      "outputs": [
        {
          "output_type": "execute_result",
          "data": {
            "text/plain": [
              "array([[-0.03556719, -0.02439384,  0.00533569, ..., -0.04615637,\n",
              "         0.0262187 ,  0.02303373],\n",
              "       [-0.04027543, -0.03978007, -0.01868589, ..., -0.04876405,\n",
              "         0.05134028, -0.01287759],\n",
              "       [-0.03259987,  0.02813799, -0.01368915, ..., -0.00493422,\n",
              "        -0.01037545,  0.01860335],\n",
              "       ...,\n",
              "       [ 0.01865206, -0.00266247,  0.01152065, ...,  0.03219048,\n",
              "         0.02502009,  0.03493685],\n",
              "       [-0.09525589, -0.00581831, -0.04408037, ..., -0.07592053,\n",
              "         0.02619899,  0.01186154],\n",
              "       [-0.08312871, -0.0546471 , -0.06789241, ..., -0.01786359,\n",
              "         0.08635088,  0.01649686]], dtype=float32)"
            ]
          },
          "metadata": {},
          "execution_count": 54
        }
      ]
    },
    {
      "cell_type": "code",
      "source": [
        "print(embed_weights.shape) # same size as vocab size and embedding_dim; each word embedded into 128 dim vector"
      ],
      "metadata": {
        "colab": {
          "base_uri": "https://localhost:8080/"
        },
        "id": "-TJtjPXfGOtz",
        "outputId": "c583a640-5fe7-44ac-b672-da68db00f9ab"
      },
      "execution_count": 56,
      "outputs": [
        {
          "output_type": "stream",
          "name": "stdout",
          "text": [
            "(10000, 128)\n"
          ]
        }
      ]
    },
    {
      "cell_type": "markdown",
      "source": [
        "# [Tensorflow Embedding Visualization Tool](https://projector.tensorflow.org/)"
      ],
      "metadata": {
        "id": "ndqmLVXfGeGm"
      }
    },
    {
      "cell_type": "code",
      "source": [
        "# Create embedding files\n",
        "import io\n",
        "out_v = io.open('vectors.tsv', 'w', encoding='utf-8')\n",
        "out_m = io.open('metadata.tsv', 'w', encoding='utf-8')\n",
        "\n",
        "for index, word in enumerate(words_in_vocab):\n",
        "  if index == 0:\n",
        "    continue  # skip 0, it's padding.\n",
        "  vec = embed_weights[index]\n",
        "  out_v.write('\\t'.join([str(x) for x in vec]) + \"\\n\")\n",
        "  out_m.write(word + \"\\n\")\n",
        "out_v.close()\n",
        "out_m.close()"
      ],
      "metadata": {
        "id": "rL7T1QQOG5rU"
      },
      "execution_count": 57,
      "outputs": []
    },
    {
      "cell_type": "code",
      "source": [
        "# Download files from Colab to upload to Tensorflow projector (see link above)\n",
        "try:\n",
        "  from google.colab import files\n",
        "  files.download('vectors.tsv')\n",
        "  files.download('metadata.tsv')\n",
        "except Exception:\n",
        "  pass"
      ],
      "metadata": {
        "colab": {
          "base_uri": "https://localhost:8080/",
          "height": 17
        },
        "id": "E-yFzV0uHb3Q",
        "outputId": "d30bdd63-0197-418a-8974-22e5f75e8d4d"
      },
      "execution_count": 58,
      "outputs": [
        {
          "output_type": "display_data",
          "data": {
            "text/plain": [
              "<IPython.core.display.Javascript object>"
            ],
            "application/javascript": [
              "\n",
              "    async function download(id, filename, size) {\n",
              "      if (!google.colab.kernel.accessAllowed) {\n",
              "        return;\n",
              "      }\n",
              "      const div = document.createElement('div');\n",
              "      const label = document.createElement('label');\n",
              "      label.textContent = `Downloading \"${filename}\": `;\n",
              "      div.appendChild(label);\n",
              "      const progress = document.createElement('progress');\n",
              "      progress.max = size;\n",
              "      div.appendChild(progress);\n",
              "      document.body.appendChild(div);\n",
              "\n",
              "      const buffers = [];\n",
              "      let downloaded = 0;\n",
              "\n",
              "      const channel = await google.colab.kernel.comms.open(id);\n",
              "      // Send a message to notify the kernel that we're ready.\n",
              "      channel.send({})\n",
              "\n",
              "      for await (const message of channel.messages) {\n",
              "        // Send a message to notify the kernel that we're ready.\n",
              "        channel.send({})\n",
              "        if (message.buffers) {\n",
              "          for (const buffer of message.buffers) {\n",
              "            buffers.push(buffer);\n",
              "            downloaded += buffer.byteLength;\n",
              "            progress.value = downloaded;\n",
              "          }\n",
              "        }\n",
              "      }\n",
              "      const blob = new Blob(buffers, {type: 'application/binary'});\n",
              "      const a = document.createElement('a');\n",
              "      a.href = window.URL.createObjectURL(blob);\n",
              "      a.download = filename;\n",
              "      div.appendChild(a);\n",
              "      a.click();\n",
              "      div.remove();\n",
              "    }\n",
              "  "
            ]
          },
          "metadata": {}
        },
        {
          "output_type": "display_data",
          "data": {
            "text/plain": [
              "<IPython.core.display.Javascript object>"
            ],
            "application/javascript": [
              "download(\"download_6a223cf9-4dee-49df-a7f4-ee79fdaee422\", \"vectors.tsv\", 15372291)"
            ]
          },
          "metadata": {}
        },
        {
          "output_type": "display_data",
          "data": {
            "text/plain": [
              "<IPython.core.display.Javascript object>"
            ],
            "application/javascript": [
              "\n",
              "    async function download(id, filename, size) {\n",
              "      if (!google.colab.kernel.accessAllowed) {\n",
              "        return;\n",
              "      }\n",
              "      const div = document.createElement('div');\n",
              "      const label = document.createElement('label');\n",
              "      label.textContent = `Downloading \"${filename}\": `;\n",
              "      div.appendChild(label);\n",
              "      const progress = document.createElement('progress');\n",
              "      progress.max = size;\n",
              "      div.appendChild(progress);\n",
              "      document.body.appendChild(div);\n",
              "\n",
              "      const buffers = [];\n",
              "      let downloaded = 0;\n",
              "\n",
              "      const channel = await google.colab.kernel.comms.open(id);\n",
              "      // Send a message to notify the kernel that we're ready.\n",
              "      channel.send({})\n",
              "\n",
              "      for await (const message of channel.messages) {\n",
              "        // Send a message to notify the kernel that we're ready.\n",
              "        channel.send({})\n",
              "        if (message.buffers) {\n",
              "          for (const buffer of message.buffers) {\n",
              "            buffers.push(buffer);\n",
              "            downloaded += buffer.byteLength;\n",
              "            progress.value = downloaded;\n",
              "          }\n",
              "        }\n",
              "      }\n",
              "      const blob = new Blob(buffers, {type: 'application/binary'});\n",
              "      const a = document.createElement('a');\n",
              "      a.href = window.URL.createObjectURL(blob);\n",
              "      a.download = filename;\n",
              "      div.appendChild(a);\n",
              "      a.click();\n",
              "      div.remove();\n",
              "    }\n",
              "  "
            ]
          },
          "metadata": {}
        },
        {
          "output_type": "display_data",
          "data": {
            "text/plain": [
              "<IPython.core.display.Javascript object>"
            ],
            "application/javascript": [
              "download(\"download_a9521e66-66c2-492d-b6f0-910d7efb633e\", \"metadata.tsv\", 80541)"
            ]
          },
          "metadata": {}
        }
      ]
    },
    {
      "cell_type": "markdown",
      "source": [
        "## Recurrent Neural Networks (RNN's)\n",
        "* Sequence data\n",
        "* Use representation of previous input to aid the representation of a later input"
      ],
      "metadata": {
        "id": "Ro4NDEhhJoQW"
      }
    },
    {
      "cell_type": "markdown",
      "source": [
        "### Model 2: LSTM\n",
        "LSTM = long short term memory (one of th most popular Recurrent Cells)\n",
        "\n",
        "RNN Structure:\n",
        "\n",
        "```\n",
        "Input (text) -> Tokenize -> Embedding -> Layers (RNNs/dense) -> Output (label probability)\n",
        "```"
      ],
      "metadata": {
        "id": "JiWRJ55rJ519"
      }
    },
    {
      "cell_type": "code",
      "source": [
        "# Create an LSTM Model\n",
        "from tensorflow.keras import layers\n",
        "inputs = layers.Input(shape=(1,), dtype=\"string\")\n",
        "x = text_vectorizer(inputs) # map text to numbers/tokens\n",
        "x = embedding(x) # create embedding vectors from tokens\n",
        "#print(x.shape)\n",
        "#x = layers.LSTM(units=64, return_sequences=True)(x) # returns a squence; maintains dims of a sequence\n",
        "# when you're stacking RNN cells together, you need to set return_sequences=True\n",
        "#   i.e. input to LSTM expected to be a sequence; the output doesn't necessarily have to be a sequence\n",
        "#print(x.shape)\n",
        "x = layers.LSTM(64)(x)\n",
        "#print(x.shape)\n",
        "#x = layers.Dense(64, activation='relu')(x)\n",
        "outputs = layers.Dense(1, activation=\"sigmoid\")(x)\n",
        "model_2 = tf.keras.Model(inputs,outputs, name=\"model_2_LSTM\")"
      ],
      "metadata": {
        "id": "w9_szk6aM-76"
      },
      "execution_count": 63,
      "outputs": []
    },
    {
      "cell_type": "code",
      "source": [
        "model_2.summary()"
      ],
      "metadata": {
        "colab": {
          "base_uri": "https://localhost:8080/"
        },
        "id": "AlXZHOzHN0wq",
        "outputId": "c1e906ab-a935-410c-a1c8-f4e3a0f98c16"
      },
      "execution_count": 64,
      "outputs": [
        {
          "output_type": "stream",
          "name": "stdout",
          "text": [
            "Model: \"model_2_LSTM\"\n",
            "_________________________________________________________________\n",
            " Layer (type)                Output Shape              Param #   \n",
            "=================================================================\n",
            " input_5 (InputLayer)        [(None, 1)]               0         \n",
            "                                                                 \n",
            " text_vectorization_1 (Text  (None, 15)                0         \n",
            " Vectorization)                                                  \n",
            "                                                                 \n",
            " embedding (Embedding)       (None, 15, 128)           1280000   \n",
            "                                                                 \n",
            " lstm_5 (LSTM)               (None, 64)                49408     \n",
            "                                                                 \n",
            " dense_5 (Dense)             (None, 1)                 65        \n",
            "                                                                 \n",
            "=================================================================\n",
            "Total params: 1329473 (5.07 MB)\n",
            "Trainable params: 1329473 (5.07 MB)\n",
            "Non-trainable params: 0 (0.00 Byte)\n",
            "_________________________________________________________________\n"
          ]
        }
      ]
    },
    {
      "cell_type": "code",
      "source": [
        "# Compile the model\n",
        "model_2.compile(loss=\"binary_crossentropy\",\n",
        "                optimizer=tf.keras.optimizers.Adam(),\n",
        "                metrics=[\"accuracy\"])"
      ],
      "metadata": {
        "id": "1L7Hz9SWPVJr"
      },
      "execution_count": 65,
      "outputs": []
    },
    {
      "cell_type": "code",
      "source": [
        "# Fit the model\n",
        "model_2_history = model_2.fit(train_sentences,\n",
        "                              train_labels,\n",
        "                              epochs=5,\n",
        "                              validation_data=(validation_sentences,val_labels),\n",
        "                              callbacks=[create_tensorboard_callback(SAVE_DIR,\n",
        "                                                                     \"model_2_LSTM\")])"
      ],
      "metadata": {
        "colab": {
          "base_uri": "https://localhost:8080/"
        },
        "id": "7BPxznpiPfk1",
        "outputId": "674a165f-fd16-4c63-a6f9-163500ac0261"
      },
      "execution_count": 67,
      "outputs": [
        {
          "output_type": "stream",
          "name": "stdout",
          "text": [
            "Saving TensorBoard log files to: model_logs/model_2_LSTM/20240218-172349\n",
            "Epoch 1/5\n",
            "215/215 [==============================] - 19s 68ms/step - loss: 0.2154 - accuracy: 0.9216 - val_loss: 0.5589 - val_accuracy: 0.8045\n",
            "Epoch 2/5\n",
            "215/215 [==============================] - 4s 19ms/step - loss: 0.1540 - accuracy: 0.9432 - val_loss: 0.5780 - val_accuracy: 0.8018\n",
            "Epoch 3/5\n",
            "215/215 [==============================] - 4s 17ms/step - loss: 0.1230 - accuracy: 0.9552 - val_loss: 0.7306 - val_accuracy: 0.7966\n",
            "Epoch 4/5\n",
            "215/215 [==============================] - 3s 13ms/step - loss: 0.1011 - accuracy: 0.9625 - val_loss: 0.7581 - val_accuracy: 0.7992\n",
            "Epoch 5/5\n",
            "215/215 [==============================] - 2s 11ms/step - loss: 0.0767 - accuracy: 0.9695 - val_loss: 0.7233 - val_accuracy: 0.8045\n"
          ]
        }
      ]
    },
    {
      "cell_type": "code",
      "source": [
        "# Make predictions with LSTM model\n",
        "model_2_pred_probs = model_2.predict(validation_sentences)\n",
        "model_2_pred_probs[:10]"
      ],
      "metadata": {
        "colab": {
          "base_uri": "https://localhost:8080/"
        },
        "id": "jPB5-aPpPsBO",
        "outputId": "c847f2a0-66b6-4af1-d084-44be82db9d97"
      },
      "execution_count": 70,
      "outputs": [
        {
          "output_type": "stream",
          "name": "stdout",
          "text": [
            "24/24 [==============================] - 1s 4ms/step\n"
          ]
        },
        {
          "output_type": "execute_result",
          "data": {
            "text/plain": [
              "array([[0.01720196],\n",
              "       [0.04032976],\n",
              "       [0.9998903 ],\n",
              "       [0.00184612],\n",
              "       [0.00690784],\n",
              "       [0.44833583],\n",
              "       [0.99965644],\n",
              "       [0.14691654],\n",
              "       [0.00365316],\n",
              "       [0.39848474]], dtype=float32)"
            ]
          },
          "metadata": {},
          "execution_count": 70
        }
      ]
    },
    {
      "cell_type": "code",
      "source": [
        "# convert model 2 pred probs to labels\n",
        "model_2_preds = tf.squeeze(tf.round(model_2_pred_probs))\n",
        "model_2_preds[:10]"
      ],
      "metadata": {
        "colab": {
          "base_uri": "https://localhost:8080/"
        },
        "id": "B8iEK9FCP34m",
        "outputId": "5b16e87d-ad04-419c-db5c-02dab70bb7b8"
      },
      "execution_count": 72,
      "outputs": [
        {
          "output_type": "execute_result",
          "data": {
            "text/plain": [
              "<tf.Tensor: shape=(10,), dtype=float32, numpy=array([0., 0., 1., 0., 0., 0., 1., 0., 0., 0.], dtype=float32)>"
            ]
          },
          "metadata": {},
          "execution_count": 72
        }
      ]
    },
    {
      "cell_type": "code",
      "source": [
        "# Calculate model 2 results\n",
        "model_2_results = calculate_results(val_labels, model_2_preds)\n",
        "model_2_results"
      ],
      "metadata": {
        "colab": {
          "base_uri": "https://localhost:8080/"
        },
        "id": "tzigNgHYQC1X",
        "outputId": "19492c62-bd5b-402c-e3b1-9b189cf154f0"
      },
      "execution_count": 73,
      "outputs": [
        {
          "output_type": "execute_result",
          "data": {
            "text/plain": [
              "{'accuracy': 80.4461942257218,\n",
              " 'precision': 0.80385748255827,\n",
              " 'recall': 0.8044619422572179,\n",
              " 'f1': 0.8037513068281177}"
            ]
          },
          "metadata": {},
          "execution_count": 73
        }
      ]
    },
    {
      "cell_type": "code",
      "source": [
        "# But baseline is still better\n",
        "baseline_results"
      ],
      "metadata": {
        "colab": {
          "base_uri": "https://localhost:8080/"
        },
        "id": "LOij4KdCQQwk",
        "outputId": "162005d6-bde8-405a-b326-3dfd2c22fddc"
      },
      "execution_count": 75,
      "outputs": [
        {
          "output_type": "execute_result",
          "data": {
            "text/plain": [
              "{'accuracy': 82.54593175853019,\n",
              " 'precision': 0.8343718354103375,\n",
              " 'recall': 0.8254593175853019,\n",
              " 'f1': 0.8211880892810138}"
            ]
          },
          "metadata": {},
          "execution_count": 75
        }
      ]
    },
    {
      "cell_type": "markdown",
      "source": [
        "### Model 3: RNN with GRU Cell"
      ],
      "metadata": {
        "id": "I7wX88JgQVNq"
      }
    },
    {
      "cell_type": "code",
      "source": [],
      "metadata": {
        "id": "kOL7evrKQtL_"
      },
      "execution_count": null,
      "outputs": []
    }
  ]
}