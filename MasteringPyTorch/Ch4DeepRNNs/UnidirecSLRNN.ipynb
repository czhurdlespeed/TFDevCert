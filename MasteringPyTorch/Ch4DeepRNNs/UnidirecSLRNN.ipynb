{
 "cells": [
  {
   "cell_type": "code",
   "execution_count": 1,
   "id": "5108e0c9-17ee-43ab-b89c-e85b8dd366cb",
   "metadata": {},
   "outputs": [],
   "source": [
    "import os \n",
    "import time \n",
    "import numpy as np\n",
    "from tqdm import tqdm\n",
    "from string import punctuation\n",
    "from collections import Counter\n",
    "import matplotlib.pyplot as plt\n",
    "import torch\n",
    "import torch.nn as nn\n",
    "import torch.optim as optim\n",
    "from torch.utils.data import DataLoader, TensorDataset\n",
    "device = torch.device('cude' if torch.cuda.is_available() else 'cpu')\n",
    "torch.use_deterministic_algorithms(True)"
   ]
  },
  {
   "cell_type": "code",
   "execution_count": 2,
   "id": "11ab84f1-c8dc-40e2-9278-3f3a2913d680",
   "metadata": {
    "scrolled": true
   },
   "outputs": [
    {
     "name": "stderr",
     "output_type": "stream",
     "text": [
      "100%|███████████████████████████████████| 12500/12500 [00:01<00:00, 8949.81it/s]\n",
      "100%|███████████████████████████████████| 12500/12500 [00:01<00:00, 8941.77it/s]"
     ]
    },
    {
     "name": "stdout",
     "output_type": "stream",
     "text": [
      "Number of reviews : 25000\n"
     ]
    },
    {
     "name": "stderr",
     "output_type": "stream",
     "text": [
      "\n"
     ]
    }
   ],
   "source": [
    "review_list = []\n",
    "label_list = []\n",
    "for label in ['pos', 'neg']:\n",
    "    for fname in tqdm(os.listdir(f'./aclImdb/train/{label}/')):\n",
    "        if 'txt' not in fname:\n",
    "            continue\n",
    "        with open(os.path.join(f'./aclImdb/train/{label}/', fname),\n",
    "                               encoding='utf8') as f:\n",
    "            review_list += [f.read()]\n",
    "            label_list += [label]\n",
    "\n",
    "print(f\"Number of reviews : {len(review_list)}\")"
   ]
  },
  {
   "cell_type": "code",
   "execution_count": 3,
   "id": "ec4a276d-07dd-4930-8e6a-8f3a4d6b4211",
   "metadata": {
    "scrolled": true
   },
   "outputs": [
    {
     "name": "stderr",
     "output_type": "stream",
     "text": [
      "100%|██████████████████████████████████| 25000/25000 [00:00<00:00, 38055.41it/s]"
     ]
    },
    {
     "name": "stdout",
     "output_type": "stream",
     "text": [
      "[('the', 334691), ('and', 162228), ('a', 161940), ('of', 145326), ('to', 135042), ('is', 106855), ('in', 93028), ('it', 77099), ('i', 75719), ('this', 75190)]\n"
     ]
    },
    {
     "name": "stderr",
     "output_type": "stream",
     "text": [
      "\n"
     ]
    }
   ],
   "source": [
    "review_list = [review.lower() for review in review_list]\n",
    "review_list = [''.join([letter for letter in review if letter not in punctuation])\n",
    "               for review in tqdm(review_list)]\n",
    "reviews_blob = ' '.join(review_list)\n",
    "review_words = reviews_blob.split()\n",
    "count_words = Counter(review_words)\n",
    "total_review_words = len(review_words)\n",
    "sorted_review_words = count_words.most_common(total_review_words)\n",
    "print(sorted_review_words[:10])"
   ]
  },
  {
   "cell_type": "code",
   "execution_count": 4,
   "id": "fc608556-c042-40b2-9128-5a75b342a118",
   "metadata": {},
   "outputs": [
    {
     "name": "stdout",
     "output_type": "stream",
     "text": [
      "[('the', 1), ('and', 2), ('a', 3), ('of', 4), ('to', 5), ('is', 6), ('in', 7), ('it', 8), ('i', 9), ('this', 10)]\n"
     ]
    }
   ],
   "source": [
    "vocab_to_token = {word: idx+1 for idx, (word, count) in enumerate(sorted_review_words)}\n",
    "print(list(vocab_to_token.items())[:10])"
   ]
  },
  {
   "cell_type": "code",
   "execution_count": 5,
   "id": "5a127df1-b8a8-4228-9c33-d6d5dbf5855b",
   "metadata": {},
   "outputs": [
    {
     "name": "stdout",
     "output_type": "stream",
     "text": [
      "for a movie that gets no respect there sure are a lot of memorable quotes listed for this gem imagine a movie where joe piscopo is actually funny maureen stapleton is a scene stealer the moroni character is an absolute scream watch for alan the skipper hale jr as a police sgt\n",
      "\n",
      "[15, 3, 17, 11, 201, 56, 1165, 47, 242, 23, 3, 168, 4, 891, 4325, 3513, 15, 10, 1514, 822, 3, 17, 112, 884, 14623, 6, 155, 161, 7307, 15816, 6, 3, 134, 20049, 1, 32064, 108, 6, 33, 1492, 1943, 103, 15, 1550, 1, 18993, 9055, 1809, 14, 3, 549, 6906]\n"
     ]
    }
   ],
   "source": [
    "reviews_tokenized = []\n",
    "for review in review_list:\n",
    "    word_to_token = [vocab_to_token[word] for word in review.split()]\n",
    "    reviews_tokenized.append(word_to_token)\n",
    "print(review_list[0])\n",
    "print()\n",
    "print(reviews_tokenized[0])"
   ]
  },
  {
   "cell_type": "code",
   "execution_count": 6,
   "id": "d5709382-b679-45ac-9385-f0b02223a731",
   "metadata": {},
   "outputs": [],
   "source": [
    "encoded_label_list = [1 if label == 'pos' else 0 for label in label_list]\n",
    "reviews_len = [len(review) for review in reviews_tokenized]\n",
    "\n",
    "reviews_tokenized = [reviews_tokenized[i] for i, l in enumerate(reviews_len)\n",
    "                     if l>0]\n",
    "encoded_label_list = np.array([encoded_label_list[i] for i, l in enumerate(reviews_len)\n",
    "                               if l>0], dtype=np.float32)"
   ]
  },
  {
   "cell_type": "code",
   "execution_count": 7,
   "id": "1b98e000-d885-4c47-94ce-3cbc43e09533",
   "metadata": {},
   "outputs": [],
   "source": [
    "# Pad/Truncate variable sequence lengths to be the same length\n",
    "def pad_sequence(reviews_tokenized, sequence_length):\n",
    "    # Matrix of zeros (# reviews x sequence length)\n",
    "    padded_reviews = np.zeros((len(reviews_tokenized), sequence_length), dtype=np.int64)\n",
    "    for idx, review in enumerate(reviews_tokenized):\n",
    "        review_len = len(review)\n",
    "        if review_len <= sequence_length: # padding\n",
    "            zeros = list(np.zeros(sequence_length - review_len))\n",
    "            new_sequence = zeros + review\n",
    "        elif review_len > sequence_length: # truncating\n",
    "            new_sequence = review[0:sequence_length]\n",
    "        padded_reviews[idx, :] = np.array(new_sequence)\n",
    "    return padded_reviews"
   ]
  },
  {
   "cell_type": "code",
   "execution_count": 8,
   "id": "00d67af2-b7ca-4ded-9318-73a799b9587f",
   "metadata": {},
   "outputs": [
    {
     "data": {
      "image/png": "[encoded data removed]",
      "text/plain": [
       "<Figure size 640x480 with 1 Axes>"
      ]
     },
     "metadata": {},
     "output_type": "display_data"
    }
   ],
   "source": [
    "sequence_length = 512\n",
    "padded_reviews = pad_sequence(reviews_tokenized=reviews_tokenized,\n",
    "                              sequence_length=sequence_length)\n",
    "plt.hist(reviews_len);"
   ]
  },
  {
   "cell_type": "code",
   "execution_count": 9,
   "id": "c6ef6cce-31ba-4f2e-bc2b-0f18ab04185c",
   "metadata": {},
   "outputs": [],
   "source": [
    "train_val_split = 0.75\n",
    "train_X = padded_reviews[:int(train_val_split*len(padded_reviews))]\n",
    "train_y = encoded_label_list[:int(train_val_split*len(padded_reviews))]\n",
    "validation_X = padded_reviews[int(train_val_split*len(padded_reviews)):]\n",
    "validation_y = encoded_label_list[int(train_val_split*len(padded_reviews)):]"
   ]
  },
  {
   "cell_type": "code",
   "execution_count": 10,
   "id": "94dc64d8-5379-4496-a896-bf4f759dc2fd",
   "metadata": {},
   "outputs": [],
   "source": [
    "# Dataset and Dataloader\n",
    "train_dataset = TensorDataset(torch.from_numpy(train_X).to(device),\n",
    "                              torch.from_numpy(train_y).to(device))\n",
    "validation_dataset = TensorDataset(torch.from_numpy(validation_X).to(device),\n",
    "                                   torch.from_numpy(validation_y).to(device))\n",
    "batch_size = 32\n",
    "\n",
    "train_dataloader = DataLoader(train_dataset, batch_size=batch_size, shuffle=True)\n",
    "validation_dataloader = DataLoader(validation_dataset, batch_size=batch_size, shuffle=True)"
   ]
  },
  {
   "cell_type": "code",
   "execution_count": 11,
   "id": "d7fedcde-0941-4057-9403-e0710233ca38",
   "metadata": {},
   "outputs": [
    {
     "name": "stdout",
     "output_type": "stream",
     "text": [
      "Example Input size: torch.Size([32, 512])\n",
      "Example Input:\n",
      " tensor([[   10,  2642,    71,  ...,     1,    61,    41],\n",
      "        [    0,     0,     0,  ...,   591,     4,   467],\n",
      "        [    0,     0,     0,  ...,     5,    10,    17],\n",
      "        ...,\n",
      "        [    0,     0,     0,  ...,     4, 11166,   118],\n",
      "        [    0,     0,     0,  ...,    31,    17,  1766],\n",
      "        [    0,     0,     0,  ...,    14,    33,   511]])\n",
      "\n",
      "Example Output size: torch.Size([32])\n",
      "Example Output:\n",
      " tensor([1., 0., 1., 1., 1., 0., 1., 1., 1., 1., 0., 1., 0., 0., 1., 1., 0., 1.,\n",
      "        0., 1., 0., 1., 1., 1., 0., 0., 1., 0., 1., 1., 1., 0.])\n"
     ]
    }
   ],
   "source": [
    "# get a batch of data\n",
    "train_data_iter = iter(train_dataloader)\n",
    "X_example, y_example = next(train_data_iter)\n",
    "print(f\"Example Input size: {X_example.size()}\")\n",
    "print(f\"Example Input:\\n {X_example}\")\n",
    "print()\n",
    "print(f\"Example Output size: {y_example.size()}\")\n",
    "print(f\"Example Output:\\n {y_example}\")"
   ]
  },
  {
   "cell_type": "code",
   "execution_count": 12,
   "id": "daccc28d-9091-4b2d-9631-125f886beb95",
   "metadata": {},
   "outputs": [],
   "source": [
    "# Define the model\n",
    "class RNN(nn.Module):\n",
    "    def __init__(self, input_dimension, embedding_dimension, \n",
    "                 hidden_dimension, output_dimension):\n",
    "        super().__init__()\n",
    "        self.embeddinglayer = nn.Embedding(input_dimension, embedding_dimension)\n",
    "        self.rnn_layer = nn.RNN(embedding_dimension, hidden_dimension, num_layers=1)\n",
    "        self.fc_layer = nn.Linear(hidden_dimension, output_dimension)\n",
    "    def forward(self, sequence):\n",
    "        embedding = self.embeddinglayer(sequence)\n",
    "        output, hidden_state = self.rnn_layer(embedding)\n",
    "        final_output = self.fc_layer(\n",
    "            hidden_state[-1,:,:].squeeze(0))\n",
    "        return final_output"
   ]
  },
  {
   "cell_type": "code",
   "execution_count": 13,
   "id": "d3cb248f-b7bd-4e44-a80d-ff366f88e058",
   "metadata": {},
   "outputs": [],
   "source": [
    "input_dimension = len(vocab_to_token)+1\n",
    "embedding_dimension = 100\n",
    "hidden_dimension = 32\n",
    "output_dimension = 1\n",
    "rnn_model = RNN(input_dimension, embedding_dimension,\n",
    "                hidden_dimension, output_dimension)\n",
    "optim = optim.Adam(rnn_model.parameters())\n",
    "loss_func = nn.BCEWithLogitsLoss()\n",
    "rnn_model = rnn_model.to(device)\n",
    "loss_func = loss_func.to(device)"
   ]
  },
  {
   "cell_type": "code",
   "execution_count": 14,
   "id": "958bdd33-5025-4459-8b5e-b1c2a2d8961a",
   "metadata": {},
   "outputs": [],
   "source": [
    "def accuracy_metric(predictions, ground_truth):\n",
    "    rounded_predictions = torch.round(torch.sigmoid(predictions))\n",
    "    success = (rounded_predictions == ground_truth).float()\n",
    "    accuracy = success.sum() / len(success)\n",
    "    return accuracy"
   ]
  },
  {
   "cell_type": "code",
   "execution_count": 15,
   "id": "2b4d46f4-357a-4366-8832-365d2f73942c",
   "metadata": {},
   "outputs": [],
   "source": [
    "def train(model, dataloader, optim, loss_func):\n",
    "    loss = 0\n",
    "    accuracy = 0\n",
    "    model.train()\n",
    "    for sequence, sentiment in dataloader:\n",
    "        optim.zero_grad()\n",
    "        preds = model(sequence.T).squeeze()\n",
    "        loss_curr = loss_func(preds, sentiment)\n",
    "        accuracy_curr = accuracy_metric(preds, sentiment)\n",
    "        loss_curr.backward()\n",
    "        optim.step()\n",
    "        loss += loss_curr.item()\n",
    "        accuracy += accuracy_curr.item()\n",
    "    return loss/len(dataloader), accuracy/len(dataloader)"
   ]
  },
  {
   "cell_type": "code",
   "execution_count": 16,
   "id": "f977da82-d37c-47d4-b4d3-28ad6d0193b5",
   "metadata": {},
   "outputs": [],
   "source": [
    "def validate(model, dataloader, loss_func):\n",
    "    loss = 0\n",
    "    accuracy = 0\n",
    "    model.eval()\n",
    "    with torch.no_grad():\n",
    "        for sequence, sentiment in dataloader:\n",
    "            preds = model(sequence.T).squeeze()\n",
    "            loss_curr = loss_func(preds, sentiment)\n",
    "            accuracy_curr = accuracy_metric(preds, sentiment)\n",
    "            loss += loss_curr.item()\n",
    "            accuracy += accuracy_curr.item()\n",
    "    return loss/len(dataloader), accuracy/len(dataloader)"
   ]
  },
  {
   "cell_type": "code",
   "execution_count": 17,
   "id": "23f0fc9d-a92f-4b45-989f-8f1151d3512a",
   "metadata": {
    "scrolled": true
   },
   "outputs": [
    {
     "name": "stdout",
     "output_type": "stream",
     "text": [
      "epoch number: 1 | time elapsed: 19.28411316871643s\n",
      "training loss: 0.622 | training accuracy: 66.83%\n",
      "validation loss: 0.960 | validation accuracy: 29.78%\n",
      "epoch number: 2 | time elapsed: 19.10397982597351s\n",
      "training loss: 0.593 | training accuracy: 68.82%\n",
      "validation loss: 1.200 | validation accuracy: 22.58%\n",
      "epoch number: 3 | time elapsed: 18.84195566177368s\n",
      "training loss: 0.530 | training accuracy: 73.96%\n",
      "validation loss: 0.933 | validation accuracy: 45.59%\n",
      "epoch number: 4 | time elapsed: 18.83017873764038s\n",
      "training loss: 0.442 | training accuracy: 79.93%\n",
      "validation loss: 0.948 | validation accuracy: 52.62%\n",
      "epoch number: 5 | time elapsed: 18.940852880477905s\n",
      "training loss: 0.360 | training accuracy: 84.71%\n",
      "validation loss: 0.951 | validation accuracy: 58.42%\n",
      "epoch number: 6 | time elapsed: 18.95192790031433s\n",
      "training loss: 0.337 | training accuracy: 85.97%\n",
      "validation loss: 0.787 | validation accuracy: 65.64%\n",
      "epoch number: 7 | time elapsed: 18.920658349990845s\n",
      "training loss: 0.266 | training accuracy: 89.78%\n",
      "validation loss: 0.988 | validation accuracy: 59.23%\n",
      "epoch number: 8 | time elapsed: 18.902993202209473s\n",
      "training loss: 0.215 | training accuracy: 92.22%\n",
      "validation loss: 1.123 | validation accuracy: 57.50%\n",
      "epoch number: 9 | time elapsed: 18.786091089248657s\n",
      "training loss: 0.201 | training accuracy: 92.77%\n",
      "validation loss: 1.020 | validation accuracy: 65.25%\n",
      "epoch number: 10 | time elapsed: 18.817668914794922s\n",
      "training loss: 0.181 | training accuracy: 93.24%\n",
      "validation loss: 1.062 | validation accuracy: 64.95%\n"
     ]
    }
   ],
   "source": [
    "num_epochs = 10\n",
    "best_validation_loss = float('inf')\n",
    "for ep in range(num_epochs):\n",
    "    time_start = time.time()\n",
    "    training_loss, train_accuracy = train(rnn_model, \n",
    "                                          train_dataloader,\n",
    "                                         optim, loss_func)\n",
    "    validation_loss, validation_accuracy = validate(rnn_model,\n",
    "                                                   validation_dataloader,\n",
    "                                                   loss_func)\n",
    "    time_end = time.time()\n",
    "    time_delta = time_end - time_start\n",
    "    if validation_loss < best_validation_loss:\n",
    "        best_validation_loss = validation_loss\n",
    "        torch.save(rnn_model.state_dict(), 'rnn_model.pt')\n",
    "    print(f'epoch number: {ep+1} | time elapsed: {time_delta}s')\n",
    "    print(f'training loss: {training_loss:.3f} | training accuracy: {train_accuracy*100:.2f}%')\n",
    "    print(f'validation loss: {validation_loss:.3f} | validation accuracy: {validation_accuracy*100:.2f}%')"
   ]
  },
  {
   "cell_type": "code",
   "execution_count": 41,
   "id": "e170dc8b-b7e2-4781-b8ed-3baa2d573ef3",
   "metadata": {},
   "outputs": [
    {
     "name": "stdout",
     "output_type": "stream",
     "text": [
      "0.015297207981348038\n",
      "\n",
      "0.29891225695610046\n",
      "\n",
      "0.9813344478607178\n"
     ]
    }
   ],
   "source": [
    "# real time inference\n",
    "def sentiment_inference(model, sentence):\n",
    "    model.eval()\n",
    "    sentence = sentence.lower()\n",
    "    sentence = ''.join([c for c in sentence if c not in punctuation])\n",
    "    tokenized = [vocab_to_token.get(token, 0) for token in sentence.split()]\n",
    "    tokenized = np.pad(tokenized, (512-len(tokenized), 0), mode='constant')\n",
    "    model_input = torch.LongTensor(tokenized).to(device)\n",
    "    model_input = model_input.unsqueeze(1)\n",
    "    # Feed to model for predicition (Sigmoid because of Binary Classification)\n",
    "    pred = torch.sigmoid(model(model_input))\n",
    "    return pred.item()\n",
    "\n",
    "print(sentiment_inference(rnn_model, \"This film is horrible\"))\n",
    "print()\n",
    "print(sentiment_inference(rnn_model, \"Director tried really hard but the film wasn't good\"))\n",
    "print()\n",
    "print(sentiment_inference(rnn_model, \"The film was great. Loved it!\"))"
   ]
  },
  {
   "cell_type": "code",
   "execution_count": null,
   "id": "186dc331-c899-4aa2-95bf-4c3158524679",
   "metadata": {},
   "outputs": [],
   "source": []
  }
 ],
 "metadata": {
  "kernelspec": {
   "display_name": "Python 3 (ipykernel)",
   "language": "python",
   "name": "python3"
  },
  "language_info": {
   "codemirror_mode": {
    "name": "ipython",
    "version": 3
   },
   "file_extension": ".py",
   "mimetype": "text/x-python",
   "name": "python",
   "nbconvert_exporter": "python",
   "pygments_lexer": "ipython3",
   "version": "3.11.7"
  }
 },
 "nbformat": 4,
 "nbformat_minor": 5
}
